{
 "cells": [
  {
   "cell_type": "code",
   "execution_count": 1,
   "metadata": {},
   "outputs": [],
   "source": [
    "import pandas as pd\n",
    "import numpy as np\n",
    "import math\n",
    "from scipy.spatial.distance import euclidean\n",
    "\n",
    "import matplotlib\n",
    "import matplotlib.pyplot as plt\n",
    "%matplotlib inline"
   ]
  },
  {
   "cell_type": "code",
   "execution_count": 2,
   "metadata": {},
   "outputs": [],
   "source": [
    "from sklearn.model_selection import train_test_split\n",
    "from sklearn.model_selection import train_test_split\n",
    "from sklearn.metrics import roc_auc_score, precision_score, recall_score, accuracy_score\n",
    "from sklearn.model_selection import GridSearchCV\n",
    "from sklearn.metrics import roc_curve\n",
    "from sklearn.metrics.pairwise import cosine_similarity"
   ]
  },
  {
   "cell_type": "code",
   "execution_count": 3,
   "metadata": {},
   "outputs": [],
   "source": [
    "def perplexity_plot(model, score_name):\n",
    "    plt.plot(model.score_tracker[score_name].value)\n",
    "    plt.title('Dependence Perlexity of iteration')\n",
    "    plt.xlabel('number of iteration')\n",
    "    plt.ylabel('Perlexity Score')"
   ]
  },
  {
   "cell_type": "code",
   "execution_count": 4,
   "metadata": {},
   "outputs": [],
   "source": [
    "data = pd.read_csv('preprocessed_data_for_specificity_prediction.csv', index_col='id')"
   ]
  },
  {
   "cell_type": "code",
   "execution_count": 5,
   "metadata": {
    "scrolled": true
   },
   "outputs": [
    {
     "data": {
      "text/html": [
       "<div>\n",
       "<style scoped>\n",
       "    .dataframe tbody tr th:only-of-type {\n",
       "        vertical-align: middle;\n",
       "    }\n",
       "\n",
       "    .dataframe tbody tr th {\n",
       "        vertical-align: top;\n",
       "    }\n",
       "\n",
       "    .dataframe thead th {\n",
       "        text-align: right;\n",
       "    }\n",
       "</style>\n",
       "<table border=\"1\" class=\"dataframe\">\n",
       "  <thead>\n",
       "    <tr style=\"text-align: right;\">\n",
       "      <th></th>\n",
       "      <th>info</th>\n",
       "      <th>specificity</th>\n",
       "      <th>attainable</th>\n",
       "      <th>time_bound</th>\n",
       "      <th>goal</th>\n",
       "      <th>vw_text</th>\n",
       "      <th>vw_ngram</th>\n",
       "      <th>vw_ngram_info</th>\n",
       "      <th>vw_ngram_info_labels</th>\n",
       "    </tr>\n",
       "    <tr>\n",
       "      <th>id</th>\n",
       "      <th></th>\n",
       "      <th></th>\n",
       "      <th></th>\n",
       "      <th></th>\n",
       "      <th></th>\n",
       "      <th></th>\n",
       "      <th></th>\n",
       "      <th></th>\n",
       "      <th></th>\n",
       "    </tr>\n",
       "  </thead>\n",
       "  <tbody>\n",
       "    <tr>\n",
       "      <th>0</th>\n",
       "      <td>&amp;РЕЗУЛЬТАТ_Да,_четко &amp;ПЕРВЫЙ_ШАГ_Не_знаю,_с_че...</td>\n",
       "      <td>0</td>\n",
       "      <td>1</td>\n",
       "      <td>0</td>\n",
       "      <td>Развитие профессиональных навыков</td>\n",
       "      <td>0 |@unigram развитие:1 профессиональный:1 навы...</td>\n",
       "      <td>0 |@ngram развитие:1 профессиональный:1 навык:...</td>\n",
       "      <td>0 |@ngram развитие:1 профессиональный:1 навык:...</td>\n",
       "      <td>0 |@ngram развитие:1 профессиональный:1 навык:...</td>\n",
       "    </tr>\n",
       "    <tr>\n",
       "      <th>1</th>\n",
       "      <td>&amp;РЕЗУЛЬТАТ_Да,_четко &amp;ТИП_ЦЕЛИ_Получить_знания...</td>\n",
       "      <td>1</td>\n",
       "      <td>1</td>\n",
       "      <td>1</td>\n",
       "      <td>Хочу стать выпускником президентской программы</td>\n",
       "      <td>1 |@unigram хотеть:1 стать:1 выпускник:1 прези...</td>\n",
       "      <td>1 |@ngram хотеть:1 стать:1 выпускник:1 президе...</td>\n",
       "      <td>1 |@ngram хотеть:1 стать:1 выпускник:1 президе...</td>\n",
       "      <td>1 |@ngram хотеть:1 стать:1 выпускник:1 президе...</td>\n",
       "    </tr>\n",
       "    <tr>\n",
       "      <th>2</th>\n",
       "      <td>&amp;РЕЗУЛЬТАТ_Да,_четко &amp;ТИП_ЦЕЛИ_Получить_знания...</td>\n",
       "      <td>0</td>\n",
       "      <td>1</td>\n",
       "      <td>0</td>\n",
       "      <td>приобретение новых знаний</td>\n",
       "      <td>2 |@unigram приобретение:1 новый:1 знание:1</td>\n",
       "      <td>2 |@ngram приобретение:1 новый:1 знание:1 прио...</td>\n",
       "      <td>2 |@ngram приобретение:1 новый:1 знание:1 прио...</td>\n",
       "      <td>2 |@ngram приобретение:1 новый:1 знание:1 прио...</td>\n",
       "    </tr>\n",
       "    <tr>\n",
       "      <th>4</th>\n",
       "      <td>&amp;РЕЗУЛЬТАТ_Да,_четко &amp;ТИП_ЦЕЛИ_Получить_знания...</td>\n",
       "      <td>0</td>\n",
       "      <td>0</td>\n",
       "      <td>0</td>\n",
       "      <td>мне хочется узнать о мире как можно больше за ...</td>\n",
       "      <td>4 |@unigram хотеться:1 узнать:1 мир:1 большой:...</td>\n",
       "      <td>4 |@ngram хотеться:1 узнать:1 мир:1 большой:1 ...</td>\n",
       "      <td>4 |@ngram хотеться:1 узнать:1 мир:1 большой:1 ...</td>\n",
       "      <td>4 |@ngram хотеться:1 узнать:1 мир:1 большой:1 ...</td>\n",
       "    </tr>\n",
       "    <tr>\n",
       "      <th>5</th>\n",
       "      <td>&amp;РЕЗУЛЬТАТ_Да,_четко &amp;ТИП_ЦЕЛИ_Получить_знания...</td>\n",
       "      <td>0</td>\n",
       "      <td>1</td>\n",
       "      <td>0</td>\n",
       "      <td>Получение новых знаний</td>\n",
       "      <td>5 |@unigram получение:1 новый:1 знание:1</td>\n",
       "      <td>5 |@ngram получение:1 новый:1 знание:1 получен...</td>\n",
       "      <td>5 |@ngram получение:1 новый:1 знание:1 получен...</td>\n",
       "      <td>5 |@ngram получение:1 новый:1 знание:1 получен...</td>\n",
       "    </tr>\n",
       "    <tr>\n",
       "      <th>...</th>\n",
       "      <td>...</td>\n",
       "      <td>...</td>\n",
       "      <td>...</td>\n",
       "      <td>...</td>\n",
       "      <td>...</td>\n",
       "      <td>...</td>\n",
       "      <td>...</td>\n",
       "      <td>...</td>\n",
       "      <td>...</td>\n",
       "    </tr>\n",
       "    <tr>\n",
       "      <th>5995</th>\n",
       "      <td>&amp;РЕЗУЛЬТАТ_Да,_четко &amp;ТИП_ЦЕЛИ_Получить_знания...</td>\n",
       "      <td>0</td>\n",
       "      <td>0</td>\n",
       "      <td>0</td>\n",
       "      <td>Постоянный личностный рост</td>\n",
       "      <td>5995 |@unigram постоянный:1 личностный:1 рост:1</td>\n",
       "      <td>5995 |@ngram постоянный:1 личностный:1 рост:1 ...</td>\n",
       "      <td>5995 |@ngram постоянный:1 личностный:1 рост:1 ...</td>\n",
       "      <td>5995 |@ngram постоянный:1 личностный:1 рост:1 ...</td>\n",
       "    </tr>\n",
       "    <tr>\n",
       "      <th>5996</th>\n",
       "      <td>&amp;РЕЗУЛЬТАТ_Да,_нечетко &amp;ТИП_ЦЕЛИ_Получить_знан...</td>\n",
       "      <td>0</td>\n",
       "      <td>1</td>\n",
       "      <td>0</td>\n",
       "      <td>накопление компетенций</td>\n",
       "      <td>5996 |@unigram накопление:1 компетенция:1</td>\n",
       "      <td>5996 |@ngram накопление:1 компетенция:1</td>\n",
       "      <td>5996 |@ngram накопление:1 компетенция:1  |@inf...</td>\n",
       "      <td>5996 |@ngram накопление:1 компетенция:1  |@inf...</td>\n",
       "    </tr>\n",
       "    <tr>\n",
       "      <th>5997</th>\n",
       "      <td>&amp;РЕЗУЛЬТАТ_Да,_нечетко &amp;ТИП_ЦЕЛИ_Получить_знан...</td>\n",
       "      <td>1</td>\n",
       "      <td>0</td>\n",
       "      <td>0</td>\n",
       "      <td>Разобраться в современных технологиях в образо...</td>\n",
       "      <td>5997 |@unigram разобраться:1 современный:1 тех...</td>\n",
       "      <td>5997 |@ngram разобраться:1 современный:1 техно...</td>\n",
       "      <td>5997 |@ngram разобраться:1 современный:1 техно...</td>\n",
       "      <td>5997 |@ngram разобраться:1 современный:1 техно...</td>\n",
       "    </tr>\n",
       "    <tr>\n",
       "      <th>5998</th>\n",
       "      <td>&amp;РЕЗУЛЬТАТ_Да,_четко &amp;ТИП_ЦЕЛИ_Получить_знания...</td>\n",
       "      <td>0</td>\n",
       "      <td>1</td>\n",
       "      <td>0</td>\n",
       "      <td>Впоследствии повысить качество образования сво...</td>\n",
       "      <td>5998 |@unigram впоследствии:1 повысить:1 качес...</td>\n",
       "      <td>5998 |@ngram впоследствии:1 повысить:1 качеств...</td>\n",
       "      <td>5998 |@ngram впоследствии:1 повысить:1 качеств...</td>\n",
       "      <td>5998 |@ngram впоследствии:1 повысить:1 качеств...</td>\n",
       "    </tr>\n",
       "    <tr>\n",
       "      <th>5999</th>\n",
       "      <td>&amp;РЕЗУЛЬТАТ_Да,_четко &amp;ТИП_ЦЕЛИ_Изменить_привыч...</td>\n",
       "      <td>0</td>\n",
       "      <td>0</td>\n",
       "      <td>0</td>\n",
       "      <td>создание комфорта для дальнейшей работы</td>\n",
       "      <td>5999 |@unigram создание:1 комфорт:1 дальнейший...</td>\n",
       "      <td>5999 |@ngram создание:1 комфорт:1 дальнейший:1...</td>\n",
       "      <td>5999 |@ngram создание:1 комфорт:1 дальнейший:1...</td>\n",
       "      <td>5999 |@ngram создание:1 комфорт:1 дальнейший:1...</td>\n",
       "    </tr>\n",
       "  </tbody>\n",
       "</table>\n",
       "<p>4955 rows × 9 columns</p>\n",
       "</div>"
      ],
      "text/plain": [
       "                                                   info  specificity  \\\n",
       "id                                                                     \n",
       "0     &РЕЗУЛЬТАТ_Да,_четко &ПЕРВЫЙ_ШАГ_Не_знаю,_с_че...            0   \n",
       "1     &РЕЗУЛЬТАТ_Да,_четко &ТИП_ЦЕЛИ_Получить_знания...            1   \n",
       "2     &РЕЗУЛЬТАТ_Да,_четко &ТИП_ЦЕЛИ_Получить_знания...            0   \n",
       "4     &РЕЗУЛЬТАТ_Да,_четко &ТИП_ЦЕЛИ_Получить_знания...            0   \n",
       "5     &РЕЗУЛЬТАТ_Да,_четко &ТИП_ЦЕЛИ_Получить_знания...            0   \n",
       "...                                                 ...          ...   \n",
       "5995  &РЕЗУЛЬТАТ_Да,_четко &ТИП_ЦЕЛИ_Получить_знания...            0   \n",
       "5996  &РЕЗУЛЬТАТ_Да,_нечетко &ТИП_ЦЕЛИ_Получить_знан...            0   \n",
       "5997  &РЕЗУЛЬТАТ_Да,_нечетко &ТИП_ЦЕЛИ_Получить_знан...            1   \n",
       "5998  &РЕЗУЛЬТАТ_Да,_четко &ТИП_ЦЕЛИ_Получить_знания...            0   \n",
       "5999  &РЕЗУЛЬТАТ_Да,_четко &ТИП_ЦЕЛИ_Изменить_привыч...            0   \n",
       "\n",
       "      attainable  time_bound  \\\n",
       "id                             \n",
       "0              1           0   \n",
       "1              1           1   \n",
       "2              1           0   \n",
       "4              0           0   \n",
       "5              1           0   \n",
       "...          ...         ...   \n",
       "5995           0           0   \n",
       "5996           1           0   \n",
       "5997           0           0   \n",
       "5998           1           0   \n",
       "5999           0           0   \n",
       "\n",
       "                                                   goal  \\\n",
       "id                                                        \n",
       "0                     Развитие профессиональных навыков   \n",
       "1        Хочу стать выпускником президентской программы   \n",
       "2                             приобретение новых знаний   \n",
       "4     мне хочется узнать о мире как можно больше за ...   \n",
       "5                                Получение новых знаний   \n",
       "...                                                 ...   \n",
       "5995                         Постоянный личностный рост   \n",
       "5996                             накопление компетенций   \n",
       "5997  Разобраться в современных технологиях в образо...   \n",
       "5998  Впоследствии повысить качество образования сво...   \n",
       "5999            создание комфорта для дальнейшей работы   \n",
       "\n",
       "                                                vw_text  \\\n",
       "id                                                        \n",
       "0     0 |@unigram развитие:1 профессиональный:1 навы...   \n",
       "1     1 |@unigram хотеть:1 стать:1 выпускник:1 прези...   \n",
       "2          2 |@unigram приобретение:1 новый:1 знание:1    \n",
       "4     4 |@unigram хотеться:1 узнать:1 мир:1 большой:...   \n",
       "5             5 |@unigram получение:1 новый:1 знание:1    \n",
       "...                                                 ...   \n",
       "5995   5995 |@unigram постоянный:1 личностный:1 рост:1    \n",
       "5996         5996 |@unigram накопление:1 компетенция:1    \n",
       "5997  5997 |@unigram разобраться:1 современный:1 тех...   \n",
       "5998  5998 |@unigram впоследствии:1 повысить:1 качес...   \n",
       "5999  5999 |@unigram создание:1 комфорт:1 дальнейший...   \n",
       "\n",
       "                                               vw_ngram  \\\n",
       "id                                                        \n",
       "0     0 |@ngram развитие:1 профессиональный:1 навык:...   \n",
       "1     1 |@ngram хотеть:1 стать:1 выпускник:1 президе...   \n",
       "2     2 |@ngram приобретение:1 новый:1 знание:1 прио...   \n",
       "4     4 |@ngram хотеться:1 узнать:1 мир:1 большой:1 ...   \n",
       "5     5 |@ngram получение:1 новый:1 знание:1 получен...   \n",
       "...                                                 ...   \n",
       "5995  5995 |@ngram постоянный:1 личностный:1 рост:1 ...   \n",
       "5996           5996 |@ngram накопление:1 компетенция:1    \n",
       "5997  5997 |@ngram разобраться:1 современный:1 техно...   \n",
       "5998  5998 |@ngram впоследствии:1 повысить:1 качеств...   \n",
       "5999  5999 |@ngram создание:1 комфорт:1 дальнейший:1...   \n",
       "\n",
       "                                          vw_ngram_info  \\\n",
       "id                                                        \n",
       "0     0 |@ngram развитие:1 профессиональный:1 навык:...   \n",
       "1     1 |@ngram хотеть:1 стать:1 выпускник:1 президе...   \n",
       "2     2 |@ngram приобретение:1 новый:1 знание:1 прио...   \n",
       "4     4 |@ngram хотеться:1 узнать:1 мир:1 большой:1 ...   \n",
       "5     5 |@ngram получение:1 новый:1 знание:1 получен...   \n",
       "...                                                 ...   \n",
       "5995  5995 |@ngram постоянный:1 личностный:1 рост:1 ...   \n",
       "5996  5996 |@ngram накопление:1 компетенция:1  |@inf...   \n",
       "5997  5997 |@ngram разобраться:1 современный:1 техно...   \n",
       "5998  5998 |@ngram впоследствии:1 повысить:1 качеств...   \n",
       "5999  5999 |@ngram создание:1 комфорт:1 дальнейший:1...   \n",
       "\n",
       "                                   vw_ngram_info_labels  \n",
       "id                                                       \n",
       "0     0 |@ngram развитие:1 профессиональный:1 навык:...  \n",
       "1     1 |@ngram хотеть:1 стать:1 выпускник:1 президе...  \n",
       "2     2 |@ngram приобретение:1 новый:1 знание:1 прио...  \n",
       "4     4 |@ngram хотеться:1 узнать:1 мир:1 большой:1 ...  \n",
       "5     5 |@ngram получение:1 новый:1 знание:1 получен...  \n",
       "...                                                 ...  \n",
       "5995  5995 |@ngram постоянный:1 личностный:1 рост:1 ...  \n",
       "5996  5996 |@ngram накопление:1 компетенция:1  |@inf...  \n",
       "5997  5997 |@ngram разобраться:1 современный:1 техно...  \n",
       "5998  5998 |@ngram впоследствии:1 повысить:1 качеств...  \n",
       "5999  5999 |@ngram создание:1 комфорт:1 дальнейший:1...  \n",
       "\n",
       "[4955 rows x 9 columns]"
      ]
     },
     "execution_count": 5,
     "metadata": {},
     "output_type": "execute_result"
    }
   ],
   "source": [
    "data"
   ]
  },
  {
   "cell_type": "code",
   "execution_count": 6,
   "metadata": {},
   "outputs": [],
   "source": [
    "titles = [goal.split()[0] for goal in data['vw_ngram_info_labels']]"
   ]
  },
  {
   "cell_type": "code",
   "execution_count": 7,
   "metadata": {},
   "outputs": [],
   "source": [
    "X_train, X_test, y_train, y_test = train_test_split(data['vw_ngram_info_labels'], data['specificity'],\n",
    "                                                    test_size=0.3, random_state=42,\n",
    "                                                    stratify=data['specificity'])\n",
    "\n",
    "X_train = X_train.sort_index()\n",
    "X_test = X_test.sort_index()\n",
    "y_train = y_train.sort_index()\n",
    "y_test = y_test.sort_index()"
   ]
  },
  {
   "cell_type": "code",
   "execution_count": 8,
   "metadata": {},
   "outputs": [],
   "source": [
    "train_d0_indices = []\n",
    "train_d1_indices = []\n",
    "for index in X_train.index:\n",
    "    if data['specificity'].loc[index] == 0:\n",
    "        train_d0_indices.append(index)\n",
    "    else:\n",
    "        train_d1_indices.append(index)\n",
    "        \n",
    "test_d0_indices = []\n",
    "test_d1_indices = []\n",
    "for index in X_test.index:\n",
    "    if data['specificity'].loc[index] == 0:\n",
    "        test_d0_indices.append(index)\n",
    "    else:\n",
    "        test_d1_indices.append(index)"
   ]
  },
  {
   "cell_type": "code",
   "execution_count": 9,
   "metadata": {},
   "outputs": [],
   "source": [
    "vw_file_train_total = open('vw_documents_train_total.txt', 'w')\n",
    "vw_file_test_total = open('vw_documents_test_total.txt', 'w')\n",
    "\n",
    "for index, goal in X_train.iteritems():\n",
    "    vw_file_train_total.write(goal+'\\n')\n",
    "    \n",
    "for index, goal in X_test.iteritems():\n",
    "    vw_file_test_total.write(goal[:goal.find(' |@specificity')]+'\\n')\n",
    "\n",
    "vw_file_train_total.close()\n",
    "vw_file_test_total.close()"
   ]
  },
  {
   "cell_type": "code",
   "execution_count": 10,
   "metadata": {},
   "outputs": [],
   "source": [
    "vw_file_train_d0 = open('vw_documents_train_d0.txt', 'w')\n",
    "vw_file_train_d1 = open('vw_documents_train_d1.txt', 'w')\n",
    "vw_file_test_d0 = open('vw_documents_test_d0.txt', 'w')\n",
    "vw_file_test_d1 = open('vw_documents_test_d1.txt', 'w')\n",
    "\n",
    "for index, goal in data.iterrows():\n",
    "    if index in train_d0_indices:\n",
    "        vw_file_train_d0.write(goal['vw_ngram_info_labels']+'\\n')\n",
    "    elif index in train_d1_indices:\n",
    "        vw_file_train_d1.write(goal['vw_ngram_info_labels']+'\\n')\n",
    "    elif index in test_d0_indices:\n",
    "        vw_file_test_d0.write(goal['vw_ngram_info']+'\\n')\n",
    "    else:\n",
    "        vw_file_test_d1.write(goal['vw_ngram_info']+'\\n')\n",
    "        \n",
    "vw_file_train_d0.close()\n",
    "vw_file_train_d1.close()\n",
    "vw_file_test_d0.close()\n",
    "vw_file_test_d1.close()"
   ]
  },
  {
   "cell_type": "code",
   "execution_count": 11,
   "metadata": {},
   "outputs": [],
   "source": [
    "import artm\n",
    "\n",
    "import topicnet\n",
    "from topicnet.cooking_machine.models import TopicModel\n",
    "from topicnet.viewers import TopTokensViewer\n",
    "from topicnet.viewers import TopDocumentsViewer\n",
    "from topicnet.cooking_machine.dataset import Dataset"
   ]
  },
  {
   "cell_type": "code",
   "execution_count": 12,
   "metadata": {},
   "outputs": [],
   "source": [
    "train_total_batch_vectorizer=artm.BatchVectorizer(data_path='vw_documents_train_total.txt',\n",
    "                                                  data_format='vowpal_wabbit',\n",
    "                                                  batch_size = 10000,\n",
    "                                                  target_folder='./train_total_batches')\n",
    "\n",
    "train_total_dictionary = train_total_batch_vectorizer.dictionary"
   ]
  },
  {
   "cell_type": "code",
   "execution_count": 13,
   "metadata": {},
   "outputs": [],
   "source": [
    "train_d0_batch_vectorizer = artm.BatchVectorizer(data_path='vw_documents_train_d0.txt',\n",
    "                                                 data_format='vowpal_wabbit',\n",
    "                                                 batch_size = 10000,\n",
    "                                                 target_folder='./train_d0_batches')\n",
    "\n",
    "train_d0_dictionary = train_d0_batch_vectorizer.dictionary"
   ]
  },
  {
   "cell_type": "code",
   "execution_count": 14,
   "metadata": {},
   "outputs": [],
   "source": [
    "train_d1_batch_vectorizer = artm.BatchVectorizer(data_path='vw_documents_train_d1.txt',\n",
    "                                                 data_format='vowpal_wabbit',\n",
    "                                                 batch_size = 10000,\n",
    "                                                 target_folder='./train_d1_batches')\n",
    "\n",
    "train_d1_dictionary = train_d1_batch_vectorizer.dictionary"
   ]
  },
  {
   "cell_type": "markdown",
   "metadata": {},
   "source": [
    "Сначала соберем соберем необходимые словари"
   ]
  },
  {
   "cell_type": "code",
   "execution_count": 15,
   "metadata": {},
   "outputs": [],
   "source": [
    "train_total_dictionary.save_text('train_total_dictionary.txt')\n",
    "train_d1_dictionary.save_text('train_d1_dictionary.txt')\n",
    "train_d0_dictionary.save_text('train_d0_dictionary.txt')\n",
    "\n",
    "file_train_total_dictionary = open('train_total_dictionary.txt', 'r')\n",
    "train_total_dict_ngram = []\n",
    "train_total_dict_info = []\n",
    "for line in file_train_total_dictionary.readlines():\n",
    "    if '@ngram' in line.split(', '):\n",
    "        train_total_dict_ngram.append(line.split(', ')[0])\n",
    "    elif '@info' in line.split(', '):\n",
    "        train_total_dict_info.append(line.split(', ')[0])\n",
    "file_train_total_dictionary.close()\n",
    "\n",
    "file_train_d1_dictionary = open('train_d1_dictionary.txt', 'r')\n",
    "train_d1_dict_ngram = []\n",
    "train_d1_dict_info = []\n",
    "for line in file_train_d1_dictionary.readlines():\n",
    "    if '@ngram' in line.split(', '):\n",
    "        train_d1_dict_ngram.append(line.split(', ')[0])\n",
    "    elif '@info' in line.split(', '):\n",
    "        train_d1_dict_info.append(line.split(', ')[0])\n",
    "file_train_d1_dictionary.close()\n",
    "\n",
    "file_train_d0_dictionary = open('train_d0_dictionary.txt', 'r')\n",
    "train_d0_dict_ngram = []\n",
    "train_d0_dict_info = []\n",
    "for line in file_train_d0_dictionary.readlines():\n",
    "    if '@ngram' in line.split(', '):\n",
    "        train_d0_dict_ngram.append(line.split(', ')[0])\n",
    "    elif '@info' in line.split(', '):\n",
    "        train_d0_dict_info.append(line.split(', ')[0])\n",
    "file_train_d0_dictionary.close()\n",
    "\n",
    "train_total_without_d0_dict_ngram = list(set(train_total_dict_ngram)-set(train_d0_dict_ngram))\n",
    "train_total_without_d0_dict_info = list(set(train_total_dict_info)-set(train_d0_dict_info))\n",
    "train_total_without_d0_dict = train_total_without_d0_dict_ngram + train_total_without_d0_dict_info\n",
    "\n",
    "train_total_without_d1_dict_ngram = list(set(train_total_dict_ngram)-set(train_d1_dict_ngram))\n",
    "train_total_without_d1_dict_info = list(set(train_total_dict_info)-set(train_d1_dict_info))\n",
    "train_total_without_d1_dict = train_total_without_d1_dict_ngram + train_total_without_d1_dict_info"
   ]
  },
  {
   "cell_type": "code",
   "execution_count": 16,
   "metadata": {},
   "outputs": [],
   "source": [
    "file = open('dictionary_train_total_without_d1.txt', 'w')\n",
    "for token in train_total_without_d1_dict:\n",
    "    file.write(token + '\\n')\n",
    "file.close()\n",
    "\n",
    "dictionary_train_total_without_d1 = artm.Dictionary()\n",
    "dictionary_train_total_without_d1.gather(data_path='./train_total_batches',\n",
    "                                         vocab_file_path='dictionary_train_total_without_d1.txt')"
   ]
  },
  {
   "cell_type": "code",
   "execution_count": 17,
   "metadata": {},
   "outputs": [],
   "source": [
    "train_total_vocabulary = train_d0_dict_ngram + train_total_without_d0_dict_ngram + train_d0_dict_info + train_total_without_d0_dict_info + ['0', '1']\n",
    "vocab_file = open('train_total_vocabulary.txt', 'w')\n",
    "for token in train_total_vocabulary:\n",
    "    vocab_file.write(token + '\\n')\n",
    "vocab_file.close()\n",
    "\n",
    "train_total_dictionary = artm.Dictionary()\n",
    "train_total_dictionary.gather(data_path='./train_total_batches',\n",
    "                              vocab_file_path='./train_total_vocabulary')"
   ]
  },
  {
   "cell_type": "code",
   "execution_count": 18,
   "metadata": {},
   "outputs": [],
   "source": [
    "dataset = Dataset('preprocessed_data_for_TopicNet.csv')"
   ]
  },
  {
   "cell_type": "markdown",
   "metadata": {},
   "source": [
    "## ПОДБИРАЕМ ПО СЕТКЕ ПАРАМЕТРЫ МОДЕЛИ"
   ]
  },
  {
   "cell_type": "markdown",
   "metadata": {},
   "source": [
    "Попробую инициализировать Ф00 случайными числами."
   ]
  },
  {
   "cell_type": "code",
   "execution_count": 19,
   "metadata": {},
   "outputs": [],
   "source": [
    "num_not_sp = 3\n",
    "num_sp = 6\n",
    "\n",
    "not_specific_topics = ['topic_{}'.format(i) for i in range(num_not_sp)]\n",
    "specific_topics = ['topic_{}'.format(i+num_not_sp) for i in range(num_sp)]\n",
    "topic_names = not_specific_topics + specific_topics\n",
    "\n",
    "raw_model = artm.ARTM(num_topics=len(topic_names),\n",
    "                  num_processors=7,\n",
    "                  show_progress_bars=True,\n",
    "                  class_ids={'@ngram':10,\n",
    "                             '@info':1,\n",
    "                             '@specificity':90},\n",
    "                  cache_theta=True,\n",
    "                  dictionary=train_total_dictionary)"
   ]
  },
  {
   "cell_type": "code",
   "execution_count": 20,
   "metadata": {},
   "outputs": [],
   "source": [
    "raw_model.save('raw_model')"
   ]
  },
  {
   "cell_type": "code",
   "execution_count": 21,
   "metadata": {},
   "outputs": [],
   "source": [
    "np.random.seed(77)\n",
    "\n",
    "#для @ngram\n",
    "phi_00 = pd.DataFrame(data=np.random.uniform(0, 0.1, size=(len(train_d0_dict_ngram), len(not_specific_topics))),\n",
    "                      index=train_d0_dict_ngram,\n",
    "                      columns=not_specific_topics)\n",
    "phi_10 = pd.DataFrame(data=np.zeros((len(train_total_without_d0_dict_ngram), phi_00.columns.shape[0])),\n",
    "                      index=train_total_without_d0_dict_ngram,\n",
    "                      columns=phi_00.columns)\n",
    "phi_01 = pd.DataFrame(data=np.random.uniform(0, 0.01, size=(phi_00.index.shape[0], len(specific_topics))),\n",
    "                      index=phi_00.index,\n",
    "                      columns=specific_topics)\n",
    "phi_11 = pd.DataFrame(data=np.random.uniform(0, 1, size=(phi_10.index.shape[0], len(specific_topics))),\n",
    "                      index=phi_10.index,\n",
    "                      columns=specific_topics)\n",
    "phi_0 = phi_00.append(phi_10)\n",
    "phi_1 = phi_01.append(phi_11)\n",
    "for column in phi_0.columns:\n",
    "    phi_0[column] = phi_0[column].apply(lambda item: item/phi_0[column].sum())\n",
    "for column in phi_1.columns:\n",
    "    phi_1[column] = phi_1[column].apply(lambda item: item/phi_1[column].sum())\n",
    "phi_ngram = pd.concat([phi_00.append(phi_10), phi_1], axis=1)\n",
    "\n",
    "#для @info\n",
    "phi_00_info = pd.DataFrame(data=np.random.uniform(0, 0.1, size=(len(train_d0_dict_info), len(not_specific_topics))),\n",
    "                      index=train_d0_dict_info,\n",
    "                      columns=not_specific_topics)\n",
    "phi_10_info = pd.DataFrame(data=np.zeros((len(train_total_without_d0_dict_info), phi_00.columns.shape[0])),\n",
    "                           index=train_total_without_d0_dict_info,\n",
    "                           columns=phi_00.columns)\n",
    "phi_01_info = pd.DataFrame(data=np.random.uniform(0, 0.01, size=(phi_00_info.index.shape[0], len(specific_topics))),\n",
    "                           index=phi_00_info.index,\n",
    "                           columns=specific_topics)\n",
    "phi_11_info = pd.DataFrame(data=np.random.uniform(0, 1, size=(phi_10_info.index.shape[0], len(specific_topics))),\n",
    "                           index=phi_10_info.index,\n",
    "                           columns=specific_topics)\n",
    "phi_0_info = phi_00_info.append(phi_10_info)\n",
    "phi_1_info = phi_01_info.append(phi_11_info)\n",
    "for column in phi_0_info.columns:\n",
    "    phi_0_info[column] = phi_0_info[column].apply(lambda item: item/phi_0_info[column].sum())\n",
    "for column in phi_1_info.columns:\n",
    "    phi_1_info[column] = phi_1_info[column].apply(lambda item: item/phi_1_info[column].sum())\n",
    "phi_info = pd.concat([phi_00_info.append(phi_10_info), phi_1_info], axis=1)\n",
    "\n",
    "#для @specifisity\n",
    "c_00 = pd.DataFrame(data=np.ones((1, phi_00.columns.shape[0])),\n",
    "                      index=['0'],\n",
    "                      columns=phi_00.columns)\n",
    "c_10 = pd.DataFrame(data=np.zeros((1, phi_00.columns.shape[0])),\n",
    "                      index=['1'],\n",
    "                      columns=phi_00.columns)\n",
    "c_01 = pd.DataFrame(data=np.zeros((1, phi_01.columns.shape[0])),\n",
    "                      index=['0'],\n",
    "                      columns=phi_01.columns)\n",
    "c_11 = pd.DataFrame(data=np.ones((1, phi_01.columns.shape[0])),\n",
    "                      index=['1'],\n",
    "                      columns=phi_01.columns)\n",
    "\n",
    "phi_specifisity = pd.concat([c_00.append(c_10), c_01.append(c_11)], axis=1)\n",
    "new_phi = phi_ngram.append(phi_info).append(phi_specifisity)"
   ]
  },
  {
   "cell_type": "code",
   "execution_count": 22,
   "metadata": {},
   "outputs": [],
   "source": [
    "test_total_batch_vectorizer=artm.BatchVectorizer(data_path='vw_documents_test_total.txt',\n",
    "                                                 data_format='vowpal_wabbit',\n",
    "                                                 batch_size = 10000,\n",
    "                                                 target_folder='./test_total_batches')\n",
    "\n",
    "test_total_dictionary = test_total_batch_vectorizer.dictionary"
   ]
  },
  {
   "cell_type": "code",
   "execution_count": 23,
   "metadata": {},
   "outputs": [],
   "source": [
    "scores_name = ['tau_Smooth_Phi00_ngram', 'tau_Smooth_Phi00_info',\n",
    "               'tau_Smooth_Phi00_specificity', 'num_not_sp', 'num_sp',\n",
    "               'weight_ngram', 'weight_info', 'weight_specificity',\n",
    "               'roc_auc', 'precision', 'recall', 'accuracy']\n",
    "metrics = pd.DataFrame(columns=scores_name)"
   ]
  },
  {
   "cell_type": "code",
   "execution_count": 24,
   "metadata": {
    "scrolled": true
   },
   "outputs": [
    {
     "name": "stdout",
     "output_type": "stream",
     "text": [
      "0\n"
     ]
    },
    {
     "data": {
      "application/vnd.jupyter.widget-view+json": {
       "model_id": "499ba2eef82643c290c72d95304ba607",
       "version_major": 2,
       "version_minor": 0
      },
      "text/plain": [
       "HBox(children=(FloatProgress(value=0.0, description='Pass', max=20.0, style=ProgressStyle(description_width='i…"
      ]
     },
     "metadata": {},
     "output_type": "display_data"
    },
    {
     "data": {
      "application/vnd.jupyter.widget-view+json": {
       "model_id": "535657f341194131be99f7def58323eb",
       "version_major": 2,
       "version_minor": 0
      },
      "text/plain": [
       "HBox(children=(FloatProgress(value=0.0, description='Batch', max=1.0, style=ProgressStyle(description_width='i…"
      ]
     },
     "metadata": {},
     "output_type": "display_data"
    },
    {
     "data": {
      "application/vnd.jupyter.widget-view+json": {
       "model_id": "b16d216fe4924a58912bff16f132d070",
       "version_major": 2,
       "version_minor": 0
      },
      "text/plain": [
       "HBox(children=(FloatProgress(value=0.0, description='Batch', max=1.0, style=ProgressStyle(description_width='i…"
      ]
     },
     "metadata": {},
     "output_type": "display_data"
    },
    {
     "data": {
      "application/vnd.jupyter.widget-view+json": {
       "model_id": "c90c44c6ac1f4e4ab9ae25a0f21c7fe2",
       "version_major": 2,
       "version_minor": 0
      },
      "text/plain": [
       "HBox(children=(FloatProgress(value=0.0, description='Batch', max=1.0, style=ProgressStyle(description_width='i…"
      ]
     },
     "metadata": {},
     "output_type": "display_data"
    },
    {
     "data": {
      "application/vnd.jupyter.widget-view+json": {
       "model_id": "f1de3e99816a444b92e42175003c0157",
       "version_major": 2,
       "version_minor": 0
      },
      "text/plain": [
       "HBox(children=(FloatProgress(value=0.0, description='Batch', max=1.0, style=ProgressStyle(description_width='i…"
      ]
     },
     "metadata": {},
     "output_type": "display_data"
    },
    {
     "data": {
      "application/vnd.jupyter.widget-view+json": {
       "model_id": "004b19b1bdc04f539faad3da7c436115",
       "version_major": 2,
       "version_minor": 0
      },
      "text/plain": [
       "HBox(children=(FloatProgress(value=0.0, description='Batch', max=1.0, style=ProgressStyle(description_width='i…"
      ]
     },
     "metadata": {},
     "output_type": "display_data"
    },
    {
     "data": {
      "application/vnd.jupyter.widget-view+json": {
       "model_id": "1953794432444c7fb9e44dff04e0cd28",
       "version_major": 2,
       "version_minor": 0
      },
      "text/plain": [
       "HBox(children=(FloatProgress(value=0.0, description='Batch', max=1.0, style=ProgressStyle(description_width='i…"
      ]
     },
     "metadata": {},
     "output_type": "display_data"
    },
    {
     "data": {
      "application/vnd.jupyter.widget-view+json": {
       "model_id": "fa3e9cdf8c49404d8ae201bd8215d263",
       "version_major": 2,
       "version_minor": 0
      },
      "text/plain": [
       "HBox(children=(FloatProgress(value=0.0, description='Batch', max=1.0, style=ProgressStyle(description_width='i…"
      ]
     },
     "metadata": {},
     "output_type": "display_data"
    },
    {
     "data": {
      "application/vnd.jupyter.widget-view+json": {
       "model_id": "2abdd00fe28843c39ac943a2ab17ec52",
       "version_major": 2,
       "version_minor": 0
      },
      "text/plain": [
       "HBox(children=(FloatProgress(value=0.0, description='Batch', max=1.0, style=ProgressStyle(description_width='i…"
      ]
     },
     "metadata": {},
     "output_type": "display_data"
    },
    {
     "data": {
      "application/vnd.jupyter.widget-view+json": {
       "model_id": "0beab90e2a074c05bdec58fd543df878",
       "version_major": 2,
       "version_minor": 0
      },
      "text/plain": [
       "HBox(children=(FloatProgress(value=0.0, description='Batch', max=1.0, style=ProgressStyle(description_width='i…"
      ]
     },
     "metadata": {},
     "output_type": "display_data"
    },
    {
     "data": {
      "application/vnd.jupyter.widget-view+json": {
       "model_id": "81c99fc8d2054de88bc0119cb21f9adc",
       "version_major": 2,
       "version_minor": 0
      },
      "text/plain": [
       "HBox(children=(FloatProgress(value=0.0, description='Batch', max=1.0, style=ProgressStyle(description_width='i…"
      ]
     },
     "metadata": {},
     "output_type": "display_data"
    },
    {
     "data": {
      "application/vnd.jupyter.widget-view+json": {
       "model_id": "5e824f0accc84b9981ce93650c8376e2",
       "version_major": 2,
       "version_minor": 0
      },
      "text/plain": [
       "HBox(children=(FloatProgress(value=0.0, description='Batch', max=1.0, style=ProgressStyle(description_width='i…"
      ]
     },
     "metadata": {},
     "output_type": "display_data"
    },
    {
     "data": {
      "application/vnd.jupyter.widget-view+json": {
       "model_id": "3853757180d84606a206082f0a2a2624",
       "version_major": 2,
       "version_minor": 0
      },
      "text/plain": [
       "HBox(children=(FloatProgress(value=0.0, description='Batch', max=1.0, style=ProgressStyle(description_width='i…"
      ]
     },
     "metadata": {},
     "output_type": "display_data"
    },
    {
     "data": {
      "application/vnd.jupyter.widget-view+json": {
       "model_id": "8517b69ace19490f89eacf7adfe6f382",
       "version_major": 2,
       "version_minor": 0
      },
      "text/plain": [
       "HBox(children=(FloatProgress(value=0.0, description='Batch', max=1.0, style=ProgressStyle(description_width='i…"
      ]
     },
     "metadata": {},
     "output_type": "display_data"
    },
    {
     "data": {
      "application/vnd.jupyter.widget-view+json": {
       "model_id": "8a159329fbfe431ea951f1d8772ddcb3",
       "version_major": 2,
       "version_minor": 0
      },
      "text/plain": [
       "HBox(children=(FloatProgress(value=0.0, description='Batch', max=1.0, style=ProgressStyle(description_width='i…"
      ]
     },
     "metadata": {},
     "output_type": "display_data"
    },
    {
     "data": {
      "application/vnd.jupyter.widget-view+json": {
       "model_id": "841c14539e04404d98f6819e2c58104f",
       "version_major": 2,
       "version_minor": 0
      },
      "text/plain": [
       "HBox(children=(FloatProgress(value=0.0, description='Batch', max=1.0, style=ProgressStyle(description_width='i…"
      ]
     },
     "metadata": {},
     "output_type": "display_data"
    },
    {
     "data": {
      "application/vnd.jupyter.widget-view+json": {
       "model_id": "67cb6fc6b4bb40408b9ebfc0771042cd",
       "version_major": 2,
       "version_minor": 0
      },
      "text/plain": [
       "HBox(children=(FloatProgress(value=0.0, description='Batch', max=1.0, style=ProgressStyle(description_width='i…"
      ]
     },
     "metadata": {},
     "output_type": "display_data"
    },
    {
     "data": {
      "application/vnd.jupyter.widget-view+json": {
       "model_id": "54fe356ca4294bd29f076154d2cac335",
       "version_major": 2,
       "version_minor": 0
      },
      "text/plain": [
       "HBox(children=(FloatProgress(value=0.0, description='Batch', max=1.0, style=ProgressStyle(description_width='i…"
      ]
     },
     "metadata": {},
     "output_type": "display_data"
    },
    {
     "data": {
      "application/vnd.jupyter.widget-view+json": {
       "model_id": "f326073074844419b1741253f4c53e83",
       "version_major": 2,
       "version_minor": 0
      },
      "text/plain": [
       "HBox(children=(FloatProgress(value=0.0, description='Batch', max=1.0, style=ProgressStyle(description_width='i…"
      ]
     },
     "metadata": {},
     "output_type": "display_data"
    },
    {
     "data": {
      "application/vnd.jupyter.widget-view+json": {
       "model_id": "3f733babdc4048c6af527d1527b84406",
       "version_major": 2,
       "version_minor": 0
      },
      "text/plain": [
       "HBox(children=(FloatProgress(value=0.0, description='Batch', max=1.0, style=ProgressStyle(description_width='i…"
      ]
     },
     "metadata": {},
     "output_type": "display_data"
    },
    {
     "data": {
      "application/vnd.jupyter.widget-view+json": {
       "model_id": "17daf6be224d4058900d604a8c489e04",
       "version_major": 2,
       "version_minor": 0
      },
      "text/plain": [
       "HBox(children=(FloatProgress(value=0.0, description='Batch', max=1.0, style=ProgressStyle(description_width='i…"
      ]
     },
     "metadata": {},
     "output_type": "display_data"
    },
    {
     "name": "stdout",
     "output_type": "stream",
     "text": [
      "\n"
     ]
    },
    {
     "data": {
      "application/vnd.jupyter.widget-view+json": {
       "model_id": "dcb8ab229a0f413c978406c76e053c36",
       "version_major": 2,
       "version_minor": 0
      },
      "text/plain": [
       "HBox(children=(FloatProgress(value=0.0, description='Batch', max=1.0, style=ProgressStyle(description_width='i…"
      ]
     },
     "metadata": {},
     "output_type": "display_data"
    },
    {
     "data": {
      "application/vnd.jupyter.widget-view+json": {
       "model_id": "aed9bfa1c3aa4414a1e3421429ccd432",
       "version_major": 2,
       "version_minor": 0
      },
      "text/plain": [
       "HBox(children=(FloatProgress(value=0.0, description='Batch', max=1.0, style=ProgressStyle(description_width='i…"
      ]
     },
     "metadata": {},
     "output_type": "display_data"
    },
    {
     "name": "stdout",
     "output_type": "stream",
     "text": [
      "tau_Smooth_Phi00_ngram          1800.000000\n",
      "tau_Smooth_Phi00_info              1.000000\n",
      "tau_Smooth_Phi00_specificity       0.000000\n",
      "num_not_sp                         3.000000\n",
      "num_sp                             6.000000\n",
      "weight_ngram                       8.200000\n",
      "weight_info                        0.600000\n",
      "weight_specificity                64.500000\n",
      "roc_auc                            0.850467\n",
      "precision                          0.711538\n",
      "recall                             0.834586\n",
      "accuracy                           0.774714\n",
      "Name: 0, dtype: float64\n"
     ]
    }
   ],
   "source": [
    "NUM_NOT_SPECIFIC_TOPICS = [3]\n",
    "NUM_SPECIFIC_TOPICS = [6]\n",
    "grid_weight_ngram = [8.2]\n",
    "grid_weight_info = [0.6]\n",
    "grid_weight_specificity = [64.5]\n",
    "grid_Smooth_Phi00_ngram = [1800]\n",
    "grid_Smooth_Phi00_info = [1]\n",
    "grid_Smooth_Phi00_specificity = [0]\n",
    "\n",
    "param_index = pd.DataFrame(columns=['tau_Smooth_Phi00_ngram', 'tau_Smooth_Phi00_info',\n",
    "                                    'tau_Smooth_Phi00_specificity', 'num_not_sp', 'num_sp', 'weight_ngram',\n",
    "                                    'weight_info', 'weight_specificity'])\n",
    "index=0\n",
    "x_0 = []\n",
    "y_0 = []\n",
    "y_pred_proba_0 = []\n",
    "T_0 = []\n",
    "\n",
    "for tau_Smooth_Phi00_ngram in grid_Smooth_Phi00_ngram:\n",
    "    for tau_Smooth_Phi00_info in grid_Smooth_Phi00_info:\n",
    "        for tau_Smooth_Phi00_specificity in grid_Smooth_Phi00_specificity:\n",
    "            for num_not_sp in NUM_NOT_SPECIFIC_TOPICS:\n",
    "                for num_sp in NUM_SPECIFIC_TOPICS:\n",
    "                    for weight_ngram in grid_weight_ngram:\n",
    "                        for weight_info in grid_weight_info:\n",
    "                            for weight_specificity in grid_weight_specificity:\n",
    "                                param_index.loc[index] = [tau_Smooth_Phi00_ngram, tau_Smooth_Phi00_info, tau_Smooth_Phi00_specificity, num_not_sp, num_sp, weight_ngram, weight_info, weight_specificity]\n",
    "                                print(index)\n",
    "\n",
    "                                not_specific_topics = ['topic_{}'.format(i) for i in range(num_not_sp)]\n",
    "                                specific_topics = ['topic_{}'.format(i+num_not_sp) for i in range(num_sp)]\n",
    "                                topic_names = not_specific_topics + specific_topics\n",
    "\n",
    "                                ### Создадим модель\n",
    "                                model = artm.ARTM(num_topics=len(topic_names),\n",
    "                                                  num_processors=7,\n",
    "                                                  show_progress_bars=True,\n",
    "                                                  class_ids={'@ngram':weight_ngram,\n",
    "                                                             '@info':weight_info,\n",
    "                                                             '@specificity':weight_specificity},\n",
    "                                                  cache_theta=True,\n",
    "                                                  seed=42,\n",
    "                                                  dictionary=train_total_dictionary)\n",
    "                                \n",
    "                                #model.load('raw_model')\n",
    "                                model.class_ids['@ngram'] = weight_ngram\n",
    "                                model.class_ids['@info'] = weight_info\n",
    "                                model.class_ids['@specificity'] = weight_specificity\n",
    "\n",
    "\n",
    "                                new_best_phi = pd.DataFrame(columns = topic_names)\n",
    "                                for token in model.get_phi().index:\n",
    "                                    new_best_phi.loc[token] = new_phi.loc[token]\n",
    "\n",
    "                                (_, phi_ref) = model.master.attach_model(model=model.model_pwt)\n",
    "                                np.copyto(phi_ref, new_best_phi.values)\n",
    "\n",
    "                                model.scores.add(artm.PerplexityScore(name='PerlexityScore_ngram', class_ids=['@ngram']))\n",
    "                                model.scores.add(artm.PerplexityScore(name='PerlexityScore_info', class_ids=['@info']))\n",
    "                                model.scores.add(artm.PerplexityScore(name='PerlexityScore_specificity', class_ids=['@specificity']))\n",
    "                                model.scores.add(artm.SparsityPhiScore(name='SparsityPhiScore_ngram', class_id='@ngram'))\n",
    "                                model.scores.add(artm.SparsityPhiScore(name='SparsityPhiScore_info', class_id='@info'))\n",
    "                                model.scores.add(artm.SparsityThetaScore(name='SparsityThetaScore'))\n",
    "                                model.scores.add(artm.TopTokensScore(name='TopTokensScore', num_tokens=10, class_id='@ngram'))\n",
    "                                model.scores.add(artm.BackgroundTokensRatioScore(name='BackgroundTokensRatioScore',\n",
    "                                                                                    class_id='@ngram'))\n",
    "\n",
    "                                # Сглаживание Ф00\n",
    "\n",
    "                                model.regularizers.add(artm.SmoothSparsePhiRegularizer(name='Smooth_Phi00_Regularizer_ngram',\n",
    "                                                                                       tau = tau_Smooth_Phi00_ngram,\n",
    "                                                                                       class_ids = ['@ngram'],\n",
    "                                                                                       topic_names=not_specific_topics,\n",
    "                                                                                       dictionary=train_d0_dictionary))\n",
    "\n",
    "                                model.regularizers.add(artm.SmoothSparsePhiRegularizer(name='Smooth_Phi00_Regularizer_info',\n",
    "                                                                                       tau = tau_Smooth_Phi00_info,\n",
    "                                                                                       class_ids = ['@info'],\n",
    "                                                                                       topic_names=not_specific_topics,\n",
    "                                                                                       dictionary=train_d0_dictionary))\n",
    "\n",
    "                                model.regularizers.add(artm.SmoothSparsePhiRegularizer(name='Smooth_Phi00_Regularizer_specificity',\n",
    "                                                                                       tau = tau_Smooth_Phi00_specificity,\n",
    "                                                                                       class_ids = ['@specificity'],\n",
    "                                                                                       topic_names=not_specific_topics,\n",
    "                                                                                       dictionary=train_d0_dictionary))\n",
    "\n",
    "                                model.fit_offline(batch_vectorizer=train_total_batch_vectorizer, num_collection_passes=20)\n",
    "\n",
    "                                theta_test = model.transform(batch_vectorizer=test_total_batch_vectorizer)\n",
    "                                p_cd_test = model.transform(batch_vectorizer=test_total_batch_vectorizer,\n",
    "                                                            predict_class_id='@specificity')\n",
    "\n",
    "                                y_pred_proba = p_cd_test.loc['1']\n",
    "                                fpr, tpr, thresholds = roc_curve(y_test, y_pred_proba)\n",
    "\n",
    "                                dist_min = math.inf\n",
    "                                for x, y, treshold in zip(fpr, tpr, thresholds):\n",
    "                                    if euclidean([0, 1], [x, y]) < dist_min:\n",
    "                                        T_artm = treshold\n",
    "                                        dist_min = euclidean([0, 1], [x, y])\n",
    "                                        x_artm = x\n",
    "                                        y_artm = y\n",
    "\n",
    "                                y_pred_labels = []\n",
    "                                for document in p_cd_test.columns:\n",
    "                                    if p_cd_test[document].loc['1'] >= T_artm:\n",
    "                                        y_pred_labels.append(1)\n",
    "                                    else:\n",
    "                                        y_pred_labels.append(0)\n",
    "\n",
    "                                roc_auc = roc_auc_score(y_test, p_cd_test.loc['1'])\n",
    "                                precision = precision_score(y_test, y_pred_labels)\n",
    "                                recall = recall_score(y_test, y_pred_labels)\n",
    "                                accuracy = accuracy_score(y_test, y_pred_labels)\n",
    "\n",
    "                                x_0.append(x_artm)\n",
    "                                y_0.append(y_artm)\n",
    "                                y_pred_proba_0.append(y_pred_proba)\n",
    "                                T_0.append(T_artm)\n",
    "\n",
    "                                topic_model = TopicModel(model)\n",
    "                                param_index.loc[index] = [tau_Smooth_Phi00_ngram, tau_Smooth_Phi00_info, tau_Smooth_Phi00_specificity, num_not_sp, num_sp, weight_ngram, weight_info, weight_specificity]\n",
    "                                metrics.loc[index] = [tau_Smooth_Phi00_ngram, tau_Smooth_Phi00_info, tau_Smooth_Phi00_specificity, num_not_sp, num_sp, weight_ngram, weight_info, weight_specificity, roc_auc, precision, recall, accuracy]\n",
    "                                print(metrics.loc[index])\n",
    "                                index += 1"
   ]
  },
  {
   "cell_type": "code",
   "execution_count": 25,
   "metadata": {
    "scrolled": true
   },
   "outputs": [
    {
     "data": {
      "text/html": [
       "<div>\n",
       "<style scoped>\n",
       "    .dataframe tbody tr th:only-of-type {\n",
       "        vertical-align: middle;\n",
       "    }\n",
       "\n",
       "    .dataframe tbody tr th {\n",
       "        vertical-align: top;\n",
       "    }\n",
       "\n",
       "    .dataframe thead th {\n",
       "        text-align: right;\n",
       "    }\n",
       "</style>\n",
       "<table border=\"1\" class=\"dataframe\">\n",
       "  <thead>\n",
       "    <tr style=\"text-align: right;\">\n",
       "      <th></th>\n",
       "      <th>tau_Smooth_Phi00_ngram</th>\n",
       "      <th>tau_Smooth_Phi00_info</th>\n",
       "      <th>tau_Smooth_Phi00_specificity</th>\n",
       "      <th>num_not_sp</th>\n",
       "      <th>num_sp</th>\n",
       "      <th>weight_ngram</th>\n",
       "      <th>weight_info</th>\n",
       "      <th>weight_specificity</th>\n",
       "      <th>roc_auc</th>\n",
       "      <th>precision</th>\n",
       "      <th>recall</th>\n",
       "      <th>accuracy</th>\n",
       "    </tr>\n",
       "  </thead>\n",
       "  <tbody>\n",
       "    <tr>\n",
       "      <th>0</th>\n",
       "      <td>1800.0</td>\n",
       "      <td>1.0</td>\n",
       "      <td>0.0</td>\n",
       "      <td>3.0</td>\n",
       "      <td>6.0</td>\n",
       "      <td>8.2</td>\n",
       "      <td>0.6</td>\n",
       "      <td>64.5</td>\n",
       "      <td>0.850467</td>\n",
       "      <td>0.711538</td>\n",
       "      <td>0.834586</td>\n",
       "      <td>0.774714</td>\n",
       "    </tr>\n",
       "  </tbody>\n",
       "</table>\n",
       "</div>"
      ],
      "text/plain": [
       "   tau_Smooth_Phi00_ngram  tau_Smooth_Phi00_info  \\\n",
       "0                  1800.0                    1.0   \n",
       "\n",
       "   tau_Smooth_Phi00_specificity  num_not_sp  num_sp  weight_ngram  \\\n",
       "0                           0.0         3.0     6.0           8.2   \n",
       "\n",
       "   weight_info  weight_specificity   roc_auc  precision    recall  accuracy  \n",
       "0          0.6                64.5  0.850467   0.711538  0.834586  0.774714  "
      ]
     },
     "execution_count": 25,
     "metadata": {},
     "output_type": "execute_result"
    }
   ],
   "source": [
    "metrics"
   ]
  },
  {
   "cell_type": "code",
   "execution_count": 26,
   "metadata": {},
   "outputs": [
    {
     "data": {
      "text/plain": [
       "0.8504674093994109"
      ]
     },
     "execution_count": 26,
     "metadata": {},
     "output_type": "execute_result"
    }
   ],
   "source": [
    "metrics['roc_auc'].max()"
   ]
  },
  {
   "cell_type": "code",
   "execution_count": 27,
   "metadata": {},
   "outputs": [],
   "source": [
    "indecies = []\n",
    "for num in metrics.index:\n",
    "    if metrics['roc_auc'].loc[num] > 0.85:\n",
    "        indecies.append(num)"
   ]
  },
  {
   "cell_type": "code",
   "execution_count": 28,
   "metadata": {},
   "outputs": [
    {
     "data": {
      "text/html": [
       "<div>\n",
       "<style scoped>\n",
       "    .dataframe tbody tr th:only-of-type {\n",
       "        vertical-align: middle;\n",
       "    }\n",
       "\n",
       "    .dataframe tbody tr th {\n",
       "        vertical-align: top;\n",
       "    }\n",
       "\n",
       "    .dataframe thead th {\n",
       "        text-align: right;\n",
       "    }\n",
       "</style>\n",
       "<table border=\"1\" class=\"dataframe\">\n",
       "  <thead>\n",
       "    <tr style=\"text-align: right;\">\n",
       "      <th></th>\n",
       "      <th>tau_Smooth_Phi00_ngram</th>\n",
       "      <th>tau_Smooth_Phi00_info</th>\n",
       "      <th>tau_Smooth_Phi00_specificity</th>\n",
       "      <th>num_not_sp</th>\n",
       "      <th>num_sp</th>\n",
       "      <th>weight_ngram</th>\n",
       "      <th>weight_info</th>\n",
       "      <th>weight_specificity</th>\n",
       "      <th>roc_auc</th>\n",
       "      <th>precision</th>\n",
       "      <th>recall</th>\n",
       "      <th>accuracy</th>\n",
       "    </tr>\n",
       "  </thead>\n",
       "  <tbody>\n",
       "    <tr>\n",
       "      <th>0</th>\n",
       "      <td>1800.0</td>\n",
       "      <td>1.0</td>\n",
       "      <td>0.0</td>\n",
       "      <td>3.0</td>\n",
       "      <td>6.0</td>\n",
       "      <td>8.2</td>\n",
       "      <td>0.6</td>\n",
       "      <td>64.5</td>\n",
       "      <td>0.850467</td>\n",
       "      <td>0.711538</td>\n",
       "      <td>0.834586</td>\n",
       "      <td>0.774714</td>\n",
       "    </tr>\n",
       "  </tbody>\n",
       "</table>\n",
       "</div>"
      ],
      "text/plain": [
       "   tau_Smooth_Phi00_ngram  tau_Smooth_Phi00_info  \\\n",
       "0                  1800.0                    1.0   \n",
       "\n",
       "   tau_Smooth_Phi00_specificity  num_not_sp  num_sp  weight_ngram  \\\n",
       "0                           0.0         3.0     6.0           8.2   \n",
       "\n",
       "   weight_info  weight_specificity   roc_auc  precision    recall  accuracy  \n",
       "0          0.6                64.5  0.850467   0.711538  0.834586  0.774714  "
      ]
     },
     "execution_count": 28,
     "metadata": {},
     "output_type": "execute_result"
    }
   ],
   "source": [
    "metrics.loc[indecies]"
   ]
  },
  {
   "cell_type": "code",
   "execution_count": 29,
   "metadata": {
    "scrolled": true
   },
   "outputs": [
    {
     "name": "stdout",
     "output_type": "stream",
     "text": [
      "num_not_sp Counter({3.0: 1})\n",
      "num_sp Counter({6.0: 1})\n",
      "weight_ngram Counter({8.2: 1})\n",
      "weight_info Counter({0.6: 1})\n",
      "weight_specificity Counter({64.5: 1})\n"
     ]
    }
   ],
   "source": [
    "import collections\n",
    "print('num_not_sp', collections.Counter(param_index.loc[indecies]['num_not_sp']))\n",
    "print('num_sp', collections.Counter(param_index.loc[indecies]['num_sp']))\n",
    "print('weight_ngram', collections.Counter(param_index.loc[indecies]['weight_ngram']))\n",
    "print('weight_info', collections.Counter(param_index.loc[indecies]['weight_info']))\n",
    "print('weight_specificity', collections.Counter(param_index.loc[indecies]['weight_specificity']))"
   ]
  },
  {
   "cell_type": "markdown",
   "metadata": {},
   "source": [
    "Лучшие параметры:\n",
    "\n",
    "* num_not_sp              4\n",
    "* num_sp                 10\n",
    "* weight_ngram           10\n",
    "* weight_info             1\n",
    "* weight_specificity    100"
   ]
  },
  {
   "cell_type": "markdown",
   "metadata": {},
   "source": [
    "# Построим лучшую модель c лучшими параметрами"
   ]
  },
  {
   "cell_type": "code",
   "execution_count": 35,
   "metadata": {},
   "outputs": [],
   "source": [
    "num_not_sp = 3\n",
    "num_sp = 6\n",
    "weight_ngram = 8.2\n",
    "weight_info = 0.6\n",
    "weight_specificity = 64.5\n",
    "tau_Smooth_Phi00_ngram = 1800\n",
    "tau_Smooth_Phi00_info = 1\n",
    "tau_Smooth_Phi00_specificity = 0\n",
    "\n",
    "not_specific_topics = ['topic_{}'.format(i) for i in range(num_not_sp)]\n",
    "specific_topics = ['topic_{}'.format(i+num_not_sp) for i in range(num_sp)]\n",
    "topic_names = not_specific_topics + specific_topics"
   ]
  },
  {
   "cell_type": "code",
   "execution_count": 36,
   "metadata": {
    "scrolled": true
   },
   "outputs": [
    {
     "data": {
      "application/vnd.jupyter.widget-view+json": {
       "model_id": "6ce47cad3d074d419c476e4f3e9a4662",
       "version_major": 2,
       "version_minor": 0
      },
      "text/plain": [
       "HBox(children=(FloatProgress(value=0.0, description='Pass', max=30.0, style=ProgressStyle(description_width='i…"
      ]
     },
     "metadata": {},
     "output_type": "display_data"
    },
    {
     "data": {
      "application/vnd.jupyter.widget-view+json": {
       "model_id": "0ff03a31d01c4fc2967e593234e477b2",
       "version_major": 2,
       "version_minor": 0
      },
      "text/plain": [
       "HBox(children=(FloatProgress(value=0.0, description='Batch', max=1.0, style=ProgressStyle(description_width='i…"
      ]
     },
     "metadata": {},
     "output_type": "display_data"
    },
    {
     "data": {
      "application/vnd.jupyter.widget-view+json": {
       "model_id": "1f8f5ba955cc4c29a23c0428496e2917",
       "version_major": 2,
       "version_minor": 0
      },
      "text/plain": [
       "HBox(children=(FloatProgress(value=0.0, description='Batch', max=1.0, style=ProgressStyle(description_width='i…"
      ]
     },
     "metadata": {},
     "output_type": "display_data"
    },
    {
     "data": {
      "application/vnd.jupyter.widget-view+json": {
       "model_id": "645cdb79eb7949a289ea79d7a86cbd9f",
       "version_major": 2,
       "version_minor": 0
      },
      "text/plain": [
       "HBox(children=(FloatProgress(value=0.0, description='Batch', max=1.0, style=ProgressStyle(description_width='i…"
      ]
     },
     "metadata": {},
     "output_type": "display_data"
    },
    {
     "data": {
      "application/vnd.jupyter.widget-view+json": {
       "model_id": "d5617cff297d411487565a666ffbf927",
       "version_major": 2,
       "version_minor": 0
      },
      "text/plain": [
       "HBox(children=(FloatProgress(value=0.0, description='Batch', max=1.0, style=ProgressStyle(description_width='i…"
      ]
     },
     "metadata": {},
     "output_type": "display_data"
    },
    {
     "data": {
      "application/vnd.jupyter.widget-view+json": {
       "model_id": "b43e31e9b33148b78adc27af595263f6",
       "version_major": 2,
       "version_minor": 0
      },
      "text/plain": [
       "HBox(children=(FloatProgress(value=0.0, description='Batch', max=1.0, style=ProgressStyle(description_width='i…"
      ]
     },
     "metadata": {},
     "output_type": "display_data"
    },
    {
     "data": {
      "application/vnd.jupyter.widget-view+json": {
       "model_id": "e08090eb91a04c0a996b0aeb1b5f56af",
       "version_major": 2,
       "version_minor": 0
      },
      "text/plain": [
       "HBox(children=(FloatProgress(value=0.0, description='Batch', max=1.0, style=ProgressStyle(description_width='i…"
      ]
     },
     "metadata": {},
     "output_type": "display_data"
    },
    {
     "data": {
      "application/vnd.jupyter.widget-view+json": {
       "model_id": "5029b22d54264074bd8585c323676db7",
       "version_major": 2,
       "version_minor": 0
      },
      "text/plain": [
       "HBox(children=(FloatProgress(value=0.0, description='Batch', max=1.0, style=ProgressStyle(description_width='i…"
      ]
     },
     "metadata": {},
     "output_type": "display_data"
    },
    {
     "data": {
      "application/vnd.jupyter.widget-view+json": {
       "model_id": "6bf503a74f2b423ca8122fad04fe2c60",
       "version_major": 2,
       "version_minor": 0
      },
      "text/plain": [
       "HBox(children=(FloatProgress(value=0.0, description='Batch', max=1.0, style=ProgressStyle(description_width='i…"
      ]
     },
     "metadata": {},
     "output_type": "display_data"
    },
    {
     "data": {
      "application/vnd.jupyter.widget-view+json": {
       "model_id": "135fd9610edd47e795a73ed1601ad5bf",
       "version_major": 2,
       "version_minor": 0
      },
      "text/plain": [
       "HBox(children=(FloatProgress(value=0.0, description='Batch', max=1.0, style=ProgressStyle(description_width='i…"
      ]
     },
     "metadata": {},
     "output_type": "display_data"
    },
    {
     "data": {
      "application/vnd.jupyter.widget-view+json": {
       "model_id": "e8ccbe523bf04e42aec99d24d5835709",
       "version_major": 2,
       "version_minor": 0
      },
      "text/plain": [
       "HBox(children=(FloatProgress(value=0.0, description='Batch', max=1.0, style=ProgressStyle(description_width='i…"
      ]
     },
     "metadata": {},
     "output_type": "display_data"
    },
    {
     "data": {
      "application/vnd.jupyter.widget-view+json": {
       "model_id": "11dd68d049044d7f8c760a27563f28ef",
       "version_major": 2,
       "version_minor": 0
      },
      "text/plain": [
       "HBox(children=(FloatProgress(value=0.0, description='Batch', max=1.0, style=ProgressStyle(description_width='i…"
      ]
     },
     "metadata": {},
     "output_type": "display_data"
    },
    {
     "data": {
      "application/vnd.jupyter.widget-view+json": {
       "model_id": "db7477af2cb04c06b41f5104e4dc6b75",
       "version_major": 2,
       "version_minor": 0
      },
      "text/plain": [
       "HBox(children=(FloatProgress(value=0.0, description='Batch', max=1.0, style=ProgressStyle(description_width='i…"
      ]
     },
     "metadata": {},
     "output_type": "display_data"
    },
    {
     "data": {
      "application/vnd.jupyter.widget-view+json": {
       "model_id": "3646b48b44df48fca14eff9f1382f86e",
       "version_major": 2,
       "version_minor": 0
      },
      "text/plain": [
       "HBox(children=(FloatProgress(value=0.0, description='Batch', max=1.0, style=ProgressStyle(description_width='i…"
      ]
     },
     "metadata": {},
     "output_type": "display_data"
    },
    {
     "data": {
      "application/vnd.jupyter.widget-view+json": {
       "model_id": "8c8540625b854e2fa33a3c8f325909d2",
       "version_major": 2,
       "version_minor": 0
      },
      "text/plain": [
       "HBox(children=(FloatProgress(value=0.0, description='Batch', max=1.0, style=ProgressStyle(description_width='i…"
      ]
     },
     "metadata": {},
     "output_type": "display_data"
    },
    {
     "data": {
      "application/vnd.jupyter.widget-view+json": {
       "model_id": "6711c6244481475ab2417860bac5ca6f",
       "version_major": 2,
       "version_minor": 0
      },
      "text/plain": [
       "HBox(children=(FloatProgress(value=0.0, description='Batch', max=1.0, style=ProgressStyle(description_width='i…"
      ]
     },
     "metadata": {},
     "output_type": "display_data"
    },
    {
     "data": {
      "application/vnd.jupyter.widget-view+json": {
       "model_id": "5f00466905d744f5a427cb7c0f032a85",
       "version_major": 2,
       "version_minor": 0
      },
      "text/plain": [
       "HBox(children=(FloatProgress(value=0.0, description='Batch', max=1.0, style=ProgressStyle(description_width='i…"
      ]
     },
     "metadata": {},
     "output_type": "display_data"
    },
    {
     "data": {
      "application/vnd.jupyter.widget-view+json": {
       "model_id": "8380ccb5aa9c45b3bc19f0c49de0c57a",
       "version_major": 2,
       "version_minor": 0
      },
      "text/plain": [
       "HBox(children=(FloatProgress(value=0.0, description='Batch', max=1.0, style=ProgressStyle(description_width='i…"
      ]
     },
     "metadata": {},
     "output_type": "display_data"
    },
    {
     "data": {
      "application/vnd.jupyter.widget-view+json": {
       "model_id": "0c98def3a27a4e2b9f61ecb0458a9252",
       "version_major": 2,
       "version_minor": 0
      },
      "text/plain": [
       "HBox(children=(FloatProgress(value=0.0, description='Batch', max=1.0, style=ProgressStyle(description_width='i…"
      ]
     },
     "metadata": {},
     "output_type": "display_data"
    },
    {
     "data": {
      "application/vnd.jupyter.widget-view+json": {
       "model_id": "dbb142c068ff4c08932b66180ec1cce6",
       "version_major": 2,
       "version_minor": 0
      },
      "text/plain": [
       "HBox(children=(FloatProgress(value=0.0, description='Batch', max=1.0, style=ProgressStyle(description_width='i…"
      ]
     },
     "metadata": {},
     "output_type": "display_data"
    },
    {
     "data": {
      "application/vnd.jupyter.widget-view+json": {
       "model_id": "183815b28a284ca29afbf895521745a8",
       "version_major": 2,
       "version_minor": 0
      },
      "text/plain": [
       "HBox(children=(FloatProgress(value=0.0, description='Batch', max=1.0, style=ProgressStyle(description_width='i…"
      ]
     },
     "metadata": {},
     "output_type": "display_data"
    },
    {
     "data": {
      "application/vnd.jupyter.widget-view+json": {
       "model_id": "afc38b2eb85843d19c55434c5d706d63",
       "version_major": 2,
       "version_minor": 0
      },
      "text/plain": [
       "HBox(children=(FloatProgress(value=0.0, description='Batch', max=1.0, style=ProgressStyle(description_width='i…"
      ]
     },
     "metadata": {},
     "output_type": "display_data"
    },
    {
     "data": {
      "application/vnd.jupyter.widget-view+json": {
       "model_id": "937d2da3f6334a31b8b81240cc613c55",
       "version_major": 2,
       "version_minor": 0
      },
      "text/plain": [
       "HBox(children=(FloatProgress(value=0.0, description='Batch', max=1.0, style=ProgressStyle(description_width='i…"
      ]
     },
     "metadata": {},
     "output_type": "display_data"
    },
    {
     "data": {
      "application/vnd.jupyter.widget-view+json": {
       "model_id": "5061b52ad8d640538fa5d61cd72361ce",
       "version_major": 2,
       "version_minor": 0
      },
      "text/plain": [
       "HBox(children=(FloatProgress(value=0.0, description='Batch', max=1.0, style=ProgressStyle(description_width='i…"
      ]
     },
     "metadata": {},
     "output_type": "display_data"
    },
    {
     "data": {
      "application/vnd.jupyter.widget-view+json": {
       "model_id": "8019a8d003914bda8a42b5e32b1106b5",
       "version_major": 2,
       "version_minor": 0
      },
      "text/plain": [
       "HBox(children=(FloatProgress(value=0.0, description='Batch', max=1.0, style=ProgressStyle(description_width='i…"
      ]
     },
     "metadata": {},
     "output_type": "display_data"
    },
    {
     "data": {
      "application/vnd.jupyter.widget-view+json": {
       "model_id": "4e9bf128799b4380b768e778c01b988c",
       "version_major": 2,
       "version_minor": 0
      },
      "text/plain": [
       "HBox(children=(FloatProgress(value=0.0, description='Batch', max=1.0, style=ProgressStyle(description_width='i…"
      ]
     },
     "metadata": {},
     "output_type": "display_data"
    },
    {
     "data": {
      "application/vnd.jupyter.widget-view+json": {
       "model_id": "8aa9ce65e91f426e923f58e9fc33571d",
       "version_major": 2,
       "version_minor": 0
      },
      "text/plain": [
       "HBox(children=(FloatProgress(value=0.0, description='Batch', max=1.0, style=ProgressStyle(description_width='i…"
      ]
     },
     "metadata": {},
     "output_type": "display_data"
    },
    {
     "data": {
      "application/vnd.jupyter.widget-view+json": {
       "model_id": "31d4ed47b0954798b193380f9dbf053c",
       "version_major": 2,
       "version_minor": 0
      },
      "text/plain": [
       "HBox(children=(FloatProgress(value=0.0, description='Batch', max=1.0, style=ProgressStyle(description_width='i…"
      ]
     },
     "metadata": {},
     "output_type": "display_data"
    },
    {
     "data": {
      "application/vnd.jupyter.widget-view+json": {
       "model_id": "69dae17e636f4830bb26a3d0f3c300b5",
       "version_major": 2,
       "version_minor": 0
      },
      "text/plain": [
       "HBox(children=(FloatProgress(value=0.0, description='Batch', max=1.0, style=ProgressStyle(description_width='i…"
      ]
     },
     "metadata": {},
     "output_type": "display_data"
    },
    {
     "data": {
      "application/vnd.jupyter.widget-view+json": {
       "model_id": "16eb7b91f1d841ec87f4479e13955bad",
       "version_major": 2,
       "version_minor": 0
      },
      "text/plain": [
       "HBox(children=(FloatProgress(value=0.0, description='Batch', max=1.0, style=ProgressStyle(description_width='i…"
      ]
     },
     "metadata": {},
     "output_type": "display_data"
    },
    {
     "data": {
      "application/vnd.jupyter.widget-view+json": {
       "model_id": "90efdca9933148819ef34fafc45ad0ca",
       "version_major": 2,
       "version_minor": 0
      },
      "text/plain": [
       "HBox(children=(FloatProgress(value=0.0, description='Batch', max=1.0, style=ProgressStyle(description_width='i…"
      ]
     },
     "metadata": {},
     "output_type": "display_data"
    },
    {
     "name": "stdout",
     "output_type": "stream",
     "text": [
      "\n"
     ]
    },
    {
     "data": {
      "application/vnd.jupyter.widget-view+json": {
       "model_id": "3abf050b5edf4f5bac1a9e858113eecf",
       "version_major": 2,
       "version_minor": 0
      },
      "text/plain": [
       "HBox(children=(FloatProgress(value=0.0, description='Batch', max=1.0, style=ProgressStyle(description_width='i…"
      ]
     },
     "metadata": {},
     "output_type": "display_data"
    },
    {
     "data": {
      "application/vnd.jupyter.widget-view+json": {
       "model_id": "7dcce418580349a1ab7684388cb727fc",
       "version_major": 2,
       "version_minor": 0
      },
      "text/plain": [
       "HBox(children=(FloatProgress(value=0.0, description='Batch', max=1.0, style=ProgressStyle(description_width='i…"
      ]
     },
     "metadata": {},
     "output_type": "display_data"
    }
   ],
   "source": [
    "# not_specific_topics = ['topic_{}'.format(i) for i in range(num_not_sp)]\n",
    "# specific_topics = ['topic_{}'.format(i+num_not_sp) for i in range(num_sp)]\n",
    "# topic_names = not_specific_topics + specific_topics\n",
    "\n",
    "# # составим матрицу Фи\n",
    "# # для @ngram\n",
    "# phi_00 = pd.DataFrame(data=np.random.uniform(0, 0.1, size=(len(train_d0_dict_ngram), len(not_specific_topics))),\n",
    "#                       index=train_d0_dict_ngram,\n",
    "#                       columns=not_specific_topics)\n",
    "# phi_10 = pd.DataFrame(data=np.zeros((len(train_total_without_d0_dict_ngram), phi_00.columns.shape[0])),\n",
    "#                       index=train_total_without_d0_dict_ngram,\n",
    "#                       columns=phi_00.columns)\n",
    "# phi_01 = pd.DataFrame(data=np.random.uniform(0, 0.01, size=(phi_00.index.shape[0], len(specific_topics))),\n",
    "#                       index=phi_00.index,\n",
    "#                       columns=specific_topics)\n",
    "# phi_11 = pd.DataFrame(data=np.random.uniform(0, 1, size=(phi_10.index.shape[0], len(specific_topics))),\n",
    "#                       index=phi_10.index,\n",
    "#                       columns=specific_topics)\n",
    "# phi_0 = phi_00.append(phi_10)\n",
    "# phi_1 = phi_01.append(phi_11)\n",
    "# for column in phi_0.columns:\n",
    "#     phi_0[column] = phi_0[column].apply(lambda item: item/phi_0[column].sum())\n",
    "# for column in phi_1.columns:\n",
    "#     phi_1[column] = phi_1[column].apply(lambda item: item/phi_1[column].sum())\n",
    "# phi_ngram = pd.concat([phi_00.append(phi_10), phi_1], axis=1)\n",
    "\n",
    "# #для @info\n",
    "# phi_00_info = pd.DataFrame(data=np.random.uniform(0, 0.1, size=(len(train_d0_dict_info), len(not_specific_topics))),\n",
    "#                       index=train_d0_dict_info,\n",
    "#                       columns=not_specific_topics)\n",
    "# phi_10_info = pd.DataFrame(data=np.zeros((len(train_total_without_d0_dict_info), phi_00.columns.shape[0])),\n",
    "#                            index=train_total_without_d0_dict_info,\n",
    "#                            columns=phi_00.columns)\n",
    "# phi_01_info = pd.DataFrame(data=np.random.uniform(0, 0.01, size=(phi_00_info.index.shape[0], len(specific_topics))),\n",
    "#                            index=phi_00_info.index,\n",
    "#                            columns=specific_topics)\n",
    "# phi_11_info = pd.DataFrame(data=np.random.uniform(0, 1, size=(phi_10_info.index.shape[0], len(specific_topics))),\n",
    "#                            index=phi_10_info.index,\n",
    "#                            columns=specific_topics)\n",
    "# phi_0_info = phi_00_info.append(phi_10_info)\n",
    "# phi_1_info = phi_01_info.append(phi_11_info)\n",
    "# for column in phi_0_info.columns:\n",
    "#     phi_0_info[column] = phi_0_info[column].apply(lambda item: item/phi_0_info[column].sum())\n",
    "# for column in phi_1_info.columns:\n",
    "#     phi_1_info[column] = phi_1_info[column].apply(lambda item: item/phi_1_info[column].sum())\n",
    "# phi_info = pd.concat([phi_00_info.append(phi_10_info), phi_1_info], axis=1)\n",
    "\n",
    "# #для @specifisity\n",
    "# c_00 = pd.DataFrame(data=np.ones((1, phi_00.columns.shape[0])),\n",
    "#                       index=['0'],\n",
    "#                       columns=phi_00.columns)\n",
    "# c_10 = pd.DataFrame(data=np.zeros((1, phi_00.columns.shape[0])),\n",
    "#                       index=['1'],\n",
    "#                       columns=phi_00.columns)\n",
    "# c_01 = pd.DataFrame(data=np.zeros((1, phi_01.columns.shape[0])),\n",
    "#                       index=['0'],\n",
    "#                       columns=phi_01.columns)\n",
    "# c_11 = pd.DataFrame(data=np.ones((1, phi_01.columns.shape[0])),\n",
    "#                       index=['1'],\n",
    "#                       columns=phi_01.columns)\n",
    "\n",
    "# phi_specifisity = pd.concat([c_00.append(c_10), c_01.append(c_11)], axis=1)\n",
    "# new_phi = phi_ngram.append(phi_info).append(phi_specifisity)\n",
    "\n",
    "### Создадим модель\n",
    "\n",
    "best_first_model = artm.ARTM(num_topics=len(topic_names),\n",
    "                             num_processors=7,\n",
    "                             theta_columns_naming='title',\n",
    "                             show_progress_bars=True,\n",
    "                             class_ids={'@ngram':weight_ngram,\n",
    "                                        '@info':weight_info,\n",
    "                                        '@specificity':weight_specificity},\n",
    "                             cache_theta=True,\n",
    "                             seed=42,\n",
    "                             dictionary=train_total_dictionary)\n",
    "\n",
    "new_best_phi = pd.DataFrame(columns = topic_names)\n",
    "for token in best_first_model.get_phi().index:\n",
    "    new_best_phi.loc[token] = new_phi.loc[token]\n",
    "\n",
    "(_, phi_ref) = best_first_model.master.attach_model(model=best_first_model.model_pwt)\n",
    "np.copyto(phi_ref, new_best_phi.values)\n",
    "\n",
    "best_first_model.scores.add(artm.PerplexityScore(name='PerlexityScore_ngram', class_ids=['@ngram']))\n",
    "best_first_model.scores.add(artm.PerplexityScore(name='PerlexityScore_info', class_ids=['@info']))\n",
    "best_first_model.scores.add(artm.PerplexityScore(name='PerlexityScore_specificity', class_ids=['@specificity']))\n",
    "best_first_model.scores.add(artm.SparsityPhiScore(name='SparsityPhiScore_ngram', class_id='@ngram'))\n",
    "best_first_model.scores.add(artm.SparsityPhiScore(name='SparsityPhiScore_info', class_id='@info'))\n",
    "best_first_model.scores.add(artm.SparsityThetaScore(name='SparsityThetaScore'))\n",
    "best_first_model.scores.add(artm.TopTokensScore(name='TopTokensScore', num_tokens=10, class_id='@ngram'))\n",
    "best_first_model.scores.add(artm.BackgroundTokensRatioScore(name='BackgroundTokensRatioScore',\n",
    "                                                    class_id='@ngram'))\n",
    "\n",
    "# Сглаживание Ф00\n",
    "best_first_model.regularizers.add(artm.SmoothSparsePhiRegularizer(name='Smooth_Phi00_Regularizer_ngram',\n",
    "                                                       tau = tau_Smooth_Phi00_ngram,\n",
    "                                                       class_ids = ['@ngram'],\n",
    "                                                       topic_names=not_specific_topics,\n",
    "                                                       dictionary=train_d0_dictionary))\n",
    "\n",
    "best_first_model.regularizers.add(artm.SmoothSparsePhiRegularizer(name='Smooth_Phi00_Regularizer_info',\n",
    "                                                       tau = tau_Smooth_Phi00_info,\n",
    "                                                       class_ids = ['@info'],\n",
    "                                                       topic_names=not_specific_topics,\n",
    "                                                       dictionary=train_d0_dictionary))\n",
    "\n",
    "best_first_model.regularizers.add(artm.SmoothSparsePhiRegularizer(name='Smooth_Phi00_Regularizer_specificity',\n",
    "                                                       tau = tau_Smooth_Phi00_specificity,\n",
    "                                                       class_ids = ['@specificity'],\n",
    "                                                       topic_names=not_specific_topics,\n",
    "                                                       dictionary=train_d0_dictionary))\n",
    "\n",
    "best_first_model.fit_offline(batch_vectorizer=train_total_batch_vectorizer, num_collection_passes=30)\n",
    "\n",
    "# test_total_batch_vectorizer=artm.BatchVectorizer(data_path='vw_documents_test_total.txt',\n",
    "#                                                  data_format='vowpal_wabbit',\n",
    "#                                                  batch_size = 10000,\n",
    "#                                                  target_folder='./test_total_batches')\n",
    "\n",
    "# test_total_dictionary = test_total_batch_vectorizer.dictionary\n",
    "theta_test = best_first_model.transform(batch_vectorizer=test_total_batch_vectorizer)\n",
    "p_cd_test = best_first_model.transform(batch_vectorizer=test_total_batch_vectorizer,\n",
    "                                       predict_class_id='@specificity')\n",
    "\n",
    "y_pred_proba = p_cd_test.loc['1']\n",
    "fpr, tpr, thresholds = roc_curve(y_test, y_pred_proba)\n",
    "\n",
    "dist_min = math.inf\n",
    "for x, y, treshold in zip(fpr, tpr, thresholds):\n",
    "    if euclidean([0, 1], [x, y]) < dist_min:\n",
    "        T_artm = treshold\n",
    "        dist_min = euclidean([0, 1], [x, y])\n",
    "        x_artm = x\n",
    "        y_artm = y\n",
    "\n",
    "y_pred_labels = []\n",
    "for document in p_cd_test.columns:\n",
    "    if p_cd_test[document].loc['1'] >= T_artm:\n",
    "        y_pred_labels.append(1)\n",
    "    else:\n",
    "        y_pred_labels.append(0)\n",
    "\n",
    "roc_auc = roc_auc_score(y_test, p_cd_test.loc['1'])\n",
    "precision = precision_score(y_test, y_pred_labels)\n",
    "recall = recall_score(y_test, y_pred_labels)\n",
    "accuracy = accuracy_score(y_test, y_pred_labels)\n",
    "\n",
    "topic_model = TopicModel(best_first_model)"
   ]
  },
  {
   "cell_type": "code",
   "execution_count": 32,
   "metadata": {
    "scrolled": true
   },
   "outputs": [
    {
     "data": {
      "application/vnd.jupyter.widget-view+json": {
       "model_id": "fa580c00f4c542868e4f9e44aba2e3b5",
       "version_major": 2,
       "version_minor": 0
      },
      "text/plain": [
       "HBox(children=(FloatProgress(value=0.0, description='Pass', max=20.0, style=ProgressStyle(description_width='i…"
      ]
     },
     "metadata": {},
     "output_type": "display_data"
    },
    {
     "data": {
      "application/vnd.jupyter.widget-view+json": {
       "model_id": "4a7db9da0fe443e2a23974ebeb158515",
       "version_major": 2,
       "version_minor": 0
      },
      "text/plain": [
       "HBox(children=(FloatProgress(value=0.0, description='Batch', max=1.0, style=ProgressStyle(description_width='i…"
      ]
     },
     "metadata": {},
     "output_type": "display_data"
    },
    {
     "data": {
      "application/vnd.jupyter.widget-view+json": {
       "model_id": "2c78eaa037204737b89c48f940df5e1d",
       "version_major": 2,
       "version_minor": 0
      },
      "text/plain": [
       "HBox(children=(FloatProgress(value=0.0, description='Batch', max=1.0, style=ProgressStyle(description_width='i…"
      ]
     },
     "metadata": {},
     "output_type": "display_data"
    },
    {
     "data": {
      "application/vnd.jupyter.widget-view+json": {
       "model_id": "f3aac8ab08ea4e5b8ae6a7e77da04a67",
       "version_major": 2,
       "version_minor": 0
      },
      "text/plain": [
       "HBox(children=(FloatProgress(value=0.0, description='Batch', max=1.0, style=ProgressStyle(description_width='i…"
      ]
     },
     "metadata": {},
     "output_type": "display_data"
    },
    {
     "data": {
      "application/vnd.jupyter.widget-view+json": {
       "model_id": "648ad02c03d049c59d8b36c8f3d2c3e5",
       "version_major": 2,
       "version_minor": 0
      },
      "text/plain": [
       "HBox(children=(FloatProgress(value=0.0, description='Batch', max=1.0, style=ProgressStyle(description_width='i…"
      ]
     },
     "metadata": {},
     "output_type": "display_data"
    },
    {
     "data": {
      "application/vnd.jupyter.widget-view+json": {
       "model_id": "07e89bf775da41828df1ca3dac5009a1",
       "version_major": 2,
       "version_minor": 0
      },
      "text/plain": [
       "HBox(children=(FloatProgress(value=0.0, description='Batch', max=1.0, style=ProgressStyle(description_width='i…"
      ]
     },
     "metadata": {},
     "output_type": "display_data"
    },
    {
     "data": {
      "application/vnd.jupyter.widget-view+json": {
       "model_id": "52824736d47c4182892fef5b266ed45f",
       "version_major": 2,
       "version_minor": 0
      },
      "text/plain": [
       "HBox(children=(FloatProgress(value=0.0, description='Batch', max=1.0, style=ProgressStyle(description_width='i…"
      ]
     },
     "metadata": {},
     "output_type": "display_data"
    },
    {
     "data": {
      "application/vnd.jupyter.widget-view+json": {
       "model_id": "ea629935f1cd4e6b878b601fe09c10c1",
       "version_major": 2,
       "version_minor": 0
      },
      "text/plain": [
       "HBox(children=(FloatProgress(value=0.0, description='Batch', max=1.0, style=ProgressStyle(description_width='i…"
      ]
     },
     "metadata": {},
     "output_type": "display_data"
    },
    {
     "data": {
      "application/vnd.jupyter.widget-view+json": {
       "model_id": "6244958511324cdab8668e93a67b4ca9",
       "version_major": 2,
       "version_minor": 0
      },
      "text/plain": [
       "HBox(children=(FloatProgress(value=0.0, description='Batch', max=1.0, style=ProgressStyle(description_width='i…"
      ]
     },
     "metadata": {},
     "output_type": "display_data"
    },
    {
     "data": {
      "application/vnd.jupyter.widget-view+json": {
       "model_id": "cbcba3dd53514f53a0ce3b3f8c5fbd6c",
       "version_major": 2,
       "version_minor": 0
      },
      "text/plain": [
       "HBox(children=(FloatProgress(value=0.0, description='Batch', max=1.0, style=ProgressStyle(description_width='i…"
      ]
     },
     "metadata": {},
     "output_type": "display_data"
    },
    {
     "data": {
      "application/vnd.jupyter.widget-view+json": {
       "model_id": "933b71b1f8c34329b78f596cdd34f38b",
       "version_major": 2,
       "version_minor": 0
      },
      "text/plain": [
       "HBox(children=(FloatProgress(value=0.0, description='Batch', max=1.0, style=ProgressStyle(description_width='i…"
      ]
     },
     "metadata": {},
     "output_type": "display_data"
    },
    {
     "data": {
      "application/vnd.jupyter.widget-view+json": {
       "model_id": "fd54f6b522ad4dda8e02799caa18be23",
       "version_major": 2,
       "version_minor": 0
      },
      "text/plain": [
       "HBox(children=(FloatProgress(value=0.0, description='Batch', max=1.0, style=ProgressStyle(description_width='i…"
      ]
     },
     "metadata": {},
     "output_type": "display_data"
    },
    {
     "data": {
      "application/vnd.jupyter.widget-view+json": {
       "model_id": "4729162ed80a4947912e35e04b9bf963",
       "version_major": 2,
       "version_minor": 0
      },
      "text/plain": [
       "HBox(children=(FloatProgress(value=0.0, description='Batch', max=1.0, style=ProgressStyle(description_width='i…"
      ]
     },
     "metadata": {},
     "output_type": "display_data"
    },
    {
     "data": {
      "application/vnd.jupyter.widget-view+json": {
       "model_id": "1627add9f55b4484ae1858e0e0a669b1",
       "version_major": 2,
       "version_minor": 0
      },
      "text/plain": [
       "HBox(children=(FloatProgress(value=0.0, description='Batch', max=1.0, style=ProgressStyle(description_width='i…"
      ]
     },
     "metadata": {},
     "output_type": "display_data"
    },
    {
     "data": {
      "application/vnd.jupyter.widget-view+json": {
       "model_id": "3ce56fae114e4e95b65548e185a7c987",
       "version_major": 2,
       "version_minor": 0
      },
      "text/plain": [
       "HBox(children=(FloatProgress(value=0.0, description='Batch', max=1.0, style=ProgressStyle(description_width='i…"
      ]
     },
     "metadata": {},
     "output_type": "display_data"
    },
    {
     "data": {
      "application/vnd.jupyter.widget-view+json": {
       "model_id": "dd63189a0ffb4c299f80c1d79591e98f",
       "version_major": 2,
       "version_minor": 0
      },
      "text/plain": [
       "HBox(children=(FloatProgress(value=0.0, description='Batch', max=1.0, style=ProgressStyle(description_width='i…"
      ]
     },
     "metadata": {},
     "output_type": "display_data"
    },
    {
     "data": {
      "application/vnd.jupyter.widget-view+json": {
       "model_id": "ad5311539c57410b9fadd57ea8659a5f",
       "version_major": 2,
       "version_minor": 0
      },
      "text/plain": [
       "HBox(children=(FloatProgress(value=0.0, description='Batch', max=1.0, style=ProgressStyle(description_width='i…"
      ]
     },
     "metadata": {},
     "output_type": "display_data"
    },
    {
     "data": {
      "application/vnd.jupyter.widget-view+json": {
       "model_id": "aada65be8349475aaea726f1d6a23d62",
       "version_major": 2,
       "version_minor": 0
      },
      "text/plain": [
       "HBox(children=(FloatProgress(value=0.0, description='Batch', max=1.0, style=ProgressStyle(description_width='i…"
      ]
     },
     "metadata": {},
     "output_type": "display_data"
    },
    {
     "data": {
      "application/vnd.jupyter.widget-view+json": {
       "model_id": "a591f66b01ba45ddb95cda75c0f1fb3f",
       "version_major": 2,
       "version_minor": 0
      },
      "text/plain": [
       "HBox(children=(FloatProgress(value=0.0, description='Batch', max=1.0, style=ProgressStyle(description_width='i…"
      ]
     },
     "metadata": {},
     "output_type": "display_data"
    },
    {
     "data": {
      "application/vnd.jupyter.widget-view+json": {
       "model_id": "e982a60093cb474db352fc3c37524a81",
       "version_major": 2,
       "version_minor": 0
      },
      "text/plain": [
       "HBox(children=(FloatProgress(value=0.0, description='Batch', max=1.0, style=ProgressStyle(description_width='i…"
      ]
     },
     "metadata": {},
     "output_type": "display_data"
    },
    {
     "data": {
      "application/vnd.jupyter.widget-view+json": {
       "model_id": "016ecfac58b14cd08ffb5f2e4925a248",
       "version_major": 2,
       "version_minor": 0
      },
      "text/plain": [
       "HBox(children=(FloatProgress(value=0.0, description='Batch', max=1.0, style=ProgressStyle(description_width='i…"
      ]
     },
     "metadata": {},
     "output_type": "display_data"
    },
    {
     "name": "stdout",
     "output_type": "stream",
     "text": [
      "\n"
     ]
    },
    {
     "data": {
      "application/vnd.jupyter.widget-view+json": {
       "model_id": "ec0a1e8f3223496a928e643d7b0f37af",
       "version_major": 2,
       "version_minor": 0
      },
      "text/plain": [
       "HBox(children=(FloatProgress(value=0.0, description='Batch', max=1.0, style=ProgressStyle(description_width='i…"
      ]
     },
     "metadata": {},
     "output_type": "display_data"
    },
    {
     "data": {
      "application/vnd.jupyter.widget-view+json": {
       "model_id": "b3ab37ce3bb84b1ea62a731a2e674ed9",
       "version_major": 2,
       "version_minor": 0
      },
      "text/plain": [
       "HBox(children=(FloatProgress(value=0.0, description='Batch', max=1.0, style=ProgressStyle(description_width='i…"
      ]
     },
     "metadata": {},
     "output_type": "display_data"
    }
   ],
   "source": [
    "np.random.seed(77)\n",
    "\n",
    "\n",
    "\n",
    "#для @ngram\n",
    "phi_00 = pd.DataFrame(data=np.random.uniform(0, 0.1, size=(len(train_d0_dict_ngram), len(not_specific_topics))),\n",
    "                      index=train_d0_dict_ngram,\n",
    "                      columns=not_specific_topics)\n",
    "phi_10 = pd.DataFrame(data=np.zeros((len(train_total_without_d0_dict_ngram), phi_00.columns.shape[0])),\n",
    "                      index=train_total_without_d0_dict_ngram,\n",
    "                      columns=phi_00.columns)\n",
    "phi_01 = pd.DataFrame(data=np.random.uniform(0, 0.01, size=(phi_00.index.shape[0], len(specific_topics))),\n",
    "                      index=phi_00.index,\n",
    "                      columns=specific_topics)\n",
    "phi_11 = pd.DataFrame(data=np.random.uniform(0, 1, size=(phi_10.index.shape[0], len(specific_topics))),\n",
    "                      index=phi_10.index,\n",
    "                      columns=specific_topics)\n",
    "phi_0 = phi_00.append(phi_10)\n",
    "phi_1 = phi_01.append(phi_11)\n",
    "for column in phi_0.columns:\n",
    "    phi_0[column] = phi_0[column].apply(lambda item: item/phi_0[column].sum())\n",
    "for column in phi_1.columns:\n",
    "    phi_1[column] = phi_1[column].apply(lambda item: item/phi_1[column].sum())\n",
    "phi_ngram = pd.concat([phi_00.append(phi_10), phi_1], axis=1)\n",
    "\n",
    "#для @info\n",
    "phi_00_info = pd.DataFrame(data=np.random.uniform(0, 0.1, size=(len(train_d0_dict_info), len(not_specific_topics))),\n",
    "                      index=train_d0_dict_info,\n",
    "                      columns=not_specific_topics)\n",
    "phi_10_info = pd.DataFrame(data=np.zeros((len(train_total_without_d0_dict_info), phi_00.columns.shape[0])),\n",
    "                           index=train_total_without_d0_dict_info,\n",
    "                           columns=phi_00.columns)\n",
    "phi_01_info = pd.DataFrame(data=np.random.uniform(0, 0.01, size=(phi_00_info.index.shape[0], len(specific_topics))),\n",
    "                           index=phi_00_info.index,\n",
    "                           columns=specific_topics)\n",
    "phi_11_info = pd.DataFrame(data=np.random.uniform(0, 1, size=(phi_10_info.index.shape[0], len(specific_topics))),\n",
    "                           index=phi_10_info.index,\n",
    "                           columns=specific_topics)\n",
    "phi_0_info = phi_00_info.append(phi_10_info)\n",
    "phi_1_info = phi_01_info.append(phi_11_info)\n",
    "for column in phi_0_info.columns:\n",
    "    phi_0_info[column] = phi_0_info[column].apply(lambda item: item/phi_0_info[column].sum())\n",
    "for column in phi_1_info.columns:\n",
    "    phi_1_info[column] = phi_1_info[column].apply(lambda item: item/phi_1_info[column].sum())\n",
    "phi_info = pd.concat([phi_00_info.append(phi_10_info), phi_1_info], axis=1)\n",
    "\n",
    "#для @specifisity\n",
    "c_00 = pd.DataFrame(data=np.ones((1, phi_00.columns.shape[0])),\n",
    "                      index=['0'],\n",
    "                      columns=phi_00.columns)\n",
    "c_10 = pd.DataFrame(data=np.zeros((1, phi_00.columns.shape[0])),\n",
    "                      index=['1'],\n",
    "                      columns=phi_00.columns)\n",
    "c_01 = pd.DataFrame(data=np.zeros((1, phi_01.columns.shape[0])),\n",
    "                      index=['0'],\n",
    "                      columns=phi_01.columns)\n",
    "c_11 = pd.DataFrame(data=np.ones((1, phi_01.columns.shape[0])),\n",
    "                      index=['1'],\n",
    "                      columns=phi_01.columns)\n",
    "\n",
    "phi_specifisity = pd.concat([c_00.append(c_10), c_01.append(c_11)], axis=1)\n",
    "new_phi = phi_ngram.append(phi_info).append(phi_specifisity)\n",
    "\n",
    "### Создадим модель\n",
    "model = artm.ARTM(num_topics=len(topic_names),\n",
    "                  num_processors=7,\n",
    "                  show_progress_bars=True,\n",
    "                  class_ids={'@ngram':weight_ngram,\n",
    "                             '@info':weight_info,\n",
    "                             '@specificity':weight_specificity},\n",
    "                  cache_theta=True,\n",
    "                  seed=42,\n",
    "                  dictionary=train_total_dictionary)\n",
    "\n",
    "#model.load('raw_model')\n",
    "model.class_ids['@ngram'] = weight_ngram\n",
    "model.class_ids['@info'] = weight_info\n",
    "model.class_ids['@specificity'] = weight_specificity\n",
    "\n",
    "\n",
    "new_best_phi = pd.DataFrame(columns = topic_names)\n",
    "for token in model.get_phi().index:\n",
    "    new_best_phi.loc[token] = new_phi.loc[token]\n",
    "\n",
    "(_, phi_ref) = model.master.attach_model(model=model.model_pwt)\n",
    "np.copyto(phi_ref, new_best_phi.values)\n",
    "\n",
    "model.scores.add(artm.PerplexityScore(name='PerlexityScore_ngram', class_ids=['@ngram']))\n",
    "model.scores.add(artm.PerplexityScore(name='PerlexityScore_info', class_ids=['@info']))\n",
    "model.scores.add(artm.PerplexityScore(name='PerlexityScore_specificity', class_ids=['@specificity']))\n",
    "model.scores.add(artm.SparsityPhiScore(name='SparsityPhiScore_ngram', class_id='@ngram'))\n",
    "model.scores.add(artm.SparsityPhiScore(name='SparsityPhiScore_info', class_id='@info'))\n",
    "model.scores.add(artm.SparsityThetaScore(name='SparsityThetaScore'))\n",
    "model.scores.add(artm.TopTokensScore(name='TopTokensScore', num_tokens=10, class_id='@ngram'))\n",
    "model.scores.add(artm.BackgroundTokensRatioScore(name='BackgroundTokensRatioScore',\n",
    "                                                    class_id='@ngram'))\n",
    "\n",
    "# Сглаживание Ф00\n",
    "\n",
    "model.regularizers.add(artm.SmoothSparsePhiRegularizer(name='Smooth_Phi00_Regularizer_ngram',\n",
    "                                                       tau = tau_Smooth_Phi00_ngram,\n",
    "                                                       class_ids = ['@ngram'],\n",
    "                                                       topic_names=not_specific_topics,\n",
    "                                                       dictionary=train_d0_dictionary))\n",
    "\n",
    "model.regularizers.add(artm.SmoothSparsePhiRegularizer(name='Smooth_Phi00_Regularizer_info',\n",
    "                                                       tau = tau_Smooth_Phi00_info,\n",
    "                                                       class_ids = ['@info'],\n",
    "                                                       topic_names=not_specific_topics,\n",
    "                                                       dictionary=train_d0_dictionary))\n",
    "\n",
    "model.regularizers.add(artm.SmoothSparsePhiRegularizer(name='Smooth_Phi00_Regularizer_specificity',\n",
    "                                                       tau = tau_Smooth_Phi00_specificity,\n",
    "                                                       class_ids = ['@specificity'],\n",
    "                                                       topic_names=not_specific_topics,\n",
    "                                                       dictionary=train_d0_dictionary))\n",
    "\n",
    "model.fit_offline(batch_vectorizer=train_total_batch_vectorizer, num_collection_passes=20)\n",
    "\n",
    "theta_test = model.transform(batch_vectorizer=test_total_batch_vectorizer)\n",
    "p_cd_test = model.transform(batch_vectorizer=test_total_batch_vectorizer,\n",
    "                            predict_class_id='@specificity')\n",
    "\n",
    "y_pred_proba = p_cd_test.loc['1']\n",
    "fpr, tpr, thresholds = roc_curve(y_test, y_pred_proba)\n",
    "\n",
    "dist_min = math.inf\n",
    "for x, y, treshold in zip(fpr, tpr, thresholds):\n",
    "    if euclidean([0, 1], [x, y]) < dist_min:\n",
    "        T_artm = treshold\n",
    "        dist_min = euclidean([0, 1], [x, y])\n",
    "        x_artm = x\n",
    "        y_artm = y\n",
    "\n",
    "y_pred_labels = []\n",
    "for document in p_cd_test.columns:\n",
    "    if p_cd_test[document].loc['1'] >= T_artm:\n",
    "        y_pred_labels.append(1)\n",
    "    else:\n",
    "        y_pred_labels.append(0)\n",
    "\n",
    "roc_auc = roc_auc_score(y_test, p_cd_test.loc['1'])\n",
    "precision = precision_score(y_test, y_pred_labels)\n",
    "recall = recall_score(y_test, y_pred_labels)\n",
    "accuracy = accuracy_score(y_test, y_pred_labels)\n",
    "\n",
    "x_0.append(x_artm)\n",
    "y_0.append(y_artm)\n",
    "y_pred_proba_0.append(y_pred_proba)\n",
    "T_0.append(T_artm)\n",
    "\n",
    "topic_model = TopicModel(model)"
   ]
  },
  {
   "cell_type": "code",
   "execution_count": 37,
   "metadata": {},
   "outputs": [],
   "source": [
    "results = pd.DataFrame(index=['roc_auc', 'precision', 'recall', 'accuracy'])\n",
    "results['до регуляризации'] = [roc_auc, precision, recall, accuracy]"
   ]
  },
  {
   "cell_type": "code",
   "execution_count": 38,
   "metadata": {},
   "outputs": [
    {
     "data": {
      "text/html": [
       "<div>\n",
       "<style scoped>\n",
       "    .dataframe tbody tr th:only-of-type {\n",
       "        vertical-align: middle;\n",
       "    }\n",
       "\n",
       "    .dataframe tbody tr th {\n",
       "        vertical-align: top;\n",
       "    }\n",
       "\n",
       "    .dataframe thead th {\n",
       "        text-align: right;\n",
       "    }\n",
       "</style>\n",
       "<table border=\"1\" class=\"dataframe\">\n",
       "  <thead>\n",
       "    <tr style=\"text-align: right;\">\n",
       "      <th></th>\n",
       "      <th>до регуляризации</th>\n",
       "    </tr>\n",
       "  </thead>\n",
       "  <tbody>\n",
       "    <tr>\n",
       "      <th>roc_auc</th>\n",
       "      <td>0.849898</td>\n",
       "    </tr>\n",
       "    <tr>\n",
       "      <th>precision</th>\n",
       "      <td>0.706700</td>\n",
       "    </tr>\n",
       "    <tr>\n",
       "      <th>recall</th>\n",
       "      <td>0.840602</td>\n",
       "    </tr>\n",
       "    <tr>\n",
       "      <th>accuracy</th>\n",
       "      <td>0.772697</td>\n",
       "    </tr>\n",
       "  </tbody>\n",
       "</table>\n",
       "</div>"
      ],
      "text/plain": [
       "           до регуляризации\n",
       "roc_auc            0.849898\n",
       "precision          0.706700\n",
       "recall             0.840602\n",
       "accuracy           0.772697"
      ]
     },
     "execution_count": 38,
     "metadata": {},
     "output_type": "execute_result"
    }
   ],
   "source": [
    "results"
   ]
  },
  {
   "cell_type": "code",
   "execution_count": 35,
   "metadata": {},
   "outputs": [
    {
     "data": {
      "image/png": "[encoded data removed]",
      "text/plain": [
       "<Figure size 432x288 with 1 Axes>"
      ]
     },
     "metadata": {
      "needs_background": "light"
     },
     "output_type": "display_data"
    }
   ],
   "source": [
    "perplexity_plot(best_first_model, 'PerlexityScore_ngram')"
   ]
  },
  {
   "cell_type": "code",
   "execution_count": 1105,
   "metadata": {},
   "outputs": [],
   "source": [
    "file = open('./tables/metrics_before_reg_results.txt', 'w')\n",
    "file.write(results.to_latex())\n",
    "file.close()"
   ]
  },
  {
   "cell_type": "code",
   "execution_count": 1106,
   "metadata": {},
   "outputs": [
    {
     "data": {
      "text/html": [
       "<div>\n",
       "<style scoped>\n",
       "    .dataframe tbody tr th:only-of-type {\n",
       "        vertical-align: middle;\n",
       "    }\n",
       "\n",
       "    .dataframe tbody tr th {\n",
       "        vertical-align: top;\n",
       "    }\n",
       "\n",
       "    .dataframe thead th {\n",
       "        text-align: right;\n",
       "    }\n",
       "</style>\n",
       "<table border=\"1\" class=\"dataframe\">\n",
       "  <thead>\n",
       "    <tr style=\"text-align: right;\">\n",
       "      <th></th>\n",
       "      <th></th>\n",
       "      <th>last_value</th>\n",
       "    </tr>\n",
       "    <tr>\n",
       "      <th>model_id</th>\n",
       "      <th>score_name</th>\n",
       "      <th></th>\n",
       "    </tr>\n",
       "  </thead>\n",
       "  <tbody>\n",
       "    <tr>\n",
       "      <th rowspan=\"9\" valign=\"top\">--07h48m10s_12d06m2020y---</th>\n",
       "      <th>PerlexityScore_ngram</th>\n",
       "      <td>272.051</td>\n",
       "    </tr>\n",
       "    <tr>\n",
       "      <th>PerlexityScore_info</th>\n",
       "      <td>43.6773</td>\n",
       "    </tr>\n",
       "    <tr>\n",
       "      <th>PerlexityScore_specificity</th>\n",
       "      <td>1.03009</td>\n",
       "    </tr>\n",
       "    <tr>\n",
       "      <th>SparsityPhiScore_ngram</th>\n",
       "      <td>0.676354</td>\n",
       "    </tr>\n",
       "    <tr>\n",
       "      <th>SparsityPhiScore_info</th>\n",
       "      <td>0.107178</td>\n",
       "    </tr>\n",
       "    <tr>\n",
       "      <th>SparsityThetaScore</th>\n",
       "      <td>0.175349</td>\n",
       "    </tr>\n",
       "    <tr>\n",
       "      <th>TopTokensScore.average_coherence</th>\n",
       "      <td>0</td>\n",
       "    </tr>\n",
       "    <tr>\n",
       "      <th>TopTokensScore.num_tokens</th>\n",
       "      <td>90</td>\n",
       "    </tr>\n",
       "    <tr>\n",
       "      <th>BackgroundTokensRatioScore</th>\n",
       "      <td>0.297764</td>\n",
       "    </tr>\n",
       "  </tbody>\n",
       "</table>\n",
       "</div>"
      ],
      "text/plain": [
       "                                                            last_value\n",
       "model_id                   score_name                                 \n",
       "--07h48m10s_12d06m2020y--- PerlexityScore_ngram                272.051\n",
       "                           PerlexityScore_info                 43.6773\n",
       "                           PerlexityScore_specificity          1.03009\n",
       "                           SparsityPhiScore_ngram             0.676354\n",
       "                           SparsityPhiScore_info              0.107178\n",
       "                           SparsityThetaScore                 0.175349\n",
       "                           TopTokensScore.average_coherence          0\n",
       "                           TopTokensScore.num_tokens                90\n",
       "                           BackgroundTokensRatioScore         0.297764"
      ]
     },
     "execution_count": 1106,
     "metadata": {},
     "output_type": "execute_result"
    }
   ],
   "source": [
    "topic_model = TopicModel(best_first_model)\n",
    "topic_model.describe_scores()"
   ]
  },
  {
   "cell_type": "code",
   "execution_count": 38,
   "metadata": {},
   "outputs": [
    {
     "data": {
      "text/plain": [
       "[-0.1, 1.1, -0.1, 1.1]"
      ]
     },
     "execution_count": 38,
     "metadata": {},
     "output_type": "execute_result"
    },
    {
     "data": {
      "image/png": "[encoded data removed]",
      "text/plain": [
       "<Figure size 1080x360 with 1 Axes>"
      ]
     },
     "metadata": {
      "needs_background": "light"
     },
     "output_type": "display_data"
    }
   ],
   "source": [
    "plt.figure(figsize=(15, 5))\n",
    "plt.subplot(1, 3, 1)\n",
    "for x, y, actual, predicted, descr in zip([x_artm],\n",
    "                                    [y_artm],\n",
    "                                    [y_test], \n",
    "                                    [y_pred_proba],\n",
    "                                    [\"ARTM classification\"]):\n",
    "    fpr, tpr, thr = roc_curve(actual, predicted)\n",
    "    plt.plot(fpr, tpr, label=descr)\n",
    "    plt.scatter(x, y)\n",
    "plt.xlabel(\"false positive rate\")\n",
    "plt.ylabel(\"true positive rate\")\n",
    "plt.legend(loc=4)\n",
    "plt.axis([-0.1, 1.1, -0.1, 1.1])"
   ]
  },
  {
   "cell_type": "markdown",
   "metadata": {},
   "source": [
    "# ПОДБИРАЕМ ПО СЕТКЕ КОЭФФИЦИЕНТЫ РЕГУЛЯРИЗАЦИИ"
   ]
  },
  {
   "cell_type": "markdown",
   "metadata": {},
   "source": [
    "Добавим регуляризаторы"
   ]
  },
  {
   "cell_type": "code",
   "execution_count": 39,
   "metadata": {},
   "outputs": [],
   "source": [
    "model = best_first_model.clone()"
   ]
  },
  {
   "cell_type": "code",
   "execution_count": 40,
   "metadata": {},
   "outputs": [],
   "source": [
    "file = open('train_without_d0_dictionary.txt', 'w')\n",
    "for token in train_total_without_d0_dict:\n",
    "    file.write(token + '\\n')\n",
    "file.close()"
   ]
  },
  {
   "cell_type": "code",
   "execution_count": 41,
   "metadata": {},
   "outputs": [],
   "source": [
    "train_without_d0_dictionary = artm.Dictionary()\n",
    "train_without_d0_dictionary.gather(data_path='./train_total_batches',\n",
    "                                   vocab_file_path='./train_without_d0_dictionary')"
   ]
  },
  {
   "cell_type": "code",
   "execution_count": 42,
   "metadata": {},
   "outputs": [],
   "source": [
    "# Декоррелирование Ф11_ngram\n",
    "model.regularizers.add(artm.DecorrelatorPhiRegularizer(name='sp_DecorrelatorPhiRegularizer_ngram',\n",
    "                                                       class_ids=['@ngram'],\n",
    "                                                       topic_names=specific_topics))\n",
    "# Декоррелирование Ф11_info\n",
    "model.regularizers.add(artm.DecorrelatorPhiRegularizer(name='sp_DecorrelatorPhiRegularizer_info',\n",
    "                                                       class_ids=['@info'],\n",
    "                                                       topic_names=specific_topics))\n",
    "# Декоррелирование Ф_specificity\n",
    "model.regularizers.add(artm.DecorrelatorPhiRegularizer(name='sp_DecorrelatorPhiRegularizer_specificity',\n",
    "                                                       class_ids=['@specificity']))\n",
    "\n",
    "# Разреживание Тета11\n",
    "model.regularizers.add(artm.SmoothSparseThetaRegularizer(name='sp_SparseThetaRegularizer',\n",
    "                                                         topic_names=specific_topics,\n",
    "                                                         doc_titles=list(map(lambda item: str(item),\n",
    "                                                                             train_d1_indices))))\n",
    "# Разреживание Ф11_ngram\n",
    "model.regularizers.add(artm.SmoothSparsePhiRegularizer(name='sp_SparsePhiRegularizer_ngram',\n",
    "                                                       class_ids=['@ngram'],\n",
    "                                                       topic_names=specific_topics))\n",
    "# Разреживание Ф11_info\n",
    "model.regularizers.add(artm.SmoothSparsePhiRegularizer(name='sp_SparsePhiRegularizer_info',\n",
    "                                                       class_ids=['@info'],\n",
    "                                                       topic_names=specific_topics))\n",
    "# Разреживание Ф11_specificity\n",
    "model.regularizers.add(artm.SmoothSparsePhiRegularizer(name='sp_SparsePhiRegularizer_specificity',\n",
    "                                                       class_ids=['@specificity'],\n",
    "                                                       topic_names=specific_topics))"
   ]
  },
  {
   "cell_type": "markdown",
   "metadata": {},
   "source": [
    "Введем метрики для отслеживания состояния этих подматриц."
   ]
  },
  {
   "cell_type": "code",
   "execution_count": 43,
   "metadata": {},
   "outputs": [],
   "source": [
    "# Ф0\n",
    "model.scores.add(artm.SparsityPhiScore(name='not_sp_SparsePhiScore_ngram', class_id='@ngram',\n",
    "                                       topic_names=not_specific_topics))\n",
    "\n",
    "# Тета11\n",
    "model.scores.add(artm.SparsityThetaScore(name='sp_SparseThetaScore',\n",
    "                                         topic_names=specific_topics))\n",
    "\n",
    "# Ф1\n",
    "model.scores.add(artm.SparsityPhiScore(name='sp_SparsePhiScore_ngram', class_id='@ngram',\n",
    "                                       topic_names=specific_topics))"
   ]
  },
  {
   "cell_type": "markdown",
   "metadata": {},
   "source": [
    "Но именно для этих подматриц нельзя, так как есть только переменные topic_names, но нет dictionary. Так что это не блочные матрицы, а все столбцы."
   ]
  },
  {
   "cell_type": "code",
   "execution_count": 44,
   "metadata": {},
   "outputs": [],
   "source": [
    "scores_name = ['tau_Smooth_Phi00_ngram', 'tau_Smooth_Phi00_info', 'tau_Smooth_Phi00_specificity',\n",
    "               'tau_SparsePhi_ngram', 'tau_SparsePhi_info', 'tau_SparsePhi_specificity', 'tau_SparseTheta',\n",
    "               'tau_DecorrelatorPhi_ngram', 'tau_DecorrelatorPhi_info', 'tau_DecorrelatorPhi_specificity',\n",
    "              'roc_auc','precision','recall','accuracy']\n",
    "metrics_reg = pd.DataFrame(columns=scores_name)"
   ]
  },
  {
   "cell_type": "code",
   "execution_count": 45,
   "metadata": {
    "scrolled": true
   },
   "outputs": [
    {
     "name": "stdout",
     "output_type": "stream",
     "text": [
      "0\n"
     ]
    },
    {
     "data": {
      "application/vnd.jupyter.widget-view+json": {
       "model_id": "9b896f076de443389d5e96c7041b218f",
       "version_major": 2,
       "version_minor": 0
      },
      "text/plain": [
       "HBox(children=(FloatProgress(value=0.0, description='Pass', max=20.0, style=ProgressStyle(description_width='i…"
      ]
     },
     "metadata": {},
     "output_type": "display_data"
    },
    {
     "data": {
      "application/vnd.jupyter.widget-view+json": {
       "model_id": "",
       "version_major": 2,
       "version_minor": 0
      },
      "text/plain": [
       "HBox(children=(FloatProgress(value=0.0, description='Batch', max=1.0, style=ProgressStyle(description_width='i…"
      ]
     },
     "metadata": {},
     "output_type": "display_data"
    },
    {
     "data": {
      "application/vnd.jupyter.widget-view+json": {
       "model_id": "",
       "version_major": 2,
       "version_minor": 0
      },
      "text/plain": [
       "HBox(children=(FloatProgress(value=0.0, description='Batch', max=1.0, style=ProgressStyle(description_width='i…"
      ]
     },
     "metadata": {},
     "output_type": "display_data"
    },
    {
     "data": {
      "application/vnd.jupyter.widget-view+json": {
       "model_id": "",
       "version_major": 2,
       "version_minor": 0
      },
      "text/plain": [
       "HBox(children=(FloatProgress(value=0.0, description='Batch', max=1.0, style=ProgressStyle(description_width='i…"
      ]
     },
     "metadata": {},
     "output_type": "display_data"
    },
    {
     "data": {
      "application/vnd.jupyter.widget-view+json": {
       "model_id": "",
       "version_major": 2,
       "version_minor": 0
      },
      "text/plain": [
       "HBox(children=(FloatProgress(value=0.0, description='Batch', max=1.0, style=ProgressStyle(description_width='i…"
      ]
     },
     "metadata": {},
     "output_type": "display_data"
    },
    {
     "data": {
      "application/vnd.jupyter.widget-view+json": {
       "model_id": "",
       "version_major": 2,
       "version_minor": 0
      },
      "text/plain": [
       "HBox(children=(FloatProgress(value=0.0, description='Batch', max=1.0, style=ProgressStyle(description_width='i…"
      ]
     },
     "metadata": {},
     "output_type": "display_data"
    },
    {
     "data": {
      "application/vnd.jupyter.widget-view+json": {
       "model_id": "",
       "version_major": 2,
       "version_minor": 0
      },
      "text/plain": [
       "HBox(children=(FloatProgress(value=0.0, description='Batch', max=1.0, style=ProgressStyle(description_width='i…"
      ]
     },
     "metadata": {},
     "output_type": "display_data"
    },
    {
     "data": {
      "application/vnd.jupyter.widget-view+json": {
       "model_id": "",
       "version_major": 2,
       "version_minor": 0
      },
      "text/plain": [
       "HBox(children=(FloatProgress(value=0.0, description='Batch', max=1.0, style=ProgressStyle(description_width='i…"
      ]
     },
     "metadata": {},
     "output_type": "display_data"
    },
    {
     "data": {
      "application/vnd.jupyter.widget-view+json": {
       "model_id": "",
       "version_major": 2,
       "version_minor": 0
      },
      "text/plain": [
       "HBox(children=(FloatProgress(value=0.0, description='Batch', max=1.0, style=ProgressStyle(description_width='i…"
      ]
     },
     "metadata": {},
     "output_type": "display_data"
    },
    {
     "data": {
      "application/vnd.jupyter.widget-view+json": {
       "model_id": "",
       "version_major": 2,
       "version_minor": 0
      },
      "text/plain": [
       "HBox(children=(FloatProgress(value=0.0, description='Batch', max=1.0, style=ProgressStyle(description_width='i…"
      ]
     },
     "metadata": {},
     "output_type": "display_data"
    },
    {
     "data": {
      "application/vnd.jupyter.widget-view+json": {
       "model_id": "",
       "version_major": 2,
       "version_minor": 0
      },
      "text/plain": [
       "HBox(children=(FloatProgress(value=0.0, description='Batch', max=1.0, style=ProgressStyle(description_width='i…"
      ]
     },
     "metadata": {},
     "output_type": "display_data"
    },
    {
     "data": {
      "application/vnd.jupyter.widget-view+json": {
       "model_id": "",
       "version_major": 2,
       "version_minor": 0
      },
      "text/plain": [
       "HBox(children=(FloatProgress(value=0.0, description='Batch', max=1.0, style=ProgressStyle(description_width='i…"
      ]
     },
     "metadata": {},
     "output_type": "display_data"
    },
    {
     "data": {
      "application/vnd.jupyter.widget-view+json": {
       "model_id": "",
       "version_major": 2,
       "version_minor": 0
      },
      "text/plain": [
       "HBox(children=(FloatProgress(value=0.0, description='Batch', max=1.0, style=ProgressStyle(description_width='i…"
      ]
     },
     "metadata": {},
     "output_type": "display_data"
    },
    {
     "data": {
      "application/vnd.jupyter.widget-view+json": {
       "model_id": "",
       "version_major": 2,
       "version_minor": 0
      },
      "text/plain": [
       "HBox(children=(FloatProgress(value=0.0, description='Batch', max=1.0, style=ProgressStyle(description_width='i…"
      ]
     },
     "metadata": {},
     "output_type": "display_data"
    },
    {
     "data": {
      "application/vnd.jupyter.widget-view+json": {
       "model_id": "",
       "version_major": 2,
       "version_minor": 0
      },
      "text/plain": [
       "HBox(children=(FloatProgress(value=0.0, description='Batch', max=1.0, style=ProgressStyle(description_width='i…"
      ]
     },
     "metadata": {},
     "output_type": "display_data"
    },
    {
     "data": {
      "application/vnd.jupyter.widget-view+json": {
       "model_id": "",
       "version_major": 2,
       "version_minor": 0
      },
      "text/plain": [
       "HBox(children=(FloatProgress(value=0.0, description='Batch', max=1.0, style=ProgressStyle(description_width='i…"
      ]
     },
     "metadata": {},
     "output_type": "display_data"
    },
    {
     "data": {
      "application/vnd.jupyter.widget-view+json": {
       "model_id": "",
       "version_major": 2,
       "version_minor": 0
      },
      "text/plain": [
       "HBox(children=(FloatProgress(value=0.0, description='Batch', max=1.0, style=ProgressStyle(description_width='i…"
      ]
     },
     "metadata": {},
     "output_type": "display_data"
    },
    {
     "data": {
      "application/vnd.jupyter.widget-view+json": {
       "model_id": "",
       "version_major": 2,
       "version_minor": 0
      },
      "text/plain": [
       "HBox(children=(FloatProgress(value=0.0, description='Batch', max=1.0, style=ProgressStyle(description_width='i…"
      ]
     },
     "metadata": {},
     "output_type": "display_data"
    },
    {
     "data": {
      "application/vnd.jupyter.widget-view+json": {
       "model_id": "",
       "version_major": 2,
       "version_minor": 0
      },
      "text/plain": [
       "HBox(children=(FloatProgress(value=0.0, description='Batch', max=1.0, style=ProgressStyle(description_width='i…"
      ]
     },
     "metadata": {},
     "output_type": "display_data"
    },
    {
     "data": {
      "application/vnd.jupyter.widget-view+json": {
       "model_id": "",
       "version_major": 2,
       "version_minor": 0
      },
      "text/plain": [
       "HBox(children=(FloatProgress(value=0.0, description='Batch', max=1.0, style=ProgressStyle(description_width='i…"
      ]
     },
     "metadata": {},
     "output_type": "display_data"
    },
    {
     "data": {
      "application/vnd.jupyter.widget-view+json": {
       "model_id": "",
       "version_major": 2,
       "version_minor": 0
      },
      "text/plain": [
       "HBox(children=(FloatProgress(value=0.0, description='Batch', max=1.0, style=ProgressStyle(description_width='i…"
      ]
     },
     "metadata": {},
     "output_type": "display_data"
    },
    {
     "name": "stdout",
     "output_type": "stream",
     "text": [
      "\n"
     ]
    },
    {
     "data": {
      "application/vnd.jupyter.widget-view+json": {
       "model_id": "",
       "version_major": 2,
       "version_minor": 0
      },
      "text/plain": [
       "HBox(children=(FloatProgress(value=0.0, description='Batch', max=1.0, style=ProgressStyle(description_width='i…"
      ]
     },
     "metadata": {},
     "output_type": "display_data"
    },
    {
     "name": "stdout",
     "output_type": "stream",
     "text": [
      "tau_Smooth_Phi00_ngram             2830.000000\n",
      "tau_Smooth_Phi00_info                 0.000000\n",
      "tau_Smooth_Phi00_specificity          0.000000\n",
      "tau_SparsePhi_ngram                   2.300000\n",
      "tau_SparsePhi_info                  -33.000000\n",
      "tau_SparsePhi_specificity             0.000000\n",
      "tau_SparseTheta                      -1.160000\n",
      "tau_DecorrelatorPhi_ngram           120.000000\n",
      "tau_DecorrelatorPhi_info            102.600000\n",
      "tau_DecorrelatorPhi_specificity       0.000000\n",
      "roc_auc                               0.855956\n",
      "precision                             0.728232\n",
      "recall                                0.830075\n",
      "accuracy                              0.785474\n",
      "Name: 0, dtype: float64\n"
     ]
    }
   ],
   "source": [
    "grid_SparsePhi_ngram = [2.3]\n",
    "grid_SparsePhi_info = [-33]\n",
    "grid_SparsePhi_specificity = [0]\n",
    "grid_SparseTheta = [-1.16]\n",
    "grid_DecorrelatorPhi_ngram = [120]\n",
    "grid_DecorrelatorPhi_info = [102.6]\n",
    "grid_DecorrelatorPhi_specificity = [0]\n",
    "grid_Smooth_Phi00_ngram = [2830]\n",
    "grid_Smooth_Phi00_info = [0]\n",
    "grid_Smooth_Phi00_specificity = [0]\n",
    "\n",
    "index = 0\n",
    "\n",
    "for tau_Smooth_Phi00_ngram in grid_Smooth_Phi00_ngram:\n",
    "    for tau_Smooth_Phi00_info in grid_Smooth_Phi00_info:\n",
    "        for tau_Smooth_Phi00_specificity in grid_Smooth_Phi00_specificity:\n",
    "            for tau_SparsePhi_ngram in grid_SparsePhi_ngram:\n",
    "                for tau_SparsePhi_info in grid_SparsePhi_info:\n",
    "                    for tau_SparsePhi_specificity in grid_SparsePhi_specificity:\n",
    "                        for tau_SparseTheta in grid_SparseTheta:\n",
    "                            for tau_DecorrelatorPhi_ngram in grid_DecorrelatorPhi_ngram:\n",
    "                                for tau_DecorrelatorPhi_info in grid_DecorrelatorPhi_info:\n",
    "                                    for tau_DecorrelatorPhi_specificity in grid_DecorrelatorPhi_specificity:\n",
    "                                        print(index)\n",
    "\n",
    "                                        reg_model = model.clone()\n",
    "\n",
    "                                        reg_model.regularizers['sp_SparsePhiRegularizer_ngram'].tau = tau_SparsePhi_ngram\n",
    "                                        reg_model.regularizers['sp_SparsePhiRegularizer_info'].tau = tau_SparsePhi_info\n",
    "                                        reg_model.regularizers['sp_SparsePhiRegularizer_specificity'].tau = tau_SparsePhi_specificity\n",
    "                                        reg_model.regularizers['sp_SparseThetaRegularizer'].tau = tau_SparseTheta\n",
    "                                        reg_model.regularizers['sp_DecorrelatorPhiRegularizer_ngram'].tau = tau_DecorrelatorPhi_ngram\n",
    "                                        reg_model.regularizers['sp_DecorrelatorPhiRegularizer_info'].tau = tau_DecorrelatorPhi_info\n",
    "                                        reg_model.regularizers['sp_DecorrelatorPhiRegularizer_specificity'].tau = tau_DecorrelatorPhi_specificity\n",
    "\n",
    "                                        reg_model.regularizers['Smooth_Phi00_Regularizer_ngram'].tau = tau_Smooth_Phi00_ngram\n",
    "                                        reg_model.regularizers['Smooth_Phi00_Regularizer_info'].tau = tau_Smooth_Phi00_info\n",
    "                                        reg_model.regularizers['Smooth_Phi00_Regularizer_specificity'].tau = tau_Smooth_Phi00_specificity\n",
    "\n",
    "                                        reg_model.fit_offline(batch_vectorizer=train_total_batch_vectorizer, num_collection_passes=20)\n",
    "\n",
    "\n",
    "                                        p_cd_test = reg_model.transform(batch_vectorizer=test_total_batch_vectorizer,\n",
    "                                                                        predict_class_id='@specificity')\n",
    "\n",
    "                                        reg_model.remove_theta()\n",
    "                                        y_pred_proba = p_cd_test.loc['1']\n",
    "                                        fpr, tpr, thresholds = roc_curve(y_test, y_pred_proba)\n",
    "\n",
    "                                        dist_min = math.inf\n",
    "                                        for x, y, treshold in zip(fpr, tpr, thresholds):\n",
    "                                            if euclidean([0, 1], [x, y]) < dist_min:\n",
    "                                                T_artm = treshold\n",
    "                                                dist_min = euclidean([0, 1], [x, y])\n",
    "                                                x_artm = x\n",
    "                                                y_artm = y\n",
    "\n",
    "                                        y_pred_labels = []\n",
    "                                        for document in p_cd_test.columns:\n",
    "                                            if p_cd_test[document].loc['1'] >= T_artm:\n",
    "                                                y_pred_labels.append(1)\n",
    "                                            else:\n",
    "                                                y_pred_labels.append(0)\n",
    "\n",
    "                                        roc_auc = roc_auc_score(y_test, y_pred_proba)\n",
    "                                        precision = precision_score(y_test, y_pred_labels)\n",
    "                                        recall = recall_score(y_test, y_pred_labels)\n",
    "                                        accuracy = accuracy_score(y_test, y_pred_labels)\n",
    "\n",
    "                                        topic_model = TopicModel(reg_model)\n",
    "                                        metrics_reg.loc[index] = [tau_Smooth_Phi00_ngram, tau_Smooth_Phi00_info, tau_Smooth_Phi00_specificity,\n",
    "                                                                  tau_SparsePhi_ngram, tau_SparsePhi_info,\n",
    "                                                                  tau_SparsePhi_specificity, tau_SparseTheta,\n",
    "                                                                  tau_DecorrelatorPhi_ngram, tau_DecorrelatorPhi_info,\n",
    "                                                                  tau_DecorrelatorPhi_specificity,\n",
    "                                                                  roc_auc, precision, recall, accuracy]              \n",
    "                                        print(metrics_reg.loc[index])\n",
    "                                        index += 1"
   ]
  },
  {
   "cell_type": "code",
   "execution_count": 46,
   "metadata": {
    "scrolled": false
   },
   "outputs": [
    {
     "data": {
      "text/plain": [
       "0.8559555823866234"
      ]
     },
     "execution_count": 46,
     "metadata": {},
     "output_type": "execute_result"
    }
   ],
   "source": [
    "metrics_reg['roc_auc'].max()"
   ]
  },
  {
   "cell_type": "code",
   "execution_count": 47,
   "metadata": {},
   "outputs": [
    {
     "data": {
      "text/html": [
       "<div>\n",
       "<style scoped>\n",
       "    .dataframe tbody tr th:only-of-type {\n",
       "        vertical-align: middle;\n",
       "    }\n",
       "\n",
       "    .dataframe tbody tr th {\n",
       "        vertical-align: top;\n",
       "    }\n",
       "\n",
       "    .dataframe thead th {\n",
       "        text-align: right;\n",
       "    }\n",
       "</style>\n",
       "<table border=\"1\" class=\"dataframe\">\n",
       "  <thead>\n",
       "    <tr style=\"text-align: right;\">\n",
       "      <th></th>\n",
       "      <th>tau_Smooth_Phi00_ngram</th>\n",
       "      <th>tau_Smooth_Phi00_info</th>\n",
       "      <th>tau_Smooth_Phi00_specificity</th>\n",
       "      <th>tau_SparsePhi_ngram</th>\n",
       "      <th>tau_SparsePhi_info</th>\n",
       "      <th>tau_SparsePhi_specificity</th>\n",
       "      <th>tau_SparseTheta</th>\n",
       "      <th>tau_DecorrelatorPhi_ngram</th>\n",
       "      <th>tau_DecorrelatorPhi_info</th>\n",
       "      <th>tau_DecorrelatorPhi_specificity</th>\n",
       "      <th>roc_auc</th>\n",
       "      <th>precision</th>\n",
       "      <th>recall</th>\n",
       "      <th>accuracy</th>\n",
       "    </tr>\n",
       "  </thead>\n",
       "  <tbody>\n",
       "    <tr>\n",
       "      <th>0</th>\n",
       "      <td>2830.0</td>\n",
       "      <td>0.0</td>\n",
       "      <td>0.0</td>\n",
       "      <td>2.3</td>\n",
       "      <td>-33.0</td>\n",
       "      <td>0.0</td>\n",
       "      <td>-1.16</td>\n",
       "      <td>120.0</td>\n",
       "      <td>102.6</td>\n",
       "      <td>0.0</td>\n",
       "      <td>0.855956</td>\n",
       "      <td>0.728232</td>\n",
       "      <td>0.830075</td>\n",
       "      <td>0.785474</td>\n",
       "    </tr>\n",
       "  </tbody>\n",
       "</table>\n",
       "</div>"
      ],
      "text/plain": [
       "   tau_Smooth_Phi00_ngram  tau_Smooth_Phi00_info  \\\n",
       "0                  2830.0                    0.0   \n",
       "\n",
       "   tau_Smooth_Phi00_specificity  tau_SparsePhi_ngram  tau_SparsePhi_info  \\\n",
       "0                           0.0                  2.3               -33.0   \n",
       "\n",
       "   tau_SparsePhi_specificity  tau_SparseTheta  tau_DecorrelatorPhi_ngram  \\\n",
       "0                        0.0            -1.16                      120.0   \n",
       "\n",
       "   tau_DecorrelatorPhi_info  tau_DecorrelatorPhi_specificity   roc_auc  \\\n",
       "0                     102.6                              0.0  0.855956   \n",
       "\n",
       "   precision    recall  accuracy  \n",
       "0   0.728232  0.830075  0.785474  "
      ]
     },
     "execution_count": 47,
     "metadata": {},
     "output_type": "execute_result"
    }
   ],
   "source": [
    "metrics_reg[metrics_reg['roc_auc'] == metrics_reg['roc_auc'].max()]"
   ]
  },
  {
   "cell_type": "code",
   "execution_count": 48,
   "metadata": {},
   "outputs": [
    {
     "data": {
      "text/html": [
       "<div>\n",
       "<style scoped>\n",
       "    .dataframe tbody tr th:only-of-type {\n",
       "        vertical-align: middle;\n",
       "    }\n",
       "\n",
       "    .dataframe tbody tr th {\n",
       "        vertical-align: top;\n",
       "    }\n",
       "\n",
       "    .dataframe thead th {\n",
       "        text-align: right;\n",
       "    }\n",
       "</style>\n",
       "<table border=\"1\" class=\"dataframe\">\n",
       "  <thead>\n",
       "    <tr style=\"text-align: right;\">\n",
       "      <th></th>\n",
       "      <th></th>\n",
       "      <th>last_value</th>\n",
       "    </tr>\n",
       "    <tr>\n",
       "      <th>model_id</th>\n",
       "      <th>score_name</th>\n",
       "      <th></th>\n",
       "    </tr>\n",
       "  </thead>\n",
       "  <tbody>\n",
       "    <tr>\n",
       "      <th rowspan=\"12\" valign=\"top\">--01h44m09s_12d06m2020y---</th>\n",
       "      <th>PerlexityScore_ngram</th>\n",
       "      <td>283.632</td>\n",
       "    </tr>\n",
       "    <tr>\n",
       "      <th>PerlexityScore_info</th>\n",
       "      <td>57.6362</td>\n",
       "    </tr>\n",
       "    <tr>\n",
       "      <th>PerlexityScore_specificity</th>\n",
       "      <td>1.02965</td>\n",
       "    </tr>\n",
       "    <tr>\n",
       "      <th>SparsityPhiScore_ngram</th>\n",
       "      <td>0.141178</td>\n",
       "    </tr>\n",
       "    <tr>\n",
       "      <th>SparsityPhiScore_info</th>\n",
       "      <td>0.596943</td>\n",
       "    </tr>\n",
       "    <tr>\n",
       "      <th>SparsityThetaScore</th>\n",
       "      <td>0.27679</td>\n",
       "    </tr>\n",
       "    <tr>\n",
       "      <th>TopTokensScore.average_coherence</th>\n",
       "      <td>0</td>\n",
       "    </tr>\n",
       "    <tr>\n",
       "      <th>TopTokensScore.num_tokens</th>\n",
       "      <td>110</td>\n",
       "    </tr>\n",
       "    <tr>\n",
       "      <th>BackgroundTokensRatioScore</th>\n",
       "      <td>0.575149</td>\n",
       "    </tr>\n",
       "    <tr>\n",
       "      <th>not_sp_SparsePhiScore_ngram</th>\n",
       "      <td>0.388239</td>\n",
       "    </tr>\n",
       "    <tr>\n",
       "      <th>sp_SparseThetaScore</th>\n",
       "      <td>0.375268</td>\n",
       "    </tr>\n",
       "    <tr>\n",
       "      <th>sp_SparsePhiScore_ngram</th>\n",
       "      <td>0</td>\n",
       "    </tr>\n",
       "  </tbody>\n",
       "</table>\n",
       "</div>"
      ],
      "text/plain": [
       "                                                            last_value\n",
       "model_id                   score_name                                 \n",
       "--01h44m09s_12d06m2020y--- PerlexityScore_ngram                283.632\n",
       "                           PerlexityScore_info                 57.6362\n",
       "                           PerlexityScore_specificity          1.02965\n",
       "                           SparsityPhiScore_ngram             0.141178\n",
       "                           SparsityPhiScore_info              0.596943\n",
       "                           SparsityThetaScore                  0.27679\n",
       "                           TopTokensScore.average_coherence          0\n",
       "                           TopTokensScore.num_tokens               110\n",
       "                           BackgroundTokensRatioScore         0.575149\n",
       "                           not_sp_SparsePhiScore_ngram        0.388239\n",
       "                           sp_SparseThetaScore                0.375268\n",
       "                           sp_SparsePhiScore_ngram                   0"
      ]
     },
     "execution_count": 48,
     "metadata": {},
     "output_type": "execute_result"
    }
   ],
   "source": [
    "topic_model.describe_scores()"
   ]
  },
  {
   "cell_type": "code",
   "execution_count": 49,
   "metadata": {
    "scrolled": false
   },
   "outputs": [
    {
     "data": {
      "text/html": [
       "<div>\n",
       "<style scoped>\n",
       "    .dataframe tbody tr th:only-of-type {\n",
       "        vertical-align: middle;\n",
       "    }\n",
       "\n",
       "    .dataframe tbody tr th {\n",
       "        vertical-align: top;\n",
       "    }\n",
       "\n",
       "    .dataframe thead th {\n",
       "        text-align: right;\n",
       "    }\n",
       "</style>\n",
       "<table border=\"1\" class=\"dataframe\">\n",
       "  <thead>\n",
       "    <tr style=\"text-align: right;\">\n",
       "      <th></th>\n",
       "      <th>tau_Smooth_Phi00_ngram</th>\n",
       "      <th>tau_Smooth_Phi00_info</th>\n",
       "      <th>tau_Smooth_Phi00_specificity</th>\n",
       "      <th>tau_SparsePhi_ngram</th>\n",
       "      <th>tau_SparsePhi_info</th>\n",
       "      <th>tau_SparsePhi_specificity</th>\n",
       "      <th>tau_SparseTheta</th>\n",
       "      <th>tau_DecorrelatorPhi_ngram</th>\n",
       "      <th>tau_DecorrelatorPhi_info</th>\n",
       "      <th>tau_DecorrelatorPhi_specificity</th>\n",
       "      <th>roc_auc</th>\n",
       "      <th>precision</th>\n",
       "      <th>recall</th>\n",
       "      <th>accuracy</th>\n",
       "    </tr>\n",
       "  </thead>\n",
       "  <tbody>\n",
       "    <tr>\n",
       "      <th>0</th>\n",
       "      <td>2830.0</td>\n",
       "      <td>0.0</td>\n",
       "      <td>0.0</td>\n",
       "      <td>2.3</td>\n",
       "      <td>-33.0</td>\n",
       "      <td>0.0</td>\n",
       "      <td>-1.16</td>\n",
       "      <td>120.0</td>\n",
       "      <td>102.6</td>\n",
       "      <td>0.0</td>\n",
       "      <td>0.855956</td>\n",
       "      <td>0.728232</td>\n",
       "      <td>0.830075</td>\n",
       "      <td>0.785474</td>\n",
       "    </tr>\n",
       "  </tbody>\n",
       "</table>\n",
       "</div>"
      ],
      "text/plain": [
       "   tau_Smooth_Phi00_ngram  tau_Smooth_Phi00_info  \\\n",
       "0                  2830.0                    0.0   \n",
       "\n",
       "   tau_Smooth_Phi00_specificity  tau_SparsePhi_ngram  tau_SparsePhi_info  \\\n",
       "0                           0.0                  2.3               -33.0   \n",
       "\n",
       "   tau_SparsePhi_specificity  tau_SparseTheta  tau_DecorrelatorPhi_ngram  \\\n",
       "0                        0.0            -1.16                      120.0   \n",
       "\n",
       "   tau_DecorrelatorPhi_info  tau_DecorrelatorPhi_specificity   roc_auc  \\\n",
       "0                     102.6                              0.0  0.855956   \n",
       "\n",
       "   precision    recall  accuracy  \n",
       "0   0.728232  0.830075  0.785474  "
      ]
     },
     "execution_count": 49,
     "metadata": {},
     "output_type": "execute_result"
    }
   ],
   "source": [
    "metrics_reg"
   ]
  },
  {
   "cell_type": "code",
   "execution_count": 50,
   "metadata": {},
   "outputs": [
    {
     "data": {
      "image/png": "[encoded data removed]",
      "text/plain": [
       "<Figure size 432x288 with 1 Axes>"
      ]
     },
     "metadata": {
      "needs_background": "light"
     },
     "output_type": "display_data"
    }
   ],
   "source": [
    "perplexity_plot(reg_model, score_name='PerlexityScore_ngram')"
   ]
  },
  {
   "cell_type": "code",
   "execution_count": 51,
   "metadata": {
    "scrolled": true
   },
   "outputs": [
    {
     "data": {
      "text/html": [
       "<div>\n",
       "<style scoped>\n",
       "    .dataframe tbody tr th:only-of-type {\n",
       "        vertical-align: middle;\n",
       "    }\n",
       "\n",
       "    .dataframe tbody tr th {\n",
       "        vertical-align: top;\n",
       "    }\n",
       "\n",
       "    .dataframe thead th {\n",
       "        text-align: right;\n",
       "    }\n",
       "</style>\n",
       "<table border=\"1\" class=\"dataframe\">\n",
       "  <thead>\n",
       "    <tr style=\"text-align: right;\">\n",
       "      <th></th>\n",
       "      <th>tau_Smooth_Phi00_ngram</th>\n",
       "      <th>tau_Smooth_Phi00_info</th>\n",
       "      <th>tau_Smooth_Phi00_specificity</th>\n",
       "      <th>tau_SparsePhi_ngram</th>\n",
       "      <th>tau_SparsePhi_info</th>\n",
       "      <th>tau_SparsePhi_specificity</th>\n",
       "      <th>tau_SparseTheta</th>\n",
       "      <th>tau_DecorrelatorPhi_ngram</th>\n",
       "      <th>tau_DecorrelatorPhi_info</th>\n",
       "      <th>tau_DecorrelatorPhi_specificity</th>\n",
       "      <th>roc_auc</th>\n",
       "      <th>precision</th>\n",
       "      <th>recall</th>\n",
       "      <th>accuracy</th>\n",
       "    </tr>\n",
       "  </thead>\n",
       "  <tbody>\n",
       "    <tr>\n",
       "      <th>0</th>\n",
       "      <td>2830.0</td>\n",
       "      <td>0.0</td>\n",
       "      <td>0.0</td>\n",
       "      <td>2.3</td>\n",
       "      <td>-33.0</td>\n",
       "      <td>0.0</td>\n",
       "      <td>-1.16</td>\n",
       "      <td>120.0</td>\n",
       "      <td>102.6</td>\n",
       "      <td>0.0</td>\n",
       "      <td>0.855956</td>\n",
       "      <td>0.728232</td>\n",
       "      <td>0.830075</td>\n",
       "      <td>0.785474</td>\n",
       "    </tr>\n",
       "  </tbody>\n",
       "</table>\n",
       "</div>"
      ],
      "text/plain": [
       "   tau_Smooth_Phi00_ngram  tau_Smooth_Phi00_info  \\\n",
       "0                  2830.0                    0.0   \n",
       "\n",
       "   tau_Smooth_Phi00_specificity  tau_SparsePhi_ngram  tau_SparsePhi_info  \\\n",
       "0                           0.0                  2.3               -33.0   \n",
       "\n",
       "   tau_SparsePhi_specificity  tau_SparseTheta  tau_DecorrelatorPhi_ngram  \\\n",
       "0                        0.0            -1.16                      120.0   \n",
       "\n",
       "   tau_DecorrelatorPhi_info  tau_DecorrelatorPhi_specificity   roc_auc  \\\n",
       "0                     102.6                              0.0  0.855956   \n",
       "\n",
       "   precision    recall  accuracy  \n",
       "0   0.728232  0.830075  0.785474  "
      ]
     },
     "execution_count": 51,
     "metadata": {},
     "output_type": "execute_result"
    }
   ],
   "source": [
    "metrics_reg.loc[metrics_reg['roc_auc'] > 0.85]"
   ]
  },
  {
   "cell_type": "code",
   "execution_count": 52,
   "metadata": {
    "scrolled": true
   },
   "outputs": [
    {
     "data": {
      "text/plain": [
       "0    0.855956\n",
       "Name: roc_auc, dtype: float64"
      ]
     },
     "execution_count": 52,
     "metadata": {},
     "output_type": "execute_result"
    }
   ],
   "source": [
    "metrics_reg['roc_auc']"
   ]
  },
  {
   "cell_type": "markdown",
   "metadata": {},
   "source": [
    "# Построим лучшую модель с лучшими параметрами"
   ]
  },
  {
   "cell_type": "code",
   "execution_count": 53,
   "metadata": {},
   "outputs": [],
   "source": [
    "tau_SparsePhi_ngram = 2.3\n",
    "tau_SparsePhi_info = -33\n",
    "tau_SparsePhi_specificity = 0\n",
    "tau_SparseTheta = -1.16\n",
    "tau_DecorrelatorPhi_ngram = 120\n",
    "tau_DecorrelatorPhi_info = 102.6\n",
    "tau_DecorrelatorPhi_specificity = 0\n",
    "tau_Smooth_Phi00_ngram = 2830\n",
    "tau_Smooth_Phi00_info = 0\n",
    "tau_Smooth_Phi00_specificity = 0"
   ]
  },
  {
   "cell_type": "code",
   "execution_count": 54,
   "metadata": {},
   "outputs": [],
   "source": [
    "reg_best_model = best_first_model.clone()"
   ]
  },
  {
   "cell_type": "code",
   "execution_count": 55,
   "metadata": {},
   "outputs": [],
   "source": [
    "reg_best_model.scores.add(artm.TopicMassPhiScore(name='TopicMassPhiScore', model_name=reg_model.model_nwt))"
   ]
  },
  {
   "cell_type": "code",
   "execution_count": 56,
   "metadata": {},
   "outputs": [],
   "source": [
    "# Декоррелирование Ф11_ngram\n",
    "reg_best_model.regularizers.add(artm.DecorrelatorPhiRegularizer(name='sp_DecorrelatorPhiRegularizer_ngram',\n",
    "                                                       class_ids=['@ngram'],\n",
    "                                                       topic_names=specific_topics))\n",
    "# Декоррелирование Ф11_info\n",
    "reg_best_model.regularizers.add(artm.DecorrelatorPhiRegularizer(name='sp_DecorrelatorPhiRegularizer_info',\n",
    "                                                       class_ids=['@info'],\n",
    "                                                       topic_names=specific_topics))\n",
    "# Декоррелирование Ф_specificity\n",
    "reg_best_model.regularizers.add(artm.DecorrelatorPhiRegularizer(name='sp_DecorrelatorPhiRegularizer_specificity',\n",
    "                                                       class_ids=['@specificity']))\n",
    "\n",
    "# Разреживание Тета11\n",
    "reg_best_model.regularizers.add(artm.SmoothSparseThetaRegularizer(name='sp_SparseThetaRegularizer',\n",
    "                                                         topic_names=specific_topics,\n",
    "                                                         doc_titles=list(map(lambda item: str(item),\n",
    "                                                                             train_d1_indices))))\n",
    "# Разреживание Ф11_ngram\n",
    "reg_best_model.regularizers.add(artm.SmoothSparsePhiRegularizer(name='sp_SparsePhiRegularizer_ngram',\n",
    "                                                       class_ids=['@ngram'],\n",
    "                                                       topic_names=specific_topics))\n",
    "# Разреживание Ф11_info\n",
    "reg_best_model.regularizers.add(artm.SmoothSparsePhiRegularizer(name='sp_SparsePhiRegularizer_info',\n",
    "                                                       class_ids=['@info'],\n",
    "                                                       topic_names=specific_topics))\n",
    "# Разреживание Ф11_specificity\n",
    "reg_best_model.regularizers.add(artm.SmoothSparsePhiRegularizer(name='sp_SparsePhiRegularizer_specificity',\n",
    "                                                       class_ids=['@specificity'],\n",
    "                                                       topic_names=specific_topics))"
   ]
  },
  {
   "cell_type": "code",
   "execution_count": 57,
   "metadata": {},
   "outputs": [
    {
     "data": {
      "application/vnd.jupyter.widget-view+json": {
       "model_id": "87ec048d3ffc45059496814dabe2f2da",
       "version_major": 2,
       "version_minor": 0
      },
      "text/plain": [
       "HBox(children=(FloatProgress(value=0.0, description='Pass', max=20.0, style=ProgressStyle(description_width='i…"
      ]
     },
     "metadata": {},
     "output_type": "display_data"
    },
    {
     "data": {
      "application/vnd.jupyter.widget-view+json": {
       "model_id": "",
       "version_major": 2,
       "version_minor": 0
      },
      "text/plain": [
       "HBox(children=(FloatProgress(value=0.0, description='Batch', max=1.0, style=ProgressStyle(description_width='i…"
      ]
     },
     "metadata": {},
     "output_type": "display_data"
    },
    {
     "data": {
      "application/vnd.jupyter.widget-view+json": {
       "model_id": "",
       "version_major": 2,
       "version_minor": 0
      },
      "text/plain": [
       "HBox(children=(FloatProgress(value=0.0, description='Batch', max=1.0, style=ProgressStyle(description_width='i…"
      ]
     },
     "metadata": {},
     "output_type": "display_data"
    },
    {
     "data": {
      "application/vnd.jupyter.widget-view+json": {
       "model_id": "",
       "version_major": 2,
       "version_minor": 0
      },
      "text/plain": [
       "HBox(children=(FloatProgress(value=0.0, description='Batch', max=1.0, style=ProgressStyle(description_width='i…"
      ]
     },
     "metadata": {},
     "output_type": "display_data"
    },
    {
     "data": {
      "application/vnd.jupyter.widget-view+json": {
       "model_id": "",
       "version_major": 2,
       "version_minor": 0
      },
      "text/plain": [
       "HBox(children=(FloatProgress(value=0.0, description='Batch', max=1.0, style=ProgressStyle(description_width='i…"
      ]
     },
     "metadata": {},
     "output_type": "display_data"
    },
    {
     "data": {
      "application/vnd.jupyter.widget-view+json": {
       "model_id": "",
       "version_major": 2,
       "version_minor": 0
      },
      "text/plain": [
       "HBox(children=(FloatProgress(value=0.0, description='Batch', max=1.0, style=ProgressStyle(description_width='i…"
      ]
     },
     "metadata": {},
     "output_type": "display_data"
    },
    {
     "data": {
      "application/vnd.jupyter.widget-view+json": {
       "model_id": "",
       "version_major": 2,
       "version_minor": 0
      },
      "text/plain": [
       "HBox(children=(FloatProgress(value=0.0, description='Batch', max=1.0, style=ProgressStyle(description_width='i…"
      ]
     },
     "metadata": {},
     "output_type": "display_data"
    },
    {
     "data": {
      "application/vnd.jupyter.widget-view+json": {
       "model_id": "",
       "version_major": 2,
       "version_minor": 0
      },
      "text/plain": [
       "HBox(children=(FloatProgress(value=0.0, description='Batch', max=1.0, style=ProgressStyle(description_width='i…"
      ]
     },
     "metadata": {},
     "output_type": "display_data"
    },
    {
     "data": {
      "application/vnd.jupyter.widget-view+json": {
       "model_id": "",
       "version_major": 2,
       "version_minor": 0
      },
      "text/plain": [
       "HBox(children=(FloatProgress(value=0.0, description='Batch', max=1.0, style=ProgressStyle(description_width='i…"
      ]
     },
     "metadata": {},
     "output_type": "display_data"
    },
    {
     "data": {
      "application/vnd.jupyter.widget-view+json": {
       "model_id": "",
       "version_major": 2,
       "version_minor": 0
      },
      "text/plain": [
       "HBox(children=(FloatProgress(value=0.0, description='Batch', max=1.0, style=ProgressStyle(description_width='i…"
      ]
     },
     "metadata": {},
     "output_type": "display_data"
    },
    {
     "data": {
      "application/vnd.jupyter.widget-view+json": {
       "model_id": "",
       "version_major": 2,
       "version_minor": 0
      },
      "text/plain": [
       "HBox(children=(FloatProgress(value=0.0, description='Batch', max=1.0, style=ProgressStyle(description_width='i…"
      ]
     },
     "metadata": {},
     "output_type": "display_data"
    },
    {
     "data": {
      "application/vnd.jupyter.widget-view+json": {
       "model_id": "",
       "version_major": 2,
       "version_minor": 0
      },
      "text/plain": [
       "HBox(children=(FloatProgress(value=0.0, description='Batch', max=1.0, style=ProgressStyle(description_width='i…"
      ]
     },
     "metadata": {},
     "output_type": "display_data"
    },
    {
     "data": {
      "application/vnd.jupyter.widget-view+json": {
       "model_id": "",
       "version_major": 2,
       "version_minor": 0
      },
      "text/plain": [
       "HBox(children=(FloatProgress(value=0.0, description='Batch', max=1.0, style=ProgressStyle(description_width='i…"
      ]
     },
     "metadata": {},
     "output_type": "display_data"
    },
    {
     "data": {
      "application/vnd.jupyter.widget-view+json": {
       "model_id": "",
       "version_major": 2,
       "version_minor": 0
      },
      "text/plain": [
       "HBox(children=(FloatProgress(value=0.0, description='Batch', max=1.0, style=ProgressStyle(description_width='i…"
      ]
     },
     "metadata": {},
     "output_type": "display_data"
    },
    {
     "data": {
      "application/vnd.jupyter.widget-view+json": {
       "model_id": "",
       "version_major": 2,
       "version_minor": 0
      },
      "text/plain": [
       "HBox(children=(FloatProgress(value=0.0, description='Batch', max=1.0, style=ProgressStyle(description_width='i…"
      ]
     },
     "metadata": {},
     "output_type": "display_data"
    },
    {
     "data": {
      "application/vnd.jupyter.widget-view+json": {
       "model_id": "",
       "version_major": 2,
       "version_minor": 0
      },
      "text/plain": [
       "HBox(children=(FloatProgress(value=0.0, description='Batch', max=1.0, style=ProgressStyle(description_width='i…"
      ]
     },
     "metadata": {},
     "output_type": "display_data"
    },
    {
     "data": {
      "application/vnd.jupyter.widget-view+json": {
       "model_id": "",
       "version_major": 2,
       "version_minor": 0
      },
      "text/plain": [
       "HBox(children=(FloatProgress(value=0.0, description='Batch', max=1.0, style=ProgressStyle(description_width='i…"
      ]
     },
     "metadata": {},
     "output_type": "display_data"
    },
    {
     "data": {
      "application/vnd.jupyter.widget-view+json": {
       "model_id": "",
       "version_major": 2,
       "version_minor": 0
      },
      "text/plain": [
       "HBox(children=(FloatProgress(value=0.0, description='Batch', max=1.0, style=ProgressStyle(description_width='i…"
      ]
     },
     "metadata": {},
     "output_type": "display_data"
    },
    {
     "data": {
      "application/vnd.jupyter.widget-view+json": {
       "model_id": "",
       "version_major": 2,
       "version_minor": 0
      },
      "text/plain": [
       "HBox(children=(FloatProgress(value=0.0, description='Batch', max=1.0, style=ProgressStyle(description_width='i…"
      ]
     },
     "metadata": {},
     "output_type": "display_data"
    },
    {
     "data": {
      "application/vnd.jupyter.widget-view+json": {
       "model_id": "",
       "version_major": 2,
       "version_minor": 0
      },
      "text/plain": [
       "HBox(children=(FloatProgress(value=0.0, description='Batch', max=1.0, style=ProgressStyle(description_width='i…"
      ]
     },
     "metadata": {},
     "output_type": "display_data"
    },
    {
     "data": {
      "application/vnd.jupyter.widget-view+json": {
       "model_id": "",
       "version_major": 2,
       "version_minor": 0
      },
      "text/plain": [
       "HBox(children=(FloatProgress(value=0.0, description='Batch', max=1.0, style=ProgressStyle(description_width='i…"
      ]
     },
     "metadata": {},
     "output_type": "display_data"
    },
    {
     "name": "stdout",
     "output_type": "stream",
     "text": [
      "\n"
     ]
    },
    {
     "data": {
      "application/vnd.jupyter.widget-view+json": {
       "model_id": "",
       "version_major": 2,
       "version_minor": 0
      },
      "text/plain": [
       "HBox(children=(FloatProgress(value=0.0, description='Batch', max=1.0, style=ProgressStyle(description_width='i…"
      ]
     },
     "metadata": {},
     "output_type": "display_data"
    }
   ],
   "source": [
    "reg_best_model.regularizers['sp_SparsePhiRegularizer_ngram'].tau = tau_SparsePhi_ngram\n",
    "reg_best_model.regularizers['sp_SparsePhiRegularizer_info'].tau = tau_SparsePhi_info\n",
    "reg_best_model.regularizers['sp_SparsePhiRegularizer_specificity'].tau = tau_SparsePhi_specificity\n",
    "reg_best_model.regularizers['sp_SparseThetaRegularizer'].tau = tau_SparseTheta\n",
    "reg_best_model.regularizers['sp_DecorrelatorPhiRegularizer_ngram'].tau = tau_DecorrelatorPhi_ngram\n",
    "reg_best_model.regularizers['sp_DecorrelatorPhiRegularizer_info'].tau = tau_DecorrelatorPhi_info\n",
    "reg_best_model.regularizers['sp_DecorrelatorPhiRegularizer_specificity'].tau = tau_DecorrelatorPhi_specificity\n",
    "\n",
    "reg_best_model.regularizers['Smooth_Phi00_Regularizer_ngram'].tau = tau_Smooth_Phi00_ngram\n",
    "reg_best_model.regularizers['Smooth_Phi00_Regularizer_info'].tau = tau_Smooth_Phi00_info\n",
    "reg_best_model.regularizers['Smooth_Phi00_Regularizer_specificity'].tau = tau_Smooth_Phi00_specificity\n",
    "\n",
    "reg_best_model.fit_offline(batch_vectorizer=train_total_batch_vectorizer, num_collection_passes=20)\n",
    "\n",
    "\n",
    "p_cd_test = reg_best_model.transform(batch_vectorizer=test_total_batch_vectorizer,\n",
    "                                predict_class_id='@specificity')\n",
    "\n",
    "y_pred_proba = p_cd_test.loc['1']\n",
    "fpr, tpr, thresholds = roc_curve(y_test, y_pred_proba)\n",
    "\n",
    "dist_min = math.inf\n",
    "for x, y, treshold in zip(fpr, tpr, thresholds):\n",
    "    if euclidean([0, 1], [x, y]) < dist_min:\n",
    "        T_artm = treshold\n",
    "        dist_min = euclidean([0, 1], [x, y])\n",
    "        x_artm = x\n",
    "        y_artm = y\n",
    "\n",
    "y_pred_labels = []\n",
    "for document in p_cd_test.columns:\n",
    "    if p_cd_test[document].loc['1'] >= T_artm:\n",
    "        y_pred_labels.append(1)\n",
    "    else:\n",
    "        y_pred_labels.append(0)\n",
    "\n",
    "roc_auc = roc_auc_score(y_test, y_pred_proba)\n",
    "precision = precision_score(y_test, y_pred_labels)\n",
    "recall = recall_score(y_test, y_pred_labels)\n",
    "accuracy = accuracy_score(y_test, y_pred_labels)"
   ]
  },
  {
   "cell_type": "code",
   "execution_count": 58,
   "metadata": {},
   "outputs": [
    {
     "data": {
      "text/html": [
       "<div>\n",
       "<style scoped>\n",
       "    .dataframe tbody tr th:only-of-type {\n",
       "        vertical-align: middle;\n",
       "    }\n",
       "\n",
       "    .dataframe tbody tr th {\n",
       "        vertical-align: top;\n",
       "    }\n",
       "\n",
       "    .dataframe thead th {\n",
       "        text-align: right;\n",
       "    }\n",
       "</style>\n",
       "<table border=\"1\" class=\"dataframe\">\n",
       "  <thead>\n",
       "    <tr style=\"text-align: right;\">\n",
       "      <th></th>\n",
       "      <th></th>\n",
       "      <th>last_value</th>\n",
       "    </tr>\n",
       "    <tr>\n",
       "      <th>model_id</th>\n",
       "      <th>score_name</th>\n",
       "      <th></th>\n",
       "    </tr>\n",
       "  </thead>\n",
       "  <tbody>\n",
       "    <tr>\n",
       "      <th rowspan=\"10\" valign=\"top\">--01h44m14s_12d06m2020y---</th>\n",
       "      <th>PerlexityScore_ngram</th>\n",
       "      <td>283.632</td>\n",
       "    </tr>\n",
       "    <tr>\n",
       "      <th>PerlexityScore_info</th>\n",
       "      <td>57.6362</td>\n",
       "    </tr>\n",
       "    <tr>\n",
       "      <th>PerlexityScore_specificity</th>\n",
       "      <td>1.02965</td>\n",
       "    </tr>\n",
       "    <tr>\n",
       "      <th>SparsityPhiScore_ngram</th>\n",
       "      <td>0.141178</td>\n",
       "    </tr>\n",
       "    <tr>\n",
       "      <th>SparsityPhiScore_info</th>\n",
       "      <td>0.596943</td>\n",
       "    </tr>\n",
       "    <tr>\n",
       "      <th>SparsityThetaScore</th>\n",
       "      <td>0.27679</td>\n",
       "    </tr>\n",
       "    <tr>\n",
       "      <th>TopTokensScore.average_coherence</th>\n",
       "      <td>0</td>\n",
       "    </tr>\n",
       "    <tr>\n",
       "      <th>TopTokensScore.num_tokens</th>\n",
       "      <td>110</td>\n",
       "    </tr>\n",
       "    <tr>\n",
       "      <th>BackgroundTokensRatioScore</th>\n",
       "      <td>0.575149</td>\n",
       "    </tr>\n",
       "    <tr>\n",
       "      <th>TopicMassPhiScore</th>\n",
       "      <td>1</td>\n",
       "    </tr>\n",
       "  </tbody>\n",
       "</table>\n",
       "</div>"
      ],
      "text/plain": [
       "                                                            last_value\n",
       "model_id                   score_name                                 \n",
       "--01h44m14s_12d06m2020y--- PerlexityScore_ngram                283.632\n",
       "                           PerlexityScore_info                 57.6362\n",
       "                           PerlexityScore_specificity          1.02965\n",
       "                           SparsityPhiScore_ngram             0.141178\n",
       "                           SparsityPhiScore_info              0.596943\n",
       "                           SparsityThetaScore                  0.27679\n",
       "                           TopTokensScore.average_coherence          0\n",
       "                           TopTokensScore.num_tokens               110\n",
       "                           BackgroundTokensRatioScore         0.575149\n",
       "                           TopicMassPhiScore                         1"
      ]
     },
     "execution_count": 58,
     "metadata": {},
     "output_type": "execute_result"
    }
   ],
   "source": [
    "topic_model = TopicModel(reg_best_model)\n",
    "topic_model.describe_scores()"
   ]
  },
  {
   "cell_type": "code",
   "execution_count": 59,
   "metadata": {},
   "outputs": [
    {
     "name": "stdout",
     "output_type": "stream",
     "text": [
      "roc_auc 0.8559555823866234\n",
      "precision 0.7282321899736148\n",
      "recall 0.8300751879699249\n",
      "accuracy 0.7854741089441829\n"
     ]
    }
   ],
   "source": [
    "print('roc_auc', roc_auc)\n",
    "print('precision', precision)\n",
    "print('recall', recall)\n",
    "print('accuracy', accuracy)"
   ]
  },
  {
   "cell_type": "markdown",
   "metadata": {},
   "source": [
    "# Вычисляем специфичность документов и слов"
   ]
  },
  {
   "cell_type": "code",
   "execution_count": 60,
   "metadata": {},
   "outputs": [],
   "source": [
    "from sklearn.feature_extraction.text import CountVectorizer\n",
    "\n",
    "def frequency_matrix(data, phi):\n",
    "    vocabulary = train_total_dict_ngram\n",
    "    \n",
    "    corpus = data['ngram_as_str']\n",
    "    vectorizer = CountVectorizer(vocabulary=vocabulary)\n",
    "    X = vectorizer.fit_transform(corpus)\n",
    "\n",
    "    matrix = pd.DataFrame(X.toarray())\n",
    "    matrix.index=list(map(lambda item: str(item), data['id']))\n",
    "    matrix.columns=vectorizer.get_feature_names()\n",
    "    \n",
    "    return matrix"
   ]
  },
  {
   "cell_type": "code",
   "execution_count": 61,
   "metadata": {},
   "outputs": [],
   "source": [
    "def specifisity_of_document(doc_title, specific_topics, theta):\n",
    "    specifisity_of_doc = 0\n",
    "    for topic in specific_topics:\n",
    "        specifisity_of_doc+=theta.loc[topic][doc_title]\n",
    "    return specifisity_of_doc"
   ]
  },
  {
   "cell_type": "code",
   "execution_count": 62,
   "metadata": {},
   "outputs": [],
   "source": [
    "def specifisity_of_token(token, specific_topics, matrix_of_frequancies, theta, phi):\n",
    "    specifisity_of_t = 0\n",
    "    for topic in specific_topics:\n",
    "        n_topic = n_t(topic, theta)\n",
    "        n_word = n_w(token, matrix_of_frequancies, theta)\n",
    "        specifisity_of_t += phi.loc[token][topic] * n_topic / n_word\n",
    "    return specifisity_of_t\n",
    "\n",
    "def n_w(token, matrix_of_frequancies, theta):\n",
    "    return matrix_of_frequancies.loc[theta.columns][token].sum()\n",
    "\n",
    "# def n_t(topic, theta):\n",
    "#     columns = theta.columns\n",
    "#     n_d_list = matrix_of_frequancies.loc[columns].sum(axis=1)\n",
    "#     theta_h = theta.loc[topic][columns]\n",
    "#     n = sum(list(map(lambda t: t[0]*t[1], zip(theta_h,n_d_list))))\n",
    "#     return n\n",
    "\n",
    "def n_t(topic, theta):\n",
    "    return reg_best_model.score_tracker['TopicMassPhiScore'].last_topic_mass[topic]"
   ]
  },
  {
   "cell_type": "code",
   "execution_count": 63,
   "metadata": {},
   "outputs": [],
   "source": [
    "import time\n",
    "import random\n",
    "\n",
    "def get_arrangement_permutation(dist, mode):\n",
    "    \"\"\"Returns best permutation of topics for topics spectrum.\n",
    "    Args:\n",
    "        dist: Matrix [N_topics, N_topics] of distances between topics.\n",
    "        mode: What algorith to use.\n",
    "            String, one of:\n",
    "                \"none\" - returns identity permutation;\n",
    "                \"tsne\" - builds tSNE embedding from topic space to R^1 (line),\n",
    "                    returns order of topics' projections.\n",
    "    Returns:\n",
    "        Permutation - a list of length N_topics, with unique integers between 0\n",
    "        and N_topics-1. This permutations should be applied to topics as\n",
    "        columns of phi to obtain a spectrum.\n",
    "    \"\"\"\n",
    "    start_time = time.time()\n",
    "\n",
    "    if mode == \"none\":\n",
    "        return [i for i in range(dist.shape[0])]\n",
    "    elif mode == \"tsne\":\n",
    "        from sklearn.manifold import TSNE\n",
    "        tsne_model = TSNE(n_components=1, random_state=0, metric=\"precomputed\")\n",
    "        tsne_result = tsne_model.fit_transform(dist).reshape(-1)\n",
    "        perm = np.argsort(tsne_result)\n",
    "\n",
    "    return list(perm)"
   ]
  },
  {
   "cell_type": "code",
   "execution_count": 64,
   "metadata": {},
   "outputs": [],
   "source": [
    "best_colors = [\n",
    "    (0.02, 0.00, 0.42),\n",
    "    (0.45, 0.60, 0.50),\n",
    "    (0.90, 0.0, 0.0),\n",
    "    (0.43, 0.45, 0.50),\n",
    "    (0.65, 0.33, 0.55),\n",
    "    (0.78, 0.40, 0.61),\n",
    "    (0.66, 0.40, 0.78),\n",
    "    (0.40, 0.58, 0.78),\n",
    "    (0.78, 0.47, 0.40),\n",
    "    (0.4, 0.78, 0.57),\n",
    "    (0.0, 0.5, 0.73),\n",
    "    (0.0, 0.74, 0.99),\n",
    "    (0.93, 0.99, 0.0),\n",
    "]"
   ]
  },
  {
   "cell_type": "markdown",
   "metadata": {},
   "source": [
    "## Специфичность документов"
   ]
  },
  {
   "cell_type": "code",
   "execution_count": 65,
   "metadata": {
    "scrolled": true
   },
   "outputs": [
    {
     "data": {
      "text/html": [
       "<style>\n",
       "    div.output_html {\n",
       "        white-space: nowrap;\n",
       "    }\n",
       "    div .output_subarea > pre {\n",
       "        white-space: pre;\n",
       "        word-wrap: normal;\n",
       "    }\n",
       "    div .output_stdout > pre {\n",
       "        white-space: pre-wrap !important;\n",
       "        word-wrap:  break-word !important;\n",
       "    }\n",
       "    </style>"
      ],
      "text/plain": [
       "<IPython.core.display.HTML object>"
      ]
     },
     "metadata": {},
     "output_type": "display_data"
    },
    {
     "name": "stderr",
     "output_type": "stream",
     "text": [
      "/home/polina/anaconda3/lib/python3.7/site-packages/topicnet/viewers/top_tokens_viewer.py:33: UserWarning:\n",
      "\n",
      "num_top_tokens greater than modality size\n",
      "\n"
     ]
    },
    {
     "data": {
      "text/html": [
       "<style  type=\"text/css\" >\n",
       "</style><table id=\"T_14254cc0_ac35_11ea_8ce0_7f84771bd0dc\" style='display:inline'><thead>    <tr>        <th class=\"blank\" ></th>        <th class=\"blank level0\" ></th>        <th class=\"col_heading level0 col0\" >topic_0</th>    </tr>    <tr>        <th class=\"index_name level0\" >modality</th>        <th class=\"index_name level1\" >token</th>        <th class=\"blank\" ></th>    </tr></thead><tbody>\n",
       "                <tr>\n",
       "                        <th id=\"T_14254cc0_ac35_11ea_8ce0_7f84771bd0dclevel0_row0\" class=\"row_heading level0 row0\" rowspan=10>@info</th>\n",
       "                        <th id=\"T_14254cc0_ac35_11ea_8ce0_7f84771bd0dclevel1_row0\" class=\"row_heading level1 row0\" >&РЕЗУЛЬТАТ_Да,_четко</th>\n",
       "                        <td id=\"T_14254cc0_ac35_11ea_8ce0_7f84771bd0dcrow0_col0\" class=\"data row0 col0\" >2.881690</td>\n",
       "            </tr>\n",
       "            <tr>\n",
       "                                <th id=\"T_14254cc0_ac35_11ea_8ce0_7f84771bd0dclevel1_row1\" class=\"row_heading level1 row1\" >&ПРЕГРАДЫ_Не_вижу_преград</th>\n",
       "                        <td id=\"T_14254cc0_ac35_11ea_8ce0_7f84771bd0dcrow1_col0\" class=\"data row1 col0\" >2.059040</td>\n",
       "            </tr>\n",
       "            <tr>\n",
       "                                <th id=\"T_14254cc0_ac35_11ea_8ce0_7f84771bd0dclevel1_row2\" class=\"row_heading level1 row2\" >&ВРЕМЕННЫЕ_ГРАНИЦЫ_Нет_жестких_сроков</th>\n",
       "                        <td id=\"T_14254cc0_ac35_11ea_8ce0_7f84771bd0dcrow2_col0\" class=\"data row2 col0\" >1.482630</td>\n",
       "            </tr>\n",
       "            <tr>\n",
       "                                <th id=\"T_14254cc0_ac35_11ea_8ce0_7f84771bd0dclevel1_row3\" class=\"row_heading level1 row3\" >&ОСНОВНОЙ_ВИД_ДЕЙТЕЛЬНОСТИ_Работаю_в_организации,_предприятии</th>\n",
       "                        <td id=\"T_14254cc0_ac35_11ea_8ce0_7f84771bd0dcrow3_col0\" class=\"data row3 col0\" >1.403820</td>\n",
       "            </tr>\n",
       "            <tr>\n",
       "                                <th id=\"T_14254cc0_ac35_11ea_8ce0_7f84771bd0dclevel1_row4\" class=\"row_heading level1 row4\" >&ОБЛАСТЬ_ЦЕЛИ_Личные_финансы,_работа,_бизнес_и_нормативное_регулирование</th>\n",
       "                        <td id=\"T_14254cc0_ac35_11ea_8ce0_7f84771bd0dcrow4_col0\" class=\"data row4 col0\" >1.388830</td>\n",
       "            </tr>\n",
       "            <tr>\n",
       "                                <th id=\"T_14254cc0_ac35_11ea_8ce0_7f84771bd0dclevel1_row5\" class=\"row_heading level1 row5\" >&ТИП_ЦЕЛИ_Приобрести_новые_навыки</th>\n",
       "                        <td id=\"T_14254cc0_ac35_11ea_8ce0_7f84771bd0dcrow5_col0\" class=\"data row5 col0\" >1.369170</td>\n",
       "            </tr>\n",
       "            <tr>\n",
       "                                <th id=\"T_14254cc0_ac35_11ea_8ce0_7f84771bd0dclevel1_row6\" class=\"row_heading level1 row6\" >&ТИП_ЦЕЛИ_другое</th>\n",
       "                        <td id=\"T_14254cc0_ac35_11ea_8ce0_7f84771bd0dcrow6_col0\" class=\"data row6 col0\" >1.363650</td>\n",
       "            </tr>\n",
       "            <tr>\n",
       "                                <th id=\"T_14254cc0_ac35_11ea_8ce0_7f84771bd0dclevel1_row7\" class=\"row_heading level1 row7\" >&ТИП_ЦЕЛИ_Развить_имеющиеся_знания_и_навыки</th>\n",
       "                        <td id=\"T_14254cc0_ac35_11ea_8ce0_7f84771bd0dcrow7_col0\" class=\"data row7 col0\" >1.170020</td>\n",
       "            </tr>\n",
       "            <tr>\n",
       "                                <th id=\"T_14254cc0_ac35_11ea_8ce0_7f84771bd0dclevel1_row8\" class=\"row_heading level1 row8\" >&ПРЕГРАДЫ_есть_преграды</th>\n",
       "                        <td id=\"T_14254cc0_ac35_11ea_8ce0_7f84771bd0dcrow8_col0\" class=\"data row8 col0\" >1.155370</td>\n",
       "            </tr>\n",
       "            <tr>\n",
       "                                <th id=\"T_14254cc0_ac35_11ea_8ce0_7f84771bd0dclevel1_row9\" class=\"row_heading level1 row9\" >&ТИП_ЦЕЛИ_Получить_знания_в_новой_области</th>\n",
       "                        <td id=\"T_14254cc0_ac35_11ea_8ce0_7f84771bd0dcrow9_col0\" class=\"data row9 col0\" >1.141170</td>\n",
       "            </tr>\n",
       "    </tbody></table><style  type=\"text/css\" >\n",
       "</style><table id=\"T_14273d1e_ac35_11ea_8ce0_7f84771bd0dc\" style='display:inline'><thead>    <tr>        <th class=\"blank\" ></th>        <th class=\"blank level0\" ></th>        <th class=\"col_heading level0 col0\" >topic_0</th>    </tr>    <tr>        <th class=\"index_name level0\" >modality</th>        <th class=\"index_name level1\" >token</th>        <th class=\"blank\" ></th>    </tr></thead><tbody>\n",
       "                <tr>\n",
       "                        <th id=\"T_14273d1e_ac35_11ea_8ce0_7f84771bd0dclevel0_row0\" class=\"row_heading level0 row0\" rowspan=10>@ngram</th>\n",
       "                        <th id=\"T_14273d1e_ac35_11ea_8ce0_7f84771bd0dclevel1_row0\" class=\"row_heading level1 row0\" >новый</th>\n",
       "                        <td id=\"T_14273d1e_ac35_11ea_8ce0_7f84771bd0dcrow0_col0\" class=\"data row0 col0\" >2.489860</td>\n",
       "            </tr>\n",
       "            <tr>\n",
       "                                <th id=\"T_14273d1e_ac35_11ea_8ce0_7f84771bd0dclevel1_row1\" class=\"row_heading level1 row1\" >знание</th>\n",
       "                        <td id=\"T_14273d1e_ac35_11ea_8ce0_7f84771bd0dcrow1_col0\" class=\"data row1 col0\" >2.371850</td>\n",
       "            </tr>\n",
       "            <tr>\n",
       "                                <th id=\"T_14273d1e_ac35_11ea_8ce0_7f84771bd0dclevel1_row2\" class=\"row_heading level1 row2\" >навык</th>\n",
       "                        <td id=\"T_14273d1e_ac35_11ea_8ce0_7f84771bd0dcrow2_col0\" class=\"data row2 col0\" >1.505040</td>\n",
       "            </tr>\n",
       "            <tr>\n",
       "                                <th id=\"T_14273d1e_ac35_11ea_8ce0_7f84771bd0dclevel1_row3\" class=\"row_heading level1 row3\" >компетенция</th>\n",
       "                        <td id=\"T_14273d1e_ac35_11ea_8ce0_7f84771bd0dcrow3_col0\" class=\"data row3 col0\" >1.482100</td>\n",
       "            </tr>\n",
       "            <tr>\n",
       "                                <th id=\"T_14273d1e_ac35_11ea_8ce0_7f84771bd0dclevel1_row4\" class=\"row_heading level1 row4\" >повышение</th>\n",
       "                        <td id=\"T_14273d1e_ac35_11ea_8ce0_7f84771bd0dcrow4_col0\" class=\"data row4 col0\" >1.438780</td>\n",
       "            </tr>\n",
       "            <tr>\n",
       "                                <th id=\"T_14273d1e_ac35_11ea_8ce0_7f84771bd0dclevel1_row5\" class=\"row_heading level1 row5\" >уровень</th>\n",
       "                        <td id=\"T_14273d1e_ac35_11ea_8ce0_7f84771bd0dcrow5_col0\" class=\"data row5 col0\" >1.246590</td>\n",
       "            </tr>\n",
       "            <tr>\n",
       "                                <th id=\"T_14273d1e_ac35_11ea_8ce0_7f84771bd0dclevel1_row6\" class=\"row_heading level1 row6\" >приобретение</th>\n",
       "                        <td id=\"T_14273d1e_ac35_11ea_8ce0_7f84771bd0dcrow6_col0\" class=\"data row6 col0\" >0.943220</td>\n",
       "            </tr>\n",
       "            <tr>\n",
       "                                <th id=\"T_14273d1e_ac35_11ea_8ce0_7f84771bd0dclevel1_row7\" class=\"row_heading level1 row7\" >умение</th>\n",
       "                        <td id=\"T_14273d1e_ac35_11ea_8ce0_7f84771bd0dcrow7_col0\" class=\"data row7 col0\" >0.933360</td>\n",
       "            </tr>\n",
       "            <tr>\n",
       "                                <th id=\"T_14273d1e_ac35_11ea_8ce0_7f84771bd0dclevel1_row8\" class=\"row_heading level1 row8\" >знание_умение</th>\n",
       "                        <td id=\"T_14273d1e_ac35_11ea_8ce0_7f84771bd0dcrow8_col0\" class=\"data row8 col0\" >0.598200</td>\n",
       "            </tr>\n",
       "            <tr>\n",
       "                                <th id=\"T_14273d1e_ac35_11ea_8ce0_7f84771bd0dclevel1_row9\" class=\"row_heading level1 row9\" >сфера</th>\n",
       "                        <td id=\"T_14273d1e_ac35_11ea_8ce0_7f84771bd0dcrow9_col0\" class=\"data row9 col0\" >0.519090</td>\n",
       "            </tr>\n",
       "    </tbody></table><style  type=\"text/css\" >\n",
       "</style><table id=\"T_142839da_ac35_11ea_8ce0_7f84771bd0dc\" style='display:inline'><thead>    <tr>        <th class=\"blank\" ></th>        <th class=\"blank level0\" ></th>        <th class=\"col_heading level0 col0\" >topic_0</th>    </tr>    <tr>        <th class=\"index_name level0\" >modality</th>        <th class=\"index_name level1\" >token</th>        <th class=\"blank\" ></th>    </tr></thead><tbody>\n",
       "                <tr>\n",
       "                        <th id=\"T_142839da_ac35_11ea_8ce0_7f84771bd0dclevel0_row0\" class=\"row_heading level0 row0\" rowspan=2>@specificity</th>\n",
       "                        <th id=\"T_142839da_ac35_11ea_8ce0_7f84771bd0dclevel1_row0\" class=\"row_heading level1 row0\" >0</th>\n",
       "                        <td id=\"T_142839da_ac35_11ea_8ce0_7f84771bd0dcrow0_col0\" class=\"data row0 col0\" >42.507110</td>\n",
       "            </tr>\n",
       "            <tr>\n",
       "                                <th id=\"T_142839da_ac35_11ea_8ce0_7f84771bd0dclevel1_row1\" class=\"row_heading level1 row1\" >1</th>\n",
       "                        <td id=\"T_142839da_ac35_11ea_8ce0_7f84771bd0dcrow1_col0\" class=\"data row1 col0\" >-0.000000</td>\n",
       "            </tr>\n",
       "    </tbody></table>"
      ]
     },
     "metadata": {},
     "output_type": "display_data"
    },
    {
     "data": {
      "text/html": [
       "<style  type=\"text/css\" >\n",
       "</style><table id=\"T_142d602c_ac35_11ea_8ce0_7f84771bd0dc\" style='display:inline'><thead>    <tr>        <th class=\"blank\" ></th>        <th class=\"blank level0\" ></th>        <th class=\"col_heading level0 col0\" >topic_1</th>    </tr>    <tr>        <th class=\"index_name level0\" >modality</th>        <th class=\"index_name level1\" >token</th>        <th class=\"blank\" ></th>    </tr></thead><tbody>\n",
       "                <tr>\n",
       "                        <th id=\"T_142d602c_ac35_11ea_8ce0_7f84771bd0dclevel0_row0\" class=\"row_heading level0 row0\" rowspan=10>@info</th>\n",
       "                        <th id=\"T_142d602c_ac35_11ea_8ce0_7f84771bd0dclevel1_row0\" class=\"row_heading level1 row0\" >&РЕЗУЛЬТАТ_Да,_четко</th>\n",
       "                        <td id=\"T_142d602c_ac35_11ea_8ce0_7f84771bd0dcrow0_col0\" class=\"data row0 col0\" >4.020990</td>\n",
       "            </tr>\n",
       "            <tr>\n",
       "                                <th id=\"T_142d602c_ac35_11ea_8ce0_7f84771bd0dclevel1_row1\" class=\"row_heading level1 row1\" >&ПРЕГРАДЫ_Не_вижу_преград</th>\n",
       "                        <td id=\"T_142d602c_ac35_11ea_8ce0_7f84771bd0dcrow1_col0\" class=\"data row1 col0\" >2.487890</td>\n",
       "            </tr>\n",
       "            <tr>\n",
       "                                <th id=\"T_142d602c_ac35_11ea_8ce0_7f84771bd0dclevel1_row2\" class=\"row_heading level1 row2\" >&ТИП_ЦЕЛИ_Получить_знания_в_новой_области</th>\n",
       "                        <td id=\"T_142d602c_ac35_11ea_8ce0_7f84771bd0dcrow2_col0\" class=\"data row2 col0\" >1.749550</td>\n",
       "            </tr>\n",
       "            <tr>\n",
       "                                <th id=\"T_142d602c_ac35_11ea_8ce0_7f84771bd0dclevel1_row3\" class=\"row_heading level1 row3\" >&ТИП_ЦЕЛИ_Приобрести_новые_навыки</th>\n",
       "                        <td id=\"T_142d602c_ac35_11ea_8ce0_7f84771bd0dcrow3_col0\" class=\"data row3 col0\" >1.501690</td>\n",
       "            </tr>\n",
       "            <tr>\n",
       "                                <th id=\"T_142d602c_ac35_11ea_8ce0_7f84771bd0dclevel1_row4\" class=\"row_heading level1 row4\" >&ПРЕГРАДЫ_есть_преграды</th>\n",
       "                        <td id=\"T_142d602c_ac35_11ea_8ce0_7f84771bd0dcrow4_col0\" class=\"data row4 col0\" >1.490290</td>\n",
       "            </tr>\n",
       "            <tr>\n",
       "                                <th id=\"T_142d602c_ac35_11ea_8ce0_7f84771bd0dclevel1_row5\" class=\"row_heading level1 row5\" >&ВРЕМЕННЫЕ_ГРАНИЦЫ_Нет_жестких_сроков</th>\n",
       "                        <td id=\"T_142d602c_ac35_11ea_8ce0_7f84771bd0dcrow5_col0\" class=\"data row5 col0\" >1.412880</td>\n",
       "            </tr>\n",
       "            <tr>\n",
       "                                <th id=\"T_142d602c_ac35_11ea_8ce0_7f84771bd0dclevel1_row6\" class=\"row_heading level1 row6\" >&ТИП_ЦЕЛИ_Развить_имеющиеся_знания_и_навыки</th>\n",
       "                        <td id=\"T_142d602c_ac35_11ea_8ce0_7f84771bd0dcrow6_col0\" class=\"data row6 col0\" >1.385020</td>\n",
       "            </tr>\n",
       "            <tr>\n",
       "                                <th id=\"T_142d602c_ac35_11ea_8ce0_7f84771bd0dclevel1_row7\" class=\"row_heading level1 row7\" >&ПЕРВЫЙ_ШАГ_знаю_с_чего_начать</th>\n",
       "                        <td id=\"T_142d602c_ac35_11ea_8ce0_7f84771bd0dcrow7_col0\" class=\"data row7 col0\" >1.338140</td>\n",
       "            </tr>\n",
       "            <tr>\n",
       "                                <th id=\"T_142d602c_ac35_11ea_8ce0_7f84771bd0dclevel1_row8\" class=\"row_heading level1 row8\" >&ТИП_ЦЕЛИ_другое</th>\n",
       "                        <td id=\"T_142d602c_ac35_11ea_8ce0_7f84771bd0dcrow8_col0\" class=\"data row8 col0\" >1.188690</td>\n",
       "            </tr>\n",
       "            <tr>\n",
       "                                <th id=\"T_142d602c_ac35_11ea_8ce0_7f84771bd0dclevel1_row9\" class=\"row_heading level1 row9\" >&ОСНОВНОЙ_ВИД_ДЕЙТЕЛЬНОСТИ_Работаю_в_организации,_предприятии</th>\n",
       "                        <td id=\"T_142d602c_ac35_11ea_8ce0_7f84771bd0dcrow9_col0\" class=\"data row9 col0\" >1.165050</td>\n",
       "            </tr>\n",
       "    </tbody></table><style  type=\"text/css\" >\n",
       "</style><table id=\"T_142e3dc6_ac35_11ea_8ce0_7f84771bd0dc\" style='display:inline'><thead>    <tr>        <th class=\"blank\" ></th>        <th class=\"blank level0\" ></th>        <th class=\"col_heading level0 col0\" >topic_1</th>    </tr>    <tr>        <th class=\"index_name level0\" >modality</th>        <th class=\"index_name level1\" >token</th>        <th class=\"blank\" ></th>    </tr></thead><tbody>\n",
       "                <tr>\n",
       "                        <th id=\"T_142e3dc6_ac35_11ea_8ce0_7f84771bd0dclevel0_row0\" class=\"row_heading level0 row0\" rowspan=10>@ngram</th>\n",
       "                        <th id=\"T_142e3dc6_ac35_11ea_8ce0_7f84771bd0dclevel1_row0\" class=\"row_heading level1 row0\" >знание</th>\n",
       "                        <td id=\"T_142e3dc6_ac35_11ea_8ce0_7f84771bd0dcrow0_col0\" class=\"data row0 col0\" >5.093150</td>\n",
       "            </tr>\n",
       "            <tr>\n",
       "                                <th id=\"T_142e3dc6_ac35_11ea_8ce0_7f84771bd0dclevel1_row1\" class=\"row_heading level1 row1\" >новое</th>\n",
       "                        <td id=\"T_142e3dc6_ac35_11ea_8ce0_7f84771bd0dcrow1_col0\" class=\"data row1 col0\" >2.292250</td>\n",
       "            </tr>\n",
       "            <tr>\n",
       "                                <th id=\"T_142e3dc6_ac35_11ea_8ce0_7f84771bd0dclevel1_row2\" class=\"row_heading level1 row2\" >получение</th>\n",
       "                        <td id=\"T_142e3dc6_ac35_11ea_8ce0_7f84771bd0dcrow2_col0\" class=\"data row2 col0\" >2.194630</td>\n",
       "            </tr>\n",
       "            <tr>\n",
       "                                <th id=\"T_142e3dc6_ac35_11ea_8ce0_7f84771bd0dclevel1_row3\" class=\"row_heading level1 row3\" >получить</th>\n",
       "                        <td id=\"T_142e3dc6_ac35_11ea_8ce0_7f84771bd0dcrow3_col0\" class=\"data row3 col0\" >1.320880</td>\n",
       "            </tr>\n",
       "            <tr>\n",
       "                                <th id=\"T_142e3dc6_ac35_11ea_8ce0_7f84771bd0dclevel1_row4\" class=\"row_heading level1 row4\" >получение_новый</th>\n",
       "                        <td id=\"T_142e3dc6_ac35_11ea_8ce0_7f84771bd0dcrow4_col0\" class=\"data row4 col0\" >1.004350</td>\n",
       "            </tr>\n",
       "            <tr>\n",
       "                                <th id=\"T_142e3dc6_ac35_11ea_8ce0_7f84771bd0dclevel1_row5\" class=\"row_heading level1 row5\" >новый</th>\n",
       "                        <td id=\"T_142e3dc6_ac35_11ea_8ce0_7f84771bd0dcrow5_col0\" class=\"data row5 col0\" >0.991410</td>\n",
       "            </tr>\n",
       "            <tr>\n",
       "                                <th id=\"T_142e3dc6_ac35_11ea_8ce0_7f84771bd0dclevel1_row6\" class=\"row_heading level1 row6\" >навык</th>\n",
       "                        <td id=\"T_142e3dc6_ac35_11ea_8ce0_7f84771bd0dcrow6_col0\" class=\"data row6 col0\" >0.946350</td>\n",
       "            </tr>\n",
       "            <tr>\n",
       "                                <th id=\"T_142e3dc6_ac35_11ea_8ce0_7f84771bd0dclevel1_row7\" class=\"row_heading level1 row7\" >новое_знание</th>\n",
       "                        <td id=\"T_142e3dc6_ac35_11ea_8ce0_7f84771bd0dcrow7_col0\" class=\"data row7 col0\" >0.860740</td>\n",
       "            </tr>\n",
       "            <tr>\n",
       "                                <th id=\"T_142e3dc6_ac35_11ea_8ce0_7f84771bd0dclevel1_row8\" class=\"row_heading level1 row8\" >новый_знание</th>\n",
       "                        <td id=\"T_142e3dc6_ac35_11ea_8ce0_7f84771bd0dcrow8_col0\" class=\"data row8 col0\" >0.798290</td>\n",
       "            </tr>\n",
       "            <tr>\n",
       "                                <th id=\"T_142e3dc6_ac35_11ea_8ce0_7f84771bd0dclevel1_row9\" class=\"row_heading level1 row9\" >стать</th>\n",
       "                        <td id=\"T_142e3dc6_ac35_11ea_8ce0_7f84771bd0dcrow9_col0\" class=\"data row9 col0\" >0.757400</td>\n",
       "            </tr>\n",
       "    </tbody></table><style  type=\"text/css\" >\n",
       "</style><table id=\"T_142f259c_ac35_11ea_8ce0_7f84771bd0dc\" style='display:inline'><thead>    <tr>        <th class=\"blank\" ></th>        <th class=\"blank level0\" ></th>        <th class=\"col_heading level0 col0\" >topic_1</th>    </tr>    <tr>        <th class=\"index_name level0\" >modality</th>        <th class=\"index_name level1\" >token</th>        <th class=\"blank\" ></th>    </tr></thead><tbody>\n",
       "                <tr>\n",
       "                        <th id=\"T_142f259c_ac35_11ea_8ce0_7f84771bd0dclevel0_row0\" class=\"row_heading level0 row0\" rowspan=2>@specificity</th>\n",
       "                        <th id=\"T_142f259c_ac35_11ea_8ce0_7f84771bd0dclevel1_row0\" class=\"row_heading level1 row0\" >0</th>\n",
       "                        <td id=\"T_142f259c_ac35_11ea_8ce0_7f84771bd0dcrow0_col0\" class=\"data row0 col0\" >42.456200</td>\n",
       "            </tr>\n",
       "            <tr>\n",
       "                                <th id=\"T_142f259c_ac35_11ea_8ce0_7f84771bd0dclevel1_row1\" class=\"row_heading level1 row1\" >1</th>\n",
       "                        <td id=\"T_142f259c_ac35_11ea_8ce0_7f84771bd0dcrow1_col0\" class=\"data row1 col0\" >-0.000000</td>\n",
       "            </tr>\n",
       "    </tbody></table>"
      ]
     },
     "metadata": {},
     "output_type": "display_data"
    },
    {
     "data": {
      "text/html": [
       "<style  type=\"text/css\" >\n",
       "</style><table id=\"T_1433875e_ac35_11ea_8ce0_7f84771bd0dc\" style='display:inline'><thead>    <tr>        <th class=\"blank\" ></th>        <th class=\"blank level0\" ></th>        <th class=\"col_heading level0 col0\" >topic_2</th>    </tr>    <tr>        <th class=\"index_name level0\" >modality</th>        <th class=\"index_name level1\" >token</th>        <th class=\"blank\" ></th>    </tr></thead><tbody>\n",
       "                <tr>\n",
       "                        <th id=\"T_1433875e_ac35_11ea_8ce0_7f84771bd0dclevel0_row0\" class=\"row_heading level0 row0\" rowspan=10>@info</th>\n",
       "                        <th id=\"T_1433875e_ac35_11ea_8ce0_7f84771bd0dclevel1_row0\" class=\"row_heading level1 row0\" >&РЕЗУЛЬТАТ_Да,_четко</th>\n",
       "                        <td id=\"T_1433875e_ac35_11ea_8ce0_7f84771bd0dcrow0_col0\" class=\"data row0 col0\" >2.880460</td>\n",
       "            </tr>\n",
       "            <tr>\n",
       "                                <th id=\"T_1433875e_ac35_11ea_8ce0_7f84771bd0dclevel1_row1\" class=\"row_heading level1 row1\" >&ПРЕГРАДЫ_Не_вижу_преград</th>\n",
       "                        <td id=\"T_1433875e_ac35_11ea_8ce0_7f84771bd0dcrow1_col0\" class=\"data row1 col0\" >2.737850</td>\n",
       "            </tr>\n",
       "            <tr>\n",
       "                                <th id=\"T_1433875e_ac35_11ea_8ce0_7f84771bd0dclevel1_row2\" class=\"row_heading level1 row2\" >&ТИП_ЦЕЛИ_другое</th>\n",
       "                        <td id=\"T_1433875e_ac35_11ea_8ce0_7f84771bd0dcrow2_col0\" class=\"data row2 col0\" >2.342750</td>\n",
       "            </tr>\n",
       "            <tr>\n",
       "                                <th id=\"T_1433875e_ac35_11ea_8ce0_7f84771bd0dclevel1_row3\" class=\"row_heading level1 row3\" >&ПЕРВЫЙ_ШАГ_знаю_с_чего_начать</th>\n",
       "                        <td id=\"T_1433875e_ac35_11ea_8ce0_7f84771bd0dcrow3_col0\" class=\"data row3 col0\" >1.469270</td>\n",
       "            </tr>\n",
       "            <tr>\n",
       "                                <th id=\"T_1433875e_ac35_11ea_8ce0_7f84771bd0dclevel1_row4\" class=\"row_heading level1 row4\" >&ВРЕМЕННЫЕ_ГРАНИЦЫ_Нет_жестких_сроков</th>\n",
       "                        <td id=\"T_1433875e_ac35_11ea_8ce0_7f84771bd0dcrow4_col0\" class=\"data row4 col0\" >1.412040</td>\n",
       "            </tr>\n",
       "            <tr>\n",
       "                                <th id=\"T_1433875e_ac35_11ea_8ce0_7f84771bd0dclevel1_row5\" class=\"row_heading level1 row5\" >&ТИП_ЦЕЛИ_Развить_имеющиеся_знания_и_навыки</th>\n",
       "                        <td id=\"T_1433875e_ac35_11ea_8ce0_7f84771bd0dcrow5_col0\" class=\"data row5 col0\" >1.385480</td>\n",
       "            </tr>\n",
       "            <tr>\n",
       "                                <th id=\"T_1433875e_ac35_11ea_8ce0_7f84771bd0dclevel1_row6\" class=\"row_heading level1 row6\" >&ТИП_ЦЕЛИ_Приобрести_новые_навыки</th>\n",
       "                        <td id=\"T_1433875e_ac35_11ea_8ce0_7f84771bd0dcrow6_col0\" class=\"data row6 col0\" >1.340510</td>\n",
       "            </tr>\n",
       "            <tr>\n",
       "                                <th id=\"T_1433875e_ac35_11ea_8ce0_7f84771bd0dclevel1_row7\" class=\"row_heading level1 row7\" >&ОСНОВНОЙ_ВИД_ДЕЙТЕЛЬНОСТИ_Работаю_в_организации,_предприятии</th>\n",
       "                        <td id=\"T_1433875e_ac35_11ea_8ce0_7f84771bd0dcrow7_col0\" class=\"data row7 col0\" >1.334820</td>\n",
       "            </tr>\n",
       "            <tr>\n",
       "                                <th id=\"T_1433875e_ac35_11ea_8ce0_7f84771bd0dclevel1_row8\" class=\"row_heading level1 row8\" >&ОБЛАСТЬ_ЦЕЛИ_Универсальные_компетенции,_гибкие_навыки_(soft_skills)</th>\n",
       "                        <td id=\"T_1433875e_ac35_11ea_8ce0_7f84771bd0dcrow8_col0\" class=\"data row8 col0\" >1.319800</td>\n",
       "            </tr>\n",
       "            <tr>\n",
       "                                <th id=\"T_1433875e_ac35_11ea_8ce0_7f84771bd0dclevel1_row9\" class=\"row_heading level1 row9\" >&ТИП_ЦЕЛИ_Получить_знания_в_новой_области</th>\n",
       "                        <td id=\"T_1433875e_ac35_11ea_8ce0_7f84771bd0dcrow9_col0\" class=\"data row9 col0\" >1.278110</td>\n",
       "            </tr>\n",
       "    </tbody></table><style  type=\"text/css\" >\n",
       "</style><table id=\"T_143460b6_ac35_11ea_8ce0_7f84771bd0dc\" style='display:inline'><thead>    <tr>        <th class=\"blank\" ></th>        <th class=\"blank level0\" ></th>        <th class=\"col_heading level0 col0\" >topic_2</th>    </tr>    <tr>        <th class=\"index_name level0\" >modality</th>        <th class=\"index_name level1\" >token</th>        <th class=\"blank\" ></th>    </tr></thead><tbody>\n",
       "                <tr>\n",
       "                        <th id=\"T_143460b6_ac35_11ea_8ce0_7f84771bd0dclevel0_row0\" class=\"row_heading level0 row0\" rowspan=10>@ngram</th>\n",
       "                        <th id=\"T_143460b6_ac35_11ea_8ce0_7f84771bd0dclevel1_row0\" class=\"row_heading level1 row0\" >развитие</th>\n",
       "                        <td id=\"T_143460b6_ac35_11ea_8ce0_7f84771bd0dcrow0_col0\" class=\"data row0 col0\" >2.076740</td>\n",
       "            </tr>\n",
       "            <tr>\n",
       "                                <th id=\"T_143460b6_ac35_11ea_8ce0_7f84771bd0dclevel1_row1\" class=\"row_heading level1 row1\" >свой</th>\n",
       "                        <td id=\"T_143460b6_ac35_11ea_8ce0_7f84771bd0dcrow1_col0\" class=\"data row1 col0\" >1.678940</td>\n",
       "            </tr>\n",
       "            <tr>\n",
       "                                <th id=\"T_143460b6_ac35_11ea_8ce0_7f84771bd0dclevel1_row2\" class=\"row_heading level1 row2\" >расширение</th>\n",
       "                        <td id=\"T_143460b6_ac35_11ea_8ce0_7f84771bd0dcrow2_col0\" class=\"data row2 col0\" >0.992080</td>\n",
       "            </tr>\n",
       "            <tr>\n",
       "                                <th id=\"T_143460b6_ac35_11ea_8ce0_7f84771bd0dclevel1_row3\" class=\"row_heading level1 row3\" >рост</th>\n",
       "                        <td id=\"T_143460b6_ac35_11ea_8ce0_7f84771bd0dcrow3_col0\" class=\"data row3 col0\" >0.903840</td>\n",
       "            </tr>\n",
       "            <tr>\n",
       "                                <th id=\"T_143460b6_ac35_11ea_8ce0_7f84771bd0dclevel1_row4\" class=\"row_heading level1 row4\" >кругозор</th>\n",
       "                        <td id=\"T_143460b6_ac35_11ea_8ce0_7f84771bd0dcrow4_col0\" class=\"data row4 col0\" >0.771160</td>\n",
       "            </tr>\n",
       "            <tr>\n",
       "                                <th id=\"T_143460b6_ac35_11ea_8ce0_7f84771bd0dclevel1_row5\" class=\"row_heading level1 row5\" >профессиональный</th>\n",
       "                        <td id=\"T_143460b6_ac35_11ea_8ce0_7f84771bd0dcrow5_col0\" class=\"data row5 col0\" >0.606440</td>\n",
       "            </tr>\n",
       "            <tr>\n",
       "                                <th id=\"T_143460b6_ac35_11ea_8ce0_7f84771bd0dclevel1_row6\" class=\"row_heading level1 row6\" >возможность</th>\n",
       "                        <td id=\"T_143460b6_ac35_11ea_8ce0_7f84771bd0dcrow6_col0\" class=\"data row6 col0\" >0.536510</td>\n",
       "            </tr>\n",
       "            <tr>\n",
       "                                <th id=\"T_143460b6_ac35_11ea_8ce0_7f84771bd0dclevel1_row7\" class=\"row_heading level1 row7\" >познание</th>\n",
       "                        <td id=\"T_143460b6_ac35_11ea_8ce0_7f84771bd0dcrow7_col0\" class=\"data row7 col0\" >0.505340</td>\n",
       "            </tr>\n",
       "            <tr>\n",
       "                                <th id=\"T_143460b6_ac35_11ea_8ce0_7f84771bd0dclevel1_row8\" class=\"row_heading level1 row8\" >личностный</th>\n",
       "                        <td id=\"T_143460b6_ac35_11ea_8ce0_7f84771bd0dcrow8_col0\" class=\"data row8 col0\" >0.485170</td>\n",
       "            </tr>\n",
       "            <tr>\n",
       "                                <th id=\"T_143460b6_ac35_11ea_8ce0_7f84771bd0dclevel1_row9\" class=\"row_heading level1 row9\" >расширить</th>\n",
       "                        <td id=\"T_143460b6_ac35_11ea_8ce0_7f84771bd0dcrow9_col0\" class=\"data row9 col0\" >0.483260</td>\n",
       "            </tr>\n",
       "    </tbody></table><style  type=\"text/css\" >\n",
       "</style><table id=\"T_143537de_ac35_11ea_8ce0_7f84771bd0dc\" style='display:inline'><thead>    <tr>        <th class=\"blank\" ></th>        <th class=\"blank level0\" ></th>        <th class=\"col_heading level0 col0\" >topic_2</th>    </tr>    <tr>        <th class=\"index_name level0\" >modality</th>        <th class=\"index_name level1\" >token</th>        <th class=\"blank\" ></th>    </tr></thead><tbody>\n",
       "                <tr>\n",
       "                        <th id=\"T_143537de_ac35_11ea_8ce0_7f84771bd0dclevel0_row0\" class=\"row_heading level0 row0\" rowspan=2>@specificity</th>\n",
       "                        <th id=\"T_143537de_ac35_11ea_8ce0_7f84771bd0dclevel1_row0\" class=\"row_heading level1 row0\" >0</th>\n",
       "                        <td id=\"T_143537de_ac35_11ea_8ce0_7f84771bd0dcrow0_col0\" class=\"data row0 col0\" >42.436140</td>\n",
       "            </tr>\n",
       "            <tr>\n",
       "                                <th id=\"T_143537de_ac35_11ea_8ce0_7f84771bd0dclevel1_row1\" class=\"row_heading level1 row1\" >1</th>\n",
       "                        <td id=\"T_143537de_ac35_11ea_8ce0_7f84771bd0dcrow1_col0\" class=\"data row1 col0\" >-0.000000</td>\n",
       "            </tr>\n",
       "    </tbody></table>"
      ]
     },
     "metadata": {},
     "output_type": "display_data"
    },
    {
     "data": {
      "text/html": [
       "<style  type=\"text/css\" >\n",
       "</style><table id=\"T_14398bd6_ac35_11ea_8ce0_7f84771bd0dc\" style='display:inline'><thead>    <tr>        <th class=\"blank\" ></th>        <th class=\"blank level0\" ></th>        <th class=\"col_heading level0 col0\" >topic_3</th>    </tr>    <tr>        <th class=\"index_name level0\" >modality</th>        <th class=\"index_name level1\" >token</th>        <th class=\"blank\" ></th>    </tr></thead><tbody>\n",
       "                <tr>\n",
       "                        <th id=\"T_14398bd6_ac35_11ea_8ce0_7f84771bd0dclevel0_row0\" class=\"row_heading level0 row0\" rowspan=10>@info</th>\n",
       "                        <th id=\"T_14398bd6_ac35_11ea_8ce0_7f84771bd0dclevel1_row0\" class=\"row_heading level1 row0\" >&РЕЗУЛЬТАТ_Да,_четко</th>\n",
       "                        <td id=\"T_14398bd6_ac35_11ea_8ce0_7f84771bd0dcrow0_col0\" class=\"data row0 col0\" >2.416000</td>\n",
       "            </tr>\n",
       "            <tr>\n",
       "                                <th id=\"T_14398bd6_ac35_11ea_8ce0_7f84771bd0dclevel1_row1\" class=\"row_heading level1 row1\" >&ОБЛАСТЬ_ЦЕЛИ_Математика_и_IT</th>\n",
       "                        <td id=\"T_14398bd6_ac35_11ea_8ce0_7f84771bd0dcrow1_col0\" class=\"data row1 col0\" >1.692890</td>\n",
       "            </tr>\n",
       "            <tr>\n",
       "                                <th id=\"T_14398bd6_ac35_11ea_8ce0_7f84771bd0dclevel1_row2\" class=\"row_heading level1 row2\" >&ПРЕГРАДЫ_есть_преграды</th>\n",
       "                        <td id=\"T_14398bd6_ac35_11ea_8ce0_7f84771bd0dcrow2_col0\" class=\"data row2 col0\" >1.573750</td>\n",
       "            </tr>\n",
       "            <tr>\n",
       "                                <th id=\"T_14398bd6_ac35_11ea_8ce0_7f84771bd0dclevel1_row3\" class=\"row_heading level1 row3\" >&ПОДОБЛАСТЬ_ЦЕЛИ_Программирование_и_освоение_компьютерных_программ</th>\n",
       "                        <td id=\"T_14398bd6_ac35_11ea_8ce0_7f84771bd0dcrow3_col0\" class=\"data row3 col0\" >1.504150</td>\n",
       "            </tr>\n",
       "            <tr>\n",
       "                                <th id=\"T_14398bd6_ac35_11ea_8ce0_7f84771bd0dclevel1_row4\" class=\"row_heading level1 row4\" >&ТИП_ЦЕЛИ_Приобрести_новые_навыки</th>\n",
       "                        <td id=\"T_14398bd6_ac35_11ea_8ce0_7f84771bd0dcrow4_col0\" class=\"data row4 col0\" >1.450960</td>\n",
       "            </tr>\n",
       "            <tr>\n",
       "                                <th id=\"T_14398bd6_ac35_11ea_8ce0_7f84771bd0dclevel1_row5\" class=\"row_heading level1 row5\" >&ПРЕГРАДЫ_Не_вижу_преград</th>\n",
       "                        <td id=\"T_14398bd6_ac35_11ea_8ce0_7f84771bd0dcrow5_col0\" class=\"data row5 col0\" >1.443470</td>\n",
       "            </tr>\n",
       "            <tr>\n",
       "                                <th id=\"T_14398bd6_ac35_11ea_8ce0_7f84771bd0dclevel1_row6\" class=\"row_heading level1 row6\" >&ВРЕМЕННЫЕ_ГРАНИЦЫ_Нет_жестких_сроков</th>\n",
       "                        <td id=\"T_14398bd6_ac35_11ea_8ce0_7f84771bd0dcrow6_col0\" class=\"data row6 col0\" >1.391160</td>\n",
       "            </tr>\n",
       "            <tr>\n",
       "                                <th id=\"T_14398bd6_ac35_11ea_8ce0_7f84771bd0dclevel1_row7\" class=\"row_heading level1 row7\" >&ТИП_ЦЕЛИ_другое</th>\n",
       "                        <td id=\"T_14398bd6_ac35_11ea_8ce0_7f84771bd0dcrow7_col0\" class=\"data row7 col0\" >1.344050</td>\n",
       "            </tr>\n",
       "            <tr>\n",
       "                                <th id=\"T_14398bd6_ac35_11ea_8ce0_7f84771bd0dclevel1_row8\" class=\"row_heading level1 row8\" >&ТИП_ЦЕЛИ_Получить_знания_в_новой_области</th>\n",
       "                        <td id=\"T_14398bd6_ac35_11ea_8ce0_7f84771bd0dcrow8_col0\" class=\"data row8 col0\" >1.293650</td>\n",
       "            </tr>\n",
       "            <tr>\n",
       "                                <th id=\"T_14398bd6_ac35_11ea_8ce0_7f84771bd0dclevel1_row9\" class=\"row_heading level1 row9\" >&ПОДОБЛАСТЬ_ЦЕЛИ_Работа_с_данными</th>\n",
       "                        <td id=\"T_14398bd6_ac35_11ea_8ce0_7f84771bd0dcrow9_col0\" class=\"data row9 col0\" >1.271660</td>\n",
       "            </tr>\n",
       "    </tbody></table><style  type=\"text/css\" >\n",
       "</style><table id=\"T_143a6e84_ac35_11ea_8ce0_7f84771bd0dc\" style='display:inline'><thead>    <tr>        <th class=\"blank\" ></th>        <th class=\"blank level0\" ></th>        <th class=\"col_heading level0 col0\" >topic_3</th>    </tr>    <tr>        <th class=\"index_name level0\" >modality</th>        <th class=\"index_name level1\" >token</th>        <th class=\"blank\" ></th>    </tr></thead><tbody>\n",
       "                <tr>\n",
       "                        <th id=\"T_143a6e84_ac35_11ea_8ce0_7f84771bd0dclevel0_row0\" class=\"row_heading level0 row0\" rowspan=10>@ngram</th>\n",
       "                        <th id=\"T_143a6e84_ac35_11ea_8ce0_7f84771bd0dclevel1_row0\" class=\"row_heading level1 row0\" >работа</th>\n",
       "                        <td id=\"T_143a6e84_ac35_11ea_8ce0_7f84771bd0dcrow0_col0\" class=\"data row0 col0\" >0.974540</td>\n",
       "            </tr>\n",
       "            <tr>\n",
       "                                <th id=\"T_143a6e84_ac35_11ea_8ce0_7f84771bd0dclevel1_row1\" class=\"row_heading level1 row1\" >большой</th>\n",
       "                        <td id=\"T_143a6e84_ac35_11ea_8ce0_7f84771bd0dcrow1_col0\" class=\"data row1 col0\" >0.904610</td>\n",
       "            </tr>\n",
       "            <tr>\n",
       "                                <th id=\"T_143a6e84_ac35_11ea_8ce0_7f84771bd0dclevel1_row2\" class=\"row_heading level1 row2\" >узнать</th>\n",
       "                        <td id=\"T_143a6e84_ac35_11ea_8ce0_7f84771bd0dcrow2_col0\" class=\"data row2 col0\" >0.893530</td>\n",
       "            </tr>\n",
       "            <tr>\n",
       "                                <th id=\"T_143a6e84_ac35_11ea_8ce0_7f84771bd0dclevel1_row3\" class=\"row_heading level1 row3\" >новое</th>\n",
       "                        <td id=\"T_143a6e84_ac35_11ea_8ce0_7f84771bd0dcrow3_col0\" class=\"data row3 col0\" >0.834780</td>\n",
       "            </tr>\n",
       "            <tr>\n",
       "                                <th id=\"T_143a6e84_ac35_11ea_8ce0_7f84771bd0dclevel1_row4\" class=\"row_heading level1 row4\" >человек</th>\n",
       "                        <td id=\"T_143a6e84_ac35_11ea_8ce0_7f84771bd0dcrow4_col0\" class=\"data row4 col0\" >0.689720</td>\n",
       "            </tr>\n",
       "            <tr>\n",
       "                                <th id=\"T_143a6e84_ac35_11ea_8ce0_7f84771bd0dclevel1_row5\" class=\"row_heading level1 row5\" >узнать_новое</th>\n",
       "                        <td id=\"T_143a6e84_ac35_11ea_8ce0_7f84771bd0dcrow5_col0\" class=\"data row5 col0\" >0.539890</td>\n",
       "            </tr>\n",
       "            <tr>\n",
       "                                <th id=\"T_143a6e84_ac35_11ea_8ce0_7f84771bd0dclevel1_row6\" class=\"row_heading level1 row6\" >хотеть</th>\n",
       "                        <td id=\"T_143a6e84_ac35_11ea_8ce0_7f84771bd0dcrow6_col0\" class=\"data row6 col0\" >0.482580</td>\n",
       "            </tr>\n",
       "            <tr>\n",
       "                                <th id=\"T_143a6e84_ac35_11ea_8ce0_7f84771bd0dclevel1_row7\" class=\"row_heading level1 row7\" >знать</th>\n",
       "                        <td id=\"T_143a6e84_ac35_11ea_8ce0_7f84771bd0dcrow7_col0\" class=\"data row7 col0\" >0.473910</td>\n",
       "            </tr>\n",
       "            <tr>\n",
       "                                <th id=\"T_143a6e84_ac35_11ea_8ce0_7f84771bd0dclevel1_row8\" class=\"row_heading level1 row8\" >самообразование</th>\n",
       "                        <td id=\"T_143a6e84_ac35_11ea_8ce0_7f84771bd0dcrow8_col0\" class=\"data row8 col0\" >0.454600</td>\n",
       "            </tr>\n",
       "            <tr>\n",
       "                                <th id=\"T_143a6e84_ac35_11ea_8ce0_7f84771bd0dclevel1_row9\" class=\"row_heading level1 row9\" >интересный</th>\n",
       "                        <td id=\"T_143a6e84_ac35_11ea_8ce0_7f84771bd0dcrow9_col0\" class=\"data row9 col0\" >0.424180</td>\n",
       "            </tr>\n",
       "    </tbody></table><style  type=\"text/css\" >\n",
       "</style><table id=\"T_143b5678_ac35_11ea_8ce0_7f84771bd0dc\" style='display:inline'><thead>    <tr>        <th class=\"blank\" ></th>        <th class=\"blank level0\" ></th>        <th class=\"col_heading level0 col0\" >topic_3</th>    </tr>    <tr>        <th class=\"index_name level0\" >modality</th>        <th class=\"index_name level1\" >token</th>        <th class=\"blank\" ></th>    </tr></thead><tbody>\n",
       "                <tr>\n",
       "                        <th id=\"T_143b5678_ac35_11ea_8ce0_7f84771bd0dclevel0_row0\" class=\"row_heading level0 row0\" rowspan=2>@specificity</th>\n",
       "                        <th id=\"T_143b5678_ac35_11ea_8ce0_7f84771bd0dclevel1_row0\" class=\"row_heading level1 row0\" >0</th>\n",
       "                        <td id=\"T_143b5678_ac35_11ea_8ce0_7f84771bd0dcrow0_col0\" class=\"data row0 col0\" >42.250030</td>\n",
       "            </tr>\n",
       "            <tr>\n",
       "                                <th id=\"T_143b5678_ac35_11ea_8ce0_7f84771bd0dclevel1_row1\" class=\"row_heading level1 row1\" >1</th>\n",
       "                        <td id=\"T_143b5678_ac35_11ea_8ce0_7f84771bd0dcrow1_col0\" class=\"data row1 col0\" >-0.000000</td>\n",
       "            </tr>\n",
       "    </tbody></table>"
      ]
     },
     "metadata": {},
     "output_type": "display_data"
    },
    {
     "data": {
      "text/html": [
       "<style  type=\"text/css\" >\n",
       "</style><table id=\"T_143fc712_ac35_11ea_8ce0_7f84771bd0dc\" style='display:inline'><thead>    <tr>        <th class=\"blank\" ></th>        <th class=\"blank level0\" ></th>        <th class=\"col_heading level0 col0\" >topic_4</th>    </tr>    <tr>        <th class=\"index_name level0\" >modality</th>        <th class=\"index_name level1\" >token</th>        <th class=\"blank\" ></th>    </tr></thead><tbody>\n",
       "                <tr>\n",
       "                        <th id=\"T_143fc712_ac35_11ea_8ce0_7f84771bd0dclevel0_row0\" class=\"row_heading level0 row0\" rowspan=10>@info</th>\n",
       "                        <th id=\"T_143fc712_ac35_11ea_8ce0_7f84771bd0dclevel1_row0\" class=\"row_heading level1 row0\" >&РЕЗУЛЬТАТ_Да,_четко</th>\n",
       "                        <td id=\"T_143fc712_ac35_11ea_8ce0_7f84771bd0dcrow0_col0\" class=\"data row0 col0\" >2.012180</td>\n",
       "            </tr>\n",
       "            <tr>\n",
       "                                <th id=\"T_143fc712_ac35_11ea_8ce0_7f84771bd0dclevel1_row1\" class=\"row_heading level1 row1\" >&СФЕРА_ЗАНЯТОСТИ_Образование</th>\n",
       "                        <td id=\"T_143fc712_ac35_11ea_8ce0_7f84771bd0dcrow1_col0\" class=\"data row1 col0\" >1.668680</td>\n",
       "            </tr>\n",
       "            <tr>\n",
       "                                <th id=\"T_143fc712_ac35_11ea_8ce0_7f84771bd0dclevel1_row2\" class=\"row_heading level1 row2\" >&ВРЕМЕННЫЕ_ГРАНИЦЫ_Нет_жестких_сроков</th>\n",
       "                        <td id=\"T_143fc712_ac35_11ea_8ce0_7f84771bd0dcrow2_col0\" class=\"data row2 col0\" >1.015630</td>\n",
       "            </tr>\n",
       "            <tr>\n",
       "                                <th id=\"T_143fc712_ac35_11ea_8ce0_7f84771bd0dclevel1_row3\" class=\"row_heading level1 row3\" >&ОСНОВНОЙ_ВИД_ДЕЙТЕЛЬНОСТИ_Работаю_в_организации,_предприятии</th>\n",
       "                        <td id=\"T_143fc712_ac35_11ea_8ce0_7f84771bd0dcrow3_col0\" class=\"data row3 col0\" >0.859550</td>\n",
       "            </tr>\n",
       "            <tr>\n",
       "                                <th id=\"T_143fc712_ac35_11ea_8ce0_7f84771bd0dclevel1_row4\" class=\"row_heading level1 row4\" >&РЕЗУЛЬТАТ_Да,_нечетко</th>\n",
       "                        <td id=\"T_143fc712_ac35_11ea_8ce0_7f84771bd0dcrow4_col0\" class=\"data row4 col0\" >0.835540</td>\n",
       "            </tr>\n",
       "            <tr>\n",
       "                                <th id=\"T_143fc712_ac35_11ea_8ce0_7f84771bd0dclevel1_row5\" class=\"row_heading level1 row5\" >&ПРЕГРАДЫ_Не_вижу_преград</th>\n",
       "                        <td id=\"T_143fc712_ac35_11ea_8ce0_7f84771bd0dcrow5_col0\" class=\"data row5 col0\" >0.684570</td>\n",
       "            </tr>\n",
       "            <tr>\n",
       "                                <th id=\"T_143fc712_ac35_11ea_8ce0_7f84771bd0dclevel1_row6\" class=\"row_heading level1 row6\" >&ТИП_ЦЕЛИ_другое</th>\n",
       "                        <td id=\"T_143fc712_ac35_11ea_8ce0_7f84771bd0dcrow6_col0\" class=\"data row6 col0\" >0.541370</td>\n",
       "            </tr>\n",
       "            <tr>\n",
       "                                <th id=\"T_143fc712_ac35_11ea_8ce0_7f84771bd0dclevel1_row7\" class=\"row_heading level1 row7\" >&ТИП_ЦЕЛИ_Развить_имеющиеся_знания_и_навыки</th>\n",
       "                        <td id=\"T_143fc712_ac35_11ea_8ce0_7f84771bd0dcrow7_col0\" class=\"data row7 col0\" >0.507270</td>\n",
       "            </tr>\n",
       "            <tr>\n",
       "                                <th id=\"T_143fc712_ac35_11ea_8ce0_7f84771bd0dclevel1_row8\" class=\"row_heading level1 row8\" >&ПРЕГРАДЫ_есть_преграды</th>\n",
       "                        <td id=\"T_143fc712_ac35_11ea_8ce0_7f84771bd0dcrow8_col0\" class=\"data row8 col0\" >0.478070</td>\n",
       "            </tr>\n",
       "            <tr>\n",
       "                                <th id=\"T_143fc712_ac35_11ea_8ce0_7f84771bd0dclevel1_row9\" class=\"row_heading level1 row9\" >&ПЕРВЫЙ_ШАГ_знаю_с_чего_начать</th>\n",
       "                        <td id=\"T_143fc712_ac35_11ea_8ce0_7f84771bd0dcrow9_col0\" class=\"data row9 col0\" >0.303030</td>\n",
       "            </tr>\n",
       "    </tbody></table><style  type=\"text/css\" >\n",
       "</style><table id=\"T_1440b7a8_ac35_11ea_8ce0_7f84771bd0dc\" style='display:inline'><thead>    <tr>        <th class=\"blank\" ></th>        <th class=\"blank level0\" ></th>        <th class=\"col_heading level0 col0\" >topic_4</th>    </tr>    <tr>        <th class=\"index_name level0\" >modality</th>        <th class=\"index_name level1\" >token</th>        <th class=\"blank\" ></th>    </tr></thead><tbody>\n",
       "                <tr>\n",
       "                        <th id=\"T_1440b7a8_ac35_11ea_8ce0_7f84771bd0dclevel0_row0\" class=\"row_heading level0 row0\" rowspan=10>@ngram</th>\n",
       "                        <th id=\"T_1440b7a8_ac35_11ea_8ce0_7f84771bd0dclevel1_row0\" class=\"row_heading level1 row0\" >профессиональный</th>\n",
       "                        <td id=\"T_1440b7a8_ac35_11ea_8ce0_7f84771bd0dcrow0_col0\" class=\"data row0 col0\" >0.774020</td>\n",
       "            </tr>\n",
       "            <tr>\n",
       "                                <th id=\"T_1440b7a8_ac35_11ea_8ce0_7f84771bd0dclevel1_row1\" class=\"row_heading level1 row1\" >навык</th>\n",
       "                        <td id=\"T_1440b7a8_ac35_11ea_8ce0_7f84771bd0dcrow1_col0\" class=\"data row1 col0\" >0.321640</td>\n",
       "            </tr>\n",
       "            <tr>\n",
       "                                <th id=\"T_1440b7a8_ac35_11ea_8ce0_7f84771bd0dclevel1_row2\" class=\"row_heading level1 row2\" >компетенция</th>\n",
       "                        <td id=\"T_1440b7a8_ac35_11ea_8ce0_7f84771bd0dcrow2_col0\" class=\"data row2 col0\" >0.225030</td>\n",
       "            </tr>\n",
       "            <tr>\n",
       "                                <th id=\"T_1440b7a8_ac35_11ea_8ce0_7f84771bd0dclevel1_row3\" class=\"row_heading level1 row3\" >развитие</th>\n",
       "                        <td id=\"T_1440b7a8_ac35_11ea_8ce0_7f84771bd0dcrow3_col0\" class=\"data row3 col0\" >0.195520</td>\n",
       "            </tr>\n",
       "            <tr>\n",
       "                                <th id=\"T_1440b7a8_ac35_11ea_8ce0_7f84771bd0dclevel1_row4\" class=\"row_heading level1 row4\" >повышение</th>\n",
       "                        <td id=\"T_1440b7a8_ac35_11ea_8ce0_7f84771bd0dcrow4_col0\" class=\"data row4 col0\" >0.135620</td>\n",
       "            </tr>\n",
       "            <tr>\n",
       "                                <th id=\"T_1440b7a8_ac35_11ea_8ce0_7f84771bd0dclevel1_row5\" class=\"row_heading level1 row5\" >повышение_профессиональный</th>\n",
       "                        <td id=\"T_1440b7a8_ac35_11ea_8ce0_7f84771bd0dcrow5_col0\" class=\"data row5 col0\" >0.117420</td>\n",
       "            </tr>\n",
       "            <tr>\n",
       "                                <th id=\"T_1440b7a8_ac35_11ea_8ce0_7f84771bd0dclevel1_row6\" class=\"row_heading level1 row6\" >профессиональный_уровень</th>\n",
       "                        <td id=\"T_1440b7a8_ac35_11ea_8ce0_7f84771bd0dcrow6_col0\" class=\"data row6 col0\" >0.107760</td>\n",
       "            </tr>\n",
       "            <tr>\n",
       "                                <th id=\"T_1440b7a8_ac35_11ea_8ce0_7f84771bd0dclevel1_row7\" class=\"row_heading level1 row7\" >сфера</th>\n",
       "                        <td id=\"T_1440b7a8_ac35_11ea_8ce0_7f84771bd0dcrow7_col0\" class=\"data row7 col0\" >0.091310</td>\n",
       "            </tr>\n",
       "            <tr>\n",
       "                                <th id=\"T_1440b7a8_ac35_11ea_8ce0_7f84771bd0dclevel1_row8\" class=\"row_heading level1 row8\" >профессиональный_компетенция</th>\n",
       "                        <td id=\"T_1440b7a8_ac35_11ea_8ce0_7f84771bd0dcrow8_col0\" class=\"data row8 col0\" >0.085060</td>\n",
       "            </tr>\n",
       "            <tr>\n",
       "                                <th id=\"T_1440b7a8_ac35_11ea_8ce0_7f84771bd0dclevel1_row9\" class=\"row_heading level1 row9\" >курс</th>\n",
       "                        <td id=\"T_1440b7a8_ac35_11ea_8ce0_7f84771bd0dcrow9_col0\" class=\"data row9 col0\" >0.083480</td>\n",
       "            </tr>\n",
       "    </tbody></table><style  type=\"text/css\" >\n",
       "</style><table id=\"T_14419434_ac35_11ea_8ce0_7f84771bd0dc\" style='display:inline'><thead>    <tr>        <th class=\"blank\" ></th>        <th class=\"blank level0\" ></th>        <th class=\"col_heading level0 col0\" >topic_4</th>    </tr>    <tr>        <th class=\"index_name level0\" >modality</th>        <th class=\"index_name level1\" >token</th>        <th class=\"blank\" ></th>    </tr></thead><tbody>\n",
       "                <tr>\n",
       "                        <th id=\"T_14419434_ac35_11ea_8ce0_7f84771bd0dclevel0_row0\" class=\"row_heading level0 row0\" rowspan=2>@specificity</th>\n",
       "                        <th id=\"T_14419434_ac35_11ea_8ce0_7f84771bd0dclevel1_row0\" class=\"row_heading level1 row0\" >1</th>\n",
       "                        <td id=\"T_14419434_ac35_11ea_8ce0_7f84771bd0dcrow0_col0\" class=\"data row0 col0\" >11.446930</td>\n",
       "            </tr>\n",
       "            <tr>\n",
       "                                <th id=\"T_14419434_ac35_11ea_8ce0_7f84771bd0dclevel1_row1\" class=\"row_heading level1 row1\" >0</th>\n",
       "                        <td id=\"T_14419434_ac35_11ea_8ce0_7f84771bd0dcrow1_col0\" class=\"data row1 col0\" >-0.000000</td>\n",
       "            </tr>\n",
       "    </tbody></table>"
      ]
     },
     "metadata": {},
     "output_type": "display_data"
    },
    {
     "data": {
      "text/html": [
       "<style  type=\"text/css\" >\n",
       "</style><table id=\"T_14469ed4_ac35_11ea_8ce0_7f84771bd0dc\" style='display:inline'><thead>    <tr>        <th class=\"blank\" ></th>        <th class=\"blank level0\" ></th>        <th class=\"col_heading level0 col0\" >topic_5</th>    </tr>    <tr>        <th class=\"index_name level0\" >modality</th>        <th class=\"index_name level1\" >token</th>        <th class=\"blank\" ></th>    </tr></thead><tbody>\n",
       "                <tr>\n",
       "                        <th id=\"T_14469ed4_ac35_11ea_8ce0_7f84771bd0dclevel0_row0\" class=\"row_heading level0 row0\" rowspan=10>@info</th>\n",
       "                        <th id=\"T_14469ed4_ac35_11ea_8ce0_7f84771bd0dclevel1_row0\" class=\"row_heading level1 row0\" >&РЕЗУЛЬТАТ_Да,_четко</th>\n",
       "                        <td id=\"T_14469ed4_ac35_11ea_8ce0_7f84771bd0dcrow0_col0\" class=\"data row0 col0\" >1.915450</td>\n",
       "            </tr>\n",
       "            <tr>\n",
       "                                <th id=\"T_14469ed4_ac35_11ea_8ce0_7f84771bd0dclevel1_row1\" class=\"row_heading level1 row1\" >&ПРЕГРАДЫ_есть_преграды</th>\n",
       "                        <td id=\"T_14469ed4_ac35_11ea_8ce0_7f84771bd0dcrow1_col0\" class=\"data row1 col0\" >1.575210</td>\n",
       "            </tr>\n",
       "            <tr>\n",
       "                                <th id=\"T_14469ed4_ac35_11ea_8ce0_7f84771bd0dclevel1_row2\" class=\"row_heading level1 row2\" >&ОБЛАСТЬ_ЦЕЛИ_Иностранные_языки,_гуманитарные_знания_и_навыки</th>\n",
       "                        <td id=\"T_14469ed4_ac35_11ea_8ce0_7f84771bd0dcrow2_col0\" class=\"data row2 col0\" >1.038390</td>\n",
       "            </tr>\n",
       "            <tr>\n",
       "                                <th id=\"T_14469ed4_ac35_11ea_8ce0_7f84771bd0dclevel1_row3\" class=\"row_heading level1 row3\" >&ПОДОБЛАСТЬ_ЦЕЛИ_Иностранные_языки</th>\n",
       "                        <td id=\"T_14469ed4_ac35_11ea_8ce0_7f84771bd0dcrow3_col0\" class=\"data row3 col0\" >0.851620</td>\n",
       "            </tr>\n",
       "            <tr>\n",
       "                                <th id=\"T_14469ed4_ac35_11ea_8ce0_7f84771bd0dclevel1_row4\" class=\"row_heading level1 row4\" >&ПЕРВЫЙ_ШАГ_знаю_с_чего_начать</th>\n",
       "                        <td id=\"T_14469ed4_ac35_11ea_8ce0_7f84771bd0dcrow4_col0\" class=\"data row4 col0\" >0.786030</td>\n",
       "            </tr>\n",
       "            <tr>\n",
       "                                <th id=\"T_14469ed4_ac35_11ea_8ce0_7f84771bd0dclevel1_row5\" class=\"row_heading level1 row5\" >&ТИП_ЦЕЛИ_Приобрести_новые_навыки</th>\n",
       "                        <td id=\"T_14469ed4_ac35_11ea_8ce0_7f84771bd0dcrow5_col0\" class=\"data row5 col0\" >0.548870</td>\n",
       "            </tr>\n",
       "            <tr>\n",
       "                                <th id=\"T_14469ed4_ac35_11ea_8ce0_7f84771bd0dclevel1_row6\" class=\"row_heading level1 row6\" >&ПРЕГРАДЫ_Не_вижу_преград</th>\n",
       "                        <td id=\"T_14469ed4_ac35_11ea_8ce0_7f84771bd0dcrow6_col0\" class=\"data row6 col0\" >0.504540</td>\n",
       "            </tr>\n",
       "            <tr>\n",
       "                                <th id=\"T_14469ed4_ac35_11ea_8ce0_7f84771bd0dclevel1_row7\" class=\"row_heading level1 row7\" >&ТИП_ЦЕЛИ_Развить_имеющиеся_знания_и_навыки</th>\n",
       "                        <td id=\"T_14469ed4_ac35_11ea_8ce0_7f84771bd0dcrow7_col0\" class=\"data row7 col0\" >0.504260</td>\n",
       "            </tr>\n",
       "            <tr>\n",
       "                                <th id=\"T_14469ed4_ac35_11ea_8ce0_7f84771bd0dclevel1_row8\" class=\"row_heading level1 row8\" >&ТИП_ЦЕЛИ_Получить_знания_в_новой_области</th>\n",
       "                        <td id=\"T_14469ed4_ac35_11ea_8ce0_7f84771bd0dcrow8_col0\" class=\"data row8 col0\" >0.475390</td>\n",
       "            </tr>\n",
       "            <tr>\n",
       "                                <th id=\"T_14469ed4_ac35_11ea_8ce0_7f84771bd0dclevel1_row9\" class=\"row_heading level1 row9\" >&ТИП_ЦЕЛИ_другое</th>\n",
       "                        <td id=\"T_14469ed4_ac35_11ea_8ce0_7f84771bd0dcrow9_col0\" class=\"data row9 col0\" >0.396490</td>\n",
       "            </tr>\n",
       "    </tbody></table><style  type=\"text/css\" >\n",
       "</style><table id=\"T_1447ff0e_ac35_11ea_8ce0_7f84771bd0dc\" style='display:inline'><thead>    <tr>        <th class=\"blank\" ></th>        <th class=\"blank level0\" ></th>        <th class=\"col_heading level0 col0\" >topic_5</th>    </tr>    <tr>        <th class=\"index_name level0\" >modality</th>        <th class=\"index_name level1\" >token</th>        <th class=\"blank\" ></th>    </tr></thead><tbody>\n",
       "                <tr>\n",
       "                        <th id=\"T_1447ff0e_ac35_11ea_8ce0_7f84771bd0dclevel0_row0\" class=\"row_heading level0 row0\" rowspan=10>@ngram</th>\n",
       "                        <th id=\"T_1447ff0e_ac35_11ea_8ce0_7f84771bd0dclevel1_row0\" class=\"row_heading level1 row0\" >язык</th>\n",
       "                        <td id=\"T_1447ff0e_ac35_11ea_8ce0_7f84771bd0dcrow0_col0\" class=\"data row0 col0\" >0.699660</td>\n",
       "            </tr>\n",
       "            <tr>\n",
       "                                <th id=\"T_1447ff0e_ac35_11ea_8ce0_7f84771bd0dclevel1_row1\" class=\"row_heading level1 row1\" >английский</th>\n",
       "                        <td id=\"T_1447ff0e_ac35_11ea_8ce0_7f84771bd0dcrow1_col0\" class=\"data row1 col0\" >0.456550</td>\n",
       "            </tr>\n",
       "            <tr>\n",
       "                                <th id=\"T_1447ff0e_ac35_11ea_8ce0_7f84771bd0dclevel1_row2\" class=\"row_heading level1 row2\" >английский_язык</th>\n",
       "                        <td id=\"T_1447ff0e_ac35_11ea_8ce0_7f84771bd0dcrow2_col0\" class=\"data row2 col0\" >0.288770</td>\n",
       "            </tr>\n",
       "            <tr>\n",
       "                                <th id=\"T_1447ff0e_ac35_11ea_8ce0_7f84771bd0dclevel1_row3\" class=\"row_heading level1 row3\" >выучить</th>\n",
       "                        <td id=\"T_1447ff0e_ac35_11ea_8ce0_7f84771bd0dcrow3_col0\" class=\"data row3 col0\" >0.279950</td>\n",
       "            </tr>\n",
       "            <tr>\n",
       "                                <th id=\"T_1447ff0e_ac35_11ea_8ce0_7f84771bd0dclevel1_row4\" class=\"row_heading level1 row4\" >программирование</th>\n",
       "                        <td id=\"T_1447ff0e_ac35_11ea_8ce0_7f84771bd0dcrow4_col0\" class=\"data row4 col0\" >0.173700</td>\n",
       "            </tr>\n",
       "            <tr>\n",
       "                                <th id=\"T_1447ff0e_ac35_11ea_8ce0_7f84771bd0dclevel1_row5\" class=\"row_heading level1 row5\" >изучить</th>\n",
       "                        <td id=\"T_1447ff0e_ac35_11ea_8ce0_7f84771bd0dcrow5_col0\" class=\"data row5 col0\" >0.151010</td>\n",
       "            </tr>\n",
       "            <tr>\n",
       "                                <th id=\"T_1447ff0e_ac35_11ea_8ce0_7f84771bd0dclevel1_row6\" class=\"row_heading level1 row6\" >изучение</th>\n",
       "                        <td id=\"T_1447ff0e_ac35_11ea_8ce0_7f84771bd0dcrow6_col0\" class=\"data row6 col0\" >0.128740</td>\n",
       "            </tr>\n",
       "            <tr>\n",
       "                                <th id=\"T_1447ff0e_ac35_11ea_8ce0_7f84771bd0dclevel1_row7\" class=\"row_heading level1 row7\" >уровень</th>\n",
       "                        <td id=\"T_1447ff0e_ac35_11ea_8ce0_7f84771bd0dcrow7_col0\" class=\"data row7 col0\" >0.121760</td>\n",
       "            </tr>\n",
       "            <tr>\n",
       "                                <th id=\"T_1447ff0e_ac35_11ea_8ce0_7f84771bd0dclevel1_row8\" class=\"row_heading level1 row8\" >иностранный</th>\n",
       "                        <td id=\"T_1447ff0e_ac35_11ea_8ce0_7f84771bd0dcrow8_col0\" class=\"data row8 col0\" >0.106280</td>\n",
       "            </tr>\n",
       "            <tr>\n",
       "                                <th id=\"T_1447ff0e_ac35_11ea_8ce0_7f84771bd0dclevel1_row9\" class=\"row_heading level1 row9\" >иностранный_язык</th>\n",
       "                        <td id=\"T_1447ff0e_ac35_11ea_8ce0_7f84771bd0dcrow9_col0\" class=\"data row9 col0\" >0.102370</td>\n",
       "            </tr>\n",
       "    </tbody></table><style  type=\"text/css\" >\n",
       "</style><table id=\"T_144933a6_ac35_11ea_8ce0_7f84771bd0dc\" style='display:inline'><thead>    <tr>        <th class=\"blank\" ></th>        <th class=\"blank level0\" ></th>        <th class=\"col_heading level0 col0\" >topic_5</th>    </tr>    <tr>        <th class=\"index_name level0\" >modality</th>        <th class=\"index_name level1\" >token</th>        <th class=\"blank\" ></th>    </tr></thead><tbody>\n",
       "                <tr>\n",
       "                        <th id=\"T_144933a6_ac35_11ea_8ce0_7f84771bd0dclevel0_row0\" class=\"row_heading level0 row0\" rowspan=2>@specificity</th>\n",
       "                        <th id=\"T_144933a6_ac35_11ea_8ce0_7f84771bd0dclevel1_row0\" class=\"row_heading level1 row0\" >1</th>\n",
       "                        <td id=\"T_144933a6_ac35_11ea_8ce0_7f84771bd0dcrow0_col0\" class=\"data row0 col0\" >11.421330</td>\n",
       "            </tr>\n",
       "            <tr>\n",
       "                                <th id=\"T_144933a6_ac35_11ea_8ce0_7f84771bd0dclevel1_row1\" class=\"row_heading level1 row1\" >0</th>\n",
       "                        <td id=\"T_144933a6_ac35_11ea_8ce0_7f84771bd0dcrow1_col0\" class=\"data row1 col0\" >-0.000000</td>\n",
       "            </tr>\n",
       "    </tbody></table>"
      ]
     },
     "metadata": {},
     "output_type": "display_data"
    },
    {
     "data": {
      "text/html": [
       "<style  type=\"text/css\" >\n",
       "</style><table id=\"T_144ee8dc_ac35_11ea_8ce0_7f84771bd0dc\" style='display:inline'><thead>    <tr>        <th class=\"blank\" ></th>        <th class=\"blank level0\" ></th>        <th class=\"col_heading level0 col0\" >topic_6</th>    </tr>    <tr>        <th class=\"index_name level0\" >modality</th>        <th class=\"index_name level1\" >token</th>        <th class=\"blank\" ></th>    </tr></thead><tbody>\n",
       "                <tr>\n",
       "                        <th id=\"T_144ee8dc_ac35_11ea_8ce0_7f84771bd0dclevel0_row0\" class=\"row_heading level0 row0\" rowspan=10>@info</th>\n",
       "                        <th id=\"T_144ee8dc_ac35_11ea_8ce0_7f84771bd0dclevel1_row0\" class=\"row_heading level1 row0\" >&ТИП_ЦЕЛИ_другое</th>\n",
       "                        <td id=\"T_144ee8dc_ac35_11ea_8ce0_7f84771bd0dcrow0_col0\" class=\"data row0 col0\" >1.516060</td>\n",
       "            </tr>\n",
       "            <tr>\n",
       "                                <th id=\"T_144ee8dc_ac35_11ea_8ce0_7f84771bd0dclevel1_row1\" class=\"row_heading level1 row1\" >&РЕЗУЛЬТАТ_Да,_четко</th>\n",
       "                        <td id=\"T_144ee8dc_ac35_11ea_8ce0_7f84771bd0dcrow1_col0\" class=\"data row1 col0\" >1.412700</td>\n",
       "            </tr>\n",
       "            <tr>\n",
       "                                <th id=\"T_144ee8dc_ac35_11ea_8ce0_7f84771bd0dclevel1_row2\" class=\"row_heading level1 row2\" >&ТИП_ЦЕЛИ_Включиться_в_новый_проект/деятельность</th>\n",
       "                        <td id=\"T_144ee8dc_ac35_11ea_8ce0_7f84771bd0dcrow2_col0\" class=\"data row2 col0\" >1.260960</td>\n",
       "            </tr>\n",
       "            <tr>\n",
       "                                <th id=\"T_144ee8dc_ac35_11ea_8ce0_7f84771bd0dclevel1_row3\" class=\"row_heading level1 row3\" >&ПРЕГРАДЫ_Не_вижу_преград</th>\n",
       "                        <td id=\"T_144ee8dc_ac35_11ea_8ce0_7f84771bd0dcrow3_col0\" class=\"data row3 col0\" >1.022950</td>\n",
       "            </tr>\n",
       "            <tr>\n",
       "                                <th id=\"T_144ee8dc_ac35_11ea_8ce0_7f84771bd0dclevel1_row4\" class=\"row_heading level1 row4\" >&ТИП_ЦЕЛИ_Приобрести_новые_навыки</th>\n",
       "                        <td id=\"T_144ee8dc_ac35_11ea_8ce0_7f84771bd0dcrow4_col0\" class=\"data row4 col0\" >0.850230</td>\n",
       "            </tr>\n",
       "            <tr>\n",
       "                                <th id=\"T_144ee8dc_ac35_11ea_8ce0_7f84771bd0dclevel1_row5\" class=\"row_heading level1 row5\" >&ТИП_ЦЕЛИ_Развить_имеющиеся_знания_и_навыки</th>\n",
       "                        <td id=\"T_144ee8dc_ac35_11ea_8ce0_7f84771bd0dcrow5_col0\" class=\"data row5 col0\" >0.631240</td>\n",
       "            </tr>\n",
       "            <tr>\n",
       "                                <th id=\"T_144ee8dc_ac35_11ea_8ce0_7f84771bd0dclevel1_row6\" class=\"row_heading level1 row6\" >&ТИП_ЦЕЛИ_Получить_знания_в_новой_области</th>\n",
       "                        <td id=\"T_144ee8dc_ac35_11ea_8ce0_7f84771bd0dcrow6_col0\" class=\"data row6 col0\" >0.573440</td>\n",
       "            </tr>\n",
       "            <tr>\n",
       "                                <th id=\"T_144ee8dc_ac35_11ea_8ce0_7f84771bd0dclevel1_row7\" class=\"row_heading level1 row7\" >&ПРЕГРАДЫ_есть_преграды</th>\n",
       "                        <td id=\"T_144ee8dc_ac35_11ea_8ce0_7f84771bd0dcrow7_col0\" class=\"data row7 col0\" >0.568540</td>\n",
       "            </tr>\n",
       "            <tr>\n",
       "                                <th id=\"T_144ee8dc_ac35_11ea_8ce0_7f84771bd0dclevel1_row8\" class=\"row_heading level1 row8\" >&ПЕРВЫЙ_ШАГ_знаю_с_чего_начать</th>\n",
       "                        <td id=\"T_144ee8dc_ac35_11ea_8ce0_7f84771bd0dcrow8_col0\" class=\"data row8 col0\" >0.527960</td>\n",
       "            </tr>\n",
       "            <tr>\n",
       "                                <th id=\"T_144ee8dc_ac35_11ea_8ce0_7f84771bd0dclevel1_row9\" class=\"row_heading level1 row9\" >&РЕЗУЛЬТАТ_Да,_нечетко</th>\n",
       "                        <td id=\"T_144ee8dc_ac35_11ea_8ce0_7f84771bd0dcrow9_col0\" class=\"data row9 col0\" >0.461180</td>\n",
       "            </tr>\n",
       "    </tbody></table><style  type=\"text/css\" >\n",
       "</style><table id=\"T_1450aa5a_ac35_11ea_8ce0_7f84771bd0dc\" style='display:inline'><thead>    <tr>        <th class=\"blank\" ></th>        <th class=\"blank level0\" ></th>        <th class=\"col_heading level0 col0\" >topic_6</th>    </tr>    <tr>        <th class=\"index_name level0\" >modality</th>        <th class=\"index_name level1\" >token</th>        <th class=\"blank\" ></th>    </tr></thead><tbody>\n",
       "                <tr>\n",
       "                        <th id=\"T_1450aa5a_ac35_11ea_8ce0_7f84771bd0dclevel0_row0\" class=\"row_heading level0 row0\" rowspan=10>@ngram</th>\n",
       "                        <th id=\"T_1450aa5a_ac35_11ea_8ce0_7f84771bd0dclevel1_row0\" class=\"row_heading level1 row0\" >стать</th>\n",
       "                        <td id=\"T_1450aa5a_ac35_11ea_8ce0_7f84771bd0dcrow0_col0\" class=\"data row0 col0\" >0.439220</td>\n",
       "            </tr>\n",
       "            <tr>\n",
       "                                <th id=\"T_1450aa5a_ac35_11ea_8ce0_7f84771bd0dclevel1_row1\" class=\"row_heading level1 row1\" >специалист</th>\n",
       "                        <td id=\"T_1450aa5a_ac35_11ea_8ce0_7f84771bd0dcrow1_col0\" class=\"data row1 col0\" >0.187930</td>\n",
       "            </tr>\n",
       "            <tr>\n",
       "                                <th id=\"T_1450aa5a_ac35_11ea_8ce0_7f84771bd0dclevel1_row2\" class=\"row_heading level1 row2\" >управление</th>\n",
       "                        <td id=\"T_1450aa5a_ac35_11ea_8ce0_7f84771bd0dcrow2_col0\" class=\"data row2 col0\" >0.149930</td>\n",
       "            </tr>\n",
       "            <tr>\n",
       "                                <th id=\"T_1450aa5a_ac35_11ea_8ce0_7f84771bd0dclevel1_row3\" class=\"row_heading level1 row3\" >свой</th>\n",
       "                        <td id=\"T_1450aa5a_ac35_11ea_8ce0_7f84771bd0dcrow3_col0\" class=\"data row3 col0\" >0.135110</td>\n",
       "            </tr>\n",
       "            <tr>\n",
       "                                <th id=\"T_1450aa5a_ac35_11ea_8ce0_7f84771bd0dclevel1_row4\" class=\"row_heading level1 row4\" >бизнес</th>\n",
       "                        <td id=\"T_1450aa5a_ac35_11ea_8ce0_7f84771bd0dcrow4_col0\" class=\"data row4 col0\" >0.103100</td>\n",
       "            </tr>\n",
       "            <tr>\n",
       "                                <th id=\"T_1450aa5a_ac35_11ea_8ce0_7f84771bd0dclevel1_row5\" class=\"row_heading level1 row5\" >профессионал</th>\n",
       "                        <td id=\"T_1450aa5a_ac35_11ea_8ce0_7f84771bd0dcrow5_col0\" class=\"data row5 col0\" >0.082320</td>\n",
       "            </tr>\n",
       "            <tr>\n",
       "                                <th id=\"T_1450aa5a_ac35_11ea_8ce0_7f84771bd0dclevel1_row6\" class=\"row_heading level1 row6\" >цифровой</th>\n",
       "                        <td id=\"T_1450aa5a_ac35_11ea_8ce0_7f84771bd0dcrow6_col0\" class=\"data row6 col0\" >0.079930</td>\n",
       "            </tr>\n",
       "            <tr>\n",
       "                                <th id=\"T_1450aa5a_ac35_11ea_8ce0_7f84771bd0dclevel1_row7\" class=\"row_heading level1 row7\" >сфера</th>\n",
       "                        <td id=\"T_1450aa5a_ac35_11ea_8ce0_7f84771bd0dcrow7_col0\" class=\"data row7 col0\" >0.078400</td>\n",
       "            </tr>\n",
       "            <tr>\n",
       "                                <th id=\"T_1450aa5a_ac35_11ea_8ce0_7f84771bd0dclevel1_row8\" class=\"row_heading level1 row8\" >область</th>\n",
       "                        <td id=\"T_1450aa5a_ac35_11ea_8ce0_7f84771bd0dcrow8_col0\" class=\"data row8 col0\" >0.069110</td>\n",
       "            </tr>\n",
       "            <tr>\n",
       "                                <th id=\"T_1450aa5a_ac35_11ea_8ce0_7f84771bd0dclevel1_row9\" class=\"row_heading level1 row9\" >проектный</th>\n",
       "                        <td id=\"T_1450aa5a_ac35_11ea_8ce0_7f84771bd0dcrow9_col0\" class=\"data row9 col0\" >0.063220</td>\n",
       "            </tr>\n",
       "    </tbody></table><style  type=\"text/css\" >\n",
       "</style><table id=\"T_1451efaa_ac35_11ea_8ce0_7f84771bd0dc\" style='display:inline'><thead>    <tr>        <th class=\"blank\" ></th>        <th class=\"blank level0\" ></th>        <th class=\"col_heading level0 col0\" >topic_6</th>    </tr>    <tr>        <th class=\"index_name level0\" >modality</th>        <th class=\"index_name level1\" >token</th>        <th class=\"blank\" ></th>    </tr></thead><tbody>\n",
       "                <tr>\n",
       "                        <th id=\"T_1451efaa_ac35_11ea_8ce0_7f84771bd0dclevel0_row0\" class=\"row_heading level0 row0\" rowspan=2>@specificity</th>\n",
       "                        <th id=\"T_1451efaa_ac35_11ea_8ce0_7f84771bd0dclevel1_row0\" class=\"row_heading level1 row0\" >1</th>\n",
       "                        <td id=\"T_1451efaa_ac35_11ea_8ce0_7f84771bd0dcrow0_col0\" class=\"data row0 col0\" >11.392640</td>\n",
       "            </tr>\n",
       "            <tr>\n",
       "                                <th id=\"T_1451efaa_ac35_11ea_8ce0_7f84771bd0dclevel1_row1\" class=\"row_heading level1 row1\" >0</th>\n",
       "                        <td id=\"T_1451efaa_ac35_11ea_8ce0_7f84771bd0dcrow1_col0\" class=\"data row1 col0\" >-0.000000</td>\n",
       "            </tr>\n",
       "    </tbody></table>"
      ]
     },
     "metadata": {},
     "output_type": "display_data"
    },
    {
     "data": {
      "text/html": [
       "<style  type=\"text/css\" >\n",
       "</style><table id=\"T_145b7106_ac35_11ea_8ce0_7f84771bd0dc\" style='display:inline'><thead>    <tr>        <th class=\"blank\" ></th>        <th class=\"blank level0\" ></th>        <th class=\"col_heading level0 col0\" >topic_7</th>    </tr>    <tr>        <th class=\"index_name level0\" >modality</th>        <th class=\"index_name level1\" >token</th>        <th class=\"blank\" ></th>    </tr></thead><tbody>\n",
       "                <tr>\n",
       "                        <th id=\"T_145b7106_ac35_11ea_8ce0_7f84771bd0dclevel0_row0\" class=\"row_heading level0 row0\" rowspan=10>@info</th>\n",
       "                        <th id=\"T_145b7106_ac35_11ea_8ce0_7f84771bd0dclevel1_row0\" class=\"row_heading level1 row0\" >&РЕЗУЛЬТАТ_Да,_четко</th>\n",
       "                        <td id=\"T_145b7106_ac35_11ea_8ce0_7f84771bd0dcrow0_col0\" class=\"data row0 col0\" >1.462500</td>\n",
       "            </tr>\n",
       "            <tr>\n",
       "                                <th id=\"T_145b7106_ac35_11ea_8ce0_7f84771bd0dclevel1_row1\" class=\"row_heading level1 row1\" >&ОБРАЗОВАНИЕ_Высшее_образование</th>\n",
       "                        <td id=\"T_145b7106_ac35_11ea_8ce0_7f84771bd0dcrow1_col0\" class=\"data row1 col0\" >1.384600</td>\n",
       "            </tr>\n",
       "            <tr>\n",
       "                                <th id=\"T_145b7106_ac35_11ea_8ce0_7f84771bd0dclevel1_row2\" class=\"row_heading level1 row2\" >&ОБЛАСТЬ_ЦЕЛИ_другое</th>\n",
       "                        <td id=\"T_145b7106_ac35_11ea_8ce0_7f84771bd0dcrow2_col0\" class=\"data row2 col0\" >0.974490</td>\n",
       "            </tr>\n",
       "            <tr>\n",
       "                                <th id=\"T_145b7106_ac35_11ea_8ce0_7f84771bd0dclevel1_row3\" class=\"row_heading level1 row3\" >&ПРЕГРАДЫ_Не_вижу_преград</th>\n",
       "                        <td id=\"T_145b7106_ac35_11ea_8ce0_7f84771bd0dcrow3_col0\" class=\"data row3 col0\" >0.943050</td>\n",
       "            </tr>\n",
       "            <tr>\n",
       "                                <th id=\"T_145b7106_ac35_11ea_8ce0_7f84771bd0dclevel1_row4\" class=\"row_heading level1 row4\" >&ОСНОВНОЙ_ВИД_ДЕЙТЕЛЬНОСТИ_Работаю_в_организации,_предприятии</th>\n",
       "                        <td id=\"T_145b7106_ac35_11ea_8ce0_7f84771bd0dcrow4_col0\" class=\"data row4 col0\" >0.839260</td>\n",
       "            </tr>\n",
       "            <tr>\n",
       "                                <th id=\"T_145b7106_ac35_11ea_8ce0_7f84771bd0dclevel1_row5\" class=\"row_heading level1 row5\" >&ТИП_ЦЕЛИ_Приобрести_новые_навыки</th>\n",
       "                        <td id=\"T_145b7106_ac35_11ea_8ce0_7f84771bd0dcrow5_col0\" class=\"data row5 col0\" >0.787110</td>\n",
       "            </tr>\n",
       "            <tr>\n",
       "                                <th id=\"T_145b7106_ac35_11ea_8ce0_7f84771bd0dclevel1_row6\" class=\"row_heading level1 row6\" >&ВРЕМЕННЫЕ_ГРАНИЦЫ_Нет_жестких_сроков</th>\n",
       "                        <td id=\"T_145b7106_ac35_11ea_8ce0_7f84771bd0dcrow6_col0\" class=\"data row6 col0\" >0.706110</td>\n",
       "            </tr>\n",
       "            <tr>\n",
       "                                <th id=\"T_145b7106_ac35_11ea_8ce0_7f84771bd0dclevel1_row7\" class=\"row_heading level1 row7\" >&РЕЗУЛЬТАТ_Да,_нечетко</th>\n",
       "                        <td id=\"T_145b7106_ac35_11ea_8ce0_7f84771bd0dcrow7_col0\" class=\"data row7 col0\" >0.464470</td>\n",
       "            </tr>\n",
       "            <tr>\n",
       "                                <th id=\"T_145b7106_ac35_11ea_8ce0_7f84771bd0dclevel1_row8\" class=\"row_heading level1 row8\" >&ТИП_ЦЕЛИ_Развить_имеющиеся_знания_и_навыки</th>\n",
       "                        <td id=\"T_145b7106_ac35_11ea_8ce0_7f84771bd0dcrow8_col0\" class=\"data row8 col0\" >0.419220</td>\n",
       "            </tr>\n",
       "            <tr>\n",
       "                                <th id=\"T_145b7106_ac35_11ea_8ce0_7f84771bd0dclevel1_row9\" class=\"row_heading level1 row9\" >&ТИП_ЦЕЛИ_Получить_знания_в_новой_области</th>\n",
       "                        <td id=\"T_145b7106_ac35_11ea_8ce0_7f84771bd0dcrow9_col0\" class=\"data row9 col0\" >0.416630</td>\n",
       "            </tr>\n",
       "    </tbody></table><style  type=\"text/css\" >\n",
       "</style><table id=\"T_145db786_ac35_11ea_8ce0_7f84771bd0dc\" style='display:inline'><thead>    <tr>        <th class=\"blank\" ></th>        <th class=\"blank level0\" ></th>        <th class=\"col_heading level0 col0\" >topic_7</th>    </tr>    <tr>        <th class=\"index_name level0\" >modality</th>        <th class=\"index_name level1\" >token</th>        <th class=\"blank\" ></th>    </tr></thead><tbody>\n",
       "                <tr>\n",
       "                        <th id=\"T_145db786_ac35_11ea_8ce0_7f84771bd0dclevel0_row0\" class=\"row_heading level0 row0\" rowspan=10>@ngram</th>\n",
       "                        <th id=\"T_145db786_ac35_11ea_8ce0_7f84771bd0dclevel1_row0\" class=\"row_heading level1 row0\" >уровень</th>\n",
       "                        <td id=\"T_145db786_ac35_11ea_8ce0_7f84771bd0dcrow0_col0\" class=\"data row0 col0\" >0.372030</td>\n",
       "            </tr>\n",
       "            <tr>\n",
       "                                <th id=\"T_145db786_ac35_11ea_8ce0_7f84771bd0dclevel1_row1\" class=\"row_heading level1 row1\" >повышение</th>\n",
       "                        <td id=\"T_145db786_ac35_11ea_8ce0_7f84771bd0dcrow1_col0\" class=\"data row1 col0\" >0.310590</td>\n",
       "            </tr>\n",
       "            <tr>\n",
       "                                <th id=\"T_145db786_ac35_11ea_8ce0_7f84771bd0dclevel1_row2\" class=\"row_heading level1 row2\" >повысить</th>\n",
       "                        <td id=\"T_145db786_ac35_11ea_8ce0_7f84771bd0dcrow2_col0\" class=\"data row2 col0\" >0.251680</td>\n",
       "            </tr>\n",
       "            <tr>\n",
       "                                <th id=\"T_145db786_ac35_11ea_8ce0_7f84771bd0dclevel1_row3\" class=\"row_heading level1 row3\" >научиться</th>\n",
       "                        <td id=\"T_145db786_ac35_11ea_8ce0_7f84771bd0dcrow3_col0\" class=\"data row3 col0\" >0.241190</td>\n",
       "            </tr>\n",
       "            <tr>\n",
       "                                <th id=\"T_145db786_ac35_11ea_8ce0_7f84771bd0dclevel1_row4\" class=\"row_heading level1 row4\" >квалификация</th>\n",
       "                        <td id=\"T_145db786_ac35_11ea_8ce0_7f84771bd0dcrow4_col0\" class=\"data row4 col0\" >0.141600</td>\n",
       "            </tr>\n",
       "            <tr>\n",
       "                                <th id=\"T_145db786_ac35_11ea_8ce0_7f84771bd0dclevel1_row5\" class=\"row_heading level1 row5\" >свой</th>\n",
       "                        <td id=\"T_145db786_ac35_11ea_8ce0_7f84771bd0dcrow5_col0\" class=\"data row5 col0\" >0.104620</td>\n",
       "            </tr>\n",
       "            <tr>\n",
       "                                <th id=\"T_145db786_ac35_11ea_8ce0_7f84771bd0dclevel1_row6\" class=\"row_heading level1 row6\" >повышение_квалификация</th>\n",
       "                        <td id=\"T_145db786_ac35_11ea_8ce0_7f84771bd0dcrow6_col0\" class=\"data row6 col0\" >0.078900</td>\n",
       "            </tr>\n",
       "            <tr>\n",
       "                                <th id=\"T_145db786_ac35_11ea_8ce0_7f84771bd0dclevel1_row7\" class=\"row_heading level1 row7\" >повысить_уровень</th>\n",
       "                        <td id=\"T_145db786_ac35_11ea_8ce0_7f84771bd0dcrow7_col0\" class=\"data row7 col0\" >0.069200</td>\n",
       "            </tr>\n",
       "            <tr>\n",
       "                                <th id=\"T_145db786_ac35_11ea_8ce0_7f84771bd0dclevel1_row8\" class=\"row_heading level1 row8\" >повышение_уровень</th>\n",
       "                        <td id=\"T_145db786_ac35_11ea_8ce0_7f84771bd0dcrow8_col0\" class=\"data row8 col0\" >0.066600</td>\n",
       "            </tr>\n",
       "            <tr>\n",
       "                                <th id=\"T_145db786_ac35_11ea_8ce0_7f84771bd0dclevel1_row9\" class=\"row_heading level1 row9\" >повысить_свой</th>\n",
       "                        <td id=\"T_145db786_ac35_11ea_8ce0_7f84771bd0dcrow9_col0\" class=\"data row9 col0\" >0.056950</td>\n",
       "            </tr>\n",
       "    </tbody></table><style  type=\"text/css\" >\n",
       "</style><table id=\"T_145fd8b8_ac35_11ea_8ce0_7f84771bd0dc\" style='display:inline'><thead>    <tr>        <th class=\"blank\" ></th>        <th class=\"blank level0\" ></th>        <th class=\"col_heading level0 col0\" >topic_7</th>    </tr>    <tr>        <th class=\"index_name level0\" >modality</th>        <th class=\"index_name level1\" >token</th>        <th class=\"blank\" ></th>    </tr></thead><tbody>\n",
       "                <tr>\n",
       "                        <th id=\"T_145fd8b8_ac35_11ea_8ce0_7f84771bd0dclevel0_row0\" class=\"row_heading level0 row0\" rowspan=2>@specificity</th>\n",
       "                        <th id=\"T_145fd8b8_ac35_11ea_8ce0_7f84771bd0dclevel1_row0\" class=\"row_heading level1 row0\" >1</th>\n",
       "                        <td id=\"T_145fd8b8_ac35_11ea_8ce0_7f84771bd0dcrow0_col0\" class=\"data row0 col0\" >11.307060</td>\n",
       "            </tr>\n",
       "            <tr>\n",
       "                                <th id=\"T_145fd8b8_ac35_11ea_8ce0_7f84771bd0dclevel1_row1\" class=\"row_heading level1 row1\" >0</th>\n",
       "                        <td id=\"T_145fd8b8_ac35_11ea_8ce0_7f84771bd0dcrow1_col0\" class=\"data row1 col0\" >-0.000000</td>\n",
       "            </tr>\n",
       "    </tbody></table>"
      ]
     },
     "metadata": {},
     "output_type": "display_data"
    },
    {
     "data": {
      "text/html": [
       "<style  type=\"text/css\" >\n",
       "</style><table id=\"T_14681bfe_ac35_11ea_8ce0_7f84771bd0dc\" style='display:inline'><thead>    <tr>        <th class=\"blank\" ></th>        <th class=\"blank level0\" ></th>        <th class=\"col_heading level0 col0\" >topic_8</th>    </tr>    <tr>        <th class=\"index_name level0\" >modality</th>        <th class=\"index_name level1\" >token</th>        <th class=\"blank\" ></th>    </tr></thead><tbody>\n",
       "                <tr>\n",
       "                        <th id=\"T_14681bfe_ac35_11ea_8ce0_7f84771bd0dclevel0_row0\" class=\"row_heading level0 row0\" rowspan=10>@info</th>\n",
       "                        <th id=\"T_14681bfe_ac35_11ea_8ce0_7f84771bd0dclevel1_row0\" class=\"row_heading level1 row0\" >&РЕЗУЛЬТАТ_Да,_четко</th>\n",
       "                        <td id=\"T_14681bfe_ac35_11ea_8ce0_7f84771bd0dcrow0_col0\" class=\"data row0 col0\" >2.530830</td>\n",
       "            </tr>\n",
       "            <tr>\n",
       "                                <th id=\"T_14681bfe_ac35_11ea_8ce0_7f84771bd0dclevel1_row1\" class=\"row_heading level1 row1\" >&ПРЕГРАДЫ_Не_вижу_преград</th>\n",
       "                        <td id=\"T_14681bfe_ac35_11ea_8ce0_7f84771bd0dcrow1_col0\" class=\"data row1 col0\" >2.155920</td>\n",
       "            </tr>\n",
       "            <tr>\n",
       "                                <th id=\"T_14681bfe_ac35_11ea_8ce0_7f84771bd0dclevel1_row2\" class=\"row_heading level1 row2\" >&ТИП_ЦЕЛИ_Получить_официальное_образование_(с_дипломом)</th>\n",
       "                        <td id=\"T_14681bfe_ac35_11ea_8ce0_7f84771bd0dcrow2_col0\" class=\"data row2 col0\" >1.070310</td>\n",
       "            </tr>\n",
       "            <tr>\n",
       "                                <th id=\"T_14681bfe_ac35_11ea_8ce0_7f84771bd0dclevel1_row3\" class=\"row_heading level1 row3\" >&ПЕРВЫЙ_ШАГ_знаю_с_чего_начать</th>\n",
       "                        <td id=\"T_14681bfe_ac35_11ea_8ce0_7f84771bd0dcrow3_col0\" class=\"data row3 col0\" >0.732440</td>\n",
       "            </tr>\n",
       "            <tr>\n",
       "                                <th id=\"T_14681bfe_ac35_11ea_8ce0_7f84771bd0dclevel1_row4\" class=\"row_heading level1 row4\" >&ТИП_ЦЕЛИ_другое</th>\n",
       "                        <td id=\"T_14681bfe_ac35_11ea_8ce0_7f84771bd0dcrow4_col0\" class=\"data row4 col0\" >0.723170</td>\n",
       "            </tr>\n",
       "            <tr>\n",
       "                                <th id=\"T_14681bfe_ac35_11ea_8ce0_7f84771bd0dclevel1_row5\" class=\"row_heading level1 row5\" >&ТИП_ЦЕЛИ_Развить_имеющиеся_знания_и_навыки</th>\n",
       "                        <td id=\"T_14681bfe_ac35_11ea_8ce0_7f84771bd0dcrow5_col0\" class=\"data row5 col0\" >0.552290</td>\n",
       "            </tr>\n",
       "            <tr>\n",
       "                                <th id=\"T_14681bfe_ac35_11ea_8ce0_7f84771bd0dclevel1_row6\" class=\"row_heading level1 row6\" >&ТИП_ЦЕЛИ_Получить_знания_в_новой_области</th>\n",
       "                        <td id=\"T_14681bfe_ac35_11ea_8ce0_7f84771bd0dcrow6_col0\" class=\"data row6 col0\" >0.545720</td>\n",
       "            </tr>\n",
       "            <tr>\n",
       "                                <th id=\"T_14681bfe_ac35_11ea_8ce0_7f84771bd0dclevel1_row7\" class=\"row_heading level1 row7\" >&ТИП_ЦЕЛИ_Приобрести_новые_навыки</th>\n",
       "                        <td id=\"T_14681bfe_ac35_11ea_8ce0_7f84771bd0dcrow7_col0\" class=\"data row7 col0\" >0.542820</td>\n",
       "            </tr>\n",
       "            <tr>\n",
       "                                <th id=\"T_14681bfe_ac35_11ea_8ce0_7f84771bd0dclevel1_row8\" class=\"row_heading level1 row8\" >&ВРЕМЕННЫЕ_ГРАНИЦЫ_есть_границы</th>\n",
       "                        <td id=\"T_14681bfe_ac35_11ea_8ce0_7f84771bd0dcrow8_col0\" class=\"data row8 col0\" >0.473760</td>\n",
       "            </tr>\n",
       "            <tr>\n",
       "                                <th id=\"T_14681bfe_ac35_11ea_8ce0_7f84771bd0dclevel1_row9\" class=\"row_heading level1 row9\" >&ОБЛАСТЬ_ЦЕЛИ_Спорт,_ЗОЖ,_внешность_и_самочувствие</th>\n",
       "                        <td id=\"T_14681bfe_ac35_11ea_8ce0_7f84771bd0dcrow9_col0\" class=\"data row9 col0\" >-0.000000</td>\n",
       "            </tr>\n",
       "    </tbody></table><style  type=\"text/css\" >\n",
       "</style><table id=\"T_1469b5a4_ac35_11ea_8ce0_7f84771bd0dc\" style='display:inline'><thead>    <tr>        <th class=\"blank\" ></th>        <th class=\"blank level0\" ></th>        <th class=\"col_heading level0 col0\" >topic_8</th>    </tr>    <tr>        <th class=\"index_name level0\" >modality</th>        <th class=\"index_name level1\" >token</th>        <th class=\"blank\" ></th>    </tr></thead><tbody>\n",
       "                <tr>\n",
       "                        <th id=\"T_1469b5a4_ac35_11ea_8ce0_7f84771bd0dclevel0_row0\" class=\"row_heading level0 row0\" rowspan=10>@ngram</th>\n",
       "                        <th id=\"T_1469b5a4_ac35_11ea_8ce0_7f84771bd0dclevel1_row0\" class=\"row_heading level1 row0\" >получить</th>\n",
       "                        <td id=\"T_1469b5a4_ac35_11ea_8ce0_7f84771bd0dcrow0_col0\" class=\"data row0 col0\" >0.634840</td>\n",
       "            </tr>\n",
       "            <tr>\n",
       "                                <th id=\"T_1469b5a4_ac35_11ea_8ce0_7f84771bd0dclevel1_row1\" class=\"row_heading level1 row1\" >образование</th>\n",
       "                        <td id=\"T_1469b5a4_ac35_11ea_8ce0_7f84771bd0dcrow1_col0\" class=\"data row1 col0\" >0.510960</td>\n",
       "            </tr>\n",
       "            <tr>\n",
       "                                <th id=\"T_1469b5a4_ac35_11ea_8ce0_7f84771bd0dclevel1_row2\" class=\"row_heading level1 row2\" >высокий</th>\n",
       "                        <td id=\"T_1469b5a4_ac35_11ea_8ce0_7f84771bd0dcrow2_col0\" class=\"data row2 col0\" >0.242160</td>\n",
       "            </tr>\n",
       "            <tr>\n",
       "                                <th id=\"T_1469b5a4_ac35_11ea_8ce0_7f84771bd0dclevel1_row3\" class=\"row_heading level1 row3\" >диплом</th>\n",
       "                        <td id=\"T_1469b5a4_ac35_11ea_8ce0_7f84771bd0dcrow3_col0\" class=\"data row3 col0\" >0.163590</td>\n",
       "            </tr>\n",
       "            <tr>\n",
       "                                <th id=\"T_1469b5a4_ac35_11ea_8ce0_7f84771bd0dclevel1_row4\" class=\"row_heading level1 row4\" >высокий_образование</th>\n",
       "                        <td id=\"T_1469b5a4_ac35_11ea_8ce0_7f84771bd0dcrow4_col0\" class=\"data row4 col0\" >0.143870</td>\n",
       "            </tr>\n",
       "            <tr>\n",
       "                                <th id=\"T_1469b5a4_ac35_11ea_8ce0_7f84771bd0dclevel1_row5\" class=\"row_heading level1 row5\" >получить_высокий</th>\n",
       "                        <td id=\"T_1469b5a4_ac35_11ea_8ce0_7f84771bd0dcrow5_col0\" class=\"data row5 col0\" >0.120880</td>\n",
       "            </tr>\n",
       "            <tr>\n",
       "                                <th id=\"T_1469b5a4_ac35_11ea_8ce0_7f84771bd0dclevel1_row6\" class=\"row_heading level1 row6\" >получить_диплом</th>\n",
       "                        <td id=\"T_1469b5a4_ac35_11ea_8ce0_7f84771bd0dcrow6_col0\" class=\"data row6 col0\" >0.107280</td>\n",
       "            </tr>\n",
       "            <tr>\n",
       "                                <th id=\"T_1469b5a4_ac35_11ea_8ce0_7f84771bd0dclevel1_row7\" class=\"row_heading level1 row7\" >степень</th>\n",
       "                        <td id=\"T_1469b5a4_ac35_11ea_8ce0_7f84771bd0dcrow7_col0\" class=\"data row7 col0\" >0.080630</td>\n",
       "            </tr>\n",
       "            <tr>\n",
       "                                <th id=\"T_1469b5a4_ac35_11ea_8ce0_7f84771bd0dclevel1_row8\" class=\"row_heading level1 row8\" >управленческий</th>\n",
       "                        <td id=\"T_1469b5a4_ac35_11ea_8ce0_7f84771bd0dcrow8_col0\" class=\"data row8 col0\" >0.056360</td>\n",
       "            </tr>\n",
       "            <tr>\n",
       "                                <th id=\"T_1469b5a4_ac35_11ea_8ce0_7f84771bd0dclevel1_row9\" class=\"row_heading level1 row9\" >получить_образование</th>\n",
       "                        <td id=\"T_1469b5a4_ac35_11ea_8ce0_7f84771bd0dcrow9_col0\" class=\"data row9 col0\" >0.054880</td>\n",
       "            </tr>\n",
       "    </tbody></table><style  type=\"text/css\" >\n",
       "</style><table id=\"T_146abf08_ac35_11ea_8ce0_7f84771bd0dc\" style='display:inline'><thead>    <tr>        <th class=\"blank\" ></th>        <th class=\"blank level0\" ></th>        <th class=\"col_heading level0 col0\" >topic_8</th>    </tr>    <tr>        <th class=\"index_name level0\" >modality</th>        <th class=\"index_name level1\" >token</th>        <th class=\"blank\" ></th>    </tr></thead><tbody>\n",
       "                <tr>\n",
       "                        <th id=\"T_146abf08_ac35_11ea_8ce0_7f84771bd0dclevel0_row0\" class=\"row_heading level0 row0\" rowspan=2>@specificity</th>\n",
       "                        <th id=\"T_146abf08_ac35_11ea_8ce0_7f84771bd0dclevel1_row0\" class=\"row_heading level1 row0\" >1</th>\n",
       "                        <td id=\"T_146abf08_ac35_11ea_8ce0_7f84771bd0dcrow0_col0\" class=\"data row0 col0\" >11.355660</td>\n",
       "            </tr>\n",
       "            <tr>\n",
       "                                <th id=\"T_146abf08_ac35_11ea_8ce0_7f84771bd0dclevel1_row1\" class=\"row_heading level1 row1\" >0</th>\n",
       "                        <td id=\"T_146abf08_ac35_11ea_8ce0_7f84771bd0dcrow1_col0\" class=\"data row1 col0\" >-0.000000</td>\n",
       "            </tr>\n",
       "    </tbody></table>"
      ]
     },
     "metadata": {},
     "output_type": "display_data"
    },
    {
     "data": {
      "text/html": [
       "<style  type=\"text/css\" >\n",
       "</style><table id=\"T_1470fe22_ac35_11ea_8ce0_7f84771bd0dc\" style='display:inline'><thead>    <tr>        <th class=\"blank\" ></th>        <th class=\"blank level0\" ></th>        <th class=\"col_heading level0 col0\" >topic_9</th>    </tr>    <tr>        <th class=\"index_name level0\" >modality</th>        <th class=\"index_name level1\" >token</th>        <th class=\"blank\" ></th>    </tr></thead><tbody>\n",
       "                <tr>\n",
       "                        <th id=\"T_1470fe22_ac35_11ea_8ce0_7f84771bd0dclevel0_row0\" class=\"row_heading level0 row0\" rowspan=10>@info</th>\n",
       "                        <th id=\"T_1470fe22_ac35_11ea_8ce0_7f84771bd0dclevel1_row0\" class=\"row_heading level1 row0\" >&РЕЗУЛЬТАТ_Да,_четко</th>\n",
       "                        <td id=\"T_1470fe22_ac35_11ea_8ce0_7f84771bd0dcrow0_col0\" class=\"data row0 col0\" >3.168000</td>\n",
       "            </tr>\n",
       "            <tr>\n",
       "                                <th id=\"T_1470fe22_ac35_11ea_8ce0_7f84771bd0dclevel1_row1\" class=\"row_heading level1 row1\" >&ТИП_ЦЕЛИ_другое</th>\n",
       "                        <td id=\"T_1470fe22_ac35_11ea_8ce0_7f84771bd0dcrow1_col0\" class=\"data row1 col0\" >1.981110</td>\n",
       "            </tr>\n",
       "            <tr>\n",
       "                                <th id=\"T_1470fe22_ac35_11ea_8ce0_7f84771bd0dclevel1_row2\" class=\"row_heading level1 row2\" >&ПРЕГРАДЫ_есть_преграды</th>\n",
       "                        <td id=\"T_1470fe22_ac35_11ea_8ce0_7f84771bd0dcrow2_col0\" class=\"data row2 col0\" >1.569620</td>\n",
       "            </tr>\n",
       "            <tr>\n",
       "                                <th id=\"T_1470fe22_ac35_11ea_8ce0_7f84771bd0dclevel1_row3\" class=\"row_heading level1 row3\" >&ВРЕМЕННЫЕ_ГРАНИЦЫ_есть_границы</th>\n",
       "                        <td id=\"T_1470fe22_ac35_11ea_8ce0_7f84771bd0dcrow3_col0\" class=\"data row3 col0\" >1.325050</td>\n",
       "            </tr>\n",
       "            <tr>\n",
       "                                <th id=\"T_1470fe22_ac35_11ea_8ce0_7f84771bd0dclevel1_row4\" class=\"row_heading level1 row4\" >&ОСНОВНОЙ_ВИД_ДЕЙТЕЛЬНОСТИ_Работаю_в_организации,_предприятии</th>\n",
       "                        <td id=\"T_1470fe22_ac35_11ea_8ce0_7f84771bd0dcrow4_col0\" class=\"data row4 col0\" >0.879240</td>\n",
       "            </tr>\n",
       "            <tr>\n",
       "                                <th id=\"T_1470fe22_ac35_11ea_8ce0_7f84771bd0dclevel1_row5\" class=\"row_heading level1 row5\" >&ПЕРВЫЙ_ШАГ_знаю_с_чего_начать</th>\n",
       "                        <td id=\"T_1470fe22_ac35_11ea_8ce0_7f84771bd0dcrow5_col0\" class=\"data row5 col0\" >0.757380</td>\n",
       "            </tr>\n",
       "            <tr>\n",
       "                                <th id=\"T_1470fe22_ac35_11ea_8ce0_7f84771bd0dclevel1_row6\" class=\"row_heading level1 row6\" >&ПОДОБЛАСТЬ_ЦЕЛИ_Новое_место_работы</th>\n",
       "                        <td id=\"T_1470fe22_ac35_11ea_8ce0_7f84771bd0dcrow6_col0\" class=\"data row6 col0\" >-0.000000</td>\n",
       "            </tr>\n",
       "            <tr>\n",
       "                                <th id=\"T_1470fe22_ac35_11ea_8ce0_7f84771bd0dclevel1_row7\" class=\"row_heading level1 row7\" >&СФЕРА_ЗАНЯТОСТИ_Нефтегазовая_промышленность</th>\n",
       "                        <td id=\"T_1470fe22_ac35_11ea_8ce0_7f84771bd0dcrow7_col0\" class=\"data row7 col0\" >-0.000000</td>\n",
       "            </tr>\n",
       "            <tr>\n",
       "                                <th id=\"T_1470fe22_ac35_11ea_8ce0_7f84771bd0dclevel1_row8\" class=\"row_heading level1 row8\" >&ТИП_ЦЕЛИ_Включиться_в_новый_проект/деятельность</th>\n",
       "                        <td id=\"T_1470fe22_ac35_11ea_8ce0_7f84771bd0dcrow8_col0\" class=\"data row8 col0\" >-0.000000</td>\n",
       "            </tr>\n",
       "            <tr>\n",
       "                                <th id=\"T_1470fe22_ac35_11ea_8ce0_7f84771bd0dclevel1_row9\" class=\"row_heading level1 row9\" >&ТИП_ЦЕЛИ_Получить_знания_в_новой_области</th>\n",
       "                        <td id=\"T_1470fe22_ac35_11ea_8ce0_7f84771bd0dcrow9_col0\" class=\"data row9 col0\" >-0.000000</td>\n",
       "            </tr>\n",
       "    </tbody></table><style  type=\"text/css\" >\n",
       "</style><table id=\"T_1471fafc_ac35_11ea_8ce0_7f84771bd0dc\" style='display:inline'><thead>    <tr>        <th class=\"blank\" ></th>        <th class=\"blank level0\" ></th>        <th class=\"col_heading level0 col0\" >topic_9</th>    </tr>    <tr>        <th class=\"index_name level0\" >modality</th>        <th class=\"index_name level1\" >token</th>        <th class=\"blank\" ></th>    </tr></thead><tbody>\n",
       "                <tr>\n",
       "                        <th id=\"T_1471fafc_ac35_11ea_8ce0_7f84771bd0dclevel0_row0\" class=\"row_heading level0 row0\" rowspan=10>@ngram</th>\n",
       "                        <th id=\"T_1471fafc_ac35_11ea_8ce0_7f84771bd0dclevel1_row0\" class=\"row_heading level1 row0\" >диссертация</th>\n",
       "                        <td id=\"T_1471fafc_ac35_11ea_8ce0_7f84771bd0dcrow0_col0\" class=\"data row0 col0\" >0.154980</td>\n",
       "            </tr>\n",
       "            <tr>\n",
       "                                <th id=\"T_1471fafc_ac35_11ea_8ce0_7f84771bd0dclevel1_row1\" class=\"row_heading level1 row1\" >карьерный</th>\n",
       "                        <td id=\"T_1471fafc_ac35_11ea_8ce0_7f84771bd0dcrow1_col0\" class=\"data row1 col0\" >0.136300</td>\n",
       "            </tr>\n",
       "            <tr>\n",
       "                                <th id=\"T_1471fafc_ac35_11ea_8ce0_7f84771bd0dclevel1_row2\" class=\"row_heading level1 row2\" >рост</th>\n",
       "                        <td id=\"T_1471fafc_ac35_11ea_8ce0_7f84771bd0dcrow2_col0\" class=\"data row2 col0\" >0.112650</td>\n",
       "            </tr>\n",
       "            <tr>\n",
       "                                <th id=\"T_1471fafc_ac35_11ea_8ce0_7f84771bd0dclevel1_row3\" class=\"row_heading level1 row3\" >окончить</th>\n",
       "                        <td id=\"T_1471fafc_ac35_11ea_8ce0_7f84771bd0dcrow3_col0\" class=\"data row3 col0\" >0.106560</td>\n",
       "            </tr>\n",
       "            <tr>\n",
       "                                <th id=\"T_1471fafc_ac35_11ea_8ce0_7f84771bd0dclevel1_row4\" class=\"row_heading level1 row4\" >защитить</th>\n",
       "                        <td id=\"T_1471fafc_ac35_11ea_8ce0_7f84771bd0dcrow4_col0\" class=\"data row4 col0\" >0.099580</td>\n",
       "            </tr>\n",
       "            <tr>\n",
       "                                <th id=\"T_1471fafc_ac35_11ea_8ce0_7f84771bd0dclevel1_row5\" class=\"row_heading level1 row5\" >вуз</th>\n",
       "                        <td id=\"T_1471fafc_ac35_11ea_8ce0_7f84771bd0dcrow5_col0\" class=\"data row5 col0\" >0.090540</td>\n",
       "            </tr>\n",
       "            <tr>\n",
       "                                <th id=\"T_1471fafc_ac35_11ea_8ce0_7f84771bd0dclevel1_row6\" class=\"row_heading level1 row6\" >карьерный_рост</th>\n",
       "                        <td id=\"T_1471fafc_ac35_11ea_8ce0_7f84771bd0dcrow6_col0\" class=\"data row6 col0\" >0.089800</td>\n",
       "            </tr>\n",
       "            <tr>\n",
       "                                <th id=\"T_1471fafc_ac35_11ea_8ce0_7f84771bd0dclevel1_row7\" class=\"row_heading level1 row7\" >докторский</th>\n",
       "                        <td id=\"T_1471fafc_ac35_11ea_8ce0_7f84771bd0dcrow7_col0\" class=\"data row7 col0\" >0.086370</td>\n",
       "            </tr>\n",
       "            <tr>\n",
       "                                <th id=\"T_1471fafc_ac35_11ea_8ce0_7f84771bd0dclevel1_row8\" class=\"row_heading level1 row8\" >дать</th>\n",
       "                        <td id=\"T_1471fafc_ac35_11ea_8ce0_7f84771bd0dcrow8_col0\" class=\"data row8 col0\" >0.077670</td>\n",
       "            </tr>\n",
       "            <tr>\n",
       "                                <th id=\"T_1471fafc_ac35_11ea_8ce0_7f84771bd0dclevel1_row9\" class=\"row_heading level1 row9\" >докторский_диссертация</th>\n",
       "                        <td id=\"T_1471fafc_ac35_11ea_8ce0_7f84771bd0dcrow9_col0\" class=\"data row9 col0\" >0.077540</td>\n",
       "            </tr>\n",
       "    </tbody></table><style  type=\"text/css\" >\n",
       "</style><table id=\"T_147302b2_ac35_11ea_8ce0_7f84771bd0dc\" style='display:inline'><thead>    <tr>        <th class=\"blank\" ></th>        <th class=\"blank level0\" ></th>        <th class=\"col_heading level0 col0\" >topic_9</th>    </tr>    <tr>        <th class=\"index_name level0\" >modality</th>        <th class=\"index_name level1\" >token</th>        <th class=\"blank\" ></th>    </tr></thead><tbody>\n",
       "                <tr>\n",
       "                        <th id=\"T_147302b2_ac35_11ea_8ce0_7f84771bd0dclevel0_row0\" class=\"row_heading level0 row0\" rowspan=2>@specificity</th>\n",
       "                        <th id=\"T_147302b2_ac35_11ea_8ce0_7f84771bd0dclevel1_row0\" class=\"row_heading level1 row0\" >1</th>\n",
       "                        <td id=\"T_147302b2_ac35_11ea_8ce0_7f84771bd0dcrow0_col0\" class=\"data row0 col0\" >11.375610</td>\n",
       "            </tr>\n",
       "            <tr>\n",
       "                                <th id=\"T_147302b2_ac35_11ea_8ce0_7f84771bd0dclevel1_row1\" class=\"row_heading level1 row1\" >0</th>\n",
       "                        <td id=\"T_147302b2_ac35_11ea_8ce0_7f84771bd0dcrow1_col0\" class=\"data row1 col0\" >-0.000000</td>\n",
       "            </tr>\n",
       "    </tbody></table>"
      ]
     },
     "metadata": {},
     "output_type": "display_data"
    },
    {
     "data": {
      "text/html": [
       "<style  type=\"text/css\" >\n",
       "</style><table id=\"T_1478bf18_ac35_11ea_8ce0_7f84771bd0dc\" style='display:inline'><thead>    <tr>        <th class=\"blank\" ></th>        <th class=\"blank level0\" ></th>        <th class=\"col_heading level0 col0\" >topic_10</th>    </tr>    <tr>        <th class=\"index_name level0\" >modality</th>        <th class=\"index_name level1\" >token</th>        <th class=\"blank\" ></th>    </tr></thead><tbody>\n",
       "                <tr>\n",
       "                        <th id=\"T_1478bf18_ac35_11ea_8ce0_7f84771bd0dclevel0_row0\" class=\"row_heading level0 row0\" rowspan=10>@info</th>\n",
       "                        <th id=\"T_1478bf18_ac35_11ea_8ce0_7f84771bd0dclevel1_row0\" class=\"row_heading level1 row0\" >&РЕЗУЛЬТАТ_Да,_четко</th>\n",
       "                        <td id=\"T_1478bf18_ac35_11ea_8ce0_7f84771bd0dcrow0_col0\" class=\"data row0 col0\" >2.745220</td>\n",
       "            </tr>\n",
       "            <tr>\n",
       "                                <th id=\"T_1478bf18_ac35_11ea_8ce0_7f84771bd0dclevel1_row1\" class=\"row_heading level1 row1\" >&ПРЕГРАДЫ_Не_вижу_преград</th>\n",
       "                        <td id=\"T_1478bf18_ac35_11ea_8ce0_7f84771bd0dcrow1_col0\" class=\"data row1 col0\" >1.695270</td>\n",
       "            </tr>\n",
       "            <tr>\n",
       "                                <th id=\"T_1478bf18_ac35_11ea_8ce0_7f84771bd0dclevel1_row2\" class=\"row_heading level1 row2\" >&ПЕРВЫЙ_ШАГ_знаю_с_чего_начать</th>\n",
       "                        <td id=\"T_1478bf18_ac35_11ea_8ce0_7f84771bd0dcrow2_col0\" class=\"data row2 col0\" >0.977100</td>\n",
       "            </tr>\n",
       "            <tr>\n",
       "                                <th id=\"T_1478bf18_ac35_11ea_8ce0_7f84771bd0dclevel1_row3\" class=\"row_heading level1 row3\" >&ТИП_ЦЕЛИ_другое</th>\n",
       "                        <td id=\"T_1478bf18_ac35_11ea_8ce0_7f84771bd0dcrow3_col0\" class=\"data row3 col0\" >0.904100</td>\n",
       "            </tr>\n",
       "            <tr>\n",
       "                                <th id=\"T_1478bf18_ac35_11ea_8ce0_7f84771bd0dclevel1_row4\" class=\"row_heading level1 row4\" >&ПРЕГРАДЫ_есть_преграды</th>\n",
       "                        <td id=\"T_1478bf18_ac35_11ea_8ce0_7f84771bd0dcrow4_col0\" class=\"data row4 col0\" >0.665000</td>\n",
       "            </tr>\n",
       "            <tr>\n",
       "                                <th id=\"T_1478bf18_ac35_11ea_8ce0_7f84771bd0dclevel1_row5\" class=\"row_heading level1 row5\" >&ТИП_ЦЕЛИ_Развить_имеющиеся_знания_и_навыки</th>\n",
       "                        <td id=\"T_1478bf18_ac35_11ea_8ce0_7f84771bd0dcrow5_col0\" class=\"data row5 col0\" >0.626210</td>\n",
       "            </tr>\n",
       "            <tr>\n",
       "                                <th id=\"T_1478bf18_ac35_11ea_8ce0_7f84771bd0dclevel1_row6\" class=\"row_heading level1 row6\" >&ОСНОВНОЙ_ВИД_ДЕЙТЕЛЬНОСТИ_Учусь_в_вузе_(очная_форма_обучения)</th>\n",
       "                        <td id=\"T_1478bf18_ac35_11ea_8ce0_7f84771bd0dcrow6_col0\" class=\"data row6 col0\" >0.572490</td>\n",
       "            </tr>\n",
       "            <tr>\n",
       "                                <th id=\"T_1478bf18_ac35_11ea_8ce0_7f84771bd0dclevel1_row7\" class=\"row_heading level1 row7\" >&ТИП_ЦЕЛИ_Получить_знания_в_новой_области</th>\n",
       "                        <td id=\"T_1478bf18_ac35_11ea_8ce0_7f84771bd0dcrow7_col0\" class=\"data row7 col0\" >0.424640</td>\n",
       "            </tr>\n",
       "            <tr>\n",
       "                                <th id=\"T_1478bf18_ac35_11ea_8ce0_7f84771bd0dclevel1_row8\" class=\"row_heading level1 row8\" >&ВРЕМЕННЫЕ_ГРАНИЦЫ_есть_границы</th>\n",
       "                        <td id=\"T_1478bf18_ac35_11ea_8ce0_7f84771bd0dcrow8_col0\" class=\"data row8 col0\" >0.337360</td>\n",
       "            </tr>\n",
       "            <tr>\n",
       "                                <th id=\"T_1478bf18_ac35_11ea_8ce0_7f84771bd0dclevel1_row9\" class=\"row_heading level1 row9\" >&ТИП_ЦЕЛИ_Получить_официальное_образование_(с_дипломом)</th>\n",
       "                        <td id=\"T_1478bf18_ac35_11ea_8ce0_7f84771bd0dcrow9_col0\" class=\"data row9 col0\" >0.263510</td>\n",
       "            </tr>\n",
       "    </tbody></table><style  type=\"text/css\" >\n",
       "</style><table id=\"T_147a25c4_ac35_11ea_8ce0_7f84771bd0dc\" style='display:inline'><thead>    <tr>        <th class=\"blank\" ></th>        <th class=\"blank level0\" ></th>        <th class=\"col_heading level0 col0\" >topic_10</th>    </tr>    <tr>        <th class=\"index_name level0\" >modality</th>        <th class=\"index_name level1\" >token</th>        <th class=\"blank\" ></th>    </tr></thead><tbody>\n",
       "                <tr>\n",
       "                        <th id=\"T_147a25c4_ac35_11ea_8ce0_7f84771bd0dclevel0_row0\" class=\"row_heading level0 row0\" rowspan=10>@ngram</th>\n",
       "                        <th id=\"T_147a25c4_ac35_11ea_8ce0_7f84771bd0dclevel1_row0\" class=\"row_heading level1 row0\" >закончить</th>\n",
       "                        <td id=\"T_147a25c4_ac35_11ea_8ce0_7f84771bd0dcrow0_col0\" class=\"data row0 col0\" >0.293790</td>\n",
       "            </tr>\n",
       "            <tr>\n",
       "                                <th id=\"T_147a25c4_ac35_11ea_8ce0_7f84771bd0dclevel1_row1\" class=\"row_heading level1 row1\" >работа</th>\n",
       "                        <td id=\"T_147a25c4_ac35_11ea_8ce0_7f84771bd0dcrow1_col0\" class=\"data row1 col0\" >0.202110</td>\n",
       "            </tr>\n",
       "            <tr>\n",
       "                                <th id=\"T_147a25c4_ac35_11ea_8ce0_7f84771bd0dclevel1_row2\" class=\"row_heading level1 row2\" >обучение</th>\n",
       "                        <td id=\"T_147a25c4_ac35_11ea_8ce0_7f84771bd0dcrow2_col0\" class=\"data row2 col0\" >0.188320</td>\n",
       "            </tr>\n",
       "            <tr>\n",
       "                                <th id=\"T_147a25c4_ac35_11ea_8ce0_7f84771bd0dclevel1_row3\" class=\"row_heading level1 row3\" >университет</th>\n",
       "                        <td id=\"T_147a25c4_ac35_11ea_8ce0_7f84771bd0dcrow3_col0\" class=\"data row3 col0\" >0.150790</td>\n",
       "            </tr>\n",
       "            <tr>\n",
       "                                <th id=\"T_147a25c4_ac35_11ea_8ce0_7f84771bd0dclevel1_row4\" class=\"row_heading level1 row4\" >год</th>\n",
       "                        <td id=\"T_147a25c4_ac35_11ea_8ce0_7f84771bd0dcrow4_col0\" class=\"data row4 col0\" >0.099430</td>\n",
       "            </tr>\n",
       "            <tr>\n",
       "                                <th id=\"T_147a25c4_ac35_11ea_8ce0_7f84771bd0dclevel1_row5\" class=\"row_heading level1 row5\" >закончить_университет</th>\n",
       "                        <td id=\"T_147a25c4_ac35_11ea_8ce0_7f84771bd0dcrow5_col0\" class=\"data row5 col0\" >0.081330</td>\n",
       "            </tr>\n",
       "            <tr>\n",
       "                                <th id=\"T_147a25c4_ac35_11ea_8ce0_7f84771bd0dclevel1_row6\" class=\"row_heading level1 row6\" >книга</th>\n",
       "                        <td id=\"T_147a25c4_ac35_11ea_8ce0_7f84771bd0dcrow6_col0\" class=\"data row6 col0\" >0.056400</td>\n",
       "            </tr>\n",
       "            <tr>\n",
       "                                <th id=\"T_147a25c4_ac35_11ea_8ce0_7f84771bd0dclevel1_row7\" class=\"row_heading level1 row7\" >научный</th>\n",
       "                        <td id=\"T_147a25c4_ac35_11ea_8ce0_7f84771bd0dcrow7_col0\" class=\"data row7 col0\" >0.054810</td>\n",
       "            </tr>\n",
       "            <tr>\n",
       "                                <th id=\"T_147a25c4_ac35_11ea_8ce0_7f84771bd0dclevel1_row8\" class=\"row_heading level1 row8\" >пройти</th>\n",
       "                        <td id=\"T_147a25c4_ac35_11ea_8ce0_7f84771bd0dcrow8_col0\" class=\"data row8 col0\" >0.052890</td>\n",
       "            </tr>\n",
       "            <tr>\n",
       "                                <th id=\"T_147a25c4_ac35_11ea_8ce0_7f84771bd0dclevel1_row9\" class=\"row_heading level1 row9\" >технология</th>\n",
       "                        <td id=\"T_147a25c4_ac35_11ea_8ce0_7f84771bd0dcrow9_col0\" class=\"data row9 col0\" >0.049540</td>\n",
       "            </tr>\n",
       "    </tbody></table><style  type=\"text/css\" >\n",
       "</style><table id=\"T_147b7a46_ac35_11ea_8ce0_7f84771bd0dc\" style='display:inline'><thead>    <tr>        <th class=\"blank\" ></th>        <th class=\"blank level0\" ></th>        <th class=\"col_heading level0 col0\" >topic_10</th>    </tr>    <tr>        <th class=\"index_name level0\" >modality</th>        <th class=\"index_name level1\" >token</th>        <th class=\"blank\" ></th>    </tr></thead><tbody>\n",
       "                <tr>\n",
       "                        <th id=\"T_147b7a46_ac35_11ea_8ce0_7f84771bd0dclevel0_row0\" class=\"row_heading level0 row0\" rowspan=2>@specificity</th>\n",
       "                        <th id=\"T_147b7a46_ac35_11ea_8ce0_7f84771bd0dclevel1_row0\" class=\"row_heading level1 row0\" >1</th>\n",
       "                        <td id=\"T_147b7a46_ac35_11ea_8ce0_7f84771bd0dcrow0_col0\" class=\"data row0 col0\" >11.306300</td>\n",
       "            </tr>\n",
       "            <tr>\n",
       "                                <th id=\"T_147b7a46_ac35_11ea_8ce0_7f84771bd0dclevel1_row1\" class=\"row_heading level1 row1\" >0</th>\n",
       "                        <td id=\"T_147b7a46_ac35_11ea_8ce0_7f84771bd0dcrow1_col0\" class=\"data row1 col0\" >-0.000000</td>\n",
       "            </tr>\n",
       "    </tbody></table>"
      ]
     },
     "metadata": {},
     "output_type": "display_data"
    }
   ],
   "source": [
    "TopTokensViewer(model=topic_model).view_from_jupyter()"
   ]
  },
  {
   "cell_type": "code",
   "execution_count": 66,
   "metadata": {},
   "outputs": [],
   "source": [
    "dataset = Dataset('preprocessed_data_for_TopicNet.csv')"
   ]
  },
  {
   "cell_type": "code",
   "execution_count": 67,
   "metadata": {
    "scrolled": false
   },
   "outputs": [
    {
     "data": {
      "text/html": [
       "<style>\n",
       "    div.output_html {\n",
       "        white-space: nowrap;\n",
       "    }\n",
       "    div .output_subarea > pre {\n",
       "        white-space: pre;\n",
       "        word-wrap: normal;\n",
       "    }\n",
       "    div .output_stdout > pre {\n",
       "        white-space: pre-wrap !important;\n",
       "        word-wrap:  break-word !important;\n",
       "    }\n",
       "    </style>"
      ],
      "text/plain": [
       "<IPython.core.display.HTML object>"
      ]
     },
     "metadata": {},
     "output_type": "display_data"
    },
    {
     "data": {
      "text/html": [
       "<h1><b>Topic name:</b> topic_0</h1><h3>1614</h3>Сохранение гибкости и свежести разума путем его снабжения разнообразными инструментами.<br /><h3>2861</h3>приобретение знаний, умений и навыков в оп­ределенной области науки.<br /><h3>2237</h3>Наращивание компетенций для решения задач.<br /><h3>3402</h3>углубление знаний и приобретение новых навыков в упраленческой сфере.<br /><h3>485</h3>приобретение знаний, умений и навыков в оп­ределенной области.<br /><h3>5316</h3>Решение конкретных задач (те задачи, над которыми я работаю прямо сейчас).<br /><h3>4775</h3>Приобретение новых знаний, умений и навыков в оп­ределенной области науки.<br /><h3>5765</h3>Приобретение новой специализации в основной проф.деятельности.<br /><h3>3976</h3>Приобретение навыков, необходимых для финансовой и эмоциональной независимости.<br /><h3>2762</h3>Постоянно повышать уровень моих знаний и компетенций.<br /><h1><b>Topic name:</b> topic_1</h1><h3>847</h3>Получить новые знания. Запомнить новые ФИО, даты, понятия, определения.<br /><h3>4018</h3>Получить новые знания и навыки в области преподаваемых дисциплин.<br /><h3>1779</h3>Получить новые знания по интересующей теме.<br /><h3>1435</h3>Получить новые знания в интересующих меня областях.<br /><h3>232</h3>Понимание процессов изменений во внешней среде..<br /><h3>3809</h3>получить новые знания, которые пригодятся мне в дальнейшем.<br /><h3>1328</h3>Знание - сила. Цель стать сильнее..<br /><h3>4755</h3>Получить удовлетворение от процесса получения новых знагий.<br /><h3>678</h3>Понимание процессов изменений во внешней среде..<br /><h3>206</h3>Понимание процессов изменений во внешней среде..<br /><h1><b>Topic name:</b> topic_2</h1><h3>5896</h3>обновить свои  soft-skills и hard-skills, упущенные во время  декретного отпуска.<br /><h3>3128</h3>научиться строить четкую картину мира пронизывая своими мыслями все окружающее пространство.<br /><h3>2073</h3>Первая - абстрактная достаточно. Научиться понимать то, что мне на самом деле нужно делать, чтобы<br /> забустить себя, чтобы не тратить кучу времени впустую.<br /><h3>4065</h3>Расширить свой кругозор и свои возможности.<br /><h3>5012</h3>Духовное развитие и познание себя для улучшения качества жизни моей и окружающих меня близких и<br /> друзей.<br /><h3>234</h3>Развитие мышления и расширение кругозора.<br /><h3>108</h3>Идти в ногу с развитием общества.<br /><h3>2689</h3>Достижение своих поставленных целей.<br /><h3>3363</h3>Достижение своих поставленных целей.<br /><h3>3220</h3>познать то, что я положу в основу моего карьерного роста.<br /><h1><b>Topic name:</b> topic_3</h1><h3>1313</h3>Совершенствоваться в том, что мне нравится и у меня это хорошо получается. Ведь если это<br /> мне нравится и само хорошо получается, то если в этом еще и развиваться, то это<br /> просто бомба!.<br /><h3>3494</h3>Узнать больше об окружающем меня мире, о том, как он устроен и на каких законах<br /> работает..<br /><h3>3344</h3>Делиться и перенимать опыт в команде с активными, ответственными, думающими людьми объединенных на запланированный результат.<br /> .<br /><h3>4545</h3>Чем больше знаю я, тем больше знают мои ученики.<br /><h3>2331</h3>Каждый день общаться с умными/интересными  людьми.<br /><h3>5151</h3>Найти работу по специальности экономист после шестилетнего перерыва..<br /><h3>5305</h3>Побывать на побережье в Калифорнии, посмотреть закат над Тихим океаном.<br /><h3>2018</h3>Мир современных информационных технологий постоянно совершенствуется, хочется быть в курсе всего нового..<br /><h3>5215</h3>Максимальная адаптация к меняющимся реалиям рынка труда.<br /><h3>4730</h3>Уметь отбирать из общей массы наиболее полезное - будущее за эффективными технологиями и методами работы<br /> с ними..<br /><h1><b>Topic name:</b> topic_4</h1><h3>2477</h3>совершенствовать навык публичных выступлений и преодолеть страх перед аудиторией.<br /><h3>3243</h3>Развитие профессиональных навыков и компетенций (Business development).<br /><h3>1049</h3>развитие уже имеющихся навыков в сферах профессиональной компетенции.<br /><h3>2329</h3>Развитие профессиональный навыков в сфере туризма.<br /><h3>24</h3>Развитие профессиональных качеств и навыков.<br /><h3>4137</h3>Разработать лекарственный препарат для терапии гепатита B.<br /><h3>474</h3>Постоянное совершенствование в профессиональной сфере.<br /><h3>4520</h3>Улучшить навыки публичных выступлений.<br /><h3>3085</h3>Укрепление и развитие профессиональных качеств.<br /><h3>2508</h3>Развитие профессиональных навыков.<br /><h1><b>Topic name:</b> topic_5</h1><h3>970</h3>Изучение английского языка до уровня Effective operational proficiency or advanced.<br /><h3>4004</h3>Изучить английский язык до свободного беглого общения.<br /><h3>4797</h3>Изучить английский язык до уровня не ниже upper intermediate.<br /><h3>655</h3>Выучить иностранный язык - английский, уровень intermedian.<br /><h3>2812</h3>говорить на английском языке на уровне носителей англоязычных стран.<br /><h3>1442</h3>Изучить английский язык до свободного владения.<br /><h3>4543</h3>Изучить английский язык на уровне выше среднего..<br /><h3>4082</h3>Свободное владение английским языком.<br /><h3>3999</h3>Изучить разговорный английский язык.<br /><h3>1838</h3>Преодалеть языковой барьер для общения на английском языке.<br /><h1><b>Topic name:</b> topic_6</h1><h3>5244</h3>Понять/разобраться каким образом можно спроектировать, разработать, изготовить сложное техническое изделие с наилучшими характеристиками с учетом<br /> всего его жизненного цикла, т.е. понять каким образом изделие должно меняться (модифицироваться) для того чтобы<br /> оставаться лучшим среди появляющихся конкурентов.<br /><h3>2868</h3>Стать экспертом в области цифровой трансформации бизнеса.<br /><h3>3068</h3>Придумать способ сохранения нормы доходности в условиях демпенга импортеров крепежных изделий из КНР..<br /><h3>2341</h3>стать эффективным специалистом для цифровой трансформации.<br /><h3>5907</h3>Стать настоящим мастером своего дела с учетом совершенствования материально-технического обеспечения компетенции \"Медицинский и социальный уход\".<br /><br /><h3>2576</h3>Стать экспертом в проектном управлении.<br /><h3>93</h3>стать специалистом по моделированию в химии твердого тела.<br /><h3>146</h3>Создать свой проект который будет направлен на творчество.<br /><h3>1053</h3>Выпустить две статьи в журналах входящих в базу scopus/web of science.<br /><h3>2279</h3>Стать экспертом проектного управления в регионе к концу 2020.<br /><h1><b>Topic name:</b> topic_7</h1><h3>2021</h3>Научиться красиво и артистично выступать, чтобы удерживать внимание слушателей в течение всего выступления. Освоить вкрапление<br /> шуточек и фишечек, которые бы также работали с вниманием и эмоциями слушателей.<br /><h3>5853</h3>Повышение собственной ценности на рынке труда.<br /><h3>127</h3>повысить свой уровень квалификации.<br /><h3>4612</h3>научиться управлять своим временем.<br /><h3>3203</h3>Научиться эффективно управлять своим временем.<br /><h3>1242</h3>Повышение ценности на рынке труда.<br /><h3>4505</h3>Научиться Формировать и управлять  эффективной командой.<br /><h3>2241</h3>научиться вставать рано утром, в 5 ч.<br /><h3>2014</h3>Научиться писать красивый код.<br /><h3>579</h3>Научиться управлять отделом.<br /><h1><b>Topic name:</b> topic_8</h1><h3>2674</h3>Получить высшую степень преподавателя ( доктор информационных наук).<br /><h3>1934</h3>Актуальность. Сейчас изучаю методологию преподавания финансовой грамотности.<br /><h3>1487</h3>Здоровый образ жизни: спорт, здоровое питание .<br /><h3>626</h3>Получить высшее экономическое образование .<br /><h3>5347</h3>Получить специализацию по прикладной математике и квантовым вычислениям.<br /><h3>825</h3>Получить ученую степень.<br /><h3>3252</h3>получить ученую степень.<br /><h3>49</h3>Получить степень магистра.<br /><h3>4363</h3>Получить два высших образования .<br /><h3>1145</h3>Получить высшее образование.<br /><h1><b>Topic name:</b> topic_9</h1><h3>2450</h3>Полное понимание принципов поведения, мотивации и т.д. человека; взаимодействия людей, организаций, командообразование и устройства социума<br /> в целом..<br /><h3>637</h3>Если, это инфокурс, то завершить все конспекты и дз до истечения его срока. То есть<br /> соблюдать дэдлайн..<br /><h3>3730</h3>Подготовка и защита докторской диссертации.<br /><h3>3353</h3>Подготовка к защите докторской диссертации.<br /><h3>4622</h3>Проведение исследования, подготовка и защита докторской диссертации.<br /><h3>1840</h3>освоить навыики таргетированной рекламы, яндекс Директ посредством интернета и различной лтературы.<br /><h3>3632</h3>Подготовить и защитить докторскую диссертацию.<br /><h3>2714</h3>Защитить докторскую диссертацию.<br /><h3>4836</h3>продвижение по карьерной лестнице.<br /><h3>4630</h3>продвижение по карьерной лестнице.<br /><h1><b>Topic name:</b> topic_10</h1><h3>2268</h3>Внедрить проект инженерной школы в следующем учебном году.<br /><h3>1371</h3>Осталось совсем немного до ее выполнения - прочитать 25 книг за год с использованием скретчинга.<br /><br /><h3>2234</h3>Формулирование внятной современной научной программы магистературы \"педагогическое сопровождение одаренных детей\".<br /><h3>1819</h3>Научное открытие/научная работа на стыке технологий и soft skills .<br /><h3>5960</h3>Наращивать экспертность в технологизации исследовательского мышления.<br /><h3>5550</h3>Открыть этнографический культурно-духовный центр ГОРНИЦА.<br /><h3>5762</h3>Осмыслено прочитывать не менее 100 страниц текста  в час.<br /><h3>4812</h3>На данный момент сдать международный экзамен.<br /><h3>5959</h3>Наращивать экспертность в технологизации исследовательского мышления.<br /><h3>2664</h3>Личная эффективность на работе.<br />"
      ]
     },
     "metadata": {},
     "output_type": "display_data"
    }
   ],
   "source": [
    "TopDocumentsViewer(model=topic_model, dataset=dataset, max_top_number=10).view_from_jupyter()"
   ]
  },
  {
   "cell_type": "code",
   "execution_count": 68,
   "metadata": {},
   "outputs": [],
   "source": [
    "phi = reg_best_model.get_phi()\n",
    "theta = reg_best_model.get_theta()"
   ]
  },
  {
   "cell_type": "code",
   "execution_count": 69,
   "metadata": {},
   "outputs": [],
   "source": [
    "topic_description = pd.DataFrame(index = theta.index, columns = ['description'])\n",
    "topic_description.loc['topic_0']['description'] = '(не конкретно)'\n",
    "topic_description.loc['topic_1']['description'] = '(не конкретно)'\n",
    "topic_description.loc['topic_2']['description'] = '(не конкретно)'\n",
    "topic_description.loc['topic_3']['description'] = '(не конкретно)'\n",
    "topic_description.loc['topic_4']['description'] = 'Получить высшее образование'\n",
    "topic_description.loc['topic_5']['description'] = 'Развить гибкие навыки'\n",
    "topic_description.loc['topic_6']['description'] = 'Создать свой проект'\n",
    "topic_description.loc['topic_7']['description'] = 'Решение конкретной практической задачи'\n",
    "topic_description.loc['topic_8']['description'] = 'Изучить иностранный язык'\n",
    "topic_description.loc['topic_9']['description'] = 'Повысить свой профессиональный уровень'\n",
    "topic_description.loc['topic_10']['description'] = 'Защита докторской диссертации'"
   ]
  },
  {
   "cell_type": "code",
   "execution_count": 70,
   "metadata": {},
   "outputs": [],
   "source": [
    "doc_titles = list(map(lambda item: str(item), train_d0_indices))\n",
    "specifisity = pd.DataFrame(index=doc_titles, columns=['topic', 'specifisity'])\n",
    "for doc_title in doc_titles:\n",
    "    s_d = specifisity_of_document(doc_title, specific_topics, theta)\n",
    "    specifisity.loc[doc_title]['specifisity'] = s_d\n",
    "    specifisity.loc[doc_title]['topic'] = theta[theta[doc_title] == theta[doc_title].max()].index.tolist()[0]"
   ]
  },
  {
   "cell_type": "code",
   "execution_count": 71,
   "metadata": {},
   "outputs": [],
   "source": [
    "topics_vec = [phi[topic].values for topic in phi.columns]\n",
    "dist_matrix = cosine_similarity(topics_vec, topics_vec)\n",
    "topic_spectrum = get_arrangement_permutation(dist_matrix, 'tsne')"
   ]
  },
  {
   "cell_type": "code",
   "execution_count": 72,
   "metadata": {},
   "outputs": [],
   "source": [
    "from matplotlib.projections import PolarAxes"
   ]
  },
  {
   "cell_type": "code",
   "execution_count": 73,
   "metadata": {},
   "outputs": [
    {
     "data": {
      "image/png": "[encoded data removed]",
      "text/plain": [
       "<Figure size 720x720 with 1 Axes>"
      ]
     },
     "metadata": {
      "needs_background": "light"
     },
     "output_type": "display_data"
    }
   ],
   "source": [
    "plt.figure(figsize=(10, 10))\n",
    "for idx, color in zip(topic_spectrum, best_colors):\n",
    "    topic = 'topic_' + str(idx)\n",
    "    goals = specifisity.loc[specifisity['topic'] == topic]\n",
    "    \n",
    "    plt.polar(np.ones(goals.shape[0]) * topic_spectrum.index(idx) * np.pi / 7. + np.random.uniform(-0.07, 0.07, goals.shape[0]), \n",
    "              goals['specifisity'], 'ro', label=topic_description.loc[topic]['description'], color=color)\n",
    "lgd = plt.legend(bbox_to_anchor=(1., 0.67), loc='upper left', borderaxespad=0.)\n",
    "plt.savefig('images/total_specifisity_d1.pdf', bbox_extra_artists=(lgd,), bbox_inches='tight')\n",
    "plt.savefig('images/total_specifisity_d1.png', bbox_extra_artists=(lgd,), bbox_inches='tight')\n",
    "plt.show()"
   ]
  },
  {
   "cell_type": "code",
   "execution_count": 74,
   "metadata": {},
   "outputs": [
    {
     "ename": "AttributeError",
     "evalue": "'PolarAxesSubplot' object has no property 'figsize'",
     "output_type": "error",
     "traceback": [
      "\u001b[0;31m---------------------------------------------------------------------------\u001b[0m",
      "\u001b[0;31mAttributeError\u001b[0m                            Traceback (most recent call last)",
      "\u001b[0;32m<ipython-input-74-cd6721430b84>\u001b[0m in \u001b[0;36m<module>\u001b[0;34m\u001b[0m\n\u001b[1;32m      1\u001b[0m \u001b[0;31m#fig, ax = plt.subplots(figsize=[4.8, 4.8], projection=\"polar\")\u001b[0m\u001b[0;34m\u001b[0m\u001b[0;34m\u001b[0m\u001b[0;34m\u001b[0m\u001b[0m\n\u001b[0;32m----> 2\u001b[0;31m \u001b[0mfig\u001b[0m\u001b[0;34m,\u001b[0m \u001b[0max\u001b[0m \u001b[0;34m=\u001b[0m \u001b[0mplt\u001b[0m\u001b[0;34m.\u001b[0m\u001b[0msubplot\u001b[0m\u001b[0;34m(\u001b[0m\u001b[0mfigsize\u001b[0m\u001b[0;34m=\u001b[0m\u001b[0;34m(\u001b[0m\u001b[0;36m10\u001b[0m\u001b[0;34m,\u001b[0m \u001b[0;36m10\u001b[0m\u001b[0;34m)\u001b[0m\u001b[0;34m,\u001b[0m \u001b[0mprojection\u001b[0m\u001b[0;34m=\u001b[0m\u001b[0;34m\"polar\"\u001b[0m\u001b[0;34m)\u001b[0m\u001b[0;34m\u001b[0m\u001b[0;34m\u001b[0m\u001b[0m\n\u001b[0m\u001b[1;32m      3\u001b[0m \u001b[0;34m\u001b[0m\u001b[0m\n\u001b[1;32m      4\u001b[0m \u001b[0mtr\u001b[0m \u001b[0;34m=\u001b[0m \u001b[0mPolarAxes\u001b[0m\u001b[0;34m.\u001b[0m\u001b[0mPolarTransform\u001b[0m\u001b[0;34m(\u001b[0m\u001b[0muse_rmin\u001b[0m\u001b[0;34m=\u001b[0m\u001b[0;32mTrue\u001b[0m\u001b[0;34m)\u001b[0m\u001b[0;34m\u001b[0m\u001b[0;34m\u001b[0m\u001b[0m\n\u001b[1;32m      5\u001b[0m \u001b[0max\u001b[0m\u001b[0;34m.\u001b[0m\u001b[0mset_rmin\u001b[0m\u001b[0;34m(\u001b[0m\u001b[0;36m1\u001b[0m\u001b[0;34m)\u001b[0m\u001b[0;34m\u001b[0m\u001b[0;34m\u001b[0m\u001b[0m\n",
      "\u001b[0;32m~/anaconda3/lib/python3.7/site-packages/matplotlib/pyplot.py\u001b[0m in \u001b[0;36msubplot\u001b[0;34m(*args, **kwargs)\u001b[0m\n\u001b[1;32m   1074\u001b[0m \u001b[0;34m\u001b[0m\u001b[0m\n\u001b[1;32m   1075\u001b[0m     \u001b[0mfig\u001b[0m \u001b[0;34m=\u001b[0m \u001b[0mgcf\u001b[0m\u001b[0;34m(\u001b[0m\u001b[0;34m)\u001b[0m\u001b[0;34m\u001b[0m\u001b[0;34m\u001b[0m\u001b[0m\n\u001b[0;32m-> 1076\u001b[0;31m     \u001b[0ma\u001b[0m \u001b[0;34m=\u001b[0m \u001b[0mfig\u001b[0m\u001b[0;34m.\u001b[0m\u001b[0madd_subplot\u001b[0m\u001b[0;34m(\u001b[0m\u001b[0;34m*\u001b[0m\u001b[0margs\u001b[0m\u001b[0;34m,\u001b[0m \u001b[0;34m**\u001b[0m\u001b[0mkwargs\u001b[0m\u001b[0;34m)\u001b[0m\u001b[0;34m\u001b[0m\u001b[0;34m\u001b[0m\u001b[0m\n\u001b[0m\u001b[1;32m   1077\u001b[0m     \u001b[0mbbox\u001b[0m \u001b[0;34m=\u001b[0m \u001b[0ma\u001b[0m\u001b[0;34m.\u001b[0m\u001b[0mbbox\u001b[0m\u001b[0;34m\u001b[0m\u001b[0;34m\u001b[0m\u001b[0m\n\u001b[1;32m   1078\u001b[0m     \u001b[0mbyebye\u001b[0m \u001b[0;34m=\u001b[0m \u001b[0;34m[\u001b[0m\u001b[0;34m]\u001b[0m\u001b[0;34m\u001b[0m\u001b[0;34m\u001b[0m\u001b[0m\n",
      "\u001b[0;32m~/anaconda3/lib/python3.7/site-packages/matplotlib/figure.py\u001b[0m in \u001b[0;36madd_subplot\u001b[0;34m(self, *args, **kwargs)\u001b[0m\n\u001b[1;32m   1412\u001b[0m                     \u001b[0mself\u001b[0m\u001b[0;34m.\u001b[0m\u001b[0m_axstack\u001b[0m\u001b[0;34m.\u001b[0m\u001b[0mremove\u001b[0m\u001b[0;34m(\u001b[0m\u001b[0max\u001b[0m\u001b[0;34m)\u001b[0m\u001b[0;34m\u001b[0m\u001b[0;34m\u001b[0m\u001b[0m\n\u001b[1;32m   1413\u001b[0m \u001b[0;34m\u001b[0m\u001b[0m\n\u001b[0;32m-> 1414\u001b[0;31m             \u001b[0ma\u001b[0m \u001b[0;34m=\u001b[0m \u001b[0msubplot_class_factory\u001b[0m\u001b[0;34m(\u001b[0m\u001b[0mprojection_class\u001b[0m\u001b[0;34m)\u001b[0m\u001b[0;34m(\u001b[0m\u001b[0mself\u001b[0m\u001b[0;34m,\u001b[0m \u001b[0;34m*\u001b[0m\u001b[0margs\u001b[0m\u001b[0;34m,\u001b[0m \u001b[0;34m**\u001b[0m\u001b[0mkwargs\u001b[0m\u001b[0;34m)\u001b[0m\u001b[0;34m\u001b[0m\u001b[0;34m\u001b[0m\u001b[0m\n\u001b[0m\u001b[1;32m   1415\u001b[0m \u001b[0;34m\u001b[0m\u001b[0m\n\u001b[1;32m   1416\u001b[0m         \u001b[0;32mreturn\u001b[0m \u001b[0mself\u001b[0m\u001b[0;34m.\u001b[0m\u001b[0m_add_axes_internal\u001b[0m\u001b[0;34m(\u001b[0m\u001b[0mkey\u001b[0m\u001b[0;34m,\u001b[0m \u001b[0ma\u001b[0m\u001b[0;34m)\u001b[0m\u001b[0;34m\u001b[0m\u001b[0;34m\u001b[0m\u001b[0m\n",
      "\u001b[0;32m~/anaconda3/lib/python3.7/site-packages/matplotlib/axes/_subplots.py\u001b[0m in \u001b[0;36m__init__\u001b[0;34m(self, fig, *args, **kwargs)\u001b[0m\n\u001b[1;32m     67\u001b[0m \u001b[0;34m\u001b[0m\u001b[0m\n\u001b[1;32m     68\u001b[0m         \u001b[0;31m# _axes_class is set in the subplot_class_factory\u001b[0m\u001b[0;34m\u001b[0m\u001b[0;34m\u001b[0m\u001b[0;34m\u001b[0m\u001b[0m\n\u001b[0;32m---> 69\u001b[0;31m         \u001b[0mself\u001b[0m\u001b[0;34m.\u001b[0m\u001b[0m_axes_class\u001b[0m\u001b[0;34m.\u001b[0m\u001b[0m__init__\u001b[0m\u001b[0;34m(\u001b[0m\u001b[0mself\u001b[0m\u001b[0;34m,\u001b[0m \u001b[0mfig\u001b[0m\u001b[0;34m,\u001b[0m \u001b[0mself\u001b[0m\u001b[0;34m.\u001b[0m\u001b[0mfigbox\u001b[0m\u001b[0;34m,\u001b[0m \u001b[0;34m**\u001b[0m\u001b[0mkwargs\u001b[0m\u001b[0;34m)\u001b[0m\u001b[0;34m\u001b[0m\u001b[0;34m\u001b[0m\u001b[0m\n\u001b[0m\u001b[1;32m     70\u001b[0m         \u001b[0;31m# add a layout box to this, for both the full axis, and the poss\u001b[0m\u001b[0;34m\u001b[0m\u001b[0;34m\u001b[0m\u001b[0;34m\u001b[0m\u001b[0m\n\u001b[1;32m     71\u001b[0m         \u001b[0;31m# of the axis.  We need both because the axes may become smaller\u001b[0m\u001b[0;34m\u001b[0m\u001b[0;34m\u001b[0m\u001b[0;34m\u001b[0m\u001b[0m\n",
      "\u001b[0;32m~/anaconda3/lib/python3.7/site-packages/matplotlib/projections/polar.py\u001b[0m in \u001b[0;36m__init__\u001b[0;34m(self, theta_offset, theta_direction, rlabel_position, *args, **kwargs)\u001b[0m\n\u001b[1;32m    787\u001b[0m         \u001b[0mself\u001b[0m\u001b[0;34m.\u001b[0m\u001b[0m_default_theta_direction\u001b[0m \u001b[0;34m=\u001b[0m \u001b[0mtheta_direction\u001b[0m\u001b[0;34m\u001b[0m\u001b[0;34m\u001b[0m\u001b[0m\n\u001b[1;32m    788\u001b[0m         \u001b[0mself\u001b[0m\u001b[0;34m.\u001b[0m\u001b[0m_default_rlabel_position\u001b[0m \u001b[0;34m=\u001b[0m \u001b[0mnp\u001b[0m\u001b[0;34m.\u001b[0m\u001b[0mdeg2rad\u001b[0m\u001b[0;34m(\u001b[0m\u001b[0mrlabel_position\u001b[0m\u001b[0;34m)\u001b[0m\u001b[0;34m\u001b[0m\u001b[0;34m\u001b[0m\u001b[0m\n\u001b[0;32m--> 789\u001b[0;31m         \u001b[0msuper\u001b[0m\u001b[0;34m(\u001b[0m\u001b[0;34m)\u001b[0m\u001b[0;34m.\u001b[0m\u001b[0m__init__\u001b[0m\u001b[0;34m(\u001b[0m\u001b[0;34m*\u001b[0m\u001b[0margs\u001b[0m\u001b[0;34m,\u001b[0m \u001b[0;34m**\u001b[0m\u001b[0mkwargs\u001b[0m\u001b[0;34m)\u001b[0m\u001b[0;34m\u001b[0m\u001b[0;34m\u001b[0m\u001b[0m\n\u001b[0m\u001b[1;32m    790\u001b[0m         \u001b[0mself\u001b[0m\u001b[0;34m.\u001b[0m\u001b[0muse_sticky_edges\u001b[0m \u001b[0;34m=\u001b[0m \u001b[0;32mTrue\u001b[0m\u001b[0;34m\u001b[0m\u001b[0;34m\u001b[0m\u001b[0m\n\u001b[1;32m    791\u001b[0m         \u001b[0mself\u001b[0m\u001b[0;34m.\u001b[0m\u001b[0mset_aspect\u001b[0m\u001b[0;34m(\u001b[0m\u001b[0;34m'equal'\u001b[0m\u001b[0;34m,\u001b[0m \u001b[0madjustable\u001b[0m\u001b[0;34m=\u001b[0m\u001b[0;34m'box'\u001b[0m\u001b[0;34m,\u001b[0m \u001b[0manchor\u001b[0m\u001b[0;34m=\u001b[0m\u001b[0;34m'C'\u001b[0m\u001b[0;34m)\u001b[0m\u001b[0;34m\u001b[0m\u001b[0;34m\u001b[0m\u001b[0m\n",
      "\u001b[0;32m~/anaconda3/lib/python3.7/site-packages/matplotlib/axes/_base.py\u001b[0m in \u001b[0;36m__init__\u001b[0;34m(self, fig, rect, facecolor, frameon, sharex, sharey, label, xscale, yscale, **kwargs)\u001b[0m\n\u001b[1;32m    507\u001b[0m             \u001b[0mself\u001b[0m\u001b[0;34m.\u001b[0m\u001b[0mset_yscale\u001b[0m\u001b[0;34m(\u001b[0m\u001b[0myscale\u001b[0m\u001b[0;34m)\u001b[0m\u001b[0;34m\u001b[0m\u001b[0;34m\u001b[0m\u001b[0m\n\u001b[1;32m    508\u001b[0m \u001b[0;34m\u001b[0m\u001b[0m\n\u001b[0;32m--> 509\u001b[0;31m         \u001b[0mself\u001b[0m\u001b[0;34m.\u001b[0m\u001b[0mupdate\u001b[0m\u001b[0;34m(\u001b[0m\u001b[0mkwargs\u001b[0m\u001b[0;34m)\u001b[0m\u001b[0;34m\u001b[0m\u001b[0;34m\u001b[0m\u001b[0m\n\u001b[0m\u001b[1;32m    510\u001b[0m \u001b[0;34m\u001b[0m\u001b[0m\n\u001b[1;32m    511\u001b[0m         \u001b[0;32mif\u001b[0m \u001b[0mself\u001b[0m\u001b[0;34m.\u001b[0m\u001b[0mxaxis\u001b[0m \u001b[0;32mis\u001b[0m \u001b[0;32mnot\u001b[0m \u001b[0;32mNone\u001b[0m\u001b[0;34m:\u001b[0m\u001b[0;34m\u001b[0m\u001b[0;34m\u001b[0m\u001b[0m\n",
      "\u001b[0;32m~/anaconda3/lib/python3.7/site-packages/matplotlib/artist.py\u001b[0m in \u001b[0;36mupdate\u001b[0;34m(self, props)\u001b[0m\n\u001b[1;32m    972\u001b[0m \u001b[0;34m\u001b[0m\u001b[0m\n\u001b[1;32m    973\u001b[0m         \u001b[0;32mwith\u001b[0m \u001b[0mcbook\u001b[0m\u001b[0;34m.\u001b[0m\u001b[0m_setattr_cm\u001b[0m\u001b[0;34m(\u001b[0m\u001b[0mself\u001b[0m\u001b[0;34m,\u001b[0m \u001b[0meventson\u001b[0m\u001b[0;34m=\u001b[0m\u001b[0;32mFalse\u001b[0m\u001b[0;34m)\u001b[0m\u001b[0;34m:\u001b[0m\u001b[0;34m\u001b[0m\u001b[0;34m\u001b[0m\u001b[0m\n\u001b[0;32m--> 974\u001b[0;31m             \u001b[0mret\u001b[0m \u001b[0;34m=\u001b[0m \u001b[0;34m[\u001b[0m\u001b[0m_update_property\u001b[0m\u001b[0;34m(\u001b[0m\u001b[0mself\u001b[0m\u001b[0;34m,\u001b[0m \u001b[0mk\u001b[0m\u001b[0;34m,\u001b[0m \u001b[0mv\u001b[0m\u001b[0;34m)\u001b[0m \u001b[0;32mfor\u001b[0m \u001b[0mk\u001b[0m\u001b[0;34m,\u001b[0m \u001b[0mv\u001b[0m \u001b[0;32min\u001b[0m \u001b[0mprops\u001b[0m\u001b[0;34m.\u001b[0m\u001b[0mitems\u001b[0m\u001b[0;34m(\u001b[0m\u001b[0;34m)\u001b[0m\u001b[0;34m]\u001b[0m\u001b[0;34m\u001b[0m\u001b[0;34m\u001b[0m\u001b[0m\n\u001b[0m\u001b[1;32m    975\u001b[0m \u001b[0;34m\u001b[0m\u001b[0m\n\u001b[1;32m    976\u001b[0m         \u001b[0;32mif\u001b[0m \u001b[0mlen\u001b[0m\u001b[0;34m(\u001b[0m\u001b[0mret\u001b[0m\u001b[0;34m)\u001b[0m\u001b[0;34m:\u001b[0m\u001b[0;34m\u001b[0m\u001b[0;34m\u001b[0m\u001b[0m\n",
      "\u001b[0;32m~/anaconda3/lib/python3.7/site-packages/matplotlib/artist.py\u001b[0m in \u001b[0;36m<listcomp>\u001b[0;34m(.0)\u001b[0m\n\u001b[1;32m    972\u001b[0m \u001b[0;34m\u001b[0m\u001b[0m\n\u001b[1;32m    973\u001b[0m         \u001b[0;32mwith\u001b[0m \u001b[0mcbook\u001b[0m\u001b[0;34m.\u001b[0m\u001b[0m_setattr_cm\u001b[0m\u001b[0;34m(\u001b[0m\u001b[0mself\u001b[0m\u001b[0;34m,\u001b[0m \u001b[0meventson\u001b[0m\u001b[0;34m=\u001b[0m\u001b[0;32mFalse\u001b[0m\u001b[0;34m)\u001b[0m\u001b[0;34m:\u001b[0m\u001b[0;34m\u001b[0m\u001b[0;34m\u001b[0m\u001b[0m\n\u001b[0;32m--> 974\u001b[0;31m             \u001b[0mret\u001b[0m \u001b[0;34m=\u001b[0m \u001b[0;34m[\u001b[0m\u001b[0m_update_property\u001b[0m\u001b[0;34m(\u001b[0m\u001b[0mself\u001b[0m\u001b[0;34m,\u001b[0m \u001b[0mk\u001b[0m\u001b[0;34m,\u001b[0m \u001b[0mv\u001b[0m\u001b[0;34m)\u001b[0m \u001b[0;32mfor\u001b[0m \u001b[0mk\u001b[0m\u001b[0;34m,\u001b[0m \u001b[0mv\u001b[0m \u001b[0;32min\u001b[0m \u001b[0mprops\u001b[0m\u001b[0;34m.\u001b[0m\u001b[0mitems\u001b[0m\u001b[0;34m(\u001b[0m\u001b[0;34m)\u001b[0m\u001b[0;34m]\u001b[0m\u001b[0;34m\u001b[0m\u001b[0;34m\u001b[0m\u001b[0m\n\u001b[0m\u001b[1;32m    975\u001b[0m \u001b[0;34m\u001b[0m\u001b[0m\n\u001b[1;32m    976\u001b[0m         \u001b[0;32mif\u001b[0m \u001b[0mlen\u001b[0m\u001b[0;34m(\u001b[0m\u001b[0mret\u001b[0m\u001b[0;34m)\u001b[0m\u001b[0;34m:\u001b[0m\u001b[0;34m\u001b[0m\u001b[0;34m\u001b[0m\u001b[0m\n",
      "\u001b[0;32m~/anaconda3/lib/python3.7/site-packages/matplotlib/artist.py\u001b[0m in \u001b[0;36m_update_property\u001b[0;34m(self, k, v)\u001b[0m\n\u001b[1;32m    968\u001b[0m                 \u001b[0;32mif\u001b[0m \u001b[0;32mnot\u001b[0m \u001b[0mcallable\u001b[0m\u001b[0;34m(\u001b[0m\u001b[0mfunc\u001b[0m\u001b[0;34m)\u001b[0m\u001b[0;34m:\u001b[0m\u001b[0;34m\u001b[0m\u001b[0;34m\u001b[0m\u001b[0m\n\u001b[1;32m    969\u001b[0m                     raise AttributeError('{!r} object has no property {!r}'\n\u001b[0;32m--> 970\u001b[0;31m                                          .format(type(self).__name__, k))\n\u001b[0m\u001b[1;32m    971\u001b[0m                 \u001b[0;32mreturn\u001b[0m \u001b[0mfunc\u001b[0m\u001b[0;34m(\u001b[0m\u001b[0mv\u001b[0m\u001b[0;34m)\u001b[0m\u001b[0;34m\u001b[0m\u001b[0;34m\u001b[0m\u001b[0m\n\u001b[1;32m    972\u001b[0m \u001b[0;34m\u001b[0m\u001b[0m\n",
      "\u001b[0;31mAttributeError\u001b[0m: 'PolarAxesSubplot' object has no property 'figsize'"
     ]
    },
    {
     "data": {
      "text/plain": [
       "<Figure size 432x288 with 0 Axes>"
      ]
     },
     "metadata": {},
     "output_type": "display_data"
    }
   ],
   "source": [
    "#fig, ax = plt.subplots(figsize=[4.8, 4.8], projection=\"polar\")\n",
    "fig, ax = plt.subplot(figsize=(10, 10), projection=\"polar\")\n",
    "\n",
    "tr = PolarAxes.PolarTransform(use_rmin=True)\n",
    "ax.set_rmin(1)"
   ]
  },
  {
   "cell_type": "markdown",
   "metadata": {},
   "source": [
    "## Специфичность слов"
   ]
  },
  {
   "cell_type": "code",
   "execution_count": null,
   "metadata": {},
   "outputs": [],
   "source": [
    "data = pd.read_csv('data_for_specifisity_calculations.csv')\n",
    "data.index=data['id']"
   ]
  },
  {
   "cell_type": "code",
   "execution_count": null,
   "metadata": {},
   "outputs": [],
   "source": [
    "data['lemmatized_as_str'].fillna('', inplace=True)\n",
    "data['bigram_as_str'].fillna('', inplace=True)\n",
    "data['info_as_str'].fillna('', inplace=True)"
   ]
  },
  {
   "cell_type": "code",
   "execution_count": null,
   "metadata": {},
   "outputs": [],
   "source": [
    "data['lemmatized'] = [s.split() for s in data['lemmatized_as_str']]\n",
    "data['bigram'] = [s.split() for s in data['bigram_as_str']]\n",
    "data['info'] = [s.split() for s in data['info_as_str']]"
   ]
  },
  {
   "cell_type": "code",
   "execution_count": null,
   "metadata": {},
   "outputs": [],
   "source": [
    "data['ngram'] = [goal['lemmatized'] + goal['bigram'] + goal['info'] for index, goal in data.iterrows()]\n",
    "data['ngram_as_str'] = [' '.join(l) for l in data['ngram']]"
   ]
  },
  {
   "cell_type": "code",
   "execution_count": null,
   "metadata": {},
   "outputs": [],
   "source": [
    "matrix_of_frequancies = frequency_matrix(data, phi)"
   ]
  },
  {
   "cell_type": "code",
   "execution_count": null,
   "metadata": {
    "scrolled": false
   },
   "outputs": [],
   "source": [
    "tokens = train_total_dict_ngram\n",
    "specifisity_words = pd.DataFrame(index=list(tokens), columns=['topic', 'specifisity'])\n",
    "for token in tokens:\n",
    "    s_w = specifisity_of_token(token, specific_topics, matrix_of_frequancies, theta, phi)\n",
    "    specifisity_words.loc[token]['specifisity'] = s_w\n",
    "    specifisity_words.loc[token]['topic'] = phi.T[phi.T[token] == phi.T[token].max()].index.tolist()[0]"
   ]
  },
  {
   "cell_type": "code",
   "execution_count": null,
   "metadata": {},
   "outputs": [],
   "source": [
    "specifisity_words"
   ]
  },
  {
   "cell_type": "code",
   "execution_count": null,
   "metadata": {},
   "outputs": [],
   "source": [
    "plt.figure(figsize=(10, 10))\n",
    "for idx, color in zip(topic_spectrum, best_colors):\n",
    "    topic = 'topic_' + str(idx)\n",
    "    tokens = specifisity_words.loc[specifisity_words['topic'] == topic]\n",
    "    \n",
    "    plt.polar(np.ones(tokens.shape[0]) * topic_spectrum.index(idx) * np.pi / 7. + np.random.uniform(-0.07, 0.07, tokens.shape[0]), \n",
    "              tokens['specifisity'], 'ro', label=topic_description.loc[topic]['description'], color=color)\n",
    "lgd = plt.legend(bbox_to_anchor=(1., 0.67), loc='upper left', borderaxespad=0.)\n",
    "plt.savefig('images/specifisity_words.pdf', bbox_extra_artists=(lgd,), bbox_inches='tight')\n",
    "plt.savefig('images/specifisity_words.png', bbox_extra_artists=(lgd,), bbox_inches='tight')\n",
    "plt.show()"
   ]
  },
  {
   "cell_type": "code",
   "execution_count": null,
   "metadata": {},
   "outputs": [],
   "source": []
  }
 ],
 "metadata": {
  "kernelspec": {
   "display_name": "Python 3",
   "language": "python",
   "name": "python3"
  },
  "language_info": {
   "codemirror_mode": {
    "name": "ipython",
    "version": 3
   },
   "file_extension": ".py",
   "mimetype": "text/x-python",
   "name": "python",
   "nbconvert_exporter": "python",
   "pygments_lexer": "ipython3",
   "version": "3.7.4"
  }
 },
 "nbformat": 4,
 "nbformat_minor": 2
}
