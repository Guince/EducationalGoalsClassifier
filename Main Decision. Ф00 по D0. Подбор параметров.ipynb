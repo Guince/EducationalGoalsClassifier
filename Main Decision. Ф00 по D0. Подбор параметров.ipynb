{
 "cells": [
  {
   "cell_type": "code",
   "execution_count": 1,
   "metadata": {},
   "outputs": [],
   "source": [
    "import pandas as pd\n",
    "import numpy as np\n",
    "import math\n",
    "from scipy.spatial.distance import euclidean\n",
    "\n",
    "import matplotlib\n",
    "import matplotlib.pyplot as plt\n",
    "%matplotlib inline"
   ]
  },
  {
   "cell_type": "code",
   "execution_count": 2,
   "metadata": {},
   "outputs": [],
   "source": [
    "from sklearn.model_selection import train_test_split\n",
    "from sklearn.model_selection import train_test_split\n",
    "from sklearn.metrics import roc_auc_score, precision_score, recall_score, accuracy_score\n",
    "from sklearn.model_selection import GridSearchCV\n",
    "from sklearn.metrics import roc_curve\n",
    "from sklearn.metrics.pairwise import cosine_similarity"
   ]
  },
  {
   "cell_type": "code",
   "execution_count": 3,
   "metadata": {},
   "outputs": [],
   "source": [
    "def perplexity_plot(model, score_name):\n",
    "    plt.plot(model.score_tracker[score_name].value)\n",
    "    plt.title('Dependence Perlexity of iteration')\n",
    "    plt.xlabel('number of iteration')\n",
    "    plt.ylabel('Perlexity Score')"
   ]
  },
  {
   "cell_type": "code",
   "execution_count": 4,
   "metadata": {},
   "outputs": [],
   "source": [
    "data = pd.read_csv('preprocessed_data_for_specificity_prediction.csv', index_col='id')"
   ]
  },
  {
   "cell_type": "code",
   "execution_count": 5,
   "metadata": {
    "scrolled": true
   },
   "outputs": [
    {
     "data": {
      "text/html": [
       "<div>\n",
       "<style scoped>\n",
       "    .dataframe tbody tr th:only-of-type {\n",
       "        vertical-align: middle;\n",
       "    }\n",
       "\n",
       "    .dataframe tbody tr th {\n",
       "        vertical-align: top;\n",
       "    }\n",
       "\n",
       "    .dataframe thead th {\n",
       "        text-align: right;\n",
       "    }\n",
       "</style>\n",
       "<table border=\"1\" class=\"dataframe\">\n",
       "  <thead>\n",
       "    <tr style=\"text-align: right;\">\n",
       "      <th></th>\n",
       "      <th>info</th>\n",
       "      <th>specificity</th>\n",
       "      <th>attainable</th>\n",
       "      <th>time_bound</th>\n",
       "      <th>goal</th>\n",
       "      <th>vw_text</th>\n",
       "      <th>vw_ngram</th>\n",
       "      <th>vw_ngram_info</th>\n",
       "      <th>vw_ngram_info_labels</th>\n",
       "    </tr>\n",
       "    <tr>\n",
       "      <th>id</th>\n",
       "      <th></th>\n",
       "      <th></th>\n",
       "      <th></th>\n",
       "      <th></th>\n",
       "      <th></th>\n",
       "      <th></th>\n",
       "      <th></th>\n",
       "      <th></th>\n",
       "      <th></th>\n",
       "    </tr>\n",
       "  </thead>\n",
       "  <tbody>\n",
       "    <tr>\n",
       "      <th>0</th>\n",
       "      <td>&amp;РЕЗУЛЬТАТ_Да,_четко &amp;ПЕРВЫЙ_ШАГ_Не_знаю,_с_че...</td>\n",
       "      <td>0</td>\n",
       "      <td>1</td>\n",
       "      <td>0</td>\n",
       "      <td>Развитие профессиональных навыков</td>\n",
       "      <td>0 |@unigram развитие:1 профессиональный:1 навы...</td>\n",
       "      <td>0 |@ngram развитие:1 профессиональный:1 навык:...</td>\n",
       "      <td>0 |@ngram развитие:1 профессиональный:1 навык:...</td>\n",
       "      <td>0 |@ngram развитие:1 профессиональный:1 навык:...</td>\n",
       "    </tr>\n",
       "    <tr>\n",
       "      <th>1</th>\n",
       "      <td>&amp;РЕЗУЛЬТАТ_Да,_четко &amp;ТИП_ЦЕЛИ_Получить_знания...</td>\n",
       "      <td>1</td>\n",
       "      <td>1</td>\n",
       "      <td>1</td>\n",
       "      <td>Хочу стать выпускником президентской программы</td>\n",
       "      <td>1 |@unigram хотеть:1 стать:1 выпускник:1 прези...</td>\n",
       "      <td>1 |@ngram хотеть:1 стать:1 выпускник:1 президе...</td>\n",
       "      <td>1 |@ngram хотеть:1 стать:1 выпускник:1 президе...</td>\n",
       "      <td>1 |@ngram хотеть:1 стать:1 выпускник:1 президе...</td>\n",
       "    </tr>\n",
       "    <tr>\n",
       "      <th>2</th>\n",
       "      <td>&amp;РЕЗУЛЬТАТ_Да,_четко &amp;ТИП_ЦЕЛИ_Получить_знания...</td>\n",
       "      <td>0</td>\n",
       "      <td>1</td>\n",
       "      <td>0</td>\n",
       "      <td>приобретение новых знаний</td>\n",
       "      <td>2 |@unigram приобретение:1 новый:1 знание:1</td>\n",
       "      <td>2 |@ngram приобретение:1 новый:1 знание:1 прио...</td>\n",
       "      <td>2 |@ngram приобретение:1 новый:1 знание:1 прио...</td>\n",
       "      <td>2 |@ngram приобретение:1 новый:1 знание:1 прио...</td>\n",
       "    </tr>\n",
       "    <tr>\n",
       "      <th>4</th>\n",
       "      <td>&amp;РЕЗУЛЬТАТ_Да,_четко &amp;ТИП_ЦЕЛИ_Получить_знания...</td>\n",
       "      <td>0</td>\n",
       "      <td>0</td>\n",
       "      <td>0</td>\n",
       "      <td>мне хочется узнать о мире как можно больше за ...</td>\n",
       "      <td>4 |@unigram хотеться:1 узнать:1 мир:1 большой:...</td>\n",
       "      <td>4 |@ngram хотеться:1 узнать:1 мир:1 большой:1 ...</td>\n",
       "      <td>4 |@ngram хотеться:1 узнать:1 мир:1 большой:1 ...</td>\n",
       "      <td>4 |@ngram хотеться:1 узнать:1 мир:1 большой:1 ...</td>\n",
       "    </tr>\n",
       "    <tr>\n",
       "      <th>5</th>\n",
       "      <td>&amp;РЕЗУЛЬТАТ_Да,_четко &amp;ТИП_ЦЕЛИ_Получить_знания...</td>\n",
       "      <td>0</td>\n",
       "      <td>1</td>\n",
       "      <td>0</td>\n",
       "      <td>Получение новых знаний</td>\n",
       "      <td>5 |@unigram получение:1 новый:1 знание:1</td>\n",
       "      <td>5 |@ngram получение:1 новый:1 знание:1 получен...</td>\n",
       "      <td>5 |@ngram получение:1 новый:1 знание:1 получен...</td>\n",
       "      <td>5 |@ngram получение:1 новый:1 знание:1 получен...</td>\n",
       "    </tr>\n",
       "    <tr>\n",
       "      <th>...</th>\n",
       "      <td>...</td>\n",
       "      <td>...</td>\n",
       "      <td>...</td>\n",
       "      <td>...</td>\n",
       "      <td>...</td>\n",
       "      <td>...</td>\n",
       "      <td>...</td>\n",
       "      <td>...</td>\n",
       "      <td>...</td>\n",
       "    </tr>\n",
       "    <tr>\n",
       "      <th>5995</th>\n",
       "      <td>&amp;РЕЗУЛЬТАТ_Да,_четко &amp;ТИП_ЦЕЛИ_Получить_знания...</td>\n",
       "      <td>0</td>\n",
       "      <td>0</td>\n",
       "      <td>0</td>\n",
       "      <td>Постоянный личностный рост</td>\n",
       "      <td>5995 |@unigram постоянный:1 личностный:1 рост:1</td>\n",
       "      <td>5995 |@ngram постоянный:1 личностный:1 рост:1 ...</td>\n",
       "      <td>5995 |@ngram постоянный:1 личностный:1 рост:1 ...</td>\n",
       "      <td>5995 |@ngram постоянный:1 личностный:1 рост:1 ...</td>\n",
       "    </tr>\n",
       "    <tr>\n",
       "      <th>5996</th>\n",
       "      <td>&amp;РЕЗУЛЬТАТ_Да,_нечетко &amp;ТИП_ЦЕЛИ_Получить_знан...</td>\n",
       "      <td>0</td>\n",
       "      <td>1</td>\n",
       "      <td>0</td>\n",
       "      <td>накопление компетенций</td>\n",
       "      <td>5996 |@unigram накопление:1 компетенция:1</td>\n",
       "      <td>5996 |@ngram накопление:1 компетенция:1</td>\n",
       "      <td>5996 |@ngram накопление:1 компетенция:1  |@inf...</td>\n",
       "      <td>5996 |@ngram накопление:1 компетенция:1  |@inf...</td>\n",
       "    </tr>\n",
       "    <tr>\n",
       "      <th>5997</th>\n",
       "      <td>&amp;РЕЗУЛЬТАТ_Да,_нечетко &amp;ТИП_ЦЕЛИ_Получить_знан...</td>\n",
       "      <td>1</td>\n",
       "      <td>0</td>\n",
       "      <td>0</td>\n",
       "      <td>Разобраться в современных технологиях в образо...</td>\n",
       "      <td>5997 |@unigram разобраться:1 современный:1 тех...</td>\n",
       "      <td>5997 |@ngram разобраться:1 современный:1 техно...</td>\n",
       "      <td>5997 |@ngram разобраться:1 современный:1 техно...</td>\n",
       "      <td>5997 |@ngram разобраться:1 современный:1 техно...</td>\n",
       "    </tr>\n",
       "    <tr>\n",
       "      <th>5998</th>\n",
       "      <td>&amp;РЕЗУЛЬТАТ_Да,_четко &amp;ТИП_ЦЕЛИ_Получить_знания...</td>\n",
       "      <td>0</td>\n",
       "      <td>1</td>\n",
       "      <td>0</td>\n",
       "      <td>Впоследствии повысить качество образования сво...</td>\n",
       "      <td>5998 |@unigram впоследствии:1 повысить:1 качес...</td>\n",
       "      <td>5998 |@ngram впоследствии:1 повысить:1 качеств...</td>\n",
       "      <td>5998 |@ngram впоследствии:1 повысить:1 качеств...</td>\n",
       "      <td>5998 |@ngram впоследствии:1 повысить:1 качеств...</td>\n",
       "    </tr>\n",
       "    <tr>\n",
       "      <th>5999</th>\n",
       "      <td>&amp;РЕЗУЛЬТАТ_Да,_четко &amp;ТИП_ЦЕЛИ_Изменить_привыч...</td>\n",
       "      <td>0</td>\n",
       "      <td>0</td>\n",
       "      <td>0</td>\n",
       "      <td>создание комфорта для дальнейшей работы</td>\n",
       "      <td>5999 |@unigram создание:1 комфорт:1 дальнейший...</td>\n",
       "      <td>5999 |@ngram создание:1 комфорт:1 дальнейший:1...</td>\n",
       "      <td>5999 |@ngram создание:1 комфорт:1 дальнейший:1...</td>\n",
       "      <td>5999 |@ngram создание:1 комфорт:1 дальнейший:1...</td>\n",
       "    </tr>\n",
       "  </tbody>\n",
       "</table>\n",
       "<p>4955 rows × 9 columns</p>\n",
       "</div>"
      ],
      "text/plain": [
       "                                                   info  specificity  \\\n",
       "id                                                                     \n",
       "0     &РЕЗУЛЬТАТ_Да,_четко &ПЕРВЫЙ_ШАГ_Не_знаю,_с_че...            0   \n",
       "1     &РЕЗУЛЬТАТ_Да,_четко &ТИП_ЦЕЛИ_Получить_знания...            1   \n",
       "2     &РЕЗУЛЬТАТ_Да,_четко &ТИП_ЦЕЛИ_Получить_знания...            0   \n",
       "4     &РЕЗУЛЬТАТ_Да,_четко &ТИП_ЦЕЛИ_Получить_знания...            0   \n",
       "5     &РЕЗУЛЬТАТ_Да,_четко &ТИП_ЦЕЛИ_Получить_знания...            0   \n",
       "...                                                 ...          ...   \n",
       "5995  &РЕЗУЛЬТАТ_Да,_четко &ТИП_ЦЕЛИ_Получить_знания...            0   \n",
       "5996  &РЕЗУЛЬТАТ_Да,_нечетко &ТИП_ЦЕЛИ_Получить_знан...            0   \n",
       "5997  &РЕЗУЛЬТАТ_Да,_нечетко &ТИП_ЦЕЛИ_Получить_знан...            1   \n",
       "5998  &РЕЗУЛЬТАТ_Да,_четко &ТИП_ЦЕЛИ_Получить_знания...            0   \n",
       "5999  &РЕЗУЛЬТАТ_Да,_четко &ТИП_ЦЕЛИ_Изменить_привыч...            0   \n",
       "\n",
       "      attainable  time_bound  \\\n",
       "id                             \n",
       "0              1           0   \n",
       "1              1           1   \n",
       "2              1           0   \n",
       "4              0           0   \n",
       "5              1           0   \n",
       "...          ...         ...   \n",
       "5995           0           0   \n",
       "5996           1           0   \n",
       "5997           0           0   \n",
       "5998           1           0   \n",
       "5999           0           0   \n",
       "\n",
       "                                                   goal  \\\n",
       "id                                                        \n",
       "0                     Развитие профессиональных навыков   \n",
       "1        Хочу стать выпускником президентской программы   \n",
       "2                             приобретение новых знаний   \n",
       "4     мне хочется узнать о мире как можно больше за ...   \n",
       "5                                Получение новых знаний   \n",
       "...                                                 ...   \n",
       "5995                         Постоянный личностный рост   \n",
       "5996                             накопление компетенций   \n",
       "5997  Разобраться в современных технологиях в образо...   \n",
       "5998  Впоследствии повысить качество образования сво...   \n",
       "5999            создание комфорта для дальнейшей работы   \n",
       "\n",
       "                                                vw_text  \\\n",
       "id                                                        \n",
       "0     0 |@unigram развитие:1 профессиональный:1 навы...   \n",
       "1     1 |@unigram хотеть:1 стать:1 выпускник:1 прези...   \n",
       "2          2 |@unigram приобретение:1 новый:1 знание:1    \n",
       "4     4 |@unigram хотеться:1 узнать:1 мир:1 большой:...   \n",
       "5             5 |@unigram получение:1 новый:1 знание:1    \n",
       "...                                                 ...   \n",
       "5995   5995 |@unigram постоянный:1 личностный:1 рост:1    \n",
       "5996         5996 |@unigram накопление:1 компетенция:1    \n",
       "5997  5997 |@unigram разобраться:1 современный:1 тех...   \n",
       "5998  5998 |@unigram впоследствии:1 повысить:1 качес...   \n",
       "5999  5999 |@unigram создание:1 комфорт:1 дальнейший...   \n",
       "\n",
       "                                               vw_ngram  \\\n",
       "id                                                        \n",
       "0     0 |@ngram развитие:1 профессиональный:1 навык:...   \n",
       "1     1 |@ngram хотеть:1 стать:1 выпускник:1 президе...   \n",
       "2     2 |@ngram приобретение:1 новый:1 знание:1 прио...   \n",
       "4     4 |@ngram хотеться:1 узнать:1 мир:1 большой:1 ...   \n",
       "5     5 |@ngram получение:1 новый:1 знание:1 получен...   \n",
       "...                                                 ...   \n",
       "5995  5995 |@ngram постоянный:1 личностный:1 рост:1 ...   \n",
       "5996           5996 |@ngram накопление:1 компетенция:1    \n",
       "5997  5997 |@ngram разобраться:1 современный:1 техно...   \n",
       "5998  5998 |@ngram впоследствии:1 повысить:1 качеств...   \n",
       "5999  5999 |@ngram создание:1 комфорт:1 дальнейший:1...   \n",
       "\n",
       "                                          vw_ngram_info  \\\n",
       "id                                                        \n",
       "0     0 |@ngram развитие:1 профессиональный:1 навык:...   \n",
       "1     1 |@ngram хотеть:1 стать:1 выпускник:1 президе...   \n",
       "2     2 |@ngram приобретение:1 новый:1 знание:1 прио...   \n",
       "4     4 |@ngram хотеться:1 узнать:1 мир:1 большой:1 ...   \n",
       "5     5 |@ngram получение:1 новый:1 знание:1 получен...   \n",
       "...                                                 ...   \n",
       "5995  5995 |@ngram постоянный:1 личностный:1 рост:1 ...   \n",
       "5996  5996 |@ngram накопление:1 компетенция:1  |@inf...   \n",
       "5997  5997 |@ngram разобраться:1 современный:1 техно...   \n",
       "5998  5998 |@ngram впоследствии:1 повысить:1 качеств...   \n",
       "5999  5999 |@ngram создание:1 комфорт:1 дальнейший:1...   \n",
       "\n",
       "                                   vw_ngram_info_labels  \n",
       "id                                                       \n",
       "0     0 |@ngram развитие:1 профессиональный:1 навык:...  \n",
       "1     1 |@ngram хотеть:1 стать:1 выпускник:1 президе...  \n",
       "2     2 |@ngram приобретение:1 новый:1 знание:1 прио...  \n",
       "4     4 |@ngram хотеться:1 узнать:1 мир:1 большой:1 ...  \n",
       "5     5 |@ngram получение:1 новый:1 знание:1 получен...  \n",
       "...                                                 ...  \n",
       "5995  5995 |@ngram постоянный:1 личностный:1 рост:1 ...  \n",
       "5996  5996 |@ngram накопление:1 компетенция:1  |@inf...  \n",
       "5997  5997 |@ngram разобраться:1 современный:1 техно...  \n",
       "5998  5998 |@ngram впоследствии:1 повысить:1 качеств...  \n",
       "5999  5999 |@ngram создание:1 комфорт:1 дальнейший:1...  \n",
       "\n",
       "[4955 rows x 9 columns]"
      ]
     },
     "execution_count": 5,
     "metadata": {},
     "output_type": "execute_result"
    }
   ],
   "source": [
    "data"
   ]
  },
  {
   "cell_type": "code",
   "execution_count": 6,
   "metadata": {},
   "outputs": [],
   "source": [
    "titles = [goal.split()[0] for goal in data['vw_ngram_info_labels']]"
   ]
  },
  {
   "cell_type": "code",
   "execution_count": 7,
   "metadata": {},
   "outputs": [],
   "source": [
    "X_train, X_test, y_train, y_test = train_test_split(data['vw_ngram_info_labels'], data['specificity'],\n",
    "                                                    test_size=0.3, random_state=42,\n",
    "                                                    stratify=data['specificity'])\n",
    "\n",
    "X_train = X_train.sort_index()\n",
    "X_test = X_test.sort_index()\n",
    "y_train = y_train.sort_index()\n",
    "y_test = y_test.sort_index()"
   ]
  },
  {
   "cell_type": "code",
   "execution_count": 8,
   "metadata": {},
   "outputs": [],
   "source": [
    "train_d0_indices = []\n",
    "train_d1_indices = []\n",
    "for index in X_train.index:\n",
    "    if data['specificity'].loc[index] == 0:\n",
    "        train_d0_indices.append(index)\n",
    "    else:\n",
    "        train_d1_indices.append(index)\n",
    "        \n",
    "test_d0_indices = []\n",
    "test_d1_indices = []\n",
    "for index in X_test.index:\n",
    "    if data['specificity'].loc[index] == 0:\n",
    "        test_d0_indices.append(index)\n",
    "    else:\n",
    "        test_d1_indices.append(index)"
   ]
  },
  {
   "cell_type": "code",
   "execution_count": 9,
   "metadata": {},
   "outputs": [],
   "source": [
    "vw_file_train_total = open('vw_documents_train_total.txt', 'w')\n",
    "vw_file_test_total = open('vw_documents_test_total.txt', 'w')\n",
    "\n",
    "for index, goal in X_train.iteritems():\n",
    "    vw_file_train_total.write(goal+'\\n')\n",
    "    \n",
    "for index, goal in X_test.iteritems():\n",
    "    vw_file_test_total.write(goal[:goal.find(' |@specificity')]+'\\n')\n",
    "\n",
    "vw_file_train_total.close()\n",
    "vw_file_test_total.close()"
   ]
  },
  {
   "cell_type": "code",
   "execution_count": 10,
   "metadata": {},
   "outputs": [],
   "source": [
    "vw_file_train_d0 = open('vw_documents_train_d0.txt', 'w')\n",
    "vw_file_train_d1 = open('vw_documents_train_d1.txt', 'w')\n",
    "vw_file_test_d0 = open('vw_documents_test_d0.txt', 'w')\n",
    "vw_file_test_d1 = open('vw_documents_test_d1.txt', 'w')\n",
    "\n",
    "for index, goal in data.iterrows():\n",
    "    if index in train_d0_indices:\n",
    "        vw_file_train_d0.write(goal['vw_ngram_info_labels']+'\\n')\n",
    "    elif index in train_d1_indices:\n",
    "        vw_file_train_d1.write(goal['vw_ngram_info_labels']+'\\n')\n",
    "    elif index in test_d0_indices:\n",
    "        vw_file_test_d0.write(goal['vw_ngram_info']+'\\n')\n",
    "    else:\n",
    "        vw_file_test_d1.write(goal['vw_ngram_info']+'\\n')\n",
    "        \n",
    "vw_file_train_d0.close()\n",
    "vw_file_train_d1.close()\n",
    "vw_file_test_d0.close()\n",
    "vw_file_test_d1.close()"
   ]
  },
  {
   "cell_type": "markdown",
   "metadata": {},
   "source": [
    "# Обучим модель на D0"
   ]
  },
  {
   "cell_type": "code",
   "execution_count": 11,
   "metadata": {},
   "outputs": [],
   "source": [
    "import artm\n",
    "\n",
    "import topicnet\n",
    "from topicnet.cooking_machine.models import TopicModel\n",
    "from topicnet.viewers import TopTokensViewer\n",
    "from topicnet.viewers import TopDocumentsViewer\n",
    "from topicnet.cooking_machine.dataset import Dataset"
   ]
  },
  {
   "cell_type": "code",
   "execution_count": 12,
   "metadata": {},
   "outputs": [],
   "source": [
    "train_total_batch_vectorizer=artm.BatchVectorizer(data_path='vw_documents_train_total.txt',\n",
    "                                                  data_format='vowpal_wabbit',\n",
    "                                                  batch_size = 10000,\n",
    "                                                  target_folder='./train_total_batches')\n",
    "\n",
    "train_total_dictionary = train_total_batch_vectorizer.dictionary"
   ]
  },
  {
   "cell_type": "code",
   "execution_count": 13,
   "metadata": {},
   "outputs": [],
   "source": [
    "train_d0_batch_vectorizer = artm.BatchVectorizer(data_path='vw_documents_train_d0.txt',\n",
    "                                                 data_format='vowpal_wabbit',\n",
    "                                                 batch_size = 10000,\n",
    "                                                 target_folder='./train_d0_batches')\n",
    "\n",
    "train_d0_dictionary = train_d0_batch_vectorizer.dictionary"
   ]
  },
  {
   "cell_type": "code",
   "execution_count": 14,
   "metadata": {},
   "outputs": [],
   "source": [
    "train_d1_batch_vectorizer = artm.BatchVectorizer(data_path='vw_documents_train_d1.txt',\n",
    "                                                 data_format='vowpal_wabbit',\n",
    "                                                 batch_size = 10000,\n",
    "                                                 target_folder='./train_d1_batches')\n",
    "\n",
    "train_d1_dictionary = train_d1_batch_vectorizer.dictionary"
   ]
  },
  {
   "cell_type": "markdown",
   "metadata": {},
   "source": [
    "Сначала соберем соберем необходимые словари"
   ]
  },
  {
   "cell_type": "code",
   "execution_count": 15,
   "metadata": {},
   "outputs": [],
   "source": [
    "train_total_dictionary.save_text('train_total_dictionary.txt')\n",
    "train_d1_dictionary.save_text('train_d1_dictionary.txt')\n",
    "train_d0_dictionary.save_text('train_d0_dictionary.txt')\n",
    "\n",
    "file_train_total_dictionary = open('train_total_dictionary.txt', 'r')\n",
    "train_total_dict_ngram = []\n",
    "train_total_dict_info = []\n",
    "for line in file_train_total_dictionary.readlines():\n",
    "    if '@ngram' in line.split(', '):\n",
    "        train_total_dict_ngram.append(line.split(', ')[0])\n",
    "    elif '@info' in line.split(', '):\n",
    "        train_total_dict_info.append(line.split(', ')[0])\n",
    "file_train_total_dictionary.close()\n",
    "\n",
    "file_train_d1_dictionary = open('train_d1_dictionary.txt', 'r')\n",
    "train_d1_dict_ngram = []\n",
    "train_d1_dict_info = []\n",
    "for line in file_train_d1_dictionary.readlines():\n",
    "    if '@ngram' in line.split(', '):\n",
    "        train_d1_dict_ngram.append(line.split(', ')[0])\n",
    "    elif '@info' in line.split(', '):\n",
    "        train_d1_dict_info.append(line.split(', ')[0])\n",
    "file_train_d1_dictionary.close()\n",
    "\n",
    "file_train_d0_dictionary = open('train_d0_dictionary.txt', 'r')\n",
    "train_d0_dict_ngram = []\n",
    "train_d0_dict_info = []\n",
    "for line in file_train_d0_dictionary.readlines():\n",
    "    if '@ngram' in line.split(', '):\n",
    "        train_d0_dict_ngram.append(line.split(', ')[0])\n",
    "    elif '@info' in line.split(', '):\n",
    "        train_d0_dict_info.append(line.split(', ')[0])\n",
    "file_train_d0_dictionary.close()\n",
    "\n",
    "train_total_without_d0_dict_ngram = list(set(train_total_dict_ngram)-set(train_d0_dict_ngram))\n",
    "train_total_without_d0_dict_info = list(set(train_total_dict_info)-set(train_d0_dict_info))\n",
    "train_total_without_d0_dict = train_total_without_d0_dict_ngram + train_total_without_d0_dict_info\n",
    "\n",
    "train_total_without_d1_dict_ngram = list(set(train_total_dict_ngram)-set(train_d1_dict_ngram))\n",
    "train_total_without_d1_dict_info = list(set(train_total_dict_info)-set(train_d1_dict_info))\n",
    "train_total_without_d1_dict = train_total_without_d1_dict_ngram + train_total_without_d1_dict_info"
   ]
  },
  {
   "cell_type": "code",
   "execution_count": 16,
   "metadata": {},
   "outputs": [],
   "source": [
    "train_total_for_Phi11_dictionary = artm.Dictionary()\n",
    "train_total_for_Phi11_dictionary.load_text('train_total_dictionary.txt')\n",
    "file_train_total_for_Phi11_dictionary = open('train_total_for_Phi11_dictionary.txt', 'w')\n",
    "\n",
    "file = open('train_total_dictionary.txt', 'r')\n",
    "# надо записать первые 2 строчки в file_train_total_for_Phi11_dictionary\n",
    "lines = file.readlines()\n",
    "line_1 = lines[0]\n",
    "line_2 = lines[1]\n",
    "file_train_total_for_Phi11_dictionary.write(line_1 + line_2)\n",
    "file.close()\n",
    "\n",
    "\n",
    "file = open('train_total_dictionary.txt', 'r')\n",
    "for line in file.readlines()[2:]:\n",
    "    token = line.split(', ')[0]\n",
    "    modality = line.split(', ')[1]\n",
    "    #num_1 = '0.0'\n",
    "    num_1 = '-1.0'\n",
    "    num_2 = line.split(', ')[3]\n",
    "    num_3 = line.split(', ')[4]\n",
    "    # if (token in train_d0_dict_ngram):\n",
    "    if (token in train_d0_dict_ngram) or (modality == '@info') or (modality == '@specificity'):\n",
    "        file_train_total_for_Phi11_dictionary.write(', '.join([token, modality, num_1, num_2, num_3]))\n",
    "    else:\n",
    "        num_1 = '1.0'\n",
    "        file_train_total_for_Phi11_dictionary.write(', '.join([token, modality, num_1, num_2, num_3]))\n",
    "        #file_train_total_for_Phi11_dictionary.write(line)\n",
    "file.close()\n",
    "file_train_total_for_Phi11_dictionary.close()\n",
    "\n",
    "train_total_for_Phi11_dictionary = artm.Dictionary()\n",
    "train_total_for_Phi11_dictionary.load_text('train_total_for_Phi11_dictionary.txt')"
   ]
  },
  {
   "cell_type": "code",
   "execution_count": 17,
   "metadata": {},
   "outputs": [],
   "source": [
    "train_total_for_Phi00_dictionary = artm.Dictionary()\n",
    "train_total_for_Phi00_dictionary.load_text('train_total_dictionary.txt')\n",
    "file_train_total_for_Phi00_dictionary = open('train_total_for_Phi00_dictionary.txt', 'w')\n",
    "\n",
    "file = open('train_total_dictionary.txt', 'r')\n",
    "lines = file.readlines()\n",
    "line_1 = lines[0]\n",
    "line_2 = lines[1]\n",
    "file_train_total_for_Phi00_dictionary.write(line_1 + line_2)\n",
    "file.close()\n",
    "\n",
    "\n",
    "file = open('train_total_dictionary.txt', 'r')\n",
    "for line in file.readlines()[2:]:\n",
    "    token = line.split(', ')[0]\n",
    "    modality = line.split(', ')[1]\n",
    "    num_1 = '1.0'\n",
    "    num_2 = line.split(', ')[3]\n",
    "    num_3 = line.split(', ')[4]\n",
    "    if (token in train_d0_dict_ngram) or (token in train_d0_dict_info):\n",
    "        file_train_total_for_Phi00_dictionary.write(', '.join([token, modality, num_1, num_2, num_3]))\n",
    "    else:\n",
    "        num_1 = '0.0'\n",
    "        file_train_total_for_Phi00_dictionary.write(', '.join([token, modality, num_1, num_2, num_3]))\n",
    "file.close()\n",
    "file_train_total_for_Phi00_dictionary.close()\n",
    "\n",
    "train_total_for_Phi00_dictionary = artm.Dictionary()\n",
    "train_total_for_Phi00_dictionary.load_text('train_total_for_Phi00_dictionary.txt')"
   ]
  },
  {
   "cell_type": "code",
   "execution_count": 18,
   "metadata": {},
   "outputs": [],
   "source": [
    "file = open('dictionary_train_total_without_d1.txt', 'w')\n",
    "for token in train_total_without_d1_dict:\n",
    "    file.write(token + '\\n')\n",
    "file.close()\n",
    "\n",
    "dictionary_train_total_without_d1 = artm.Dictionary()\n",
    "dictionary_train_total_without_d1.gather(data_path='./train_total_batches',\n",
    "                                         vocab_file_path='dictionary_train_total_without_d1.txt')"
   ]
  },
  {
   "cell_type": "code",
   "execution_count": 19,
   "metadata": {},
   "outputs": [],
   "source": [
    "train_total_vocabulary = train_d0_dict_ngram + train_total_without_d0_dict_ngram + train_d0_dict_info + train_total_without_d0_dict_info + ['0', '1']\n",
    "vocab_file = open('train_total_vocabulary.txt', 'w')\n",
    "for token in train_total_vocabulary:\n",
    "    vocab_file.write(token + '\\n')\n",
    "vocab_file.close()\n",
    "\n",
    "train_total_dictionary = artm.Dictionary()\n",
    "train_total_dictionary.gather(data_path='./train_total_batches',\n",
    "                              vocab_file_path='./train_total_vocabulary')"
   ]
  },
  {
   "cell_type": "code",
   "execution_count": 20,
   "metadata": {},
   "outputs": [],
   "source": [
    "dataset = Dataset('preprocessed_data_for_TopicNet.csv')"
   ]
  },
  {
   "cell_type": "code",
   "execution_count": 21,
   "metadata": {},
   "outputs": [],
   "source": [
    "test_total_batch_vectorizer=artm.BatchVectorizer(data_path='vw_documents_test_total.txt',\n",
    "                                                 data_format='vowpal_wabbit',\n",
    "                                                 batch_size = 10000,\n",
    "                                                 target_folder='./test_total_batches')\n",
    "\n",
    "test_total_dictionary = test_total_batch_vectorizer.dictionary"
   ]
  },
  {
   "cell_type": "code",
   "execution_count": 22,
   "metadata": {},
   "outputs": [],
   "source": [
    "#np.random.seed(288)\n",
    "np.random.seed(42)\n",
    "\n",
    "num_not_sp = 3\n",
    "num_sp = 6\n",
    "\n",
    "not_specific_topics = ['topic_{}'.format(i) for i in range(num_not_sp)]\n",
    "specific_topics = ['topic_{}'.format(i+num_not_sp) for i in range(num_sp)]\n",
    "\n",
    "# составим матрицу Фи\n",
    "# для @ngram\n",
    "# задаю phi_00 рандомно, а не по model_d0 только потому, что потом phi_00 переопределяется через model_00\n",
    "phi_00 = pd.DataFrame(data=np.random.uniform(0, 0.1, size=(len(train_d0_dict_ngram), len(not_specific_topics))),\n",
    "                      index=train_d0_dict_ngram,\n",
    "                      columns=not_specific_topics)\n",
    "phi_10 = pd.DataFrame(data=np.zeros((len(train_total_without_d0_dict_ngram), phi_00.columns.shape[0])),\n",
    "                      index=train_total_without_d0_dict_ngram,\n",
    "                      columns=phi_00.columns)\n",
    "phi_01 = pd.DataFrame(data=np.random.uniform(0, 0.01, size=(phi_00.index.shape[0], len(specific_topics))),\n",
    "                      index=phi_00.index,\n",
    "                      columns=specific_topics)\n",
    "phi_11 = pd.DataFrame(data=np.random.uniform(0, 1, size=(phi_10.index.shape[0], len(specific_topics))),\n",
    "                      index=phi_10.index,\n",
    "                      columns=specific_topics)\n",
    "phi_1 = phi_01.append(phi_11)\n",
    "phi_1 = phi_01.append(phi_11)\n",
    "for column in phi_1.columns:\n",
    "    phi_1[column] = phi_1[column].apply(lambda item: item/phi_1[column].sum())\n",
    "\n",
    "#для @info\n",
    "phi_00_info = pd.DataFrame(data=np.random.uniform(0, 0.1, size=(len(train_d0_dict_info), len(not_specific_topics))),\n",
    "                      index=train_d0_dict_info,\n",
    "                      columns=not_specific_topics)\n",
    "phi_10_info = pd.DataFrame(data=np.zeros((len(train_total_without_d0_dict_info), phi_00.columns.shape[0])),\n",
    "                           index=train_total_without_d0_dict_info,\n",
    "                           columns=phi_00.columns)\n",
    "phi_01_info = pd.DataFrame(data=np.random.uniform(0, 0.01, size=(phi_00_info.index.shape[0], len(specific_topics))),\n",
    "                           index=phi_00_info.index,\n",
    "                           columns=specific_topics)\n",
    "phi_11_info = pd.DataFrame(data=np.random.uniform(0, 1, size=(phi_10_info.index.shape[0], len(specific_topics))),\n",
    "                           index=phi_10_info.index,\n",
    "                           columns=specific_topics)\n",
    "phi_1_info = phi_01_info.append(phi_11_info)\n",
    "for column in phi_1_info.columns:\n",
    "    phi_1_info[column] = phi_1_info[column].apply(lambda item: item/phi_1_info[column].sum())\n",
    "\n",
    "#для @specifisity\n",
    "c_00 = pd.DataFrame(data=np.ones((1, phi_00.columns.shape[0])),\n",
    "                      index=['0'],\n",
    "                      columns=phi_00.columns)\n",
    "c_10 = pd.DataFrame(data=np.zeros((1, phi_00.columns.shape[0])),\n",
    "                      index=['1'],\n",
    "                      columns=phi_00.columns)\n",
    "c_01 = pd.DataFrame(data=np.zeros((1, phi_01.columns.shape[0])),\n",
    "                      index=['0'],\n",
    "                      columns=phi_01.columns)\n",
    "c_11 = pd.DataFrame(data=np.ones((1, phi_01.columns.shape[0])),\n",
    "                      index=['1'],\n",
    "                      columns=phi_01.columns)\n",
    "\n",
    "phi_specifisity = pd.concat([c_00.append(c_10), c_01.append(c_11)], axis=1)"
   ]
  },
  {
   "cell_type": "markdown",
   "metadata": {},
   "source": [
    "## ПОДБИРАЕМ ПО СЕТКЕ ПАРАМЕТРЫ МОДЕЛИ"
   ]
  },
  {
   "cell_type": "code",
   "execution_count": 23,
   "metadata": {
    "scrolled": true
   },
   "outputs": [
    {
     "name": "stdout",
     "output_type": "stream",
     "text": [
      "0\n",
      "weight_ngram 9.2\n",
      "weight_info 1.1\n",
      "weight_specificity 96\n",
      "tau_Smooth_Phi00_ngram 5\n",
      "tau_Smooth_Phi00_info 350\n",
      "tau_Smooth_Phi00_specificity 0\n",
      "max_roc_auc 0.8514177780216965\n",
      "precision 0.7219251336898396\n",
      "recall 0.8120300751879699\n",
      "accuracy 0.7760591795561533\n"
     ]
    }
   ],
   "source": [
    "max_roc_auc = 0\n",
    "\n",
    "num_not_sp = 3\n",
    "num_sp = 6\n",
    "\n",
    "phi_specifisity = pd.concat([c_00.append(c_10), c_01.append(c_11)], axis=1)\n",
    "\n",
    "scores_name = ['tau_Smooth_Phi00_ngram', 'tau_Smooth_Phi00_info',\n",
    "               'tau_Smooth_Phi00_specificity', 'num_not_sp', 'num_sp',\n",
    "               'weight_ngram', 'weight_info', 'weight_specificity',\n",
    "               'roc_auc', 'precision', 'recall', 'accuracy']\n",
    "\n",
    "metrics = pd.DataFrame(columns=scores_name)\n",
    "NUM_NOT_SPECIFIC_TOPICS = [3]\n",
    "NUM_SPECIFIC_TOPICS = [6]\n",
    "#grid_weight_ngram = [9]\n",
    "grid_weight_ngram = [9.2]\n",
    "grid_weight_info = [1.1]\n",
    "grid_weight_specificity = [96]\n",
    "grid_Smooth_Phi00_ngram = [5]\n",
    "grid_Smooth_Phi00_info = [350]\n",
    "grid_Smooth_Phi00_specificity = [0]\n",
    "\n",
    "param_index = pd.DataFrame(columns=['tau_Smooth_Phi00_ngram', 'tau_Smooth_Phi00_info',\n",
    "                                    'tau_Smooth_Phi00_specificity', 'num_not_sp', 'num_sp', 'weight_ngram',\n",
    "                                    'weight_info', 'weight_specificity'])\n",
    "index=0\n",
    "x_0 = []\n",
    "y_0 = []\n",
    "y_pred_proba_0 = []\n",
    "T_0 = []\n",
    "\n",
    "for tau_Smooth_Phi00_ngram in grid_Smooth_Phi00_ngram:\n",
    "    for tau_Smooth_Phi00_info in grid_Smooth_Phi00_info:\n",
    "        for tau_Smooth_Phi00_specificity in grid_Smooth_Phi00_specificity:\n",
    "            for num_not_sp in NUM_NOT_SPECIFIC_TOPICS:\n",
    "                for num_sp in NUM_SPECIFIC_TOPICS:\n",
    "                    for weight_ngram in grid_weight_ngram:\n",
    "                        for weight_info in grid_weight_info:\n",
    "                            for weight_specificity in grid_weight_specificity:\n",
    "                                param_index.loc[index] = [tau_Smooth_Phi00_ngram, tau_Smooth_Phi00_info, tau_Smooth_Phi00_specificity, num_not_sp, num_sp, weight_ngram, weight_info, weight_specificity]\n",
    "\n",
    "                                print(index)\n",
    "                                model_d0 = artm.ARTM(num_topics=num_not_sp,\n",
    "                                                     num_processors=7,\n",
    "                                                     theta_columns_naming='title',\n",
    "                                                     class_ids={'@ngram':weight_ngram,\n",
    "                                                             '@info':weight_info,\n",
    "                                                             '@specificity':weight_specificity},\n",
    "                                                     cache_theta=False,\n",
    "                                                     seed=42,\n",
    "                                                     dictionary=train_total_dictionary)\n",
    "\n",
    "                                model_d0.scores.add(artm.PerplexityScore(name='PerlexityScore_ngram', class_ids=['@ngram']))\n",
    "                                model_d0.scores.add(artm.PerplexityScore(name='PerlexityScore_info', class_ids=['@info']))\n",
    "                                model_d0.scores.add(artm.PerplexityScore(name='PerlexityScore_specificity', class_ids=['@specificity']))\n",
    "                                model_d0.scores.add(artm.SparsityPhiScore(name='SparsityPhiScore_ngram', class_id='@ngram'))\n",
    "                                model_d0.scores.add(artm.SparsityPhiScore(name='SparsityPhiScore_info', class_id='@info'))\n",
    "                                model_d0.scores.add(artm.SparsityThetaScore(name='SparsityThetaScore'))\n",
    "                                model_d0.scores.add(artm.TopTokensScore(name='TopTokensScore', num_tokens=10, class_id='@ngram'))\n",
    "                                model_d0.scores.add(artm.BackgroundTokensRatioScore(name='BackgroundTokensRatioScore',\n",
    "                                                                                    class_id='@ngram'))\n",
    "\n",
    "                                model_d0.fit_offline(batch_vectorizer=train_d0_batch_vectorizer, num_collection_passes=20)\n",
    "\n",
    "#                                 topic_model = TopicModel(model_d0)\n",
    "#                                 not_specific_topics = model_d0.topic_names\n",
    "#                                 specific_topics = ['topic_{}'.format(i+num_not_sp) for i in range(num_sp)]\n",
    "                                topic_names = not_specific_topics + specific_topics\n",
    "\n",
    "                                 # составим матрицу Фи\n",
    "                                 # для @ngram\n",
    "                                phi_00 = model_d0.get_phi().loc[train_d0_dict_ngram]\n",
    "                                phi_ngram = pd.concat([phi_00.append(phi_10), phi_1], axis=1)\n",
    "\n",
    "                                 #для @info\n",
    "                                phi_00_info = model_d0.get_phi().loc[train_d0_dict_info]\n",
    "                                phi_info = pd.concat([phi_00_info.append(phi_10_info), phi_1_info], axis=1)\n",
    "\n",
    "                                 #для @specifisity\n",
    "                                new_phi = phi_ngram.append(phi_info).append(phi_specifisity)\n",
    "\n",
    "                                ### Создадим модель\n",
    "\n",
    "                                model = artm.ARTM(num_topics=len(topic_names),\n",
    "                                                  num_processors=7,\n",
    "                                                  theta_columns_naming='title',\n",
    "                                                  #show_progress_bars=True,\n",
    "                                                  class_ids={'@ngram':weight_ngram,\n",
    "                                                             '@info':weight_info,\n",
    "                                                             '@specificity':weight_specificity},\n",
    "                                                  cache_theta=True,\n",
    "                                                  seed=42,\n",
    "                                                  dictionary=train_total_dictionary)\n",
    "\n",
    "                                new_best_phi = pd.DataFrame(columns = topic_names)\n",
    "                                for token in model.get_phi().index:\n",
    "                                    new_best_phi.loc[token] = new_phi.loc[token]\n",
    "\n",
    "                                (_, phi_ref) = model.master.attach_model(model=model.model_pwt)\n",
    "                                np.copyto(phi_ref, new_best_phi.values)\n",
    "\n",
    "                                model.scores.add(artm.PerplexityScore(name='PerlexityScore_ngram', class_ids=['@ngram']))\n",
    "                                model.scores.add(artm.PerplexityScore(name='PerlexityScore_info', class_ids=['@info']))\n",
    "                                model.scores.add(artm.PerplexityScore(name='PerlexityScore_specificity', class_ids=['@specificity']))\n",
    "                                model.scores.add(artm.SparsityPhiScore(name='SparsityPhiScore_ngram', class_id='@ngram'))\n",
    "                                model.scores.add(artm.SparsityPhiScore(name='SparsityPhiScore_info', class_id='@info'))\n",
    "                                model.scores.add(artm.SparsityThetaScore(name='SparsityThetaScore'))\n",
    "                                model.scores.add(artm.TopTokensScore(name='TopTokensScore', num_tokens=10, class_id='@ngram'))\n",
    "                                model.scores.add(artm.BackgroundTokensRatioScore(name='BackgroundTokensRatioScore',\n",
    "                                                                                    class_id='@ngram'))\n",
    "\n",
    "                                # Сглаживание Ф00\n",
    "\n",
    "                                model.regularizers.add(artm.SmoothSparsePhiRegularizer(name='Smooth_Phi00_Regularizer_ngram',\n",
    "                                                                                       tau = tau_Smooth_Phi00_ngram,\n",
    "                                                                                       class_ids = ['@ngram'],\n",
    "                                                                                       topic_names=not_specific_topics,\n",
    "                                                                                       #dictionary=train_total_for_Phi00_dictionary))\n",
    "                                                                                       dictionary=train_d0_dictionary))\n",
    "\n",
    "                                model.regularizers.add(artm.SmoothSparsePhiRegularizer(name='Smooth_Phi00_Regularizer_info',\n",
    "                                                                                       tau = tau_Smooth_Phi00_info,\n",
    "                                                                                       class_ids = ['@info'],\n",
    "                                                                                       topic_names=not_specific_topics,\n",
    "                                                                                       #dictionary=train_total_for_Phi00_dictionary))\n",
    "                                                                                       dictionary=train_d0_dictionary))\n",
    "\n",
    "                                model.regularizers.add(artm.SmoothSparsePhiRegularizer(name='Smooth_Phi00_Regularizer_specificity',\n",
    "                                                                                       tau = tau_Smooth_Phi00_specificity,\n",
    "                                                                                       class_ids = ['@specificity'],\n",
    "                                                                                       topic_names=not_specific_topics,\n",
    "                                                                                       dictionary=train_d0_dictionary))\n",
    "\n",
    "                                model.fit_offline(batch_vectorizer=train_total_batch_vectorizer, num_collection_passes=20)\n",
    "\n",
    "                                theta_test = model.transform(batch_vectorizer=test_total_batch_vectorizer)\n",
    "                                p_cd_test = model.transform(batch_vectorizer=test_total_batch_vectorizer,\n",
    "                                                            predict_class_id='@specificity')\n",
    "\n",
    "                                y_pred_proba = p_cd_test.loc['1']\n",
    "                                fpr, tpr, thresholds = roc_curve(y_test, y_pred_proba)\n",
    "\n",
    "                                dist_min = math.inf\n",
    "                                for x, y, treshold in zip(fpr, tpr, thresholds):\n",
    "                                    if euclidean([0, 1], [x, y]) < dist_min:\n",
    "                                        T_artm = treshold\n",
    "                                        dist_min = euclidean([0, 1], [x, y])\n",
    "                                        x_artm = x\n",
    "                                        y_artm = y\n",
    "\n",
    "                                y_pred_labels = []\n",
    "                                for document in p_cd_test.columns:\n",
    "                                    if p_cd_test[document].loc['1'] >= T_artm:\n",
    "                                        y_pred_labels.append(1)\n",
    "                                    else:\n",
    "                                        y_pred_labels.append(0)\n",
    "\n",
    "                                roc_auc = roc_auc_score(y_test, p_cd_test.loc['1'])\n",
    "                                precision = precision_score(y_test, y_pred_labels)\n",
    "                                recall = recall_score(y_test, y_pred_labels)\n",
    "                                accuracy = accuracy_score(y_test, y_pred_labels)\n",
    "\n",
    "                                x_0.append(x_artm)\n",
    "                                y_0.append(y_artm)\n",
    "                                y_pred_proba_0.append(y_pred_proba)\n",
    "                                T_0.append(T_artm)\n",
    "\n",
    "                                topic_model = TopicModel(model)\n",
    "                                param_index.loc[index] = [tau_Smooth_Phi00_ngram, tau_Smooth_Phi00_info, tau_Smooth_Phi00_specificity, num_not_sp, num_sp, weight_ngram, weight_info, weight_specificity]\n",
    "                                metrics.loc[index] = [tau_Smooth_Phi00_ngram, tau_Smooth_Phi00_info, tau_Smooth_Phi00_specificity, num_not_sp, num_sp, weight_ngram, weight_info, weight_specificity, roc_auc, precision, recall, accuracy]     \n",
    "                                #print(metrics.loc[index])             \n",
    "                                model.remove_theta()\n",
    "                                model.dispose()\n",
    "\n",
    "                                if roc_auc >= max_roc_auc:\n",
    "                                    max_roc_auc = roc_auc\n",
    "                                    print('weight_ngram', weight_ngram)\n",
    "                                    print('weight_info', weight_info)\n",
    "                                    print('weight_specificity', weight_specificity)\n",
    "                                    print('tau_Smooth_Phi00_ngram', tau_Smooth_Phi00_ngram)\n",
    "                                    print('tau_Smooth_Phi00_info', tau_Smooth_Phi00_info)\n",
    "                                    print('tau_Smooth_Phi00_specificity', tau_Smooth_Phi00_specificity)\n",
    "                                    print('max_roc_auc', max_roc_auc)\n",
    "                                    print('precision', precision)\n",
    "                                    print('recall', recall)\n",
    "                                    print('accuracy', accuracy)\n",
    "                                index += 1"
   ]
  },
  {
   "cell_type": "code",
   "execution_count": 24,
   "metadata": {
    "scrolled": false
   },
   "outputs": [
    {
     "data": {
      "text/html": [
       "<div>\n",
       "<style scoped>\n",
       "    .dataframe tbody tr th:only-of-type {\n",
       "        vertical-align: middle;\n",
       "    }\n",
       "\n",
       "    .dataframe tbody tr th {\n",
       "        vertical-align: top;\n",
       "    }\n",
       "\n",
       "    .dataframe thead th {\n",
       "        text-align: right;\n",
       "    }\n",
       "</style>\n",
       "<table border=\"1\" class=\"dataframe\">\n",
       "  <thead>\n",
       "    <tr style=\"text-align: right;\">\n",
       "      <th></th>\n",
       "      <th>tau_Smooth_Phi00_ngram</th>\n",
       "      <th>tau_Smooth_Phi00_info</th>\n",
       "      <th>tau_Smooth_Phi00_specificity</th>\n",
       "      <th>num_not_sp</th>\n",
       "      <th>num_sp</th>\n",
       "      <th>weight_ngram</th>\n",
       "      <th>weight_info</th>\n",
       "      <th>weight_specificity</th>\n",
       "      <th>roc_auc</th>\n",
       "      <th>precision</th>\n",
       "      <th>recall</th>\n",
       "      <th>accuracy</th>\n",
       "    </tr>\n",
       "  </thead>\n",
       "  <tbody>\n",
       "    <tr>\n",
       "      <th>0</th>\n",
       "      <td>5.0</td>\n",
       "      <td>350.0</td>\n",
       "      <td>0.0</td>\n",
       "      <td>3.0</td>\n",
       "      <td>6.0</td>\n",
       "      <td>9.2</td>\n",
       "      <td>1.1</td>\n",
       "      <td>96.0</td>\n",
       "      <td>0.851418</td>\n",
       "      <td>0.721925</td>\n",
       "      <td>0.81203</td>\n",
       "      <td>0.776059</td>\n",
       "    </tr>\n",
       "  </tbody>\n",
       "</table>\n",
       "</div>"
      ],
      "text/plain": [
       "   tau_Smooth_Phi00_ngram  tau_Smooth_Phi00_info  \\\n",
       "0                     5.0                  350.0   \n",
       "\n",
       "   tau_Smooth_Phi00_specificity  num_not_sp  num_sp  weight_ngram  \\\n",
       "0                           0.0         3.0     6.0           9.2   \n",
       "\n",
       "   weight_info  weight_specificity   roc_auc  precision   recall  accuracy  \n",
       "0          1.1                96.0  0.851418   0.721925  0.81203  0.776059  "
      ]
     },
     "execution_count": 24,
     "metadata": {},
     "output_type": "execute_result"
    }
   ],
   "source": [
    "metrics"
   ]
  },
  {
   "cell_type": "code",
   "execution_count": 25,
   "metadata": {},
   "outputs": [],
   "source": [
    "indecies = []\n",
    "for num in metrics.index:\n",
    "    if metrics['roc_auc'].loc[num] > 0.86:\n",
    "        indecies.append(num)"
   ]
  },
  {
   "cell_type": "code",
   "execution_count": 26,
   "metadata": {},
   "outputs": [
    {
     "data": {
      "text/plain": [
       "nan"
      ]
     },
     "execution_count": 26,
     "metadata": {},
     "output_type": "execute_result"
    }
   ],
   "source": [
    "metrics['roc_auc'].loc[indecies].max()"
   ]
  },
  {
   "cell_type": "code",
   "execution_count": 27,
   "metadata": {},
   "outputs": [
    {
     "data": {
      "text/html": [
       "<div>\n",
       "<style scoped>\n",
       "    .dataframe tbody tr th:only-of-type {\n",
       "        vertical-align: middle;\n",
       "    }\n",
       "\n",
       "    .dataframe tbody tr th {\n",
       "        vertical-align: top;\n",
       "    }\n",
       "\n",
       "    .dataframe thead th {\n",
       "        text-align: right;\n",
       "    }\n",
       "</style>\n",
       "<table border=\"1\" class=\"dataframe\">\n",
       "  <thead>\n",
       "    <tr style=\"text-align: right;\">\n",
       "      <th></th>\n",
       "      <th>tau_Smooth_Phi00_ngram</th>\n",
       "      <th>tau_Smooth_Phi00_info</th>\n",
       "      <th>tau_Smooth_Phi00_specificity</th>\n",
       "      <th>num_not_sp</th>\n",
       "      <th>num_sp</th>\n",
       "      <th>weight_ngram</th>\n",
       "      <th>weight_info</th>\n",
       "      <th>weight_specificity</th>\n",
       "      <th>roc_auc</th>\n",
       "      <th>precision</th>\n",
       "      <th>recall</th>\n",
       "      <th>accuracy</th>\n",
       "    </tr>\n",
       "  </thead>\n",
       "  <tbody>\n",
       "  </tbody>\n",
       "</table>\n",
       "</div>"
      ],
      "text/plain": [
       "Empty DataFrame\n",
       "Columns: [tau_Smooth_Phi00_ngram, tau_Smooth_Phi00_info, tau_Smooth_Phi00_specificity, num_not_sp, num_sp, weight_ngram, weight_info, weight_specificity, roc_auc, precision, recall, accuracy]\n",
       "Index: []"
      ]
     },
     "execution_count": 27,
     "metadata": {},
     "output_type": "execute_result"
    }
   ],
   "source": [
    "metrics.loc[indecies]"
   ]
  },
  {
   "cell_type": "code",
   "execution_count": 28,
   "metadata": {},
   "outputs": [
    {
     "data": {
      "text/plain": [
       "Series([], Name: roc_auc, dtype: bool)"
      ]
     },
     "execution_count": 28,
     "metadata": {},
     "output_type": "execute_result"
    }
   ],
   "source": [
    "metrics['roc_auc'].loc[indecies] == metrics['roc_auc'].loc[indecies].max()"
   ]
  },
  {
   "cell_type": "code",
   "execution_count": 29,
   "metadata": {},
   "outputs": [
    {
     "data": {
      "text/html": [
       "<div>\n",
       "<style scoped>\n",
       "    .dataframe tbody tr th:only-of-type {\n",
       "        vertical-align: middle;\n",
       "    }\n",
       "\n",
       "    .dataframe tbody tr th {\n",
       "        vertical-align: top;\n",
       "    }\n",
       "\n",
       "    .dataframe thead th {\n",
       "        text-align: right;\n",
       "    }\n",
       "</style>\n",
       "<table border=\"1\" class=\"dataframe\">\n",
       "  <thead>\n",
       "    <tr style=\"text-align: right;\">\n",
       "      <th></th>\n",
       "      <th>tau_Smooth_Phi00_ngram</th>\n",
       "      <th>tau_Smooth_Phi00_info</th>\n",
       "      <th>tau_Smooth_Phi00_specificity</th>\n",
       "      <th>num_not_sp</th>\n",
       "      <th>num_sp</th>\n",
       "      <th>weight_ngram</th>\n",
       "      <th>weight_info</th>\n",
       "      <th>weight_specificity</th>\n",
       "    </tr>\n",
       "  </thead>\n",
       "  <tbody>\n",
       "  </tbody>\n",
       "</table>\n",
       "</div>"
      ],
      "text/plain": [
       "Empty DataFrame\n",
       "Columns: [tau_Smooth_Phi00_ngram, tau_Smooth_Phi00_info, tau_Smooth_Phi00_specificity, num_not_sp, num_sp, weight_ngram, weight_info, weight_specificity]\n",
       "Index: []"
      ]
     },
     "execution_count": 29,
     "metadata": {},
     "output_type": "execute_result"
    }
   ],
   "source": [
    "param_index.loc[indecies]"
   ]
  },
  {
   "cell_type": "code",
   "execution_count": 30,
   "metadata": {
    "scrolled": true
   },
   "outputs": [],
   "source": [
    "metric_name = 'tau_Smooth_Phi00_info'\n",
    "file = open('./tables/total_with_model_d0_{}.txt'.format(metric_name), 'w')\n",
    "file.write(metrics[[metric_name, 'roc_auc', 'precision', 'recall', 'accuracy']].to_latex())\n",
    "file.close()"
   ]
  },
  {
   "cell_type": "code",
   "execution_count": 31,
   "metadata": {
    "scrolled": true
   },
   "outputs": [
    {
     "data": {
      "image/png": "[encoded data removed]",
      "text/plain": [
       "<Figure size 345.6x345.6 with 1 Axes>"
      ]
     },
     "metadata": {
      "needs_background": "light"
     },
     "output_type": "display_data"
    }
   ],
   "source": [
    "fig, ax = plt.subplots(figsize=[4.8, 4.8])\n",
    "for x, y, actual, predicted, descr in zip(x_0, y_0,\n",
    "                                          [y_test for i in range(len(x_0))], \n",
    "                                          y_pred_proba_0,\n",
    "                                          ['{}'.format(metrics[metric_name].loc[i]) for i in range(metrics.shape[0])]):\n",
    "    fpr, tpr, thr = roc_curve(actual, predicted)\n",
    "    ax.plot(fpr, tpr, label=descr)\n",
    "    ax.scatter(x, y)\n",
    "ax.set_xlabel(\"false positive rate\")\n",
    "ax.set_ylabel(\"true positive rate\")\n",
    "ax.set_title('Выбор параметра {}'.format(metric_name))\n",
    "ax.legend(loc=4)\n",
    "plt.grid(axis = 'both')\n",
    "plt.axis([-0.1, 1.1, -0.1, 1.1])\n",
    "fig.savefig('./images/total_with_model_d0_{} ROC кривая.pdf'.format(metric_name))\n",
    "fig.savefig('./images/total_with_model_d0_{} ROC кривая.png'.format(metric_name))"
   ]
  },
  {
   "cell_type": "markdown",
   "metadata": {},
   "source": [
    "# Построим лучшую модель c лучшими параметрами"
   ]
  },
  {
   "cell_type": "code",
   "execution_count": 32,
   "metadata": {},
   "outputs": [],
   "source": [
    "num_not_sp = 3\n",
    "num_sp = 6\n",
    "weight_ngram = 9.2\n",
    "weight_info = 1.1\n",
    "weight_specificity = 96\n",
    "tau_Smooth_Phi00_ngram = 5\n",
    "tau_Smooth_Phi00_info = 350\n",
    "tau_Smooth_Phi00_specificity = 0"
   ]
  },
  {
   "cell_type": "code",
   "execution_count": 33,
   "metadata": {},
   "outputs": [
    {
     "data": {
      "application/vnd.jupyter.widget-view+json": {
       "model_id": "37435c99ed074019aa8b5f288f029e64",
       "version_major": 2,
       "version_minor": 0
      },
      "text/plain": [
       "HBox(children=(FloatProgress(value=0.0, description='Pass', max=40.0, style=ProgressStyle(description_width='i…"
      ]
     },
     "metadata": {},
     "output_type": "display_data"
    },
    {
     "data": {
      "application/vnd.jupyter.widget-view+json": {
       "model_id": "",
       "version_major": 2,
       "version_minor": 0
      },
      "text/plain": [
       "HBox(children=(FloatProgress(value=0.0, description='Batch', max=1.0, style=ProgressStyle(description_width='i…"
      ]
     },
     "metadata": {},
     "output_type": "display_data"
    },
    {
     "data": {
      "application/vnd.jupyter.widget-view+json": {
       "model_id": "",
       "version_major": 2,
       "version_minor": 0
      },
      "text/plain": [
       "HBox(children=(FloatProgress(value=0.0, description='Batch', max=1.0, style=ProgressStyle(description_width='i…"
      ]
     },
     "metadata": {},
     "output_type": "display_data"
    },
    {
     "data": {
      "application/vnd.jupyter.widget-view+json": {
       "model_id": "",
       "version_major": 2,
       "version_minor": 0
      },
      "text/plain": [
       "HBox(children=(FloatProgress(value=0.0, description='Batch', max=1.0, style=ProgressStyle(description_width='i…"
      ]
     },
     "metadata": {},
     "output_type": "display_data"
    },
    {
     "data": {
      "application/vnd.jupyter.widget-view+json": {
       "model_id": "",
       "version_major": 2,
       "version_minor": 0
      },
      "text/plain": [
       "HBox(children=(FloatProgress(value=0.0, description='Batch', max=1.0, style=ProgressStyle(description_width='i…"
      ]
     },
     "metadata": {},
     "output_type": "display_data"
    },
    {
     "data": {
      "application/vnd.jupyter.widget-view+json": {
       "model_id": "",
       "version_major": 2,
       "version_minor": 0
      },
      "text/plain": [
       "HBox(children=(FloatProgress(value=0.0, description='Batch', max=1.0, style=ProgressStyle(description_width='i…"
      ]
     },
     "metadata": {},
     "output_type": "display_data"
    },
    {
     "data": {
      "application/vnd.jupyter.widget-view+json": {
       "model_id": "",
       "version_major": 2,
       "version_minor": 0
      },
      "text/plain": [
       "HBox(children=(FloatProgress(value=0.0, description='Batch', max=1.0, style=ProgressStyle(description_width='i…"
      ]
     },
     "metadata": {},
     "output_type": "display_data"
    },
    {
     "data": {
      "application/vnd.jupyter.widget-view+json": {
       "model_id": "",
       "version_major": 2,
       "version_minor": 0
      },
      "text/plain": [
       "HBox(children=(FloatProgress(value=0.0, description='Batch', max=1.0, style=ProgressStyle(description_width='i…"
      ]
     },
     "metadata": {},
     "output_type": "display_data"
    },
    {
     "data": {
      "application/vnd.jupyter.widget-view+json": {
       "model_id": "",
       "version_major": 2,
       "version_minor": 0
      },
      "text/plain": [
       "HBox(children=(FloatProgress(value=0.0, description='Batch', max=1.0, style=ProgressStyle(description_width='i…"
      ]
     },
     "metadata": {},
     "output_type": "display_data"
    },
    {
     "data": {
      "application/vnd.jupyter.widget-view+json": {
       "model_id": "",
       "version_major": 2,
       "version_minor": 0
      },
      "text/plain": [
       "HBox(children=(FloatProgress(value=0.0, description='Batch', max=1.0, style=ProgressStyle(description_width='i…"
      ]
     },
     "metadata": {},
     "output_type": "display_data"
    },
    {
     "data": {
      "application/vnd.jupyter.widget-view+json": {
       "model_id": "",
       "version_major": 2,
       "version_minor": 0
      },
      "text/plain": [
       "HBox(children=(FloatProgress(value=0.0, description='Batch', max=1.0, style=ProgressStyle(description_width='i…"
      ]
     },
     "metadata": {},
     "output_type": "display_data"
    },
    {
     "data": {
      "application/vnd.jupyter.widget-view+json": {
       "model_id": "",
       "version_major": 2,
       "version_minor": 0
      },
      "text/plain": [
       "HBox(children=(FloatProgress(value=0.0, description='Batch', max=1.0, style=ProgressStyle(description_width='i…"
      ]
     },
     "metadata": {},
     "output_type": "display_data"
    },
    {
     "data": {
      "application/vnd.jupyter.widget-view+json": {
       "model_id": "",
       "version_major": 2,
       "version_minor": 0
      },
      "text/plain": [
       "HBox(children=(FloatProgress(value=0.0, description='Batch', max=1.0, style=ProgressStyle(description_width='i…"
      ]
     },
     "metadata": {},
     "output_type": "display_data"
    },
    {
     "data": {
      "application/vnd.jupyter.widget-view+json": {
       "model_id": "",
       "version_major": 2,
       "version_minor": 0
      },
      "text/plain": [
       "HBox(children=(FloatProgress(value=0.0, description='Batch', max=1.0, style=ProgressStyle(description_width='i…"
      ]
     },
     "metadata": {},
     "output_type": "display_data"
    },
    {
     "data": {
      "application/vnd.jupyter.widget-view+json": {
       "model_id": "",
       "version_major": 2,
       "version_minor": 0
      },
      "text/plain": [
       "HBox(children=(FloatProgress(value=0.0, description='Batch', max=1.0, style=ProgressStyle(description_width='i…"
      ]
     },
     "metadata": {},
     "output_type": "display_data"
    },
    {
     "data": {
      "application/vnd.jupyter.widget-view+json": {
       "model_id": "",
       "version_major": 2,
       "version_minor": 0
      },
      "text/plain": [
       "HBox(children=(FloatProgress(value=0.0, description='Batch', max=1.0, style=ProgressStyle(description_width='i…"
      ]
     },
     "metadata": {},
     "output_type": "display_data"
    },
    {
     "data": {
      "application/vnd.jupyter.widget-view+json": {
       "model_id": "",
       "version_major": 2,
       "version_minor": 0
      },
      "text/plain": [
       "HBox(children=(FloatProgress(value=0.0, description='Batch', max=1.0, style=ProgressStyle(description_width='i…"
      ]
     },
     "metadata": {},
     "output_type": "display_data"
    },
    {
     "data": {
      "application/vnd.jupyter.widget-view+json": {
       "model_id": "",
       "version_major": 2,
       "version_minor": 0
      },
      "text/plain": [
       "HBox(children=(FloatProgress(value=0.0, description='Batch', max=1.0, style=ProgressStyle(description_width='i…"
      ]
     },
     "metadata": {},
     "output_type": "display_data"
    },
    {
     "data": {
      "application/vnd.jupyter.widget-view+json": {
       "model_id": "",
       "version_major": 2,
       "version_minor": 0
      },
      "text/plain": [
       "HBox(children=(FloatProgress(value=0.0, description='Batch', max=1.0, style=ProgressStyle(description_width='i…"
      ]
     },
     "metadata": {},
     "output_type": "display_data"
    },
    {
     "data": {
      "application/vnd.jupyter.widget-view+json": {
       "model_id": "",
       "version_major": 2,
       "version_minor": 0
      },
      "text/plain": [
       "HBox(children=(FloatProgress(value=0.0, description='Batch', max=1.0, style=ProgressStyle(description_width='i…"
      ]
     },
     "metadata": {},
     "output_type": "display_data"
    },
    {
     "data": {
      "application/vnd.jupyter.widget-view+json": {
       "model_id": "",
       "version_major": 2,
       "version_minor": 0
      },
      "text/plain": [
       "HBox(children=(FloatProgress(value=0.0, description='Batch', max=1.0, style=ProgressStyle(description_width='i…"
      ]
     },
     "metadata": {},
     "output_type": "display_data"
    },
    {
     "data": {
      "application/vnd.jupyter.widget-view+json": {
       "model_id": "",
       "version_major": 2,
       "version_minor": 0
      },
      "text/plain": [
       "HBox(children=(FloatProgress(value=0.0, description='Batch', max=1.0, style=ProgressStyle(description_width='i…"
      ]
     },
     "metadata": {},
     "output_type": "display_data"
    },
    {
     "data": {
      "application/vnd.jupyter.widget-view+json": {
       "model_id": "",
       "version_major": 2,
       "version_minor": 0
      },
      "text/plain": [
       "HBox(children=(FloatProgress(value=0.0, description='Batch', max=1.0, style=ProgressStyle(description_width='i…"
      ]
     },
     "metadata": {},
     "output_type": "display_data"
    },
    {
     "data": {
      "application/vnd.jupyter.widget-view+json": {
       "model_id": "",
       "version_major": 2,
       "version_minor": 0
      },
      "text/plain": [
       "HBox(children=(FloatProgress(value=0.0, description='Batch', max=1.0, style=ProgressStyle(description_width='i…"
      ]
     },
     "metadata": {},
     "output_type": "display_data"
    },
    {
     "data": {
      "application/vnd.jupyter.widget-view+json": {
       "model_id": "",
       "version_major": 2,
       "version_minor": 0
      },
      "text/plain": [
       "HBox(children=(FloatProgress(value=0.0, description='Batch', max=1.0, style=ProgressStyle(description_width='i…"
      ]
     },
     "metadata": {},
     "output_type": "display_data"
    },
    {
     "data": {
      "application/vnd.jupyter.widget-view+json": {
       "model_id": "",
       "version_major": 2,
       "version_minor": 0
      },
      "text/plain": [
       "HBox(children=(FloatProgress(value=0.0, description='Batch', max=1.0, style=ProgressStyle(description_width='i…"
      ]
     },
     "metadata": {},
     "output_type": "display_data"
    },
    {
     "data": {
      "application/vnd.jupyter.widget-view+json": {
       "model_id": "",
       "version_major": 2,
       "version_minor": 0
      },
      "text/plain": [
       "HBox(children=(FloatProgress(value=0.0, description='Batch', max=1.0, style=ProgressStyle(description_width='i…"
      ]
     },
     "metadata": {},
     "output_type": "display_data"
    },
    {
     "data": {
      "application/vnd.jupyter.widget-view+json": {
       "model_id": "",
       "version_major": 2,
       "version_minor": 0
      },
      "text/plain": [
       "HBox(children=(FloatProgress(value=0.0, description='Batch', max=1.0, style=ProgressStyle(description_width='i…"
      ]
     },
     "metadata": {},
     "output_type": "display_data"
    },
    {
     "data": {
      "application/vnd.jupyter.widget-view+json": {
       "model_id": "",
       "version_major": 2,
       "version_minor": 0
      },
      "text/plain": [
       "HBox(children=(FloatProgress(value=0.0, description='Batch', max=1.0, style=ProgressStyle(description_width='i…"
      ]
     },
     "metadata": {},
     "output_type": "display_data"
    },
    {
     "data": {
      "application/vnd.jupyter.widget-view+json": {
       "model_id": "",
       "version_major": 2,
       "version_minor": 0
      },
      "text/plain": [
       "HBox(children=(FloatProgress(value=0.0, description='Batch', max=1.0, style=ProgressStyle(description_width='i…"
      ]
     },
     "metadata": {},
     "output_type": "display_data"
    },
    {
     "data": {
      "application/vnd.jupyter.widget-view+json": {
       "model_id": "",
       "version_major": 2,
       "version_minor": 0
      },
      "text/plain": [
       "HBox(children=(FloatProgress(value=0.0, description='Batch', max=1.0, style=ProgressStyle(description_width='i…"
      ]
     },
     "metadata": {},
     "output_type": "display_data"
    },
    {
     "data": {
      "application/vnd.jupyter.widget-view+json": {
       "model_id": "",
       "version_major": 2,
       "version_minor": 0
      },
      "text/plain": [
       "HBox(children=(FloatProgress(value=0.0, description='Batch', max=1.0, style=ProgressStyle(description_width='i…"
      ]
     },
     "metadata": {},
     "output_type": "display_data"
    },
    {
     "data": {
      "application/vnd.jupyter.widget-view+json": {
       "model_id": "",
       "version_major": 2,
       "version_minor": 0
      },
      "text/plain": [
       "HBox(children=(FloatProgress(value=0.0, description='Batch', max=1.0, style=ProgressStyle(description_width='i…"
      ]
     },
     "metadata": {},
     "output_type": "display_data"
    },
    {
     "data": {
      "application/vnd.jupyter.widget-view+json": {
       "model_id": "",
       "version_major": 2,
       "version_minor": 0
      },
      "text/plain": [
       "HBox(children=(FloatProgress(value=0.0, description='Batch', max=1.0, style=ProgressStyle(description_width='i…"
      ]
     },
     "metadata": {},
     "output_type": "display_data"
    },
    {
     "data": {
      "application/vnd.jupyter.widget-view+json": {
       "model_id": "",
       "version_major": 2,
       "version_minor": 0
      },
      "text/plain": [
       "HBox(children=(FloatProgress(value=0.0, description='Batch', max=1.0, style=ProgressStyle(description_width='i…"
      ]
     },
     "metadata": {},
     "output_type": "display_data"
    },
    {
     "data": {
      "application/vnd.jupyter.widget-view+json": {
       "model_id": "",
       "version_major": 2,
       "version_minor": 0
      },
      "text/plain": [
       "HBox(children=(FloatProgress(value=0.0, description='Batch', max=1.0, style=ProgressStyle(description_width='i…"
      ]
     },
     "metadata": {},
     "output_type": "display_data"
    },
    {
     "data": {
      "application/vnd.jupyter.widget-view+json": {
       "model_id": "",
       "version_major": 2,
       "version_minor": 0
      },
      "text/plain": [
       "HBox(children=(FloatProgress(value=0.0, description='Batch', max=1.0, style=ProgressStyle(description_width='i…"
      ]
     },
     "metadata": {},
     "output_type": "display_data"
    },
    {
     "data": {
      "application/vnd.jupyter.widget-view+json": {
       "model_id": "",
       "version_major": 2,
       "version_minor": 0
      },
      "text/plain": [
       "HBox(children=(FloatProgress(value=0.0, description='Batch', max=1.0, style=ProgressStyle(description_width='i…"
      ]
     },
     "metadata": {},
     "output_type": "display_data"
    },
    {
     "data": {
      "application/vnd.jupyter.widget-view+json": {
       "model_id": "",
       "version_major": 2,
       "version_minor": 0
      },
      "text/plain": [
       "HBox(children=(FloatProgress(value=0.0, description='Batch', max=1.0, style=ProgressStyle(description_width='i…"
      ]
     },
     "metadata": {},
     "output_type": "display_data"
    },
    {
     "data": {
      "application/vnd.jupyter.widget-view+json": {
       "model_id": "",
       "version_major": 2,
       "version_minor": 0
      },
      "text/plain": [
       "HBox(children=(FloatProgress(value=0.0, description='Batch', max=1.0, style=ProgressStyle(description_width='i…"
      ]
     },
     "metadata": {},
     "output_type": "display_data"
    },
    {
     "data": {
      "application/vnd.jupyter.widget-view+json": {
       "model_id": "",
       "version_major": 2,
       "version_minor": 0
      },
      "text/plain": [
       "HBox(children=(FloatProgress(value=0.0, description='Batch', max=1.0, style=ProgressStyle(description_width='i…"
      ]
     },
     "metadata": {},
     "output_type": "display_data"
    },
    {
     "name": "stdout",
     "output_type": "stream",
     "text": [
      "\n"
     ]
    }
   ],
   "source": [
    "model_d0 = artm.ARTM(num_topics=num_not_sp,\n",
    "                    num_processors=7,\n",
    "                    theta_columns_naming='title',\n",
    "                    show_progress_bars=True,\n",
    "                    class_ids={'@ngram':weight_ngram,\n",
    "                         '@info':weight_info,\n",
    "                         '@specificity':weight_specificity},\n",
    "                    cache_theta=False,\n",
    "                    seed=42,\n",
    "                    dictionary=train_total_dictionary)\n",
    "\n",
    "model_d0.scores.add(artm.PerplexityScore(name='PerlexityScore_ngram', class_ids=['@ngram']))\n",
    "model_d0.scores.add(artm.PerplexityScore(name='PerlexityScore_info', class_ids=['@info']))\n",
    "model_d0.scores.add(artm.PerplexityScore(name='PerlexityScore_specificity', class_ids=['@specificity']))\n",
    "model_d0.scores.add(artm.SparsityPhiScore(name='SparsityPhiScore_ngram', class_id='@ngram'))\n",
    "model_d0.scores.add(artm.SparsityPhiScore(name='SparsityPhiScore_info', class_id='@info'))\n",
    "model_d0.scores.add(artm.SparsityThetaScore(name='SparsityThetaScore'))\n",
    "model_d0.scores.add(artm.TopTokensScore(name='TopTokensScore', num_tokens=10, class_id='@ngram'))\n",
    "model_d0.scores.add(artm.BackgroundTokensRatioScore(name='BackgroundTokensRatioScore',\n",
    "                                                    class_id='@ngram'))\n",
    "\n",
    "model_d0.fit_offline(batch_vectorizer=train_d0_batch_vectorizer, num_collection_passes=40)\n",
    "\n",
    "topic_model = TopicModel(model_d0)\n",
    "not_specific_topics = model_d0.topic_names\n",
    "specific_topics = ['topic_{}'.format(i+num_not_sp) for i in range(num_sp)]\n",
    "topic_names = not_specific_topics + specific_topics\n",
    "\n",
    "### Создадим модель\n",
    "\n",
    "best_first_model = artm.ARTM(num_topics=len(topic_names),\n",
    "                             num_processors=7,\n",
    "                             theta_columns_naming='title',\n",
    "                             #show_progress_bars=True,\n",
    "                             class_ids={'@ngram':weight_ngram,\n",
    "                                        '@info':weight_info,\n",
    "                                        '@specificity':weight_specificity},\n",
    "                             cache_theta=True,\n",
    "                             seed=42,\n",
    "                             dictionary=train_total_dictionary)\n",
    "\n",
    "new_best_phi = pd.DataFrame(columns = topic_names)\n",
    "for token in best_first_model.get_phi().index:\n",
    "    new_best_phi.loc[token] = new_phi.loc[token]\n",
    "\n",
    "(_, phi_ref) = best_first_model.master.attach_model(model=best_first_model.model_pwt)\n",
    "np.copyto(phi_ref, new_best_phi.values)\n",
    "\n",
    "best_first_model.scores.add(artm.PerplexityScore(name='PerlexityScore_ngram', class_ids=['@ngram']))\n",
    "best_first_model.scores.add(artm.PerplexityScore(name='PerlexityScore_info', class_ids=['@info']))\n",
    "best_first_model.scores.add(artm.PerplexityScore(name='PerlexityScore_specificity', class_ids=['@specificity']))\n",
    "best_first_model.scores.add(artm.SparsityPhiScore(name='SparsityPhiScore_ngram', class_id='@ngram'))\n",
    "best_first_model.scores.add(artm.SparsityPhiScore(name='SparsityPhiScore_info', class_id='@info'))\n",
    "best_first_model.scores.add(artm.SparsityThetaScore(name='SparsityThetaScore'))\n",
    "best_first_model.scores.add(artm.TopTokensScore(name='TopTokensScore', num_tokens=10, class_id='@ngram'))\n",
    "best_first_model.scores.add(artm.BackgroundTokensRatioScore(name='BackgroundTokensRatioScore',\n",
    "                                                    class_id='@ngram'))\n",
    "\n",
    "# Сглаживание Ф00\n",
    "best_first_model.regularizers.add(artm.SmoothSparsePhiRegularizer(name='Smooth_Phi00_Regularizer_ngram',\n",
    "                                                       tau = tau_Smooth_Phi00_ngram,\n",
    "                                                       class_ids = ['@ngram'],\n",
    "                                                       topic_names=not_specific_topics,\n",
    "                                                       dictionary=train_d0_dictionary))\n",
    "\n",
    "best_first_model.regularizers.add(artm.SmoothSparsePhiRegularizer(name='Smooth_Phi00_Regularizer_info',\n",
    "                                                       tau = tau_Smooth_Phi00_info,\n",
    "                                                       class_ids = ['@info'],\n",
    "                                                       topic_names=not_specific_topics,\n",
    "                                                       dictionary=train_d0_dictionary))\n",
    "\n",
    "best_first_model.regularizers.add(artm.SmoothSparsePhiRegularizer(name='Smooth_Phi00_Regularizer_specificity',\n",
    "                                                       tau = tau_Smooth_Phi00_specificity,\n",
    "                                                       class_ids = ['@specificity'],\n",
    "                                                       topic_names=not_specific_topics,\n",
    "                                                       dictionary=train_d0_dictionary))\n",
    "\n",
    "best_first_model.fit_offline(batch_vectorizer=train_total_batch_vectorizer, num_collection_passes=20)"
   ]
  },
  {
   "cell_type": "code",
   "execution_count": 34,
   "metadata": {},
   "outputs": [],
   "source": [
    "test_total_batch_vectorizer=artm.BatchVectorizer(data_path='vw_documents_test_total.txt',\n",
    "                                                 data_format='vowpal_wabbit',\n",
    "                                                 batch_size = 10000,\n",
    "                                                 target_folder='./test_total_batches')\n",
    "\n",
    "test_total_dictionary = test_total_batch_vectorizer.dictionary\n",
    "theta_test = best_first_model.transform(batch_vectorizer=test_total_batch_vectorizer)\n",
    "p_cd_test = best_first_model.transform(batch_vectorizer=test_total_batch_vectorizer,\n",
    "                                       predict_class_id='@specificity')\n",
    "\n",
    "y_pred_proba = p_cd_test.loc['1']\n",
    "fpr, tpr, thresholds = roc_curve(y_test, y_pred_proba)\n",
    "\n",
    "dist_min = math.inf\n",
    "for x, y, treshold in zip(fpr, tpr, thresholds):\n",
    "    if euclidean([0, 1], [x, y]) < dist_min:\n",
    "        T_artm = treshold\n",
    "        dist_min = euclidean([0, 1], [x, y])\n",
    "        x_artm = x\n",
    "        y_artm = y\n",
    "\n",
    "y_pred_labels = []\n",
    "for document in p_cd_test.columns:\n",
    "    if p_cd_test[document].loc['1'] >= T_artm:\n",
    "        y_pred_labels.append(1)\n",
    "    else:\n",
    "        y_pred_labels.append(0)\n",
    "\n",
    "roc_auc = roc_auc_score(y_test, p_cd_test.loc['1'])\n",
    "precision = precision_score(y_test, y_pred_labels)\n",
    "recall = recall_score(y_test, y_pred_labels)\n",
    "accuracy = accuracy_score(y_test, y_pred_labels)\n",
    "\n",
    "topic_model = TopicModel(best_first_model)"
   ]
  },
  {
   "cell_type": "code",
   "execution_count": 35,
   "metadata": {},
   "outputs": [],
   "source": [
    "results = pd.DataFrame(index=['roc_auc', 'precision', 'recall', 'accuracy'])\n",
    "results['до регуляризации'] = [roc_auc, precision, recall, accuracy]"
   ]
  },
  {
   "cell_type": "code",
   "execution_count": 36,
   "metadata": {},
   "outputs": [
    {
     "data": {
      "text/html": [
       "<div>\n",
       "<style scoped>\n",
       "    .dataframe tbody tr th:only-of-type {\n",
       "        vertical-align: middle;\n",
       "    }\n",
       "\n",
       "    .dataframe tbody tr th {\n",
       "        vertical-align: top;\n",
       "    }\n",
       "\n",
       "    .dataframe thead th {\n",
       "        text-align: right;\n",
       "    }\n",
       "</style>\n",
       "<table border=\"1\" class=\"dataframe\">\n",
       "  <thead>\n",
       "    <tr style=\"text-align: right;\">\n",
       "      <th></th>\n",
       "      <th>до регуляризации</th>\n",
       "    </tr>\n",
       "  </thead>\n",
       "  <tbody>\n",
       "    <tr>\n",
       "      <th>roc_auc</th>\n",
       "      <td>0.851418</td>\n",
       "    </tr>\n",
       "    <tr>\n",
       "      <th>precision</th>\n",
       "      <td>0.721925</td>\n",
       "    </tr>\n",
       "    <tr>\n",
       "      <th>recall</th>\n",
       "      <td>0.812030</td>\n",
       "    </tr>\n",
       "    <tr>\n",
       "      <th>accuracy</th>\n",
       "      <td>0.776059</td>\n",
       "    </tr>\n",
       "  </tbody>\n",
       "</table>\n",
       "</div>"
      ],
      "text/plain": [
       "           до регуляризации\n",
       "roc_auc            0.851418\n",
       "precision          0.721925\n",
       "recall             0.812030\n",
       "accuracy           0.776059"
      ]
     },
     "execution_count": 36,
     "metadata": {},
     "output_type": "execute_result"
    }
   ],
   "source": [
    "results"
   ]
  },
  {
   "cell_type": "code",
   "execution_count": 37,
   "metadata": {},
   "outputs": [],
   "source": [
    "file = open('./tables/metrics_total_before_reg_results.txt', 'w')\n",
    "file.write(results.to_latex())\n",
    "file.close()"
   ]
  },
  {
   "cell_type": "code",
   "execution_count": 38,
   "metadata": {},
   "outputs": [
    {
     "data": {
      "text/html": [
       "<div>\n",
       "<style scoped>\n",
       "    .dataframe tbody tr th:only-of-type {\n",
       "        vertical-align: middle;\n",
       "    }\n",
       "\n",
       "    .dataframe tbody tr th {\n",
       "        vertical-align: top;\n",
       "    }\n",
       "\n",
       "    .dataframe thead th {\n",
       "        text-align: right;\n",
       "    }\n",
       "</style>\n",
       "<table border=\"1\" class=\"dataframe\">\n",
       "  <thead>\n",
       "    <tr style=\"text-align: right;\">\n",
       "      <th></th>\n",
       "      <th></th>\n",
       "      <th>last_value</th>\n",
       "    </tr>\n",
       "    <tr>\n",
       "      <th>model_id</th>\n",
       "      <th>score_name</th>\n",
       "      <th></th>\n",
       "    </tr>\n",
       "  </thead>\n",
       "  <tbody>\n",
       "    <tr>\n",
       "      <th rowspan=\"9\" valign=\"top\">--23h13m47s_15d06m2020y---</th>\n",
       "      <th>PerlexityScore_ngram</th>\n",
       "      <td>289.603</td>\n",
       "    </tr>\n",
       "    <tr>\n",
       "      <th>PerlexityScore_info</th>\n",
       "      <td>43.6212</td>\n",
       "    </tr>\n",
       "    <tr>\n",
       "      <th>PerlexityScore_specificity</th>\n",
       "      <td>1.01781</td>\n",
       "    </tr>\n",
       "    <tr>\n",
       "      <th>SparsityPhiScore_ngram</th>\n",
       "      <td>0.653696</td>\n",
       "    </tr>\n",
       "    <tr>\n",
       "      <th>SparsityPhiScore_info</th>\n",
       "      <td>0.0747296</td>\n",
       "    </tr>\n",
       "    <tr>\n",
       "      <th>SparsityThetaScore</th>\n",
       "      <td>0.165001</td>\n",
       "    </tr>\n",
       "    <tr>\n",
       "      <th>TopTokensScore.average_coherence</th>\n",
       "      <td>0</td>\n",
       "    </tr>\n",
       "    <tr>\n",
       "      <th>TopTokensScore.num_tokens</th>\n",
       "      <td>90</td>\n",
       "    </tr>\n",
       "    <tr>\n",
       "      <th>BackgroundTokensRatioScore</th>\n",
       "      <td>0.704783</td>\n",
       "    </tr>\n",
       "  </tbody>\n",
       "</table>\n",
       "</div>"
      ],
      "text/plain": [
       "                                                            last_value\n",
       "model_id                   score_name                                 \n",
       "--23h13m47s_15d06m2020y--- PerlexityScore_ngram                289.603\n",
       "                           PerlexityScore_info                 43.6212\n",
       "                           PerlexityScore_specificity          1.01781\n",
       "                           SparsityPhiScore_ngram             0.653696\n",
       "                           SparsityPhiScore_info             0.0747296\n",
       "                           SparsityThetaScore                 0.165001\n",
       "                           TopTokensScore.average_coherence          0\n",
       "                           TopTokensScore.num_tokens                90\n",
       "                           BackgroundTokensRatioScore         0.704783"
      ]
     },
     "execution_count": 38,
     "metadata": {},
     "output_type": "execute_result"
    }
   ],
   "source": [
    "topic_model = TopicModel(best_first_model)\n",
    "topic_model.describe_scores()"
   ]
  },
  {
   "cell_type": "code",
   "execution_count": 39,
   "metadata": {},
   "outputs": [
    {
     "data": {
      "text/plain": [
       "[-0.1, 1.1, -0.1, 1.1]"
      ]
     },
     "execution_count": 39,
     "metadata": {},
     "output_type": "execute_result"
    },
    {
     "data": {
      "image/png": "[encoded data removed]",
      "text/plain": [
       "<Figure size 1080x360 with 1 Axes>"
      ]
     },
     "metadata": {
      "needs_background": "light"
     },
     "output_type": "display_data"
    }
   ],
   "source": [
    "plt.figure(figsize=(15, 5))\n",
    "plt.subplot(1, 3, 1)\n",
    "for x, y, actual, predicted, descr in zip([x_artm],\n",
    "                                    [y_artm],\n",
    "                                    [y_test], \n",
    "                                    [y_pred_proba],\n",
    "                                    [\"ARTM classification\"]):\n",
    "    fpr, tpr, thr = roc_curve(actual, predicted)\n",
    "    plt.plot(fpr, tpr, label=descr)\n",
    "    plt.scatter(x, y)\n",
    "plt.xlabel(\"false positive rate\")\n",
    "plt.ylabel(\"true positive rate\")\n",
    "plt.legend(loc=4)\n",
    "plt.axis([-0.1, 1.1, -0.1, 1.1])"
   ]
  },
  {
   "cell_type": "markdown",
   "metadata": {},
   "source": [
    "# ПОДБИРАЕМ ПО СЕТКЕ КОЭФФИЦИЕНТЫ РЕГУЛЯРИЗАЦИИ"
   ]
  },
  {
   "cell_type": "markdown",
   "metadata": {},
   "source": [
    "Добавим регуляризаторы"
   ]
  },
  {
   "cell_type": "code",
   "execution_count": 40,
   "metadata": {},
   "outputs": [],
   "source": [
    "model = best_first_model.clone()"
   ]
  },
  {
   "cell_type": "code",
   "execution_count": 41,
   "metadata": {},
   "outputs": [],
   "source": [
    "file = open('train_without_d0_dictionary.txt', 'w')\n",
    "for token in train_total_without_d0_dict:\n",
    "    file.write(token + '\\n')\n",
    "file.close()"
   ]
  },
  {
   "cell_type": "code",
   "execution_count": 42,
   "metadata": {},
   "outputs": [],
   "source": [
    "train_without_d0_dictionary = artm.Dictionary()\n",
    "train_without_d0_dictionary.gather(data_path='./train_total_batches',\n",
    "                                   vocab_file_path='./train_without_d0_dictionary')"
   ]
  },
  {
   "cell_type": "code",
   "execution_count": 43,
   "metadata": {},
   "outputs": [],
   "source": [
    "# train_total_for_Phi11_dictionary\n",
    "# с train_without_d0_dictionary было grid_Sparse_Phi1_ngram = [-45], это давало 0.868 или 0.869\n",
    "# когда были 0 и прошлый значения, grid_Sparse_Phi1_ngram = [-7620], это давало 0.8704"
   ]
  },
  {
   "cell_type": "code",
   "execution_count": 44,
   "metadata": {},
   "outputs": [],
   "source": [
    "# Декоррелирование Ф1_ngram\n",
    "model.regularizers.add(artm.DecorrelatorPhiRegularizer(name='Decorrelator_Phi1_ngram',\n",
    "                                                       class_ids=['@ngram'],\n",
    "                                                       topic_names=specific_topics))\n",
    "# Декоррелирование Ф1_info\n",
    "model.regularizers.add(artm.DecorrelatorPhiRegularizer(name='Decorrelator_Phi1_info',\n",
    "                                                       class_ids=['@info'],\n",
    "                                                       topic_names=specific_topics))\n",
    "# Декоррелирование Ф_specificity\n",
    "model.regularizers.add(artm.DecorrelatorPhiRegularizer(name='Decorrelator_Phi_specificity',\n",
    "                                                       class_ids=['@specificity']))\n",
    "\n",
    "# Разреживание Тета11\n",
    "# возможно стоит разреживать вообще всю тету\n",
    "model.regularizers.add(artm.SmoothSparseThetaRegularizer(name='Sparse_Theta11',\n",
    "                                                         topic_names=specific_topics,\n",
    "                                                         doc_titles=list(map(lambda item: str(item),\n",
    "                                                                             train_d1_indices))))\n",
    "# Разреживание Тета0\n",
    "model.regularizers.add(artm.SmoothSparseThetaRegularizer(name='Sparse_Theta0',\n",
    "                                                         topic_names=not_specific_topics,\n",
    "                                                         doc_titles=list(map(lambda item: str(item),\n",
    "                                                                             train_d0_indices))))\n",
    "        \n",
    "# Разреживание Ф1_ngram\n",
    "model.regularizers.add(artm.SmoothSparsePhiRegularizer(name='Sparse_Phi1_ngram',\n",
    "                                                       class_ids=['@ngram'],\n",
    "                                                       topic_names=specific_topics,\n",
    "                                                       dictionary=train_without_d0_dictionary))\n",
    "                                                       #dictionary=train_total_for_Phi11_dictionary))\n",
    "# Разреживание Ф1_info\n",
    "model.regularizers.add(artm.SmoothSparsePhiRegularizer(name='Sparse_Phi1_info',\n",
    "                                                       class_ids=['@info'],\n",
    "                                                       topic_names=specific_topics,\n",
    "                                                       dictionary=train_without_d0_dictionary))\n",
    "# Разреживание Ф11_specificity\n",
    "model.regularizers.add(artm.SmoothSparsePhiRegularizer(name='Sparse_Phi1_specificity',\n",
    "                                                       class_ids=['@specificity'],\n",
    "                                                       topic_names=specific_topics,\n",
    "                                                       dictionary=train_without_d0_dictionary))\n",
    "                                                       #dictionary=train_total_for_Phi11_dictionary))"
   ]
  },
  {
   "cell_type": "markdown",
   "metadata": {},
   "source": [
    "Введем метрики для отслеживания состояния этих подматриц."
   ]
  },
  {
   "cell_type": "code",
   "execution_count": 45,
   "metadata": {},
   "outputs": [],
   "source": [
    "# Ф0\n",
    "model.scores.add(artm.SparsityPhiScore(name='not_sp_SparsePhiScore_ngram', class_id='@ngram',\n",
    "                                       topic_names=not_specific_topics))\n",
    "\n",
    "# Тета11\n",
    "model.scores.add(artm.SparsityThetaScore(name='sp_SparseThetaScore',\n",
    "                                         topic_names=specific_topics))\n",
    "\n",
    "# Ф1\n",
    "model.scores.add(artm.SparsityPhiScore(name='sp_SparsePhiScore_ngram', class_id='@ngram',\n",
    "                                       topic_names=specific_topics))"
   ]
  },
  {
   "cell_type": "markdown",
   "metadata": {},
   "source": [
    "Но именно для этих подматриц нельзя, так как есть только переменные topic_names, но нет dictionary. Так что это не блочные матрицы, а все столбцы."
   ]
  },
  {
   "cell_type": "code",
   "execution_count": 46,
   "metadata": {
    "scrolled": true
   },
   "outputs": [
    {
     "name": "stdout",
     "output_type": "stream",
     "text": [
      "0\n",
      "max_roc_auc 0.8503960631505771\n",
      "tau_Sparse_Phi1_ngram -1.8\n",
      "tau_Sparse_Phi1_info -2.8\n",
      "tau_Sparse_Phi1_specificity -1\n",
      "tau_Sparse_Theta11 -8\n",
      "tau_Sparse_Theta0 2.5\n",
      "tau_Decorrelator_Phi1_ngram 51\n",
      "tau_Decorrelator_Phi1_info 19\n"
     ]
    }
   ],
   "source": [
    "scores_name = ['tau_Sparse_Phi1_ngram', 'tau_Sparse_Phi1_info',\n",
    "               'tau_Sparse_Phi1_specificity', 'tau_Sparse_Theta11', 'tau_Sparse_Theta0',\n",
    "               'tau_Decorrelator_Phi1_ngram', 'tau_Decorrelator_Phi1_info',\n",
    "               'tau_Decorrelator_Phi_specificity',\n",
    "               'roc_auc', 'precision', 'recall', 'accuracy']\n",
    "metrics_reg = pd.DataFrame(columns=scores_name)\n",
    "\n",
    "max_roc_auc = 0\n",
    "max_i = 0\n",
    "\n",
    "grid_Sparse_Phi1_ngram = [-1.8]\n",
    "grid_Sparse_Phi1_info = [-2.8]\n",
    "grid_Sparse_Phi1_specificity = [-1]\n",
    "grid_Sparse_Theta11 = [-8]\n",
    "grid_Sparse_Theta0 = [2.5]\n",
    "grid_Decorrelator_Phi1_ngram = [51]\n",
    "grid_Decorrelator_Phi1_info = [19] #[41001] #[1000000000000]\n",
    "grid_Decorrelator_Phi_specificity = [1]\n",
    "\n",
    "index = 0\n",
    "\n",
    "x_0 = []\n",
    "y_0 = []\n",
    "y_pred_proba_0 = []\n",
    "T_0 = []\n",
    "\n",
    "for tau_Sparse_Phi1_ngram in grid_Sparse_Phi1_ngram:\n",
    "    for tau_Sparse_Phi1_info in grid_Sparse_Phi1_info:\n",
    "        for tau_Sparse_Phi1_specificity in grid_Sparse_Phi1_specificity:\n",
    "            for tau_Sparse_Theta11 in grid_Sparse_Theta11:\n",
    "                for tau_Sparse_Theta0 in grid_Sparse_Theta0:\n",
    "                    for tau_Decorrelator_Phi1_ngram in grid_Decorrelator_Phi1_ngram:\n",
    "                        for tau_Decorrelator_Phi1_info in grid_Decorrelator_Phi1_info:\n",
    "                            for tau_Decorrelator_Phi_specificity in grid_Decorrelator_Phi_specificity:\n",
    "                                print(index)\n",
    "\n",
    "                                reg_model = model.clone()\n",
    "\n",
    "                                reg_model.regularizers['Sparse_Phi1_ngram'].tau = tau_Sparse_Phi1_ngram\n",
    "                                reg_model.regularizers['Sparse_Phi1_info'].tau = tau_Sparse_Phi1_info\n",
    "                                reg_model.regularizers['Sparse_Phi1_specificity'].tau = tau_Sparse_Phi1_specificity\n",
    "                                reg_model.regularizers['Sparse_Theta11'].tau = tau_Sparse_Theta11\n",
    "                                reg_model.regularizers['Sparse_Theta0'].tau = tau_Sparse_Theta0\n",
    "                                reg_model.regularizers['Decorrelator_Phi1_ngram'].tau = tau_Decorrelator_Phi1_ngram\n",
    "                                reg_model.regularizers['Decorrelator_Phi1_info'].tau = tau_Decorrelator_Phi1_info\n",
    "                                reg_model.regularizers['Decorrelator_Phi_specificity'].tau = tau_Decorrelator_Phi_specificity\n",
    "\n",
    "                                reg_model.fit_offline(batch_vectorizer=train_total_batch_vectorizer, num_collection_passes=20)\n",
    "\n",
    "\n",
    "                                p_cd_test = reg_model.transform(batch_vectorizer=test_total_batch_vectorizer,\n",
    "                                                                predict_class_id='@specificity')\n",
    "\n",
    "                                reg_model.remove_theta()\n",
    "                                y_pred_proba = p_cd_test.loc['1']\n",
    "                                fpr, tpr, thresholds = roc_curve(y_test, y_pred_proba)\n",
    "\n",
    "                                dist_min = math.inf\n",
    "                                for x, y, treshold in zip(fpr, tpr, thresholds):\n",
    "                                    if euclidean([0, 1], [x, y]) < dist_min:\n",
    "                                        T_artm = treshold\n",
    "                                        dist_min = euclidean([0, 1], [x, y])\n",
    "                                        x_artm = x\n",
    "                                        y_artm = y\n",
    "\n",
    "                                y_pred_labels = []\n",
    "                                for document in p_cd_test.columns:\n",
    "                                    if p_cd_test[document].loc['1'] >= T_artm:\n",
    "                                        y_pred_labels.append(1)\n",
    "                                    else:\n",
    "                                        y_pred_labels.append(0)\n",
    "\n",
    "                                roc_auc = roc_auc_score(y_test, y_pred_proba)\n",
    "                                precision = precision_score(y_test, y_pred_labels)\n",
    "                                recall = recall_score(y_test, y_pred_labels)\n",
    "                                accuracy = accuracy_score(y_test, y_pred_labels)\n",
    "\n",
    "                                x_0.append(x_artm)\n",
    "                                y_0.append(y_artm)\n",
    "                                y_pred_proba_0.append(y_pred_proba)\n",
    "                                T_0.append(T_artm)\n",
    "\n",
    "                                topic_model = TopicModel(reg_model)\n",
    "                                metrics_reg.loc[index] = [tau_Sparse_Phi1_ngram, tau_Sparse_Phi1_info,\n",
    "                                                          tau_Sparse_Phi1_specificity, tau_Sparse_Theta11,\n",
    "                                                          tau_Sparse_Theta0,\n",
    "                                                          tau_Decorrelator_Phi1_ngram, tau_Decorrelator_Phi1_info,\n",
    "                                                          tau_Decorrelator_Phi_specificity,\n",
    "                                                          roc_auc, precision, recall, accuracy]\n",
    "                                \n",
    "                                if roc_auc >= max_roc_auc:\n",
    "                                    max_roc_auc = roc_auc\n",
    "                                    max_i = tau_Decorrelator_Phi1_info\n",
    "                                    print('max_roc_auc', max_roc_auc)\n",
    "                                    print('tau_Sparse_Phi1_ngram', tau_Sparse_Phi1_ngram)\n",
    "                                    print('tau_Sparse_Phi1_info', tau_Sparse_Phi1_info)\n",
    "                                    print('tau_Sparse_Phi1_specificity', tau_Sparse_Phi1_specificity)\n",
    "                                    print('tau_Sparse_Theta11', tau_Sparse_Theta11)\n",
    "                                    print('tau_Sparse_Theta0', tau_Sparse_Theta0)\n",
    "                                    print('tau_Decorrelator_Phi1_ngram', tau_Decorrelator_Phi1_ngram)\n",
    "                                    print('tau_Decorrelator_Phi1_info', max_i)\n",
    "                                #print(metrics_reg.loc[index])\n",
    "                                index += 1"
   ]
  },
  {
   "cell_type": "code",
   "execution_count": 47,
   "metadata": {},
   "outputs": [
    {
     "ename": "SyntaxError",
     "evalue": "invalid syntax (<ipython-input-47-91b1ccf1f2b8>, line 1)",
     "output_type": "error",
     "traceback": [
      "\u001b[0;36m  File \u001b[0;32m\"<ipython-input-47-91b1ccf1f2b8>\"\u001b[0;36m, line \u001b[0;32m1\u001b[0m\n\u001b[0;31m    max_roc_auc 0.8720505643671221\u001b[0m\n\u001b[0m                                 ^\u001b[0m\n\u001b[0;31mSyntaxError\u001b[0m\u001b[0;31m:\u001b[0m invalid syntax\n"
     ]
    }
   ],
   "source": [
    "max_roc_auc 0.8720505643671221\n",
    "tau_Sparse_Phi1_ngram -1.8\n",
    "best_tau_Sparse_Phi1_info -121\n",
    "tau_Sparse_Phi1_specificity 0\n",
    "tau_Sparse_Theta11 -16\n",
    "tau_Decorrelator_Phi1_ngram 19\n",
    "tau_Decorrelator_Phi1_info 1000000000000"
   ]
  },
  {
   "cell_type": "code",
   "execution_count": null,
   "metadata": {},
   "outputs": [],
   "source": [
    "max_roc_auc 0.8694208148107496\n",
    "tau_Sparse_Phi1_ngram -3.0\n",
    "tau_Sparse_Phi1_info -121\n",
    "tau_Sparse_Phi1_specificity 0\n",
    "tau_Sparse_Theta11 -19\n",
    "tau_Sparse_Theta0 -17\n",
    "tau_Decorrelator_Phi1_ngram 165\n",
    "tau_Decorrelator_Phi1_info 1000000000000"
   ]
  },
  {
   "cell_type": "code",
   "execution_count": null,
   "metadata": {},
   "outputs": [],
   "source": [
    "max_roc_auc 0.8704672264603113\n",
    "tau_Sparse_Phi1_ngram 0.7\n",
    "tau_Sparse_Phi1_info -121\n",
    "tau_Sparse_Phi1_specificity 0\n",
    "tau_Sparse_Theta11 -19\n",
    "tau_Sparse_Theta0 -17\n",
    "tau_Decorrelator_Phi1_ngram 16\n",
    "tau_Decorrelator_Phi1_info 1000000000000"
   ]
  },
  {
   "cell_type": "code",
   "execution_count": 48,
   "metadata": {
    "scrolled": true
   },
   "outputs": [
    {
     "data": {
      "text/plain": [
       "0.8503960631505771"
      ]
     },
     "execution_count": 48,
     "metadata": {},
     "output_type": "execute_result"
    }
   ],
   "source": [
    "metrics_reg['roc_auc'].max()"
   ]
  },
  {
   "cell_type": "code",
   "execution_count": 49,
   "metadata": {},
   "outputs": [
    {
     "data": {
      "text/plain": [
       "0    True\n",
       "Name: roc_auc, dtype: bool"
      ]
     },
     "execution_count": 49,
     "metadata": {},
     "output_type": "execute_result"
    }
   ],
   "source": [
    "metrics_reg['roc_auc'] == metrics_reg['roc_auc'].max()"
   ]
  },
  {
   "cell_type": "code",
   "execution_count": 50,
   "metadata": {
    "scrolled": false
   },
   "outputs": [
    {
     "data": {
      "text/html": [
       "<div>\n",
       "<style scoped>\n",
       "    .dataframe tbody tr th:only-of-type {\n",
       "        vertical-align: middle;\n",
       "    }\n",
       "\n",
       "    .dataframe tbody tr th {\n",
       "        vertical-align: top;\n",
       "    }\n",
       "\n",
       "    .dataframe thead th {\n",
       "        text-align: right;\n",
       "    }\n",
       "</style>\n",
       "<table border=\"1\" class=\"dataframe\">\n",
       "  <thead>\n",
       "    <tr style=\"text-align: right;\">\n",
       "      <th></th>\n",
       "      <th>tau_Sparse_Phi1_ngram</th>\n",
       "      <th>tau_Sparse_Phi1_info</th>\n",
       "      <th>tau_Sparse_Phi1_specificity</th>\n",
       "      <th>tau_Sparse_Theta11</th>\n",
       "      <th>tau_Sparse_Theta0</th>\n",
       "      <th>tau_Decorrelator_Phi1_ngram</th>\n",
       "      <th>tau_Decorrelator_Phi1_info</th>\n",
       "      <th>tau_Decorrelator_Phi_specificity</th>\n",
       "      <th>roc_auc</th>\n",
       "      <th>precision</th>\n",
       "      <th>recall</th>\n",
       "      <th>accuracy</th>\n",
       "    </tr>\n",
       "  </thead>\n",
       "  <tbody>\n",
       "  </tbody>\n",
       "</table>\n",
       "</div>"
      ],
      "text/plain": [
       "Empty DataFrame\n",
       "Columns: [tau_Sparse_Phi1_ngram, tau_Sparse_Phi1_info, tau_Sparse_Phi1_specificity, tau_Sparse_Theta11, tau_Sparse_Theta0, tau_Decorrelator_Phi1_ngram, tau_Decorrelator_Phi1_info, tau_Decorrelator_Phi_specificity, roc_auc, precision, recall, accuracy]\n",
       "Index: []"
      ]
     },
     "execution_count": 50,
     "metadata": {},
     "output_type": "execute_result"
    }
   ],
   "source": [
    "metrics_reg.loc[metrics_reg['roc_auc'] > 0.869]"
   ]
  },
  {
   "cell_type": "code",
   "execution_count": 51,
   "metadata": {
    "scrolled": false
   },
   "outputs": [
    {
     "data": {
      "text/html": [
       "<div>\n",
       "<style scoped>\n",
       "    .dataframe tbody tr th:only-of-type {\n",
       "        vertical-align: middle;\n",
       "    }\n",
       "\n",
       "    .dataframe tbody tr th {\n",
       "        vertical-align: top;\n",
       "    }\n",
       "\n",
       "    .dataframe thead th {\n",
       "        text-align: right;\n",
       "    }\n",
       "</style>\n",
       "<table border=\"1\" class=\"dataframe\">\n",
       "  <thead>\n",
       "    <tr style=\"text-align: right;\">\n",
       "      <th></th>\n",
       "      <th>tau_Sparse_Phi1_ngram</th>\n",
       "      <th>tau_Sparse_Phi1_info</th>\n",
       "      <th>tau_Sparse_Phi1_specificity</th>\n",
       "      <th>tau_Sparse_Theta11</th>\n",
       "      <th>tau_Sparse_Theta0</th>\n",
       "      <th>tau_Decorrelator_Phi1_ngram</th>\n",
       "      <th>tau_Decorrelator_Phi1_info</th>\n",
       "      <th>tau_Decorrelator_Phi_specificity</th>\n",
       "      <th>roc_auc</th>\n",
       "      <th>precision</th>\n",
       "      <th>recall</th>\n",
       "      <th>accuracy</th>\n",
       "    </tr>\n",
       "  </thead>\n",
       "  <tbody>\n",
       "    <tr>\n",
       "      <th>0</th>\n",
       "      <td>-1.8</td>\n",
       "      <td>-2.8</td>\n",
       "      <td>-1.0</td>\n",
       "      <td>-8.0</td>\n",
       "      <td>2.5</td>\n",
       "      <td>51.0</td>\n",
       "      <td>19.0</td>\n",
       "      <td>1.0</td>\n",
       "      <td>0.850396</td>\n",
       "      <td>0.723262</td>\n",
       "      <td>0.813534</td>\n",
       "      <td>0.777404</td>\n",
       "    </tr>\n",
       "  </tbody>\n",
       "</table>\n",
       "</div>"
      ],
      "text/plain": [
       "   tau_Sparse_Phi1_ngram  tau_Sparse_Phi1_info  tau_Sparse_Phi1_specificity  \\\n",
       "0                   -1.8                  -2.8                         -1.0   \n",
       "\n",
       "   tau_Sparse_Theta11  tau_Sparse_Theta0  tau_Decorrelator_Phi1_ngram  \\\n",
       "0                -8.0                2.5                         51.0   \n",
       "\n",
       "   tau_Decorrelator_Phi1_info  tau_Decorrelator_Phi_specificity   roc_auc  \\\n",
       "0                        19.0                               1.0  0.850396   \n",
       "\n",
       "   precision    recall  accuracy  \n",
       "0   0.723262  0.813534  0.777404  "
      ]
     },
     "execution_count": 51,
     "metadata": {},
     "output_type": "execute_result"
    }
   ],
   "source": [
    "metrics_reg"
   ]
  },
  {
   "cell_type": "code",
   "execution_count": 52,
   "metadata": {
    "scrolled": true
   },
   "outputs": [
    {
     "data": {
      "text/plain": [
       "0    0.850396\n",
       "Name: roc_auc, dtype: float64"
      ]
     },
     "execution_count": 52,
     "metadata": {},
     "output_type": "execute_result"
    }
   ],
   "source": [
    "metrics_reg['roc_auc']"
   ]
  },
  {
   "cell_type": "code",
   "execution_count": 53,
   "metadata": {},
   "outputs": [
    {
     "data": {
      "text/html": [
       "<div>\n",
       "<style scoped>\n",
       "    .dataframe tbody tr th:only-of-type {\n",
       "        vertical-align: middle;\n",
       "    }\n",
       "\n",
       "    .dataframe tbody tr th {\n",
       "        vertical-align: top;\n",
       "    }\n",
       "\n",
       "    .dataframe thead th {\n",
       "        text-align: right;\n",
       "    }\n",
       "</style>\n",
       "<table border=\"1\" class=\"dataframe\">\n",
       "  <thead>\n",
       "    <tr style=\"text-align: right;\">\n",
       "      <th></th>\n",
       "      <th>tau_Sparse_Phi1_ngram</th>\n",
       "      <th>tau_Sparse_Phi1_info</th>\n",
       "      <th>tau_Sparse_Phi1_specificity</th>\n",
       "      <th>tau_Sparse_Theta11</th>\n",
       "      <th>tau_Sparse_Theta0</th>\n",
       "      <th>tau_Decorrelator_Phi1_ngram</th>\n",
       "      <th>tau_Decorrelator_Phi1_info</th>\n",
       "      <th>tau_Decorrelator_Phi_specificity</th>\n",
       "      <th>roc_auc</th>\n",
       "      <th>precision</th>\n",
       "      <th>recall</th>\n",
       "      <th>accuracy</th>\n",
       "    </tr>\n",
       "  </thead>\n",
       "  <tbody>\n",
       "    <tr>\n",
       "      <th>0</th>\n",
       "      <td>-1.8</td>\n",
       "      <td>-2.8</td>\n",
       "      <td>-1.0</td>\n",
       "      <td>-8.0</td>\n",
       "      <td>2.5</td>\n",
       "      <td>51.0</td>\n",
       "      <td>19.0</td>\n",
       "      <td>1.0</td>\n",
       "      <td>0.850396</td>\n",
       "      <td>0.723262</td>\n",
       "      <td>0.813534</td>\n",
       "      <td>0.777404</td>\n",
       "    </tr>\n",
       "  </tbody>\n",
       "</table>\n",
       "</div>"
      ],
      "text/plain": [
       "   tau_Sparse_Phi1_ngram  tau_Sparse_Phi1_info  tau_Sparse_Phi1_specificity  \\\n",
       "0                   -1.8                  -2.8                         -1.0   \n",
       "\n",
       "   tau_Sparse_Theta11  tau_Sparse_Theta0  tau_Decorrelator_Phi1_ngram  \\\n",
       "0                -8.0                2.5                         51.0   \n",
       "\n",
       "   tau_Decorrelator_Phi1_info  tau_Decorrelator_Phi_specificity   roc_auc  \\\n",
       "0                        19.0                               1.0  0.850396   \n",
       "\n",
       "   precision    recall  accuracy  \n",
       "0   0.723262  0.813534  0.777404  "
      ]
     },
     "execution_count": 53,
     "metadata": {},
     "output_type": "execute_result"
    }
   ],
   "source": [
    "metrics_reg[metrics_reg['roc_auc'] == metrics_reg['roc_auc'].max()]"
   ]
  },
  {
   "cell_type": "code",
   "execution_count": 54,
   "metadata": {
    "scrolled": false
   },
   "outputs": [
    {
     "data": {
      "text/html": [
       "<div>\n",
       "<style scoped>\n",
       "    .dataframe tbody tr th:only-of-type {\n",
       "        vertical-align: middle;\n",
       "    }\n",
       "\n",
       "    .dataframe tbody tr th {\n",
       "        vertical-align: top;\n",
       "    }\n",
       "\n",
       "    .dataframe thead th {\n",
       "        text-align: right;\n",
       "    }\n",
       "</style>\n",
       "<table border=\"1\" class=\"dataframe\">\n",
       "  <thead>\n",
       "    <tr style=\"text-align: right;\">\n",
       "      <th></th>\n",
       "      <th></th>\n",
       "      <th>last_value</th>\n",
       "    </tr>\n",
       "    <tr>\n",
       "      <th>model_id</th>\n",
       "      <th>score_name</th>\n",
       "      <th></th>\n",
       "    </tr>\n",
       "  </thead>\n",
       "  <tbody>\n",
       "    <tr>\n",
       "      <th rowspan=\"12\" valign=\"top\">--23h13m51s_15d06m2020y---</th>\n",
       "      <th>PerlexityScore_ngram</th>\n",
       "      <td>291.316</td>\n",
       "    </tr>\n",
       "    <tr>\n",
       "      <th>PerlexityScore_info</th>\n",
       "      <td>43.8156</td>\n",
       "    </tr>\n",
       "    <tr>\n",
       "      <th>PerlexityScore_specificity</th>\n",
       "      <td>1.0192</td>\n",
       "    </tr>\n",
       "    <tr>\n",
       "      <th>SparsityPhiScore_ngram</th>\n",
       "      <td>0.706846</td>\n",
       "    </tr>\n",
       "    <tr>\n",
       "      <th>SparsityPhiScore_info</th>\n",
       "      <td>0.143559</td>\n",
       "    </tr>\n",
       "    <tr>\n",
       "      <th>SparsityThetaScore</th>\n",
       "      <td>0.380559</td>\n",
       "    </tr>\n",
       "    <tr>\n",
       "      <th>TopTokensScore.average_coherence</th>\n",
       "      <td>0</td>\n",
       "    </tr>\n",
       "    <tr>\n",
       "      <th>TopTokensScore.num_tokens</th>\n",
       "      <td>90</td>\n",
       "    </tr>\n",
       "    <tr>\n",
       "      <th>BackgroundTokensRatioScore</th>\n",
       "      <td>0.58647</td>\n",
       "    </tr>\n",
       "    <tr>\n",
       "      <th>not_sp_SparsePhiScore_ngram</th>\n",
       "      <td>0.388239</td>\n",
       "    </tr>\n",
       "    <tr>\n",
       "      <th>sp_SparseThetaScore</th>\n",
       "      <td>0.508122</td>\n",
       "    </tr>\n",
       "    <tr>\n",
       "      <th>sp_SparsePhiScore_ngram</th>\n",
       "      <td>0.86615</td>\n",
       "    </tr>\n",
       "  </tbody>\n",
       "</table>\n",
       "</div>"
      ],
      "text/plain": [
       "                                                            last_value\n",
       "model_id                   score_name                                 \n",
       "--23h13m51s_15d06m2020y--- PerlexityScore_ngram                291.316\n",
       "                           PerlexityScore_info                 43.8156\n",
       "                           PerlexityScore_specificity           1.0192\n",
       "                           SparsityPhiScore_ngram             0.706846\n",
       "                           SparsityPhiScore_info              0.143559\n",
       "                           SparsityThetaScore                 0.380559\n",
       "                           TopTokensScore.average_coherence          0\n",
       "                           TopTokensScore.num_tokens                90\n",
       "                           BackgroundTokensRatioScore          0.58647\n",
       "                           not_sp_SparsePhiScore_ngram        0.388239\n",
       "                           sp_SparseThetaScore                0.508122\n",
       "                           sp_SparsePhiScore_ngram             0.86615"
      ]
     },
     "execution_count": 54,
     "metadata": {},
     "output_type": "execute_result"
    }
   ],
   "source": [
    "topic_model.describe_scores()"
   ]
  },
  {
   "cell_type": "code",
   "execution_count": 55,
   "metadata": {},
   "outputs": [
    {
     "data": {
      "text/html": [
       "<style>\n",
       "    div.output_html {\n",
       "        white-space: nowrap;\n",
       "    }\n",
       "    div .output_subarea > pre {\n",
       "        white-space: pre;\n",
       "        word-wrap: normal;\n",
       "    }\n",
       "    div .output_stdout > pre {\n",
       "        white-space: pre-wrap !important;\n",
       "        word-wrap:  break-word !important;\n",
       "    }\n",
       "    </style>"
      ],
      "text/plain": [
       "<IPython.core.display.HTML object>"
      ]
     },
     "metadata": {},
     "output_type": "display_data"
    },
    {
     "name": "stderr",
     "output_type": "stream",
     "text": [
      "/home/polina/anaconda3/lib/python3.7/site-packages/topicnet/viewers/top_tokens_viewer.py:33: UserWarning:\n",
      "\n",
      "num_top_tokens greater than modality size\n",
      "\n"
     ]
    },
    {
     "data": {
      "text/html": [
       "<style  type=\"text/css\" >\n",
       "</style><table id=\"T_5d61099a_af48_11ea_8b50_09b6c06dc4a0\" style='display:inline'><thead>    <tr>        <th class=\"blank\" ></th>        <th class=\"blank level0\" ></th>        <th class=\"col_heading level0 col0\" >topic_0</th>    </tr>    <tr>        <th class=\"index_name level0\" >modality</th>        <th class=\"index_name level1\" >token</th>        <th class=\"blank\" ></th>    </tr></thead><tbody>\n",
       "                <tr>\n",
       "                        <th id=\"T_5d61099a_af48_11ea_8b50_09b6c06dc4a0level0_row0\" class=\"row_heading level0 row0\" rowspan=10>@info</th>\n",
       "                        <th id=\"T_5d61099a_af48_11ea_8b50_09b6c06dc4a0level1_row0\" class=\"row_heading level1 row0\" >&РЕЗУЛЬТАТ_Да,_четко</th>\n",
       "                        <td id=\"T_5d61099a_af48_11ea_8b50_09b6c06dc4a0row0_col0\" class=\"data row0 col0\" >4.740220</td>\n",
       "            </tr>\n",
       "            <tr>\n",
       "                                <th id=\"T_5d61099a_af48_11ea_8b50_09b6c06dc4a0level1_row1\" class=\"row_heading level1 row1\" >&ПРЕГРАДЫ_Не_вижу_преград</th>\n",
       "                        <td id=\"T_5d61099a_af48_11ea_8b50_09b6c06dc4a0row1_col0\" class=\"data row1 col0\" >3.023120</td>\n",
       "            </tr>\n",
       "            <tr>\n",
       "                                <th id=\"T_5d61099a_af48_11ea_8b50_09b6c06dc4a0level1_row2\" class=\"row_heading level1 row2\" >&ТИП_ЦЕЛИ_другое</th>\n",
       "                        <td id=\"T_5d61099a_af48_11ea_8b50_09b6c06dc4a0row2_col0\" class=\"data row2 col0\" >1.935260</td>\n",
       "            </tr>\n",
       "            <tr>\n",
       "                                <th id=\"T_5d61099a_af48_11ea_8b50_09b6c06dc4a0level1_row3\" class=\"row_heading level1 row3\" >&ТИП_ЦЕЛИ_Получить_знания_в_новой_области</th>\n",
       "                        <td id=\"T_5d61099a_af48_11ea_8b50_09b6c06dc4a0row3_col0\" class=\"data row3 col0\" >1.802740</td>\n",
       "            </tr>\n",
       "            <tr>\n",
       "                                <th id=\"T_5d61099a_af48_11ea_8b50_09b6c06dc4a0level1_row4\" class=\"row_heading level1 row4\" >&ТИП_ЦЕЛИ_Развить_имеющиеся_знания_и_навыки</th>\n",
       "                        <td id=\"T_5d61099a_af48_11ea_8b50_09b6c06dc4a0row4_col0\" class=\"data row4 col0\" >1.770870</td>\n",
       "            </tr>\n",
       "            <tr>\n",
       "                                <th id=\"T_5d61099a_af48_11ea_8b50_09b6c06dc4a0level1_row5\" class=\"row_heading level1 row5\" >&ВРЕМЕННЫЕ_ГРАНИЦЫ_Нет_жестких_сроков</th>\n",
       "                        <td id=\"T_5d61099a_af48_11ea_8b50_09b6c06dc4a0row5_col0\" class=\"data row5 col0\" >1.696490</td>\n",
       "            </tr>\n",
       "            <tr>\n",
       "                                <th id=\"T_5d61099a_af48_11ea_8b50_09b6c06dc4a0level1_row6\" class=\"row_heading level1 row6\" >&ТИП_ЦЕЛИ_Приобрести_новые_навыки</th>\n",
       "                        <td id=\"T_5d61099a_af48_11ea_8b50_09b6c06dc4a0row6_col0\" class=\"data row6 col0\" >1.679560</td>\n",
       "            </tr>\n",
       "            <tr>\n",
       "                                <th id=\"T_5d61099a_af48_11ea_8b50_09b6c06dc4a0level1_row7\" class=\"row_heading level1 row7\" >&ПРЕГРАДЫ_есть_преграды</th>\n",
       "                        <td id=\"T_5d61099a_af48_11ea_8b50_09b6c06dc4a0row7_col0\" class=\"data row7 col0\" >1.670210</td>\n",
       "            </tr>\n",
       "            <tr>\n",
       "                                <th id=\"T_5d61099a_af48_11ea_8b50_09b6c06dc4a0level1_row8\" class=\"row_heading level1 row8\" >&ПЕРВЫЙ_ШАГ_знаю_с_чего_начать</th>\n",
       "                        <td id=\"T_5d61099a_af48_11ea_8b50_09b6c06dc4a0row8_col0\" class=\"data row8 col0\" >1.665490</td>\n",
       "            </tr>\n",
       "            <tr>\n",
       "                                <th id=\"T_5d61099a_af48_11ea_8b50_09b6c06dc4a0level1_row9\" class=\"row_heading level1 row9\" >&ОСНОВНОЙ_ВИД_ДЕЙТЕЛЬНОСТИ_Работаю_в_организации,_предприятии</th>\n",
       "                        <td id=\"T_5d61099a_af48_11ea_8b50_09b6c06dc4a0row9_col0\" class=\"data row9 col0\" >1.522570</td>\n",
       "            </tr>\n",
       "    </tbody></table><style  type=\"text/css\" >\n",
       "</style><table id=\"T_5d63ad26_af48_11ea_8b50_09b6c06dc4a0\" style='display:inline'><thead>    <tr>        <th class=\"blank\" ></th>        <th class=\"blank level0\" ></th>        <th class=\"col_heading level0 col0\" >topic_0</th>    </tr>    <tr>        <th class=\"index_name level0\" >modality</th>        <th class=\"index_name level1\" >token</th>        <th class=\"blank\" ></th>    </tr></thead><tbody>\n",
       "                <tr>\n",
       "                        <th id=\"T_5d63ad26_af48_11ea_8b50_09b6c06dc4a0level0_row0\" class=\"row_heading level0 row0\" rowspan=10>@ngram</th>\n",
       "                        <th id=\"T_5d63ad26_af48_11ea_8b50_09b6c06dc4a0level1_row0\" class=\"row_heading level1 row0\" >знание</th>\n",
       "                        <td id=\"T_5d63ad26_af48_11ea_8b50_09b6c06dc4a0row0_col0\" class=\"data row0 col0\" >6.518330</td>\n",
       "            </tr>\n",
       "            <tr>\n",
       "                                <th id=\"T_5d63ad26_af48_11ea_8b50_09b6c06dc4a0level1_row1\" class=\"row_heading level1 row1\" >навык</th>\n",
       "                        <td id=\"T_5d63ad26_af48_11ea_8b50_09b6c06dc4a0row1_col0\" class=\"data row1 col0\" >1.966810</td>\n",
       "            </tr>\n",
       "            <tr>\n",
       "                                <th id=\"T_5d63ad26_af48_11ea_8b50_09b6c06dc4a0level1_row2\" class=\"row_heading level1 row2\" >получение</th>\n",
       "                        <td id=\"T_5d63ad26_af48_11ea_8b50_09b6c06dc4a0row2_col0\" class=\"data row2 col0\" >1.899510</td>\n",
       "            </tr>\n",
       "            <tr>\n",
       "                                <th id=\"T_5d63ad26_af48_11ea_8b50_09b6c06dc4a0level1_row3\" class=\"row_heading level1 row3\" >новый</th>\n",
       "                        <td id=\"T_5d63ad26_af48_11ea_8b50_09b6c06dc4a0row3_col0\" class=\"data row3 col0\" >1.766430</td>\n",
       "            </tr>\n",
       "            <tr>\n",
       "                                <th id=\"T_5d63ad26_af48_11ea_8b50_09b6c06dc4a0level1_row4\" class=\"row_heading level1 row4\" >развитие</th>\n",
       "                        <td id=\"T_5d63ad26_af48_11ea_8b50_09b6c06dc4a0row4_col0\" class=\"data row4 col0\" >1.736690</td>\n",
       "            </tr>\n",
       "            <tr>\n",
       "                                <th id=\"T_5d63ad26_af48_11ea_8b50_09b6c06dc4a0level1_row5\" class=\"row_heading level1 row5\" >получить</th>\n",
       "                        <td id=\"T_5d63ad26_af48_11ea_8b50_09b6c06dc4a0row5_col0\" class=\"data row5 col0\" >1.397340</td>\n",
       "            </tr>\n",
       "            <tr>\n",
       "                                <th id=\"T_5d63ad26_af48_11ea_8b50_09b6c06dc4a0level1_row6\" class=\"row_heading level1 row6\" >новое</th>\n",
       "                        <td id=\"T_5d63ad26_af48_11ea_8b50_09b6c06dc4a0row6_col0\" class=\"data row6 col0\" >1.211180</td>\n",
       "            </tr>\n",
       "            <tr>\n",
       "                                <th id=\"T_5d63ad26_af48_11ea_8b50_09b6c06dc4a0level1_row7\" class=\"row_heading level1 row7\" >компетенция</th>\n",
       "                        <td id=\"T_5d63ad26_af48_11ea_8b50_09b6c06dc4a0row7_col0\" class=\"data row7 col0\" >1.045100</td>\n",
       "            </tr>\n",
       "            <tr>\n",
       "                                <th id=\"T_5d63ad26_af48_11ea_8b50_09b6c06dc4a0level1_row8\" class=\"row_heading level1 row8\" >получение_новый</th>\n",
       "                        <td id=\"T_5d63ad26_af48_11ea_8b50_09b6c06dc4a0row8_col0\" class=\"data row8 col0\" >0.894450</td>\n",
       "            </tr>\n",
       "            <tr>\n",
       "                                <th id=\"T_5d63ad26_af48_11ea_8b50_09b6c06dc4a0level1_row9\" class=\"row_heading level1 row9\" >новый_знание</th>\n",
       "                        <td id=\"T_5d63ad26_af48_11ea_8b50_09b6c06dc4a0row9_col0\" class=\"data row9 col0\" >0.894410</td>\n",
       "            </tr>\n",
       "    </tbody></table><style  type=\"text/css\" >\n",
       "</style><table id=\"T_5d6484f8_af48_11ea_8b50_09b6c06dc4a0\" style='display:inline'><thead>    <tr>        <th class=\"blank\" ></th>        <th class=\"blank level0\" ></th>        <th class=\"col_heading level0 col0\" >topic_0</th>    </tr>    <tr>        <th class=\"index_name level0\" >modality</th>        <th class=\"index_name level1\" >token</th>        <th class=\"blank\" ></th>    </tr></thead><tbody>\n",
       "                <tr>\n",
       "                        <th id=\"T_5d6484f8_af48_11ea_8b50_09b6c06dc4a0level0_row0\" class=\"row_heading level0 row0\" rowspan=2>@specificity</th>\n",
       "                        <th id=\"T_5d6484f8_af48_11ea_8b50_09b6c06dc4a0level1_row0\" class=\"row_heading level1 row0\" >0</th>\n",
       "                        <td id=\"T_5d6484f8_af48_11ea_8b50_09b6c06dc4a0row0_col0\" class=\"data row0 col0\" >45.058270</td>\n",
       "            </tr>\n",
       "            <tr>\n",
       "                                <th id=\"T_5d6484f8_af48_11ea_8b50_09b6c06dc4a0level1_row1\" class=\"row_heading level1 row1\" >1</th>\n",
       "                        <td id=\"T_5d6484f8_af48_11ea_8b50_09b6c06dc4a0row1_col0\" class=\"data row1 col0\" >-0.000000</td>\n",
       "            </tr>\n",
       "    </tbody></table>"
      ]
     },
     "metadata": {},
     "output_type": "display_data"
    },
    {
     "data": {
      "text/html": [
       "<style  type=\"text/css\" >\n",
       "</style><table id=\"T_5d67c938_af48_11ea_8b50_09b6c06dc4a0\" style='display:inline'><thead>    <tr>        <th class=\"blank\" ></th>        <th class=\"blank level0\" ></th>        <th class=\"col_heading level0 col0\" >topic_1</th>    </tr>    <tr>        <th class=\"index_name level0\" >modality</th>        <th class=\"index_name level1\" >token</th>        <th class=\"blank\" ></th>    </tr></thead><tbody>\n",
       "                <tr>\n",
       "                        <th id=\"T_5d67c938_af48_11ea_8b50_09b6c06dc4a0level0_row0\" class=\"row_heading level0 row0\" rowspan=10>@info</th>\n",
       "                        <th id=\"T_5d67c938_af48_11ea_8b50_09b6c06dc4a0level1_row0\" class=\"row_heading level1 row0\" >&РЕЗУЛЬТАТ_Да,_четко</th>\n",
       "                        <td id=\"T_5d67c938_af48_11ea_8b50_09b6c06dc4a0row0_col0\" class=\"data row0 col0\" >3.772590</td>\n",
       "            </tr>\n",
       "            <tr>\n",
       "                                <th id=\"T_5d67c938_af48_11ea_8b50_09b6c06dc4a0level1_row1\" class=\"row_heading level1 row1\" >&ПРЕГРАДЫ_Не_вижу_преград</th>\n",
       "                        <td id=\"T_5d67c938_af48_11ea_8b50_09b6c06dc4a0row1_col0\" class=\"data row1 col0\" >2.536420</td>\n",
       "            </tr>\n",
       "            <tr>\n",
       "                                <th id=\"T_5d67c938_af48_11ea_8b50_09b6c06dc4a0level1_row2\" class=\"row_heading level1 row2\" >&ТИП_ЦЕЛИ_другое</th>\n",
       "                        <td id=\"T_5d67c938_af48_11ea_8b50_09b6c06dc4a0row2_col0\" class=\"data row2 col0\" >2.155220</td>\n",
       "            </tr>\n",
       "            <tr>\n",
       "                                <th id=\"T_5d67c938_af48_11ea_8b50_09b6c06dc4a0level1_row3\" class=\"row_heading level1 row3\" >&ПРЕГРАДЫ_есть_преграды</th>\n",
       "                        <td id=\"T_5d67c938_af48_11ea_8b50_09b6c06dc4a0row3_col0\" class=\"data row3 col0\" >1.935050</td>\n",
       "            </tr>\n",
       "            <tr>\n",
       "                                <th id=\"T_5d67c938_af48_11ea_8b50_09b6c06dc4a0level1_row4\" class=\"row_heading level1 row4\" >&ТИП_ЦЕЛИ_Получить_знания_в_новой_области</th>\n",
       "                        <td id=\"T_5d67c938_af48_11ea_8b50_09b6c06dc4a0row4_col0\" class=\"data row4 col0\" >1.653340</td>\n",
       "            </tr>\n",
       "            <tr>\n",
       "                                <th id=\"T_5d67c938_af48_11ea_8b50_09b6c06dc4a0level1_row5\" class=\"row_heading level1 row5\" >&ПЕРВЫЙ_ШАГ_знаю_с_чего_начать</th>\n",
       "                        <td id=\"T_5d67c938_af48_11ea_8b50_09b6c06dc4a0row5_col0\" class=\"data row5 col0\" >1.631300</td>\n",
       "            </tr>\n",
       "            <tr>\n",
       "                                <th id=\"T_5d67c938_af48_11ea_8b50_09b6c06dc4a0level1_row6\" class=\"row_heading level1 row6\" >&ВРЕМЕННЫЕ_ГРАНИЦЫ_Нет_жестких_сроков</th>\n",
       "                        <td id=\"T_5d67c938_af48_11ea_8b50_09b6c06dc4a0row6_col0\" class=\"data row6 col0\" >1.614870</td>\n",
       "            </tr>\n",
       "            <tr>\n",
       "                                <th id=\"T_5d67c938_af48_11ea_8b50_09b6c06dc4a0level1_row7\" class=\"row_heading level1 row7\" >&ТИП_ЦЕЛИ_Приобрести_новые_навыки</th>\n",
       "                        <td id=\"T_5d67c938_af48_11ea_8b50_09b6c06dc4a0row7_col0\" class=\"data row7 col0\" >1.579010</td>\n",
       "            </tr>\n",
       "            <tr>\n",
       "                                <th id=\"T_5d67c938_af48_11ea_8b50_09b6c06dc4a0level1_row8\" class=\"row_heading level1 row8\" >&ТИП_ЦЕЛИ_Развить_имеющиеся_знания_и_навыки</th>\n",
       "                        <td id=\"T_5d67c938_af48_11ea_8b50_09b6c06dc4a0row8_col0\" class=\"data row8 col0\" >1.561810</td>\n",
       "            </tr>\n",
       "            <tr>\n",
       "                                <th id=\"T_5d67c938_af48_11ea_8b50_09b6c06dc4a0level1_row9\" class=\"row_heading level1 row9\" >&РЕЗУЛЬТАТ_Да,_нечетко</th>\n",
       "                        <td id=\"T_5d67c938_af48_11ea_8b50_09b6c06dc4a0row9_col0\" class=\"data row9 col0\" >1.476910</td>\n",
       "            </tr>\n",
       "    </tbody></table><style  type=\"text/css\" >\n",
       "</style><table id=\"T_5d68798c_af48_11ea_8b50_09b6c06dc4a0\" style='display:inline'><thead>    <tr>        <th class=\"blank\" ></th>        <th class=\"blank level0\" ></th>        <th class=\"col_heading level0 col0\" >topic_1</th>    </tr>    <tr>        <th class=\"index_name level0\" >modality</th>        <th class=\"index_name level1\" >token</th>        <th class=\"blank\" ></th>    </tr></thead><tbody>\n",
       "                <tr>\n",
       "                        <th id=\"T_5d68798c_af48_11ea_8b50_09b6c06dc4a0level0_row0\" class=\"row_heading level0 row0\" rowspan=10>@ngram</th>\n",
       "                        <th id=\"T_5d68798c_af48_11ea_8b50_09b6c06dc4a0level1_row0\" class=\"row_heading level1 row0\" >новое</th>\n",
       "                        <td id=\"T_5d68798c_af48_11ea_8b50_09b6c06dc4a0row0_col0\" class=\"data row0 col0\" >1.384450</td>\n",
       "            </tr>\n",
       "            <tr>\n",
       "                                <th id=\"T_5d68798c_af48_11ea_8b50_09b6c06dc4a0level1_row1\" class=\"row_heading level1 row1\" >стать</th>\n",
       "                        <td id=\"T_5d68798c_af48_11ea_8b50_09b6c06dc4a0row1_col0\" class=\"data row1 col0\" >1.119870</td>\n",
       "            </tr>\n",
       "            <tr>\n",
       "                                <th id=\"T_5d68798c_af48_11ea_8b50_09b6c06dc4a0level1_row2\" class=\"row_heading level1 row2\" >свой</th>\n",
       "                        <td id=\"T_5d68798c_af48_11ea_8b50_09b6c06dc4a0row2_col0\" class=\"data row2 col0\" >0.994090</td>\n",
       "            </tr>\n",
       "            <tr>\n",
       "                                <th id=\"T_5d68798c_af48_11ea_8b50_09b6c06dc4a0level1_row3\" class=\"row_heading level1 row3\" >хороший</th>\n",
       "                        <td id=\"T_5d68798c_af48_11ea_8b50_09b6c06dc4a0row3_col0\" class=\"data row3 col0\" >0.921220</td>\n",
       "            </tr>\n",
       "            <tr>\n",
       "                                <th id=\"T_5d68798c_af48_11ea_8b50_09b6c06dc4a0level1_row4\" class=\"row_heading level1 row4\" >расширение</th>\n",
       "                        <td id=\"T_5d68798c_af48_11ea_8b50_09b6c06dc4a0row4_col0\" class=\"data row4 col0\" >0.837790</td>\n",
       "            </tr>\n",
       "            <tr>\n",
       "                                <th id=\"T_5d68798c_af48_11ea_8b50_09b6c06dc4a0level1_row5\" class=\"row_heading level1 row5\" >узнать</th>\n",
       "                        <td id=\"T_5d68798c_af48_11ea_8b50_09b6c06dc4a0row5_col0\" class=\"data row5 col0\" >0.759480</td>\n",
       "            </tr>\n",
       "            <tr>\n",
       "                                <th id=\"T_5d68798c_af48_11ea_8b50_09b6c06dc4a0level1_row6\" class=\"row_heading level1 row6\" >кругозор</th>\n",
       "                        <td id=\"T_5d68798c_af48_11ea_8b50_09b6c06dc4a0row6_col0\" class=\"data row6 col0\" >0.662350</td>\n",
       "            </tr>\n",
       "            <tr>\n",
       "                                <th id=\"T_5d68798c_af48_11ea_8b50_09b6c06dc4a0level1_row7\" class=\"row_heading level1 row7\" >человек</th>\n",
       "                        <td id=\"T_5d68798c_af48_11ea_8b50_09b6c06dc4a0row7_col0\" class=\"data row7 col0\" >0.540860</td>\n",
       "            </tr>\n",
       "            <tr>\n",
       "                                <th id=\"T_5d68798c_af48_11ea_8b50_09b6c06dc4a0level1_row8\" class=\"row_heading level1 row8\" >узнать_новое</th>\n",
       "                        <td id=\"T_5d68798c_af48_11ea_8b50_09b6c06dc4a0row8_col0\" class=\"data row8 col0\" >0.455410</td>\n",
       "            </tr>\n",
       "            <tr>\n",
       "                                <th id=\"T_5d68798c_af48_11ea_8b50_09b6c06dc4a0level1_row9\" class=\"row_heading level1 row9\" >познание</th>\n",
       "                        <td id=\"T_5d68798c_af48_11ea_8b50_09b6c06dc4a0row9_col0\" class=\"data row9 col0\" >0.455380</td>\n",
       "            </tr>\n",
       "    </tbody></table><style  type=\"text/css\" >\n",
       "</style><table id=\"T_5d691ffe_af48_11ea_8b50_09b6c06dc4a0\" style='display:inline'><thead>    <tr>        <th class=\"blank\" ></th>        <th class=\"blank level0\" ></th>        <th class=\"col_heading level0 col0\" >topic_1</th>    </tr>    <tr>        <th class=\"index_name level0\" >modality</th>        <th class=\"index_name level1\" >token</th>        <th class=\"blank\" ></th>    </tr></thead><tbody>\n",
       "                <tr>\n",
       "                        <th id=\"T_5d691ffe_af48_11ea_8b50_09b6c06dc4a0level0_row0\" class=\"row_heading level0 row0\" rowspan=2>@specificity</th>\n",
       "                        <th id=\"T_5d691ffe_af48_11ea_8b50_09b6c06dc4a0level1_row0\" class=\"row_heading level1 row0\" >0</th>\n",
       "                        <td id=\"T_5d691ffe_af48_11ea_8b50_09b6c06dc4a0row0_col0\" class=\"data row0 col0\" >44.164070</td>\n",
       "            </tr>\n",
       "            <tr>\n",
       "                                <th id=\"T_5d691ffe_af48_11ea_8b50_09b6c06dc4a0level1_row1\" class=\"row_heading level1 row1\" >1</th>\n",
       "                        <td id=\"T_5d691ffe_af48_11ea_8b50_09b6c06dc4a0row1_col0\" class=\"data row1 col0\" >-0.000000</td>\n",
       "            </tr>\n",
       "    </tbody></table>"
      ]
     },
     "metadata": {},
     "output_type": "display_data"
    },
    {
     "data": {
      "text/html": [
       "<style  type=\"text/css\" >\n",
       "</style><table id=\"T_5d6dfeb6_af48_11ea_8b50_09b6c06dc4a0\" style='display:inline'><thead>    <tr>        <th class=\"blank\" ></th>        <th class=\"blank level0\" ></th>        <th class=\"col_heading level0 col0\" >topic_2</th>    </tr>    <tr>        <th class=\"index_name level0\" >modality</th>        <th class=\"index_name level1\" >token</th>        <th class=\"blank\" ></th>    </tr></thead><tbody>\n",
       "                <tr>\n",
       "                        <th id=\"T_5d6dfeb6_af48_11ea_8b50_09b6c06dc4a0level0_row0\" class=\"row_heading level0 row0\" rowspan=10>@info</th>\n",
       "                        <th id=\"T_5d6dfeb6_af48_11ea_8b50_09b6c06dc4a0level1_row0\" class=\"row_heading level1 row0\" >&РЕЗУЛЬТАТ_Да,_четко</th>\n",
       "                        <td id=\"T_5d6dfeb6_af48_11ea_8b50_09b6c06dc4a0row0_col0\" class=\"data row0 col0\" >3.644000</td>\n",
       "            </tr>\n",
       "            <tr>\n",
       "                                <th id=\"T_5d6dfeb6_af48_11ea_8b50_09b6c06dc4a0level1_row1\" class=\"row_heading level1 row1\" >&ПРЕГРАДЫ_Не_вижу_преград</th>\n",
       "                        <td id=\"T_5d6dfeb6_af48_11ea_8b50_09b6c06dc4a0row1_col0\" class=\"data row1 col0\" >2.999450</td>\n",
       "            </tr>\n",
       "            <tr>\n",
       "                                <th id=\"T_5d6dfeb6_af48_11ea_8b50_09b6c06dc4a0level1_row2\" class=\"row_heading level1 row2\" >&ТИП_ЦЕЛИ_другое</th>\n",
       "                        <td id=\"T_5d6dfeb6_af48_11ea_8b50_09b6c06dc4a0row2_col0\" class=\"data row2 col0\" >2.073600</td>\n",
       "            </tr>\n",
       "            <tr>\n",
       "                                <th id=\"T_5d6dfeb6_af48_11ea_8b50_09b6c06dc4a0level1_row3\" class=\"row_heading level1 row3\" >&ТИП_ЦЕЛИ_Приобрести_новые_навыки</th>\n",
       "                        <td id=\"T_5d6dfeb6_af48_11ea_8b50_09b6c06dc4a0row3_col0\" class=\"data row3 col0\" >1.887250</td>\n",
       "            </tr>\n",
       "            <tr>\n",
       "                                <th id=\"T_5d6dfeb6_af48_11ea_8b50_09b6c06dc4a0level1_row4\" class=\"row_heading level1 row4\" >&ТИП_ЦЕЛИ_Получить_знания_в_новой_области</th>\n",
       "                        <td id=\"T_5d6dfeb6_af48_11ea_8b50_09b6c06dc4a0row4_col0\" class=\"data row4 col0\" >1.682200</td>\n",
       "            </tr>\n",
       "            <tr>\n",
       "                                <th id=\"T_5d6dfeb6_af48_11ea_8b50_09b6c06dc4a0level1_row5\" class=\"row_heading level1 row5\" >&ВРЕМЕННЫЕ_ГРАНИЦЫ_Нет_жестких_сроков</th>\n",
       "                        <td id=\"T_5d6dfeb6_af48_11ea_8b50_09b6c06dc4a0row5_col0\" class=\"data row5 col0\" >1.657910</td>\n",
       "            </tr>\n",
       "            <tr>\n",
       "                                <th id=\"T_5d6dfeb6_af48_11ea_8b50_09b6c06dc4a0level1_row6\" class=\"row_heading level1 row6\" >&ПРЕГРАДЫ_есть_преграды</th>\n",
       "                        <td id=\"T_5d6dfeb6_af48_11ea_8b50_09b6c06dc4a0row6_col0\" class=\"data row6 col0\" >1.560560</td>\n",
       "            </tr>\n",
       "            <tr>\n",
       "                                <th id=\"T_5d6dfeb6_af48_11ea_8b50_09b6c06dc4a0level1_row7\" class=\"row_heading level1 row7\" >&ТИП_ЦЕЛИ_Развить_имеющиеся_знания_и_навыки</th>\n",
       "                        <td id=\"T_5d6dfeb6_af48_11ea_8b50_09b6c06dc4a0row7_col0\" class=\"data row7 col0\" >1.545660</td>\n",
       "            </tr>\n",
       "            <tr>\n",
       "                                <th id=\"T_5d6dfeb6_af48_11ea_8b50_09b6c06dc4a0level1_row8\" class=\"row_heading level1 row8\" >&ПЕРВЫЙ_ШАГ_знаю_с_чего_начать</th>\n",
       "                        <td id=\"T_5d6dfeb6_af48_11ea_8b50_09b6c06dc4a0row8_col0\" class=\"data row8 col0\" >1.534190</td>\n",
       "            </tr>\n",
       "            <tr>\n",
       "                                <th id=\"T_5d6dfeb6_af48_11ea_8b50_09b6c06dc4a0level1_row9\" class=\"row_heading level1 row9\" >&ОСНОВНОЙ_ВИД_ДЕЙТЕЛЬНОСТИ_Работаю_в_организации,_предприятии</th>\n",
       "                        <td id=\"T_5d6dfeb6_af48_11ea_8b50_09b6c06dc4a0row9_col0\" class=\"data row9 col0\" >1.523940</td>\n",
       "            </tr>\n",
       "    </tbody></table><style  type=\"text/css\" >\n",
       "</style><table id=\"T_5d6f5950_af48_11ea_8b50_09b6c06dc4a0\" style='display:inline'><thead>    <tr>        <th class=\"blank\" ></th>        <th class=\"blank level0\" ></th>        <th class=\"col_heading level0 col0\" >topic_2</th>    </tr>    <tr>        <th class=\"index_name level0\" >modality</th>        <th class=\"index_name level1\" >token</th>        <th class=\"blank\" ></th>    </tr></thead><tbody>\n",
       "                <tr>\n",
       "                        <th id=\"T_5d6f5950_af48_11ea_8b50_09b6c06dc4a0level0_row0\" class=\"row_heading level0 row0\" rowspan=10>@ngram</th>\n",
       "                        <th id=\"T_5d6f5950_af48_11ea_8b50_09b6c06dc4a0level1_row0\" class=\"row_heading level1 row0\" >повышение</th>\n",
       "                        <td id=\"T_5d6f5950_af48_11ea_8b50_09b6c06dc4a0row0_col0\" class=\"data row0 col0\" >1.464120</td>\n",
       "            </tr>\n",
       "            <tr>\n",
       "                                <th id=\"T_5d6f5950_af48_11ea_8b50_09b6c06dc4a0level1_row1\" class=\"row_heading level1 row1\" >уровень</th>\n",
       "                        <td id=\"T_5d6f5950_af48_11ea_8b50_09b6c06dc4a0row1_col0\" class=\"data row1 col0\" >1.234360</td>\n",
       "            </tr>\n",
       "            <tr>\n",
       "                                <th id=\"T_5d6f5950_af48_11ea_8b50_09b6c06dc4a0level1_row2\" class=\"row_heading level1 row2\" >приобретение</th>\n",
       "                        <td id=\"T_5d6f5950_af48_11ea_8b50_09b6c06dc4a0row2_col0\" class=\"data row2 col0\" >0.937820</td>\n",
       "            </tr>\n",
       "            <tr>\n",
       "                                <th id=\"T_5d6f5950_af48_11ea_8b50_09b6c06dc4a0level1_row3\" class=\"row_heading level1 row3\" >умение</th>\n",
       "                        <td id=\"T_5d6f5950_af48_11ea_8b50_09b6c06dc4a0row3_col0\" class=\"data row3 col0\" >0.937580</td>\n",
       "            </tr>\n",
       "            <tr>\n",
       "                                <th id=\"T_5d6f5950_af48_11ea_8b50_09b6c06dc4a0level1_row4\" class=\"row_heading level1 row4\" >новый</th>\n",
       "                        <td id=\"T_5d6f5950_af48_11ea_8b50_09b6c06dc4a0row4_col0\" class=\"data row4 col0\" >0.884560</td>\n",
       "            </tr>\n",
       "            <tr>\n",
       "                                <th id=\"T_5d6f5950_af48_11ea_8b50_09b6c06dc4a0level1_row5\" class=\"row_heading level1 row5\" >большой</th>\n",
       "                        <td id=\"T_5d6f5950_af48_11ea_8b50_09b6c06dc4a0row5_col0\" class=\"data row5 col0\" >0.875810</td>\n",
       "            </tr>\n",
       "            <tr>\n",
       "                                <th id=\"T_5d6f5950_af48_11ea_8b50_09b6c06dc4a0level1_row6\" class=\"row_heading level1 row6\" >работа</th>\n",
       "                        <td id=\"T_5d6f5950_af48_11ea_8b50_09b6c06dc4a0row6_col0\" class=\"data row6 col0\" >0.822090</td>\n",
       "            </tr>\n",
       "            <tr>\n",
       "                                <th id=\"T_5d6f5950_af48_11ea_8b50_09b6c06dc4a0level1_row7\" class=\"row_heading level1 row7\" >рост</th>\n",
       "                        <td id=\"T_5d6f5950_af48_11ea_8b50_09b6c06dc4a0row7_col0\" class=\"data row7 col0\" >0.820000</td>\n",
       "            </tr>\n",
       "            <tr>\n",
       "                                <th id=\"T_5d6f5950_af48_11ea_8b50_09b6c06dc4a0level1_row8\" class=\"row_heading level1 row8\" >знание_умение</th>\n",
       "                        <td id=\"T_5d6f5950_af48_11ea_8b50_09b6c06dc4a0row8_col0\" class=\"data row8 col0\" >0.598540</td>\n",
       "            </tr>\n",
       "            <tr>\n",
       "                                <th id=\"T_5d6f5950_af48_11ea_8b50_09b6c06dc4a0level1_row9\" class=\"row_heading level1 row9\" >профессиональный</th>\n",
       "                        <td id=\"T_5d6f5950_af48_11ea_8b50_09b6c06dc4a0row9_col0\" class=\"data row9 col0\" >0.586290</td>\n",
       "            </tr>\n",
       "    </tbody></table><style  type=\"text/css\" >\n",
       "</style><table id=\"T_5d706a02_af48_11ea_8b50_09b6c06dc4a0\" style='display:inline'><thead>    <tr>        <th class=\"blank\" ></th>        <th class=\"blank level0\" ></th>        <th class=\"col_heading level0 col0\" >topic_2</th>    </tr>    <tr>        <th class=\"index_name level0\" >modality</th>        <th class=\"index_name level1\" >token</th>        <th class=\"blank\" ></th>    </tr></thead><tbody>\n",
       "                <tr>\n",
       "                        <th id=\"T_5d706a02_af48_11ea_8b50_09b6c06dc4a0level0_row0\" class=\"row_heading level0 row0\" rowspan=2>@specificity</th>\n",
       "                        <th id=\"T_5d706a02_af48_11ea_8b50_09b6c06dc4a0level1_row0\" class=\"row_heading level1 row0\" >0</th>\n",
       "                        <td id=\"T_5d706a02_af48_11ea_8b50_09b6c06dc4a0row0_col0\" class=\"data row0 col0\" >44.449100</td>\n",
       "            </tr>\n",
       "            <tr>\n",
       "                                <th id=\"T_5d706a02_af48_11ea_8b50_09b6c06dc4a0level1_row1\" class=\"row_heading level1 row1\" >1</th>\n",
       "                        <td id=\"T_5d706a02_af48_11ea_8b50_09b6c06dc4a0row1_col0\" class=\"data row1 col0\" >-0.000000</td>\n",
       "            </tr>\n",
       "    </tbody></table>"
      ]
     },
     "metadata": {},
     "output_type": "display_data"
    },
    {
     "data": {
      "text/html": [
       "<style  type=\"text/css\" >\n",
       "</style><table id=\"T_5d73d516_af48_11ea_8b50_09b6c06dc4a0\" style='display:inline'><thead>    <tr>        <th class=\"blank\" ></th>        <th class=\"blank level0\" ></th>        <th class=\"col_heading level0 col0\" >topic_3</th>    </tr>    <tr>        <th class=\"index_name level0\" >modality</th>        <th class=\"index_name level1\" >token</th>        <th class=\"blank\" ></th>    </tr></thead><tbody>\n",
       "                <tr>\n",
       "                        <th id=\"T_5d73d516_af48_11ea_8b50_09b6c06dc4a0level0_row0\" class=\"row_heading level0 row0\" rowspan=10>@info</th>\n",
       "                        <th id=\"T_5d73d516_af48_11ea_8b50_09b6c06dc4a0level1_row0\" class=\"row_heading level1 row0\" >&РЕЗУЛЬТАТ_Да,_четко</th>\n",
       "                        <td id=\"T_5d73d516_af48_11ea_8b50_09b6c06dc4a0row0_col0\" class=\"data row0 col0\" >9.645710</td>\n",
       "            </tr>\n",
       "            <tr>\n",
       "                                <th id=\"T_5d73d516_af48_11ea_8b50_09b6c06dc4a0level1_row1\" class=\"row_heading level1 row1\" >&ТИП_ЦЕЛИ_другое</th>\n",
       "                        <td id=\"T_5d73d516_af48_11ea_8b50_09b6c06dc4a0row1_col0\" class=\"data row1 col0\" >5.516850</td>\n",
       "            </tr>\n",
       "            <tr>\n",
       "                                <th id=\"T_5d73d516_af48_11ea_8b50_09b6c06dc4a0level1_row2\" class=\"row_heading level1 row2\" >&ПРЕГРАДЫ_Не_вижу_преград</th>\n",
       "                        <td id=\"T_5d73d516_af48_11ea_8b50_09b6c06dc4a0row2_col0\" class=\"data row2 col0\" >5.113150</td>\n",
       "            </tr>\n",
       "            <tr>\n",
       "                                <th id=\"T_5d73d516_af48_11ea_8b50_09b6c06dc4a0level1_row3\" class=\"row_heading level1 row3\" >&ПЕРВЫЙ_ШАГ_знаю_с_чего_начать</th>\n",
       "                        <td id=\"T_5d73d516_af48_11ea_8b50_09b6c06dc4a0row3_col0\" class=\"data row3 col0\" >3.751430</td>\n",
       "            </tr>\n",
       "            <tr>\n",
       "                                <th id=\"T_5d73d516_af48_11ea_8b50_09b6c06dc4a0level1_row4\" class=\"row_heading level1 row4\" >&ТИП_ЦЕЛИ_Развить_имеющиеся_знания_и_навыки</th>\n",
       "                        <td id=\"T_5d73d516_af48_11ea_8b50_09b6c06dc4a0row4_col0\" class=\"data row4 col0\" >3.668380</td>\n",
       "            </tr>\n",
       "            <tr>\n",
       "                                <th id=\"T_5d73d516_af48_11ea_8b50_09b6c06dc4a0level1_row5\" class=\"row_heading level1 row5\" >&ПРЕГРАДЫ_есть_преграды</th>\n",
       "                        <td id=\"T_5d73d516_af48_11ea_8b50_09b6c06dc4a0row5_col0\" class=\"data row5 col0\" >3.558610</td>\n",
       "            </tr>\n",
       "            <tr>\n",
       "                                <th id=\"T_5d73d516_af48_11ea_8b50_09b6c06dc4a0level1_row6\" class=\"row_heading level1 row6\" >&ТИП_ЦЕЛИ_Приобрести_новые_навыки</th>\n",
       "                        <td id=\"T_5d73d516_af48_11ea_8b50_09b6c06dc4a0row6_col0\" class=\"data row6 col0\" >3.093790</td>\n",
       "            </tr>\n",
       "            <tr>\n",
       "                                <th id=\"T_5d73d516_af48_11ea_8b50_09b6c06dc4a0level1_row7\" class=\"row_heading level1 row7\" >&ОСНОВНОЙ_ВИД_ДЕЙТЕЛЬНОСТИ_Работаю_в_организации,_предприятии</th>\n",
       "                        <td id=\"T_5d73d516_af48_11ea_8b50_09b6c06dc4a0row7_col0\" class=\"data row7 col0\" >2.852890</td>\n",
       "            </tr>\n",
       "            <tr>\n",
       "                                <th id=\"T_5d73d516_af48_11ea_8b50_09b6c06dc4a0level1_row8\" class=\"row_heading level1 row8\" >&ТИП_ЦЕЛИ_Получить_знания_в_новой_области</th>\n",
       "                        <td id=\"T_5d73d516_af48_11ea_8b50_09b6c06dc4a0row8_col0\" class=\"data row8 col0\" >2.392430</td>\n",
       "            </tr>\n",
       "            <tr>\n",
       "                                <th id=\"T_5d73d516_af48_11ea_8b50_09b6c06dc4a0level1_row9\" class=\"row_heading level1 row9\" >&ВРЕМЕННЫЕ_ГРАНИЦЫ_Нет_жестких_сроков</th>\n",
       "                        <td id=\"T_5d73d516_af48_11ea_8b50_09b6c06dc4a0row9_col0\" class=\"data row9 col0\" >2.390590</td>\n",
       "            </tr>\n",
       "    </tbody></table><style  type=\"text/css\" >\n",
       "</style><table id=\"T_5d749abe_af48_11ea_8b50_09b6c06dc4a0\" style='display:inline'><thead>    <tr>        <th class=\"blank\" ></th>        <th class=\"blank level0\" ></th>        <th class=\"col_heading level0 col0\" >topic_3</th>    </tr>    <tr>        <th class=\"index_name level0\" >modality</th>        <th class=\"index_name level1\" >token</th>        <th class=\"blank\" ></th>    </tr></thead><tbody>\n",
       "                <tr>\n",
       "                        <th id=\"T_5d749abe_af48_11ea_8b50_09b6c06dc4a0level0_row0\" class=\"row_heading level0 row0\" rowspan=10>@ngram</th>\n",
       "                        <th id=\"T_5d749abe_af48_11ea_8b50_09b6c06dc4a0level1_row0\" class=\"row_heading level1 row0\" >профессиональный</th>\n",
       "                        <td id=\"T_5d749abe_af48_11ea_8b50_09b6c06dc4a0row0_col0\" class=\"data row0 col0\" >7.392700</td>\n",
       "            </tr>\n",
       "            <tr>\n",
       "                                <th id=\"T_5d749abe_af48_11ea_8b50_09b6c06dc4a0level1_row1\" class=\"row_heading level1 row1\" >свой</th>\n",
       "                        <td id=\"T_5d749abe_af48_11ea_8b50_09b6c06dc4a0row1_col0\" class=\"data row1 col0\" >2.488760</td>\n",
       "            </tr>\n",
       "            <tr>\n",
       "                                <th id=\"T_5d749abe_af48_11ea_8b50_09b6c06dc4a0level1_row2\" class=\"row_heading level1 row2\" >стать</th>\n",
       "                        <td id=\"T_5d749abe_af48_11ea_8b50_09b6c06dc4a0row2_col0\" class=\"data row2 col0\" >2.294040</td>\n",
       "            </tr>\n",
       "            <tr>\n",
       "                                <th id=\"T_5d749abe_af48_11ea_8b50_09b6c06dc4a0level1_row3\" class=\"row_heading level1 row3\" >повышение</th>\n",
       "                        <td id=\"T_5d749abe_af48_11ea_8b50_09b6c06dc4a0row3_col0\" class=\"data row3 col0\" >1.986370</td>\n",
       "            </tr>\n",
       "            <tr>\n",
       "                                <th id=\"T_5d749abe_af48_11ea_8b50_09b6c06dc4a0level1_row4\" class=\"row_heading level1 row4\" >уровень</th>\n",
       "                        <td id=\"T_5d749abe_af48_11ea_8b50_09b6c06dc4a0row4_col0\" class=\"data row4 col0\" >1.736910</td>\n",
       "            </tr>\n",
       "            <tr>\n",
       "                                <th id=\"T_5d749abe_af48_11ea_8b50_09b6c06dc4a0level1_row5\" class=\"row_heading level1 row5\" >рост</th>\n",
       "                        <td id=\"T_5d749abe_af48_11ea_8b50_09b6c06dc4a0row5_col0\" class=\"data row5 col0\" >1.609880</td>\n",
       "            </tr>\n",
       "            <tr>\n",
       "                                <th id=\"T_5d749abe_af48_11ea_8b50_09b6c06dc4a0level1_row6\" class=\"row_heading level1 row6\" >развитие</th>\n",
       "                        <td id=\"T_5d749abe_af48_11ea_8b50_09b6c06dc4a0row6_col0\" class=\"data row6 col0\" >1.584700</td>\n",
       "            </tr>\n",
       "            <tr>\n",
       "                                <th id=\"T_5d749abe_af48_11ea_8b50_09b6c06dc4a0level1_row7\" class=\"row_heading level1 row7\" >повышение_профессиональный</th>\n",
       "                        <td id=\"T_5d749abe_af48_11ea_8b50_09b6c06dc4a0row7_col0\" class=\"data row7 col0\" >1.424680</td>\n",
       "            </tr>\n",
       "            <tr>\n",
       "                                <th id=\"T_5d749abe_af48_11ea_8b50_09b6c06dc4a0level1_row8\" class=\"row_heading level1 row8\" >профессиональный_уровень</th>\n",
       "                        <td id=\"T_5d749abe_af48_11ea_8b50_09b6c06dc4a0row8_col0\" class=\"data row8 col0\" >1.344550</td>\n",
       "            </tr>\n",
       "            <tr>\n",
       "                                <th id=\"T_5d749abe_af48_11ea_8b50_09b6c06dc4a0level1_row9\" class=\"row_heading level1 row9\" >карьерный</th>\n",
       "                        <td id=\"T_5d749abe_af48_11ea_8b50_09b6c06dc4a0row9_col0\" class=\"data row9 col0\" >1.312780</td>\n",
       "            </tr>\n",
       "    </tbody></table><style  type=\"text/css\" >\n",
       "</style><table id=\"T_5d75600c_af48_11ea_8b50_09b6c06dc4a0\" style='display:inline'><thead>    <tr>        <th class=\"blank\" ></th>        <th class=\"blank level0\" ></th>        <th class=\"col_heading level0 col0\" >topic_3</th>    </tr>    <tr>        <th class=\"index_name level0\" >modality</th>        <th class=\"index_name level1\" >token</th>        <th class=\"blank\" ></th>    </tr></thead><tbody>\n",
       "                <tr>\n",
       "                        <th id=\"T_5d75600c_af48_11ea_8b50_09b6c06dc4a0level0_row0\" class=\"row_heading level0 row0\" rowspan=2>@specificity</th>\n",
       "                        <th id=\"T_5d75600c_af48_11ea_8b50_09b6c06dc4a0level1_row0\" class=\"row_heading level1 row0\" >1</th>\n",
       "                        <td id=\"T_5d75600c_af48_11ea_8b50_09b6c06dc4a0row0_col0\" class=\"data row0 col0\" >81.391510</td>\n",
       "            </tr>\n",
       "            <tr>\n",
       "                                <th id=\"T_5d75600c_af48_11ea_8b50_09b6c06dc4a0level1_row1\" class=\"row_heading level1 row1\" >0</th>\n",
       "                        <td id=\"T_5d75600c_af48_11ea_8b50_09b6c06dc4a0row1_col0\" class=\"data row1 col0\" >-0.000000</td>\n",
       "            </tr>\n",
       "    </tbody></table>"
      ]
     },
     "metadata": {},
     "output_type": "display_data"
    },
    {
     "data": {
      "text/html": [
       "<style  type=\"text/css\" >\n",
       "</style><table id=\"T_5d86121c_af48_11ea_8b50_09b6c06dc4a0\" style='display:inline'><thead>    <tr>        <th class=\"blank\" ></th>        <th class=\"blank level0\" ></th>        <th class=\"col_heading level0 col0\" >topic_4</th>    </tr>    <tr>        <th class=\"index_name level0\" >modality</th>        <th class=\"index_name level1\" >token</th>        <th class=\"blank\" ></th>    </tr></thead><tbody>\n",
       "                <tr>\n",
       "                        <th id=\"T_5d86121c_af48_11ea_8b50_09b6c06dc4a0level0_row0\" class=\"row_heading level0 row0\" rowspan=10>@info</th>\n",
       "                        <th id=\"T_5d86121c_af48_11ea_8b50_09b6c06dc4a0level1_row0\" class=\"row_heading level1 row0\" >&РЕЗУЛЬТАТ_Да,_четко</th>\n",
       "                        <td id=\"T_5d86121c_af48_11ea_8b50_09b6c06dc4a0row0_col0\" class=\"data row0 col0\" >7.873100</td>\n",
       "            </tr>\n",
       "            <tr>\n",
       "                                <th id=\"T_5d86121c_af48_11ea_8b50_09b6c06dc4a0level1_row1\" class=\"row_heading level1 row1\" >&ПРЕГРАДЫ_Не_вижу_преград</th>\n",
       "                        <td id=\"T_5d86121c_af48_11ea_8b50_09b6c06dc4a0row1_col0\" class=\"data row1 col0\" >5.519260</td>\n",
       "            </tr>\n",
       "            <tr>\n",
       "                                <th id=\"T_5d86121c_af48_11ea_8b50_09b6c06dc4a0level1_row2\" class=\"row_heading level1 row2\" >&ТИП_ЦЕЛИ_другое</th>\n",
       "                        <td id=\"T_5d86121c_af48_11ea_8b50_09b6c06dc4a0row2_col0\" class=\"data row2 col0\" >4.367990</td>\n",
       "            </tr>\n",
       "            <tr>\n",
       "                                <th id=\"T_5d86121c_af48_11ea_8b50_09b6c06dc4a0level1_row3\" class=\"row_heading level1 row3\" >&ТИП_ЦЕЛИ_Развить_имеющиеся_знания_и_навыки</th>\n",
       "                        <td id=\"T_5d86121c_af48_11ea_8b50_09b6c06dc4a0row3_col0\" class=\"data row3 col0\" >3.770850</td>\n",
       "            </tr>\n",
       "            <tr>\n",
       "                                <th id=\"T_5d86121c_af48_11ea_8b50_09b6c06dc4a0level1_row4\" class=\"row_heading level1 row4\" >&ПЕРВЫЙ_ШАГ_знаю_с_чего_начать</th>\n",
       "                        <td id=\"T_5d86121c_af48_11ea_8b50_09b6c06dc4a0row4_col0\" class=\"data row4 col0\" >3.749780</td>\n",
       "            </tr>\n",
       "            <tr>\n",
       "                                <th id=\"T_5d86121c_af48_11ea_8b50_09b6c06dc4a0level1_row5\" class=\"row_heading level1 row5\" >&ОСНОВНОЙ_ВИД_ДЕЙТЕЛЬНОСТИ_Работаю_в_организации,_предприятии</th>\n",
       "                        <td id=\"T_5d86121c_af48_11ea_8b50_09b6c06dc4a0row5_col0\" class=\"data row5 col0\" >3.533310</td>\n",
       "            </tr>\n",
       "            <tr>\n",
       "                                <th id=\"T_5d86121c_af48_11ea_8b50_09b6c06dc4a0level1_row6\" class=\"row_heading level1 row6\" >&ПРЕГРАДЫ_есть_преграды</th>\n",
       "                        <td id=\"T_5d86121c_af48_11ea_8b50_09b6c06dc4a0row6_col0\" class=\"data row6 col0\" >3.443910</td>\n",
       "            </tr>\n",
       "            <tr>\n",
       "                                <th id=\"T_5d86121c_af48_11ea_8b50_09b6c06dc4a0level1_row7\" class=\"row_heading level1 row7\" >&ТИП_ЦЕЛИ_Приобрести_новые_навыки</th>\n",
       "                        <td id=\"T_5d86121c_af48_11ea_8b50_09b6c06dc4a0row7_col0\" class=\"data row7 col0\" >2.785640</td>\n",
       "            </tr>\n",
       "            <tr>\n",
       "                                <th id=\"T_5d86121c_af48_11ea_8b50_09b6c06dc4a0level1_row8\" class=\"row_heading level1 row8\" >&РЕЗУЛЬТАТ_Да,_нечетко</th>\n",
       "                        <td id=\"T_5d86121c_af48_11ea_8b50_09b6c06dc4a0row8_col0\" class=\"data row8 col0\" >2.767540</td>\n",
       "            </tr>\n",
       "            <tr>\n",
       "                                <th id=\"T_5d86121c_af48_11ea_8b50_09b6c06dc4a0level1_row9\" class=\"row_heading level1 row9\" >&ОБЛАСТЬ_ЦЕЛИ_Универсальные_компетенции,_гибкие_навыки_(soft_skills)</th>\n",
       "                        <td id=\"T_5d86121c_af48_11ea_8b50_09b6c06dc4a0row9_col0\" class=\"data row9 col0\" >2.697220</td>\n",
       "            </tr>\n",
       "    </tbody></table><style  type=\"text/css\" >\n",
       "</style><table id=\"T_5d87797c_af48_11ea_8b50_09b6c06dc4a0\" style='display:inline'><thead>    <tr>        <th class=\"blank\" ></th>        <th class=\"blank level0\" ></th>        <th class=\"col_heading level0 col0\" >topic_4</th>    </tr>    <tr>        <th class=\"index_name level0\" >modality</th>        <th class=\"index_name level1\" >token</th>        <th class=\"blank\" ></th>    </tr></thead><tbody>\n",
       "                <tr>\n",
       "                        <th id=\"T_5d87797c_af48_11ea_8b50_09b6c06dc4a0level0_row0\" class=\"row_heading level0 row0\" rowspan=10>@ngram</th>\n",
       "                        <th id=\"T_5d87797c_af48_11ea_8b50_09b6c06dc4a0level1_row0\" class=\"row_heading level1 row0\" >компетенция</th>\n",
       "                        <td id=\"T_5d87797c_af48_11ea_8b50_09b6c06dc4a0row0_col0\" class=\"data row0 col0\" >4.012570</td>\n",
       "            </tr>\n",
       "            <tr>\n",
       "                                <th id=\"T_5d87797c_af48_11ea_8b50_09b6c06dc4a0level1_row1\" class=\"row_heading level1 row1\" >управление</th>\n",
       "                        <td id=\"T_5d87797c_af48_11ea_8b50_09b6c06dc4a0row1_col0\" class=\"data row1 col0\" >2.372360</td>\n",
       "            </tr>\n",
       "            <tr>\n",
       "                                <th id=\"T_5d87797c_af48_11ea_8b50_09b6c06dc4a0level1_row2\" class=\"row_heading level1 row2\" >уровень</th>\n",
       "                        <td id=\"T_5d87797c_af48_11ea_8b50_09b6c06dc4a0row2_col0\" class=\"data row2 col0\" >2.297170</td>\n",
       "            </tr>\n",
       "            <tr>\n",
       "                                <th id=\"T_5d87797c_af48_11ea_8b50_09b6c06dc4a0level1_row3\" class=\"row_heading level1 row3\" >повысить</th>\n",
       "                        <td id=\"T_5d87797c_af48_11ea_8b50_09b6c06dc4a0row3_col0\" class=\"data row3 col0\" >2.040230</td>\n",
       "            </tr>\n",
       "            <tr>\n",
       "                                <th id=\"T_5d87797c_af48_11ea_8b50_09b6c06dc4a0level1_row4\" class=\"row_heading level1 row4\" >повышение</th>\n",
       "                        <td id=\"T_5d87797c_af48_11ea_8b50_09b6c06dc4a0row4_col0\" class=\"data row4 col0\" >1.934630</td>\n",
       "            </tr>\n",
       "            <tr>\n",
       "                                <th id=\"T_5d87797c_af48_11ea_8b50_09b6c06dc4a0level1_row5\" class=\"row_heading level1 row5\" >сфера</th>\n",
       "                        <td id=\"T_5d87797c_af48_11ea_8b50_09b6c06dc4a0row5_col0\" class=\"data row5 col0\" >1.787560</td>\n",
       "            </tr>\n",
       "            <tr>\n",
       "                                <th id=\"T_5d87797c_af48_11ea_8b50_09b6c06dc4a0level1_row6\" class=\"row_heading level1 row6\" >навык</th>\n",
       "                        <td id=\"T_5d87797c_af48_11ea_8b50_09b6c06dc4a0row6_col0\" class=\"data row6 col0\" >1.660240</td>\n",
       "            </tr>\n",
       "            <tr>\n",
       "                                <th id=\"T_5d87797c_af48_11ea_8b50_09b6c06dc4a0level1_row7\" class=\"row_heading level1 row7\" >повысить_уровень</th>\n",
       "                        <td id=\"T_5d87797c_af48_11ea_8b50_09b6c06dc4a0row7_col0\" class=\"data row7 col0\" >1.404000</td>\n",
       "            </tr>\n",
       "            <tr>\n",
       "                                <th id=\"T_5d87797c_af48_11ea_8b50_09b6c06dc4a0level1_row8\" class=\"row_heading level1 row8\" >новый</th>\n",
       "                        <td id=\"T_5d87797c_af48_11ea_8b50_09b6c06dc4a0row8_col0\" class=\"data row8 col0\" >1.287840</td>\n",
       "            </tr>\n",
       "            <tr>\n",
       "                                <th id=\"T_5d87797c_af48_11ea_8b50_09b6c06dc4a0level1_row9\" class=\"row_heading level1 row9\" >развитие</th>\n",
       "                        <td id=\"T_5d87797c_af48_11ea_8b50_09b6c06dc4a0row9_col0\" class=\"data row9 col0\" >1.203950</td>\n",
       "            </tr>\n",
       "    </tbody></table><style  type=\"text/css\" >\n",
       "</style><table id=\"T_5d88441a_af48_11ea_8b50_09b6c06dc4a0\" style='display:inline'><thead>    <tr>        <th class=\"blank\" ></th>        <th class=\"blank level0\" ></th>        <th class=\"col_heading level0 col0\" >topic_4</th>    </tr>    <tr>        <th class=\"index_name level0\" >modality</th>        <th class=\"index_name level1\" >token</th>        <th class=\"blank\" ></th>    </tr></thead><tbody>\n",
       "                <tr>\n",
       "                        <th id=\"T_5d88441a_af48_11ea_8b50_09b6c06dc4a0level0_row0\" class=\"row_heading level0 row0\" rowspan=2>@specificity</th>\n",
       "                        <th id=\"T_5d88441a_af48_11ea_8b50_09b6c06dc4a0level1_row0\" class=\"row_heading level1 row0\" >1</th>\n",
       "                        <td id=\"T_5d88441a_af48_11ea_8b50_09b6c06dc4a0row0_col0\" class=\"data row0 col0\" >81.906340</td>\n",
       "            </tr>\n",
       "            <tr>\n",
       "                                <th id=\"T_5d88441a_af48_11ea_8b50_09b6c06dc4a0level1_row1\" class=\"row_heading level1 row1\" >0</th>\n",
       "                        <td id=\"T_5d88441a_af48_11ea_8b50_09b6c06dc4a0row1_col0\" class=\"data row1 col0\" >-0.000000</td>\n",
       "            </tr>\n",
       "    </tbody></table>"
      ]
     },
     "metadata": {},
     "output_type": "display_data"
    },
    {
     "data": {
      "text/html": [
       "<style  type=\"text/css\" >\n",
       "</style><table id=\"T_5d8c0dfc_af48_11ea_8b50_09b6c06dc4a0\" style='display:inline'><thead>    <tr>        <th class=\"blank\" ></th>        <th class=\"blank level0\" ></th>        <th class=\"col_heading level0 col0\" >topic_5</th>    </tr>    <tr>        <th class=\"index_name level0\" >modality</th>        <th class=\"index_name level1\" >token</th>        <th class=\"blank\" ></th>    </tr></thead><tbody>\n",
       "                <tr>\n",
       "                        <th id=\"T_5d8c0dfc_af48_11ea_8b50_09b6c06dc4a0level0_row0\" class=\"row_heading level0 row0\" rowspan=10>@info</th>\n",
       "                        <th id=\"T_5d8c0dfc_af48_11ea_8b50_09b6c06dc4a0level1_row0\" class=\"row_heading level1 row0\" >&РЕЗУЛЬТАТ_Да,_четко</th>\n",
       "                        <td id=\"T_5d8c0dfc_af48_11ea_8b50_09b6c06dc4a0row0_col0\" class=\"data row0 col0\" >10.340890</td>\n",
       "            </tr>\n",
       "            <tr>\n",
       "                                <th id=\"T_5d8c0dfc_af48_11ea_8b50_09b6c06dc4a0level1_row1\" class=\"row_heading level1 row1\" >&ПРЕГРАДЫ_Не_вижу_преград</th>\n",
       "                        <td id=\"T_5d8c0dfc_af48_11ea_8b50_09b6c06dc4a0row1_col0\" class=\"data row1 col0\" >5.219530</td>\n",
       "            </tr>\n",
       "            <tr>\n",
       "                                <th id=\"T_5d8c0dfc_af48_11ea_8b50_09b6c06dc4a0level1_row2\" class=\"row_heading level1 row2\" >&ПЕРВЫЙ_ШАГ_знаю_с_чего_начать</th>\n",
       "                        <td id=\"T_5d8c0dfc_af48_11ea_8b50_09b6c06dc4a0row2_col0\" class=\"data row2 col0\" >4.128020</td>\n",
       "            </tr>\n",
       "            <tr>\n",
       "                                <th id=\"T_5d8c0dfc_af48_11ea_8b50_09b6c06dc4a0level1_row3\" class=\"row_heading level1 row3\" >&ПРЕГРАДЫ_есть_преграды</th>\n",
       "                        <td id=\"T_5d8c0dfc_af48_11ea_8b50_09b6c06dc4a0row3_col0\" class=\"data row3 col0\" >3.961000</td>\n",
       "            </tr>\n",
       "            <tr>\n",
       "                                <th id=\"T_5d8c0dfc_af48_11ea_8b50_09b6c06dc4a0level1_row4\" class=\"row_heading level1 row4\" >&ТИП_ЦЕЛИ_другое</th>\n",
       "                        <td id=\"T_5d8c0dfc_af48_11ea_8b50_09b6c06dc4a0row4_col0\" class=\"data row4 col0\" >3.803570</td>\n",
       "            </tr>\n",
       "            <tr>\n",
       "                                <th id=\"T_5d8c0dfc_af48_11ea_8b50_09b6c06dc4a0level1_row5\" class=\"row_heading level1 row5\" >&ТИП_ЦЕЛИ_Получить_знания_в_новой_области</th>\n",
       "                        <td id=\"T_5d8c0dfc_af48_11ea_8b50_09b6c06dc4a0row5_col0\" class=\"data row5 col0\" >3.564840</td>\n",
       "            </tr>\n",
       "            <tr>\n",
       "                                <th id=\"T_5d8c0dfc_af48_11ea_8b50_09b6c06dc4a0level1_row6\" class=\"row_heading level1 row6\" >&ТИП_ЦЕЛИ_Приобрести_новые_навыки</th>\n",
       "                        <td id=\"T_5d8c0dfc_af48_11ea_8b50_09b6c06dc4a0row6_col0\" class=\"data row6 col0\" >3.493380</td>\n",
       "            </tr>\n",
       "            <tr>\n",
       "                                <th id=\"T_5d8c0dfc_af48_11ea_8b50_09b6c06dc4a0level1_row7\" class=\"row_heading level1 row7\" >&ВРЕМЕННЫЕ_ГРАНИЦЫ_есть_границы</th>\n",
       "                        <td id=\"T_5d8c0dfc_af48_11ea_8b50_09b6c06dc4a0row7_col0\" class=\"data row7 col0\" >3.121930</td>\n",
       "            </tr>\n",
       "            <tr>\n",
       "                                <th id=\"T_5d8c0dfc_af48_11ea_8b50_09b6c06dc4a0level1_row8\" class=\"row_heading level1 row8\" >&ТИП_ЦЕЛИ_Развить_имеющиеся_знания_и_навыки</th>\n",
       "                        <td id=\"T_5d8c0dfc_af48_11ea_8b50_09b6c06dc4a0row8_col0\" class=\"data row8 col0\" >3.058270</td>\n",
       "            </tr>\n",
       "            <tr>\n",
       "                                <th id=\"T_5d8c0dfc_af48_11ea_8b50_09b6c06dc4a0level1_row9\" class=\"row_heading level1 row9\" >&ОСНОВНОЙ_ВИД_ДЕЙТЕЛЬНОСТИ_Учусь_в_вузе_(очная_форма_обучения)</th>\n",
       "                        <td id=\"T_5d8c0dfc_af48_11ea_8b50_09b6c06dc4a0row9_col0\" class=\"data row9 col0\" >2.698530</td>\n",
       "            </tr>\n",
       "    </tbody></table><style  type=\"text/css\" >\n",
       "</style><table id=\"T_5d8cd6b0_af48_11ea_8b50_09b6c06dc4a0\" style='display:inline'><thead>    <tr>        <th class=\"blank\" ></th>        <th class=\"blank level0\" ></th>        <th class=\"col_heading level0 col0\" >topic_5</th>    </tr>    <tr>        <th class=\"index_name level0\" >modality</th>        <th class=\"index_name level1\" >token</th>        <th class=\"blank\" ></th>    </tr></thead><tbody>\n",
       "                <tr>\n",
       "                        <th id=\"T_5d8cd6b0_af48_11ea_8b50_09b6c06dc4a0level0_row0\" class=\"row_heading level0 row0\" rowspan=10>@ngram</th>\n",
       "                        <th id=\"T_5d8cd6b0_af48_11ea_8b50_09b6c06dc4a0level1_row0\" class=\"row_heading level1 row0\" >закончить</th>\n",
       "                        <td id=\"T_5d8cd6b0_af48_11ea_8b50_09b6c06dc4a0row0_col0\" class=\"data row0 col0\" >5.161140</td>\n",
       "            </tr>\n",
       "            <tr>\n",
       "                                <th id=\"T_5d8cd6b0_af48_11ea_8b50_09b6c06dc4a0level1_row1\" class=\"row_heading level1 row1\" >программирование</th>\n",
       "                        <td id=\"T_5d8cd6b0_af48_11ea_8b50_09b6c06dc4a0row1_col0\" class=\"data row1 col0\" >3.568040</td>\n",
       "            </tr>\n",
       "            <tr>\n",
       "                                <th id=\"T_5d8cd6b0_af48_11ea_8b50_09b6c06dc4a0level1_row2\" class=\"row_heading level1 row2\" >университет</th>\n",
       "                        <td id=\"T_5d8cd6b0_af48_11ea_8b50_09b6c06dc4a0row2_col0\" class=\"data row2 col0\" >2.696220</td>\n",
       "            </tr>\n",
       "            <tr>\n",
       "                                <th id=\"T_5d8cd6b0_af48_11ea_8b50_09b6c06dc4a0level1_row3\" class=\"row_heading level1 row3\" >учёба</th>\n",
       "                        <td id=\"T_5d8cd6b0_af48_11ea_8b50_09b6c06dc4a0row3_col0\" class=\"data row3 col0\" >2.199030</td>\n",
       "            </tr>\n",
       "            <tr>\n",
       "                                <th id=\"T_5d8cd6b0_af48_11ea_8b50_09b6c06dc4a0level1_row4\" class=\"row_heading level1 row4\" >окончить</th>\n",
       "                        <td id=\"T_5d8cd6b0_af48_11ea_8b50_09b6c06dc4a0row4_col0\" class=\"data row4 col0\" >1.912100</td>\n",
       "            </tr>\n",
       "            <tr>\n",
       "                                <th id=\"T_5d8cd6b0_af48_11ea_8b50_09b6c06dc4a0level1_row5\" class=\"row_heading level1 row5\" >бизнес</th>\n",
       "                        <td id=\"T_5d8cd6b0_af48_11ea_8b50_09b6c06dc4a0row5_col0\" class=\"data row5 col0\" >1.841590</td>\n",
       "            </tr>\n",
       "            <tr>\n",
       "                                <th id=\"T_5d8cd6b0_af48_11ea_8b50_09b6c06dc4a0level1_row6\" class=\"row_heading level1 row6\" >вуз</th>\n",
       "                        <td id=\"T_5d8cd6b0_af48_11ea_8b50_09b6c06dc4a0row6_col0\" class=\"data row6 col0\" >1.697150</td>\n",
       "            </tr>\n",
       "            <tr>\n",
       "                                <th id=\"T_5d8cd6b0_af48_11ea_8b50_09b6c06dc4a0level1_row7\" class=\"row_heading level1 row7\" >язык_программирование</th>\n",
       "                        <td id=\"T_5d8cd6b0_af48_11ea_8b50_09b6c06dc4a0row7_col0\" class=\"data row7 col0\" >1.697150</td>\n",
       "            </tr>\n",
       "            <tr>\n",
       "                                <th id=\"T_5d8cd6b0_af48_11ea_8b50_09b6c06dc4a0level1_row8\" class=\"row_heading level1 row8\" >закончить_университет</th>\n",
       "                        <td id=\"T_5d8cd6b0_af48_11ea_8b50_09b6c06dc4a0row8_col0\" class=\"data row8 col0\" >1.625580</td>\n",
       "            </tr>\n",
       "            <tr>\n",
       "                                <th id=\"T_5d8cd6b0_af48_11ea_8b50_09b6c06dc4a0level1_row9\" class=\"row_heading level1 row9\" >книга</th>\n",
       "                        <td id=\"T_5d8cd6b0_af48_11ea_8b50_09b6c06dc4a0row9_col0\" class=\"data row9 col0\" >1.482520</td>\n",
       "            </tr>\n",
       "    </tbody></table><style  type=\"text/css\" >\n",
       "</style><table id=\"T_5d8d9690_af48_11ea_8b50_09b6c06dc4a0\" style='display:inline'><thead>    <tr>        <th class=\"blank\" ></th>        <th class=\"blank level0\" ></th>        <th class=\"col_heading level0 col0\" >topic_5</th>    </tr>    <tr>        <th class=\"index_name level0\" >modality</th>        <th class=\"index_name level1\" >token</th>        <th class=\"blank\" ></th>    </tr></thead><tbody>\n",
       "                <tr>\n",
       "                        <th id=\"T_5d8d9690_af48_11ea_8b50_09b6c06dc4a0level0_row0\" class=\"row_heading level0 row0\" rowspan=2>@specificity</th>\n",
       "                        <th id=\"T_5d8d9690_af48_11ea_8b50_09b6c06dc4a0level1_row0\" class=\"row_heading level1 row0\" >1</th>\n",
       "                        <td id=\"T_5d8d9690_af48_11ea_8b50_09b6c06dc4a0row0_col0\" class=\"data row0 col0\" >84.133360</td>\n",
       "            </tr>\n",
       "            <tr>\n",
       "                                <th id=\"T_5d8d9690_af48_11ea_8b50_09b6c06dc4a0level1_row1\" class=\"row_heading level1 row1\" >0</th>\n",
       "                        <td id=\"T_5d8d9690_af48_11ea_8b50_09b6c06dc4a0row1_col0\" class=\"data row1 col0\" >-0.000000</td>\n",
       "            </tr>\n",
       "    </tbody></table>"
      ]
     },
     "metadata": {},
     "output_type": "display_data"
    },
    {
     "data": {
      "text/html": [
       "<style  type=\"text/css\" >\n",
       "</style><table id=\"T_5d917dd2_af48_11ea_8b50_09b6c06dc4a0\" style='display:inline'><thead>    <tr>        <th class=\"blank\" ></th>        <th class=\"blank level0\" ></th>        <th class=\"col_heading level0 col0\" >topic_6</th>    </tr>    <tr>        <th class=\"index_name level0\" >modality</th>        <th class=\"index_name level1\" >token</th>        <th class=\"blank\" ></th>    </tr></thead><tbody>\n",
       "                <tr>\n",
       "                        <th id=\"T_5d917dd2_af48_11ea_8b50_09b6c06dc4a0level0_row0\" class=\"row_heading level0 row0\" rowspan=10>@info</th>\n",
       "                        <th id=\"T_5d917dd2_af48_11ea_8b50_09b6c06dc4a0level1_row0\" class=\"row_heading level1 row0\" >&РЕЗУЛЬТАТ_Да,_четко</th>\n",
       "                        <td id=\"T_5d917dd2_af48_11ea_8b50_09b6c06dc4a0row0_col0\" class=\"data row0 col0\" >9.450050</td>\n",
       "            </tr>\n",
       "            <tr>\n",
       "                                <th id=\"T_5d917dd2_af48_11ea_8b50_09b6c06dc4a0level1_row1\" class=\"row_heading level1 row1\" >&ПРЕГРАДЫ_есть_преграды</th>\n",
       "                        <td id=\"T_5d917dd2_af48_11ea_8b50_09b6c06dc4a0row1_col0\" class=\"data row1 col0\" >5.624670</td>\n",
       "            </tr>\n",
       "            <tr>\n",
       "                                <th id=\"T_5d917dd2_af48_11ea_8b50_09b6c06dc4a0level1_row2\" class=\"row_heading level1 row2\" >&ТИП_ЦЕЛИ_другое</th>\n",
       "                        <td id=\"T_5d917dd2_af48_11ea_8b50_09b6c06dc4a0row2_col0\" class=\"data row2 col0\" >4.741970</td>\n",
       "            </tr>\n",
       "            <tr>\n",
       "                                <th id=\"T_5d917dd2_af48_11ea_8b50_09b6c06dc4a0level1_row3\" class=\"row_heading level1 row3\" >&ПЕРВЫЙ_ШАГ_знаю_с_чего_начать</th>\n",
       "                        <td id=\"T_5d917dd2_af48_11ea_8b50_09b6c06dc4a0row3_col0\" class=\"data row3 col0\" >4.255960</td>\n",
       "            </tr>\n",
       "            <tr>\n",
       "                                <th id=\"T_5d917dd2_af48_11ea_8b50_09b6c06dc4a0level1_row4\" class=\"row_heading level1 row4\" >&ПРЕГРАДЫ_Не_вижу_преград</th>\n",
       "                        <td id=\"T_5d917dd2_af48_11ea_8b50_09b6c06dc4a0row4_col0\" class=\"data row4 col0\" >4.106930</td>\n",
       "            </tr>\n",
       "            <tr>\n",
       "                                <th id=\"T_5d917dd2_af48_11ea_8b50_09b6c06dc4a0level1_row5\" class=\"row_heading level1 row5\" >&ТИП_ЦЕЛИ_Развить_имеющиеся_знания_и_навыки</th>\n",
       "                        <td id=\"T_5d917dd2_af48_11ea_8b50_09b6c06dc4a0row5_col0\" class=\"data row5 col0\" >3.286280</td>\n",
       "            </tr>\n",
       "            <tr>\n",
       "                                <th id=\"T_5d917dd2_af48_11ea_8b50_09b6c06dc4a0level1_row6\" class=\"row_heading level1 row6\" >&ВРЕМЕННЫЕ_ГРАНИЦЫ_есть_границы</th>\n",
       "                        <td id=\"T_5d917dd2_af48_11ea_8b50_09b6c06dc4a0row6_col0\" class=\"data row6 col0\" >3.094750</td>\n",
       "            </tr>\n",
       "            <tr>\n",
       "                                <th id=\"T_5d917dd2_af48_11ea_8b50_09b6c06dc4a0level1_row7\" class=\"row_heading level1 row7\" >&ТИП_ЦЕЛИ_Получить_знания_в_новой_области</th>\n",
       "                        <td id=\"T_5d917dd2_af48_11ea_8b50_09b6c06dc4a0row7_col0\" class=\"data row7 col0\" >2.968280</td>\n",
       "            </tr>\n",
       "            <tr>\n",
       "                                <th id=\"T_5d917dd2_af48_11ea_8b50_09b6c06dc4a0level1_row8\" class=\"row_heading level1 row8\" >&ТИП_ЦЕЛИ_Приобрести_новые_навыки</th>\n",
       "                        <td id=\"T_5d917dd2_af48_11ea_8b50_09b6c06dc4a0row8_col0\" class=\"data row8 col0\" >2.944650</td>\n",
       "            </tr>\n",
       "            <tr>\n",
       "                                <th id=\"T_5d917dd2_af48_11ea_8b50_09b6c06dc4a0level1_row9\" class=\"row_heading level1 row9\" >&ОСНОВНОЙ_ВИД_ДЕЙТЕЛЬНОСТИ_Работаю_в_организации,_предприятии</th>\n",
       "                        <td id=\"T_5d917dd2_af48_11ea_8b50_09b6c06dc4a0row9_col0\" class=\"data row9 col0\" >2.795290</td>\n",
       "            </tr>\n",
       "    </tbody></table><style  type=\"text/css\" >\n",
       "</style><table id=\"T_5d92c516_af48_11ea_8b50_09b6c06dc4a0\" style='display:inline'><thead>    <tr>        <th class=\"blank\" ></th>        <th class=\"blank level0\" ></th>        <th class=\"col_heading level0 col0\" >topic_6</th>    </tr>    <tr>        <th class=\"index_name level0\" >modality</th>        <th class=\"index_name level1\" >token</th>        <th class=\"blank\" ></th>    </tr></thead><tbody>\n",
       "                <tr>\n",
       "                        <th id=\"T_5d92c516_af48_11ea_8b50_09b6c06dc4a0level0_row0\" class=\"row_heading level0 row0\" rowspan=10>@ngram</th>\n",
       "                        <th id=\"T_5d92c516_af48_11ea_8b50_09b6c06dc4a0level1_row0\" class=\"row_heading level1 row0\" >диссертация</th>\n",
       "                        <td id=\"T_5d92c516_af48_11ea_8b50_09b6c06dc4a0row0_col0\" class=\"data row0 col0\" >2.576090</td>\n",
       "            </tr>\n",
       "            <tr>\n",
       "                                <th id=\"T_5d92c516_af48_11ea_8b50_09b6c06dc4a0level1_row1\" class=\"row_heading level1 row1\" >защитить</th>\n",
       "                        <td id=\"T_5d92c516_af48_11ea_8b50_09b6c06dc4a0row1_col0\" class=\"data row1 col0\" >1.731990</td>\n",
       "            </tr>\n",
       "            <tr>\n",
       "                                <th id=\"T_5d92c516_af48_11ea_8b50_09b6c06dc4a0level1_row2\" class=\"row_heading level1 row2\" >докторский</th>\n",
       "                        <td id=\"T_5d92c516_af48_11ea_8b50_09b6c06dc4a0row2_col0\" class=\"data row2 col0\" >1.521680</td>\n",
       "            </tr>\n",
       "            <tr>\n",
       "                                <th id=\"T_5d92c516_af48_11ea_8b50_09b6c06dc4a0level1_row3\" class=\"row_heading level1 row3\" >технология</th>\n",
       "                        <td id=\"T_5d92c516_af48_11ea_8b50_09b6c06dc4a0row3_col0\" class=\"data row3 col0\" >1.466820</td>\n",
       "            </tr>\n",
       "            <tr>\n",
       "                                <th id=\"T_5d92c516_af48_11ea_8b50_09b6c06dc4a0level1_row4\" class=\"row_heading level1 row4\" >степень</th>\n",
       "                        <td id=\"T_5d92c516_af48_11ea_8b50_09b6c06dc4a0row4_col0\" class=\"data row4 col0\" >1.451660</td>\n",
       "            </tr>\n",
       "            <tr>\n",
       "                                <th id=\"T_5d92c516_af48_11ea_8b50_09b6c06dc4a0level1_row5\" class=\"row_heading level1 row5\" >докторский_диссертация</th>\n",
       "                        <td id=\"T_5d92c516_af48_11ea_8b50_09b6c06dc4a0row5_col0\" class=\"data row5 col0\" >1.381670</td>\n",
       "            </tr>\n",
       "            <tr>\n",
       "                                <th id=\"T_5d92c516_af48_11ea_8b50_09b6c06dc4a0level1_row6\" class=\"row_heading level1 row6\" >научиться</th>\n",
       "                        <td id=\"T_5d92c516_af48_11ea_8b50_09b6c06dc4a0row6_col0\" class=\"data row6 col0\" >1.202580</td>\n",
       "            </tr>\n",
       "            <tr>\n",
       "                                <th id=\"T_5d92c516_af48_11ea_8b50_09b6c06dc4a0level1_row7\" class=\"row_heading level1 row7\" >образование</th>\n",
       "                        <td id=\"T_5d92c516_af48_11ea_8b50_09b6c06dc4a0row7_col0\" class=\"data row7 col0\" >1.166830</td>\n",
       "            </tr>\n",
       "            <tr>\n",
       "                                <th id=\"T_5d92c516_af48_11ea_8b50_09b6c06dc4a0level1_row8\" class=\"row_heading level1 row8\" >область</th>\n",
       "                        <td id=\"T_5d92c516_af48_11ea_8b50_09b6c06dc4a0row8_col0\" class=\"data row8 col0\" >1.106710</td>\n",
       "            </tr>\n",
       "            <tr>\n",
       "                                <th id=\"T_5d92c516_af48_11ea_8b50_09b6c06dc4a0level1_row9\" class=\"row_heading level1 row9\" >получить</th>\n",
       "                        <td id=\"T_5d92c516_af48_11ea_8b50_09b6c06dc4a0row9_col0\" class=\"data row9 col0\" >1.093160</td>\n",
       "            </tr>\n",
       "    </tbody></table><style  type=\"text/css\" >\n",
       "</style><table id=\"T_5d93b566_af48_11ea_8b50_09b6c06dc4a0\" style='display:inline'><thead>    <tr>        <th class=\"blank\" ></th>        <th class=\"blank level0\" ></th>        <th class=\"col_heading level0 col0\" >topic_6</th>    </tr>    <tr>        <th class=\"index_name level0\" >modality</th>        <th class=\"index_name level1\" >token</th>        <th class=\"blank\" ></th>    </tr></thead><tbody>\n",
       "                <tr>\n",
       "                        <th id=\"T_5d93b566_af48_11ea_8b50_09b6c06dc4a0level0_row0\" class=\"row_heading level0 row0\" rowspan=2>@specificity</th>\n",
       "                        <th id=\"T_5d93b566_af48_11ea_8b50_09b6c06dc4a0level1_row0\" class=\"row_heading level1 row0\" >1</th>\n",
       "                        <td id=\"T_5d93b566_af48_11ea_8b50_09b6c06dc4a0row0_col0\" class=\"data row0 col0\" >82.700880</td>\n",
       "            </tr>\n",
       "            <tr>\n",
       "                                <th id=\"T_5d93b566_af48_11ea_8b50_09b6c06dc4a0level1_row1\" class=\"row_heading level1 row1\" >0</th>\n",
       "                        <td id=\"T_5d93b566_af48_11ea_8b50_09b6c06dc4a0row1_col0\" class=\"data row1 col0\" >-0.000000</td>\n",
       "            </tr>\n",
       "    </tbody></table>"
      ]
     },
     "metadata": {},
     "output_type": "display_data"
    },
    {
     "data": {
      "text/html": [
       "<style  type=\"text/css\" >\n",
       "</style><table id=\"T_5d9752b6_af48_11ea_8b50_09b6c06dc4a0\" style='display:inline'><thead>    <tr>        <th class=\"blank\" ></th>        <th class=\"blank level0\" ></th>        <th class=\"col_heading level0 col0\" >topic_7</th>    </tr>    <tr>        <th class=\"index_name level0\" >modality</th>        <th class=\"index_name level1\" >token</th>        <th class=\"blank\" ></th>    </tr></thead><tbody>\n",
       "                <tr>\n",
       "                        <th id=\"T_5d9752b6_af48_11ea_8b50_09b6c06dc4a0level0_row0\" class=\"row_heading level0 row0\" rowspan=10>@info</th>\n",
       "                        <th id=\"T_5d9752b6_af48_11ea_8b50_09b6c06dc4a0level1_row0\" class=\"row_heading level1 row0\" >&РЕЗУЛЬТАТ_Да,_четко</th>\n",
       "                        <td id=\"T_5d9752b6_af48_11ea_8b50_09b6c06dc4a0row0_col0\" class=\"data row0 col0\" >10.380340</td>\n",
       "            </tr>\n",
       "            <tr>\n",
       "                                <th id=\"T_5d9752b6_af48_11ea_8b50_09b6c06dc4a0level1_row1\" class=\"row_heading level1 row1\" >&ПРЕГРАДЫ_есть_преграды</th>\n",
       "                        <td id=\"T_5d9752b6_af48_11ea_8b50_09b6c06dc4a0row1_col0\" class=\"data row1 col0\" >6.489830</td>\n",
       "            </tr>\n",
       "            <tr>\n",
       "                                <th id=\"T_5d9752b6_af48_11ea_8b50_09b6c06dc4a0level1_row2\" class=\"row_heading level1 row2\" >&ПРЕГРАДЫ_Не_вижу_преград</th>\n",
       "                        <td id=\"T_5d9752b6_af48_11ea_8b50_09b6c06dc4a0row2_col0\" class=\"data row2 col0\" >4.395980</td>\n",
       "            </tr>\n",
       "            <tr>\n",
       "                                <th id=\"T_5d9752b6_af48_11ea_8b50_09b6c06dc4a0level1_row3\" class=\"row_heading level1 row3\" >&ПЕРВЫЙ_ШАГ_знаю_с_чего_начать</th>\n",
       "                        <td id=\"T_5d9752b6_af48_11ea_8b50_09b6c06dc4a0row3_col0\" class=\"data row3 col0\" >4.289070</td>\n",
       "            </tr>\n",
       "            <tr>\n",
       "                                <th id=\"T_5d9752b6_af48_11ea_8b50_09b6c06dc4a0level1_row4\" class=\"row_heading level1 row4\" >&ТИП_ЦЕЛИ_другое</th>\n",
       "                        <td id=\"T_5d9752b6_af48_11ea_8b50_09b6c06dc4a0row4_col0\" class=\"data row4 col0\" >4.169640</td>\n",
       "            </tr>\n",
       "            <tr>\n",
       "                                <th id=\"T_5d9752b6_af48_11ea_8b50_09b6c06dc4a0level1_row5\" class=\"row_heading level1 row5\" >&ПОДОБЛАСТЬ_ЦЕЛИ_Иностранные_языки</th>\n",
       "                        <td id=\"T_5d9752b6_af48_11ea_8b50_09b6c06dc4a0row5_col0\" class=\"data row5 col0\" >4.086110</td>\n",
       "            </tr>\n",
       "            <tr>\n",
       "                                <th id=\"T_5d9752b6_af48_11ea_8b50_09b6c06dc4a0level1_row6\" class=\"row_heading level1 row6\" >&ОБЛАСТЬ_ЦЕЛИ_Иностранные_языки,_гуманитарные_знания_и_навыки</th>\n",
       "                        <td id=\"T_5d9752b6_af48_11ea_8b50_09b6c06dc4a0row6_col0\" class=\"data row6 col0\" >3.924490</td>\n",
       "            </tr>\n",
       "            <tr>\n",
       "                                <th id=\"T_5d9752b6_af48_11ea_8b50_09b6c06dc4a0level1_row7\" class=\"row_heading level1 row7\" >&ТИП_ЦЕЛИ_Развить_имеющиеся_знания_и_навыки</th>\n",
       "                        <td id=\"T_5d9752b6_af48_11ea_8b50_09b6c06dc4a0row7_col0\" class=\"data row7 col0\" >3.904810</td>\n",
       "            </tr>\n",
       "            <tr>\n",
       "                                <th id=\"T_5d9752b6_af48_11ea_8b50_09b6c06dc4a0level1_row8\" class=\"row_heading level1 row8\" >&ТИП_ЦЕЛИ_Получить_знания_в_новой_области</th>\n",
       "                        <td id=\"T_5d9752b6_af48_11ea_8b50_09b6c06dc4a0row8_col0\" class=\"data row8 col0\" >3.161240</td>\n",
       "            </tr>\n",
       "            <tr>\n",
       "                                <th id=\"T_5d9752b6_af48_11ea_8b50_09b6c06dc4a0level1_row9\" class=\"row_heading level1 row9\" >&ТИП_ЦЕЛИ_Приобрести_новые_навыки</th>\n",
       "                        <td id=\"T_5d9752b6_af48_11ea_8b50_09b6c06dc4a0row9_col0\" class=\"data row9 col0\" >3.045110</td>\n",
       "            </tr>\n",
       "    </tbody></table><style  type=\"text/css\" >\n",
       "</style><table id=\"T_5d981390_af48_11ea_8b50_09b6c06dc4a0\" style='display:inline'><thead>    <tr>        <th class=\"blank\" ></th>        <th class=\"blank level0\" ></th>        <th class=\"col_heading level0 col0\" >topic_7</th>    </tr>    <tr>        <th class=\"index_name level0\" >modality</th>        <th class=\"index_name level1\" >token</th>        <th class=\"blank\" ></th>    </tr></thead><tbody>\n",
       "                <tr>\n",
       "                        <th id=\"T_5d981390_af48_11ea_8b50_09b6c06dc4a0level0_row0\" class=\"row_heading level0 row0\" rowspan=10>@ngram</th>\n",
       "                        <th id=\"T_5d981390_af48_11ea_8b50_09b6c06dc4a0level1_row0\" class=\"row_heading level1 row0\" >язык</th>\n",
       "                        <td id=\"T_5d981390_af48_11ea_8b50_09b6c06dc4a0row0_col0\" class=\"data row0 col0\" >10.051710</td>\n",
       "            </tr>\n",
       "            <tr>\n",
       "                                <th id=\"T_5d981390_af48_11ea_8b50_09b6c06dc4a0level1_row1\" class=\"row_heading level1 row1\" >английский</th>\n",
       "                        <td id=\"T_5d981390_af48_11ea_8b50_09b6c06dc4a0row1_col0\" class=\"data row1 col0\" >6.810800</td>\n",
       "            </tr>\n",
       "            <tr>\n",
       "                                <th id=\"T_5d981390_af48_11ea_8b50_09b6c06dc4a0level1_row2\" class=\"row_heading level1 row2\" >английский_язык</th>\n",
       "                        <td id=\"T_5d981390_af48_11ea_8b50_09b6c06dc4a0row2_col0\" class=\"data row2 col0\" >4.498050</td>\n",
       "            </tr>\n",
       "            <tr>\n",
       "                                <th id=\"T_5d981390_af48_11ea_8b50_09b6c06dc4a0level1_row3\" class=\"row_heading level1 row3\" >выучить</th>\n",
       "                        <td id=\"T_5d981390_af48_11ea_8b50_09b6c06dc4a0row3_col0\" class=\"data row3 col0\" >4.376660</td>\n",
       "            </tr>\n",
       "            <tr>\n",
       "                                <th id=\"T_5d981390_af48_11ea_8b50_09b6c06dc4a0level1_row4\" class=\"row_heading level1 row4\" >уровень</th>\n",
       "                        <td id=\"T_5d981390_af48_11ea_8b50_09b6c06dc4a0row4_col0\" class=\"data row4 col0\" >2.474200</td>\n",
       "            </tr>\n",
       "            <tr>\n",
       "                                <th id=\"T_5d981390_af48_11ea_8b50_09b6c06dc4a0level1_row5\" class=\"row_heading level1 row5\" >изучить</th>\n",
       "                        <td id=\"T_5d981390_af48_11ea_8b50_09b6c06dc4a0row5_col0\" class=\"data row5 col0\" >2.348870</td>\n",
       "            </tr>\n",
       "            <tr>\n",
       "                                <th id=\"T_5d981390_af48_11ea_8b50_09b6c06dc4a0level1_row6\" class=\"row_heading level1 row6\" >иностранный</th>\n",
       "                        <td id=\"T_5d981390_af48_11ea_8b50_09b6c06dc4a0row6_col0\" class=\"data row6 col0\" >1.839240</td>\n",
       "            </tr>\n",
       "            <tr>\n",
       "                                <th id=\"T_5d981390_af48_11ea_8b50_09b6c06dc4a0level1_row7\" class=\"row_heading level1 row7\" >иностранный_язык</th>\n",
       "                        <td id=\"T_5d981390_af48_11ea_8b50_09b6c06dc4a0row7_col0\" class=\"data row7 col0\" >1.779190</td>\n",
       "            </tr>\n",
       "            <tr>\n",
       "                                <th id=\"T_5d981390_af48_11ea_8b50_09b6c06dc4a0level1_row8\" class=\"row_heading level1 row8\" >выучить_английский</th>\n",
       "                        <td id=\"T_5d981390_af48_11ea_8b50_09b6c06dc4a0row8_col0\" class=\"data row8 col0\" >1.659180</td>\n",
       "            </tr>\n",
       "            <tr>\n",
       "                                <th id=\"T_5d981390_af48_11ea_8b50_09b6c06dc4a0level1_row9\" class=\"row_heading level1 row9\" >изучение</th>\n",
       "                        <td id=\"T_5d981390_af48_11ea_8b50_09b6c06dc4a0row9_col0\" class=\"data row9 col0\" >0.977160</td>\n",
       "            </tr>\n",
       "    </tbody></table><style  type=\"text/css\" >\n",
       "</style><table id=\"T_5d98d1c2_af48_11ea_8b50_09b6c06dc4a0\" style='display:inline'><thead>    <tr>        <th class=\"blank\" ></th>        <th class=\"blank level0\" ></th>        <th class=\"col_heading level0 col0\" >topic_7</th>    </tr>    <tr>        <th class=\"index_name level0\" >modality</th>        <th class=\"index_name level1\" >token</th>        <th class=\"blank\" ></th>    </tr></thead><tbody>\n",
       "                <tr>\n",
       "                        <th id=\"T_5d98d1c2_af48_11ea_8b50_09b6c06dc4a0level0_row0\" class=\"row_heading level0 row0\" rowspan=2>@specificity</th>\n",
       "                        <th id=\"T_5d98d1c2_af48_11ea_8b50_09b6c06dc4a0level1_row0\" class=\"row_heading level1 row0\" >1</th>\n",
       "                        <td id=\"T_5d98d1c2_af48_11ea_8b50_09b6c06dc4a0row0_col0\" class=\"data row0 col0\" >85.267500</td>\n",
       "            </tr>\n",
       "            <tr>\n",
       "                                <th id=\"T_5d98d1c2_af48_11ea_8b50_09b6c06dc4a0level1_row1\" class=\"row_heading level1 row1\" >0</th>\n",
       "                        <td id=\"T_5d98d1c2_af48_11ea_8b50_09b6c06dc4a0row1_col0\" class=\"data row1 col0\" >-0.000000</td>\n",
       "            </tr>\n",
       "    </tbody></table>"
      ]
     },
     "metadata": {},
     "output_type": "display_data"
    },
    {
     "data": {
      "text/html": [
       "<style  type=\"text/css\" >\n",
       "</style><table id=\"T_5d9c78e0_af48_11ea_8b50_09b6c06dc4a0\" style='display:inline'><thead>    <tr>        <th class=\"blank\" ></th>        <th class=\"blank level0\" ></th>        <th class=\"col_heading level0 col0\" >topic_8</th>    </tr>    <tr>        <th class=\"index_name level0\" >modality</th>        <th class=\"index_name level1\" >token</th>        <th class=\"blank\" ></th>    </tr></thead><tbody>\n",
       "                <tr>\n",
       "                        <th id=\"T_5d9c78e0_af48_11ea_8b50_09b6c06dc4a0level0_row0\" class=\"row_heading level0 row0\" rowspan=10>@info</th>\n",
       "                        <th id=\"T_5d9c78e0_af48_11ea_8b50_09b6c06dc4a0level1_row0\" class=\"row_heading level1 row0\" >&РЕЗУЛЬТАТ_Да,_четко</th>\n",
       "                        <td id=\"T_5d9c78e0_af48_11ea_8b50_09b6c06dc4a0row0_col0\" class=\"data row0 col0\" >10.071400</td>\n",
       "            </tr>\n",
       "            <tr>\n",
       "                                <th id=\"T_5d9c78e0_af48_11ea_8b50_09b6c06dc4a0level1_row1\" class=\"row_heading level1 row1\" >&ПРЕГРАДЫ_Не_вижу_преград</th>\n",
       "                        <td id=\"T_5d9c78e0_af48_11ea_8b50_09b6c06dc4a0row1_col0\" class=\"data row1 col0\" >6.535760</td>\n",
       "            </tr>\n",
       "            <tr>\n",
       "                                <th id=\"T_5d9c78e0_af48_11ea_8b50_09b6c06dc4a0level1_row2\" class=\"row_heading level1 row2\" >&ПЕРВЫЙ_ШАГ_знаю_с_чего_начать</th>\n",
       "                        <td id=\"T_5d9c78e0_af48_11ea_8b50_09b6c06dc4a0row2_col0\" class=\"data row2 col0\" >3.969300</td>\n",
       "            </tr>\n",
       "            <tr>\n",
       "                                <th id=\"T_5d9c78e0_af48_11ea_8b50_09b6c06dc4a0level1_row3\" class=\"row_heading level1 row3\" >&ТИП_ЦЕЛИ_другое</th>\n",
       "                        <td id=\"T_5d9c78e0_af48_11ea_8b50_09b6c06dc4a0row3_col0\" class=\"data row3 col0\" >3.751450</td>\n",
       "            </tr>\n",
       "            <tr>\n",
       "                                <th id=\"T_5d9c78e0_af48_11ea_8b50_09b6c06dc4a0level1_row4\" class=\"row_heading level1 row4\" >&ТИП_ЦЕЛИ_Развить_имеющиеся_знания_и_навыки</th>\n",
       "                        <td id=\"T_5d9c78e0_af48_11ea_8b50_09b6c06dc4a0row4_col0\" class=\"data row4 col0\" >3.115860</td>\n",
       "            </tr>\n",
       "            <tr>\n",
       "                                <th id=\"T_5d9c78e0_af48_11ea_8b50_09b6c06dc4a0level1_row5\" class=\"row_heading level1 row5\" >&ТИП_ЦЕЛИ_Получить_знания_в_новой_области</th>\n",
       "                        <td id=\"T_5d9c78e0_af48_11ea_8b50_09b6c06dc4a0row5_col0\" class=\"data row5 col0\" >2.943260</td>\n",
       "            </tr>\n",
       "            <tr>\n",
       "                                <th id=\"T_5d9c78e0_af48_11ea_8b50_09b6c06dc4a0level1_row6\" class=\"row_heading level1 row6\" >&ПРЕГРАДЫ_есть_преграды</th>\n",
       "                        <td id=\"T_5d9c78e0_af48_11ea_8b50_09b6c06dc4a0row6_col0\" class=\"data row6 col0\" >2.718850</td>\n",
       "            </tr>\n",
       "            <tr>\n",
       "                                <th id=\"T_5d9c78e0_af48_11ea_8b50_09b6c06dc4a0level1_row7\" class=\"row_heading level1 row7\" >&ТИП_ЦЕЛИ_Приобрести_новые_навыки</th>\n",
       "                        <td id=\"T_5d9c78e0_af48_11ea_8b50_09b6c06dc4a0row7_col0\" class=\"data row7 col0\" >2.694050</td>\n",
       "            </tr>\n",
       "            <tr>\n",
       "                                <th id=\"T_5d9c78e0_af48_11ea_8b50_09b6c06dc4a0level1_row8\" class=\"row_heading level1 row8\" >&ВРЕМЕННЫЕ_ГРАНИЦЫ_есть_границы</th>\n",
       "                        <td id=\"T_5d9c78e0_af48_11ea_8b50_09b6c06dc4a0row8_col0\" class=\"data row8 col0\" >2.314050</td>\n",
       "            </tr>\n",
       "            <tr>\n",
       "                                <th id=\"T_5d9c78e0_af48_11ea_8b50_09b6c06dc4a0level1_row9\" class=\"row_heading level1 row9\" >&ВРЕМЕННЫЕ_ГРАНИЦЫ_Нет_жестких_сроков</th>\n",
       "                        <td id=\"T_5d9c78e0_af48_11ea_8b50_09b6c06dc4a0row9_col0\" class=\"data row9 col0\" >2.155290</td>\n",
       "            </tr>\n",
       "    </tbody></table><style  type=\"text/css\" >\n",
       "</style><table id=\"T_5d9deb26_af48_11ea_8b50_09b6c06dc4a0\" style='display:inline'><thead>    <tr>        <th class=\"blank\" ></th>        <th class=\"blank level0\" ></th>        <th class=\"col_heading level0 col0\" >topic_8</th>    </tr>    <tr>        <th class=\"index_name level0\" >modality</th>        <th class=\"index_name level1\" >token</th>        <th class=\"blank\" ></th>    </tr></thead><tbody>\n",
       "                <tr>\n",
       "                        <th id=\"T_5d9deb26_af48_11ea_8b50_09b6c06dc4a0level0_row0\" class=\"row_heading level0 row0\" rowspan=10>@ngram</th>\n",
       "                        <th id=\"T_5d9deb26_af48_11ea_8b50_09b6c06dc4a0level1_row0\" class=\"row_heading level1 row0\" >получить</th>\n",
       "                        <td id=\"T_5d9deb26_af48_11ea_8b50_09b6c06dc4a0row0_col0\" class=\"data row0 col0\" >5.230130</td>\n",
       "            </tr>\n",
       "            <tr>\n",
       "                                <th id=\"T_5d9deb26_af48_11ea_8b50_09b6c06dc4a0level1_row1\" class=\"row_heading level1 row1\" >образование</th>\n",
       "                        <td id=\"T_5d9deb26_af48_11ea_8b50_09b6c06dc4a0row1_col0\" class=\"data row1 col0\" >3.375790</td>\n",
       "            </tr>\n",
       "            <tr>\n",
       "                                <th id=\"T_5d9deb26_af48_11ea_8b50_09b6c06dc4a0level1_row2\" class=\"row_heading level1 row2\" >высокий</th>\n",
       "                        <td id=\"T_5d9deb26_af48_11ea_8b50_09b6c06dc4a0row2_col0\" class=\"data row2 col0\" >2.536240</td>\n",
       "            </tr>\n",
       "            <tr>\n",
       "                                <th id=\"T_5d9deb26_af48_11ea_8b50_09b6c06dc4a0level1_row3\" class=\"row_heading level1 row3\" >обучение</th>\n",
       "                        <td id=\"T_5d9deb26_af48_11ea_8b50_09b6c06dc4a0row3_col0\" class=\"data row3 col0\" >2.165620</td>\n",
       "            </tr>\n",
       "            <tr>\n",
       "                                <th id=\"T_5d9deb26_af48_11ea_8b50_09b6c06dc4a0level1_row4\" class=\"row_heading level1 row4\" >диплом</th>\n",
       "                        <td id=\"T_5d9deb26_af48_11ea_8b50_09b6c06dc4a0row4_col0\" class=\"data row4 col0\" >1.895140</td>\n",
       "            </tr>\n",
       "            <tr>\n",
       "                                <th id=\"T_5d9deb26_af48_11ea_8b50_09b6c06dc4a0level1_row5\" class=\"row_heading level1 row5\" >квалификация</th>\n",
       "                        <td id=\"T_5d9deb26_af48_11ea_8b50_09b6c06dc4a0row5_col0\" class=\"data row5 col0\" >1.758070</td>\n",
       "            </tr>\n",
       "            <tr>\n",
       "                                <th id=\"T_5d9deb26_af48_11ea_8b50_09b6c06dc4a0level1_row6\" class=\"row_heading level1 row6\" >высокий_образование</th>\n",
       "                        <td id=\"T_5d9deb26_af48_11ea_8b50_09b6c06dc4a0row6_col0\" class=\"data row6 col0\" >1.575570</td>\n",
       "            </tr>\n",
       "            <tr>\n",
       "                                <th id=\"T_5d9deb26_af48_11ea_8b50_09b6c06dc4a0level1_row7\" class=\"row_heading level1 row7\" >курс</th>\n",
       "                        <td id=\"T_5d9deb26_af48_11ea_8b50_09b6c06dc4a0row7_col0\" class=\"data row7 col0\" >1.479740</td>\n",
       "            </tr>\n",
       "            <tr>\n",
       "                                <th id=\"T_5d9deb26_af48_11ea_8b50_09b6c06dc4a0level1_row8\" class=\"row_heading level1 row8\" >получить_высокий</th>\n",
       "                        <td id=\"T_5d9deb26_af48_11ea_8b50_09b6c06dc4a0row8_col0\" class=\"data row8 col0\" >1.347800</td>\n",
       "            </tr>\n",
       "            <tr>\n",
       "                                <th id=\"T_5d9deb26_af48_11ea_8b50_09b6c06dc4a0level1_row9\" class=\"row_heading level1 row9\" >пройти</th>\n",
       "                        <td id=\"T_5d9deb26_af48_11ea_8b50_09b6c06dc4a0row9_col0\" class=\"data row9 col0\" >1.347790</td>\n",
       "            </tr>\n",
       "    </tbody></table><style  type=\"text/css\" >\n",
       "</style><table id=\"T_5d9eb8a8_af48_11ea_8b50_09b6c06dc4a0\" style='display:inline'><thead>    <tr>        <th class=\"blank\" ></th>        <th class=\"blank level0\" ></th>        <th class=\"col_heading level0 col0\" >topic_8</th>    </tr>    <tr>        <th class=\"index_name level0\" >modality</th>        <th class=\"index_name level1\" >token</th>        <th class=\"blank\" ></th>    </tr></thead><tbody>\n",
       "                <tr>\n",
       "                        <th id=\"T_5d9eb8a8_af48_11ea_8b50_09b6c06dc4a0level0_row0\" class=\"row_heading level0 row0\" rowspan=2>@specificity</th>\n",
       "                        <th id=\"T_5d9eb8a8_af48_11ea_8b50_09b6c06dc4a0level1_row0\" class=\"row_heading level1 row0\" >1</th>\n",
       "                        <td id=\"T_5d9eb8a8_af48_11ea_8b50_09b6c06dc4a0row0_col0\" class=\"data row0 col0\" >81.120920</td>\n",
       "            </tr>\n",
       "            <tr>\n",
       "                                <th id=\"T_5d9eb8a8_af48_11ea_8b50_09b6c06dc4a0level1_row1\" class=\"row_heading level1 row1\" >0</th>\n",
       "                        <td id=\"T_5d9eb8a8_af48_11ea_8b50_09b6c06dc4a0row1_col0\" class=\"data row1 col0\" >-0.000000</td>\n",
       "            </tr>\n",
       "    </tbody></table>"
      ]
     },
     "metadata": {},
     "output_type": "display_data"
    }
   ],
   "source": [
    "TopTokensViewer(model=topic_model).view_from_jupyter()"
   ]
  },
  {
   "cell_type": "code",
   "execution_count": null,
   "metadata": {},
   "outputs": [],
   "source": [
    "perplexity_plot(reg_model, score_name='PerlexityScore_ngram')"
   ]
  },
  {
   "cell_type": "code",
   "execution_count": null,
   "metadata": {
    "scrolled": true
   },
   "outputs": [],
   "source": [
    "metric_name = 'tau_Decorrelator_Phi1_info'\n",
    "file = open('./tables/with_model_d0_{}.txt'.format(metric_name), 'w')\n",
    "file.write(metrics_reg[[metric_name, 'roc_auc', 'precision', 'recall', 'accuracy']].to_latex())\n",
    "file.close()"
   ]
  },
  {
   "cell_type": "code",
   "execution_count": null,
   "metadata": {
    "scrolled": true
   },
   "outputs": [],
   "source": [
    "fig, ax = plt.subplots(figsize=[4.8, 4.8])\n",
    "for x, y, actual, predicted, descr in zip(x_0, y_0,\n",
    "                                          [y_test for i in range(len(x_0))], \n",
    "                                          y_pred_proba_0,\n",
    "                                          ['{}'.format(metrics_reg[metric_name].loc[i]) for i in range(metrics_reg.shape[0])]):\n",
    "    fpr, tpr, thr = roc_curve(actual, predicted)\n",
    "    ax.plot(fpr, tpr, label=descr)\n",
    "    ax.scatter(x, y)\n",
    "ax.set_xlabel(\"false positive rate\")\n",
    "ax.set_ylabel(\"true positive rate\")\n",
    "ax.set_title('Выбор параметра {}'.format(metric_name))\n",
    "ax.legend(loc=4)\n",
    "plt.grid(axis = 'both')\n",
    "plt.axis([-0.1, 1.1, -0.1, 1.1])\n",
    "fig.savefig('./images/with_model_d0_{} ROC кривая.pdf'.format(metric_name))\n",
    "fig.savefig('./images/with_model_d0_{} ROC кривая.png'.format(metric_name))"
   ]
  },
  {
   "cell_type": "markdown",
   "metadata": {},
   "source": [
    "# Построим лучшую модель с лучшими параметрами"
   ]
  },
  {
   "cell_type": "code",
   "execution_count": 57,
   "metadata": {},
   "outputs": [],
   "source": [
    "# tau_SparsePhi_ngram = -0.83\n",
    "# tau_SparsePhi_info = 180.62\n",
    "# tau_SparsePhi_specificity = -6\n",
    "# tau_SparseTheta = -5\n",
    "# tau_DecorrelatorPhi_ngram = 2342\n",
    "# tau_DecorrelatorPhi_info = 10000\n",
    "# tau_DecorrelatorPhi_specificity = 0\n",
    "\n",
    "tau_SparsePhi_ngram = -1.8\n",
    "tau_SparsePhi_info = -121\n",
    "tau_SparsePhi_specificity = 0\n",
    "tau_SparseTheta = 0\n",
    "tau_DecorrelatorPhi_ngram = 19\n",
    "tau_DecorrelatorPhi_info = 10**12\n",
    "tau_DecorrelatorPhi_specificity = 0"
   ]
  },
  {
   "cell_type": "code",
   "execution_count": 58,
   "metadata": {},
   "outputs": [],
   "source": [
    "reg_best_model = best_first_model.clone()"
   ]
  },
  {
   "cell_type": "code",
   "execution_count": 59,
   "metadata": {},
   "outputs": [],
   "source": [
    "reg_best_model.scores.add(artm.TopicMassPhiScore(name='TopicMassPhiScore', model_name=reg_model.model_nwt))"
   ]
  },
  {
   "cell_type": "code",
   "execution_count": 60,
   "metadata": {},
   "outputs": [],
   "source": [
    "# Декоррелирование Ф11_ngram\n",
    "reg_best_model.regularizers.add(artm.DecorrelatorPhiRegularizer(name='sp_DecorrelatorPhiRegularizer_ngram',\n",
    "                                                       class_ids=['@ngram'],\n",
    "                                                       topic_names=specific_topics))\n",
    "# Декоррелирование Ф11_info\n",
    "reg_best_model.regularizers.add(artm.DecorrelatorPhiRegularizer(name='sp_DecorrelatorPhiRegularizer_info',\n",
    "                                                       class_ids=['@info'],\n",
    "                                                       topic_names=specific_topics))\n",
    "# Декоррелирование Ф_specificity\n",
    "reg_best_model.regularizers.add(artm.DecorrelatorPhiRegularizer(name='sp_DecorrelatorPhiRegularizer_specificity',\n",
    "                                                       class_ids=['@specificity']))\n",
    "\n",
    "# Разреживание Тета11\n",
    "reg_best_model.regularizers.add(artm.SmoothSparseThetaRegularizer(name='sp_SparseThetaRegularizer',\n",
    "                                                         topic_names=specific_topics,\n",
    "                                                         doc_titles=list(map(lambda item: str(item),\n",
    "                                                                             train_d1_indices))))\n",
    "# Разреживание Ф11_ngram\n",
    "reg_best_model.regularizers.add(artm.SmoothSparsePhiRegularizer(name='sp_SparsePhiRegularizer_ngram',\n",
    "                                                       class_ids=['@ngram'],\n",
    "                                                       topic_names=specific_topics,\n",
    "                                                      dictionary=train_total_for_Phi11_dictionary))\n",
    "# Разреживание Ф11_info\n",
    "reg_best_model.regularizers.add(artm.SmoothSparsePhiRegularizer(name='sp_SparsePhiRegularizer_info',\n",
    "                                                       class_ids=['@info'],\n",
    "                                                       topic_names=specific_topics,\n",
    "                                                      dictionary=train_without_d0_dictionary))\n",
    "# Разреживание Ф11_specificity\n",
    "reg_best_model.regularizers.add(artm.SmoothSparsePhiRegularizer(name='sp_SparsePhiRegularizer_specificity',\n",
    "                                                       class_ids=['@specificity'],\n",
    "                                                       topic_names=specific_topics,\n",
    "                                                      dictionary=train_total_for_Phi11_dictionary))"
   ]
  },
  {
   "cell_type": "code",
   "execution_count": 61,
   "metadata": {},
   "outputs": [],
   "source": [
    "reg_best_model.regularizers['sp_SparsePhiRegularizer_ngram'].tau = tau_SparsePhi_ngram\n",
    "reg_best_model.regularizers['sp_SparsePhiRegularizer_info'].tau = tau_SparsePhi_info\n",
    "reg_best_model.regularizers['sp_SparsePhiRegularizer_specificity'].tau = tau_SparsePhi_specificity\n",
    "reg_best_model.regularizers['sp_SparseThetaRegularizer'].tau = tau_SparseTheta\n",
    "reg_best_model.regularizers['sp_DecorrelatorPhiRegularizer_ngram'].tau = tau_DecorrelatorPhi_ngram\n",
    "reg_best_model.regularizers['sp_DecorrelatorPhiRegularizer_info'].tau = tau_DecorrelatorPhi_info\n",
    "reg_best_model.regularizers['sp_DecorrelatorPhiRegularizer_specificity'].tau = tau_DecorrelatorPhi_specificity\n",
    "\n",
    "reg_best_model.fit_offline(batch_vectorizer=train_total_batch_vectorizer, num_collection_passes=20)\n",
    "\n",
    "\n",
    "p_cd_test = reg_best_model.transform(batch_vectorizer=test_total_batch_vectorizer,\n",
    "                                predict_class_id='@specificity')\n",
    "\n",
    "y_pred_proba = p_cd_test.loc['1']\n",
    "fpr, tpr, thresholds = roc_curve(y_test, y_pred_proba)\n",
    "\n",
    "dist_min = math.inf\n",
    "for x, y, treshold in zip(fpr, tpr, thresholds):\n",
    "    if euclidean([0, 1], [x, y]) < dist_min:\n",
    "        T_artm = treshold\n",
    "        dist_min = euclidean([0, 1], [x, y])\n",
    "        x_artm = x\n",
    "        y_artm = y\n",
    "\n",
    "y_pred_labels = []\n",
    "for document in p_cd_test.columns:\n",
    "    if p_cd_test[document].loc['1'] >= T_artm:\n",
    "        y_pred_labels.append(1)\n",
    "    else:\n",
    "        y_pred_labels.append(0)\n",
    "\n",
    "roc_auc = roc_auc_score(y_test, y_pred_proba)\n",
    "precision = precision_score(y_test, y_pred_labels)\n",
    "recall = recall_score(y_test, y_pred_labels)\n",
    "accuracy = accuracy_score(y_test, y_pred_labels)"
   ]
  },
  {
   "cell_type": "code",
   "execution_count": 62,
   "metadata": {},
   "outputs": [
    {
     "name": "stdout",
     "output_type": "stream",
     "text": [
      "roc_auc 0.865318405502808\n",
      "precision 0.7587168758716876\n",
      "recall 0.8180451127819549\n",
      "accuracy 0.8022864828513786\n"
     ]
    }
   ],
   "source": [
    "print('roc_auc', roc_auc)\n",
    "print('precision', precision)\n",
    "print('recall', recall)\n",
    "print('accuracy', accuracy)"
   ]
  },
  {
   "cell_type": "code",
   "execution_count": 63,
   "metadata": {},
   "outputs": [
    {
     "data": {
      "text/html": [
       "<div>\n",
       "<style scoped>\n",
       "    .dataframe tbody tr th:only-of-type {\n",
       "        vertical-align: middle;\n",
       "    }\n",
       "\n",
       "    .dataframe tbody tr th {\n",
       "        vertical-align: top;\n",
       "    }\n",
       "\n",
       "    .dataframe thead th {\n",
       "        text-align: right;\n",
       "    }\n",
       "</style>\n",
       "<table border=\"1\" class=\"dataframe\">\n",
       "  <thead>\n",
       "    <tr style=\"text-align: right;\">\n",
       "      <th></th>\n",
       "      <th></th>\n",
       "      <th>last_value</th>\n",
       "    </tr>\n",
       "    <tr>\n",
       "      <th>model_id</th>\n",
       "      <th>score_name</th>\n",
       "      <th></th>\n",
       "    </tr>\n",
       "  </thead>\n",
       "  <tbody>\n",
       "    <tr>\n",
       "      <th rowspan=\"10\" valign=\"top\">--02h03m13s_16d06m2020y---</th>\n",
       "      <th>PerlexityScore_ngram</th>\n",
       "      <td>321.329</td>\n",
       "    </tr>\n",
       "    <tr>\n",
       "      <th>PerlexityScore_info</th>\n",
       "      <td>110.115</td>\n",
       "    </tr>\n",
       "    <tr>\n",
       "      <th>PerlexityScore_specificity</th>\n",
       "      <td>1.04312</td>\n",
       "    </tr>\n",
       "    <tr>\n",
       "      <th>SparsityPhiScore_ngram</th>\n",
       "      <td>0.343443</td>\n",
       "    </tr>\n",
       "    <tr>\n",
       "      <th>SparsityPhiScore_info</th>\n",
       "      <td>0.66175</td>\n",
       "    </tr>\n",
       "    <tr>\n",
       "      <th>SparsityThetaScore</th>\n",
       "      <td>0.149462</td>\n",
       "    </tr>\n",
       "    <tr>\n",
       "      <th>TopTokensScore.average_coherence</th>\n",
       "      <td>0</td>\n",
       "    </tr>\n",
       "    <tr>\n",
       "      <th>TopTokensScore.num_tokens</th>\n",
       "      <td>90</td>\n",
       "    </tr>\n",
       "    <tr>\n",
       "      <th>BackgroundTokensRatioScore</th>\n",
       "      <td>0.589867</td>\n",
       "    </tr>\n",
       "    <tr>\n",
       "      <th>TopicMassPhiScore</th>\n",
       "      <td>1</td>\n",
       "    </tr>\n",
       "  </tbody>\n",
       "</table>\n",
       "</div>"
      ],
      "text/plain": [
       "                                                            last_value\n",
       "model_id                   score_name                                 \n",
       "--02h03m13s_16d06m2020y--- PerlexityScore_ngram                321.329\n",
       "                           PerlexityScore_info                 110.115\n",
       "                           PerlexityScore_specificity          1.04312\n",
       "                           SparsityPhiScore_ngram             0.343443\n",
       "                           SparsityPhiScore_info               0.66175\n",
       "                           SparsityThetaScore                 0.149462\n",
       "                           TopTokensScore.average_coherence          0\n",
       "                           TopTokensScore.num_tokens                90\n",
       "                           BackgroundTokensRatioScore         0.589867\n",
       "                           TopicMassPhiScore                         1"
      ]
     },
     "execution_count": 63,
     "metadata": {},
     "output_type": "execute_result"
    }
   ],
   "source": [
    "topic_model = TopicModel(reg_best_model)\n",
    "topic_model.describe_scores()"
   ]
  },
  {
   "cell_type": "code",
   "execution_count": 64,
   "metadata": {},
   "outputs": [],
   "source": [
    "# reg_best_model.save('reg_best_model_p_wt', model_name='p_wt')\n",
    "# reg_best_model.save('reg_best_model_n_wt', model_name='n_wt')"
   ]
  },
  {
   "cell_type": "markdown",
   "metadata": {},
   "source": [
    "# Вычисляем специфичность документов и слов"
   ]
  },
  {
   "cell_type": "code",
   "execution_count": 65,
   "metadata": {},
   "outputs": [],
   "source": [
    "from sklearn.feature_extraction.text import CountVectorizer\n",
    "\n",
    "def frequency_matrix(data, phi):\n",
    "    vocabulary = train_total_dict_ngram\n",
    "    \n",
    "    corpus = data['ngram_as_str']\n",
    "    vectorizer = CountVectorizer(vocabulary=vocabulary)\n",
    "    X = vectorizer.fit_transform(corpus)\n",
    "\n",
    "    matrix = pd.DataFrame(X.toarray())\n",
    "    matrix.index=list(map(lambda item: str(item), data['id']))\n",
    "    matrix.columns=vectorizer.get_feature_names()\n",
    "    \n",
    "    return matrix"
   ]
  },
  {
   "cell_type": "code",
   "execution_count": 66,
   "metadata": {},
   "outputs": [],
   "source": [
    "def specifisity_of_document(doc_title, specific_topics, theta):\n",
    "    specifisity_of_doc = 0\n",
    "    for topic in specific_topics:\n",
    "        specifisity_of_doc+=theta.loc[topic][doc_title]\n",
    "    return specifisity_of_doc"
   ]
  },
  {
   "cell_type": "code",
   "execution_count": 107,
   "metadata": {},
   "outputs": [],
   "source": [
    "def specifisity_of_token(token, specific_topics, matrix_of_frequancies, theta, phi):\n",
    "    specifisity_of_t = 0\n",
    "    for topic in specific_topics:\n",
    "        n_topic = n_t(topic, theta)\n",
    "        n_word = n_w(token, matrix_of_frequancies, theta)\n",
    "        specifisity_of_t += phi.loc[token][topic] * n_topic / n_word\n",
    "        if n_word == 0:\n",
    "            print(token)\n",
    "    return specifisity_of_t\n",
    "\n",
    "def n_w(token, matrix_of_frequancies, theta):\n",
    "    return matrix_of_frequancies.loc[theta.columns][token].sum()\n",
    "\n",
    "# def n_t(topic, theta):\n",
    "#     columns = theta.columns\n",
    "#     n_d_list = matrix_of_frequancies.loc[columns].sum(axis=1)\n",
    "#     theta_h = theta.loc[topic][columns]\n",
    "#     n = sum(list(map(lambda t: t[0]*t[1], zip(theta_h,n_d_list))))\n",
    "#     return n\n",
    "\n",
    "def n_t(topic, theta):\n",
    "    n = sum([topic_mass for topic, topic_mass in reg_best_model.score_tracker['TopicMassPhiScore'].last_topic_mass.items()])\n",
    "    # n = reg_best_model.get_phi().shape[0]\n",
    "    return reg_best_model.score_tracker['TopicMassPhiScore'].last_topic_mass[topic] / n"
   ]
  },
  {
   "cell_type": "code",
   "execution_count": 90,
   "metadata": {},
   "outputs": [],
   "source": [
    "n = sum([topic_mass for topic, topic_mass in reg_best_model.score_tracker['TopicMassPhiScore'].last_topic_mass.items()])"
   ]
  },
  {
   "cell_type": "code",
   "execution_count": 94,
   "metadata": {
    "scrolled": true
   },
   "outputs": [
    {
     "data": {
      "text/plain": [
       "3533"
      ]
     },
     "execution_count": 94,
     "metadata": {},
     "output_type": "execute_result"
    }
   ],
   "source": [
    "reg_best_model.get_phi().shape[0]"
   ]
  },
  {
   "cell_type": "code",
   "execution_count": 68,
   "metadata": {},
   "outputs": [],
   "source": [
    "import time\n",
    "import random\n",
    "\n",
    "def get_arrangement_permutation(dist, mode):\n",
    "    \"\"\"Returns best permutation of topics for topics spectrum.\n",
    "    Args:\n",
    "        dist: Matrix [N_topics, N_topics] of distances between topics.\n",
    "        mode: What algorith to use.\n",
    "            String, one of:\n",
    "                \"none\" - returns identity permutation;\n",
    "                \"tsne\" - builds tSNE embedding from topic space to R^1 (line),\n",
    "                    returns order of topics' projections.\n",
    "    Returns:\n",
    "        Permutation - a list of length N_topics, with unique integers between 0\n",
    "        and N_topics-1. This permutations should be applied to topics as\n",
    "        columns of phi to obtain a spectrum.\n",
    "    \"\"\"\n",
    "    start_time = time.time()\n",
    "\n",
    "    if mode == \"none\":\n",
    "        return [i for i in range(dist.shape[0])]\n",
    "    elif mode == \"tsne\":\n",
    "        from sklearn.manifold import TSNE\n",
    "        tsne_model = TSNE(n_components=1, random_state=0, metric=\"precomputed\")\n",
    "        tsne_result = tsne_model.fit_transform(dist).reshape(-1)\n",
    "        perm = np.argsort(tsne_result)\n",
    "\n",
    "    return list(perm)"
   ]
  },
  {
   "cell_type": "code",
   "execution_count": 69,
   "metadata": {},
   "outputs": [],
   "source": [
    "best_colors = [\n",
    "    (0.02, 0.00, 0.42),\n",
    "    (0.90, 0.0, 0.0),\n",
    "    (0.65, 0.33, 0.55),\n",
    "    (0.40, 0.58, 0.78),\n",
    "    (0.78, 0.47, 0.40),\n",
    "    (0.4, 0.78, 0.57),\n",
    "    (0.0, 0.5, 0.73),\n",
    "    (0.0, 0.74, 0.99),\n",
    "    (0.93, 0.99, 0.0),\n",
    "]"
   ]
  },
  {
   "cell_type": "markdown",
   "metadata": {},
   "source": [
    "## Специфичность документов"
   ]
  },
  {
   "cell_type": "code",
   "execution_count": 70,
   "metadata": {
    "scrolled": true
   },
   "outputs": [
    {
     "data": {
      "text/html": [
       "<style>\n",
       "    div.output_html {\n",
       "        white-space: nowrap;\n",
       "    }\n",
       "    div .output_subarea > pre {\n",
       "        white-space: pre;\n",
       "        word-wrap: normal;\n",
       "    }\n",
       "    div .output_stdout > pre {\n",
       "        white-space: pre-wrap !important;\n",
       "        word-wrap:  break-word !important;\n",
       "    }\n",
       "    </style>"
      ],
      "text/plain": [
       "<IPython.core.display.HTML object>"
      ]
     },
     "metadata": {},
     "output_type": "display_data"
    },
    {
     "name": "stderr",
     "output_type": "stream",
     "text": [
      "/home/polina/anaconda3/lib/python3.7/site-packages/topicnet/viewers/top_tokens_viewer.py:33: UserWarning:\n",
      "\n",
      "num_top_tokens greater than modality size\n",
      "\n"
     ]
    },
    {
     "data": {
      "text/html": [
       "<style  type=\"text/css\" >\n",
       "</style><table id=\"T_64b98316_af5c_11ea_8b50_09b6c06dc4a0\" style='display:inline'><thead>    <tr>        <th class=\"blank\" ></th>        <th class=\"blank level0\" ></th>        <th class=\"col_heading level0 col0\" >topic_0</th>    </tr>    <tr>        <th class=\"index_name level0\" >modality</th>        <th class=\"index_name level1\" >token</th>        <th class=\"blank\" ></th>    </tr></thead><tbody>\n",
       "                <tr>\n",
       "                        <th id=\"T_64b98316_af5c_11ea_8b50_09b6c06dc4a0level0_row0\" class=\"row_heading level0 row0\" rowspan=10>@info</th>\n",
       "                        <th id=\"T_64b98316_af5c_11ea_8b50_09b6c06dc4a0level1_row0\" class=\"row_heading level1 row0\" >&РЕЗУЛЬТАТ_Да,_четко</th>\n",
       "                        <td id=\"T_64b98316_af5c_11ea_8b50_09b6c06dc4a0row0_col0\" class=\"data row0 col0\" >8.244390</td>\n",
       "            </tr>\n",
       "            <tr>\n",
       "                                <th id=\"T_64b98316_af5c_11ea_8b50_09b6c06dc4a0level1_row1\" class=\"row_heading level1 row1\" >&ПРЕГРАДЫ_Не_вижу_преград</th>\n",
       "                        <td id=\"T_64b98316_af5c_11ea_8b50_09b6c06dc4a0row1_col0\" class=\"data row1 col0\" >3.074410</td>\n",
       "            </tr>\n",
       "            <tr>\n",
       "                                <th id=\"T_64b98316_af5c_11ea_8b50_09b6c06dc4a0level1_row2\" class=\"row_heading level1 row2\" >&ТИП_ЦЕЛИ_другое</th>\n",
       "                        <td id=\"T_64b98316_af5c_11ea_8b50_09b6c06dc4a0row2_col0\" class=\"data row2 col0\" >1.671430</td>\n",
       "            </tr>\n",
       "            <tr>\n",
       "                                <th id=\"T_64b98316_af5c_11ea_8b50_09b6c06dc4a0level1_row3\" class=\"row_heading level1 row3\" >&ПЕРВЫЙ_ШАГ_знаю_с_чего_начать</th>\n",
       "                        <td id=\"T_64b98316_af5c_11ea_8b50_09b6c06dc4a0row3_col0\" class=\"data row3 col0\" >1.665190</td>\n",
       "            </tr>\n",
       "            <tr>\n",
       "                                <th id=\"T_64b98316_af5c_11ea_8b50_09b6c06dc4a0level1_row4\" class=\"row_heading level1 row4\" >&ТИП_ЦЕЛИ_Развить_имеющиеся_знания_и_навыки</th>\n",
       "                        <td id=\"T_64b98316_af5c_11ea_8b50_09b6c06dc4a0row4_col0\" class=\"data row4 col0\" >1.649040</td>\n",
       "            </tr>\n",
       "            <tr>\n",
       "                                <th id=\"T_64b98316_af5c_11ea_8b50_09b6c06dc4a0level1_row5\" class=\"row_heading level1 row5\" >&ТИП_ЦЕЛИ_Получить_знания_в_новой_области</th>\n",
       "                        <td id=\"T_64b98316_af5c_11ea_8b50_09b6c06dc4a0row5_col0\" class=\"data row5 col0\" >1.628420</td>\n",
       "            </tr>\n",
       "            <tr>\n",
       "                                <th id=\"T_64b98316_af5c_11ea_8b50_09b6c06dc4a0level1_row6\" class=\"row_heading level1 row6\" >&ТИП_ЦЕЛИ_Приобрести_новые_навыки</th>\n",
       "                        <td id=\"T_64b98316_af5c_11ea_8b50_09b6c06dc4a0row6_col0\" class=\"data row6 col0\" >1.481940</td>\n",
       "            </tr>\n",
       "            <tr>\n",
       "                                <th id=\"T_64b98316_af5c_11ea_8b50_09b6c06dc4a0level1_row7\" class=\"row_heading level1 row7\" >&ПРЕГРАДЫ_есть_преграды</th>\n",
       "                        <td id=\"T_64b98316_af5c_11ea_8b50_09b6c06dc4a0row7_col0\" class=\"data row7 col0\" >1.444710</td>\n",
       "            </tr>\n",
       "            <tr>\n",
       "                                <th id=\"T_64b98316_af5c_11ea_8b50_09b6c06dc4a0level1_row8\" class=\"row_heading level1 row8\" >&ВРЕМЕННЫЕ_ГРАНИЦЫ_Нет_жестких_сроков</th>\n",
       "                        <td id=\"T_64b98316_af5c_11ea_8b50_09b6c06dc4a0row8_col0\" class=\"data row8 col0\" >1.412540</td>\n",
       "            </tr>\n",
       "            <tr>\n",
       "                                <th id=\"T_64b98316_af5c_11ea_8b50_09b6c06dc4a0level1_row9\" class=\"row_heading level1 row9\" >&ОСНОВНОЙ_ВИД_ДЕЙТЕЛЬНОСТИ_Работаю_в_организации,_предприятии</th>\n",
       "                        <td id=\"T_64b98316_af5c_11ea_8b50_09b6c06dc4a0row9_col0\" class=\"data row9 col0\" >1.294050</td>\n",
       "            </tr>\n",
       "    </tbody></table><style  type=\"text/css\" >\n",
       "</style><table id=\"T_64baad4a_af5c_11ea_8b50_09b6c06dc4a0\" style='display:inline'><thead>    <tr>        <th class=\"blank\" ></th>        <th class=\"blank level0\" ></th>        <th class=\"col_heading level0 col0\" >topic_0</th>    </tr>    <tr>        <th class=\"index_name level0\" >modality</th>        <th class=\"index_name level1\" >token</th>        <th class=\"blank\" ></th>    </tr></thead><tbody>\n",
       "                <tr>\n",
       "                        <th id=\"T_64baad4a_af5c_11ea_8b50_09b6c06dc4a0level0_row0\" class=\"row_heading level0 row0\" rowspan=10>@ngram</th>\n",
       "                        <th id=\"T_64baad4a_af5c_11ea_8b50_09b6c06dc4a0level1_row0\" class=\"row_heading level1 row0\" >знание</th>\n",
       "                        <td id=\"T_64baad4a_af5c_11ea_8b50_09b6c06dc4a0row0_col0\" class=\"data row0 col0\" >6.315100</td>\n",
       "            </tr>\n",
       "            <tr>\n",
       "                                <th id=\"T_64baad4a_af5c_11ea_8b50_09b6c06dc4a0level1_row1\" class=\"row_heading level1 row1\" >навык</th>\n",
       "                        <td id=\"T_64baad4a_af5c_11ea_8b50_09b6c06dc4a0row1_col0\" class=\"data row1 col0\" >2.132610</td>\n",
       "            </tr>\n",
       "            <tr>\n",
       "                                <th id=\"T_64baad4a_af5c_11ea_8b50_09b6c06dc4a0level1_row2\" class=\"row_heading level1 row2\" >получение</th>\n",
       "                        <td id=\"T_64baad4a_af5c_11ea_8b50_09b6c06dc4a0row2_col0\" class=\"data row2 col0\" >2.020500</td>\n",
       "            </tr>\n",
       "            <tr>\n",
       "                                <th id=\"T_64baad4a_af5c_11ea_8b50_09b6c06dc4a0level1_row3\" class=\"row_heading level1 row3\" >развитие</th>\n",
       "                        <td id=\"T_64baad4a_af5c_11ea_8b50_09b6c06dc4a0row3_col0\" class=\"data row3 col0\" >1.780470</td>\n",
       "            </tr>\n",
       "            <tr>\n",
       "                                <th id=\"T_64baad4a_af5c_11ea_8b50_09b6c06dc4a0level1_row4\" class=\"row_heading level1 row4\" >новый</th>\n",
       "                        <td id=\"T_64baad4a_af5c_11ea_8b50_09b6c06dc4a0row4_col0\" class=\"data row4 col0\" >1.545630</td>\n",
       "            </tr>\n",
       "            <tr>\n",
       "                                <th id=\"T_64baad4a_af5c_11ea_8b50_09b6c06dc4a0level1_row5\" class=\"row_heading level1 row5\" >получить</th>\n",
       "                        <td id=\"T_64baad4a_af5c_11ea_8b50_09b6c06dc4a0row5_col0\" class=\"data row5 col0\" >1.339750</td>\n",
       "            </tr>\n",
       "            <tr>\n",
       "                                <th id=\"T_64baad4a_af5c_11ea_8b50_09b6c06dc4a0level1_row6\" class=\"row_heading level1 row6\" >новое</th>\n",
       "                        <td id=\"T_64baad4a_af5c_11ea_8b50_09b6c06dc4a0row6_col0\" class=\"data row6 col0\" >1.193970</td>\n",
       "            </tr>\n",
       "            <tr>\n",
       "                                <th id=\"T_64baad4a_af5c_11ea_8b50_09b6c06dc4a0level1_row7\" class=\"row_heading level1 row7\" >компетенция</th>\n",
       "                        <td id=\"T_64baad4a_af5c_11ea_8b50_09b6c06dc4a0row7_col0\" class=\"data row7 col0\" >0.887150</td>\n",
       "            </tr>\n",
       "            <tr>\n",
       "                                <th id=\"T_64baad4a_af5c_11ea_8b50_09b6c06dc4a0level1_row8\" class=\"row_heading level1 row8\" >новый_знание</th>\n",
       "                        <td id=\"T_64baad4a_af5c_11ea_8b50_09b6c06dc4a0row8_col0\" class=\"data row8 col0\" >0.869340</td>\n",
       "            </tr>\n",
       "            <tr>\n",
       "                                <th id=\"T_64baad4a_af5c_11ea_8b50_09b6c06dc4a0level1_row9\" class=\"row_heading level1 row9\" >получение_новый</th>\n",
       "                        <td id=\"T_64baad4a_af5c_11ea_8b50_09b6c06dc4a0row9_col0\" class=\"data row9 col0\" >0.869290</td>\n",
       "            </tr>\n",
       "    </tbody></table><style  type=\"text/css\" >\n",
       "</style><table id=\"T_64bbc874_af5c_11ea_8b50_09b6c06dc4a0\" style='display:inline'><thead>    <tr>        <th class=\"blank\" ></th>        <th class=\"blank level0\" ></th>        <th class=\"col_heading level0 col0\" >topic_0</th>    </tr>    <tr>        <th class=\"index_name level0\" >modality</th>        <th class=\"index_name level1\" >token</th>        <th class=\"blank\" ></th>    </tr></thead><tbody>\n",
       "                <tr>\n",
       "                        <th id=\"T_64bbc874_af5c_11ea_8b50_09b6c06dc4a0level0_row0\" class=\"row_heading level0 row0\" rowspan=2>@specificity</th>\n",
       "                        <th id=\"T_64bbc874_af5c_11ea_8b50_09b6c06dc4a0level1_row0\" class=\"row_heading level1 row0\" >0</th>\n",
       "                        <td id=\"T_64bbc874_af5c_11ea_8b50_09b6c06dc4a0row0_col0\" class=\"data row0 col0\" >45.079170</td>\n",
       "            </tr>\n",
       "            <tr>\n",
       "                                <th id=\"T_64bbc874_af5c_11ea_8b50_09b6c06dc4a0level1_row1\" class=\"row_heading level1 row1\" >1</th>\n",
       "                        <td id=\"T_64bbc874_af5c_11ea_8b50_09b6c06dc4a0row1_col0\" class=\"data row1 col0\" >-0.000000</td>\n",
       "            </tr>\n",
       "    </tbody></table>"
      ]
     },
     "metadata": {},
     "output_type": "display_data"
    },
    {
     "data": {
      "text/html": [
       "<style  type=\"text/css\" >\n",
       "</style><table id=\"T_64c128e6_af5c_11ea_8b50_09b6c06dc4a0\" style='display:inline'><thead>    <tr>        <th class=\"blank\" ></th>        <th class=\"blank level0\" ></th>        <th class=\"col_heading level0 col0\" >topic_1</th>    </tr>    <tr>        <th class=\"index_name level0\" >modality</th>        <th class=\"index_name level1\" >token</th>        <th class=\"blank\" ></th>    </tr></thead><tbody>\n",
       "                <tr>\n",
       "                        <th id=\"T_64c128e6_af5c_11ea_8b50_09b6c06dc4a0level0_row0\" class=\"row_heading level0 row0\" rowspan=10>@info</th>\n",
       "                        <th id=\"T_64c128e6_af5c_11ea_8b50_09b6c06dc4a0level1_row0\" class=\"row_heading level1 row0\" >&РЕЗУЛЬТАТ_Да,_четко</th>\n",
       "                        <td id=\"T_64c128e6_af5c_11ea_8b50_09b6c06dc4a0row0_col0\" class=\"data row0 col0\" >2.875000</td>\n",
       "            </tr>\n",
       "            <tr>\n",
       "                                <th id=\"T_64c128e6_af5c_11ea_8b50_09b6c06dc4a0level1_row1\" class=\"row_heading level1 row1\" >&ПРЕГРАДЫ_есть_преграды</th>\n",
       "                        <td id=\"T_64c128e6_af5c_11ea_8b50_09b6c06dc4a0row1_col0\" class=\"data row1 col0\" >2.524910</td>\n",
       "            </tr>\n",
       "            <tr>\n",
       "                                <th id=\"T_64c128e6_af5c_11ea_8b50_09b6c06dc4a0level1_row2\" class=\"row_heading level1 row2\" >&ПРЕГРАДЫ_Не_вижу_преград</th>\n",
       "                        <td id=\"T_64c128e6_af5c_11ea_8b50_09b6c06dc4a0row2_col0\" class=\"data row2 col0\" >2.333430</td>\n",
       "            </tr>\n",
       "            <tr>\n",
       "                                <th id=\"T_64c128e6_af5c_11ea_8b50_09b6c06dc4a0level1_row3\" class=\"row_heading level1 row3\" >&ТИП_ЦЕЛИ_другое</th>\n",
       "                        <td id=\"T_64c128e6_af5c_11ea_8b50_09b6c06dc4a0row3_col0\" class=\"data row3 col0\" >2.099170</td>\n",
       "            </tr>\n",
       "            <tr>\n",
       "                                <th id=\"T_64c128e6_af5c_11ea_8b50_09b6c06dc4a0level1_row4\" class=\"row_heading level1 row4\" >&ПЕРВЫЙ_ШАГ_знаю_с_чего_начать</th>\n",
       "                        <td id=\"T_64c128e6_af5c_11ea_8b50_09b6c06dc4a0row4_col0\" class=\"data row4 col0\" >1.914080</td>\n",
       "            </tr>\n",
       "            <tr>\n",
       "                                <th id=\"T_64c128e6_af5c_11ea_8b50_09b6c06dc4a0level1_row5\" class=\"row_heading level1 row5\" >&РЕЗУЛЬТАТ_Да,_нечетко</th>\n",
       "                        <td id=\"T_64c128e6_af5c_11ea_8b50_09b6c06dc4a0row5_col0\" class=\"data row5 col0\" >1.905040</td>\n",
       "            </tr>\n",
       "            <tr>\n",
       "                                <th id=\"T_64c128e6_af5c_11ea_8b50_09b6c06dc4a0level1_row6\" class=\"row_heading level1 row6\" >&ТИП_ЦЕЛИ_Развить_имеющиеся_знания_и_навыки</th>\n",
       "                        <td id=\"T_64c128e6_af5c_11ea_8b50_09b6c06dc4a0row6_col0\" class=\"data row6 col0\" >1.712530</td>\n",
       "            </tr>\n",
       "            <tr>\n",
       "                                <th id=\"T_64c128e6_af5c_11ea_8b50_09b6c06dc4a0level1_row7\" class=\"row_heading level1 row7\" >&ТИП_ЦЕЛИ_Получить_знания_в_новой_области</th>\n",
       "                        <td id=\"T_64c128e6_af5c_11ea_8b50_09b6c06dc4a0row7_col0\" class=\"data row7 col0\" >1.696390</td>\n",
       "            </tr>\n",
       "            <tr>\n",
       "                                <th id=\"T_64c128e6_af5c_11ea_8b50_09b6c06dc4a0level1_row8\" class=\"row_heading level1 row8\" >&ТИП_ЦЕЛИ_Приобрести_новые_навыки</th>\n",
       "                        <td id=\"T_64c128e6_af5c_11ea_8b50_09b6c06dc4a0row8_col0\" class=\"data row8 col0\" >1.693670</td>\n",
       "            </tr>\n",
       "            <tr>\n",
       "                                <th id=\"T_64c128e6_af5c_11ea_8b50_09b6c06dc4a0level1_row9\" class=\"row_heading level1 row9\" >&ВРЕМЕННЫЕ_ГРАНИЦЫ_Нет_жестких_сроков</th>\n",
       "                        <td id=\"T_64c128e6_af5c_11ea_8b50_09b6c06dc4a0row9_col0\" class=\"data row9 col0\" >1.383890</td>\n",
       "            </tr>\n",
       "    </tbody></table><style  type=\"text/css\" >\n",
       "</style><table id=\"T_64c208ba_af5c_11ea_8b50_09b6c06dc4a0\" style='display:inline'><thead>    <tr>        <th class=\"blank\" ></th>        <th class=\"blank level0\" ></th>        <th class=\"col_heading level0 col0\" >topic_1</th>    </tr>    <tr>        <th class=\"index_name level0\" >modality</th>        <th class=\"index_name level1\" >token</th>        <th class=\"blank\" ></th>    </tr></thead><tbody>\n",
       "                <tr>\n",
       "                        <th id=\"T_64c208ba_af5c_11ea_8b50_09b6c06dc4a0level0_row0\" class=\"row_heading level0 row0\" rowspan=10>@ngram</th>\n",
       "                        <th id=\"T_64c208ba_af5c_11ea_8b50_09b6c06dc4a0level1_row0\" class=\"row_heading level1 row0\" >новое</th>\n",
       "                        <td id=\"T_64c208ba_af5c_11ea_8b50_09b6c06dc4a0row0_col0\" class=\"data row0 col0\" >1.423100</td>\n",
       "            </tr>\n",
       "            <tr>\n",
       "                                <th id=\"T_64c208ba_af5c_11ea_8b50_09b6c06dc4a0level1_row1\" class=\"row_heading level1 row1\" >стать</th>\n",
       "                        <td id=\"T_64c208ba_af5c_11ea_8b50_09b6c06dc4a0row1_col0\" class=\"data row1 col0\" >1.135260</td>\n",
       "            </tr>\n",
       "            <tr>\n",
       "                                <th id=\"T_64c208ba_af5c_11ea_8b50_09b6c06dc4a0level1_row2\" class=\"row_heading level1 row2\" >свой</th>\n",
       "                        <td id=\"T_64c208ba_af5c_11ea_8b50_09b6c06dc4a0row2_col0\" class=\"data row2 col0\" >0.980880</td>\n",
       "            </tr>\n",
       "            <tr>\n",
       "                                <th id=\"T_64c208ba_af5c_11ea_8b50_09b6c06dc4a0level1_row3\" class=\"row_heading level1 row3\" >хороший</th>\n",
       "                        <td id=\"T_64c208ba_af5c_11ea_8b50_09b6c06dc4a0row3_col0\" class=\"data row3 col0\" >0.874120</td>\n",
       "            </tr>\n",
       "            <tr>\n",
       "                                <th id=\"T_64c208ba_af5c_11ea_8b50_09b6c06dc4a0level1_row4\" class=\"row_heading level1 row4\" >расширение</th>\n",
       "                        <td id=\"T_64c208ba_af5c_11ea_8b50_09b6c06dc4a0row4_col0\" class=\"data row4 col0\" >0.833280</td>\n",
       "            </tr>\n",
       "            <tr>\n",
       "                                <th id=\"T_64c208ba_af5c_11ea_8b50_09b6c06dc4a0level1_row5\" class=\"row_heading level1 row5\" >узнать</th>\n",
       "                        <td id=\"T_64c208ba_af5c_11ea_8b50_09b6c06dc4a0row5_col0\" class=\"data row5 col0\" >0.723030</td>\n",
       "            </tr>\n",
       "            <tr>\n",
       "                                <th id=\"T_64c208ba_af5c_11ea_8b50_09b6c06dc4a0level1_row6\" class=\"row_heading level1 row6\" >кругозор</th>\n",
       "                        <td id=\"T_64c208ba_af5c_11ea_8b50_09b6c06dc4a0row6_col0\" class=\"data row6 col0\" >0.652450</td>\n",
       "            </tr>\n",
       "            <tr>\n",
       "                                <th id=\"T_64c208ba_af5c_11ea_8b50_09b6c06dc4a0level1_row7\" class=\"row_heading level1 row7\" >человек</th>\n",
       "                        <td id=\"T_64c208ba_af5c_11ea_8b50_09b6c06dc4a0row7_col0\" class=\"data row7 col0\" >0.592090</td>\n",
       "            </tr>\n",
       "            <tr>\n",
       "                                <th id=\"T_64c208ba_af5c_11ea_8b50_09b6c06dc4a0level1_row8\" class=\"row_heading level1 row8\" >узнать_новое</th>\n",
       "                        <td id=\"T_64c208ba_af5c_11ea_8b50_09b6c06dc4a0row8_col0\" class=\"data row8 col0\" >0.447780</td>\n",
       "            </tr>\n",
       "            <tr>\n",
       "                                <th id=\"T_64c208ba_af5c_11ea_8b50_09b6c06dc4a0level1_row9\" class=\"row_heading level1 row9\" >познание</th>\n",
       "                        <td id=\"T_64c208ba_af5c_11ea_8b50_09b6c06dc4a0row9_col0\" class=\"data row9 col0\" >0.447710</td>\n",
       "            </tr>\n",
       "    </tbody></table><style  type=\"text/css\" >\n",
       "</style><table id=\"T_64c2f4c8_af5c_11ea_8b50_09b6c06dc4a0\" style='display:inline'><thead>    <tr>        <th class=\"blank\" ></th>        <th class=\"blank level0\" ></th>        <th class=\"col_heading level0 col0\" >topic_1</th>    </tr>    <tr>        <th class=\"index_name level0\" >modality</th>        <th class=\"index_name level1\" >token</th>        <th class=\"blank\" ></th>    </tr></thead><tbody>\n",
       "                <tr>\n",
       "                        <th id=\"T_64c2f4c8_af5c_11ea_8b50_09b6c06dc4a0level0_row0\" class=\"row_heading level0 row0\" rowspan=2>@specificity</th>\n",
       "                        <th id=\"T_64c2f4c8_af5c_11ea_8b50_09b6c06dc4a0level1_row0\" class=\"row_heading level1 row0\" >0</th>\n",
       "                        <td id=\"T_64c2f4c8_af5c_11ea_8b50_09b6c06dc4a0row0_col0\" class=\"data row0 col0\" >44.184790</td>\n",
       "            </tr>\n",
       "            <tr>\n",
       "                                <th id=\"T_64c2f4c8_af5c_11ea_8b50_09b6c06dc4a0level1_row1\" class=\"row_heading level1 row1\" >1</th>\n",
       "                        <td id=\"T_64c2f4c8_af5c_11ea_8b50_09b6c06dc4a0row1_col0\" class=\"data row1 col0\" >-0.000000</td>\n",
       "            </tr>\n",
       "    </tbody></table>"
      ]
     },
     "metadata": {},
     "output_type": "display_data"
    },
    {
     "data": {
      "text/html": [
       "<style  type=\"text/css\" >\n",
       "</style><table id=\"T_64c6675c_af5c_11ea_8b50_09b6c06dc4a0\" style='display:inline'><thead>    <tr>        <th class=\"blank\" ></th>        <th class=\"blank level0\" ></th>        <th class=\"col_heading level0 col0\" >topic_2</th>    </tr>    <tr>        <th class=\"index_name level0\" >modality</th>        <th class=\"index_name level1\" >token</th>        <th class=\"blank\" ></th>    </tr></thead><tbody>\n",
       "                <tr>\n",
       "                        <th id=\"T_64c6675c_af5c_11ea_8b50_09b6c06dc4a0level0_row0\" class=\"row_heading level0 row0\" rowspan=10>@info</th>\n",
       "                        <th id=\"T_64c6675c_af5c_11ea_8b50_09b6c06dc4a0level1_row0\" class=\"row_heading level1 row0\" >&ПРЕГРАДЫ_Не_вижу_преград</th>\n",
       "                        <td id=\"T_64c6675c_af5c_11ea_8b50_09b6c06dc4a0row0_col0\" class=\"data row0 col0\" >3.084840</td>\n",
       "            </tr>\n",
       "            <tr>\n",
       "                                <th id=\"T_64c6675c_af5c_11ea_8b50_09b6c06dc4a0level1_row1\" class=\"row_heading level1 row1\" >&ТИП_ЦЕЛИ_другое</th>\n",
       "                        <td id=\"T_64c6675c_af5c_11ea_8b50_09b6c06dc4a0row1_col0\" class=\"data row1 col0\" >2.716270</td>\n",
       "            </tr>\n",
       "            <tr>\n",
       "                                <th id=\"T_64c6675c_af5c_11ea_8b50_09b6c06dc4a0level1_row2\" class=\"row_heading level1 row2\" >&РЕЗУЛЬТАТ_Да,_четко</th>\n",
       "                        <td id=\"T_64c6675c_af5c_11ea_8b50_09b6c06dc4a0row2_col0\" class=\"data row2 col0\" >2.545000</td>\n",
       "            </tr>\n",
       "            <tr>\n",
       "                                <th id=\"T_64c6675c_af5c_11ea_8b50_09b6c06dc4a0level1_row3\" class=\"row_heading level1 row3\" >&ПЕРВЫЙ_ШАГ_знаю_с_чего_начать</th>\n",
       "                        <td id=\"T_64c6675c_af5c_11ea_8b50_09b6c06dc4a0row3_col0\" class=\"data row3 col0\" >1.811800</td>\n",
       "            </tr>\n",
       "            <tr>\n",
       "                                <th id=\"T_64c6675c_af5c_11ea_8b50_09b6c06dc4a0level1_row4\" class=\"row_heading level1 row4\" >&ТИП_ЦЕЛИ_Приобрести_новые_навыки</th>\n",
       "                        <td id=\"T_64c6675c_af5c_11ea_8b50_09b6c06dc4a0row4_col0\" class=\"data row4 col0\" >1.776200</td>\n",
       "            </tr>\n",
       "            <tr>\n",
       "                                <th id=\"T_64c6675c_af5c_11ea_8b50_09b6c06dc4a0level1_row5\" class=\"row_heading level1 row5\" >&ОСНОВНОЙ_ВИД_ДЕЙТЕЛЬНОСТИ_Работаю_в_организации,_предприятии</th>\n",
       "                        <td id=\"T_64c6675c_af5c_11ea_8b50_09b6c06dc4a0row5_col0\" class=\"data row5 col0\" >1.771800</td>\n",
       "            </tr>\n",
       "            <tr>\n",
       "                                <th id=\"T_64c6675c_af5c_11ea_8b50_09b6c06dc4a0level1_row6\" class=\"row_heading level1 row6\" >&ТИП_ЦЕЛИ_Развить_имеющиеся_знания_и_навыки</th>\n",
       "                        <td id=\"T_64c6675c_af5c_11ea_8b50_09b6c06dc4a0row6_col0\" class=\"data row6 col0\" >1.739900</td>\n",
       "            </tr>\n",
       "            <tr>\n",
       "                                <th id=\"T_64c6675c_af5c_11ea_8b50_09b6c06dc4a0level1_row7\" class=\"row_heading level1 row7\" >&ПРЕГРАДЫ_есть_преграды</th>\n",
       "                        <td id=\"T_64c6675c_af5c_11ea_8b50_09b6c06dc4a0row7_col0\" class=\"data row7 col0\" >1.657370</td>\n",
       "            </tr>\n",
       "            <tr>\n",
       "                                <th id=\"T_64c6675c_af5c_11ea_8b50_09b6c06dc4a0level1_row8\" class=\"row_heading level1 row8\" >&ТИП_ЦЕЛИ_Получить_знания_в_новой_области</th>\n",
       "                        <td id=\"T_64c6675c_af5c_11ea_8b50_09b6c06dc4a0row8_col0\" class=\"data row8 col0\" >1.526360</td>\n",
       "            </tr>\n",
       "            <tr>\n",
       "                                <th id=\"T_64c6675c_af5c_11ea_8b50_09b6c06dc4a0level1_row9\" class=\"row_heading level1 row9\" >&ВРЕМЕННЫЕ_ГРАНИЦЫ_Нет_жестких_сроков</th>\n",
       "                        <td id=\"T_64c6675c_af5c_11ea_8b50_09b6c06dc4a0row9_col0\" class=\"data row9 col0\" >1.516080</td>\n",
       "            </tr>\n",
       "    </tbody></table><style  type=\"text/css\" >\n",
       "</style><table id=\"T_64c72ad4_af5c_11ea_8b50_09b6c06dc4a0\" style='display:inline'><thead>    <tr>        <th class=\"blank\" ></th>        <th class=\"blank level0\" ></th>        <th class=\"col_heading level0 col0\" >topic_2</th>    </tr>    <tr>        <th class=\"index_name level0\" >modality</th>        <th class=\"index_name level1\" >token</th>        <th class=\"blank\" ></th>    </tr></thead><tbody>\n",
       "                <tr>\n",
       "                        <th id=\"T_64c72ad4_af5c_11ea_8b50_09b6c06dc4a0level0_row0\" class=\"row_heading level0 row0\" rowspan=10>@ngram</th>\n",
       "                        <th id=\"T_64c72ad4_af5c_11ea_8b50_09b6c06dc4a0level1_row0\" class=\"row_heading level1 row0\" >повышение</th>\n",
       "                        <td id=\"T_64c72ad4_af5c_11ea_8b50_09b6c06dc4a0row0_col0\" class=\"data row0 col0\" >1.596190</td>\n",
       "            </tr>\n",
       "            <tr>\n",
       "                                <th id=\"T_64c72ad4_af5c_11ea_8b50_09b6c06dc4a0level1_row1\" class=\"row_heading level1 row1\" >уровень</th>\n",
       "                        <td id=\"T_64c72ad4_af5c_11ea_8b50_09b6c06dc4a0row1_col0\" class=\"data row1 col0\" >1.329790</td>\n",
       "            </tr>\n",
       "            <tr>\n",
       "                                <th id=\"T_64c72ad4_af5c_11ea_8b50_09b6c06dc4a0level1_row2\" class=\"row_heading level1 row2\" >новый</th>\n",
       "                        <td id=\"T_64c72ad4_af5c_11ea_8b50_09b6c06dc4a0row2_col0\" class=\"data row2 col0\" >1.105440</td>\n",
       "            </tr>\n",
       "            <tr>\n",
       "                                <th id=\"T_64c72ad4_af5c_11ea_8b50_09b6c06dc4a0level1_row3\" class=\"row_heading level1 row3\" >приобретение</th>\n",
       "                        <td id=\"T_64c72ad4_af5c_11ea_8b50_09b6c06dc4a0row3_col0\" class=\"data row3 col0\" >0.919870</td>\n",
       "            </tr>\n",
       "            <tr>\n",
       "                                <th id=\"T_64c72ad4_af5c_11ea_8b50_09b6c06dc4a0level1_row4\" class=\"row_heading level1 row4\" >умение</th>\n",
       "                        <td id=\"T_64c72ad4_af5c_11ea_8b50_09b6c06dc4a0row4_col0\" class=\"data row4 col0\" >0.918330</td>\n",
       "            </tr>\n",
       "            <tr>\n",
       "                                <th id=\"T_64c72ad4_af5c_11ea_8b50_09b6c06dc4a0level1_row5\" class=\"row_heading level1 row5\" >рост</th>\n",
       "                        <td id=\"T_64c72ad4_af5c_11ea_8b50_09b6c06dc4a0row5_col0\" class=\"data row5 col0\" >0.863260</td>\n",
       "            </tr>\n",
       "            <tr>\n",
       "                                <th id=\"T_64c72ad4_af5c_11ea_8b50_09b6c06dc4a0level1_row6\" class=\"row_heading level1 row6\" >большой</th>\n",
       "                        <td id=\"T_64c72ad4_af5c_11ea_8b50_09b6c06dc4a0row6_col0\" class=\"data row6 col0\" >0.799440</td>\n",
       "            </tr>\n",
       "            <tr>\n",
       "                                <th id=\"T_64c72ad4_af5c_11ea_8b50_09b6c06dc4a0level1_row7\" class=\"row_heading level1 row7\" >работа</th>\n",
       "                        <td id=\"T_64c72ad4_af5c_11ea_8b50_09b6c06dc4a0row7_col0\" class=\"data row7 col0\" >0.616340</td>\n",
       "            </tr>\n",
       "            <tr>\n",
       "                                <th id=\"T_64c72ad4_af5c_11ea_8b50_09b6c06dc4a0level1_row8\" class=\"row_heading level1 row8\" >знание_умение</th>\n",
       "                        <td id=\"T_64c72ad4_af5c_11ea_8b50_09b6c06dc4a0row8_col0\" class=\"data row8 col0\" >0.586650</td>\n",
       "            </tr>\n",
       "            <tr>\n",
       "                                <th id=\"T_64c72ad4_af5c_11ea_8b50_09b6c06dc4a0level1_row9\" class=\"row_heading level1 row9\" >повышение_уровень</th>\n",
       "                        <td id=\"T_64c72ad4_af5c_11ea_8b50_09b6c06dc4a0row9_col0\" class=\"data row9 col0\" >0.558030</td>\n",
       "            </tr>\n",
       "    </tbody></table><style  type=\"text/css\" >\n",
       "</style><table id=\"T_64c7ed8e_af5c_11ea_8b50_09b6c06dc4a0\" style='display:inline'><thead>    <tr>        <th class=\"blank\" ></th>        <th class=\"blank level0\" ></th>        <th class=\"col_heading level0 col0\" >topic_2</th>    </tr>    <tr>        <th class=\"index_name level0\" >modality</th>        <th class=\"index_name level1\" >token</th>        <th class=\"blank\" ></th>    </tr></thead><tbody>\n",
       "                <tr>\n",
       "                        <th id=\"T_64c7ed8e_af5c_11ea_8b50_09b6c06dc4a0level0_row0\" class=\"row_heading level0 row0\" rowspan=2>@specificity</th>\n",
       "                        <th id=\"T_64c7ed8e_af5c_11ea_8b50_09b6c06dc4a0level1_row0\" class=\"row_heading level1 row0\" >0</th>\n",
       "                        <td id=\"T_64c7ed8e_af5c_11ea_8b50_09b6c06dc4a0row0_col0\" class=\"data row0 col0\" >44.479440</td>\n",
       "            </tr>\n",
       "            <tr>\n",
       "                                <th id=\"T_64c7ed8e_af5c_11ea_8b50_09b6c06dc4a0level1_row1\" class=\"row_heading level1 row1\" >1</th>\n",
       "                        <td id=\"T_64c7ed8e_af5c_11ea_8b50_09b6c06dc4a0row1_col0\" class=\"data row1 col0\" >-0.000000</td>\n",
       "            </tr>\n",
       "    </tbody></table>"
      ]
     },
     "metadata": {},
     "output_type": "display_data"
    },
    {
     "data": {
      "text/html": [
       "<style  type=\"text/css\" >\n",
       "</style><table id=\"T_64cc5f18_af5c_11ea_8b50_09b6c06dc4a0\" style='display:inline'><thead>    <tr>        <th class=\"blank\" ></th>        <th class=\"blank level0\" ></th>        <th class=\"col_heading level0 col0\" >topic_3</th>    </tr>    <tr>        <th class=\"index_name level0\" >modality</th>        <th class=\"index_name level1\" >token</th>        <th class=\"blank\" ></th>    </tr></thead><tbody>\n",
       "                <tr>\n",
       "                        <th id=\"T_64cc5f18_af5c_11ea_8b50_09b6c06dc4a0level0_row0\" class=\"row_heading level0 row0\" rowspan=10>@info</th>\n",
       "                        <th id=\"T_64cc5f18_af5c_11ea_8b50_09b6c06dc4a0level1_row0\" class=\"row_heading level1 row0\" >&ОСНОВНОЙ_ВИД_ДЕЙТЕЛЬНОСТИ_Не_работаю,_пенсионер</th>\n",
       "                        <td id=\"T_64cc5f18_af5c_11ea_8b50_09b6c06dc4a0row0_col0\" class=\"data row0 col0\" >39.412500</td>\n",
       "            </tr>\n",
       "            <tr>\n",
       "                                <th id=\"T_64cc5f18_af5c_11ea_8b50_09b6c06dc4a0level1_row1\" class=\"row_heading level1 row1\" >&ОБРАЗОВАНИЕ_Среднее_общее_образование</th>\n",
       "                        <td id=\"T_64cc5f18_af5c_11ea_8b50_09b6c06dc4a0row1_col0\" class=\"data row1 col0\" >-0.000000</td>\n",
       "            </tr>\n",
       "            <tr>\n",
       "                                <th id=\"T_64cc5f18_af5c_11ea_8b50_09b6c06dc4a0level1_row2\" class=\"row_heading level1 row2\" >&ПОДОБЛАСТЬ_ЦЕЛИ_Астрономия</th>\n",
       "                        <td id=\"T_64cc5f18_af5c_11ea_8b50_09b6c06dc4a0row2_col0\" class=\"data row2 col0\" >-0.000000</td>\n",
       "            </tr>\n",
       "            <tr>\n",
       "                                <th id=\"T_64cc5f18_af5c_11ea_8b50_09b6c06dc4a0level1_row3\" class=\"row_heading level1 row3\" >&ПОДОБЛАСТЬ_ЦЕЛИ_Новое_место_работы</th>\n",
       "                        <td id=\"T_64cc5f18_af5c_11ea_8b50_09b6c06dc4a0row3_col0\" class=\"data row3 col0\" >-0.000000</td>\n",
       "            </tr>\n",
       "            <tr>\n",
       "                                <th id=\"T_64cc5f18_af5c_11ea_8b50_09b6c06dc4a0level1_row4\" class=\"row_heading level1 row4\" >&ПОДОБЛАСТЬ_ЦЕЛИ_Планирование,_самоорганизация_и_тайм-менеджмент</th>\n",
       "                        <td id=\"T_64cc5f18_af5c_11ea_8b50_09b6c06dc4a0row4_col0\" class=\"data row4 col0\" >-0.000000</td>\n",
       "            </tr>\n",
       "            <tr>\n",
       "                                <th id=\"T_64cc5f18_af5c_11ea_8b50_09b6c06dc4a0level1_row5\" class=\"row_heading level1 row5\" >&ПОДОБЛАСТЬ_ЦЕЛИ_Психология</th>\n",
       "                        <td id=\"T_64cc5f18_af5c_11ea_8b50_09b6c06dc4a0row5_col0\" class=\"data row5 col0\" >-0.000000</td>\n",
       "            </tr>\n",
       "            <tr>\n",
       "                                <th id=\"T_64cc5f18_af5c_11ea_8b50_09b6c06dc4a0level1_row6\" class=\"row_heading level1 row6\" >&ПРЕГРАДЫ_есть_преграды</th>\n",
       "                        <td id=\"T_64cc5f18_af5c_11ea_8b50_09b6c06dc4a0row6_col0\" class=\"data row6 col0\" >-0.000000</td>\n",
       "            </tr>\n",
       "            <tr>\n",
       "                                <th id=\"T_64cc5f18_af5c_11ea_8b50_09b6c06dc4a0level1_row7\" class=\"row_heading level1 row7\" >&СФЕРА_ЗАНЯТОСТИ_Нефтегазовая_промышленность</th>\n",
       "                        <td id=\"T_64cc5f18_af5c_11ea_8b50_09b6c06dc4a0row7_col0\" class=\"data row7 col0\" >-0.000000</td>\n",
       "            </tr>\n",
       "            <tr>\n",
       "                                <th id=\"T_64cc5f18_af5c_11ea_8b50_09b6c06dc4a0level1_row8\" class=\"row_heading level1 row8\" >&ТИП_ЦЕЛИ_Включиться_в_новый_проект/деятельность</th>\n",
       "                        <td id=\"T_64cc5f18_af5c_11ea_8b50_09b6c06dc4a0row8_col0\" class=\"data row8 col0\" >-0.000000</td>\n",
       "            </tr>\n",
       "            <tr>\n",
       "                                <th id=\"T_64cc5f18_af5c_11ea_8b50_09b6c06dc4a0level1_row9\" class=\"row_heading level1 row9\" >&ТИП_ЦЕЛИ_Получить_знания_в_новой_области</th>\n",
       "                        <td id=\"T_64cc5f18_af5c_11ea_8b50_09b6c06dc4a0row9_col0\" class=\"data row9 col0\" >-0.000000</td>\n",
       "            </tr>\n",
       "    </tbody></table><style  type=\"text/css\" >\n",
       "</style><table id=\"T_64cd4072_af5c_11ea_8b50_09b6c06dc4a0\" style='display:inline'><thead>    <tr>        <th class=\"blank\" ></th>        <th class=\"blank level0\" ></th>        <th class=\"col_heading level0 col0\" >topic_3</th>    </tr>    <tr>        <th class=\"index_name level0\" >modality</th>        <th class=\"index_name level1\" >token</th>        <th class=\"blank\" ></th>    </tr></thead><tbody>\n",
       "                <tr>\n",
       "                        <th id=\"T_64cd4072_af5c_11ea_8b50_09b6c06dc4a0level0_row0\" class=\"row_heading level0 row0\" rowspan=10>@ngram</th>\n",
       "                        <th id=\"T_64cd4072_af5c_11ea_8b50_09b6c06dc4a0level1_row0\" class=\"row_heading level1 row0\" >профессиональный</th>\n",
       "                        <td id=\"T_64cd4072_af5c_11ea_8b50_09b6c06dc4a0row0_col0\" class=\"data row0 col0\" >2.826060</td>\n",
       "            </tr>\n",
       "            <tr>\n",
       "                                <th id=\"T_64cd4072_af5c_11ea_8b50_09b6c06dc4a0level1_row1\" class=\"row_heading level1 row1\" >повышение</th>\n",
       "                        <td id=\"T_64cd4072_af5c_11ea_8b50_09b6c06dc4a0row1_col0\" class=\"data row1 col0\" >1.685700</td>\n",
       "            </tr>\n",
       "            <tr>\n",
       "                                <th id=\"T_64cd4072_af5c_11ea_8b50_09b6c06dc4a0level1_row2\" class=\"row_heading level1 row2\" >стать</th>\n",
       "                        <td id=\"T_64cd4072_af5c_11ea_8b50_09b6c06dc4a0row2_col0\" class=\"data row2 col0\" >1.479530</td>\n",
       "            </tr>\n",
       "            <tr>\n",
       "                                <th id=\"T_64cd4072_af5c_11ea_8b50_09b6c06dc4a0level1_row3\" class=\"row_heading level1 row3\" >свой</th>\n",
       "                        <td id=\"T_64cd4072_af5c_11ea_8b50_09b6c06dc4a0row3_col0\" class=\"data row3 col0\" >1.384370</td>\n",
       "            </tr>\n",
       "            <tr>\n",
       "                                <th id=\"T_64cd4072_af5c_11ea_8b50_09b6c06dc4a0level1_row4\" class=\"row_heading level1 row4\" >уровень</th>\n",
       "                        <td id=\"T_64cd4072_af5c_11ea_8b50_09b6c06dc4a0row4_col0\" class=\"data row4 col0\" >0.858370</td>\n",
       "            </tr>\n",
       "            <tr>\n",
       "                                <th id=\"T_64cd4072_af5c_11ea_8b50_09b6c06dc4a0level1_row5\" class=\"row_heading level1 row5\" >специалист</th>\n",
       "                        <td id=\"T_64cd4072_af5c_11ea_8b50_09b6c06dc4a0row5_col0\" class=\"data row5 col0\" >0.738840</td>\n",
       "            </tr>\n",
       "            <tr>\n",
       "                                <th id=\"T_64cd4072_af5c_11ea_8b50_09b6c06dc4a0level1_row6\" class=\"row_heading level1 row6\" >рост</th>\n",
       "                        <td id=\"T_64cd4072_af5c_11ea_8b50_09b6c06dc4a0row6_col0\" class=\"data row6 col0\" >0.561930</td>\n",
       "            </tr>\n",
       "            <tr>\n",
       "                                <th id=\"T_64cd4072_af5c_11ea_8b50_09b6c06dc4a0level1_row7\" class=\"row_heading level1 row7\" >повышение_профессиональный</th>\n",
       "                        <td id=\"T_64cd4072_af5c_11ea_8b50_09b6c06dc4a0row7_col0\" class=\"data row7 col0\" >0.545710</td>\n",
       "            </tr>\n",
       "            <tr>\n",
       "                                <th id=\"T_64cd4072_af5c_11ea_8b50_09b6c06dc4a0level1_row8\" class=\"row_heading level1 row8\" >профессиональный_уровень</th>\n",
       "                        <td id=\"T_64cd4072_af5c_11ea_8b50_09b6c06dc4a0row8_col0\" class=\"data row8 col0\" >0.512770</td>\n",
       "            </tr>\n",
       "            <tr>\n",
       "                                <th id=\"T_64cd4072_af5c_11ea_8b50_09b6c06dc4a0level1_row9\" class=\"row_heading level1 row9\" >развитие</th>\n",
       "                        <td id=\"T_64cd4072_af5c_11ea_8b50_09b6c06dc4a0row9_col0\" class=\"data row9 col0\" >0.498090</td>\n",
       "            </tr>\n",
       "    </tbody></table><style  type=\"text/css\" >\n",
       "</style><table id=\"T_64ce0430_af5c_11ea_8b50_09b6c06dc4a0\" style='display:inline'><thead>    <tr>        <th class=\"blank\" ></th>        <th class=\"blank level0\" ></th>        <th class=\"col_heading level0 col0\" >topic_3</th>    </tr>    <tr>        <th class=\"index_name level0\" >modality</th>        <th class=\"index_name level1\" >token</th>        <th class=\"blank\" ></th>    </tr></thead><tbody>\n",
       "                <tr>\n",
       "                        <th id=\"T_64ce0430_af5c_11ea_8b50_09b6c06dc4a0level0_row0\" class=\"row_heading level0 row0\" rowspan=2>@specificity</th>\n",
       "                        <th id=\"T_64ce0430_af5c_11ea_8b50_09b6c06dc4a0level1_row0\" class=\"row_heading level1 row0\" >1</th>\n",
       "                        <td id=\"T_64ce0430_af5c_11ea_8b50_09b6c06dc4a0row0_col0\" class=\"data row0 col0\" >39.412500</td>\n",
       "            </tr>\n",
       "            <tr>\n",
       "                                <th id=\"T_64ce0430_af5c_11ea_8b50_09b6c06dc4a0level1_row1\" class=\"row_heading level1 row1\" >0</th>\n",
       "                        <td id=\"T_64ce0430_af5c_11ea_8b50_09b6c06dc4a0row1_col0\" class=\"data row1 col0\" >-0.000000</td>\n",
       "            </tr>\n",
       "    </tbody></table>"
      ]
     },
     "metadata": {},
     "output_type": "display_data"
    },
    {
     "data": {
      "text/html": [
       "<style  type=\"text/css\" >\n",
       "</style><table id=\"T_64d16ee0_af5c_11ea_8b50_09b6c06dc4a0\" style='display:inline'><thead>    <tr>        <th class=\"blank\" ></th>        <th class=\"blank level0\" ></th>        <th class=\"col_heading level0 col0\" >topic_4</th>    </tr>    <tr>        <th class=\"index_name level0\" >modality</th>        <th class=\"index_name level1\" >token</th>        <th class=\"blank\" ></th>    </tr></thead><tbody>\n",
       "                <tr>\n",
       "                        <th id=\"T_64d16ee0_af5c_11ea_8b50_09b6c06dc4a0level0_row0\" class=\"row_heading level0 row0\" rowspan=10>@info</th>\n",
       "                        <th id=\"T_64d16ee0_af5c_11ea_8b50_09b6c06dc4a0level1_row0\" class=\"row_heading level1 row0\" >&СФЕРА_ЗАНЯТОСТИ_Военно-промышленный_комплекс</th>\n",
       "                        <td id=\"T_64d16ee0_af5c_11ea_8b50_09b6c06dc4a0row0_col0\" class=\"data row0 col0\" >39.146920</td>\n",
       "            </tr>\n",
       "            <tr>\n",
       "                                <th id=\"T_64d16ee0_af5c_11ea_8b50_09b6c06dc4a0level1_row1\" class=\"row_heading level1 row1\" >&ВРЕМЕННЫЕ_ГРАНИЦЫ_есть_границы</th>\n",
       "                        <td id=\"T_64d16ee0_af5c_11ea_8b50_09b6c06dc4a0row1_col0\" class=\"data row1 col0\" >-0.000000</td>\n",
       "            </tr>\n",
       "            <tr>\n",
       "                                <th id=\"T_64d16ee0_af5c_11ea_8b50_09b6c06dc4a0level1_row2\" class=\"row_heading level1 row2\" >&ОБРАЗОВАНИЕ_Среднее_общее_образование</th>\n",
       "                        <td id=\"T_64d16ee0_af5c_11ea_8b50_09b6c06dc4a0row2_col0\" class=\"data row2 col0\" >-0.000000</td>\n",
       "            </tr>\n",
       "            <tr>\n",
       "                                <th id=\"T_64d16ee0_af5c_11ea_8b50_09b6c06dc4a0level1_row3\" class=\"row_heading level1 row3\" >&ПОДОБЛАСТЬ_ЦЕЛИ_Навыки_ручного_труда</th>\n",
       "                        <td id=\"T_64d16ee0_af5c_11ea_8b50_09b6c06dc4a0row3_col0\" class=\"data row3 col0\" >-0.000000</td>\n",
       "            </tr>\n",
       "            <tr>\n",
       "                                <th id=\"T_64d16ee0_af5c_11ea_8b50_09b6c06dc4a0level1_row4\" class=\"row_heading level1 row4\" >&ПОДОБЛАСТЬ_ЦЕЛИ_Новое_место_работы</th>\n",
       "                        <td id=\"T_64d16ee0_af5c_11ea_8b50_09b6c06dc4a0row4_col0\" class=\"data row4 col0\" >-0.000000</td>\n",
       "            </tr>\n",
       "            <tr>\n",
       "                                <th id=\"T_64d16ee0_af5c_11ea_8b50_09b6c06dc4a0level1_row5\" class=\"row_heading level1 row5\" >&ПОДОБЛАСТЬ_ЦЕЛИ_Спорт,_танцы,_боевые_искусства</th>\n",
       "                        <td id=\"T_64d16ee0_af5c_11ea_8b50_09b6c06dc4a0row5_col0\" class=\"data row5 col0\" >-0.000000</td>\n",
       "            </tr>\n",
       "            <tr>\n",
       "                                <th id=\"T_64d16ee0_af5c_11ea_8b50_09b6c06dc4a0level1_row6\" class=\"row_heading level1 row6\" >&ПРЕГРАДЫ_есть_преграды</th>\n",
       "                        <td id=\"T_64d16ee0_af5c_11ea_8b50_09b6c06dc4a0row6_col0\" class=\"data row6 col0\" >-0.000000</td>\n",
       "            </tr>\n",
       "            <tr>\n",
       "                                <th id=\"T_64d16ee0_af5c_11ea_8b50_09b6c06dc4a0level1_row7\" class=\"row_heading level1 row7\" >&СФЕРА_ЗАНЯТОСТИ_Дизайн_и_графика</th>\n",
       "                        <td id=\"T_64d16ee0_af5c_11ea_8b50_09b6c06dc4a0row7_col0\" class=\"data row7 col0\" >-0.000000</td>\n",
       "            </tr>\n",
       "            <tr>\n",
       "                                <th id=\"T_64d16ee0_af5c_11ea_8b50_09b6c06dc4a0level1_row8\" class=\"row_heading level1 row8\" >&ТИП_ЦЕЛИ_Включиться_в_новый_проект/деятельность</th>\n",
       "                        <td id=\"T_64d16ee0_af5c_11ea_8b50_09b6c06dc4a0row8_col0\" class=\"data row8 col0\" >-0.000000</td>\n",
       "            </tr>\n",
       "            <tr>\n",
       "                                <th id=\"T_64d16ee0_af5c_11ea_8b50_09b6c06dc4a0level1_row9\" class=\"row_heading level1 row9\" >&ТИП_ЦЕЛИ_Получить_знания_в_новой_области</th>\n",
       "                        <td id=\"T_64d16ee0_af5c_11ea_8b50_09b6c06dc4a0row9_col0\" class=\"data row9 col0\" >-0.000000</td>\n",
       "            </tr>\n",
       "    </tbody></table><style  type=\"text/css\" >\n",
       "</style><table id=\"T_64d23118_af5c_11ea_8b50_09b6c06dc4a0\" style='display:inline'><thead>    <tr>        <th class=\"blank\" ></th>        <th class=\"blank level0\" ></th>        <th class=\"col_heading level0 col0\" >topic_4</th>    </tr>    <tr>        <th class=\"index_name level0\" >modality</th>        <th class=\"index_name level1\" >token</th>        <th class=\"blank\" ></th>    </tr></thead><tbody>\n",
       "                <tr>\n",
       "                        <th id=\"T_64d23118_af5c_11ea_8b50_09b6c06dc4a0level0_row0\" class=\"row_heading level0 row0\" rowspan=10>@ngram</th>\n",
       "                        <th id=\"T_64d23118_af5c_11ea_8b50_09b6c06dc4a0level1_row0\" class=\"row_heading level1 row0\" >компетенция</th>\n",
       "                        <td id=\"T_64d23118_af5c_11ea_8b50_09b6c06dc4a0row0_col0\" class=\"data row0 col0\" >1.478210</td>\n",
       "            </tr>\n",
       "            <tr>\n",
       "                                <th id=\"T_64d23118_af5c_11ea_8b50_09b6c06dc4a0level1_row1\" class=\"row_heading level1 row1\" >сфера</th>\n",
       "                        <td id=\"T_64d23118_af5c_11ea_8b50_09b6c06dc4a0row1_col0\" class=\"data row1 col0\" >1.081610</td>\n",
       "            </tr>\n",
       "            <tr>\n",
       "                                <th id=\"T_64d23118_af5c_11ea_8b50_09b6c06dc4a0level1_row2\" class=\"row_heading level1 row2\" >управление</th>\n",
       "                        <td id=\"T_64d23118_af5c_11ea_8b50_09b6c06dc4a0row2_col0\" class=\"data row2 col0\" >0.897410</td>\n",
       "            </tr>\n",
       "            <tr>\n",
       "                                <th id=\"T_64d23118_af5c_11ea_8b50_09b6c06dc4a0level1_row3\" class=\"row_heading level1 row3\" >навык</th>\n",
       "                        <td id=\"T_64d23118_af5c_11ea_8b50_09b6c06dc4a0row3_col0\" class=\"data row3 col0\" >0.757480</td>\n",
       "            </tr>\n",
       "            <tr>\n",
       "                                <th id=\"T_64d23118_af5c_11ea_8b50_09b6c06dc4a0level1_row4\" class=\"row_heading level1 row4\" >повысить</th>\n",
       "                        <td id=\"T_64d23118_af5c_11ea_8b50_09b6c06dc4a0row4_col0\" class=\"data row4 col0\" >0.705690</td>\n",
       "            </tr>\n",
       "            <tr>\n",
       "                                <th id=\"T_64d23118_af5c_11ea_8b50_09b6c06dc4a0level1_row5\" class=\"row_heading level1 row5\" >повысить_уровень</th>\n",
       "                        <td id=\"T_64d23118_af5c_11ea_8b50_09b6c06dc4a0row5_col0\" class=\"data row5 col0\" >0.527480</td>\n",
       "            </tr>\n",
       "            <tr>\n",
       "                                <th id=\"T_64d23118_af5c_11ea_8b50_09b6c06dc4a0level1_row6\" class=\"row_heading level1 row6\" >деятельность</th>\n",
       "                        <td id=\"T_64d23118_af5c_11ea_8b50_09b6c06dc4a0row6_col0\" class=\"data row6 col0\" >0.525260</td>\n",
       "            </tr>\n",
       "            <tr>\n",
       "                                <th id=\"T_64d23118_af5c_11ea_8b50_09b6c06dc4a0level1_row7\" class=\"row_heading level1 row7\" >новый</th>\n",
       "                        <td id=\"T_64d23118_af5c_11ea_8b50_09b6c06dc4a0row7_col0\" class=\"data row7 col0\" >0.464890</td>\n",
       "            </tr>\n",
       "            <tr>\n",
       "                                <th id=\"T_64d23118_af5c_11ea_8b50_09b6c06dc4a0level1_row8\" class=\"row_heading level1 row8\" >развитие</th>\n",
       "                        <td id=\"T_64d23118_af5c_11ea_8b50_09b6c06dc4a0row8_col0\" class=\"data row8 col0\" >0.453660</td>\n",
       "            </tr>\n",
       "            <tr>\n",
       "                                <th id=\"T_64d23118_af5c_11ea_8b50_09b6c06dc4a0level1_row9\" class=\"row_heading level1 row9\" >уровень</th>\n",
       "                        <td id=\"T_64d23118_af5c_11ea_8b50_09b6c06dc4a0row9_col0\" class=\"data row9 col0\" >0.432590</td>\n",
       "            </tr>\n",
       "    </tbody></table><style  type=\"text/css\" >\n",
       "</style><table id=\"T_64d2ecde_af5c_11ea_8b50_09b6c06dc4a0\" style='display:inline'><thead>    <tr>        <th class=\"blank\" ></th>        <th class=\"blank level0\" ></th>        <th class=\"col_heading level0 col0\" >topic_4</th>    </tr>    <tr>        <th class=\"index_name level0\" >modality</th>        <th class=\"index_name level1\" >token</th>        <th class=\"blank\" ></th>    </tr></thead><tbody>\n",
       "                <tr>\n",
       "                        <th id=\"T_64d2ecde_af5c_11ea_8b50_09b6c06dc4a0level0_row0\" class=\"row_heading level0 row0\" rowspan=2>@specificity</th>\n",
       "                        <th id=\"T_64d2ecde_af5c_11ea_8b50_09b6c06dc4a0level1_row0\" class=\"row_heading level1 row0\" >1</th>\n",
       "                        <td id=\"T_64d2ecde_af5c_11ea_8b50_09b6c06dc4a0row0_col0\" class=\"data row0 col0\" >39.146920</td>\n",
       "            </tr>\n",
       "            <tr>\n",
       "                                <th id=\"T_64d2ecde_af5c_11ea_8b50_09b6c06dc4a0level1_row1\" class=\"row_heading level1 row1\" >0</th>\n",
       "                        <td id=\"T_64d2ecde_af5c_11ea_8b50_09b6c06dc4a0row1_col0\" class=\"data row1 col0\" >-0.000000</td>\n",
       "            </tr>\n",
       "    </tbody></table>"
      ]
     },
     "metadata": {},
     "output_type": "display_data"
    },
    {
     "data": {
      "text/html": [
       "<style  type=\"text/css\" >\n",
       "</style><table id=\"T_64d74360_af5c_11ea_8b50_09b6c06dc4a0\" style='display:inline'><thead>    <tr>        <th class=\"blank\" ></th>        <th class=\"blank level0\" ></th>        <th class=\"col_heading level0 col0\" >topic_5</th>    </tr>    <tr>        <th class=\"index_name level0\" >modality</th>        <th class=\"index_name level1\" >token</th>        <th class=\"blank\" ></th>    </tr></thead><tbody>\n",
       "                <tr>\n",
       "                        <th id=\"T_64d74360_af5c_11ea_8b50_09b6c06dc4a0level0_row0\" class=\"row_heading level0 row0\" rowspan=10>@info</th>\n",
       "                        <th id=\"T_64d74360_af5c_11ea_8b50_09b6c06dc4a0level1_row0\" class=\"row_heading level1 row0\" >&ПОДОБЛАСТЬ_ЦЕЛИ_Работа_по_дому,_хозяйству</th>\n",
       "                        <td id=\"T_64d74360_af5c_11ea_8b50_09b6c06dc4a0row0_col0\" class=\"data row0 col0\" >21.546860</td>\n",
       "            </tr>\n",
       "            <tr>\n",
       "                                <th id=\"T_64d74360_af5c_11ea_8b50_09b6c06dc4a0level1_row1\" class=\"row_heading level1 row1\" >ИНФОРМАЦИИ</th>\n",
       "                        <td id=\"T_64d74360_af5c_11ea_8b50_09b6c06dc4a0row1_col0\" class=\"data row1 col0\" >8.103530</td>\n",
       "            </tr>\n",
       "            <tr>\n",
       "                                <th id=\"T_64d74360_af5c_11ea_8b50_09b6c06dc4a0level1_row2\" class=\"row_heading level1 row2\" >НЕТ</th>\n",
       "                        <td id=\"T_64d74360_af5c_11ea_8b50_09b6c06dc4a0row2_col0\" class=\"data row2 col0\" >8.103530</td>\n",
       "            </tr>\n",
       "            <tr>\n",
       "                                <th id=\"T_64d74360_af5c_11ea_8b50_09b6c06dc4a0level1_row3\" class=\"row_heading level1 row3\" >&ВРЕМЕННЫЕ_ГРАНИЦЫ_есть_границы</th>\n",
       "                        <td id=\"T_64d74360_af5c_11ea_8b50_09b6c06dc4a0row3_col0\" class=\"data row3 col0\" >-0.000000</td>\n",
       "            </tr>\n",
       "            <tr>\n",
       "                                <th id=\"T_64d74360_af5c_11ea_8b50_09b6c06dc4a0level1_row4\" class=\"row_heading level1 row4\" >&ПОДОБЛАСТЬ_ЦЕЛИ_Новое_место_работы</th>\n",
       "                        <td id=\"T_64d74360_af5c_11ea_8b50_09b6c06dc4a0row4_col0\" class=\"data row4 col0\" >-0.000000</td>\n",
       "            </tr>\n",
       "            <tr>\n",
       "                                <th id=\"T_64d74360_af5c_11ea_8b50_09b6c06dc4a0level1_row5\" class=\"row_heading level1 row5\" >&ПОДОБЛАСТЬ_ЦЕЛИ_Планирование,_самоорганизация_и_тайм-менеджмент</th>\n",
       "                        <td id=\"T_64d74360_af5c_11ea_8b50_09b6c06dc4a0row5_col0\" class=\"data row5 col0\" >-0.000000</td>\n",
       "            </tr>\n",
       "            <tr>\n",
       "                                <th id=\"T_64d74360_af5c_11ea_8b50_09b6c06dc4a0level1_row6\" class=\"row_heading level1 row6\" >&ПРЕГРАДЫ_есть_преграды</th>\n",
       "                        <td id=\"T_64d74360_af5c_11ea_8b50_09b6c06dc4a0row6_col0\" class=\"data row6 col0\" >-0.000000</td>\n",
       "            </tr>\n",
       "            <tr>\n",
       "                                <th id=\"T_64d74360_af5c_11ea_8b50_09b6c06dc4a0level1_row7\" class=\"row_heading level1 row7\" >&СФЕРА_ЗАНЯТОСТИ_Нефтегазовая_промышленность</th>\n",
       "                        <td id=\"T_64d74360_af5c_11ea_8b50_09b6c06dc4a0row7_col0\" class=\"data row7 col0\" >-0.000000</td>\n",
       "            </tr>\n",
       "            <tr>\n",
       "                                <th id=\"T_64d74360_af5c_11ea_8b50_09b6c06dc4a0level1_row8\" class=\"row_heading level1 row8\" >&ТИП_ЦЕЛИ_Включиться_в_новый_проект/деятельность</th>\n",
       "                        <td id=\"T_64d74360_af5c_11ea_8b50_09b6c06dc4a0row8_col0\" class=\"data row8 col0\" >-0.000000</td>\n",
       "            </tr>\n",
       "            <tr>\n",
       "                                <th id=\"T_64d74360_af5c_11ea_8b50_09b6c06dc4a0level1_row9\" class=\"row_heading level1 row9\" >&ТИП_ЦЕЛИ_Получить_знания_в_новой_области</th>\n",
       "                        <td id=\"T_64d74360_af5c_11ea_8b50_09b6c06dc4a0row9_col0\" class=\"data row9 col0\" >-0.000000</td>\n",
       "            </tr>\n",
       "    </tbody></table><style  type=\"text/css\" >\n",
       "</style><table id=\"T_64d805ac_af5c_11ea_8b50_09b6c06dc4a0\" style='display:inline'><thead>    <tr>        <th class=\"blank\" ></th>        <th class=\"blank level0\" ></th>        <th class=\"col_heading level0 col0\" >topic_5</th>    </tr>    <tr>        <th class=\"index_name level0\" >modality</th>        <th class=\"index_name level1\" >token</th>        <th class=\"blank\" ></th>    </tr></thead><tbody>\n",
       "                <tr>\n",
       "                        <th id=\"T_64d805ac_af5c_11ea_8b50_09b6c06dc4a0level0_row0\" class=\"row_heading level0 row0\" rowspan=10>@ngram</th>\n",
       "                        <th id=\"T_64d805ac_af5c_11ea_8b50_09b6c06dc4a0level1_row0\" class=\"row_heading level1 row0\" >закончить</th>\n",
       "                        <td id=\"T_64d805ac_af5c_11ea_8b50_09b6c06dc4a0row0_col0\" class=\"data row0 col0\" >1.708290</td>\n",
       "            </tr>\n",
       "            <tr>\n",
       "                                <th id=\"T_64d805ac_af5c_11ea_8b50_09b6c06dc4a0level1_row1\" class=\"row_heading level1 row1\" >программирование</th>\n",
       "                        <td id=\"T_64d805ac_af5c_11ea_8b50_09b6c06dc4a0row1_col0\" class=\"data row1 col0\" >1.165730</td>\n",
       "            </tr>\n",
       "            <tr>\n",
       "                                <th id=\"T_64d805ac_af5c_11ea_8b50_09b6c06dc4a0level1_row2\" class=\"row_heading level1 row2\" >университет</th>\n",
       "                        <td id=\"T_64d805ac_af5c_11ea_8b50_09b6c06dc4a0row2_col0\" class=\"data row2 col0\" >0.930260</td>\n",
       "            </tr>\n",
       "            <tr>\n",
       "                                <th id=\"T_64d805ac_af5c_11ea_8b50_09b6c06dc4a0level1_row3\" class=\"row_heading level1 row3\" >бизнес</th>\n",
       "                        <td id=\"T_64d805ac_af5c_11ea_8b50_09b6c06dc4a0row3_col0\" class=\"data row3 col0\" >0.829370</td>\n",
       "            </tr>\n",
       "            <tr>\n",
       "                                <th id=\"T_64d805ac_af5c_11ea_8b50_09b6c06dc4a0level1_row4\" class=\"row_heading level1 row4\" >учёба</th>\n",
       "                        <td id=\"T_64d805ac_af5c_11ea_8b50_09b6c06dc4a0row4_col0\" class=\"data row4 col0\" >0.721240</td>\n",
       "            </tr>\n",
       "            <tr>\n",
       "                                <th id=\"T_64d805ac_af5c_11ea_8b50_09b6c06dc4a0level1_row5\" class=\"row_heading level1 row5\" >окончить</th>\n",
       "                        <td id=\"T_64d805ac_af5c_11ea_8b50_09b6c06dc4a0row5_col0\" class=\"data row5 col0\" >0.617670</td>\n",
       "            </tr>\n",
       "            <tr>\n",
       "                                <th id=\"T_64d805ac_af5c_11ea_8b50_09b6c06dc4a0level1_row6\" class=\"row_heading level1 row6\" >вуз</th>\n",
       "                        <td id=\"T_64d805ac_af5c_11ea_8b50_09b6c06dc4a0row6_col0\" class=\"data row6 col0\" >0.554030</td>\n",
       "            </tr>\n",
       "            <tr>\n",
       "                                <th id=\"T_64d805ac_af5c_11ea_8b50_09b6c06dc4a0level1_row7\" class=\"row_heading level1 row7\" >язык_программирование</th>\n",
       "                        <td id=\"T_64d805ac_af5c_11ea_8b50_09b6c06dc4a0row7_col0\" class=\"data row7 col0\" >0.543960</td>\n",
       "            </tr>\n",
       "            <tr>\n",
       "                                <th id=\"T_64d805ac_af5c_11ea_8b50_09b6c06dc4a0level1_row8\" class=\"row_heading level1 row8\" >закончить_университет</th>\n",
       "                        <td id=\"T_64d805ac_af5c_11ea_8b50_09b6c06dc4a0row8_col0\" class=\"data row8 col0\" >0.523040</td>\n",
       "            </tr>\n",
       "            <tr>\n",
       "                                <th id=\"T_64d805ac_af5c_11ea_8b50_09b6c06dc4a0level1_row9\" class=\"row_heading level1 row9\" >книга</th>\n",
       "                        <td id=\"T_64d805ac_af5c_11ea_8b50_09b6c06dc4a0row9_col0\" class=\"data row9 col0\" >0.481460</td>\n",
       "            </tr>\n",
       "    </tbody></table><style  type=\"text/css\" >\n",
       "</style><table id=\"T_64d8d252_af5c_11ea_8b50_09b6c06dc4a0\" style='display:inline'><thead>    <tr>        <th class=\"blank\" ></th>        <th class=\"blank level0\" ></th>        <th class=\"col_heading level0 col0\" >topic_5</th>    </tr>    <tr>        <th class=\"index_name level0\" >modality</th>        <th class=\"index_name level1\" >token</th>        <th class=\"blank\" ></th>    </tr></thead><tbody>\n",
       "                <tr>\n",
       "                        <th id=\"T_64d8d252_af5c_11ea_8b50_09b6c06dc4a0level0_row0\" class=\"row_heading level0 row0\" rowspan=2>@specificity</th>\n",
       "                        <th id=\"T_64d8d252_af5c_11ea_8b50_09b6c06dc4a0level1_row0\" class=\"row_heading level1 row0\" >1</th>\n",
       "                        <td id=\"T_64d8d252_af5c_11ea_8b50_09b6c06dc4a0row0_col0\" class=\"data row0 col0\" >38.740580</td>\n",
       "            </tr>\n",
       "            <tr>\n",
       "                                <th id=\"T_64d8d252_af5c_11ea_8b50_09b6c06dc4a0level1_row1\" class=\"row_heading level1 row1\" >0</th>\n",
       "                        <td id=\"T_64d8d252_af5c_11ea_8b50_09b6c06dc4a0row1_col0\" class=\"data row1 col0\" >-0.000000</td>\n",
       "            </tr>\n",
       "    </tbody></table>"
      ]
     },
     "metadata": {},
     "output_type": "display_data"
    },
    {
     "data": {
      "text/html": [
       "<style  type=\"text/css\" >\n",
       "</style><table id=\"T_64dc3cc6_af5c_11ea_8b50_09b6c06dc4a0\" style='display:inline'><thead>    <tr>        <th class=\"blank\" ></th>        <th class=\"blank level0\" ></th>        <th class=\"col_heading level0 col0\" >topic_6</th>    </tr>    <tr>        <th class=\"index_name level0\" >modality</th>        <th class=\"index_name level1\" >token</th>        <th class=\"blank\" ></th>    </tr></thead><tbody>\n",
       "                <tr>\n",
       "                        <th id=\"T_64dc3cc6_af5c_11ea_8b50_09b6c06dc4a0level0_row0\" class=\"row_heading level0 row0\" rowspan=10>@info</th>\n",
       "                        <th id=\"T_64dc3cc6_af5c_11ea_8b50_09b6c06dc4a0level1_row0\" class=\"row_heading level1 row0\" >&ВРЕМЕННЫЕ_ГРАНИЦЫ_есть_границы</th>\n",
       "                        <td id=\"T_64dc3cc6_af5c_11ea_8b50_09b6c06dc4a0row0_col0\" class=\"data row0 col0\" >-0.000000</td>\n",
       "            </tr>\n",
       "            <tr>\n",
       "                                <th id=\"T_64dc3cc6_af5c_11ea_8b50_09b6c06dc4a0level1_row1\" class=\"row_heading level1 row1\" >&ОБРАЗОВАНИЕ_Среднее_общее_образование</th>\n",
       "                        <td id=\"T_64dc3cc6_af5c_11ea_8b50_09b6c06dc4a0row1_col0\" class=\"data row1 col0\" >-0.000000</td>\n",
       "            </tr>\n",
       "            <tr>\n",
       "                                <th id=\"T_64dc3cc6_af5c_11ea_8b50_09b6c06dc4a0level1_row2\" class=\"row_heading level1 row2\" >&ПОДОБЛАСТЬ_ЦЕЛИ_Астрономия</th>\n",
       "                        <td id=\"T_64dc3cc6_af5c_11ea_8b50_09b6c06dc4a0row2_col0\" class=\"data row2 col0\" >-0.000000</td>\n",
       "            </tr>\n",
       "            <tr>\n",
       "                                <th id=\"T_64dc3cc6_af5c_11ea_8b50_09b6c06dc4a0level1_row3\" class=\"row_heading level1 row3\" >&ПОДОБЛАСТЬ_ЦЕЛИ_Новое_место_работы</th>\n",
       "                        <td id=\"T_64dc3cc6_af5c_11ea_8b50_09b6c06dc4a0row3_col0\" class=\"data row3 col0\" >-0.000000</td>\n",
       "            </tr>\n",
       "            <tr>\n",
       "                                <th id=\"T_64dc3cc6_af5c_11ea_8b50_09b6c06dc4a0level1_row4\" class=\"row_heading level1 row4\" >&ПОДОБЛАСТЬ_ЦЕЛИ_Планирование,_самоорганизация_и_тайм-менеджмент</th>\n",
       "                        <td id=\"T_64dc3cc6_af5c_11ea_8b50_09b6c06dc4a0row4_col0\" class=\"data row4 col0\" >-0.000000</td>\n",
       "            </tr>\n",
       "            <tr>\n",
       "                                <th id=\"T_64dc3cc6_af5c_11ea_8b50_09b6c06dc4a0level1_row5\" class=\"row_heading level1 row5\" >&ПОДОБЛАСТЬ_ЦЕЛИ_Психология</th>\n",
       "                        <td id=\"T_64dc3cc6_af5c_11ea_8b50_09b6c06dc4a0row5_col0\" class=\"data row5 col0\" >-0.000000</td>\n",
       "            </tr>\n",
       "            <tr>\n",
       "                                <th id=\"T_64dc3cc6_af5c_11ea_8b50_09b6c06dc4a0level1_row6\" class=\"row_heading level1 row6\" >&ПРЕГРАДЫ_есть_преграды</th>\n",
       "                        <td id=\"T_64dc3cc6_af5c_11ea_8b50_09b6c06dc4a0row6_col0\" class=\"data row6 col0\" >-0.000000</td>\n",
       "            </tr>\n",
       "            <tr>\n",
       "                                <th id=\"T_64dc3cc6_af5c_11ea_8b50_09b6c06dc4a0level1_row7\" class=\"row_heading level1 row7\" >&СФЕРА_ЗАНЯТОСТИ_Нефтегазовая_промышленность</th>\n",
       "                        <td id=\"T_64dc3cc6_af5c_11ea_8b50_09b6c06dc4a0row7_col0\" class=\"data row7 col0\" >-0.000000</td>\n",
       "            </tr>\n",
       "            <tr>\n",
       "                                <th id=\"T_64dc3cc6_af5c_11ea_8b50_09b6c06dc4a0level1_row8\" class=\"row_heading level1 row8\" >&ТИП_ЦЕЛИ_Включиться_в_новый_проект/деятельность</th>\n",
       "                        <td id=\"T_64dc3cc6_af5c_11ea_8b50_09b6c06dc4a0row8_col0\" class=\"data row8 col0\" >-0.000000</td>\n",
       "            </tr>\n",
       "            <tr>\n",
       "                                <th id=\"T_64dc3cc6_af5c_11ea_8b50_09b6c06dc4a0level1_row9\" class=\"row_heading level1 row9\" >&ТИП_ЦЕЛИ_Получить_знания_в_новой_области</th>\n",
       "                        <td id=\"T_64dc3cc6_af5c_11ea_8b50_09b6c06dc4a0row9_col0\" class=\"data row9 col0\" >-0.000000</td>\n",
       "            </tr>\n",
       "    </tbody></table><style  type=\"text/css\" >\n",
       "</style><table id=\"T_64dcfbd4_af5c_11ea_8b50_09b6c06dc4a0\" style='display:inline'><thead>    <tr>        <th class=\"blank\" ></th>        <th class=\"blank level0\" ></th>        <th class=\"col_heading level0 col0\" >topic_6</th>    </tr>    <tr>        <th class=\"index_name level0\" >modality</th>        <th class=\"index_name level1\" >token</th>        <th class=\"blank\" ></th>    </tr></thead><tbody>\n",
       "                <tr>\n",
       "                        <th id=\"T_64dcfbd4_af5c_11ea_8b50_09b6c06dc4a0level0_row0\" class=\"row_heading level0 row0\" rowspan=10>@ngram</th>\n",
       "                        <th id=\"T_64dcfbd4_af5c_11ea_8b50_09b6c06dc4a0level1_row0\" class=\"row_heading level1 row0\" >работа</th>\n",
       "                        <td id=\"T_64dcfbd4_af5c_11ea_8b50_09b6c06dc4a0row0_col0\" class=\"data row0 col0\" >1.020830</td>\n",
       "            </tr>\n",
       "            <tr>\n",
       "                                <th id=\"T_64dcfbd4_af5c_11ea_8b50_09b6c06dc4a0level1_row1\" class=\"row_heading level1 row1\" >область</th>\n",
       "                        <td id=\"T_64dcfbd4_af5c_11ea_8b50_09b6c06dc4a0row1_col0\" class=\"data row1 col0\" >1.000860</td>\n",
       "            </tr>\n",
       "            <tr>\n",
       "                                <th id=\"T_64dcfbd4_af5c_11ea_8b50_09b6c06dc4a0level1_row2\" class=\"row_heading level1 row2\" >диссертация</th>\n",
       "                        <td id=\"T_64dcfbd4_af5c_11ea_8b50_09b6c06dc4a0row2_col0\" class=\"data row2 col0\" >0.846450</td>\n",
       "            </tr>\n",
       "            <tr>\n",
       "                                <th id=\"T_64dcfbd4_af5c_11ea_8b50_09b6c06dc4a0level1_row3\" class=\"row_heading level1 row3\" >защитить</th>\n",
       "                        <td id=\"T_64dcfbd4_af5c_11ea_8b50_09b6c06dc4a0row3_col0\" class=\"data row3 col0\" >0.563980</td>\n",
       "            </tr>\n",
       "            <tr>\n",
       "                                <th id=\"T_64dcfbd4_af5c_11ea_8b50_09b6c06dc4a0level1_row4\" class=\"row_heading level1 row4\" >докторский</th>\n",
       "                        <td id=\"T_64dcfbd4_af5c_11ea_8b50_09b6c06dc4a0row4_col0\" class=\"data row4 col0\" >0.493900</td>\n",
       "            </tr>\n",
       "            <tr>\n",
       "                                <th id=\"T_64dcfbd4_af5c_11ea_8b50_09b6c06dc4a0level1_row5\" class=\"row_heading level1 row5\" >научиться</th>\n",
       "                        <td id=\"T_64dcfbd4_af5c_11ea_8b50_09b6c06dc4a0row5_col0\" class=\"data row5 col0\" >0.484030</td>\n",
       "            </tr>\n",
       "            <tr>\n",
       "                                <th id=\"T_64dcfbd4_af5c_11ea_8b50_09b6c06dc4a0level1_row6\" class=\"row_heading level1 row6\" >степень</th>\n",
       "                        <td id=\"T_64dcfbd4_af5c_11ea_8b50_09b6c06dc4a0row6_col0\" class=\"data row6 col0\" >0.470600</td>\n",
       "            </tr>\n",
       "            <tr>\n",
       "                                <th id=\"T_64dcfbd4_af5c_11ea_8b50_09b6c06dc4a0level1_row7\" class=\"row_heading level1 row7\" >докторский_диссертация</th>\n",
       "                        <td id=\"T_64dcfbd4_af5c_11ea_8b50_09b6c06dc4a0row7_col0\" class=\"data row7 col0\" >0.447340</td>\n",
       "            </tr>\n",
       "            <tr>\n",
       "                                <th id=\"T_64dcfbd4_af5c_11ea_8b50_09b6c06dc4a0level1_row8\" class=\"row_heading level1 row8\" >технология</th>\n",
       "                        <td id=\"T_64dcfbd4_af5c_11ea_8b50_09b6c06dc4a0row8_col0\" class=\"data row8 col0\" >0.400630</td>\n",
       "            </tr>\n",
       "            <tr>\n",
       "                                <th id=\"T_64dcfbd4_af5c_11ea_8b50_09b6c06dc4a0level1_row9\" class=\"row_heading level1 row9\" >наука</th>\n",
       "                        <td id=\"T_64dcfbd4_af5c_11ea_8b50_09b6c06dc4a0row9_col0\" class=\"data row9 col0\" >0.348060</td>\n",
       "            </tr>\n",
       "    </tbody></table><style  type=\"text/css\" >\n",
       "</style><table id=\"T_64ddbfec_af5c_11ea_8b50_09b6c06dc4a0\" style='display:inline'><thead>    <tr>        <th class=\"blank\" ></th>        <th class=\"blank level0\" ></th>        <th class=\"col_heading level0 col0\" >topic_6</th>    </tr>    <tr>        <th class=\"index_name level0\" >modality</th>        <th class=\"index_name level1\" >token</th>        <th class=\"blank\" ></th>    </tr></thead><tbody>\n",
       "                <tr>\n",
       "                        <th id=\"T_64ddbfec_af5c_11ea_8b50_09b6c06dc4a0level0_row0\" class=\"row_heading level0 row0\" rowspan=2>@specificity</th>\n",
       "                        <th id=\"T_64ddbfec_af5c_11ea_8b50_09b6c06dc4a0level1_row0\" class=\"row_heading level1 row0\" >1</th>\n",
       "                        <td id=\"T_64ddbfec_af5c_11ea_8b50_09b6c06dc4a0row0_col0\" class=\"data row0 col0\" >38.409860</td>\n",
       "            </tr>\n",
       "            <tr>\n",
       "                                <th id=\"T_64ddbfec_af5c_11ea_8b50_09b6c06dc4a0level1_row1\" class=\"row_heading level1 row1\" >0</th>\n",
       "                        <td id=\"T_64ddbfec_af5c_11ea_8b50_09b6c06dc4a0row1_col0\" class=\"data row1 col0\" >-0.000000</td>\n",
       "            </tr>\n",
       "    </tbody></table>"
      ]
     },
     "metadata": {},
     "output_type": "display_data"
    },
    {
     "data": {
      "text/html": [
       "<style  type=\"text/css\" >\n",
       "</style><table id=\"T_64e1a18e_af5c_11ea_8b50_09b6c06dc4a0\" style='display:inline'><thead>    <tr>        <th class=\"blank\" ></th>        <th class=\"blank level0\" ></th>        <th class=\"col_heading level0 col0\" >topic_7</th>    </tr>    <tr>        <th class=\"index_name level0\" >modality</th>        <th class=\"index_name level1\" >token</th>        <th class=\"blank\" ></th>    </tr></thead><tbody>\n",
       "                <tr>\n",
       "                        <th id=\"T_64e1a18e_af5c_11ea_8b50_09b6c06dc4a0level0_row0\" class=\"row_heading level0 row0\" rowspan=10>@info</th>\n",
       "                        <th id=\"T_64e1a18e_af5c_11ea_8b50_09b6c06dc4a0level1_row0\" class=\"row_heading level1 row0\" >&ВРЕМЕННЫЕ_ГРАНИЦЫ_есть_границы</th>\n",
       "                        <td id=\"T_64e1a18e_af5c_11ea_8b50_09b6c06dc4a0row0_col0\" class=\"data row0 col0\" >-0.000000</td>\n",
       "            </tr>\n",
       "            <tr>\n",
       "                                <th id=\"T_64e1a18e_af5c_11ea_8b50_09b6c06dc4a0level1_row1\" class=\"row_heading level1 row1\" >&ОБРАЗОВАНИЕ_Среднее_общее_образование</th>\n",
       "                        <td id=\"T_64e1a18e_af5c_11ea_8b50_09b6c06dc4a0row1_col0\" class=\"data row1 col0\" >-0.000000</td>\n",
       "            </tr>\n",
       "            <tr>\n",
       "                                <th id=\"T_64e1a18e_af5c_11ea_8b50_09b6c06dc4a0level1_row2\" class=\"row_heading level1 row2\" >&ПОДОБЛАСТЬ_ЦЕЛИ_Астрономия</th>\n",
       "                        <td id=\"T_64e1a18e_af5c_11ea_8b50_09b6c06dc4a0row2_col0\" class=\"data row2 col0\" >-0.000000</td>\n",
       "            </tr>\n",
       "            <tr>\n",
       "                                <th id=\"T_64e1a18e_af5c_11ea_8b50_09b6c06dc4a0level1_row3\" class=\"row_heading level1 row3\" >&ПОДОБЛАСТЬ_ЦЕЛИ_Новое_место_работы</th>\n",
       "                        <td id=\"T_64e1a18e_af5c_11ea_8b50_09b6c06dc4a0row3_col0\" class=\"data row3 col0\" >-0.000000</td>\n",
       "            </tr>\n",
       "            <tr>\n",
       "                                <th id=\"T_64e1a18e_af5c_11ea_8b50_09b6c06dc4a0level1_row4\" class=\"row_heading level1 row4\" >&ПОДОБЛАСТЬ_ЦЕЛИ_Планирование,_самоорганизация_и_тайм-менеджмент</th>\n",
       "                        <td id=\"T_64e1a18e_af5c_11ea_8b50_09b6c06dc4a0row4_col0\" class=\"data row4 col0\" >-0.000000</td>\n",
       "            </tr>\n",
       "            <tr>\n",
       "                                <th id=\"T_64e1a18e_af5c_11ea_8b50_09b6c06dc4a0level1_row5\" class=\"row_heading level1 row5\" >&ПОДОБЛАСТЬ_ЦЕЛИ_Психология</th>\n",
       "                        <td id=\"T_64e1a18e_af5c_11ea_8b50_09b6c06dc4a0row5_col0\" class=\"data row5 col0\" >-0.000000</td>\n",
       "            </tr>\n",
       "            <tr>\n",
       "                                <th id=\"T_64e1a18e_af5c_11ea_8b50_09b6c06dc4a0level1_row6\" class=\"row_heading level1 row6\" >&ПРЕГРАДЫ_есть_преграды</th>\n",
       "                        <td id=\"T_64e1a18e_af5c_11ea_8b50_09b6c06dc4a0row6_col0\" class=\"data row6 col0\" >-0.000000</td>\n",
       "            </tr>\n",
       "            <tr>\n",
       "                                <th id=\"T_64e1a18e_af5c_11ea_8b50_09b6c06dc4a0level1_row7\" class=\"row_heading level1 row7\" >&СФЕРА_ЗАНЯТОСТИ_Нефтегазовая_промышленность</th>\n",
       "                        <td id=\"T_64e1a18e_af5c_11ea_8b50_09b6c06dc4a0row7_col0\" class=\"data row7 col0\" >-0.000000</td>\n",
       "            </tr>\n",
       "            <tr>\n",
       "                                <th id=\"T_64e1a18e_af5c_11ea_8b50_09b6c06dc4a0level1_row8\" class=\"row_heading level1 row8\" >&ТИП_ЦЕЛИ_Включиться_в_новый_проект/деятельность</th>\n",
       "                        <td id=\"T_64e1a18e_af5c_11ea_8b50_09b6c06dc4a0row8_col0\" class=\"data row8 col0\" >-0.000000</td>\n",
       "            </tr>\n",
       "            <tr>\n",
       "                                <th id=\"T_64e1a18e_af5c_11ea_8b50_09b6c06dc4a0level1_row9\" class=\"row_heading level1 row9\" >&ТИП_ЦЕЛИ_Получить_знания_в_новой_области</th>\n",
       "                        <td id=\"T_64e1a18e_af5c_11ea_8b50_09b6c06dc4a0row9_col0\" class=\"data row9 col0\" >-0.000000</td>\n",
       "            </tr>\n",
       "    </tbody></table><style  type=\"text/css\" >\n",
       "</style><table id=\"T_64e2602e_af5c_11ea_8b50_09b6c06dc4a0\" style='display:inline'><thead>    <tr>        <th class=\"blank\" ></th>        <th class=\"blank level0\" ></th>        <th class=\"col_heading level0 col0\" >topic_7</th>    </tr>    <tr>        <th class=\"index_name level0\" >modality</th>        <th class=\"index_name level1\" >token</th>        <th class=\"blank\" ></th>    </tr></thead><tbody>\n",
       "                <tr>\n",
       "                        <th id=\"T_64e2602e_af5c_11ea_8b50_09b6c06dc4a0level0_row0\" class=\"row_heading level0 row0\" rowspan=10>@ngram</th>\n",
       "                        <th id=\"T_64e2602e_af5c_11ea_8b50_09b6c06dc4a0level1_row0\" class=\"row_heading level1 row0\" >язык</th>\n",
       "                        <td id=\"T_64e2602e_af5c_11ea_8b50_09b6c06dc4a0row0_col0\" class=\"data row0 col0\" >3.583960</td>\n",
       "            </tr>\n",
       "            <tr>\n",
       "                                <th id=\"T_64e2602e_af5c_11ea_8b50_09b6c06dc4a0level1_row1\" class=\"row_heading level1 row1\" >английский</th>\n",
       "                        <td id=\"T_64e2602e_af5c_11ea_8b50_09b6c06dc4a0row1_col0\" class=\"data row1 col0\" >2.409570</td>\n",
       "            </tr>\n",
       "            <tr>\n",
       "                                <th id=\"T_64e2602e_af5c_11ea_8b50_09b6c06dc4a0level1_row2\" class=\"row_heading level1 row2\" >английский_язык</th>\n",
       "                        <td id=\"T_64e2602e_af5c_11ea_8b50_09b6c06dc4a0row2_col0\" class=\"data row2 col0\" >1.579880</td>\n",
       "            </tr>\n",
       "            <tr>\n",
       "                                <th id=\"T_64e2602e_af5c_11ea_8b50_09b6c06dc4a0level1_row3\" class=\"row_heading level1 row3\" >выучить</th>\n",
       "                        <td id=\"T_64e2602e_af5c_11ea_8b50_09b6c06dc4a0row3_col0\" class=\"data row3 col0\" >1.542330</td>\n",
       "            </tr>\n",
       "            <tr>\n",
       "                                <th id=\"T_64e2602e_af5c_11ea_8b50_09b6c06dc4a0level1_row4\" class=\"row_heading level1 row4\" >изучить</th>\n",
       "                        <td id=\"T_64e2602e_af5c_11ea_8b50_09b6c06dc4a0row4_col0\" class=\"data row4 col0\" >0.981460</td>\n",
       "            </tr>\n",
       "            <tr>\n",
       "                                <th id=\"T_64e2602e_af5c_11ea_8b50_09b6c06dc4a0level1_row5\" class=\"row_heading level1 row5\" >уровень</th>\n",
       "                        <td id=\"T_64e2602e_af5c_11ea_8b50_09b6c06dc4a0row5_col0\" class=\"data row5 col0\" >0.926430</td>\n",
       "            </tr>\n",
       "            <tr>\n",
       "                                <th id=\"T_64e2602e_af5c_11ea_8b50_09b6c06dc4a0level1_row6\" class=\"row_heading level1 row6\" >иностранный</th>\n",
       "                        <td id=\"T_64e2602e_af5c_11ea_8b50_09b6c06dc4a0row6_col0\" class=\"data row6 col0\" >0.641840</td>\n",
       "            </tr>\n",
       "            <tr>\n",
       "                                <th id=\"T_64e2602e_af5c_11ea_8b50_09b6c06dc4a0level1_row7\" class=\"row_heading level1 row7\" >иностранный_язык</th>\n",
       "                        <td id=\"T_64e2602e_af5c_11ea_8b50_09b6c06dc4a0row7_col0\" class=\"data row7 col0\" >0.621080</td>\n",
       "            </tr>\n",
       "            <tr>\n",
       "                                <th id=\"T_64e2602e_af5c_11ea_8b50_09b6c06dc4a0level1_row8\" class=\"row_heading level1 row8\" >выучить_английский</th>\n",
       "                        <td id=\"T_64e2602e_af5c_11ea_8b50_09b6c06dc4a0row8_col0\" class=\"data row8 col0\" >0.571120</td>\n",
       "            </tr>\n",
       "            <tr>\n",
       "                                <th id=\"T_64e2602e_af5c_11ea_8b50_09b6c06dc4a0level1_row9\" class=\"row_heading level1 row9\" >изучение</th>\n",
       "                        <td id=\"T_64e2602e_af5c_11ea_8b50_09b6c06dc4a0row9_col0\" class=\"data row9 col0\" >0.436580</td>\n",
       "            </tr>\n",
       "    </tbody></table><style  type=\"text/css\" >\n",
       "</style><table id=\"T_64e3b35c_af5c_11ea_8b50_09b6c06dc4a0\" style='display:inline'><thead>    <tr>        <th class=\"blank\" ></th>        <th class=\"blank level0\" ></th>        <th class=\"col_heading level0 col0\" >topic_7</th>    </tr>    <tr>        <th class=\"index_name level0\" >modality</th>        <th class=\"index_name level1\" >token</th>        <th class=\"blank\" ></th>    </tr></thead><tbody>\n",
       "                <tr>\n",
       "                        <th id=\"T_64e3b35c_af5c_11ea_8b50_09b6c06dc4a0level0_row0\" class=\"row_heading level0 row0\" rowspan=2>@specificity</th>\n",
       "                        <th id=\"T_64e3b35c_af5c_11ea_8b50_09b6c06dc4a0level1_row0\" class=\"row_heading level1 row0\" >1</th>\n",
       "                        <td id=\"T_64e3b35c_af5c_11ea_8b50_09b6c06dc4a0row0_col0\" class=\"data row0 col0\" >39.207020</td>\n",
       "            </tr>\n",
       "            <tr>\n",
       "                                <th id=\"T_64e3b35c_af5c_11ea_8b50_09b6c06dc4a0level1_row1\" class=\"row_heading level1 row1\" >0</th>\n",
       "                        <td id=\"T_64e3b35c_af5c_11ea_8b50_09b6c06dc4a0row1_col0\" class=\"data row1 col0\" >-0.000000</td>\n",
       "            </tr>\n",
       "    </tbody></table>"
      ]
     },
     "metadata": {},
     "output_type": "display_data"
    },
    {
     "data": {
      "text/html": [
       "<style  type=\"text/css\" >\n",
       "</style><table id=\"T_64e73a68_af5c_11ea_8b50_09b6c06dc4a0\" style='display:inline'><thead>    <tr>        <th class=\"blank\" ></th>        <th class=\"blank level0\" ></th>        <th class=\"col_heading level0 col0\" >topic_8</th>    </tr>    <tr>        <th class=\"index_name level0\" >modality</th>        <th class=\"index_name level1\" >token</th>        <th class=\"blank\" ></th>    </tr></thead><tbody>\n",
       "                <tr>\n",
       "                        <th id=\"T_64e73a68_af5c_11ea_8b50_09b6c06dc4a0level0_row0\" class=\"row_heading level0 row0\" rowspan=10>@info</th>\n",
       "                        <th id=\"T_64e73a68_af5c_11ea_8b50_09b6c06dc4a0level1_row0\" class=\"row_heading level1 row0\" >&ВРЕМЕННЫЕ_ГРАНИЦЫ_есть_границы</th>\n",
       "                        <td id=\"T_64e73a68_af5c_11ea_8b50_09b6c06dc4a0row0_col0\" class=\"data row0 col0\" >-0.000000</td>\n",
       "            </tr>\n",
       "            <tr>\n",
       "                                <th id=\"T_64e73a68_af5c_11ea_8b50_09b6c06dc4a0level1_row1\" class=\"row_heading level1 row1\" >&ОБРАЗОВАНИЕ_Среднее_общее_образование</th>\n",
       "                        <td id=\"T_64e73a68_af5c_11ea_8b50_09b6c06dc4a0row1_col0\" class=\"data row1 col0\" >-0.000000</td>\n",
       "            </tr>\n",
       "            <tr>\n",
       "                                <th id=\"T_64e73a68_af5c_11ea_8b50_09b6c06dc4a0level1_row2\" class=\"row_heading level1 row2\" >&ПОДОБЛАСТЬ_ЦЕЛИ_Астрономия</th>\n",
       "                        <td id=\"T_64e73a68_af5c_11ea_8b50_09b6c06dc4a0row2_col0\" class=\"data row2 col0\" >-0.000000</td>\n",
       "            </tr>\n",
       "            <tr>\n",
       "                                <th id=\"T_64e73a68_af5c_11ea_8b50_09b6c06dc4a0level1_row3\" class=\"row_heading level1 row3\" >&ПОДОБЛАСТЬ_ЦЕЛИ_Новое_место_работы</th>\n",
       "                        <td id=\"T_64e73a68_af5c_11ea_8b50_09b6c06dc4a0row3_col0\" class=\"data row3 col0\" >-0.000000</td>\n",
       "            </tr>\n",
       "            <tr>\n",
       "                                <th id=\"T_64e73a68_af5c_11ea_8b50_09b6c06dc4a0level1_row4\" class=\"row_heading level1 row4\" >&ПОДОБЛАСТЬ_ЦЕЛИ_Планирование,_самоорганизация_и_тайм-менеджмент</th>\n",
       "                        <td id=\"T_64e73a68_af5c_11ea_8b50_09b6c06dc4a0row4_col0\" class=\"data row4 col0\" >-0.000000</td>\n",
       "            </tr>\n",
       "            <tr>\n",
       "                                <th id=\"T_64e73a68_af5c_11ea_8b50_09b6c06dc4a0level1_row5\" class=\"row_heading level1 row5\" >&ПОДОБЛАСТЬ_ЦЕЛИ_Психология</th>\n",
       "                        <td id=\"T_64e73a68_af5c_11ea_8b50_09b6c06dc4a0row5_col0\" class=\"data row5 col0\" >-0.000000</td>\n",
       "            </tr>\n",
       "            <tr>\n",
       "                                <th id=\"T_64e73a68_af5c_11ea_8b50_09b6c06dc4a0level1_row6\" class=\"row_heading level1 row6\" >&ПРЕГРАДЫ_есть_преграды</th>\n",
       "                        <td id=\"T_64e73a68_af5c_11ea_8b50_09b6c06dc4a0row6_col0\" class=\"data row6 col0\" >-0.000000</td>\n",
       "            </tr>\n",
       "            <tr>\n",
       "                                <th id=\"T_64e73a68_af5c_11ea_8b50_09b6c06dc4a0level1_row7\" class=\"row_heading level1 row7\" >&СФЕРА_ЗАНЯТОСТИ_Нефтегазовая_промышленность</th>\n",
       "                        <td id=\"T_64e73a68_af5c_11ea_8b50_09b6c06dc4a0row7_col0\" class=\"data row7 col0\" >-0.000000</td>\n",
       "            </tr>\n",
       "            <tr>\n",
       "                                <th id=\"T_64e73a68_af5c_11ea_8b50_09b6c06dc4a0level1_row8\" class=\"row_heading level1 row8\" >&ТИП_ЦЕЛИ_Включиться_в_новый_проект/деятельность</th>\n",
       "                        <td id=\"T_64e73a68_af5c_11ea_8b50_09b6c06dc4a0row8_col0\" class=\"data row8 col0\" >-0.000000</td>\n",
       "            </tr>\n",
       "            <tr>\n",
       "                                <th id=\"T_64e73a68_af5c_11ea_8b50_09b6c06dc4a0level1_row9\" class=\"row_heading level1 row9\" >&ТИП_ЦЕЛИ_Получить_знания_в_новой_области</th>\n",
       "                        <td id=\"T_64e73a68_af5c_11ea_8b50_09b6c06dc4a0row9_col0\" class=\"data row9 col0\" >-0.000000</td>\n",
       "            </tr>\n",
       "    </tbody></table><style  type=\"text/css\" >\n",
       "</style><table id=\"T_64e7fcfa_af5c_11ea_8b50_09b6c06dc4a0\" style='display:inline'><thead>    <tr>        <th class=\"blank\" ></th>        <th class=\"blank level0\" ></th>        <th class=\"col_heading level0 col0\" >topic_8</th>    </tr>    <tr>        <th class=\"index_name level0\" >modality</th>        <th class=\"index_name level1\" >token</th>        <th class=\"blank\" ></th>    </tr></thead><tbody>\n",
       "                <tr>\n",
       "                        <th id=\"T_64e7fcfa_af5c_11ea_8b50_09b6c06dc4a0level0_row0\" class=\"row_heading level0 row0\" rowspan=10>@ngram</th>\n",
       "                        <th id=\"T_64e7fcfa_af5c_11ea_8b50_09b6c06dc4a0level1_row0\" class=\"row_heading level1 row0\" >получить</th>\n",
       "                        <td id=\"T_64e7fcfa_af5c_11ea_8b50_09b6c06dc4a0row0_col0\" class=\"data row0 col0\" >2.345340</td>\n",
       "            </tr>\n",
       "            <tr>\n",
       "                                <th id=\"T_64e7fcfa_af5c_11ea_8b50_09b6c06dc4a0level1_row1\" class=\"row_heading level1 row1\" >образование</th>\n",
       "                        <td id=\"T_64e7fcfa_af5c_11ea_8b50_09b6c06dc4a0row1_col0\" class=\"data row1 col0\" >1.714290</td>\n",
       "            </tr>\n",
       "            <tr>\n",
       "                                <th id=\"T_64e7fcfa_af5c_11ea_8b50_09b6c06dc4a0level1_row2\" class=\"row_heading level1 row2\" >высокий</th>\n",
       "                        <td id=\"T_64e7fcfa_af5c_11ea_8b50_09b6c06dc4a0row2_col0\" class=\"data row2 col0\" >0.973530</td>\n",
       "            </tr>\n",
       "            <tr>\n",
       "                                <th id=\"T_64e7fcfa_af5c_11ea_8b50_09b6c06dc4a0level1_row3\" class=\"row_heading level1 row3\" >обучение</th>\n",
       "                        <td id=\"T_64e7fcfa_af5c_11ea_8b50_09b6c06dc4a0row3_col0\" class=\"data row3 col0\" >0.851760</td>\n",
       "            </tr>\n",
       "            <tr>\n",
       "                                <th id=\"T_64e7fcfa_af5c_11ea_8b50_09b6c06dc4a0level1_row4\" class=\"row_heading level1 row4\" >диплом</th>\n",
       "                        <td id=\"T_64e7fcfa_af5c_11ea_8b50_09b6c06dc4a0row4_col0\" class=\"data row4 col0\" >0.724480</td>\n",
       "            </tr>\n",
       "            <tr>\n",
       "                                <th id=\"T_64e7fcfa_af5c_11ea_8b50_09b6c06dc4a0level1_row5\" class=\"row_heading level1 row5\" >квалификация</th>\n",
       "                        <td id=\"T_64e7fcfa_af5c_11ea_8b50_09b6c06dc4a0row5_col0\" class=\"data row5 col0\" >0.667780</td>\n",
       "            </tr>\n",
       "            <tr>\n",
       "                                <th id=\"T_64e7fcfa_af5c_11ea_8b50_09b6c06dc4a0level1_row6\" class=\"row_heading level1 row6\" >высокий_образование</th>\n",
       "                        <td id=\"T_64e7fcfa_af5c_11ea_8b50_09b6c06dc4a0row6_col0\" class=\"data row6 col0\" >0.603860</td>\n",
       "            </tr>\n",
       "            <tr>\n",
       "                                <th id=\"T_64e7fcfa_af5c_11ea_8b50_09b6c06dc4a0level1_row7\" class=\"row_heading level1 row7\" >курс</th>\n",
       "                        <td id=\"T_64e7fcfa_af5c_11ea_8b50_09b6c06dc4a0row7_col0\" class=\"data row7 col0\" >0.560160</td>\n",
       "            </tr>\n",
       "            <tr>\n",
       "                                <th id=\"T_64e7fcfa_af5c_11ea_8b50_09b6c06dc4a0level1_row8\" class=\"row_heading level1 row8\" >получить_высокий</th>\n",
       "                        <td id=\"T_64e7fcfa_af5c_11ea_8b50_09b6c06dc4a0row8_col0\" class=\"data row8 col0\" >0.515490</td>\n",
       "            </tr>\n",
       "            <tr>\n",
       "                                <th id=\"T_64e7fcfa_af5c_11ea_8b50_09b6c06dc4a0level1_row9\" class=\"row_heading level1 row9\" >пройти</th>\n",
       "                        <td id=\"T_64e7fcfa_af5c_11ea_8b50_09b6c06dc4a0row9_col0\" class=\"data row9 col0\" >0.514030</td>\n",
       "            </tr>\n",
       "    </tbody></table><style  type=\"text/css\" >\n",
       "</style><table id=\"T_64e8ff92_af5c_11ea_8b50_09b6c06dc4a0\" style='display:inline'><thead>    <tr>        <th class=\"blank\" ></th>        <th class=\"blank level0\" ></th>        <th class=\"col_heading level0 col0\" >topic_8</th>    </tr>    <tr>        <th class=\"index_name level0\" >modality</th>        <th class=\"index_name level1\" >token</th>        <th class=\"blank\" ></th>    </tr></thead><tbody>\n",
       "                <tr>\n",
       "                        <th id=\"T_64e8ff92_af5c_11ea_8b50_09b6c06dc4a0level0_row0\" class=\"row_heading level0 row0\" rowspan=2>@specificity</th>\n",
       "                        <th id=\"T_64e8ff92_af5c_11ea_8b50_09b6c06dc4a0level1_row0\" class=\"row_heading level1 row0\" >1</th>\n",
       "                        <td id=\"T_64e8ff92_af5c_11ea_8b50_09b6c06dc4a0row0_col0\" class=\"data row0 col0\" >38.090260</td>\n",
       "            </tr>\n",
       "            <tr>\n",
       "                                <th id=\"T_64e8ff92_af5c_11ea_8b50_09b6c06dc4a0level1_row1\" class=\"row_heading level1 row1\" >0</th>\n",
       "                        <td id=\"T_64e8ff92_af5c_11ea_8b50_09b6c06dc4a0row1_col0\" class=\"data row1 col0\" >-0.000000</td>\n",
       "            </tr>\n",
       "    </tbody></table>"
      ]
     },
     "metadata": {},
     "output_type": "display_data"
    }
   ],
   "source": [
    "TopTokensViewer(model=topic_model).view_from_jupyter()"
   ]
  },
  {
   "cell_type": "code",
   "execution_count": 71,
   "metadata": {},
   "outputs": [],
   "source": [
    "dataset = Dataset('preprocessed_data_for_TopicNet.csv')"
   ]
  },
  {
   "cell_type": "code",
   "execution_count": 72,
   "metadata": {
    "scrolled": true
   },
   "outputs": [
    {
     "data": {
      "text/html": [
       "<style>\n",
       "    div.output_html {\n",
       "        white-space: nowrap;\n",
       "    }\n",
       "    div .output_subarea > pre {\n",
       "        white-space: pre;\n",
       "        word-wrap: normal;\n",
       "    }\n",
       "    div .output_stdout > pre {\n",
       "        white-space: pre-wrap !important;\n",
       "        word-wrap:  break-word !important;\n",
       "    }\n",
       "    </style>"
      ],
      "text/plain": [
       "<IPython.core.display.HTML object>"
      ]
     },
     "metadata": {},
     "output_type": "display_data"
    },
    {
     "data": {
      "text/html": [
       "<h1><b>Topic name:</b> topic_0</h1><h3>2885</h3>Получить дополнительные знания и навыки, которые пригодятся в дальнейшем .<br /><h3>3100</h3>Получение необходимых знаний для решения задач, стоящих перед мной..<br /><h3>2630</h3>Получение навыков и знаний для достижения материального благополучия.<br /><h3>2292</h3>применить полученные знания в высокотехнологичной области и внести посильный вклад в развитие этой области.<br /><h3>3809</h3>получить новые знания, которые пригодятся мне в дальнейшем.<br /><h3>1540</h3>получение новых знаний, необходимых при выполнении должностных обюязанностей.<br /><h3>4018</h3>Получить новые знания и навыки в области преподаваемых дисциплин.<br /><h3>257</h3>Целенаправленное развитие подразумевает человеческое саморазвитие в определенной сфере деятельности, находя средства для реализации поставленных задач<br /> и достижений основных целей..<br /><h3>875</h3>Получение новых компетенций, которые можно будет применять в решении новых задач.<br /><h3>847</h3>Получить новые знания. Запомнить новые ФИО, даты, понятия, определения.<br /><h1><b>Topic name:</b> topic_1</h1><h3>1313</h3>Совершенствоваться в том, что мне нравится и у меня это хорошо получается. Ведь если это<br /> мне нравится и само хорошо получается, то если в этом еще и развиваться, то это<br /> просто бомба!.<br /><h3>2073</h3>Первая - абстрактная достаточно. Научиться понимать то, что мне на самом деле нужно делать, чтобы<br /> забустить себя, чтобы не тратить кучу времени впустую.<br /><h3>3036</h3>1.\tПринимать все изменения в жизни и работе, связанные с человеческим прогрессом, социально-экономическим положением и популярными<br /> тенденциями общества..<br /><h3>1669</h3>Хочу лучше понимать людей, уметь контактировать с разными социальными группами, а не только с айтишниками.<br /><br /><h3>3859</h3>Понять, что я делаю лучше всего и совершенствоваться в этом, при условии, что это приносит<br /> пользу другим людям.<br /><h3>718</h3>Cтать более эрудированной личностью, всесторонне развитой, интересным собеседником.<br /><h3>2088</h3>Научиться отслеживать эмоции, управлять гневом, учиться контролировать эмоции .<br /><h3>2514</h3>Развивать мышление, стать умнее и быть более гибкой сознанием..<br /><h3>232</h3>Понимание процессов изменений во внешней среде..<br /><h3>838</h3>Стать отличным специалистом в выбранной области.<br /><h1><b>Topic name:</b> topic_2</h1><h3>4545</h3>Чем больше знаю я, тем больше знают мои ученики.<br /><h3>5306</h3>Повышение личной эффективности и карьерный рост.<br /><h3>5789</h3>Дойти до уровня при котором я смогу устроиться на работу, которую хочу.<br /><h3>9</h3>Достичь того уровня образования, которое будет меня устраивать.<br /><h3>1200</h3>повышение уровня своей эрудиции, правовой и общей культуры;.<br /><h3>3936</h3>Читать как можно больше литературы различных жанров.<br /><h3>3981</h3>Повышение уровни сложности проектов, в которых я могу участвовать.<br /><h3>3656</h3>научиться оптимально ставить цели, исходя из ресурсов.<br /><h3>903</h3>Повышение уровня интеллекта .<br /><h3>4096</h3>Обучиться профессиям, которые будут востребованны в ближайшие 20 лет.<br /><h1><b>Topic name:</b> topic_3</h1><h3>3385</h3>Стать руководителем одно из направлений развития в Агенстве стратегических инициатив/ Платформы НТИ.<br /><h3>3384</h3>Стать руководителем одного из направлений Агенства Стратегических Инициатив / Платформы НТИ.<br /><h3>154</h3>Постоянное улучшение своих навыков и профессиональных качеств.<br /><h3>2341</h3>стать эффективным специалистом для цифровой трансформации.<br /><h3>4122</h3>Повышение конкурентоспособности на рынке труда..<br /><h3>5738</h3>Развитие творческого потенциала и расширение компетентностного охвата решаемых задач.<br /><h3>162</h3>Стать признанным экспертом в своем деле.<br /><h3>54</h3>стать востребованным руководителем на рынке труда.<br /><h3>4235</h3>быть эффективным специалистом на рынке труда.<br /><h3>2318</h3>стать профессионалом своего дела .<br /><h1><b>Topic name:</b> topic_4</h1><h3>5221</h3>Повысить личную эффективность работы в условиях многозадачности. Навыки: концентрации внимания, переключения, agile тайм-менеджмент,  делегирование.<br /><br /><h3>2477</h3>совершенствовать навык публичных выступлений и преодолеть страх перед аудиторией.<br /><h3>3331</h3>Освоение новых методов и приемов работы.<br /><h3>637</h3>Если, это инфокурс, то завершить все конспекты и дз до истечения его срока. То есть<br /> соблюдать дэдлайн..<br /><h3>3068</h3>Придумать способ сохранения нормы доходности в условиях демпенга импортеров крепежных изделий из КНР..<br /><h3>1859</h3>Развить компетенции проектного менеджмента.<br /><h3>5842</h3>Улучшить компетенции в проектном управлении.<br /><h3>4154</h3>Повысить компетенции в сфере правления кадрами и проектами .<br /><h3>1012</h3>повысить уровень компетентности для более качественного выполнения работы.<br /><h3>3917</h3>Развитие навыков в сфере проектной деятельности .<br /><h1><b>Topic name:</b> topic_5</h1><h3>5244</h3>Понять/разобраться каким образом можно спроектировать, разработать, изготовить сложное техническое изделие с наилучшими характеристиками с учетом<br /> всего его жизненного цикла, т.е. понять каким образом изделие должно меняться (модифицироваться) для того чтобы<br /> оставаться лучшим среди появляющихся конкурентов.<br /><h3>1053</h3>Выпустить две статьи в журналах входящих в базу scopus/web of science.<br /><h3>1371</h3>Осталось совсем немного до ее выполнения - прочитать 25 книг за год с использованием скретчинга.<br /><br /><h3>5314</h3>прочитать несколько книг по психологии.<br /><h3>3024</h3>Изучение бизнес процессов , запуск бизнеса.<br /><h3>5614</h3>Прочитать несколько книг по психологии .<br /><h3>373</h3>Окончить колледж и дальше поступить на бакалавр .<br /><h3>1525</h3>Изучение бизнес процессов , запуск бизнеса.<br /><h3>1245</h3>Прочитать 100 книг по психологии за год.<br /><h3>1934</h3>Актуальность. Сейчас изучаю методологию преподавания финансовой грамотности.<br /><h1><b>Topic name:</b> topic_6</h1><h3>2450</h3>Полное понимание принципов поведения, мотивации и т.д. человека; взаимодействия людей, организаций, командообразование и устройства социума<br /> в целом..<br /><h3>3322</h3>Изучить вопросы организации образовательной деятельности по принципу «Образование – наука – промышленность», разработки, апробации и<br /> внедрения современных технологий подготовки инженеров (CDIO (Conceive, Design, Implement, Operate), PDP (Product Development Project) и<br /> Learning Factory).<br /><h3>5811</h3>в первую очередь я стремлюсь научиться по-настоящему самоорганизовываться. Как говорил Антон Павлович Чехов: по капле<br /> убивать в себе раба ( собственной лени).<br /><h3>2886</h3>поступить в аспирантуру и защитить диссертацию на современную проблему, которую нужно решить путем науки.<br /><h3>3353</h3>Подготовка к защите докторской диссертации.<br /><h3>3730</h3>Подготовка и защита докторской диссертации.<br /><h3>2644</h3>Написать докторскую диссертацию по политическим наукам.<br /><h3>4622</h3>Проведение исследования, подготовка и защита докторской диссертации.<br /><h3>3632</h3>Подготовить и защитить докторскую диссертацию.<br /><h3>4811</h3>Защитить докторскую диссертацию не позднее 2022 года.<br /><h1><b>Topic name:</b> topic_7</h1><h3>4797</h3>Изучить английский язык до уровня не ниже upper intermediate.<br /><h3>655</h3>Выучить иностранный язык - английский, уровень intermedian.<br /><h3>4004</h3>Изучить английский язык до свободного беглого общения.<br /><h3>2812</h3>говорить на английском языке на уровне носителей англоязычных стран.<br /><h3>4565</h3>Хочу выучить иностранный язык (английский или китайский).<br /><h3>4543</h3>Изучить английский язык на уровне выше среднего..<br /><h3>3246</h3>владеть иностранным языком на уровне, позволяющем учиться в США.<br /><h3>2082</h3>Поднять уровень владения английским до Upper intermediate.<br /><h3>1442</h3>Изучить английский язык до свободного владения.<br /><h3>3606</h3>Иностранный язык на уровне свободного владения.<br /><h1><b>Topic name:</b> topic_8</h1><h3>1921</h3>Получить качественное образование, которое поможет мне самореализовать себя в будущем.<br /><h3>3754</h3>Войти в контакт с организаторами движения Лидер ай-ди для представления проекта преобразования высшего образования..<br /><h3>5631</h3>Получить красный диплом магистра .<br /><h3>626</h3>Получить высшее экономическое образование .<br /><h3>5160</h3>Пройти обучение в Школе анализа данных.<br /><h3>2764</h3>Разработать и запустить программу обучения продуктовой аналитике для сотрудников сегментов.<br /><h3>2268</h3>Внедрить проект инженерной школы в следующем учебном году.<br /><h3>5700</h3>Получить диплом о высшем образовании.<br /><h3>5193</h3>пройти курс по сбору и анализу данных.<br /><h3>1841</h3>Уметь управлять масштабной сетью в компании.<br />"
      ]
     },
     "metadata": {},
     "output_type": "display_data"
    }
   ],
   "source": [
    "TopDocumentsViewer(model=topic_model, dataset=dataset, max_top_number=10).view_from_jupyter()"
   ]
  },
  {
   "cell_type": "code",
   "execution_count": 73,
   "metadata": {},
   "outputs": [],
   "source": [
    "phi = reg_best_model.get_phi()\n",
    "theta = reg_best_model.get_theta()"
   ]
  },
  {
   "cell_type": "code",
   "execution_count": 74,
   "metadata": {},
   "outputs": [],
   "source": [
    "topic_description = pd.DataFrame(index = theta.index, columns = ['description'])\n",
    "topic_description.loc['topic_0']['description'] = 'topic_0: (не конкретно)'\n",
    "topic_description.loc['topic_1']['description'] = 'topic_1: (не конкретно)'\n",
    "topic_description.loc['topic_2']['description'] = 'topic_2: (не конкретно)'\n",
    "topic_description.loc['topic_3']['description'] = 'topic_3: Получить высшее образование'\n",
    "topic_description.loc['topic_4']['description'] = 'topic_4: Стать грамотным специалистом в своей сфере'\n",
    "topic_description.loc['topic_5']['description'] = 'topic_5: Развить профессиональные управленческие качества'\n",
    "topic_description.loc['topic_6']['description'] = 'topic_6: Изучить иностранный язык'\n",
    "topic_description.loc['topic_7']['description'] = 'topic_7: Защитить докторскую диссертацию'\n",
    "topic_description.loc['topic_8']['description'] = 'topic_8: Получить ученую степень'"
   ]
  },
  {
   "cell_type": "code",
   "execution_count": 75,
   "metadata": {},
   "outputs": [],
   "source": [
    "doc_titles = list(map(lambda item: str(item), train_d0_indices + train_d1_indices))\n",
    "specifisity = pd.DataFrame(index=doc_titles, columns=['topic', 'specifisity'])\n",
    "for doc_title in doc_titles:\n",
    "    s_d = specifisity_of_document(doc_title, specific_topics, theta)\n",
    "    specifisity.loc[doc_title]['specifisity'] = s_d\n",
    "    specifisity.loc[doc_title]['topic'] = theta[theta[doc_title] == theta[doc_title].max()].index.tolist()[0]"
   ]
  },
  {
   "cell_type": "code",
   "execution_count": 76,
   "metadata": {},
   "outputs": [],
   "source": [
    "topics_vec = [phi[topic].values for topic in phi.columns]\n",
    "dist_matrix = cosine_similarity(topics_vec, topics_vec)\n",
    "topic_spectrum = get_arrangement_permutation(dist_matrix, 'tsne')"
   ]
  },
  {
   "cell_type": "code",
   "execution_count": 77,
   "metadata": {},
   "outputs": [
    {
     "data": {
      "image/png": "[encoded data removed]",
      "text/plain": [
       "<Figure size 720x720 with 1 Axes>"
      ]
     },
     "metadata": {
      "needs_background": "light"
     },
     "output_type": "display_data"
    }
   ],
   "source": [
    "plt.figure(figsize=(10, 10))\n",
    "for idx, color in zip(topic_spectrum, best_colors):\n",
    "    topic = 'topic_' + str(idx)\n",
    "    goals = specifisity.loc[specifisity['topic'] == topic]\n",
    "    \n",
    "    plt.polar(np.ones(goals.shape[0]) * topic_spectrum.index(idx) * np.pi / 4.5 + np.random.uniform(-0.07, 0.07, goals.shape[0]), \n",
    "              goals['specifisity'], 'ro', label=topic_description.loc[topic]['description'], color=color)\n",
    "lgd = plt.legend(bbox_to_anchor=(1., 0.67), loc='upper left', borderaxespad=0.)\n",
    "plt.savefig('images/specifisity_all_documents.pdf', bbox_extra_artists=(lgd,), bbox_inches='tight')\n",
    "plt.savefig('images/specifisity_all_documents.png', bbox_extra_artists=(lgd,), bbox_inches='tight')\n",
    "plt.show()"
   ]
  },
  {
   "cell_type": "markdown",
   "metadata": {},
   "source": [
    "## Специфичность слов"
   ]
  },
  {
   "cell_type": "code",
   "execution_count": 96,
   "metadata": {},
   "outputs": [],
   "source": [
    "data = pd.read_csv('data_for_specifisity_calculations.csv')\n",
    "data.index=data['id']"
   ]
  },
  {
   "cell_type": "code",
   "execution_count": 97,
   "metadata": {},
   "outputs": [],
   "source": [
    "data['lemmatized_as_str'].fillna('', inplace=True)\n",
    "data['bigram_as_str'].fillna('', inplace=True)\n",
    "data['info_as_str'].fillna('', inplace=True)"
   ]
  },
  {
   "cell_type": "code",
   "execution_count": 98,
   "metadata": {},
   "outputs": [],
   "source": [
    "data['lemmatized'] = [s.split() for s in data['lemmatized_as_str']]\n",
    "data['bigram'] = [s.split() for s in data['bigram_as_str']]\n",
    "data['info'] = [s.split() for s in data['info_as_str']]"
   ]
  },
  {
   "cell_type": "code",
   "execution_count": 99,
   "metadata": {},
   "outputs": [],
   "source": [
    "data['ngram'] = [goal['lemmatized'] + goal['bigram'] + goal['info'] for index, goal in data.iterrows()]\n",
    "data['ngram_as_str'] = [' '.join(l) for l in data['ngram']]"
   ]
  },
  {
   "cell_type": "code",
   "execution_count": 100,
   "metadata": {},
   "outputs": [],
   "source": [
    "matrix_of_frequancies = frequency_matrix(data, phi)"
   ]
  },
  {
   "cell_type": "code",
   "execution_count": 101,
   "metadata": {},
   "outputs": [],
   "source": [
    "bad_tokens = ['б', 'b', 'c', 'i', 'w', 'p', 'a', 'm', 'j', 'е', 'd']"
   ]
  },
  {
   "cell_type": "code",
   "execution_count": 108,
   "metadata": {
    "scrolled": true
   },
   "outputs": [
    {
     "name": "stderr",
     "output_type": "stream",
     "text": [
      "/home/polina/anaconda3/lib/python3.7/site-packages/ipykernel_launcher.py:6: RuntimeWarning:\n",
      "\n",
      "invalid value encountered in double_scalars\n",
      "\n",
      "/home/polina/anaconda3/lib/python3.7/site-packages/ipykernel_launcher.py:6: RuntimeWarning:\n",
      "\n",
      "divide by zero encountered in double_scalars\n",
      "\n"
     ]
    },
    {
     "name": "stdout",
     "output_type": "stream",
     "text": [
      "б\n",
      "б\n",
      "б\n",
      "б\n",
      "б\n",
      "б\n",
      "c\n",
      "c\n",
      "c\n",
      "c\n",
      "c\n",
      "c\n",
      "i\n",
      "i\n",
      "i\n",
      "i\n",
      "i\n",
      "i\n",
      "е\n",
      "е\n",
      "е\n",
      "е\n",
      "е\n",
      "е\n",
      "е\n",
      "w\n",
      "w\n",
      "w\n",
      "w\n",
      "w\n",
      "w\n",
      "p\n",
      "p\n",
      "p\n",
      "p\n",
      "p\n",
      "p\n",
      "a\n",
      "a\n",
      "a\n",
      "a\n",
      "a\n",
      "a\n",
      "m\n",
      "m\n",
      "m\n",
      "m\n",
      "m\n",
      "m\n",
      "j\n",
      "j\n",
      "j\n",
      "j\n",
      "j\n",
      "j\n",
      "d\n",
      "d\n",
      "d\n",
      "d\n",
      "d\n",
      "d\n",
      "d\n"
     ]
    }
   ],
   "source": [
    "tokens_all = train_total_dict_ngram\n",
    "#bad_tokens = []\n",
    "specifisity_words = pd.DataFrame(index=list(tokens_all), columns=['topic', 'specifisity'])\n",
    "for token in tokens_all:\n",
    "    s_w = specifisity_of_token(token, specific_topics, matrix_of_frequancies, theta, phi)\n",
    "    if s_w == np.inf:\n",
    "        bad_tokens.append(token)\n",
    "        print(token)\n",
    "    specifisity_words.loc[token]['specifisity'] = s_w\n",
    "    specifisity_words.loc[token]['topic'] = phi.T[phi.T[token] == phi.T[token].max()].index.tolist()[0]"
   ]
  },
  {
   "cell_type": "code",
   "execution_count": 86,
   "metadata": {},
   "outputs": [
    {
     "ename": "NameError",
     "evalue": "name 'tokens_d0' is not defined",
     "output_type": "error",
     "traceback": [
      "\u001b[0;31m---------------------------------------------------------------------------\u001b[0m",
      "\u001b[0;31mNameError\u001b[0m                                 Traceback (most recent call last)",
      "\u001b[0;32m<ipython-input-86-1fdad73f4341>\u001b[0m in \u001b[0;36m<module>\u001b[0;34m\u001b[0m\n\u001b[1;32m      2\u001b[0m     \u001b[0;32mif\u001b[0m \u001b[0mtoken\u001b[0m \u001b[0;32min\u001b[0m \u001b[0mtokens_all\u001b[0m\u001b[0;34m:\u001b[0m\u001b[0;34m\u001b[0m\u001b[0;34m\u001b[0m\u001b[0m\n\u001b[1;32m      3\u001b[0m         \u001b[0mtokens_all\u001b[0m\u001b[0;34m.\u001b[0m\u001b[0mremove\u001b[0m\u001b[0;34m(\u001b[0m\u001b[0mtoken\u001b[0m\u001b[0;34m)\u001b[0m\u001b[0;34m\u001b[0m\u001b[0;34m\u001b[0m\u001b[0m\n\u001b[0;32m----> 4\u001b[0;31m     \u001b[0;32mif\u001b[0m \u001b[0mtoken\u001b[0m \u001b[0;32min\u001b[0m \u001b[0mtokens_d0\u001b[0m\u001b[0;34m:\u001b[0m\u001b[0;34m\u001b[0m\u001b[0;34m\u001b[0m\u001b[0m\n\u001b[0m\u001b[1;32m      5\u001b[0m         \u001b[0mtokens_d0\u001b[0m\u001b[0;34m.\u001b[0m\u001b[0mremove\u001b[0m\u001b[0;34m(\u001b[0m\u001b[0mtoken\u001b[0m\u001b[0;34m)\u001b[0m\u001b[0;34m\u001b[0m\u001b[0;34m\u001b[0m\u001b[0m\n\u001b[1;32m      6\u001b[0m     \u001b[0;32mif\u001b[0m \u001b[0mtoken\u001b[0m \u001b[0;32min\u001b[0m \u001b[0mtokens_d1\u001b[0m\u001b[0;34m:\u001b[0m\u001b[0;34m\u001b[0m\u001b[0;34m\u001b[0m\u001b[0m\n",
      "\u001b[0;31mNameError\u001b[0m: name 'tokens_d0' is not defined"
     ]
    }
   ],
   "source": [
    "for token in bad_tokens:\n",
    "    if token in tokens_all:\n",
    "        tokens_all.remove(token)\n",
    "    if token in tokens_d0:\n",
    "        tokens_d0.remove(token)\n",
    "    if token in tokens_d1:\n",
    "        tokens_d1.remove(token)"
   ]
  },
  {
   "cell_type": "code",
   "execution_count": 87,
   "metadata": {},
   "outputs": [
    {
     "ename": "NameError",
     "evalue": "name 'tokens_d0' is not defined",
     "output_type": "error",
     "traceback": [
      "\u001b[0;31m---------------------------------------------------------------------------\u001b[0m",
      "\u001b[0;31mNameError\u001b[0m                                 Traceback (most recent call last)",
      "\u001b[0;32m<ipython-input-87-7349f7420e55>\u001b[0m in \u001b[0;36m<module>\u001b[0;34m\u001b[0m\n\u001b[0;32m----> 1\u001b[0;31m \u001b[0;34m'd'\u001b[0m \u001b[0;32min\u001b[0m \u001b[0mtokens_d0\u001b[0m\u001b[0;34m\u001b[0m\u001b[0;34m\u001b[0m\u001b[0m\n\u001b[0m",
      "\u001b[0;31mNameError\u001b[0m: name 'tokens_d0' is not defined"
     ]
    }
   ],
   "source": [
    "'d' in tokens_d0"
   ]
  },
  {
   "cell_type": "code",
   "execution_count": 88,
   "metadata": {
    "scrolled": true
   },
   "outputs": [
    {
     "data": {
      "text/html": [
       "<div>\n",
       "<style scoped>\n",
       "    .dataframe tbody tr th:only-of-type {\n",
       "        vertical-align: middle;\n",
       "    }\n",
       "\n",
       "    .dataframe tbody tr th {\n",
       "        vertical-align: top;\n",
       "    }\n",
       "\n",
       "    .dataframe thead th {\n",
       "        text-align: right;\n",
       "    }\n",
       "</style>\n",
       "<table border=\"1\" class=\"dataframe\">\n",
       "  <thead>\n",
       "    <tr style=\"text-align: right;\">\n",
       "      <th></th>\n",
       "      <th>topic</th>\n",
       "      <th>specifisity</th>\n",
       "    </tr>\n",
       "  </thead>\n",
       "  <tbody>\n",
       "    <tr>\n",
       "      <th>впоследствии</th>\n",
       "      <td>topic_1</td>\n",
       "      <td>5.10869e-05</td>\n",
       "    </tr>\n",
       "    <tr>\n",
       "      <th>понять_новое</th>\n",
       "      <td>topic_1</td>\n",
       "      <td>4.77639e-05</td>\n",
       "    </tr>\n",
       "    <tr>\n",
       "      <th>смена</th>\n",
       "      <td>topic_0</td>\n",
       "      <td>4.69792e-05</td>\n",
       "    </tr>\n",
       "    <tr>\n",
       "      <th>незнать</th>\n",
       "      <td>topic_1</td>\n",
       "      <td>4.69787e-05</td>\n",
       "    </tr>\n",
       "    <tr>\n",
       "      <th>подучить</th>\n",
       "      <td>topic_5</td>\n",
       "      <td>3.43248e-05</td>\n",
       "    </tr>\n",
       "    <tr>\n",
       "      <th>...</th>\n",
       "      <td>...</td>\n",
       "      <td>...</td>\n",
       "    </tr>\n",
       "    <tr>\n",
       "      <th>расширять</th>\n",
       "      <td>topic_1</td>\n",
       "      <td>4.69787e-05</td>\n",
       "    </tr>\n",
       "    <tr>\n",
       "      <th>являться</th>\n",
       "      <td>topic_5</td>\n",
       "      <td>4.35993e-05</td>\n",
       "    </tr>\n",
       "    <tr>\n",
       "      <th>мастер</th>\n",
       "      <td>topic_4</td>\n",
       "      <td>3.06883e-05</td>\n",
       "    </tr>\n",
       "    <tr>\n",
       "      <th>сфера_деятельность</th>\n",
       "      <td>topic_0</td>\n",
       "      <td>1.22736e-05</td>\n",
       "    </tr>\n",
       "    <tr>\n",
       "      <th>soft</th>\n",
       "      <td>topic_4</td>\n",
       "      <td>2.54433e-05</td>\n",
       "    </tr>\n",
       "  </tbody>\n",
       "</table>\n",
       "<p>3418 rows × 2 columns</p>\n",
       "</div>"
      ],
      "text/plain": [
       "                      topic  specifisity\n",
       "впоследствии        topic_1  5.10869e-05\n",
       "понять_новое        topic_1  4.77639e-05\n",
       "смена               topic_0  4.69792e-05\n",
       "незнать             topic_1  4.69787e-05\n",
       "подучить            topic_5  3.43248e-05\n",
       "...                     ...          ...\n",
       "расширять           topic_1  4.69787e-05\n",
       "являться            topic_5  4.35993e-05\n",
       "мастер              topic_4  3.06883e-05\n",
       "сфера_деятельность  topic_0  1.22736e-05\n",
       "soft                topic_4  2.54433e-05\n",
       "\n",
       "[3418 rows x 2 columns]"
      ]
     },
     "execution_count": 88,
     "metadata": {},
     "output_type": "execute_result"
    }
   ],
   "source": [
    "specifisity_words"
   ]
  },
  {
   "cell_type": "code",
   "execution_count": 109,
   "metadata": {
    "scrolled": false
   },
   "outputs": [
    {
     "name": "stderr",
     "output_type": "stream",
     "text": [
      "/home/polina/anaconda3/lib/python3.7/site-packages/matplotlib/projections/polar.py:55: RuntimeWarning:\n",
      "\n",
      "invalid value encountered in greater_equal\n",
      "\n",
      "/home/polina/anaconda3/lib/python3.7/site-packages/matplotlib/projections/polar.py:55: RuntimeWarning:\n",
      "\n",
      "invalid value encountered in greater_equal\n",
      "\n"
     ]
    },
    {
     "data": {
      "image/png": "[encoded data removed]",
      "text/plain": [
       "<Figure size 720x720 with 1 Axes>"
      ]
     },
     "metadata": {
      "needs_background": "light"
     },
     "output_type": "display_data"
    }
   ],
   "source": [
    "fig = plt.figure(figsize=(10, 10))\n",
    "for idx, color in zip(topic_spectrum, best_colors):\n",
    "    topic = 'topic_' + str(idx)\n",
    "    tokens = specifisity_words.loc[specifisity_words['topic'] == topic]\n",
    "    \n",
    "    plt.polar(np.ones(tokens.shape[0]) * topic_spectrum.index(idx) * np.pi / 4.5 + np.random.uniform(-0.07, 0.07, tokens.shape[0]), \n",
    "              tokens['specifisity'], 'ro', label=topic_description.loc[topic]['description'], color=color)\n",
    "lgd = plt.legend(bbox_to_anchor=(1., 0.67), loc='upper left', borderaxespad=0.)\n",
    "plt.savefig('images/specifisity_all_words.pdf', bbox_extra_artists=(lgd,), bbox_inches='tight')\n",
    "plt.savefig('images/specifisity_all_words.png', bbox_extra_artists=(lgd,), bbox_inches='tight')\n",
    "plt.show()"
   ]
  },
  {
   "cell_type": "code",
   "execution_count": null,
   "metadata": {},
   "outputs": [],
   "source": []
  },
  {
   "cell_type": "code",
   "execution_count": null,
   "metadata": {},
   "outputs": [],
   "source": [
    "filter_not_sp_words = [topic  in not_specific_topics for topic in specifisity_words['topic']]\n",
    "filter_sp_words = [topic in specific_topics for topic in specifisity_words['topic']]"
   ]
  },
  {
   "cell_type": "code",
   "execution_count": null,
   "metadata": {},
   "outputs": [],
   "source": [
    "tokens_not_sp_topic = list(specifisity_words.loc[filter_not_sp_words].index)\n",
    "tokens_sp_topic = list(specifisity_words.loc[filter_sp_words].index)"
   ]
  },
  {
   "cell_type": "code",
   "execution_count": null,
   "metadata": {},
   "outputs": [],
   "source": [
    "specifisity_not_sp_words = pd.DataFrame(index=list(tokens_not_sp_topic), columns=['topic', 'specifisity'])\n",
    "for token in tokens_not_sp_topic:\n",
    "    s_w = specifisity_of_token(token, specific_topics, matrix_of_frequancies, theta, phi)\n",
    "    if s_w == np.inf:\n",
    "        bad_tokens.append(token)\n",
    "        print(token)\n",
    "    specifisity_not_sp_words.loc[token]['specifisity'] = s_w\n",
    "    specifisity_not_sp_words.loc[token]['topic'] = phi.T[phi.T[token] == phi.T[token].max()].index.tolist()[0]"
   ]
  },
  {
   "cell_type": "code",
   "execution_count": null,
   "metadata": {},
   "outputs": [],
   "source": [
    "fig = plt.figure(figsize=(10, 10))\n",
    "for idx, color in zip(topic_spectrum, best_colors):\n",
    "    topic = 'topic_' + str(idx)\n",
    "    tokens = specifisity_not_sp_words.loc[specifisity_not_sp_words['topic'] == topic]\n",
    "    \n",
    "    plt.polar(np.ones(tokens.shape[0]) * topic_spectrum.index(idx) * np.pi / 4.5 + np.random.uniform(-0.07, 0.07, tokens.shape[0]), \n",
    "              tokens['specifisity'], 'ro', label=topic_description.loc[topic]['description'], color=color)\n",
    "lgd = plt.legend(bbox_to_anchor=(1., 0.67), loc='upper left', borderaxespad=0.)\n",
    "plt.savefig('images/specifisity_d0_words.pdf', bbox_extra_artists=(lgd,), bbox_inches='tight')\n",
    "plt.savefig('images/specifisity_d0_words.png', bbox_extra_artists=(lgd,), bbox_inches='tight')\n",
    "plt.show()"
   ]
  },
  {
   "cell_type": "code",
   "execution_count": null,
   "metadata": {},
   "outputs": [],
   "source": [
    "specifisity_sp_words = pd.DataFrame(index=list(tokens_sp_topic), columns=['topic', 'specifisity'])\n",
    "for token in tokens_sp_topic:\n",
    "    s_w = specifisity_of_token(token, specific_topics, matrix_of_frequancies, theta, phi)\n",
    "    if s_w == np.inf:\n",
    "        bad_tokens.append(token)\n",
    "        print(token)\n",
    "    specifisity_sp_words.loc[token]['specifisity'] = s_w\n",
    "    specifisity_sp_words.loc[token]['topic'] = phi.T[phi.T[token] == phi.T[token].max()].index.tolist()[0]"
   ]
  },
  {
   "cell_type": "code",
   "execution_count": null,
   "metadata": {},
   "outputs": [],
   "source": [
    "fig = plt.figure(figsize=(10, 10))\n",
    "for idx, color in zip(topic_spectrum, best_colors):\n",
    "    topic = 'topic_' + str(idx)\n",
    "    tokens = specifisity_sp_words.loc[specifisity_sp_words['topic'] == topic]\n",
    "    \n",
    "    plt.polar(np.ones(tokens.shape[0]) * topic_spectrum.index(idx) * np.pi / 4.5 + np.random.uniform(-0.07, 0.07, tokens.shape[0]), \n",
    "              tokens['specifisity'], 'ro', label=topic_description.loc[topic]['description'], color=color)\n",
    "lgd = plt.legend(bbox_to_anchor=(1., 0.67), loc='upper left', borderaxespad=0.)\n",
    "plt.savefig('images/specifisity_d1_words.pdf', bbox_extra_artists=(lgd,), bbox_inches='tight')\n",
    "plt.savefig('images/specifisity_d1_words.png', bbox_extra_artists=(lgd,), bbox_inches='tight')\n",
    "plt.show()"
   ]
  },
  {
   "cell_type": "code",
   "execution_count": null,
   "metadata": {},
   "outputs": [],
   "source": []
  }
 ],
 "metadata": {
  "kernelspec": {
   "display_name": "Python 3",
   "language": "python",
   "name": "python3"
  },
  "language_info": {
   "codemirror_mode": {
    "name": "ipython",
    "version": 3
   },
   "file_extension": ".py",
   "mimetype": "text/x-python",
   "name": "python",
   "nbconvert_exporter": "python",
   "pygments_lexer": "ipython3",
   "version": "3.7.4"
  }
 },
 "nbformat": 4,
 "nbformat_minor": 2
}
