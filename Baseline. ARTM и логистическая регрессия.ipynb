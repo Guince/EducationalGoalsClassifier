{
 "cells": [
  {
   "cell_type": "markdown",
   "metadata": {},
   "source": [
    "# Тематическое моделирвание"
   ]
  },
  {
   "cell_type": "code",
   "execution_count": 1,
   "metadata": {},
   "outputs": [],
   "source": [
    "import artm\n",
    "import copy\n",
    "import pandas as pd\n",
    "import numpy as np"
   ]
  },
  {
   "cell_type": "code",
   "execution_count": 2,
   "metadata": {},
   "outputs": [],
   "source": [
    "import matplotlib\n",
    "import matplotlib.pyplot as plt\n",
    "%matplotlib inline"
   ]
  },
  {
   "cell_type": "markdown",
   "metadata": {},
   "source": [
    "Буду использовать TopicNet для удобной визуализации."
   ]
  },
  {
   "cell_type": "code",
   "execution_count": 3,
   "metadata": {},
   "outputs": [],
   "source": [
    "import topicnet\n",
    "from topicnet.cooking_machine.models import TopicModel\n",
    "from topicnet.viewers import TopTokensViewer\n",
    "from topicnet.viewers import TopDocumentsViewer\n",
    "from topicnet.cooking_machine.dataset import Dataset"
   ]
  },
  {
   "cell_type": "code",
   "execution_count": 4,
   "metadata": {},
   "outputs": [],
   "source": [
    "def perplexity_plot(model):\n",
    "    plt.plot(model.score_tracker['PerlexityScore'].value)\n",
    "    plt.title('Dependence Perlexity of iteration')\n",
    "    plt.xlabel('number of iteration')\n",
    "    plt.ylabel('Perlexity Score')\n",
    "\n",
    "def perplexity_plot_ngram(model):\n",
    "    plt.plot(model.score_tracker['PerlexityScore_ngram'].value)\n",
    "    plt.title('Dependence Perlexity of iteration')\n",
    "    plt.xlabel('number of iteration')\n",
    "    plt.ylabel('Perlexity Score')\n",
    "\n",
    "def perplexity_plot_info(model):\n",
    "    plt.plot(model.score_tracker['PerlexityScore_info'].value)\n",
    "    plt.title('Dependence Perlexity of iteration')\n",
    "    plt.xlabel('number of iteration')\n",
    "    plt.ylabel('Perlexity Score')"
   ]
  },
  {
   "cell_type": "markdown",
   "metadata": {},
   "source": [
    "## ARTM с двумя модальностями и регуляризаторами"
   ]
  },
  {
   "cell_type": "code",
   "execution_count": 5,
   "metadata": {},
   "outputs": [],
   "source": [
    "batch_vectorizer = artm.BatchVectorizer(data_path='vw_documents_ngram_info.txt',\n",
    "                                        data_format='vowpal_wabbit',\n",
    "                                        batch_size = 10000,\n",
    "                                        target_folder='./batches')"
   ]
  },
  {
   "cell_type": "code",
   "execution_count": 6,
   "metadata": {},
   "outputs": [
    {
     "name": "stdout",
     "output_type": "stream",
     "text": [
      "Всего документов:  4955\n"
     ]
    }
   ],
   "source": [
    "file = open('vw_documents_ngram_info.txt', 'r')\n",
    "print('Всего документов: ', len(file.readlines()))\n",
    "file.close()"
   ]
  },
  {
   "cell_type": "code",
   "execution_count": 7,
   "metadata": {},
   "outputs": [],
   "source": [
    "dictionary = artm.Dictionary()\n",
    "dictionary.gather(data_path='./batches')"
   ]
  },
  {
   "cell_type": "code",
   "execution_count": 8,
   "metadata": {
    "scrolled": true
   },
   "outputs": [
    {
     "data": {
      "text/plain": [
       "artm.Dictionary(name=5d822e2d-1c09-4da3-b304-b1b4880af45c, num_entries=4032)"
      ]
     },
     "execution_count": 8,
     "metadata": {},
     "output_type": "execute_result"
    }
   ],
   "source": [
    "dictionary"
   ]
  },
  {
   "cell_type": "code",
   "execution_count": 9,
   "metadata": {},
   "outputs": [],
   "source": [
    "NUM_TOPICS = 15\n",
    "\n",
    "model = artm.ARTM(num_topics=NUM_TOPICS,\n",
    "                  num_processors=4,\n",
    "                  theta_columns_naming='title',\n",
    "                  show_progress_bars=True,\n",
    "                  cache_theta = True,\n",
    "                  dictionary=dictionary)"
   ]
  },
  {
   "cell_type": "code",
   "execution_count": 10,
   "metadata": {},
   "outputs": [],
   "source": [
    "model.class_ids = {'@ngram': 5.0, '@info': 1.0}"
   ]
  },
  {
   "cell_type": "code",
   "execution_count": 11,
   "metadata": {},
   "outputs": [],
   "source": [
    "model.scores.add(artm.PerplexityScore(name='PerlexityScore_ngram', class_ids=['@ngram']))\n",
    "model.scores.add(artm.PerplexityScore(name='PerlexityScore_info', class_ids=['@info']))\n",
    "model.scores.add(artm.SparsityPhiScore(name='SparsityPhiScore_ngram', class_id='@ngram'))\n",
    "model.scores.add(artm.SparsityPhiScore(name='SparsityPhiScore_info', class_id='@info'))\n",
    "model.scores.add(artm.SparsityThetaScore(name='SparsityThetaScore'))\n",
    "model.scores.add(artm.TopTokensScore(name='TopTokensScore', num_tokens=10, class_id='@ngram'))\n",
    "model.scores.add(artm.TopicMassPhiScore(name='TopicMassPhiScore',\n",
    "                                        class_ids=['@ngram'], model_name=model.model_nwt))"
   ]
  },
  {
   "cell_type": "code",
   "execution_count": 12,
   "metadata": {
    "scrolled": true
   },
   "outputs": [
    {
     "data": {
      "application/vnd.jupyter.widget-view+json": {
       "model_id": "02b99ded118d4f288b1a3d4eb2de8450",
       "version_major": 2,
       "version_minor": 0
      },
      "text/plain": [
       "HBox(children=(FloatProgress(value=0.0, description='Pass', max=40.0, style=ProgressStyle(description_width='i…"
      ]
     },
     "metadata": {},
     "output_type": "display_data"
    },
    {
     "data": {
      "application/vnd.jupyter.widget-view+json": {
       "model_id": "",
       "version_major": 2,
       "version_minor": 0
      },
      "text/plain": [
       "HBox(children=(FloatProgress(value=0.0, description='Batch', max=1.0, style=ProgressStyle(description_width='i…"
      ]
     },
     "metadata": {},
     "output_type": "display_data"
    },
    {
     "data": {
      "application/vnd.jupyter.widget-view+json": {
       "model_id": "",
       "version_major": 2,
       "version_minor": 0
      },
      "text/plain": [
       "HBox(children=(FloatProgress(value=0.0, description='Batch', max=1.0, style=ProgressStyle(description_width='i…"
      ]
     },
     "metadata": {},
     "output_type": "display_data"
    },
    {
     "data": {
      "application/vnd.jupyter.widget-view+json": {
       "model_id": "",
       "version_major": 2,
       "version_minor": 0
      },
      "text/plain": [
       "HBox(children=(FloatProgress(value=0.0, description='Batch', max=1.0, style=ProgressStyle(description_width='i…"
      ]
     },
     "metadata": {},
     "output_type": "display_data"
    },
    {
     "data": {
      "application/vnd.jupyter.widget-view+json": {
       "model_id": "",
       "version_major": 2,
       "version_minor": 0
      },
      "text/plain": [
       "HBox(children=(FloatProgress(value=0.0, description='Batch', max=1.0, style=ProgressStyle(description_width='i…"
      ]
     },
     "metadata": {},
     "output_type": "display_data"
    },
    {
     "data": {
      "application/vnd.jupyter.widget-view+json": {
       "model_id": "",
       "version_major": 2,
       "version_minor": 0
      },
      "text/plain": [
       "HBox(children=(FloatProgress(value=0.0, description='Batch', max=1.0, style=ProgressStyle(description_width='i…"
      ]
     },
     "metadata": {},
     "output_type": "display_data"
    },
    {
     "data": {
      "application/vnd.jupyter.widget-view+json": {
       "model_id": "",
       "version_major": 2,
       "version_minor": 0
      },
      "text/plain": [
       "HBox(children=(FloatProgress(value=0.0, description='Batch', max=1.0, style=ProgressStyle(description_width='i…"
      ]
     },
     "metadata": {},
     "output_type": "display_data"
    },
    {
     "data": {
      "application/vnd.jupyter.widget-view+json": {
       "model_id": "",
       "version_major": 2,
       "version_minor": 0
      },
      "text/plain": [
       "HBox(children=(FloatProgress(value=0.0, description='Batch', max=1.0, style=ProgressStyle(description_width='i…"
      ]
     },
     "metadata": {},
     "output_type": "display_data"
    },
    {
     "data": {
      "application/vnd.jupyter.widget-view+json": {
       "model_id": "",
       "version_major": 2,
       "version_minor": 0
      },
      "text/plain": [
       "HBox(children=(FloatProgress(value=0.0, description='Batch', max=1.0, style=ProgressStyle(description_width='i…"
      ]
     },
     "metadata": {},
     "output_type": "display_data"
    },
    {
     "data": {
      "application/vnd.jupyter.widget-view+json": {
       "model_id": "",
       "version_major": 2,
       "version_minor": 0
      },
      "text/plain": [
       "HBox(children=(FloatProgress(value=0.0, description='Batch', max=1.0, style=ProgressStyle(description_width='i…"
      ]
     },
     "metadata": {},
     "output_type": "display_data"
    },
    {
     "data": {
      "application/vnd.jupyter.widget-view+json": {
       "model_id": "",
       "version_major": 2,
       "version_minor": 0
      },
      "text/plain": [
       "HBox(children=(FloatProgress(value=0.0, description='Batch', max=1.0, style=ProgressStyle(description_width='i…"
      ]
     },
     "metadata": {},
     "output_type": "display_data"
    },
    {
     "data": {
      "application/vnd.jupyter.widget-view+json": {
       "model_id": "",
       "version_major": 2,
       "version_minor": 0
      },
      "text/plain": [
       "HBox(children=(FloatProgress(value=0.0, description='Batch', max=1.0, style=ProgressStyle(description_width='i…"
      ]
     },
     "metadata": {},
     "output_type": "display_data"
    },
    {
     "data": {
      "application/vnd.jupyter.widget-view+json": {
       "model_id": "",
       "version_major": 2,
       "version_minor": 0
      },
      "text/plain": [
       "HBox(children=(FloatProgress(value=0.0, description='Batch', max=1.0, style=ProgressStyle(description_width='i…"
      ]
     },
     "metadata": {},
     "output_type": "display_data"
    },
    {
     "data": {
      "application/vnd.jupyter.widget-view+json": {
       "model_id": "",
       "version_major": 2,
       "version_minor": 0
      },
      "text/plain": [
       "HBox(children=(FloatProgress(value=0.0, description='Batch', max=1.0, style=ProgressStyle(description_width='i…"
      ]
     },
     "metadata": {},
     "output_type": "display_data"
    },
    {
     "data": {
      "application/vnd.jupyter.widget-view+json": {
       "model_id": "",
       "version_major": 2,
       "version_minor": 0
      },
      "text/plain": [
       "HBox(children=(FloatProgress(value=0.0, description='Batch', max=1.0, style=ProgressStyle(description_width='i…"
      ]
     },
     "metadata": {},
     "output_type": "display_data"
    },
    {
     "data": {
      "application/vnd.jupyter.widget-view+json": {
       "model_id": "",
       "version_major": 2,
       "version_minor": 0
      },
      "text/plain": [
       "HBox(children=(FloatProgress(value=0.0, description='Batch', max=1.0, style=ProgressStyle(description_width='i…"
      ]
     },
     "metadata": {},
     "output_type": "display_data"
    },
    {
     "data": {
      "application/vnd.jupyter.widget-view+json": {
       "model_id": "",
       "version_major": 2,
       "version_minor": 0
      },
      "text/plain": [
       "HBox(children=(FloatProgress(value=0.0, description='Batch', max=1.0, style=ProgressStyle(description_width='i…"
      ]
     },
     "metadata": {},
     "output_type": "display_data"
    },
    {
     "data": {
      "application/vnd.jupyter.widget-view+json": {
       "model_id": "",
       "version_major": 2,
       "version_minor": 0
      },
      "text/plain": [
       "HBox(children=(FloatProgress(value=0.0, description='Batch', max=1.0, style=ProgressStyle(description_width='i…"
      ]
     },
     "metadata": {},
     "output_type": "display_data"
    },
    {
     "data": {
      "application/vnd.jupyter.widget-view+json": {
       "model_id": "",
       "version_major": 2,
       "version_minor": 0
      },
      "text/plain": [
       "HBox(children=(FloatProgress(value=0.0, description='Batch', max=1.0, style=ProgressStyle(description_width='i…"
      ]
     },
     "metadata": {},
     "output_type": "display_data"
    },
    {
     "data": {
      "application/vnd.jupyter.widget-view+json": {
       "model_id": "",
       "version_major": 2,
       "version_minor": 0
      },
      "text/plain": [
       "HBox(children=(FloatProgress(value=0.0, description='Batch', max=1.0, style=ProgressStyle(description_width='i…"
      ]
     },
     "metadata": {},
     "output_type": "display_data"
    },
    {
     "data": {
      "application/vnd.jupyter.widget-view+json": {
       "model_id": "",
       "version_major": 2,
       "version_minor": 0
      },
      "text/plain": [
       "HBox(children=(FloatProgress(value=0.0, description='Batch', max=1.0, style=ProgressStyle(description_width='i…"
      ]
     },
     "metadata": {},
     "output_type": "display_data"
    },
    {
     "data": {
      "application/vnd.jupyter.widget-view+json": {
       "model_id": "",
       "version_major": 2,
       "version_minor": 0
      },
      "text/plain": [
       "HBox(children=(FloatProgress(value=0.0, description='Batch', max=1.0, style=ProgressStyle(description_width='i…"
      ]
     },
     "metadata": {},
     "output_type": "display_data"
    },
    {
     "data": {
      "application/vnd.jupyter.widget-view+json": {
       "model_id": "",
       "version_major": 2,
       "version_minor": 0
      },
      "text/plain": [
       "HBox(children=(FloatProgress(value=0.0, description='Batch', max=1.0, style=ProgressStyle(description_width='i…"
      ]
     },
     "metadata": {},
     "output_type": "display_data"
    },
    {
     "data": {
      "application/vnd.jupyter.widget-view+json": {
       "model_id": "",
       "version_major": 2,
       "version_minor": 0
      },
      "text/plain": [
       "HBox(children=(FloatProgress(value=0.0, description='Batch', max=1.0, style=ProgressStyle(description_width='i…"
      ]
     },
     "metadata": {},
     "output_type": "display_data"
    },
    {
     "data": {
      "application/vnd.jupyter.widget-view+json": {
       "model_id": "",
       "version_major": 2,
       "version_minor": 0
      },
      "text/plain": [
       "HBox(children=(FloatProgress(value=0.0, description='Batch', max=1.0, style=ProgressStyle(description_width='i…"
      ]
     },
     "metadata": {},
     "output_type": "display_data"
    },
    {
     "data": {
      "application/vnd.jupyter.widget-view+json": {
       "model_id": "",
       "version_major": 2,
       "version_minor": 0
      },
      "text/plain": [
       "HBox(children=(FloatProgress(value=0.0, description='Batch', max=1.0, style=ProgressStyle(description_width='i…"
      ]
     },
     "metadata": {},
     "output_type": "display_data"
    },
    {
     "data": {
      "application/vnd.jupyter.widget-view+json": {
       "model_id": "",
       "version_major": 2,
       "version_minor": 0
      },
      "text/plain": [
       "HBox(children=(FloatProgress(value=0.0, description='Batch', max=1.0, style=ProgressStyle(description_width='i…"
      ]
     },
     "metadata": {},
     "output_type": "display_data"
    },
    {
     "data": {
      "application/vnd.jupyter.widget-view+json": {
       "model_id": "",
       "version_major": 2,
       "version_minor": 0
      },
      "text/plain": [
       "HBox(children=(FloatProgress(value=0.0, description='Batch', max=1.0, style=ProgressStyle(description_width='i…"
      ]
     },
     "metadata": {},
     "output_type": "display_data"
    },
    {
     "data": {
      "application/vnd.jupyter.widget-view+json": {
       "model_id": "",
       "version_major": 2,
       "version_minor": 0
      },
      "text/plain": [
       "HBox(children=(FloatProgress(value=0.0, description='Batch', max=1.0, style=ProgressStyle(description_width='i…"
      ]
     },
     "metadata": {},
     "output_type": "display_data"
    },
    {
     "data": {
      "application/vnd.jupyter.widget-view+json": {
       "model_id": "",
       "version_major": 2,
       "version_minor": 0
      },
      "text/plain": [
       "HBox(children=(FloatProgress(value=0.0, description='Batch', max=1.0, style=ProgressStyle(description_width='i…"
      ]
     },
     "metadata": {},
     "output_type": "display_data"
    },
    {
     "data": {
      "application/vnd.jupyter.widget-view+json": {
       "model_id": "",
       "version_major": 2,
       "version_minor": 0
      },
      "text/plain": [
       "HBox(children=(FloatProgress(value=0.0, description='Batch', max=1.0, style=ProgressStyle(description_width='i…"
      ]
     },
     "metadata": {},
     "output_type": "display_data"
    },
    {
     "data": {
      "application/vnd.jupyter.widget-view+json": {
       "model_id": "",
       "version_major": 2,
       "version_minor": 0
      },
      "text/plain": [
       "HBox(children=(FloatProgress(value=0.0, description='Batch', max=1.0, style=ProgressStyle(description_width='i…"
      ]
     },
     "metadata": {},
     "output_type": "display_data"
    },
    {
     "data": {
      "application/vnd.jupyter.widget-view+json": {
       "model_id": "",
       "version_major": 2,
       "version_minor": 0
      },
      "text/plain": [
       "HBox(children=(FloatProgress(value=0.0, description='Batch', max=1.0, style=ProgressStyle(description_width='i…"
      ]
     },
     "metadata": {},
     "output_type": "display_data"
    },
    {
     "data": {
      "application/vnd.jupyter.widget-view+json": {
       "model_id": "",
       "version_major": 2,
       "version_minor": 0
      },
      "text/plain": [
       "HBox(children=(FloatProgress(value=0.0, description='Batch', max=1.0, style=ProgressStyle(description_width='i…"
      ]
     },
     "metadata": {},
     "output_type": "display_data"
    },
    {
     "data": {
      "application/vnd.jupyter.widget-view+json": {
       "model_id": "",
       "version_major": 2,
       "version_minor": 0
      },
      "text/plain": [
       "HBox(children=(FloatProgress(value=0.0, description='Batch', max=1.0, style=ProgressStyle(description_width='i…"
      ]
     },
     "metadata": {},
     "output_type": "display_data"
    },
    {
     "data": {
      "application/vnd.jupyter.widget-view+json": {
       "model_id": "",
       "version_major": 2,
       "version_minor": 0
      },
      "text/plain": [
       "HBox(children=(FloatProgress(value=0.0, description='Batch', max=1.0, style=ProgressStyle(description_width='i…"
      ]
     },
     "metadata": {},
     "output_type": "display_data"
    },
    {
     "data": {
      "application/vnd.jupyter.widget-view+json": {
       "model_id": "",
       "version_major": 2,
       "version_minor": 0
      },
      "text/plain": [
       "HBox(children=(FloatProgress(value=0.0, description='Batch', max=1.0, style=ProgressStyle(description_width='i…"
      ]
     },
     "metadata": {},
     "output_type": "display_data"
    },
    {
     "data": {
      "application/vnd.jupyter.widget-view+json": {
       "model_id": "",
       "version_major": 2,
       "version_minor": 0
      },
      "text/plain": [
       "HBox(children=(FloatProgress(value=0.0, description='Batch', max=1.0, style=ProgressStyle(description_width='i…"
      ]
     },
     "metadata": {},
     "output_type": "display_data"
    },
    {
     "data": {
      "application/vnd.jupyter.widget-view+json": {
       "model_id": "",
       "version_major": 2,
       "version_minor": 0
      },
      "text/plain": [
       "HBox(children=(FloatProgress(value=0.0, description='Batch', max=1.0, style=ProgressStyle(description_width='i…"
      ]
     },
     "metadata": {},
     "output_type": "display_data"
    },
    {
     "data": {
      "application/vnd.jupyter.widget-view+json": {
       "model_id": "",
       "version_major": 2,
       "version_minor": 0
      },
      "text/plain": [
       "HBox(children=(FloatProgress(value=0.0, description='Batch', max=1.0, style=ProgressStyle(description_width='i…"
      ]
     },
     "metadata": {},
     "output_type": "display_data"
    },
    {
     "data": {
      "application/vnd.jupyter.widget-view+json": {
       "model_id": "",
       "version_major": 2,
       "version_minor": 0
      },
      "text/plain": [
       "HBox(children=(FloatProgress(value=0.0, description='Batch', max=1.0, style=ProgressStyle(description_width='i…"
      ]
     },
     "metadata": {},
     "output_type": "display_data"
    },
    {
     "name": "stdout",
     "output_type": "stream",
     "text": [
      "\n"
     ]
    }
   ],
   "source": [
    "model.fit_offline(batch_vectorizer=batch_vectorizer, num_collection_passes=40)"
   ]
  },
  {
   "cell_type": "code",
   "execution_count": 13,
   "metadata": {
    "scrolled": false
   },
   "outputs": [
    {
     "name": "stdout",
     "output_type": "stream",
     "text": [
      "Размер теты:  (15, 4955)\n",
      "Размер фи:  (4032, 15)\n"
     ]
    }
   ],
   "source": [
    "theta = model.get_theta()\n",
    "phi = model.get_phi()\n",
    "print('Размер теты: ', theta.shape)\n",
    "print('Размер фи: ', phi.shape)"
   ]
  },
  {
   "cell_type": "code",
   "execution_count": 14,
   "metadata": {},
   "outputs": [
    {
     "name": "stdout",
     "output_type": "stream",
     "text": [
      "[]\n"
     ]
    }
   ],
   "source": [
    "import collections\n",
    "duplicates = [item for item, count in collections.Counter(theta.columns).items() if count > 1]\n",
    "print(duplicates)"
   ]
  },
  {
   "cell_type": "code",
   "execution_count": 15,
   "metadata": {
    "scrolled": true
   },
   "outputs": [
    {
     "name": "stdout",
     "output_type": "stream",
     "text": [
      "[]\n"
     ]
    }
   ],
   "source": [
    "duplicates_phi = [item for item, count in collections.Counter(phi.index).items() if count > 1]\n",
    "print(duplicates_phi)"
   ]
  },
  {
   "cell_type": "code",
   "execution_count": 16,
   "metadata": {
    "scrolled": true
   },
   "outputs": [
    {
     "data": {
      "image/png": "[encoded data removed]",
      "text/plain": [
       "<Figure size 432x288 with 1 Axes>"
      ]
     },
     "metadata": {
      "needs_background": "light"
     },
     "output_type": "display_data"
    }
   ],
   "source": [
    "perplexity_plot_ngram(model)"
   ]
  },
  {
   "cell_type": "code",
   "execution_count": 17,
   "metadata": {
    "scrolled": true
   },
   "outputs": [
    {
     "data": {
      "text/html": [
       "<div>\n",
       "<style scoped>\n",
       "    .dataframe tbody tr th:only-of-type {\n",
       "        vertical-align: middle;\n",
       "    }\n",
       "\n",
       "    .dataframe tbody tr th {\n",
       "        vertical-align: top;\n",
       "    }\n",
       "\n",
       "    .dataframe thead th {\n",
       "        text-align: right;\n",
       "    }\n",
       "</style>\n",
       "<table border=\"1\" class=\"dataframe\">\n",
       "  <thead>\n",
       "    <tr style=\"text-align: right;\">\n",
       "      <th></th>\n",
       "      <th></th>\n",
       "      <th>last_value</th>\n",
       "    </tr>\n",
       "    <tr>\n",
       "      <th>model_id</th>\n",
       "      <th>score_name</th>\n",
       "      <th></th>\n",
       "    </tr>\n",
       "  </thead>\n",
       "  <tbody>\n",
       "    <tr>\n",
       "      <th rowspan=\"8\" valign=\"top\">--20h22m51s_13d06m2020y---</th>\n",
       "      <th>PerlexityScore_ngram</th>\n",
       "      <td>172.713</td>\n",
       "    </tr>\n",
       "    <tr>\n",
       "      <th>PerlexityScore_info</th>\n",
       "      <td>42.0613</td>\n",
       "    </tr>\n",
       "    <tr>\n",
       "      <th>SparsityPhiScore_ngram</th>\n",
       "      <td>0.880177</td>\n",
       "    </tr>\n",
       "    <tr>\n",
       "      <th>SparsityPhiScore_info</th>\n",
       "      <td>0.169591</td>\n",
       "    </tr>\n",
       "    <tr>\n",
       "      <th>SparsityThetaScore</th>\n",
       "      <td>0.107003</td>\n",
       "    </tr>\n",
       "    <tr>\n",
       "      <th>TopTokensScore.average_coherence</th>\n",
       "      <td>0</td>\n",
       "    </tr>\n",
       "    <tr>\n",
       "      <th>TopTokensScore.num_tokens</th>\n",
       "      <td>150</td>\n",
       "    </tr>\n",
       "    <tr>\n",
       "      <th>TopicMassPhiScore</th>\n",
       "      <td>1</td>\n",
       "    </tr>\n",
       "  </tbody>\n",
       "</table>\n",
       "</div>"
      ],
      "text/plain": [
       "                                                            last_value\n",
       "model_id                   score_name                                 \n",
       "--20h22m51s_13d06m2020y--- PerlexityScore_ngram                172.713\n",
       "                           PerlexityScore_info                 42.0613\n",
       "                           SparsityPhiScore_ngram             0.880177\n",
       "                           SparsityPhiScore_info              0.169591\n",
       "                           SparsityThetaScore                 0.107003\n",
       "                           TopTokensScore.average_coherence          0\n",
       "                           TopTokensScore.num_tokens               150\n",
       "                           TopicMassPhiScore                         1"
      ]
     },
     "execution_count": 17,
     "metadata": {},
     "output_type": "execute_result"
    }
   ],
   "source": [
    "artm_topic_model = TopicModel(model)\n",
    "artm_topic_model.describe_scores()"
   ]
  },
  {
   "cell_type": "code",
   "execution_count": 18,
   "metadata": {
    "scrolled": true
   },
   "outputs": [],
   "source": [
    "data = Dataset('preprocessed_data_for_TopicNet.csv')"
   ]
  },
  {
   "cell_type": "code",
   "execution_count": 19,
   "metadata": {},
   "outputs": [],
   "source": [
    "model.regularizers.add(artm.SmoothSparsePhiRegularizer(name='SparsePhiRegularizer_ngram',\n",
    "                                                       class_ids=['@ngram'],\n",
    "                                                       dictionary=dictionary))\n",
    "model.regularizers.add(artm.SmoothSparsePhiRegularizer(name='SparsePhiRegularizer_info',\n",
    "                                                       class_ids=['@info'],\n",
    "                                                       dictionary=dictionary))\n",
    "model.regularizers.add(artm.SmoothSparseThetaRegularizer(name='SparseThetaRegularizer'))\n",
    "model.regularizers.add(artm.DecorrelatorPhiRegularizer(name='DecorrelatorPhiRegularizer_ngram',\n",
    "                                                       class_ids=['@ngram']))\n",
    "model.regularizers.add(artm.DecorrelatorPhiRegularizer(name='DecorrelatorPhiRegularizer_info',\n",
    "                                                       class_ids=['@info']))"
   ]
  },
  {
   "cell_type": "markdown",
   "metadata": {},
   "source": [
    "Посмотрим, при каких коэффициентах регуляризации перплексия меньше всего."
   ]
  },
  {
   "cell_type": "code",
   "execution_count": 20,
   "metadata": {},
   "outputs": [],
   "source": [
    "def coef_ref_search_artm(model):\n",
    "    grid_SparsePhi_ngram = [-1, -10, -100, -1000]\n",
    "    grid_SparsePhi_info = [-1]\n",
    "    grid_SparseTheta = [-10]\n",
    "    grid_DecorrelatorPhi_ngram = [10, 100, 1000, 10000]\n",
    "    grid_DecorrelatorPhi_info = [1]\n",
    "    grid_weight_ngram = [1, 5, 10]\n",
    "    grid_weight_info = [1, 5, 10]\n",
    "    scores = []\n",
    "    reg_coefs = []\n",
    "    i = 0\n",
    "\n",
    "    for tau_SparsePhi_ngram in grid_SparsePhi_ngram:\n",
    "        for tau_SparsePhi_info in grid_SparsePhi_info:\n",
    "            for tau_SparseTheta in grid_SparseTheta:\n",
    "                for tau_DecorrelatorPhi_ngram in grid_DecorrelatorPhi_ngram:\n",
    "                    for tau_DecorrelatorPhi_info in grid_DecorrelatorPhi_info:\n",
    "                        for weight_info in grid_weight_info:\n",
    "                            for weight_ngram in grid_weight_ngram:\n",
    "                                new_model = model.clone()\n",
    "                                score = dict()\n",
    "                                r_coefs = dict()\n",
    "\n",
    "                                new_model.class_ids = {'@ngram': weight_ngram, '@info': weight_info}\n",
    "                                new_model.regularizers['SparsePhiRegularizer_ngram'].tau = tau_SparsePhi_ngram\n",
    "                                new_model.regularizers['SparsePhiRegularizer_info'].tau = tau_SparsePhi_info\n",
    "                                new_model.regularizers['SparseThetaRegularizer'].tau = tau_SparseTheta\n",
    "                                new_model.regularizers['DecorrelatorPhiRegularizer_ngram'].tau = tau_DecorrelatorPhi_ngram                \n",
    "                                new_model.regularizers['DecorrelatorPhiRegularizer_info'].tau = tau_DecorrelatorPhi_info\n",
    "\n",
    "                                new_model.fit_offline(batch_vectorizer=batch_vectorizer, num_collection_passes=40)\n",
    "\n",
    "                                topic_model = TopicModel(new_model)\n",
    "                                print(i)\n",
    "                                i += 1\n",
    "                                print(topic_model.describe_scores())\n",
    "                                print(topic_model.describe_regularizers())\n",
    "                                score['PerlexityScore'] = new_model.score_tracker['PerlexityScore'].last_value\n",
    "                                score['SparsityPhiScore_ngram'] = new_model.score_tracker['SparsityPhiScore_ngram'].last_value\n",
    "                                score['SparsityPhiScore_info'] = new_model.score_tracker['SparsityPhiScore_info'].last_value\n",
    "                                score['SparsityThetaScore'] = new_model.score_tracker['SparsityThetaScore'].last_value\n",
    "                                scores.append(score)\n",
    "\n",
    "                                r_coefs['SparsePhiRegularizer_ngram'] = tau_SparsePhi_ngram\n",
    "                                r_coefs['SparsePhiRegularizer_info'] = tau_SparsePhi_info\n",
    "                                r_coefs['SparseThetaRegularizer'] = tau_SparseTheta\n",
    "                                r_coefs['DecorrelatorPhiRegularizer_ngram'] = tau_DecorrelatorPhi_ngram\n",
    "                                r_coefs['DecorrelatorPhiRegularizer_info'] = tau_DecorrelatorPhi_info\n",
    "                                r_coefs['weight_ngram'] = weight_ngram\n",
    "                                r_coefs['weight_info'] = weight_info\n",
    "\n",
    "                                reg_coefs.append(r_coefs)\n",
    "\n",
    "                                #perplexity_plot(new_model)\n",
    "                        \n",
    "    return (scores, reg_coefs)"
   ]
  },
  {
   "cell_type": "code",
   "execution_count": 21,
   "metadata": {
    "scrolled": true
   },
   "outputs": [],
   "source": [
    "# %%time\n",
    "# (scores, reg_coefs) = coef_ref_search_artm(model)"
   ]
  },
  {
   "cell_type": "code",
   "execution_count": 22,
   "metadata": {
    "scrolled": true
   },
   "outputs": [],
   "source": [
    "# num = 0\n",
    "# min_perplexy = 4000\n",
    "# index_min_perplexy = 0\n",
    "# for i in range(len(scores)):\n",
    "#     if (scores[i]['PerlexityScore'] < 5000.0) & \\\n",
    "#     (scores[i]['SparsityPhiScore_ngram'] > 0.7) & (scores[i]['SparsityPhiScore_ngram'] < 0.96) & \\\n",
    "#     (scores[i]['SparsityThetaScore'] < 0.971):\n",
    "#         print(i, scores[i])\n",
    "#         print('SparsePhiRegularizer_ngram', reg_coefs[i]['SparsePhiRegularizer_ngram'])\n",
    "#         print('SparsePhiRegularizer_info', reg_coefs[i]['SparsePhiRegularizer_info'])\n",
    "#         print('SparseThetaRegularizer', reg_coefs[i]['SparseThetaRegularizer'])\n",
    "#         print('DecorrelatorPhiRegularizer_ngram', reg_coefs[i]['DecorrelatorPhiRegularizer_ngram'])\n",
    "#         print('DecorrelatorPhiRegularizer_info', reg_coefs[i]['DecorrelatorPhiRegularizer_info'])\n",
    "#         print()\n",
    "#         num+=1\n",
    "#         if scores[i]['PerlexityScore'] < min_perplexy:\n",
    "#             min_perplexy = scores[i]['PerlexityScore']\n",
    "#             index_min_perplexy = i\n",
    "# print('Всего {} хороших моделей'.format(num))\n",
    "# print('min_perplexy:', min_perplexy)\n",
    "# print('index_min_perplexy:', index_min_perplexy)"
   ]
  },
  {
   "cell_type": "markdown",
   "metadata": {},
   "source": [
    "Было 233"
   ]
  },
  {
   "cell_type": "code",
   "execution_count": 23,
   "metadata": {},
   "outputs": [],
   "source": [
    "# reg_coefs[index_min_perplexy]"
   ]
  },
  {
   "cell_type": "code",
   "execution_count": 24,
   "metadata": {
    "scrolled": true
   },
   "outputs": [
    {
     "data": {
      "application/vnd.jupyter.widget-view+json": {
       "model_id": "1f8a18dee0564345a08521f2dca4033b",
       "version_major": 2,
       "version_minor": 0
      },
      "text/plain": [
       "HBox(children=(FloatProgress(value=0.0, description='Pass', max=40.0, style=ProgressStyle(description_width='i…"
      ]
     },
     "metadata": {},
     "output_type": "display_data"
    },
    {
     "data": {
      "application/vnd.jupyter.widget-view+json": {
       "model_id": "",
       "version_major": 2,
       "version_minor": 0
      },
      "text/plain": [
       "HBox(children=(FloatProgress(value=0.0, description='Batch', max=1.0, style=ProgressStyle(description_width='i…"
      ]
     },
     "metadata": {},
     "output_type": "display_data"
    },
    {
     "data": {
      "application/vnd.jupyter.widget-view+json": {
       "model_id": "",
       "version_major": 2,
       "version_minor": 0
      },
      "text/plain": [
       "HBox(children=(FloatProgress(value=0.0, description='Batch', max=1.0, style=ProgressStyle(description_width='i…"
      ]
     },
     "metadata": {},
     "output_type": "display_data"
    },
    {
     "data": {
      "application/vnd.jupyter.widget-view+json": {
       "model_id": "",
       "version_major": 2,
       "version_minor": 0
      },
      "text/plain": [
       "HBox(children=(FloatProgress(value=0.0, description='Batch', max=1.0, style=ProgressStyle(description_width='i…"
      ]
     },
     "metadata": {},
     "output_type": "display_data"
    },
    {
     "data": {
      "application/vnd.jupyter.widget-view+json": {
       "model_id": "",
       "version_major": 2,
       "version_minor": 0
      },
      "text/plain": [
       "HBox(children=(FloatProgress(value=0.0, description='Batch', max=1.0, style=ProgressStyle(description_width='i…"
      ]
     },
     "metadata": {},
     "output_type": "display_data"
    },
    {
     "data": {
      "application/vnd.jupyter.widget-view+json": {
       "model_id": "",
       "version_major": 2,
       "version_minor": 0
      },
      "text/plain": [
       "HBox(children=(FloatProgress(value=0.0, description='Batch', max=1.0, style=ProgressStyle(description_width='i…"
      ]
     },
     "metadata": {},
     "output_type": "display_data"
    },
    {
     "data": {
      "application/vnd.jupyter.widget-view+json": {
       "model_id": "",
       "version_major": 2,
       "version_minor": 0
      },
      "text/plain": [
       "HBox(children=(FloatProgress(value=0.0, description='Batch', max=1.0, style=ProgressStyle(description_width='i…"
      ]
     },
     "metadata": {},
     "output_type": "display_data"
    },
    {
     "data": {
      "application/vnd.jupyter.widget-view+json": {
       "model_id": "",
       "version_major": 2,
       "version_minor": 0
      },
      "text/plain": [
       "HBox(children=(FloatProgress(value=0.0, description='Batch', max=1.0, style=ProgressStyle(description_width='i…"
      ]
     },
     "metadata": {},
     "output_type": "display_data"
    },
    {
     "data": {
      "application/vnd.jupyter.widget-view+json": {
       "model_id": "",
       "version_major": 2,
       "version_minor": 0
      },
      "text/plain": [
       "HBox(children=(FloatProgress(value=0.0, description='Batch', max=1.0, style=ProgressStyle(description_width='i…"
      ]
     },
     "metadata": {},
     "output_type": "display_data"
    },
    {
     "data": {
      "application/vnd.jupyter.widget-view+json": {
       "model_id": "",
       "version_major": 2,
       "version_minor": 0
      },
      "text/plain": [
       "HBox(children=(FloatProgress(value=0.0, description='Batch', max=1.0, style=ProgressStyle(description_width='i…"
      ]
     },
     "metadata": {},
     "output_type": "display_data"
    },
    {
     "data": {
      "application/vnd.jupyter.widget-view+json": {
       "model_id": "",
       "version_major": 2,
       "version_minor": 0
      },
      "text/plain": [
       "HBox(children=(FloatProgress(value=0.0, description='Batch', max=1.0, style=ProgressStyle(description_width='i…"
      ]
     },
     "metadata": {},
     "output_type": "display_data"
    },
    {
     "data": {
      "application/vnd.jupyter.widget-view+json": {
       "model_id": "",
       "version_major": 2,
       "version_minor": 0
      },
      "text/plain": [
       "HBox(children=(FloatProgress(value=0.0, description='Batch', max=1.0, style=ProgressStyle(description_width='i…"
      ]
     },
     "metadata": {},
     "output_type": "display_data"
    },
    {
     "data": {
      "application/vnd.jupyter.widget-view+json": {
       "model_id": "",
       "version_major": 2,
       "version_minor": 0
      },
      "text/plain": [
       "HBox(children=(FloatProgress(value=0.0, description='Batch', max=1.0, style=ProgressStyle(description_width='i…"
      ]
     },
     "metadata": {},
     "output_type": "display_data"
    },
    {
     "data": {
      "application/vnd.jupyter.widget-view+json": {
       "model_id": "",
       "version_major": 2,
       "version_minor": 0
      },
      "text/plain": [
       "HBox(children=(FloatProgress(value=0.0, description='Batch', max=1.0, style=ProgressStyle(description_width='i…"
      ]
     },
     "metadata": {},
     "output_type": "display_data"
    },
    {
     "data": {
      "application/vnd.jupyter.widget-view+json": {
       "model_id": "",
       "version_major": 2,
       "version_minor": 0
      },
      "text/plain": [
       "HBox(children=(FloatProgress(value=0.0, description='Batch', max=1.0, style=ProgressStyle(description_width='i…"
      ]
     },
     "metadata": {},
     "output_type": "display_data"
    },
    {
     "data": {
      "application/vnd.jupyter.widget-view+json": {
       "model_id": "",
       "version_major": 2,
       "version_minor": 0
      },
      "text/plain": [
       "HBox(children=(FloatProgress(value=0.0, description='Batch', max=1.0, style=ProgressStyle(description_width='i…"
      ]
     },
     "metadata": {},
     "output_type": "display_data"
    },
    {
     "data": {
      "application/vnd.jupyter.widget-view+json": {
       "model_id": "",
       "version_major": 2,
       "version_minor": 0
      },
      "text/plain": [
       "HBox(children=(FloatProgress(value=0.0, description='Batch', max=1.0, style=ProgressStyle(description_width='i…"
      ]
     },
     "metadata": {},
     "output_type": "display_data"
    },
    {
     "data": {
      "application/vnd.jupyter.widget-view+json": {
       "model_id": "",
       "version_major": 2,
       "version_minor": 0
      },
      "text/plain": [
       "HBox(children=(FloatProgress(value=0.0, description='Batch', max=1.0, style=ProgressStyle(description_width='i…"
      ]
     },
     "metadata": {},
     "output_type": "display_data"
    },
    {
     "data": {
      "application/vnd.jupyter.widget-view+json": {
       "model_id": "",
       "version_major": 2,
       "version_minor": 0
      },
      "text/plain": [
       "HBox(children=(FloatProgress(value=0.0, description='Batch', max=1.0, style=ProgressStyle(description_width='i…"
      ]
     },
     "metadata": {},
     "output_type": "display_data"
    },
    {
     "data": {
      "application/vnd.jupyter.widget-view+json": {
       "model_id": "",
       "version_major": 2,
       "version_minor": 0
      },
      "text/plain": [
       "HBox(children=(FloatProgress(value=0.0, description='Batch', max=1.0, style=ProgressStyle(description_width='i…"
      ]
     },
     "metadata": {},
     "output_type": "display_data"
    },
    {
     "data": {
      "application/vnd.jupyter.widget-view+json": {
       "model_id": "",
       "version_major": 2,
       "version_minor": 0
      },
      "text/plain": [
       "HBox(children=(FloatProgress(value=0.0, description='Batch', max=1.0, style=ProgressStyle(description_width='i…"
      ]
     },
     "metadata": {},
     "output_type": "display_data"
    },
    {
     "data": {
      "application/vnd.jupyter.widget-view+json": {
       "model_id": "",
       "version_major": 2,
       "version_minor": 0
      },
      "text/plain": [
       "HBox(children=(FloatProgress(value=0.0, description='Batch', max=1.0, style=ProgressStyle(description_width='i…"
      ]
     },
     "metadata": {},
     "output_type": "display_data"
    },
    {
     "data": {
      "application/vnd.jupyter.widget-view+json": {
       "model_id": "",
       "version_major": 2,
       "version_minor": 0
      },
      "text/plain": [
       "HBox(children=(FloatProgress(value=0.0, description='Batch', max=1.0, style=ProgressStyle(description_width='i…"
      ]
     },
     "metadata": {},
     "output_type": "display_data"
    },
    {
     "data": {
      "application/vnd.jupyter.widget-view+json": {
       "model_id": "",
       "version_major": 2,
       "version_minor": 0
      },
      "text/plain": [
       "HBox(children=(FloatProgress(value=0.0, description='Batch', max=1.0, style=ProgressStyle(description_width='i…"
      ]
     },
     "metadata": {},
     "output_type": "display_data"
    },
    {
     "data": {
      "application/vnd.jupyter.widget-view+json": {
       "model_id": "",
       "version_major": 2,
       "version_minor": 0
      },
      "text/plain": [
       "HBox(children=(FloatProgress(value=0.0, description='Batch', max=1.0, style=ProgressStyle(description_width='i…"
      ]
     },
     "metadata": {},
     "output_type": "display_data"
    },
    {
     "data": {
      "application/vnd.jupyter.widget-view+json": {
       "model_id": "",
       "version_major": 2,
       "version_minor": 0
      },
      "text/plain": [
       "HBox(children=(FloatProgress(value=0.0, description='Batch', max=1.0, style=ProgressStyle(description_width='i…"
      ]
     },
     "metadata": {},
     "output_type": "display_data"
    },
    {
     "data": {
      "application/vnd.jupyter.widget-view+json": {
       "model_id": "",
       "version_major": 2,
       "version_minor": 0
      },
      "text/plain": [
       "HBox(children=(FloatProgress(value=0.0, description='Batch', max=1.0, style=ProgressStyle(description_width='i…"
      ]
     },
     "metadata": {},
     "output_type": "display_data"
    },
    {
     "data": {
      "application/vnd.jupyter.widget-view+json": {
       "model_id": "",
       "version_major": 2,
       "version_minor": 0
      },
      "text/plain": [
       "HBox(children=(FloatProgress(value=0.0, description='Batch', max=1.0, style=ProgressStyle(description_width='i…"
      ]
     },
     "metadata": {},
     "output_type": "display_data"
    },
    {
     "data": {
      "application/vnd.jupyter.widget-view+json": {
       "model_id": "",
       "version_major": 2,
       "version_minor": 0
      },
      "text/plain": [
       "HBox(children=(FloatProgress(value=0.0, description='Batch', max=1.0, style=ProgressStyle(description_width='i…"
      ]
     },
     "metadata": {},
     "output_type": "display_data"
    },
    {
     "data": {
      "application/vnd.jupyter.widget-view+json": {
       "model_id": "",
       "version_major": 2,
       "version_minor": 0
      },
      "text/plain": [
       "HBox(children=(FloatProgress(value=0.0, description='Batch', max=1.0, style=ProgressStyle(description_width='i…"
      ]
     },
     "metadata": {},
     "output_type": "display_data"
    },
    {
     "data": {
      "application/vnd.jupyter.widget-view+json": {
       "model_id": "",
       "version_major": 2,
       "version_minor": 0
      },
      "text/plain": [
       "HBox(children=(FloatProgress(value=0.0, description='Batch', max=1.0, style=ProgressStyle(description_width='i…"
      ]
     },
     "metadata": {},
     "output_type": "display_data"
    },
    {
     "data": {
      "application/vnd.jupyter.widget-view+json": {
       "model_id": "",
       "version_major": 2,
       "version_minor": 0
      },
      "text/plain": [
       "HBox(children=(FloatProgress(value=0.0, description='Batch', max=1.0, style=ProgressStyle(description_width='i…"
      ]
     },
     "metadata": {},
     "output_type": "display_data"
    },
    {
     "data": {
      "application/vnd.jupyter.widget-view+json": {
       "model_id": "",
       "version_major": 2,
       "version_minor": 0
      },
      "text/plain": [
       "HBox(children=(FloatProgress(value=0.0, description='Batch', max=1.0, style=ProgressStyle(description_width='i…"
      ]
     },
     "metadata": {},
     "output_type": "display_data"
    },
    {
     "data": {
      "application/vnd.jupyter.widget-view+json": {
       "model_id": "",
       "version_major": 2,
       "version_minor": 0
      },
      "text/plain": [
       "HBox(children=(FloatProgress(value=0.0, description='Batch', max=1.0, style=ProgressStyle(description_width='i…"
      ]
     },
     "metadata": {},
     "output_type": "display_data"
    },
    {
     "data": {
      "application/vnd.jupyter.widget-view+json": {
       "model_id": "",
       "version_major": 2,
       "version_minor": 0
      },
      "text/plain": [
       "HBox(children=(FloatProgress(value=0.0, description='Batch', max=1.0, style=ProgressStyle(description_width='i…"
      ]
     },
     "metadata": {},
     "output_type": "display_data"
    },
    {
     "data": {
      "application/vnd.jupyter.widget-view+json": {
       "model_id": "",
       "version_major": 2,
       "version_minor": 0
      },
      "text/plain": [
       "HBox(children=(FloatProgress(value=0.0, description='Batch', max=1.0, style=ProgressStyle(description_width='i…"
      ]
     },
     "metadata": {},
     "output_type": "display_data"
    },
    {
     "data": {
      "application/vnd.jupyter.widget-view+json": {
       "model_id": "",
       "version_major": 2,
       "version_minor": 0
      },
      "text/plain": [
       "HBox(children=(FloatProgress(value=0.0, description='Batch', max=1.0, style=ProgressStyle(description_width='i…"
      ]
     },
     "metadata": {},
     "output_type": "display_data"
    },
    {
     "data": {
      "application/vnd.jupyter.widget-view+json": {
       "model_id": "",
       "version_major": 2,
       "version_minor": 0
      },
      "text/plain": [
       "HBox(children=(FloatProgress(value=0.0, description='Batch', max=1.0, style=ProgressStyle(description_width='i…"
      ]
     },
     "metadata": {},
     "output_type": "display_data"
    },
    {
     "data": {
      "application/vnd.jupyter.widget-view+json": {
       "model_id": "",
       "version_major": 2,
       "version_minor": 0
      },
      "text/plain": [
       "HBox(children=(FloatProgress(value=0.0, description='Batch', max=1.0, style=ProgressStyle(description_width='i…"
      ]
     },
     "metadata": {},
     "output_type": "display_data"
    },
    {
     "data": {
      "application/vnd.jupyter.widget-view+json": {
       "model_id": "",
       "version_major": 2,
       "version_minor": 0
      },
      "text/plain": [
       "HBox(children=(FloatProgress(value=0.0, description='Batch', max=1.0, style=ProgressStyle(description_width='i…"
      ]
     },
     "metadata": {},
     "output_type": "display_data"
    },
    {
     "data": {
      "application/vnd.jupyter.widget-view+json": {
       "model_id": "",
       "version_major": 2,
       "version_minor": 0
      },
      "text/plain": [
       "HBox(children=(FloatProgress(value=0.0, description='Batch', max=1.0, style=ProgressStyle(description_width='i…"
      ]
     },
     "metadata": {},
     "output_type": "display_data"
    },
    {
     "name": "stdout",
     "output_type": "stream",
     "text": [
      "\n"
     ]
    }
   ],
   "source": [
    "best_model = model.clone()\n",
    "best_model.cache_theta=True\n",
    "\n",
    "best_model.regularizers['SparsePhiRegularizer_ngram'].tau = -100\n",
    "best_model.regularizers['SparsePhiRegularizer_info'].tau = -1\n",
    "best_model.regularizers['SparseThetaRegularizer'].tau = -10\n",
    "best_model.regularizers['DecorrelatorPhiRegularizer_ngram'].tau = 10\n",
    "best_model.regularizers['DecorrelatorPhiRegularizer_info'].tau = 0.1\n",
    "\n",
    "best_model.fit_offline(batch_vectorizer=batch_vectorizer, num_collection_passes=40)"
   ]
  },
  {
   "cell_type": "code",
   "execution_count": 25,
   "metadata": {},
   "outputs": [
    {
     "data": {
      "image/png": "[encoded data removed]",
      "text/plain": [
       "<Figure size 432x288 with 1 Axes>"
      ]
     },
     "metadata": {
      "needs_background": "light"
     },
     "output_type": "display_data"
    }
   ],
   "source": [
    "perplexity_plot_ngram(best_model)"
   ]
  },
  {
   "cell_type": "code",
   "execution_count": 26,
   "metadata": {
    "scrolled": true
   },
   "outputs": [
    {
     "data": {
      "text/plain": [
       "{'topic_0': 6362.49169921875,\n",
       " 'topic_1': 7572.3662109375,\n",
       " 'topic_2': 6427.6533203125,\n",
       " 'topic_3': 5557.68798828125,\n",
       " 'topic_4': 6002.2216796875,\n",
       " 'topic_5': 5364.662109375,\n",
       " 'topic_6': 7184.74658203125,\n",
       " 'topic_7': 6413.65625,\n",
       " 'topic_8': 6064.677734375,\n",
       " 'topic_9': 8494.8720703125,\n",
       " 'topic_10': 5974.36669921875,\n",
       " 'topic_11': 5762.3623046875,\n",
       " 'topic_12': 6501.32275390625,\n",
       " 'topic_13': 6732.63232421875,\n",
       " 'topic_14': 5919.27880859375}"
      ]
     },
     "execution_count": 26,
     "metadata": {},
     "output_type": "execute_result"
    }
   ],
   "source": [
    "best_model.score_tracker['TopicMassPhiScore'].last_topic_mass"
   ]
  },
  {
   "cell_type": "code",
   "execution_count": 27,
   "metadata": {},
   "outputs": [],
   "source": [
    "topic_model = TopicModel(best_model)"
   ]
  },
  {
   "cell_type": "code",
   "execution_count": 28,
   "metadata": {},
   "outputs": [
    {
     "data": {
      "text/html": [
       "<div>\n",
       "<style scoped>\n",
       "    .dataframe tbody tr th:only-of-type {\n",
       "        vertical-align: middle;\n",
       "    }\n",
       "\n",
       "    .dataframe tbody tr th {\n",
       "        vertical-align: top;\n",
       "    }\n",
       "\n",
       "    .dataframe thead th {\n",
       "        text-align: right;\n",
       "    }\n",
       "</style>\n",
       "<table border=\"1\" class=\"dataframe\">\n",
       "  <thead>\n",
       "    <tr style=\"text-align: right;\">\n",
       "      <th></th>\n",
       "      <th></th>\n",
       "      <th>last_value</th>\n",
       "    </tr>\n",
       "    <tr>\n",
       "      <th>model_id</th>\n",
       "      <th>score_name</th>\n",
       "      <th></th>\n",
       "    </tr>\n",
       "  </thead>\n",
       "  <tbody>\n",
       "    <tr>\n",
       "      <th rowspan=\"8\" valign=\"top\">--20h23m07s_13d06m2020y---</th>\n",
       "      <th>PerlexityScore_ngram</th>\n",
       "      <td>65.0067</td>\n",
       "    </tr>\n",
       "    <tr>\n",
       "      <th>PerlexityScore_info</th>\n",
       "      <td>28.9266</td>\n",
       "    </tr>\n",
       "    <tr>\n",
       "      <th>SparsityPhiScore_ngram</th>\n",
       "      <td>0.911077</td>\n",
       "    </tr>\n",
       "    <tr>\n",
       "      <th>SparsityPhiScore_info</th>\n",
       "      <td>0.225731</td>\n",
       "    </tr>\n",
       "    <tr>\n",
       "      <th>SparsityThetaScore</th>\n",
       "      <td>0.947447</td>\n",
       "    </tr>\n",
       "    <tr>\n",
       "      <th>TopTokensScore.average_coherence</th>\n",
       "      <td>0</td>\n",
       "    </tr>\n",
       "    <tr>\n",
       "      <th>TopTokensScore.num_tokens</th>\n",
       "      <td>150</td>\n",
       "    </tr>\n",
       "    <tr>\n",
       "      <th>TopicMassPhiScore</th>\n",
       "      <td>1</td>\n",
       "    </tr>\n",
       "  </tbody>\n",
       "</table>\n",
       "</div>"
      ],
      "text/plain": [
       "                                                            last_value\n",
       "model_id                   score_name                                 \n",
       "--20h23m07s_13d06m2020y--- PerlexityScore_ngram                65.0067\n",
       "                           PerlexityScore_info                 28.9266\n",
       "                           SparsityPhiScore_ngram             0.911077\n",
       "                           SparsityPhiScore_info              0.225731\n",
       "                           SparsityThetaScore                 0.947447\n",
       "                           TopTokensScore.average_coherence          0\n",
       "                           TopTokensScore.num_tokens               150\n",
       "                           TopicMassPhiScore                         1"
      ]
     },
     "execution_count": 28,
     "metadata": {},
     "output_type": "execute_result"
    }
   ],
   "source": [
    "topic_model.describe_scores()"
   ]
  },
  {
   "cell_type": "code",
   "execution_count": 29,
   "metadata": {
    "scrolled": true
   },
   "outputs": [
    {
     "data": {
      "text/html": [
       "<style>\n",
       "    div.output_html {\n",
       "        white-space: nowrap;\n",
       "    }\n",
       "    div .output_subarea > pre {\n",
       "        white-space: pre;\n",
       "        word-wrap: normal;\n",
       "    }\n",
       "    div .output_stdout > pre {\n",
       "        white-space: pre-wrap !important;\n",
       "        word-wrap:  break-word !important;\n",
       "    }\n",
       "    </style>"
      ],
      "text/plain": [
       "<IPython.core.display.HTML object>"
      ]
     },
     "metadata": {},
     "output_type": "display_data"
    },
    {
     "data": {
      "text/html": [
       "<style  type=\"text/css\" >\n",
       "</style><table id=\"T_8d74fe8e_ad9a_11ea_9e3d_5bde62e03ae7\" style='display:inline'><thead>    <tr>        <th class=\"blank\" ></th>        <th class=\"blank level0\" ></th>        <th class=\"col_heading level0 col0\" >topic_0</th>    </tr>    <tr>        <th class=\"index_name level0\" >modality</th>        <th class=\"index_name level1\" >token</th>        <th class=\"blank\" ></th>    </tr></thead><tbody>\n",
       "                <tr>\n",
       "                        <th id=\"T_8d74fe8e_ad9a_11ea_9e3d_5bde62e03ae7level0_row0\" class=\"row_heading level0 row0\" rowspan=10>@info</th>\n",
       "                        <th id=\"T_8d74fe8e_ad9a_11ea_9e3d_5bde62e03ae7level1_row0\" class=\"row_heading level1 row0\" >&РЕЗУЛЬТАТ_Да,_четко</th>\n",
       "                        <td id=\"T_8d74fe8e_ad9a_11ea_9e3d_5bde62e03ae7row0_col0\" class=\"data row0 col0\" >6.918790</td>\n",
       "            </tr>\n",
       "            <tr>\n",
       "                                <th id=\"T_8d74fe8e_ad9a_11ea_9e3d_5bde62e03ae7level1_row1\" class=\"row_heading level1 row1\" >&ТИП_ЦЕЛИ_другое</th>\n",
       "                        <td id=\"T_8d74fe8e_ad9a_11ea_9e3d_5bde62e03ae7row1_col0\" class=\"data row1 col0\" >5.004830</td>\n",
       "            </tr>\n",
       "            <tr>\n",
       "                                <th id=\"T_8d74fe8e_ad9a_11ea_9e3d_5bde62e03ae7level1_row2\" class=\"row_heading level1 row2\" >&ПРЕГРАДЫ_Не_вижу_преград</th>\n",
       "                        <td id=\"T_8d74fe8e_ad9a_11ea_9e3d_5bde62e03ae7row2_col0\" class=\"data row2 col0\" >4.768530</td>\n",
       "            </tr>\n",
       "            <tr>\n",
       "                                <th id=\"T_8d74fe8e_ad9a_11ea_9e3d_5bde62e03ae7level1_row3\" class=\"row_heading level1 row3\" >&ПРЕГРАДЫ_есть_преграды</th>\n",
       "                        <td id=\"T_8d74fe8e_ad9a_11ea_9e3d_5bde62e03ae7row3_col0\" class=\"data row3 col0\" >4.653620</td>\n",
       "            </tr>\n",
       "            <tr>\n",
       "                                <th id=\"T_8d74fe8e_ad9a_11ea_9e3d_5bde62e03ae7level1_row4\" class=\"row_heading level1 row4\" >&ПЕРВЫЙ_ШАГ_знаю_с_чего_начать</th>\n",
       "                        <td id=\"T_8d74fe8e_ad9a_11ea_9e3d_5bde62e03ae7row4_col0\" class=\"data row4 col0\" >3.755490</td>\n",
       "            </tr>\n",
       "            <tr>\n",
       "                                <th id=\"T_8d74fe8e_ad9a_11ea_9e3d_5bde62e03ae7level1_row5\" class=\"row_heading level1 row5\" >&ТИП_ЦЕЛИ_Развить_имеющиеся_знания_и_навыки</th>\n",
       "                        <td id=\"T_8d74fe8e_ad9a_11ea_9e3d_5bde62e03ae7row5_col0\" class=\"data row5 col0\" >3.522690</td>\n",
       "            </tr>\n",
       "            <tr>\n",
       "                                <th id=\"T_8d74fe8e_ad9a_11ea_9e3d_5bde62e03ae7level1_row6\" class=\"row_heading level1 row6\" >&ТИП_ЦЕЛИ_Получить_знания_в_новой_области</th>\n",
       "                        <td id=\"T_8d74fe8e_ad9a_11ea_9e3d_5bde62e03ae7row6_col0\" class=\"data row6 col0\" >3.228830</td>\n",
       "            </tr>\n",
       "            <tr>\n",
       "                                <th id=\"T_8d74fe8e_ad9a_11ea_9e3d_5bde62e03ae7level1_row7\" class=\"row_heading level1 row7\" >&ТИП_ЦЕЛИ_Приобрести_новые_навыки</th>\n",
       "                        <td id=\"T_8d74fe8e_ad9a_11ea_9e3d_5bde62e03ae7row7_col0\" class=\"data row7 col0\" >3.138370</td>\n",
       "            </tr>\n",
       "            <tr>\n",
       "                                <th id=\"T_8d74fe8e_ad9a_11ea_9e3d_5bde62e03ae7level1_row8\" class=\"row_heading level1 row8\" >&ОСНОВНОЙ_ВИД_ДЕЙТЕЛЬНОСТИ_Работаю_в_организации,_предприятии</th>\n",
       "                        <td id=\"T_8d74fe8e_ad9a_11ea_9e3d_5bde62e03ae7row8_col0\" class=\"data row8 col0\" >3.012520</td>\n",
       "            </tr>\n",
       "            <tr>\n",
       "                                <th id=\"T_8d74fe8e_ad9a_11ea_9e3d_5bde62e03ae7level1_row9\" class=\"row_heading level1 row9\" >&РЕЗУЛЬТАТ_Да,_нечетко</th>\n",
       "                        <td id=\"T_8d74fe8e_ad9a_11ea_9e3d_5bde62e03ae7row9_col0\" class=\"data row9 col0\" >2.834780</td>\n",
       "            </tr>\n",
       "    </tbody></table><style  type=\"text/css\" >\n",
       "</style><table id=\"T_8d76f54a_ad9a_11ea_9e3d_5bde62e03ae7\" style='display:inline'><thead>    <tr>        <th class=\"blank\" ></th>        <th class=\"blank level0\" ></th>        <th class=\"col_heading level0 col0\" >topic_0</th>    </tr>    <tr>        <th class=\"index_name level0\" >modality</th>        <th class=\"index_name level1\" >token</th>        <th class=\"blank\" ></th>    </tr></thead><tbody>\n",
       "                <tr>\n",
       "                        <th id=\"T_8d76f54a_ad9a_11ea_9e3d_5bde62e03ae7level0_row0\" class=\"row_heading level0 row0\" rowspan=10>@ngram</th>\n",
       "                        <th id=\"T_8d76f54a_ad9a_11ea_9e3d_5bde62e03ae7level1_row0\" class=\"row_heading level1 row0\" >управление</th>\n",
       "                        <td id=\"T_8d76f54a_ad9a_11ea_9e3d_5bde62e03ae7row0_col0\" class=\"data row0 col0\" >2.819000</td>\n",
       "            </tr>\n",
       "            <tr>\n",
       "                                <th id=\"T_8d76f54a_ad9a_11ea_9e3d_5bde62e03ae7level1_row1\" class=\"row_heading level1 row1\" >научиться</th>\n",
       "                        <td id=\"T_8d76f54a_ad9a_11ea_9e3d_5bde62e03ae7row1_col0\" class=\"data row1 col0\" >1.936480</td>\n",
       "            </tr>\n",
       "            <tr>\n",
       "                                <th id=\"T_8d76f54a_ad9a_11ea_9e3d_5bde62e03ae7level1_row2\" class=\"row_heading level1 row2\" >проектный</th>\n",
       "                        <td id=\"T_8d76f54a_ad9a_11ea_9e3d_5bde62e03ae7row2_col0\" class=\"data row2 col0\" >1.719900</td>\n",
       "            </tr>\n",
       "            <tr>\n",
       "                                <th id=\"T_8d76f54a_ad9a_11ea_9e3d_5bde62e03ae7level1_row3\" class=\"row_heading level1 row3\" >освоение</th>\n",
       "                        <td id=\"T_8d76f54a_ad9a_11ea_9e3d_5bde62e03ae7row3_col0\" class=\"data row3 col0\" >1.526050</td>\n",
       "            </tr>\n",
       "            <tr>\n",
       "                                <th id=\"T_8d76f54a_ad9a_11ea_9e3d_5bde62e03ae7level1_row4\" class=\"row_heading level1 row4\" >цифровой</th>\n",
       "                        <td id=\"T_8d76f54a_ad9a_11ea_9e3d_5bde62e03ae7row4_col0\" class=\"data row4 col0\" >1.483310</td>\n",
       "            </tr>\n",
       "            <tr>\n",
       "                                <th id=\"T_8d76f54a_ad9a_11ea_9e3d_5bde62e03ae7level1_row5\" class=\"row_heading level1 row5\" >управлять</th>\n",
       "                        <td id=\"T_8d76f54a_ad9a_11ea_9e3d_5bde62e03ae7row5_col0\" class=\"data row5 col0\" >1.397880</td>\n",
       "            </tr>\n",
       "            <tr>\n",
       "                                <th id=\"T_8d76f54a_ad9a_11ea_9e3d_5bde62e03ae7level1_row6\" class=\"row_heading level1 row6\" >образование</th>\n",
       "                        <td id=\"T_8d76f54a_ad9a_11ea_9e3d_5bde62e03ae7row6_col0\" class=\"data row6 col0\" >1.277030</td>\n",
       "            </tr>\n",
       "            <tr>\n",
       "                                <th id=\"T_8d76f54a_ad9a_11ea_9e3d_5bde62e03ae7level1_row7\" class=\"row_heading level1 row7\" >компетенция</th>\n",
       "                        <td id=\"T_8d76f54a_ad9a_11ea_9e3d_5bde62e03ae7row7_col0\" class=\"data row7 col0\" >1.196380</td>\n",
       "            </tr>\n",
       "            <tr>\n",
       "                                <th id=\"T_8d76f54a_ad9a_11ea_9e3d_5bde62e03ae7level1_row8\" class=\"row_heading level1 row8\" >профессия</th>\n",
       "                        <td id=\"T_8d76f54a_ad9a_11ea_9e3d_5bde62e03ae7row8_col0\" class=\"data row8 col0\" >1.075890</td>\n",
       "            </tr>\n",
       "            <tr>\n",
       "                                <th id=\"T_8d76f54a_ad9a_11ea_9e3d_5bde62e03ae7level1_row9\" class=\"row_heading level1 row9\" >эффективный</th>\n",
       "                        <td id=\"T_8d76f54a_ad9a_11ea_9e3d_5bde62e03ae7row9_col0\" class=\"data row9 col0\" >0.985920</td>\n",
       "            </tr>\n",
       "    </tbody></table>"
      ]
     },
     "metadata": {},
     "output_type": "display_data"
    },
    {
     "data": {
      "text/html": [
       "<style  type=\"text/css\" >\n",
       "</style><table id=\"T_8d7f99f2_ad9a_11ea_9e3d_5bde62e03ae7\" style='display:inline'><thead>    <tr>        <th class=\"blank\" ></th>        <th class=\"blank level0\" ></th>        <th class=\"col_heading level0 col0\" >topic_1</th>    </tr>    <tr>        <th class=\"index_name level0\" >modality</th>        <th class=\"index_name level1\" >token</th>        <th class=\"blank\" ></th>    </tr></thead><tbody>\n",
       "                <tr>\n",
       "                        <th id=\"T_8d7f99f2_ad9a_11ea_9e3d_5bde62e03ae7level0_row0\" class=\"row_heading level0 row0\" rowspan=10>@info</th>\n",
       "                        <th id=\"T_8d7f99f2_ad9a_11ea_9e3d_5bde62e03ae7level1_row0\" class=\"row_heading level1 row0\" >&РЕЗУЛЬТАТ_Да,_четко</th>\n",
       "                        <td id=\"T_8d7f99f2_ad9a_11ea_9e3d_5bde62e03ae7row0_col0\" class=\"data row0 col0\" >9.081000</td>\n",
       "            </tr>\n",
       "            <tr>\n",
       "                                <th id=\"T_8d7f99f2_ad9a_11ea_9e3d_5bde62e03ae7level1_row1\" class=\"row_heading level1 row1\" >&ТИП_ЦЕЛИ_другое</th>\n",
       "                        <td id=\"T_8d7f99f2_ad9a_11ea_9e3d_5bde62e03ae7row1_col0\" class=\"data row1 col0\" >5.841500</td>\n",
       "            </tr>\n",
       "            <tr>\n",
       "                                <th id=\"T_8d7f99f2_ad9a_11ea_9e3d_5bde62e03ae7level1_row2\" class=\"row_heading level1 row2\" >&ПРЕГРАДЫ_Не_вижу_преград</th>\n",
       "                        <td id=\"T_8d7f99f2_ad9a_11ea_9e3d_5bde62e03ae7row2_col0\" class=\"data row2 col0\" >5.516720</td>\n",
       "            </tr>\n",
       "            <tr>\n",
       "                                <th id=\"T_8d7f99f2_ad9a_11ea_9e3d_5bde62e03ae7level1_row3\" class=\"row_heading level1 row3\" >&ПЕРВЫЙ_ШАГ_знаю_с_чего_начать</th>\n",
       "                        <td id=\"T_8d7f99f2_ad9a_11ea_9e3d_5bde62e03ae7row3_col0\" class=\"data row3 col0\" >3.936790</td>\n",
       "            </tr>\n",
       "            <tr>\n",
       "                                <th id=\"T_8d7f99f2_ad9a_11ea_9e3d_5bde62e03ae7level1_row4\" class=\"row_heading level1 row4\" >&ПРЕГРАДЫ_есть_преграды</th>\n",
       "                        <td id=\"T_8d7f99f2_ad9a_11ea_9e3d_5bde62e03ae7row4_col0\" class=\"data row4 col0\" >3.766280</td>\n",
       "            </tr>\n",
       "            <tr>\n",
       "                                <th id=\"T_8d7f99f2_ad9a_11ea_9e3d_5bde62e03ae7level1_row5\" class=\"row_heading level1 row5\" >&ТИП_ЦЕЛИ_Развить_имеющиеся_знания_и_навыки</th>\n",
       "                        <td id=\"T_8d7f99f2_ad9a_11ea_9e3d_5bde62e03ae7row5_col0\" class=\"data row5 col0\" >3.587710</td>\n",
       "            </tr>\n",
       "            <tr>\n",
       "                                <th id=\"T_8d7f99f2_ad9a_11ea_9e3d_5bde62e03ae7level1_row6\" class=\"row_heading level1 row6\" >&ТИП_ЦЕЛИ_Получить_знания_в_новой_области</th>\n",
       "                        <td id=\"T_8d7f99f2_ad9a_11ea_9e3d_5bde62e03ae7row6_col0\" class=\"data row6 col0\" >3.319150</td>\n",
       "            </tr>\n",
       "            <tr>\n",
       "                                <th id=\"T_8d7f99f2_ad9a_11ea_9e3d_5bde62e03ae7level1_row7\" class=\"row_heading level1 row7\" >&ТИП_ЦЕЛИ_Приобрести_новые_навыки</th>\n",
       "                        <td id=\"T_8d7f99f2_ad9a_11ea_9e3d_5bde62e03ae7row7_col0\" class=\"data row7 col0\" >3.231620</td>\n",
       "            </tr>\n",
       "            <tr>\n",
       "                                <th id=\"T_8d7f99f2_ad9a_11ea_9e3d_5bde62e03ae7level1_row8\" class=\"row_heading level1 row8\" >&ОСНОВНОЙ_ВИД_ДЕЙТЕЛЬНОСТИ_Работаю_в_организации,_предприятии</th>\n",
       "                        <td id=\"T_8d7f99f2_ad9a_11ea_9e3d_5bde62e03ae7row8_col0\" class=\"data row8 col0\" >2.673320</td>\n",
       "            </tr>\n",
       "            <tr>\n",
       "                                <th id=\"T_8d7f99f2_ad9a_11ea_9e3d_5bde62e03ae7level1_row9\" class=\"row_heading level1 row9\" >&ВРЕМЕННЫЕ_ГРАНИЦЫ_Нет_жестких_сроков</th>\n",
       "                        <td id=\"T_8d7f99f2_ad9a_11ea_9e3d_5bde62e03ae7row9_col0\" class=\"data row9 col0\" >2.318340</td>\n",
       "            </tr>\n",
       "    </tbody></table><style  type=\"text/css\" >\n",
       "</style><table id=\"T_8d81acba_ad9a_11ea_9e3d_5bde62e03ae7\" style='display:inline'><thead>    <tr>        <th class=\"blank\" ></th>        <th class=\"blank level0\" ></th>        <th class=\"col_heading level0 col0\" >topic_1</th>    </tr>    <tr>        <th class=\"index_name level0\" >modality</th>        <th class=\"index_name level1\" >token</th>        <th class=\"blank\" ></th>    </tr></thead><tbody>\n",
       "                <tr>\n",
       "                        <th id=\"T_8d81acba_ad9a_11ea_9e3d_5bde62e03ae7level0_row0\" class=\"row_heading level0 row0\" rowspan=10>@ngram</th>\n",
       "                        <th id=\"T_8d81acba_ad9a_11ea_9e3d_5bde62e03ae7level1_row0\" class=\"row_heading level1 row0\" >стать</th>\n",
       "                        <td id=\"T_8d81acba_ad9a_11ea_9e3d_5bde62e03ae7row0_col0\" class=\"data row0 col0\" >7.141790</td>\n",
       "            </tr>\n",
       "            <tr>\n",
       "                                <th id=\"T_8d81acba_ad9a_11ea_9e3d_5bde62e03ae7level1_row1\" class=\"row_heading level1 row1\" >специалист</th>\n",
       "                        <td id=\"T_8d81acba_ad9a_11ea_9e3d_5bde62e03ae7row1_col0\" class=\"data row1 col0\" >3.888540</td>\n",
       "            </tr>\n",
       "            <tr>\n",
       "                                <th id=\"T_8d81acba_ad9a_11ea_9e3d_5bde62e03ae7level1_row2\" class=\"row_heading level1 row2\" >кругозор</th>\n",
       "                        <td id=\"T_8d81acba_ad9a_11ea_9e3d_5bde62e03ae7row2_col0\" class=\"data row2 col0\" >3.552210</td>\n",
       "            </tr>\n",
       "            <tr>\n",
       "                                <th id=\"T_8d81acba_ad9a_11ea_9e3d_5bde62e03ae7level1_row3\" class=\"row_heading level1 row3\" >хороший</th>\n",
       "                        <td id=\"T_8d81acba_ad9a_11ea_9e3d_5bde62e03ae7row3_col0\" class=\"data row3 col0\" >3.478260</td>\n",
       "            </tr>\n",
       "            <tr>\n",
       "                                <th id=\"T_8d81acba_ad9a_11ea_9e3d_5bde62e03ae7level1_row4\" class=\"row_heading level1 row4\" >диссертация</th>\n",
       "                        <td id=\"T_8d81acba_ad9a_11ea_9e3d_5bde62e03ae7row4_col0\" class=\"data row4 col0\" >2.655060</td>\n",
       "            </tr>\n",
       "            <tr>\n",
       "                                <th id=\"T_8d81acba_ad9a_11ea_9e3d_5bde62e03ae7level1_row5\" class=\"row_heading level1 row5\" >стать_хороший</th>\n",
       "                        <td id=\"T_8d81acba_ad9a_11ea_9e3d_5bde62e03ae7row5_col0\" class=\"data row5 col0\" >2.487540</td>\n",
       "            </tr>\n",
       "            <tr>\n",
       "                                <th id=\"T_8d81acba_ad9a_11ea_9e3d_5bde62e03ae7level1_row6\" class=\"row_heading level1 row6\" >расширение</th>\n",
       "                        <td id=\"T_8d81acba_ad9a_11ea_9e3d_5bde62e03ae7row6_col0\" class=\"data row6 col0\" >2.381140</td>\n",
       "            </tr>\n",
       "            <tr>\n",
       "                                <th id=\"T_8d81acba_ad9a_11ea_9e3d_5bde62e03ae7level1_row7\" class=\"row_heading level1 row7\" >расширение_кругозор</th>\n",
       "                        <td id=\"T_8d81acba_ad9a_11ea_9e3d_5bde62e03ae7row7_col0\" class=\"data row7 col0\" >2.152180</td>\n",
       "            </tr>\n",
       "            <tr>\n",
       "                                <th id=\"T_8d81acba_ad9a_11ea_9e3d_5bde62e03ae7level1_row8\" class=\"row_heading level1 row8\" >свой</th>\n",
       "                        <td id=\"T_8d81acba_ad9a_11ea_9e3d_5bde62e03ae7row8_col0\" class=\"data row8 col0\" >1.781680</td>\n",
       "            </tr>\n",
       "            <tr>\n",
       "                                <th id=\"T_8d81acba_ad9a_11ea_9e3d_5bde62e03ae7level1_row9\" class=\"row_heading level1 row9\" >защитить</th>\n",
       "                        <td id=\"T_8d81acba_ad9a_11ea_9e3d_5bde62e03ae7row9_col0\" class=\"data row9 col0\" >1.761440</td>\n",
       "            </tr>\n",
       "    </tbody></table>"
      ]
     },
     "metadata": {},
     "output_type": "display_data"
    },
    {
     "data": {
      "text/html": [
       "<style  type=\"text/css\" >\n",
       "</style><table id=\"T_8d8871d0_ad9a_11ea_9e3d_5bde62e03ae7\" style='display:inline'><thead>    <tr>        <th class=\"blank\" ></th>        <th class=\"blank level0\" ></th>        <th class=\"col_heading level0 col0\" >topic_2</th>    </tr>    <tr>        <th class=\"index_name level0\" >modality</th>        <th class=\"index_name level1\" >token</th>        <th class=\"blank\" ></th>    </tr></thead><tbody>\n",
       "                <tr>\n",
       "                        <th id=\"T_8d8871d0_ad9a_11ea_9e3d_5bde62e03ae7level0_row0\" class=\"row_heading level0 row0\" rowspan=10>@info</th>\n",
       "                        <th id=\"T_8d8871d0_ad9a_11ea_9e3d_5bde62e03ae7level1_row0\" class=\"row_heading level1 row0\" >&РЕЗУЛЬТАТ_Да,_четко</th>\n",
       "                        <td id=\"T_8d8871d0_ad9a_11ea_9e3d_5bde62e03ae7row0_col0\" class=\"data row0 col0\" >10.570650</td>\n",
       "            </tr>\n",
       "            <tr>\n",
       "                                <th id=\"T_8d8871d0_ad9a_11ea_9e3d_5bde62e03ae7level1_row1\" class=\"row_heading level1 row1\" >&ПРЕГРАДЫ_Не_вижу_преград</th>\n",
       "                        <td id=\"T_8d8871d0_ad9a_11ea_9e3d_5bde62e03ae7row1_col0\" class=\"data row1 col0\" >6.507630</td>\n",
       "            </tr>\n",
       "            <tr>\n",
       "                                <th id=\"T_8d8871d0_ad9a_11ea_9e3d_5bde62e03ae7level1_row2\" class=\"row_heading level1 row2\" >&ТИП_ЦЕЛИ_Развить_имеющиеся_знания_и_навыки</th>\n",
       "                        <td id=\"T_8d8871d0_ad9a_11ea_9e3d_5bde62e03ae7row2_col0\" class=\"data row2 col0\" >4.092310</td>\n",
       "            </tr>\n",
       "            <tr>\n",
       "                                <th id=\"T_8d8871d0_ad9a_11ea_9e3d_5bde62e03ae7level1_row3\" class=\"row_heading level1 row3\" >&ПЕРВЫЙ_ШАГ_знаю_с_чего_начать</th>\n",
       "                        <td id=\"T_8d8871d0_ad9a_11ea_9e3d_5bde62e03ae7row3_col0\" class=\"data row3 col0\" >3.964970</td>\n",
       "            </tr>\n",
       "            <tr>\n",
       "                                <th id=\"T_8d8871d0_ad9a_11ea_9e3d_5bde62e03ae7level1_row4\" class=\"row_heading level1 row4\" >&ТИП_ЦЕЛИ_другое</th>\n",
       "                        <td id=\"T_8d8871d0_ad9a_11ea_9e3d_5bde62e03ae7row4_col0\" class=\"data row4 col0\" >3.881470</td>\n",
       "            </tr>\n",
       "            <tr>\n",
       "                                <th id=\"T_8d8871d0_ad9a_11ea_9e3d_5bde62e03ae7level1_row5\" class=\"row_heading level1 row5\" >&ТИП_ЦЕЛИ_Приобрести_новые_навыки</th>\n",
       "                        <td id=\"T_8d8871d0_ad9a_11ea_9e3d_5bde62e03ae7row5_col0\" class=\"data row5 col0\" >3.711420</td>\n",
       "            </tr>\n",
       "            <tr>\n",
       "                                <th id=\"T_8d8871d0_ad9a_11ea_9e3d_5bde62e03ae7level1_row6\" class=\"row_heading level1 row6\" >&ВРЕМЕННЫЕ_ГРАНИЦЫ_Нет_жестких_сроков</th>\n",
       "                        <td id=\"T_8d8871d0_ad9a_11ea_9e3d_5bde62e03ae7row6_col0\" class=\"data row6 col0\" >3.702820</td>\n",
       "            </tr>\n",
       "            <tr>\n",
       "                                <th id=\"T_8d8871d0_ad9a_11ea_9e3d_5bde62e03ae7level1_row7\" class=\"row_heading level1 row7\" >&ТИП_ЦЕЛИ_Получить_знания_в_новой_области</th>\n",
       "                        <td id=\"T_8d8871d0_ad9a_11ea_9e3d_5bde62e03ae7row7_col0\" class=\"data row7 col0\" >3.418030</td>\n",
       "            </tr>\n",
       "            <tr>\n",
       "                                <th id=\"T_8d8871d0_ad9a_11ea_9e3d_5bde62e03ae7level1_row8\" class=\"row_heading level1 row8\" >&ПРЕГРАДЫ_есть_преграды</th>\n",
       "                        <td id=\"T_8d8871d0_ad9a_11ea_9e3d_5bde62e03ae7row8_col0\" class=\"data row8 col0\" >3.404330</td>\n",
       "            </tr>\n",
       "            <tr>\n",
       "                                <th id=\"T_8d8871d0_ad9a_11ea_9e3d_5bde62e03ae7level1_row9\" class=\"row_heading level1 row9\" >&ОСНОВНОЙ_ВИД_ДЕЙТЕЛЬНОСТИ_Работаю_в_организации,_предприятии</th>\n",
       "                        <td id=\"T_8d8871d0_ad9a_11ea_9e3d_5bde62e03ae7row9_col0\" class=\"data row9 col0\" >3.259730</td>\n",
       "            </tr>\n",
       "    </tbody></table><style  type=\"text/css\" >\n",
       "</style><table id=\"T_8d89a1c2_ad9a_11ea_9e3d_5bde62e03ae7\" style='display:inline'><thead>    <tr>        <th class=\"blank\" ></th>        <th class=\"blank level0\" ></th>        <th class=\"col_heading level0 col0\" >topic_2</th>    </tr>    <tr>        <th class=\"index_name level0\" >modality</th>        <th class=\"index_name level1\" >token</th>        <th class=\"blank\" ></th>    </tr></thead><tbody>\n",
       "                <tr>\n",
       "                        <th id=\"T_8d89a1c2_ad9a_11ea_9e3d_5bde62e03ae7level0_row0\" class=\"row_heading level0 row0\" rowspan=10>@ngram</th>\n",
       "                        <th id=\"T_8d89a1c2_ad9a_11ea_9e3d_5bde62e03ae7level1_row0\" class=\"row_heading level1 row0\" >повышение</th>\n",
       "                        <td id=\"T_8d89a1c2_ad9a_11ea_9e3d_5bde62e03ae7row0_col0\" class=\"data row0 col0\" >15.695430</td>\n",
       "            </tr>\n",
       "            <tr>\n",
       "                                <th id=\"T_8d89a1c2_ad9a_11ea_9e3d_5bde62e03ae7level1_row1\" class=\"row_heading level1 row1\" >профессиональный</th>\n",
       "                        <td id=\"T_8d89a1c2_ad9a_11ea_9e3d_5bde62e03ae7row1_col0\" class=\"data row1 col0\" >7.832970</td>\n",
       "            </tr>\n",
       "            <tr>\n",
       "                                <th id=\"T_8d89a1c2_ad9a_11ea_9e3d_5bde62e03ae7level1_row2\" class=\"row_heading level1 row2\" >уровень</th>\n",
       "                        <td id=\"T_8d89a1c2_ad9a_11ea_9e3d_5bde62e03ae7row2_col0\" class=\"data row2 col0\" >7.211460</td>\n",
       "            </tr>\n",
       "            <tr>\n",
       "                                <th id=\"T_8d89a1c2_ad9a_11ea_9e3d_5bde62e03ae7level1_row3\" class=\"row_heading level1 row3\" >повышение_уровень</th>\n",
       "                        <td id=\"T_8d89a1c2_ad9a_11ea_9e3d_5bde62e03ae7row3_col0\" class=\"data row3 col0\" >4.294230</td>\n",
       "            </tr>\n",
       "            <tr>\n",
       "                                <th id=\"T_8d89a1c2_ad9a_11ea_9e3d_5bde62e03ae7level1_row4\" class=\"row_heading level1 row4\" >компетенция</th>\n",
       "                        <td id=\"T_8d89a1c2_ad9a_11ea_9e3d_5bde62e03ae7row4_col0\" class=\"data row4 col0\" >4.085830</td>\n",
       "            </tr>\n",
       "            <tr>\n",
       "                                <th id=\"T_8d89a1c2_ad9a_11ea_9e3d_5bde62e03ae7level1_row5\" class=\"row_heading level1 row5\" >квалификация</th>\n",
       "                        <td id=\"T_8d89a1c2_ad9a_11ea_9e3d_5bde62e03ae7row5_col0\" class=\"data row5 col0\" >3.535970</td>\n",
       "            </tr>\n",
       "            <tr>\n",
       "                                <th id=\"T_8d89a1c2_ad9a_11ea_9e3d_5bde62e03ae7level1_row6\" class=\"row_heading level1 row6\" >повышение_профессиональный</th>\n",
       "                        <td id=\"T_8d89a1c2_ad9a_11ea_9e3d_5bde62e03ae7row6_col0\" class=\"data row6 col0\" >3.192910</td>\n",
       "            </tr>\n",
       "            <tr>\n",
       "                                <th id=\"T_8d89a1c2_ad9a_11ea_9e3d_5bde62e03ae7level1_row7\" class=\"row_heading level1 row7\" >повышение_квалификация</th>\n",
       "                        <td id=\"T_8d89a1c2_ad9a_11ea_9e3d_5bde62e03ae7row7_col0\" class=\"data row7 col0\" >2.780940</td>\n",
       "            </tr>\n",
       "            <tr>\n",
       "                                <th id=\"T_8d89a1c2_ad9a_11ea_9e3d_5bde62e03ae7level1_row8\" class=\"row_heading level1 row8\" >профессиональный_уровень</th>\n",
       "                        <td id=\"T_8d89a1c2_ad9a_11ea_9e3d_5bde62e03ae7row8_col0\" class=\"data row8 col0\" >2.007290</td>\n",
       "            </tr>\n",
       "            <tr>\n",
       "                                <th id=\"T_8d89a1c2_ad9a_11ea_9e3d_5bde62e03ae7level1_row9\" class=\"row_heading level1 row9\" >компетентность</th>\n",
       "                        <td id=\"T_8d89a1c2_ad9a_11ea_9e3d_5bde62e03ae7row9_col0\" class=\"data row9 col0\" >1.750100</td>\n",
       "            </tr>\n",
       "    </tbody></table>"
      ]
     },
     "metadata": {},
     "output_type": "display_data"
    },
    {
     "data": {
      "text/html": [
       "<style  type=\"text/css\" >\n",
       "</style><table id=\"T_8d9028bc_ad9a_11ea_9e3d_5bde62e03ae7\" style='display:inline'><thead>    <tr>        <th class=\"blank\" ></th>        <th class=\"blank level0\" ></th>        <th class=\"col_heading level0 col0\" >topic_3</th>    </tr>    <tr>        <th class=\"index_name level0\" >modality</th>        <th class=\"index_name level1\" >token</th>        <th class=\"blank\" ></th>    </tr></thead><tbody>\n",
       "                <tr>\n",
       "                        <th id=\"T_8d9028bc_ad9a_11ea_9e3d_5bde62e03ae7level0_row0\" class=\"row_heading level0 row0\" rowspan=10>@info</th>\n",
       "                        <th id=\"T_8d9028bc_ad9a_11ea_9e3d_5bde62e03ae7level1_row0\" class=\"row_heading level1 row0\" >&РЕЗУЛЬТАТ_Да,_четко</th>\n",
       "                        <td id=\"T_8d9028bc_ad9a_11ea_9e3d_5bde62e03ae7row0_col0\" class=\"data row0 col0\" >8.738540</td>\n",
       "            </tr>\n",
       "            <tr>\n",
       "                                <th id=\"T_8d9028bc_ad9a_11ea_9e3d_5bde62e03ae7level1_row1\" class=\"row_heading level1 row1\" >&ПРЕГРАДЫ_есть_преграды</th>\n",
       "                        <td id=\"T_8d9028bc_ad9a_11ea_9e3d_5bde62e03ae7row1_col0\" class=\"data row1 col0\" >4.857980</td>\n",
       "            </tr>\n",
       "            <tr>\n",
       "                                <th id=\"T_8d9028bc_ad9a_11ea_9e3d_5bde62e03ae7level1_row2\" class=\"row_heading level1 row2\" >&ПРЕГРАДЫ_Не_вижу_преград</th>\n",
       "                        <td id=\"T_8d9028bc_ad9a_11ea_9e3d_5bde62e03ae7row2_col0\" class=\"data row2 col0\" >4.856580</td>\n",
       "            </tr>\n",
       "            <tr>\n",
       "                                <th id=\"T_8d9028bc_ad9a_11ea_9e3d_5bde62e03ae7level1_row3\" class=\"row_heading level1 row3\" >&ТИП_ЦЕЛИ_другое</th>\n",
       "                        <td id=\"T_8d9028bc_ad9a_11ea_9e3d_5bde62e03ae7row3_col0\" class=\"data row3 col0\" >4.152070</td>\n",
       "            </tr>\n",
       "            <tr>\n",
       "                                <th id=\"T_8d9028bc_ad9a_11ea_9e3d_5bde62e03ae7level1_row4\" class=\"row_heading level1 row4\" >&ПЕРВЫЙ_ШАГ_знаю_с_чего_начать</th>\n",
       "                        <td id=\"T_8d9028bc_ad9a_11ea_9e3d_5bde62e03ae7row4_col0\" class=\"data row4 col0\" >3.622380</td>\n",
       "            </tr>\n",
       "            <tr>\n",
       "                                <th id=\"T_8d9028bc_ad9a_11ea_9e3d_5bde62e03ae7level1_row5\" class=\"row_heading level1 row5\" >&ТИП_ЦЕЛИ_Получить_знания_в_новой_области</th>\n",
       "                        <td id=\"T_8d9028bc_ad9a_11ea_9e3d_5bde62e03ae7row5_col0\" class=\"data row5 col0\" >3.554480</td>\n",
       "            </tr>\n",
       "            <tr>\n",
       "                                <th id=\"T_8d9028bc_ad9a_11ea_9e3d_5bde62e03ae7level1_row6\" class=\"row_heading level1 row6\" >&ВРЕМЕННЫЕ_ГРАНИЦЫ_Нет_жестких_сроков</th>\n",
       "                        <td id=\"T_8d9028bc_ad9a_11ea_9e3d_5bde62e03ae7row6_col0\" class=\"data row6 col0\" >3.476330</td>\n",
       "            </tr>\n",
       "            <tr>\n",
       "                                <th id=\"T_8d9028bc_ad9a_11ea_9e3d_5bde62e03ae7level1_row7\" class=\"row_heading level1 row7\" >&ТИП_ЦЕЛИ_Развить_имеющиеся_знания_и_навыки</th>\n",
       "                        <td id=\"T_8d9028bc_ad9a_11ea_9e3d_5bde62e03ae7row7_col0\" class=\"data row7 col0\" >3.388110</td>\n",
       "            </tr>\n",
       "            <tr>\n",
       "                                <th id=\"T_8d9028bc_ad9a_11ea_9e3d_5bde62e03ae7level1_row8\" class=\"row_heading level1 row8\" >&ТИП_ЦЕЛИ_Приобрести_новые_навыки</th>\n",
       "                        <td id=\"T_8d9028bc_ad9a_11ea_9e3d_5bde62e03ae7row8_col0\" class=\"data row8 col0\" >3.380120</td>\n",
       "            </tr>\n",
       "            <tr>\n",
       "                                <th id=\"T_8d9028bc_ad9a_11ea_9e3d_5bde62e03ae7level1_row9\" class=\"row_heading level1 row9\" >&ОСНОВНОЙ_ВИД_ДЕЙТЕЛЬНОСТИ_Работаю_в_организации,_предприятии</th>\n",
       "                        <td id=\"T_8d9028bc_ad9a_11ea_9e3d_5bde62e03ae7row9_col0\" class=\"data row9 col0\" >2.957370</td>\n",
       "            </tr>\n",
       "    </tbody></table><style  type=\"text/css\" >\n",
       "</style><table id=\"T_8d9112cc_ad9a_11ea_9e3d_5bde62e03ae7\" style='display:inline'><thead>    <tr>        <th class=\"blank\" ></th>        <th class=\"blank level0\" ></th>        <th class=\"col_heading level0 col0\" >topic_3</th>    </tr>    <tr>        <th class=\"index_name level0\" >modality</th>        <th class=\"index_name level1\" >token</th>        <th class=\"blank\" ></th>    </tr></thead><tbody>\n",
       "                <tr>\n",
       "                        <th id=\"T_8d9112cc_ad9a_11ea_9e3d_5bde62e03ae7level0_row0\" class=\"row_heading level0 row0\" rowspan=10>@ngram</th>\n",
       "                        <th id=\"T_8d9112cc_ad9a_11ea_9e3d_5bde62e03ae7level1_row0\" class=\"row_heading level1 row0\" >новое</th>\n",
       "                        <td id=\"T_8d9112cc_ad9a_11ea_9e3d_5bde62e03ae7row0_col0\" class=\"data row0 col0\" >6.141750</td>\n",
       "            </tr>\n",
       "            <tr>\n",
       "                                <th id=\"T_8d9112cc_ad9a_11ea_9e3d_5bde62e03ae7level1_row1\" class=\"row_heading level1 row1\" >узнать</th>\n",
       "                        <td id=\"T_8d9112cc_ad9a_11ea_9e3d_5bde62e03ae7row1_col0\" class=\"data row1 col0\" >5.332870</td>\n",
       "            </tr>\n",
       "            <tr>\n",
       "                                <th id=\"T_8d9112cc_ad9a_11ea_9e3d_5bde62e03ae7level1_row2\" class=\"row_heading level1 row2\" >узнать_новое</th>\n",
       "                        <td id=\"T_8d9112cc_ad9a_11ea_9e3d_5bde62e03ae7row2_col0\" class=\"data row2 col0\" >4.043210</td>\n",
       "            </tr>\n",
       "            <tr>\n",
       "                                <th id=\"T_8d9112cc_ad9a_11ea_9e3d_5bde62e03ae7level1_row3\" class=\"row_heading level1 row3\" >научиться</th>\n",
       "                        <td id=\"T_8d9112cc_ad9a_11ea_9e3d_5bde62e03ae7row3_col0\" class=\"data row3 col0\" >3.101160</td>\n",
       "            </tr>\n",
       "            <tr>\n",
       "                                <th id=\"T_8d9112cc_ad9a_11ea_9e3d_5bde62e03ae7level1_row4\" class=\"row_heading level1 row4\" >вуз</th>\n",
       "                        <td id=\"T_8d9112cc_ad9a_11ea_9e3d_5bde62e03ae7row4_col0\" class=\"data row4 col0\" >1.703530</td>\n",
       "            </tr>\n",
       "            <tr>\n",
       "                                <th id=\"T_8d9112cc_ad9a_11ea_9e3d_5bde62e03ae7level1_row5\" class=\"row_heading level1 row5\" >узнавать</th>\n",
       "                        <td id=\"T_8d9112cc_ad9a_11ea_9e3d_5bde62e03ae7row5_col0\" class=\"data row5 col0\" >1.329910</td>\n",
       "            </tr>\n",
       "            <tr>\n",
       "                                <th id=\"T_8d9112cc_ad9a_11ea_9e3d_5bde62e03ae7level1_row6\" class=\"row_heading level1 row6\" >узнавать_новое</th>\n",
       "                        <td id=\"T_8d9112cc_ad9a_11ea_9e3d_5bde62e03ae7row6_col0\" class=\"data row6 col0\" >1.180450</td>\n",
       "            </tr>\n",
       "            <tr>\n",
       "                                <th id=\"T_8d9112cc_ad9a_11ea_9e3d_5bde62e03ae7level1_row7\" class=\"row_heading level1 row7\" >большой</th>\n",
       "                        <td id=\"T_8d9112cc_ad9a_11ea_9e3d_5bde62e03ae7row7_col0\" class=\"data row7 col0\" >1.176420</td>\n",
       "            </tr>\n",
       "            <tr>\n",
       "                                <th id=\"T_8d9112cc_ad9a_11ea_9e3d_5bde62e03ae7level1_row8\" class=\"row_heading level1 row8\" >закончить</th>\n",
       "                        <td id=\"T_8d9112cc_ad9a_11ea_9e3d_5bde62e03ae7row8_col0\" class=\"data row8 col0\" >1.100700</td>\n",
       "            </tr>\n",
       "            <tr>\n",
       "                                <th id=\"T_8d9112cc_ad9a_11ea_9e3d_5bde62e03ae7level1_row9\" class=\"row_heading level1 row9\" >закончить_вуз</th>\n",
       "                        <td id=\"T_8d9112cc_ad9a_11ea_9e3d_5bde62e03ae7row9_col0\" class=\"data row9 col0\" >1.031210</td>\n",
       "            </tr>\n",
       "    </tbody></table>"
      ]
     },
     "metadata": {},
     "output_type": "display_data"
    },
    {
     "data": {
      "text/html": [
       "<style  type=\"text/css\" >\n",
       "</style><table id=\"T_8d97ce5a_ad9a_11ea_9e3d_5bde62e03ae7\" style='display:inline'><thead>    <tr>        <th class=\"blank\" ></th>        <th class=\"blank level0\" ></th>        <th class=\"col_heading level0 col0\" >topic_4</th>    </tr>    <tr>        <th class=\"index_name level0\" >modality</th>        <th class=\"index_name level1\" >token</th>        <th class=\"blank\" ></th>    </tr></thead><tbody>\n",
       "                <tr>\n",
       "                        <th id=\"T_8d97ce5a_ad9a_11ea_9e3d_5bde62e03ae7level0_row0\" class=\"row_heading level0 row0\" rowspan=10>@info</th>\n",
       "                        <th id=\"T_8d97ce5a_ad9a_11ea_9e3d_5bde62e03ae7level1_row0\" class=\"row_heading level1 row0\" >&РЕЗУЛЬТАТ_Да,_четко</th>\n",
       "                        <td id=\"T_8d97ce5a_ad9a_11ea_9e3d_5bde62e03ae7row0_col0\" class=\"data row0 col0\" >6.453700</td>\n",
       "            </tr>\n",
       "            <tr>\n",
       "                                <th id=\"T_8d97ce5a_ad9a_11ea_9e3d_5bde62e03ae7level1_row1\" class=\"row_heading level1 row1\" >&ПРЕГРАДЫ_есть_преграды</th>\n",
       "                        <td id=\"T_8d97ce5a_ad9a_11ea_9e3d_5bde62e03ae7row1_col0\" class=\"data row1 col0\" >5.522240</td>\n",
       "            </tr>\n",
       "            <tr>\n",
       "                                <th id=\"T_8d97ce5a_ad9a_11ea_9e3d_5bde62e03ae7level1_row2\" class=\"row_heading level1 row2\" >&ПРЕГРАДЫ_Не_вижу_преград</th>\n",
       "                        <td id=\"T_8d97ce5a_ad9a_11ea_9e3d_5bde62e03ae7row2_col0\" class=\"data row2 col0\" >4.339710</td>\n",
       "            </tr>\n",
       "            <tr>\n",
       "                                <th id=\"T_8d97ce5a_ad9a_11ea_9e3d_5bde62e03ae7level1_row3\" class=\"row_heading level1 row3\" >&ПЕРВЫЙ_ШАГ_знаю_с_чего_начать</th>\n",
       "                        <td id=\"T_8d97ce5a_ad9a_11ea_9e3d_5bde62e03ae7row3_col0\" class=\"data row3 col0\" >4.124100</td>\n",
       "            </tr>\n",
       "            <tr>\n",
       "                                <th id=\"T_8d97ce5a_ad9a_11ea_9e3d_5bde62e03ae7level1_row4\" class=\"row_heading level1 row4\" >&ТИП_ЦЕЛИ_другое</th>\n",
       "                        <td id=\"T_8d97ce5a_ad9a_11ea_9e3d_5bde62e03ae7row4_col0\" class=\"data row4 col0\" >3.943800</td>\n",
       "            </tr>\n",
       "            <tr>\n",
       "                                <th id=\"T_8d97ce5a_ad9a_11ea_9e3d_5bde62e03ae7level1_row5\" class=\"row_heading level1 row5\" >&ТИП_ЦЕЛИ_Развить_имеющиеся_знания_и_навыки</th>\n",
       "                        <td id=\"T_8d97ce5a_ad9a_11ea_9e3d_5bde62e03ae7row5_col0\" class=\"data row5 col0\" >3.685710</td>\n",
       "            </tr>\n",
       "            <tr>\n",
       "                                <th id=\"T_8d97ce5a_ad9a_11ea_9e3d_5bde62e03ae7level1_row6\" class=\"row_heading level1 row6\" >&ТИП_ЦЕЛИ_Приобрести_новые_навыки</th>\n",
       "                        <td id=\"T_8d97ce5a_ad9a_11ea_9e3d_5bde62e03ae7row6_col0\" class=\"data row6 col0\" >3.080010</td>\n",
       "            </tr>\n",
       "            <tr>\n",
       "                                <th id=\"T_8d97ce5a_ad9a_11ea_9e3d_5bde62e03ae7level1_row7\" class=\"row_heading level1 row7\" >&ОСНОВНОЙ_ВИД_ДЕЙТЕЛЬНОСТИ_Работаю_в_организации,_предприятии</th>\n",
       "                        <td id=\"T_8d97ce5a_ad9a_11ea_9e3d_5bde62e03ae7row7_col0\" class=\"data row7 col0\" >3.064670</td>\n",
       "            </tr>\n",
       "            <tr>\n",
       "                                <th id=\"T_8d97ce5a_ad9a_11ea_9e3d_5bde62e03ae7level1_row8\" class=\"row_heading level1 row8\" >&ВРЕМЕННЫЕ_ГРАНИЦЫ_Нет_жестких_сроков</th>\n",
       "                        <td id=\"T_8d97ce5a_ad9a_11ea_9e3d_5bde62e03ae7row8_col0\" class=\"data row8 col0\" >2.775280</td>\n",
       "            </tr>\n",
       "            <tr>\n",
       "                                <th id=\"T_8d97ce5a_ad9a_11ea_9e3d_5bde62e03ae7level1_row9\" class=\"row_heading level1 row9\" >&ТИП_ЦЕЛИ_Получить_знания_в_новой_области</th>\n",
       "                        <td id=\"T_8d97ce5a_ad9a_11ea_9e3d_5bde62e03ae7row9_col0\" class=\"data row9 col0\" >2.707090</td>\n",
       "            </tr>\n",
       "    </tbody></table><style  type=\"text/css\" >\n",
       "</style><table id=\"T_8d99a84c_ad9a_11ea_9e3d_5bde62e03ae7\" style='display:inline'><thead>    <tr>        <th class=\"blank\" ></th>        <th class=\"blank level0\" ></th>        <th class=\"col_heading level0 col0\" >topic_4</th>    </tr>    <tr>        <th class=\"index_name level0\" >modality</th>        <th class=\"index_name level1\" >token</th>        <th class=\"blank\" ></th>    </tr></thead><tbody>\n",
       "                <tr>\n",
       "                        <th id=\"T_8d99a84c_ad9a_11ea_9e3d_5bde62e03ae7level0_row0\" class=\"row_heading level0 row0\" rowspan=10>@ngram</th>\n",
       "                        <th id=\"T_8d99a84c_ad9a_11ea_9e3d_5bde62e03ae7level1_row0\" class=\"row_heading level1 row0\" >рынок</th>\n",
       "                        <td id=\"T_8d99a84c_ad9a_11ea_9e3d_5bde62e03ae7row0_col0\" class=\"data row0 col0\" >2.288630</td>\n",
       "            </tr>\n",
       "            <tr>\n",
       "                                <th id=\"T_8d99a84c_ad9a_11ea_9e3d_5bde62e03ae7level1_row1\" class=\"row_heading level1 row1\" >время</th>\n",
       "                        <td id=\"T_8d99a84c_ad9a_11ea_9e3d_5bde62e03ae7row1_col0\" class=\"data row1 col0\" >2.218910</td>\n",
       "            </tr>\n",
       "            <tr>\n",
       "                                <th id=\"T_8d99a84c_ad9a_11ea_9e3d_5bde62e03ae7level1_row2\" class=\"row_heading level1 row2\" >труд</th>\n",
       "                        <td id=\"T_8d99a84c_ad9a_11ea_9e3d_5bde62e03ae7row2_col0\" class=\"data row2 col0\" >1.880240</td>\n",
       "            </tr>\n",
       "            <tr>\n",
       "                                <th id=\"T_8d99a84c_ad9a_11ea_9e3d_5bde62e03ae7level1_row3\" class=\"row_heading level1 row3\" >рынок_труд</th>\n",
       "                        <td id=\"T_8d99a84c_ad9a_11ea_9e3d_5bde62e03ae7row3_col0\" class=\"data row3 col0\" >1.812420</td>\n",
       "            </tr>\n",
       "            <tr>\n",
       "                                <th id=\"T_8d99a84c_ad9a_11ea_9e3d_5bde62e03ae7level1_row4\" class=\"row_heading level1 row4\" >нога</th>\n",
       "                        <td id=\"T_8d99a84c_ad9a_11ea_9e3d_5bde62e03ae7row4_col0\" class=\"data row4 col0\" >1.676560</td>\n",
       "            </tr>\n",
       "            <tr>\n",
       "                                <th id=\"T_8d99a84c_ad9a_11ea_9e3d_5bde62e03ae7level1_row5\" class=\"row_heading level1 row5\" >нога_время</th>\n",
       "                        <td id=\"T_8d99a84c_ad9a_11ea_9e3d_5bde62e03ae7row5_col0\" class=\"data row5 col0\" >1.405250</td>\n",
       "            </tr>\n",
       "            <tr>\n",
       "                                <th id=\"T_8d99a84c_ad9a_11ea_9e3d_5bde62e03ae7level1_row6\" class=\"row_heading level1 row6\" >идти</th>\n",
       "                        <td id=\"T_8d99a84c_ad9a_11ea_9e3d_5bde62e03ae7row6_col0\" class=\"data row6 col0\" >1.269780</td>\n",
       "            </tr>\n",
       "            <tr>\n",
       "                                <th id=\"T_8d99a84c_ad9a_11ea_9e3d_5bde62e03ae7level1_row7\" class=\"row_heading level1 row7\" >навык</th>\n",
       "                        <td id=\"T_8d99a84c_ad9a_11ea_9e3d_5bde62e03ae7row7_col0\" class=\"data row7 col0\" >1.244950</td>\n",
       "            </tr>\n",
       "            <tr>\n",
       "                                <th id=\"T_8d99a84c_ad9a_11ea_9e3d_5bde62e03ae7level1_row8\" class=\"row_heading level1 row8\" >идти_нога</th>\n",
       "                        <td id=\"T_8d99a84c_ad9a_11ea_9e3d_5bde62e03ae7row8_col0\" class=\"data row8 col0\" >1.202190</td>\n",
       "            </tr>\n",
       "            <tr>\n",
       "                                <th id=\"T_8d99a84c_ad9a_11ea_9e3d_5bde62e03ae7level1_row9\" class=\"row_heading level1 row9\" >получить</th>\n",
       "                        <td id=\"T_8d99a84c_ad9a_11ea_9e3d_5bde62e03ae7row9_col0\" class=\"data row9 col0\" >1.114360</td>\n",
       "            </tr>\n",
       "    </tbody></table>"
      ]
     },
     "metadata": {},
     "output_type": "display_data"
    },
    {
     "data": {
      "text/html": [
       "<style  type=\"text/css\" >\n",
       "</style><table id=\"T_8da16122_ad9a_11ea_9e3d_5bde62e03ae7\" style='display:inline'><thead>    <tr>        <th class=\"blank\" ></th>        <th class=\"blank level0\" ></th>        <th class=\"col_heading level0 col0\" >topic_5</th>    </tr>    <tr>        <th class=\"index_name level0\" >modality</th>        <th class=\"index_name level1\" >token</th>        <th class=\"blank\" ></th>    </tr></thead><tbody>\n",
       "                <tr>\n",
       "                        <th id=\"T_8da16122_ad9a_11ea_9e3d_5bde62e03ae7level0_row0\" class=\"row_heading level0 row0\" rowspan=10>@info</th>\n",
       "                        <th id=\"T_8da16122_ad9a_11ea_9e3d_5bde62e03ae7level1_row0\" class=\"row_heading level1 row0\" >&РЕЗУЛЬТАТ_Да,_четко</th>\n",
       "                        <td id=\"T_8da16122_ad9a_11ea_9e3d_5bde62e03ae7row0_col0\" class=\"data row0 col0\" >8.819800</td>\n",
       "            </tr>\n",
       "            <tr>\n",
       "                                <th id=\"T_8da16122_ad9a_11ea_9e3d_5bde62e03ae7level1_row1\" class=\"row_heading level1 row1\" >&ПРЕГРАДЫ_Не_вижу_преград</th>\n",
       "                        <td id=\"T_8da16122_ad9a_11ea_9e3d_5bde62e03ae7row1_col0\" class=\"data row1 col0\" >6.464890</td>\n",
       "            </tr>\n",
       "            <tr>\n",
       "                                <th id=\"T_8da16122_ad9a_11ea_9e3d_5bde62e03ae7level1_row2\" class=\"row_heading level1 row2\" >&ТИП_ЦЕЛИ_другое</th>\n",
       "                        <td id=\"T_8da16122_ad9a_11ea_9e3d_5bde62e03ae7row2_col0\" class=\"data row2 col0\" >5.914680</td>\n",
       "            </tr>\n",
       "            <tr>\n",
       "                                <th id=\"T_8da16122_ad9a_11ea_9e3d_5bde62e03ae7level1_row3\" class=\"row_heading level1 row3\" >&ТИП_ЦЕЛИ_Развить_имеющиеся_знания_и_навыки</th>\n",
       "                        <td id=\"T_8da16122_ad9a_11ea_9e3d_5bde62e03ae7row3_col0\" class=\"data row3 col0\" >3.984200</td>\n",
       "            </tr>\n",
       "            <tr>\n",
       "                                <th id=\"T_8da16122_ad9a_11ea_9e3d_5bde62e03ae7level1_row4\" class=\"row_heading level1 row4\" >&ПЕРВЫЙ_ШАГ_знаю_с_чего_начать</th>\n",
       "                        <td id=\"T_8da16122_ad9a_11ea_9e3d_5bde62e03ae7row4_col0\" class=\"data row4 col0\" >3.860970</td>\n",
       "            </tr>\n",
       "            <tr>\n",
       "                                <th id=\"T_8da16122_ad9a_11ea_9e3d_5bde62e03ae7level1_row5\" class=\"row_heading level1 row5\" >&ТИП_ЦЕЛИ_Приобрести_новые_навыки</th>\n",
       "                        <td id=\"T_8da16122_ad9a_11ea_9e3d_5bde62e03ae7row5_col0\" class=\"data row5 col0\" >3.648130</td>\n",
       "            </tr>\n",
       "            <tr>\n",
       "                                <th id=\"T_8da16122_ad9a_11ea_9e3d_5bde62e03ae7level1_row6\" class=\"row_heading level1 row6\" >&ТИП_ЦЕЛИ_Получить_знания_в_новой_области</th>\n",
       "                        <td id=\"T_8da16122_ad9a_11ea_9e3d_5bde62e03ae7row6_col0\" class=\"data row6 col0\" >3.259340</td>\n",
       "            </tr>\n",
       "            <tr>\n",
       "                                <th id=\"T_8da16122_ad9a_11ea_9e3d_5bde62e03ae7level1_row7\" class=\"row_heading level1 row7\" >&ВРЕМЕННЫЕ_ГРАНИЦЫ_Нет_жестких_сроков</th>\n",
       "                        <td id=\"T_8da16122_ad9a_11ea_9e3d_5bde62e03ae7row7_col0\" class=\"data row7 col0\" >3.136820</td>\n",
       "            </tr>\n",
       "            <tr>\n",
       "                                <th id=\"T_8da16122_ad9a_11ea_9e3d_5bde62e03ae7level1_row8\" class=\"row_heading level1 row8\" >&ПРЕГРАДЫ_есть_преграды</th>\n",
       "                        <td id=\"T_8da16122_ad9a_11ea_9e3d_5bde62e03ae7row8_col0\" class=\"data row8 col0\" >3.036810</td>\n",
       "            </tr>\n",
       "            <tr>\n",
       "                                <th id=\"T_8da16122_ad9a_11ea_9e3d_5bde62e03ae7level1_row9\" class=\"row_heading level1 row9\" >&ОСНОВНОЙ_ВИД_ДЕЙТЕЛЬНОСТИ_Работаю_в_организации,_предприятии</th>\n",
       "                        <td id=\"T_8da16122_ad9a_11ea_9e3d_5bde62e03ae7row9_col0\" class=\"data row9 col0\" >2.601610</td>\n",
       "            </tr>\n",
       "    </tbody></table><style  type=\"text/css\" >\n",
       "</style><table id=\"T_8da2f4e2_ad9a_11ea_9e3d_5bde62e03ae7\" style='display:inline'><thead>    <tr>        <th class=\"blank\" ></th>        <th class=\"blank level0\" ></th>        <th class=\"col_heading level0 col0\" >topic_5</th>    </tr>    <tr>        <th class=\"index_name level0\" >modality</th>        <th class=\"index_name level1\" >token</th>        <th class=\"blank\" ></th>    </tr></thead><tbody>\n",
       "                <tr>\n",
       "                        <th id=\"T_8da2f4e2_ad9a_11ea_9e3d_5bde62e03ae7level0_row0\" class=\"row_heading level0 row0\" rowspan=10>@ngram</th>\n",
       "                        <th id=\"T_8da2f4e2_ad9a_11ea_9e3d_5bde62e03ae7level1_row0\" class=\"row_heading level1 row0\" >развитие</th>\n",
       "                        <td id=\"T_8da2f4e2_ad9a_11ea_9e3d_5bde62e03ae7row0_col0\" class=\"data row0 col0\" >9.643330</td>\n",
       "            </tr>\n",
       "            <tr>\n",
       "                                <th id=\"T_8da2f4e2_ad9a_11ea_9e3d_5bde62e03ae7level1_row1\" class=\"row_heading level1 row1\" >новый</th>\n",
       "                        <td id=\"T_8da2f4e2_ad9a_11ea_9e3d_5bde62e03ae7row1_col0\" class=\"data row1 col0\" >4.200880</td>\n",
       "            </tr>\n",
       "            <tr>\n",
       "                                <th id=\"T_8da2f4e2_ad9a_11ea_9e3d_5bde62e03ae7level1_row2\" class=\"row_heading level1 row2\" >компетенция</th>\n",
       "                        <td id=\"T_8da2f4e2_ad9a_11ea_9e3d_5bde62e03ae7row2_col0\" class=\"data row2 col0\" >3.496340</td>\n",
       "            </tr>\n",
       "            <tr>\n",
       "                                <th id=\"T_8da2f4e2_ad9a_11ea_9e3d_5bde62e03ae7level1_row3\" class=\"row_heading level1 row3\" >профессиональный</th>\n",
       "                        <td id=\"T_8da2f4e2_ad9a_11ea_9e3d_5bde62e03ae7row3_col0\" class=\"data row3 col0\" >2.862000</td>\n",
       "            </tr>\n",
       "            <tr>\n",
       "                                <th id=\"T_8da2f4e2_ad9a_11ea_9e3d_5bde62e03ae7level1_row4\" class=\"row_heading level1 row4\" >развитие_профессиональный</th>\n",
       "                        <td id=\"T_8da2f4e2_ad9a_11ea_9e3d_5bde62e03ae7row4_col0\" class=\"data row4 col0\" >2.300820</td>\n",
       "            </tr>\n",
       "            <tr>\n",
       "                                <th id=\"T_8da2f4e2_ad9a_11ea_9e3d_5bde62e03ae7level1_row5\" class=\"row_heading level1 row5\" >сфера</th>\n",
       "                        <td id=\"T_8da2f4e2_ad9a_11ea_9e3d_5bde62e03ae7row5_col0\" class=\"data row5 col0\" >2.122870</td>\n",
       "            </tr>\n",
       "            <tr>\n",
       "                                <th id=\"T_8da2f4e2_ad9a_11ea_9e3d_5bde62e03ae7level1_row6\" class=\"row_heading level1 row6\" >учёба</th>\n",
       "                        <td id=\"T_8da2f4e2_ad9a_11ea_9e3d_5bde62e03ae7row6_col0\" class=\"data row6 col0\" >2.058760</td>\n",
       "            </tr>\n",
       "            <tr>\n",
       "                                <th id=\"T_8da2f4e2_ad9a_11ea_9e3d_5bde62e03ae7level1_row7\" class=\"row_heading level1 row7\" >навык</th>\n",
       "                        <td id=\"T_8da2f4e2_ad9a_11ea_9e3d_5bde62e03ae7row7_col0\" class=\"data row7 col0\" >1.997940</td>\n",
       "            </tr>\n",
       "            <tr>\n",
       "                                <th id=\"T_8da2f4e2_ad9a_11ea_9e3d_5bde62e03ae7level1_row8\" class=\"row_heading level1 row8\" >закончить_учёба</th>\n",
       "                        <td id=\"T_8da2f4e2_ad9a_11ea_9e3d_5bde62e03ae7row8_col0\" class=\"data row8 col0\" >1.180840</td>\n",
       "            </tr>\n",
       "            <tr>\n",
       "                                <th id=\"T_8da2f4e2_ad9a_11ea_9e3d_5bde62e03ae7level1_row9\" class=\"row_heading level1 row9\" >закончить</th>\n",
       "                        <td id=\"T_8da2f4e2_ad9a_11ea_9e3d_5bde62e03ae7row9_col0\" class=\"data row9 col0\" >1.175400</td>\n",
       "            </tr>\n",
       "    </tbody></table>"
      ]
     },
     "metadata": {},
     "output_type": "display_data"
    },
    {
     "data": {
      "text/html": [
       "<style  type=\"text/css\" >\n",
       "</style><table id=\"T_8da95256_ad9a_11ea_9e3d_5bde62e03ae7\" style='display:inline'><thead>    <tr>        <th class=\"blank\" ></th>        <th class=\"blank level0\" ></th>        <th class=\"col_heading level0 col0\" >topic_6</th>    </tr>    <tr>        <th class=\"index_name level0\" >modality</th>        <th class=\"index_name level1\" >token</th>        <th class=\"blank\" ></th>    </tr></thead><tbody>\n",
       "                <tr>\n",
       "                        <th id=\"T_8da95256_ad9a_11ea_9e3d_5bde62e03ae7level0_row0\" class=\"row_heading level0 row0\" rowspan=10>@info</th>\n",
       "                        <th id=\"T_8da95256_ad9a_11ea_9e3d_5bde62e03ae7level1_row0\" class=\"row_heading level1 row0\" >&РЕЗУЛЬТАТ_Да,_четко</th>\n",
       "                        <td id=\"T_8da95256_ad9a_11ea_9e3d_5bde62e03ae7row0_col0\" class=\"data row0 col0\" >10.178760</td>\n",
       "            </tr>\n",
       "            <tr>\n",
       "                                <th id=\"T_8da95256_ad9a_11ea_9e3d_5bde62e03ae7level1_row1\" class=\"row_heading level1 row1\" >&ПРЕГРАДЫ_Не_вижу_преград</th>\n",
       "                        <td id=\"T_8da95256_ad9a_11ea_9e3d_5bde62e03ae7row1_col0\" class=\"data row1 col0\" >6.976100</td>\n",
       "            </tr>\n",
       "            <tr>\n",
       "                                <th id=\"T_8da95256_ad9a_11ea_9e3d_5bde62e03ae7level1_row2\" class=\"row_heading level1 row2\" >&ТИП_ЦЕЛИ_Получить_знания_в_новой_области</th>\n",
       "                        <td id=\"T_8da95256_ad9a_11ea_9e3d_5bde62e03ae7row2_col0\" class=\"data row2 col0\" >4.358140</td>\n",
       "            </tr>\n",
       "            <tr>\n",
       "                                <th id=\"T_8da95256_ad9a_11ea_9e3d_5bde62e03ae7level1_row3\" class=\"row_heading level1 row3\" >&ТИП_ЦЕЛИ_Приобрести_новые_навыки</th>\n",
       "                        <td id=\"T_8da95256_ad9a_11ea_9e3d_5bde62e03ae7row3_col0\" class=\"data row3 col0\" >3.883260</td>\n",
       "            </tr>\n",
       "            <tr>\n",
       "                                <th id=\"T_8da95256_ad9a_11ea_9e3d_5bde62e03ae7level1_row4\" class=\"row_heading level1 row4\" >&ВРЕМЕННЫЕ_ГРАНИЦЫ_Нет_жестких_сроков</th>\n",
       "                        <td id=\"T_8da95256_ad9a_11ea_9e3d_5bde62e03ae7row4_col0\" class=\"data row4 col0\" >3.811320</td>\n",
       "            </tr>\n",
       "            <tr>\n",
       "                                <th id=\"T_8da95256_ad9a_11ea_9e3d_5bde62e03ae7level1_row5\" class=\"row_heading level1 row5\" >&ПЕРВЫЙ_ШАГ_знаю_с_чего_начать</th>\n",
       "                        <td id=\"T_8da95256_ad9a_11ea_9e3d_5bde62e03ae7row5_col0\" class=\"data row5 col0\" >3.748840</td>\n",
       "            </tr>\n",
       "            <tr>\n",
       "                                <th id=\"T_8da95256_ad9a_11ea_9e3d_5bde62e03ae7level1_row6\" class=\"row_heading level1 row6\" >&ТИП_ЦЕЛИ_Развить_имеющиеся_знания_и_навыки</th>\n",
       "                        <td id=\"T_8da95256_ad9a_11ea_9e3d_5bde62e03ae7row6_col0\" class=\"data row6 col0\" >3.174320</td>\n",
       "            </tr>\n",
       "            <tr>\n",
       "                                <th id=\"T_8da95256_ad9a_11ea_9e3d_5bde62e03ae7level1_row7\" class=\"row_heading level1 row7\" >&ТИП_ЦЕЛИ_другое</th>\n",
       "                        <td id=\"T_8da95256_ad9a_11ea_9e3d_5bde62e03ae7row7_col0\" class=\"data row7 col0\" >3.137920</td>\n",
       "            </tr>\n",
       "            <tr>\n",
       "                                <th id=\"T_8da95256_ad9a_11ea_9e3d_5bde62e03ae7level1_row8\" class=\"row_heading level1 row8\" >&ОСНОВНОЙ_ВИД_ДЕЙТЕЛЬНОСТИ_Работаю_в_организации,_предприятии</th>\n",
       "                        <td id=\"T_8da95256_ad9a_11ea_9e3d_5bde62e03ae7row8_col0\" class=\"data row8 col0\" >3.123990</td>\n",
       "            </tr>\n",
       "            <tr>\n",
       "                                <th id=\"T_8da95256_ad9a_11ea_9e3d_5bde62e03ae7level1_row9\" class=\"row_heading level1 row9\" >&ПРЕГРАДЫ_есть_преграды</th>\n",
       "                        <td id=\"T_8da95256_ad9a_11ea_9e3d_5bde62e03ae7row9_col0\" class=\"data row9 col0\" >3.023360</td>\n",
       "            </tr>\n",
       "    </tbody></table><style  type=\"text/css\" >\n",
       "</style><table id=\"T_8daa5390_ad9a_11ea_9e3d_5bde62e03ae7\" style='display:inline'><thead>    <tr>        <th class=\"blank\" ></th>        <th class=\"blank level0\" ></th>        <th class=\"col_heading level0 col0\" >topic_6</th>    </tr>    <tr>        <th class=\"index_name level0\" >modality</th>        <th class=\"index_name level1\" >token</th>        <th class=\"blank\" ></th>    </tr></thead><tbody>\n",
       "                <tr>\n",
       "                        <th id=\"T_8daa5390_ad9a_11ea_9e3d_5bde62e03ae7level0_row0\" class=\"row_heading level0 row0\" rowspan=10>@ngram</th>\n",
       "                        <th id=\"T_8daa5390_ad9a_11ea_9e3d_5bde62e03ae7level1_row0\" class=\"row_heading level1 row0\" >знание</th>\n",
       "                        <td id=\"T_8daa5390_ad9a_11ea_9e3d_5bde62e03ae7row0_col0\" class=\"data row0 col0\" >12.149230</td>\n",
       "            </tr>\n",
       "            <tr>\n",
       "                                <th id=\"T_8daa5390_ad9a_11ea_9e3d_5bde62e03ae7level1_row1\" class=\"row_heading level1 row1\" >получение</th>\n",
       "                        <td id=\"T_8daa5390_ad9a_11ea_9e3d_5bde62e03ae7row1_col0\" class=\"data row1 col0\" >9.301140</td>\n",
       "            </tr>\n",
       "            <tr>\n",
       "                                <th id=\"T_8daa5390_ad9a_11ea_9e3d_5bde62e03ae7level1_row2\" class=\"row_heading level1 row2\" >новый</th>\n",
       "                        <td id=\"T_8daa5390_ad9a_11ea_9e3d_5bde62e03ae7row2_col0\" class=\"data row2 col0\" >9.225020</td>\n",
       "            </tr>\n",
       "            <tr>\n",
       "                                <th id=\"T_8daa5390_ad9a_11ea_9e3d_5bde62e03ae7level1_row3\" class=\"row_heading level1 row3\" >новый_знание</th>\n",
       "                        <td id=\"T_8daa5390_ad9a_11ea_9e3d_5bde62e03ae7row3_col0\" class=\"data row3 col0\" >5.845780</td>\n",
       "            </tr>\n",
       "            <tr>\n",
       "                                <th id=\"T_8daa5390_ad9a_11ea_9e3d_5bde62e03ae7level1_row4\" class=\"row_heading level1 row4\" >получение_новый</th>\n",
       "                        <td id=\"T_8daa5390_ad9a_11ea_9e3d_5bde62e03ae7row4_col0\" class=\"data row4 col0\" >5.784180</td>\n",
       "            </tr>\n",
       "            <tr>\n",
       "                                <th id=\"T_8daa5390_ad9a_11ea_9e3d_5bde62e03ae7level1_row5\" class=\"row_heading level1 row5\" >навык</th>\n",
       "                        <td id=\"T_8daa5390_ad9a_11ea_9e3d_5bde62e03ae7row5_col0\" class=\"data row5 col0\" >3.849930</td>\n",
       "            </tr>\n",
       "            <tr>\n",
       "                                <th id=\"T_8daa5390_ad9a_11ea_9e3d_5bde62e03ae7level1_row6\" class=\"row_heading level1 row6\" >получение_знание</th>\n",
       "                        <td id=\"T_8daa5390_ad9a_11ea_9e3d_5bde62e03ae7row6_col0\" class=\"data row6 col0\" >2.411330</td>\n",
       "            </tr>\n",
       "            <tr>\n",
       "                                <th id=\"T_8daa5390_ad9a_11ea_9e3d_5bde62e03ae7level1_row7\" class=\"row_heading level1 row7\" >приобретение</th>\n",
       "                        <td id=\"T_8daa5390_ad9a_11ea_9e3d_5bde62e03ae7row7_col0\" class=\"data row7 col0\" >2.197710</td>\n",
       "            </tr>\n",
       "            <tr>\n",
       "                                <th id=\"T_8daa5390_ad9a_11ea_9e3d_5bde62e03ae7level1_row8\" class=\"row_heading level1 row8\" >приобретение_новый</th>\n",
       "                        <td id=\"T_8daa5390_ad9a_11ea_9e3d_5bde62e03ae7row8_col0\" class=\"data row8 col0\" >2.164690</td>\n",
       "            </tr>\n",
       "            <tr>\n",
       "                                <th id=\"T_8daa5390_ad9a_11ea_9e3d_5bde62e03ae7level1_row9\" class=\"row_heading level1 row9\" >получить</th>\n",
       "                        <td id=\"T_8daa5390_ad9a_11ea_9e3d_5bde62e03ae7row9_col0\" class=\"data row9 col0\" >1.894730</td>\n",
       "            </tr>\n",
       "    </tbody></table>"
      ]
     },
     "metadata": {},
     "output_type": "display_data"
    },
    {
     "data": {
      "text/html": [
       "<style  type=\"text/css\" >\n",
       "</style><table id=\"T_8db2a3c4_ad9a_11ea_9e3d_5bde62e03ae7\" style='display:inline'><thead>    <tr>        <th class=\"blank\" ></th>        <th class=\"blank level0\" ></th>        <th class=\"col_heading level0 col0\" >topic_7</th>    </tr>    <tr>        <th class=\"index_name level0\" >modality</th>        <th class=\"index_name level1\" >token</th>        <th class=\"blank\" ></th>    </tr></thead><tbody>\n",
       "                <tr>\n",
       "                        <th id=\"T_8db2a3c4_ad9a_11ea_9e3d_5bde62e03ae7level0_row0\" class=\"row_heading level0 row0\" rowspan=10>@info</th>\n",
       "                        <th id=\"T_8db2a3c4_ad9a_11ea_9e3d_5bde62e03ae7level1_row0\" class=\"row_heading level1 row0\" >&РЕЗУЛЬТАТ_Да,_четко</th>\n",
       "                        <td id=\"T_8db2a3c4_ad9a_11ea_9e3d_5bde62e03ae7row0_col0\" class=\"data row0 col0\" >8.136570</td>\n",
       "            </tr>\n",
       "            <tr>\n",
       "                                <th id=\"T_8db2a3c4_ad9a_11ea_9e3d_5bde62e03ae7level1_row1\" class=\"row_heading level1 row1\" >&ПРЕГРАДЫ_Не_вижу_преград</th>\n",
       "                        <td id=\"T_8db2a3c4_ad9a_11ea_9e3d_5bde62e03ae7row1_col0\" class=\"data row1 col0\" >4.782550</td>\n",
       "            </tr>\n",
       "            <tr>\n",
       "                                <th id=\"T_8db2a3c4_ad9a_11ea_9e3d_5bde62e03ae7level1_row2\" class=\"row_heading level1 row2\" >&ТИП_ЦЕЛИ_другое</th>\n",
       "                        <td id=\"T_8db2a3c4_ad9a_11ea_9e3d_5bde62e03ae7row2_col0\" class=\"data row2 col0\" >4.699130</td>\n",
       "            </tr>\n",
       "            <tr>\n",
       "                                <th id=\"T_8db2a3c4_ad9a_11ea_9e3d_5bde62e03ae7level1_row3\" class=\"row_heading level1 row3\" >&ПРЕГРАДЫ_есть_преграды</th>\n",
       "                        <td id=\"T_8db2a3c4_ad9a_11ea_9e3d_5bde62e03ae7row3_col0\" class=\"data row3 col0\" >4.246420</td>\n",
       "            </tr>\n",
       "            <tr>\n",
       "                                <th id=\"T_8db2a3c4_ad9a_11ea_9e3d_5bde62e03ae7level1_row4\" class=\"row_heading level1 row4\" >&ТИП_ЦЕЛИ_Развить_имеющиеся_знания_и_навыки</th>\n",
       "                        <td id=\"T_8db2a3c4_ad9a_11ea_9e3d_5bde62e03ae7row4_col0\" class=\"data row4 col0\" >3.801830</td>\n",
       "            </tr>\n",
       "            <tr>\n",
       "                                <th id=\"T_8db2a3c4_ad9a_11ea_9e3d_5bde62e03ae7level1_row5\" class=\"row_heading level1 row5\" >&ПЕРВЫЙ_ШАГ_знаю_с_чего_начать</th>\n",
       "                        <td id=\"T_8db2a3c4_ad9a_11ea_9e3d_5bde62e03ae7row5_col0\" class=\"data row5 col0\" >3.668610</td>\n",
       "            </tr>\n",
       "            <tr>\n",
       "                                <th id=\"T_8db2a3c4_ad9a_11ea_9e3d_5bde62e03ae7level1_row6\" class=\"row_heading level1 row6\" >&ТИП_ЦЕЛИ_Приобрести_новые_навыки</th>\n",
       "                        <td id=\"T_8db2a3c4_ad9a_11ea_9e3d_5bde62e03ae7row6_col0\" class=\"data row6 col0\" >3.409990</td>\n",
       "            </tr>\n",
       "            <tr>\n",
       "                                <th id=\"T_8db2a3c4_ad9a_11ea_9e3d_5bde62e03ae7level1_row7\" class=\"row_heading level1 row7\" >&ТИП_ЦЕЛИ_Получить_знания_в_новой_области</th>\n",
       "                        <td id=\"T_8db2a3c4_ad9a_11ea_9e3d_5bde62e03ae7row7_col0\" class=\"data row7 col0\" >3.135100</td>\n",
       "            </tr>\n",
       "            <tr>\n",
       "                                <th id=\"T_8db2a3c4_ad9a_11ea_9e3d_5bde62e03ae7level1_row8\" class=\"row_heading level1 row8\" >&ВРЕМЕННЫЕ_ГРАНИЦЫ_Нет_жестких_сроков</th>\n",
       "                        <td id=\"T_8db2a3c4_ad9a_11ea_9e3d_5bde62e03ae7row8_col0\" class=\"data row8 col0\" >2.446190</td>\n",
       "            </tr>\n",
       "            <tr>\n",
       "                                <th id=\"T_8db2a3c4_ad9a_11ea_9e3d_5bde62e03ae7level1_row9\" class=\"row_heading level1 row9\" >&ТИП_ЦЕЛИ_Включиться_в_новый_проект/деятельность</th>\n",
       "                        <td id=\"T_8db2a3c4_ad9a_11ea_9e3d_5bde62e03ae7row9_col0\" class=\"data row9 col0\" >2.403010</td>\n",
       "            </tr>\n",
       "    </tbody></table><style  type=\"text/css\" >\n",
       "</style><table id=\"T_8db52a0e_ad9a_11ea_9e3d_5bde62e03ae7\" style='display:inline'><thead>    <tr>        <th class=\"blank\" ></th>        <th class=\"blank level0\" ></th>        <th class=\"col_heading level0 col0\" >topic_7</th>    </tr>    <tr>        <th class=\"index_name level0\" >modality</th>        <th class=\"index_name level1\" >token</th>        <th class=\"blank\" ></th>    </tr></thead><tbody>\n",
       "                <tr>\n",
       "                        <th id=\"T_8db52a0e_ad9a_11ea_9e3d_5bde62e03ae7level0_row0\" class=\"row_heading level0 row0\" rowspan=10>@ngram</th>\n",
       "                        <th id=\"T_8db52a0e_ad9a_11ea_9e3d_5bde62e03ae7level1_row0\" class=\"row_heading level1 row0\" >стать</th>\n",
       "                        <td id=\"T_8db52a0e_ad9a_11ea_9e3d_5bde62e03ae7row0_col0\" class=\"data row0 col0\" >4.974540</td>\n",
       "            </tr>\n",
       "            <tr>\n",
       "                                <th id=\"T_8db52a0e_ad9a_11ea_9e3d_5bde62e03ae7level1_row1\" class=\"row_heading level1 row1\" >свой</th>\n",
       "                        <td id=\"T_8db52a0e_ad9a_11ea_9e3d_5bde62e03ae7row1_col0\" class=\"data row1 col0\" >3.317700</td>\n",
       "            </tr>\n",
       "            <tr>\n",
       "                                <th id=\"T_8db52a0e_ad9a_11ea_9e3d_5bde62e03ae7level1_row2\" class=\"row_heading level1 row2\" >курс</th>\n",
       "                        <td id=\"T_8db52a0e_ad9a_11ea_9e3d_5bde62e03ae7row2_col0\" class=\"data row2 col0\" >2.752270</td>\n",
       "            </tr>\n",
       "            <tr>\n",
       "                                <th id=\"T_8db52a0e_ad9a_11ea_9e3d_5bde62e03ae7level1_row3\" class=\"row_heading level1 row3\" >область</th>\n",
       "                        <td id=\"T_8db52a0e_ad9a_11ea_9e3d_5bde62e03ae7row3_col0\" class=\"data row3 col0\" >2.554560</td>\n",
       "            </tr>\n",
       "            <tr>\n",
       "                                <th id=\"T_8db52a0e_ad9a_11ea_9e3d_5bde62e03ae7level1_row4\" class=\"row_heading level1 row4\" >профессионал</th>\n",
       "                        <td id=\"T_8db52a0e_ad9a_11ea_9e3d_5bde62e03ae7row4_col0\" class=\"data row4 col0\" >2.170570</td>\n",
       "            </tr>\n",
       "            <tr>\n",
       "                                <th id=\"T_8db52a0e_ad9a_11ea_9e3d_5bde62e03ae7level1_row5\" class=\"row_heading level1 row5\" >который</th>\n",
       "                        <td id=\"T_8db52a0e_ad9a_11ea_9e3d_5bde62e03ae7row5_col0\" class=\"data row5 col0\" >1.527160</td>\n",
       "            </tr>\n",
       "            <tr>\n",
       "                                <th id=\"T_8db52a0e_ad9a_11ea_9e3d_5bde62e03ae7level1_row6\" class=\"row_heading level1 row6\" >стать_профессионал</th>\n",
       "                        <td id=\"T_8db52a0e_ad9a_11ea_9e3d_5bde62e03ae7row6_col0\" class=\"data row6 col0\" >1.526110</td>\n",
       "            </tr>\n",
       "            <tr>\n",
       "                                <th id=\"T_8db52a0e_ad9a_11ea_9e3d_5bde62e03ae7level1_row7\" class=\"row_heading level1 row7\" >дело</th>\n",
       "                        <td id=\"T_8db52a0e_ad9a_11ea_9e3d_5bde62e03ae7row7_col0\" class=\"data row7 col0\" >1.525900</td>\n",
       "            </tr>\n",
       "            <tr>\n",
       "                                <th id=\"T_8db52a0e_ad9a_11ea_9e3d_5bde62e03ae7level1_row8\" class=\"row_heading level1 row8\" >эксперт</th>\n",
       "                        <td id=\"T_8db52a0e_ad9a_11ea_9e3d_5bde62e03ae7row8_col0\" class=\"data row8 col0\" >1.461400</td>\n",
       "            </tr>\n",
       "            <tr>\n",
       "                                <th id=\"T_8db52a0e_ad9a_11ea_9e3d_5bde62e03ae7level1_row9\" class=\"row_heading level1 row9\" >интересный</th>\n",
       "                        <td id=\"T_8db52a0e_ad9a_11ea_9e3d_5bde62e03ae7row9_col0\" class=\"data row9 col0\" >1.396520</td>\n",
       "            </tr>\n",
       "    </tbody></table>"
      ]
     },
     "metadata": {},
     "output_type": "display_data"
    },
    {
     "data": {
      "text/html": [
       "<style  type=\"text/css\" >\n",
       "</style><table id=\"T_8dbce82a_ad9a_11ea_9e3d_5bde62e03ae7\" style='display:inline'><thead>    <tr>        <th class=\"blank\" ></th>        <th class=\"blank level0\" ></th>        <th class=\"col_heading level0 col0\" >topic_8</th>    </tr>    <tr>        <th class=\"index_name level0\" >modality</th>        <th class=\"index_name level1\" >token</th>        <th class=\"blank\" ></th>    </tr></thead><tbody>\n",
       "                <tr>\n",
       "                        <th id=\"T_8dbce82a_ad9a_11ea_9e3d_5bde62e03ae7level0_row0\" class=\"row_heading level0 row0\" rowspan=10>@info</th>\n",
       "                        <th id=\"T_8dbce82a_ad9a_11ea_9e3d_5bde62e03ae7level1_row0\" class=\"row_heading level1 row0\" >&РЕЗУЛЬТАТ_Да,_четко</th>\n",
       "                        <td id=\"T_8dbce82a_ad9a_11ea_9e3d_5bde62e03ae7row0_col0\" class=\"data row0 col0\" >8.059900</td>\n",
       "            </tr>\n",
       "            <tr>\n",
       "                                <th id=\"T_8dbce82a_ad9a_11ea_9e3d_5bde62e03ae7level1_row1\" class=\"row_heading level1 row1\" >&ПРЕГРАДЫ_Не_вижу_преград</th>\n",
       "                        <td id=\"T_8dbce82a_ad9a_11ea_9e3d_5bde62e03ae7row1_col0\" class=\"data row1 col0\" >5.448240</td>\n",
       "            </tr>\n",
       "            <tr>\n",
       "                                <th id=\"T_8dbce82a_ad9a_11ea_9e3d_5bde62e03ae7level1_row2\" class=\"row_heading level1 row2\" >&ТИП_ЦЕЛИ_другое</th>\n",
       "                        <td id=\"T_8dbce82a_ad9a_11ea_9e3d_5bde62e03ae7row2_col0\" class=\"data row2 col0\" >5.017520</td>\n",
       "            </tr>\n",
       "            <tr>\n",
       "                                <th id=\"T_8dbce82a_ad9a_11ea_9e3d_5bde62e03ae7level1_row3\" class=\"row_heading level1 row3\" >&ПРЕГРАДЫ_есть_преграды</th>\n",
       "                        <td id=\"T_8dbce82a_ad9a_11ea_9e3d_5bde62e03ae7row3_col0\" class=\"data row3 col0\" >4.276020</td>\n",
       "            </tr>\n",
       "            <tr>\n",
       "                                <th id=\"T_8dbce82a_ad9a_11ea_9e3d_5bde62e03ae7level1_row4\" class=\"row_heading level1 row4\" >&ПЕРВЫЙ_ШАГ_знаю_с_чего_начать</th>\n",
       "                        <td id=\"T_8dbce82a_ad9a_11ea_9e3d_5bde62e03ae7row4_col0\" class=\"data row4 col0\" >3.835610</td>\n",
       "            </tr>\n",
       "            <tr>\n",
       "                                <th id=\"T_8dbce82a_ad9a_11ea_9e3d_5bde62e03ae7level1_row5\" class=\"row_heading level1 row5\" >&ТИП_ЦЕЛИ_Получить_знания_в_новой_области</th>\n",
       "                        <td id=\"T_8dbce82a_ad9a_11ea_9e3d_5bde62e03ae7row5_col0\" class=\"data row5 col0\" >3.460610</td>\n",
       "            </tr>\n",
       "            <tr>\n",
       "                                <th id=\"T_8dbce82a_ad9a_11ea_9e3d_5bde62e03ae7level1_row6\" class=\"row_heading level1 row6\" >&ТИП_ЦЕЛИ_Приобрести_новые_навыки</th>\n",
       "                        <td id=\"T_8dbce82a_ad9a_11ea_9e3d_5bde62e03ae7row6_col0\" class=\"data row6 col0\" >3.256170</td>\n",
       "            </tr>\n",
       "            <tr>\n",
       "                                <th id=\"T_8dbce82a_ad9a_11ea_9e3d_5bde62e03ae7level1_row7\" class=\"row_heading level1 row7\" >&ТИП_ЦЕЛИ_Развить_имеющиеся_знания_и_навыки</th>\n",
       "                        <td id=\"T_8dbce82a_ad9a_11ea_9e3d_5bde62e03ae7row7_col0\" class=\"data row7 col0\" >3.204970</td>\n",
       "            </tr>\n",
       "            <tr>\n",
       "                                <th id=\"T_8dbce82a_ad9a_11ea_9e3d_5bde62e03ae7level1_row8\" class=\"row_heading level1 row8\" >&ОСНОВНОЙ_ВИД_ДЕЙТЕЛЬНОСТИ_Работаю_в_организации,_предприятии</th>\n",
       "                        <td id=\"T_8dbce82a_ad9a_11ea_9e3d_5bde62e03ae7row8_col0\" class=\"data row8 col0\" >2.844820</td>\n",
       "            </tr>\n",
       "            <tr>\n",
       "                                <th id=\"T_8dbce82a_ad9a_11ea_9e3d_5bde62e03ae7level1_row9\" class=\"row_heading level1 row9\" >&ВРЕМЕННЫЕ_ГРАНИЦЫ_Нет_жестких_сроков</th>\n",
       "                        <td id=\"T_8dbce82a_ad9a_11ea_9e3d_5bde62e03ae7row9_col0\" class=\"data row9 col0\" >2.653260</td>\n",
       "            </tr>\n",
       "    </tbody></table><style  type=\"text/css\" >\n",
       "</style><table id=\"T_8dbe7cc6_ad9a_11ea_9e3d_5bde62e03ae7\" style='display:inline'><thead>    <tr>        <th class=\"blank\" ></th>        <th class=\"blank level0\" ></th>        <th class=\"col_heading level0 col0\" >topic_8</th>    </tr>    <tr>        <th class=\"index_name level0\" >modality</th>        <th class=\"index_name level1\" >token</th>        <th class=\"blank\" ></th>    </tr></thead><tbody>\n",
       "                <tr>\n",
       "                        <th id=\"T_8dbe7cc6_ad9a_11ea_9e3d_5bde62e03ae7level0_row0\" class=\"row_heading level0 row0\" rowspan=10>@ngram</th>\n",
       "                        <th id=\"T_8dbe7cc6_ad9a_11ea_9e3d_5bde62e03ae7level1_row0\" class=\"row_heading level1 row0\" >иностранный</th>\n",
       "                        <td id=\"T_8dbe7cc6_ad9a_11ea_9e3d_5bde62e03ae7row0_col0\" class=\"data row0 col0\" >2.845320</td>\n",
       "            </tr>\n",
       "            <tr>\n",
       "                                <th id=\"T_8dbe7cc6_ad9a_11ea_9e3d_5bde62e03ae7level1_row1\" class=\"row_heading level1 row1\" >язык</th>\n",
       "                        <td id=\"T_8dbe7cc6_ad9a_11ea_9e3d_5bde62e03ae7row1_col0\" class=\"data row1 col0\" >2.832850</td>\n",
       "            </tr>\n",
       "            <tr>\n",
       "                                <th id=\"T_8dbe7cc6_ad9a_11ea_9e3d_5bde62e03ae7level1_row2\" class=\"row_heading level1 row2\" >иностранный_язык</th>\n",
       "                        <td id=\"T_8dbe7cc6_ad9a_11ea_9e3d_5bde62e03ae7row2_col0\" class=\"data row2 col0\" >2.707140</td>\n",
       "            </tr>\n",
       "            <tr>\n",
       "                                <th id=\"T_8dbe7cc6_ad9a_11ea_9e3d_5bde62e03ae7level1_row3\" class=\"row_heading level1 row3\" >цель</th>\n",
       "                        <td id=\"T_8dbe7cc6_ad9a_11ea_9e3d_5bde62e03ae7row3_col0\" class=\"data row3 col0\" >1.866460</td>\n",
       "            </tr>\n",
       "            <tr>\n",
       "                                <th id=\"T_8dbe7cc6_ad9a_11ea_9e3d_5bde62e03ae7level1_row4\" class=\"row_heading level1 row4\" >задача</th>\n",
       "                        <td id=\"T_8dbe7cc6_ad9a_11ea_9e3d_5bde62e03ae7row4_col0\" class=\"data row4 col0\" >1.468630</td>\n",
       "            </tr>\n",
       "            <tr>\n",
       "                                <th id=\"T_8dbe7cc6_ad9a_11ea_9e3d_5bde62e03ae7level1_row5\" class=\"row_heading level1 row5\" >достижение</th>\n",
       "                        <td id=\"T_8dbe7cc6_ad9a_11ea_9e3d_5bde62e03ae7row5_col0\" class=\"data row5 col0\" >1.407680</td>\n",
       "            </tr>\n",
       "            <tr>\n",
       "                                <th id=\"T_8dbe7cc6_ad9a_11ea_9e3d_5bde62e03ae7level1_row6\" class=\"row_heading level1 row6\" >свой</th>\n",
       "                        <td id=\"T_8dbe7cc6_ad9a_11ea_9e3d_5bde62e03ae7row6_col0\" class=\"data row6 col0\" >1.301650</td>\n",
       "            </tr>\n",
       "            <tr>\n",
       "                                <th id=\"T_8dbe7cc6_ad9a_11ea_9e3d_5bde62e03ae7level1_row7\" class=\"row_heading level1 row7\" >саморазвитие</th>\n",
       "                        <td id=\"T_8dbe7cc6_ad9a_11ea_9e3d_5bde62e03ae7row7_col0\" class=\"data row7 col0\" >1.263850</td>\n",
       "            </tr>\n",
       "            <tr>\n",
       "                                <th id=\"T_8dbe7cc6_ad9a_11ea_9e3d_5bde62e03ae7level1_row8\" class=\"row_heading level1 row8\" >выучить</th>\n",
       "                        <td id=\"T_8dbe7cc6_ad9a_11ea_9e3d_5bde62e03ae7row8_col0\" class=\"data row8 col0\" >1.244940</td>\n",
       "            </tr>\n",
       "            <tr>\n",
       "                                <th id=\"T_8dbe7cc6_ad9a_11ea_9e3d_5bde62e03ae7level1_row9\" class=\"row_heading level1 row9\" >успех</th>\n",
       "                        <td id=\"T_8dbe7cc6_ad9a_11ea_9e3d_5bde62e03ae7row9_col0\" class=\"data row9 col0\" >1.064430</td>\n",
       "            </tr>\n",
       "    </tbody></table>"
      ]
     },
     "metadata": {},
     "output_type": "display_data"
    },
    {
     "data": {
      "text/html": [
       "<style  type=\"text/css\" >\n",
       "</style><table id=\"T_8dc5eba0_ad9a_11ea_9e3d_5bde62e03ae7\" style='display:inline'><thead>    <tr>        <th class=\"blank\" ></th>        <th class=\"blank level0\" ></th>        <th class=\"col_heading level0 col0\" >topic_9</th>    </tr>    <tr>        <th class=\"index_name level0\" >modality</th>        <th class=\"index_name level1\" >token</th>        <th class=\"blank\" ></th>    </tr></thead><tbody>\n",
       "                <tr>\n",
       "                        <th id=\"T_8dc5eba0_ad9a_11ea_9e3d_5bde62e03ae7level0_row0\" class=\"row_heading level0 row0\" rowspan=10>@info</th>\n",
       "                        <th id=\"T_8dc5eba0_ad9a_11ea_9e3d_5bde62e03ae7level1_row0\" class=\"row_heading level1 row0\" >&РЕЗУЛЬТАТ_Да,_четко</th>\n",
       "                        <td id=\"T_8dc5eba0_ad9a_11ea_9e3d_5bde62e03ae7row0_col0\" class=\"data row0 col0\" >10.301710</td>\n",
       "            </tr>\n",
       "            <tr>\n",
       "                                <th id=\"T_8dc5eba0_ad9a_11ea_9e3d_5bde62e03ae7level1_row1\" class=\"row_heading level1 row1\" >&ПРЕГРАДЫ_Не_вижу_преград</th>\n",
       "                        <td id=\"T_8dc5eba0_ad9a_11ea_9e3d_5bde62e03ae7row1_col0\" class=\"data row1 col0\" >5.782790</td>\n",
       "            </tr>\n",
       "            <tr>\n",
       "                                <th id=\"T_8dc5eba0_ad9a_11ea_9e3d_5bde62e03ae7level1_row2\" class=\"row_heading level1 row2\" >&ПРЕГРАДЫ_есть_преграды</th>\n",
       "                        <td id=\"T_8dc5eba0_ad9a_11ea_9e3d_5bde62e03ae7row2_col0\" class=\"data row2 col0\" >5.601140</td>\n",
       "            </tr>\n",
       "            <tr>\n",
       "                                <th id=\"T_8dc5eba0_ad9a_11ea_9e3d_5bde62e03ae7level1_row3\" class=\"row_heading level1 row3\" >&ПЕРВЫЙ_ШАГ_знаю_с_чего_начать</th>\n",
       "                        <td id=\"T_8dc5eba0_ad9a_11ea_9e3d_5bde62e03ae7row3_col0\" class=\"data row3 col0\" >4.714010</td>\n",
       "            </tr>\n",
       "            <tr>\n",
       "                                <th id=\"T_8dc5eba0_ad9a_11ea_9e3d_5bde62e03ae7level1_row4\" class=\"row_heading level1 row4\" >&ТИП_ЦЕЛИ_Развить_имеющиеся_знания_и_навыки</th>\n",
       "                        <td id=\"T_8dc5eba0_ad9a_11ea_9e3d_5bde62e03ae7row4_col0\" class=\"data row4 col0\" >3.917020</td>\n",
       "            </tr>\n",
       "            <tr>\n",
       "                                <th id=\"T_8dc5eba0_ad9a_11ea_9e3d_5bde62e03ae7level1_row5\" class=\"row_heading level1 row5\" >&ТИП_ЦЕЛИ_Приобрести_новые_навыки</th>\n",
       "                        <td id=\"T_8dc5eba0_ad9a_11ea_9e3d_5bde62e03ae7row5_col0\" class=\"data row5 col0\" >3.684610</td>\n",
       "            </tr>\n",
       "            <tr>\n",
       "                                <th id=\"T_8dc5eba0_ad9a_11ea_9e3d_5bde62e03ae7level1_row6\" class=\"row_heading level1 row6\" >&ТИП_ЦЕЛИ_Получить_знания_в_новой_области</th>\n",
       "                        <td id=\"T_8dc5eba0_ad9a_11ea_9e3d_5bde62e03ae7row6_col0\" class=\"data row6 col0\" >3.534280</td>\n",
       "            </tr>\n",
       "            <tr>\n",
       "                                <th id=\"T_8dc5eba0_ad9a_11ea_9e3d_5bde62e03ae7level1_row7\" class=\"row_heading level1 row7\" >&ОБЛАСТЬ_ЦЕЛИ_Иностранные_языки,_гуманитарные_знания_и_навыки</th>\n",
       "                        <td id=\"T_8dc5eba0_ad9a_11ea_9e3d_5bde62e03ae7row7_col0\" class=\"data row7 col0\" >3.371160</td>\n",
       "            </tr>\n",
       "            <tr>\n",
       "                                <th id=\"T_8dc5eba0_ad9a_11ea_9e3d_5bde62e03ae7level1_row8\" class=\"row_heading level1 row8\" >&ПОДОБЛАСТЬ_ЦЕЛИ_Иностранные_языки</th>\n",
       "                        <td id=\"T_8dc5eba0_ad9a_11ea_9e3d_5bde62e03ae7row8_col0\" class=\"data row8 col0\" >3.295490</td>\n",
       "            </tr>\n",
       "            <tr>\n",
       "                                <th id=\"T_8dc5eba0_ad9a_11ea_9e3d_5bde62e03ae7level1_row9\" class=\"row_heading level1 row9\" >&ТИП_ЦЕЛИ_другое</th>\n",
       "                        <td id=\"T_8dc5eba0_ad9a_11ea_9e3d_5bde62e03ae7row9_col0\" class=\"data row9 col0\" >3.248130</td>\n",
       "            </tr>\n",
       "    </tbody></table><style  type=\"text/css\" >\n",
       "</style><table id=\"T_8dc789f6_ad9a_11ea_9e3d_5bde62e03ae7\" style='display:inline'><thead>    <tr>        <th class=\"blank\" ></th>        <th class=\"blank level0\" ></th>        <th class=\"col_heading level0 col0\" >topic_9</th>    </tr>    <tr>        <th class=\"index_name level0\" >modality</th>        <th class=\"index_name level1\" >token</th>        <th class=\"blank\" ></th>    </tr></thead><tbody>\n",
       "                <tr>\n",
       "                        <th id=\"T_8dc789f6_ad9a_11ea_9e3d_5bde62e03ae7level0_row0\" class=\"row_heading level0 row0\" rowspan=10>@ngram</th>\n",
       "                        <th id=\"T_8dc789f6_ad9a_11ea_9e3d_5bde62e03ae7level1_row0\" class=\"row_heading level1 row0\" >язык</th>\n",
       "                        <td id=\"T_8dc789f6_ad9a_11ea_9e3d_5bde62e03ae7row0_col0\" class=\"data row0 col0\" >9.193080</td>\n",
       "            </tr>\n",
       "            <tr>\n",
       "                                <th id=\"T_8dc789f6_ad9a_11ea_9e3d_5bde62e03ae7level1_row1\" class=\"row_heading level1 row1\" >английский</th>\n",
       "                        <td id=\"T_8dc789f6_ad9a_11ea_9e3d_5bde62e03ae7row1_col0\" class=\"data row1 col0\" >7.140100</td>\n",
       "            </tr>\n",
       "            <tr>\n",
       "                                <th id=\"T_8dc789f6_ad9a_11ea_9e3d_5bde62e03ae7level1_row2\" class=\"row_heading level1 row2\" >английский_язык</th>\n",
       "                        <td id=\"T_8dc789f6_ad9a_11ea_9e3d_5bde62e03ae7row2_col0\" class=\"data row2 col0\" >5.080770</td>\n",
       "            </tr>\n",
       "            <tr>\n",
       "                                <th id=\"T_8dc789f6_ad9a_11ea_9e3d_5bde62e03ae7level1_row3\" class=\"row_heading level1 row3\" >выучить</th>\n",
       "                        <td id=\"T_8dc789f6_ad9a_11ea_9e3d_5bde62e03ae7row3_col0\" class=\"data row3 col0\" >4.373520</td>\n",
       "            </tr>\n",
       "            <tr>\n",
       "                                <th id=\"T_8dc789f6_ad9a_11ea_9e3d_5bde62e03ae7level1_row4\" class=\"row_heading level1 row4\" >высокий</th>\n",
       "                        <td id=\"T_8dc789f6_ad9a_11ea_9e3d_5bde62e03ae7row4_col0\" class=\"data row4 col0\" >3.490000</td>\n",
       "            </tr>\n",
       "            <tr>\n",
       "                                <th id=\"T_8dc789f6_ad9a_11ea_9e3d_5bde62e03ae7level1_row5\" class=\"row_heading level1 row5\" >образование</th>\n",
       "                        <td id=\"T_8dc789f6_ad9a_11ea_9e3d_5bde62e03ae7row5_col0\" class=\"data row5 col0\" >2.790010</td>\n",
       "            </tr>\n",
       "            <tr>\n",
       "                                <th id=\"T_8dc789f6_ad9a_11ea_9e3d_5bde62e03ae7level1_row6\" class=\"row_heading level1 row6\" >высокий_образование</th>\n",
       "                        <td id=\"T_8dc789f6_ad9a_11ea_9e3d_5bde62e03ae7row6_col0\" class=\"data row6 col0\" >2.672990</td>\n",
       "            </tr>\n",
       "            <tr>\n",
       "                                <th id=\"T_8dc789f6_ad9a_11ea_9e3d_5bde62e03ae7level1_row7\" class=\"row_heading level1 row7\" >получить</th>\n",
       "                        <td id=\"T_8dc789f6_ad9a_11ea_9e3d_5bde62e03ae7row7_col0\" class=\"data row7 col0\" >2.408790</td>\n",
       "            </tr>\n",
       "            <tr>\n",
       "                                <th id=\"T_8dc789f6_ad9a_11ea_9e3d_5bde62e03ae7level1_row8\" class=\"row_heading level1 row8\" >получить_высокий</th>\n",
       "                        <td id=\"T_8dc789f6_ad9a_11ea_9e3d_5bde62e03ae7row8_col0\" class=\"data row8 col0\" >2.265180</td>\n",
       "            </tr>\n",
       "            <tr>\n",
       "                                <th id=\"T_8dc789f6_ad9a_11ea_9e3d_5bde62e03ae7level1_row9\" class=\"row_heading level1 row9\" >выучить_английский</th>\n",
       "                        <td id=\"T_8dc789f6_ad9a_11ea_9e3d_5bde62e03ae7row9_col0\" class=\"data row9 col0\" >2.214260</td>\n",
       "            </tr>\n",
       "    </tbody></table>"
      ]
     },
     "metadata": {},
     "output_type": "display_data"
    },
    {
     "data": {
      "text/html": [
       "<style  type=\"text/css\" >\n",
       "</style><table id=\"T_8dceb064_ad9a_11ea_9e3d_5bde62e03ae7\" style='display:inline'><thead>    <tr>        <th class=\"blank\" ></th>        <th class=\"blank level0\" ></th>        <th class=\"col_heading level0 col0\" >topic_10</th>    </tr>    <tr>        <th class=\"index_name level0\" >modality</th>        <th class=\"index_name level1\" >token</th>        <th class=\"blank\" ></th>    </tr></thead><tbody>\n",
       "                <tr>\n",
       "                        <th id=\"T_8dceb064_ad9a_11ea_9e3d_5bde62e03ae7level0_row0\" class=\"row_heading level0 row0\" rowspan=10>@info</th>\n",
       "                        <th id=\"T_8dceb064_ad9a_11ea_9e3d_5bde62e03ae7level1_row0\" class=\"row_heading level1 row0\" >&РЕЗУЛЬТАТ_Да,_четко</th>\n",
       "                        <td id=\"T_8dceb064_ad9a_11ea_9e3d_5bde62e03ae7row0_col0\" class=\"data row0 col0\" >8.099940</td>\n",
       "            </tr>\n",
       "            <tr>\n",
       "                                <th id=\"T_8dceb064_ad9a_11ea_9e3d_5bde62e03ae7level1_row1\" class=\"row_heading level1 row1\" >&ПРЕГРАДЫ_Не_вижу_преград</th>\n",
       "                        <td id=\"T_8dceb064_ad9a_11ea_9e3d_5bde62e03ae7row1_col0\" class=\"data row1 col0\" >5.483220</td>\n",
       "            </tr>\n",
       "            <tr>\n",
       "                                <th id=\"T_8dceb064_ad9a_11ea_9e3d_5bde62e03ae7level1_row2\" class=\"row_heading level1 row2\" >&ТИП_ЦЕЛИ_другое</th>\n",
       "                        <td id=\"T_8dceb064_ad9a_11ea_9e3d_5bde62e03ae7row2_col0\" class=\"data row2 col0\" >5.424500</td>\n",
       "            </tr>\n",
       "            <tr>\n",
       "                                <th id=\"T_8dceb064_ad9a_11ea_9e3d_5bde62e03ae7level1_row3\" class=\"row_heading level1 row3\" >&ПРЕГРАДЫ_есть_преграды</th>\n",
       "                        <td id=\"T_8dceb064_ad9a_11ea_9e3d_5bde62e03ae7row3_col0\" class=\"data row3 col0\" >3.962480</td>\n",
       "            </tr>\n",
       "            <tr>\n",
       "                                <th id=\"T_8dceb064_ad9a_11ea_9e3d_5bde62e03ae7level1_row4\" class=\"row_heading level1 row4\" >&ПЕРВЫЙ_ШАГ_знаю_с_чего_начать</th>\n",
       "                        <td id=\"T_8dceb064_ad9a_11ea_9e3d_5bde62e03ae7row4_col0\" class=\"data row4 col0\" >3.791710</td>\n",
       "            </tr>\n",
       "            <tr>\n",
       "                                <th id=\"T_8dceb064_ad9a_11ea_9e3d_5bde62e03ae7level1_row5\" class=\"row_heading level1 row5\" >&ТИП_ЦЕЛИ_Развить_имеющиеся_знания_и_навыки</th>\n",
       "                        <td id=\"T_8dceb064_ad9a_11ea_9e3d_5bde62e03ae7row5_col0\" class=\"data row5 col0\" >3.214170</td>\n",
       "            </tr>\n",
       "            <tr>\n",
       "                                <th id=\"T_8dceb064_ad9a_11ea_9e3d_5bde62e03ae7level1_row6\" class=\"row_heading level1 row6\" >&ТИП_ЦЕЛИ_Приобрести_новые_навыки</th>\n",
       "                        <td id=\"T_8dceb064_ad9a_11ea_9e3d_5bde62e03ae7row6_col0\" class=\"data row6 col0\" >3.043100</td>\n",
       "            </tr>\n",
       "            <tr>\n",
       "                                <th id=\"T_8dceb064_ad9a_11ea_9e3d_5bde62e03ae7level1_row7\" class=\"row_heading level1 row7\" >&РЕЗУЛЬТАТ_Да,_нечетко</th>\n",
       "                        <td id=\"T_8dceb064_ad9a_11ea_9e3d_5bde62e03ae7row7_col0\" class=\"data row7 col0\" >2.962040</td>\n",
       "            </tr>\n",
       "            <tr>\n",
       "                                <th id=\"T_8dceb064_ad9a_11ea_9e3d_5bde62e03ae7level1_row8\" class=\"row_heading level1 row8\" >&ОСНОВНОЙ_ВИД_ДЕЙТЕЛЬНОСТИ_Работаю_в_организации,_предприятии</th>\n",
       "                        <td id=\"T_8dceb064_ad9a_11ea_9e3d_5bde62e03ae7row8_col0\" class=\"data row8 col0\" >2.669710</td>\n",
       "            </tr>\n",
       "            <tr>\n",
       "                                <th id=\"T_8dceb064_ad9a_11ea_9e3d_5bde62e03ae7level1_row9\" class=\"row_heading level1 row9\" >&ТИП_ЦЕЛИ_Получить_знания_в_новой_области</th>\n",
       "                        <td id=\"T_8dceb064_ad9a_11ea_9e3d_5bde62e03ae7row9_col0\" class=\"data row9 col0\" >2.568650</td>\n",
       "            </tr>\n",
       "    </tbody></table><style  type=\"text/css\" >\n",
       "</style><table id=\"T_8dd056da_ad9a_11ea_9e3d_5bde62e03ae7\" style='display:inline'><thead>    <tr>        <th class=\"blank\" ></th>        <th class=\"blank level0\" ></th>        <th class=\"col_heading level0 col0\" >topic_10</th>    </tr>    <tr>        <th class=\"index_name level0\" >modality</th>        <th class=\"index_name level1\" >token</th>        <th class=\"blank\" ></th>    </tr></thead><tbody>\n",
       "                <tr>\n",
       "                        <th id=\"T_8dd056da_ad9a_11ea_9e3d_5bde62e03ae7level0_row0\" class=\"row_heading level0 row0\" rowspan=10>@ngram</th>\n",
       "                        <th id=\"T_8dd056da_ad9a_11ea_9e3d_5bde62e03ae7level1_row0\" class=\"row_heading level1 row0\" >рост</th>\n",
       "                        <td id=\"T_8dd056da_ad9a_11ea_9e3d_5bde62e03ae7row0_col0\" class=\"data row0 col0\" >4.045810</td>\n",
       "            </tr>\n",
       "            <tr>\n",
       "                                <th id=\"T_8dd056da_ad9a_11ea_9e3d_5bde62e03ae7level1_row1\" class=\"row_heading level1 row1\" >карьерный</th>\n",
       "                        <td id=\"T_8dd056da_ad9a_11ea_9e3d_5bde62e03ae7row1_col0\" class=\"data row1 col0\" >3.998040</td>\n",
       "            </tr>\n",
       "            <tr>\n",
       "                                <th id=\"T_8dd056da_ad9a_11ea_9e3d_5bde62e03ae7level1_row2\" class=\"row_heading level1 row2\" >карьерный_рост</th>\n",
       "                        <td id=\"T_8dd056da_ad9a_11ea_9e3d_5bde62e03ae7row2_col0\" class=\"data row2 col0\" >3.932120</td>\n",
       "            </tr>\n",
       "            <tr>\n",
       "                                <th id=\"T_8dd056da_ad9a_11ea_9e3d_5bde62e03ae7level1_row3\" class=\"row_heading level1 row3\" >работа</th>\n",
       "                        <td id=\"T_8dd056da_ad9a_11ea_9e3d_5bde62e03ae7row3_col0\" class=\"data row3 col0\" >3.739860</td>\n",
       "            </tr>\n",
       "            <tr>\n",
       "                                <th id=\"T_8dd056da_ad9a_11ea_9e3d_5bde62e03ae7level1_row4\" class=\"row_heading level1 row4\" >получить</th>\n",
       "                        <td id=\"T_8dd056da_ad9a_11ea_9e3d_5bde62e03ae7row4_col0\" class=\"data row4 col0\" >2.355080</td>\n",
       "            </tr>\n",
       "            <tr>\n",
       "                                <th id=\"T_8dd056da_ad9a_11ea_9e3d_5bde62e03ae7level1_row5\" class=\"row_heading level1 row5\" >который</th>\n",
       "                        <td id=\"T_8dd056da_ad9a_11ea_9e3d_5bde62e03ae7row5_col0\" class=\"data row5 col0\" >1.499920</td>\n",
       "            </tr>\n",
       "            <tr>\n",
       "                                <th id=\"T_8dd056da_ad9a_11ea_9e3d_5bde62e03ae7level1_row6\" class=\"row_heading level1 row6\" >личный</th>\n",
       "                        <td id=\"T_8dd056da_ad9a_11ea_9e3d_5bde62e03ae7row6_col0\" class=\"data row6 col0\" >1.337840</td>\n",
       "            </tr>\n",
       "            <tr>\n",
       "                                <th id=\"T_8dd056da_ad9a_11ea_9e3d_5bde62e03ae7level1_row7\" class=\"row_heading level1 row7\" >образование</th>\n",
       "                        <td id=\"T_8dd056da_ad9a_11ea_9e3d_5bde62e03ae7row7_col0\" class=\"data row7 col0\" >1.242620</td>\n",
       "            </tr>\n",
       "            <tr>\n",
       "                                <th id=\"T_8dd056da_ad9a_11ea_9e3d_5bde62e03ae7level1_row8\" class=\"row_heading level1 row8\" >хотеть</th>\n",
       "                        <td id=\"T_8dd056da_ad9a_11ea_9e3d_5bde62e03ae7row8_col0\" class=\"data row8 col0\" >1.221660</td>\n",
       "            </tr>\n",
       "            <tr>\n",
       "                                <th id=\"T_8dd056da_ad9a_11ea_9e3d_5bde62e03ae7level1_row9\" class=\"row_heading level1 row9\" >найти</th>\n",
       "                        <td id=\"T_8dd056da_ad9a_11ea_9e3d_5bde62e03ae7row9_col0\" class=\"data row9 col0\" >1.016860</td>\n",
       "            </tr>\n",
       "    </tbody></table>"
      ]
     },
     "metadata": {},
     "output_type": "display_data"
    },
    {
     "data": {
      "text/html": [
       "<style  type=\"text/css\" >\n",
       "</style><table id=\"T_8dd68636_ad9a_11ea_9e3d_5bde62e03ae7\" style='display:inline'><thead>    <tr>        <th class=\"blank\" ></th>        <th class=\"blank level0\" ></th>        <th class=\"col_heading level0 col0\" >topic_11</th>    </tr>    <tr>        <th class=\"index_name level0\" >modality</th>        <th class=\"index_name level1\" >token</th>        <th class=\"blank\" ></th>    </tr></thead><tbody>\n",
       "                <tr>\n",
       "                        <th id=\"T_8dd68636_ad9a_11ea_9e3d_5bde62e03ae7level0_row0\" class=\"row_heading level0 row0\" rowspan=10>@info</th>\n",
       "                        <th id=\"T_8dd68636_ad9a_11ea_9e3d_5bde62e03ae7level1_row0\" class=\"row_heading level1 row0\" >&РЕЗУЛЬТАТ_Да,_четко</th>\n",
       "                        <td id=\"T_8dd68636_ad9a_11ea_9e3d_5bde62e03ae7row0_col0\" class=\"data row0 col0\" >6.465720</td>\n",
       "            </tr>\n",
       "            <tr>\n",
       "                                <th id=\"T_8dd68636_ad9a_11ea_9e3d_5bde62e03ae7level1_row1\" class=\"row_heading level1 row1\" >&ТИП_ЦЕЛИ_другое</th>\n",
       "                        <td id=\"T_8dd68636_ad9a_11ea_9e3d_5bde62e03ae7row1_col0\" class=\"data row1 col0\" >5.763010</td>\n",
       "            </tr>\n",
       "            <tr>\n",
       "                                <th id=\"T_8dd68636_ad9a_11ea_9e3d_5bde62e03ae7level1_row2\" class=\"row_heading level1 row2\" >&ПРЕГРАДЫ_Не_вижу_преград</th>\n",
       "                        <td id=\"T_8dd68636_ad9a_11ea_9e3d_5bde62e03ae7row2_col0\" class=\"data row2 col0\" >4.962800</td>\n",
       "            </tr>\n",
       "            <tr>\n",
       "                                <th id=\"T_8dd68636_ad9a_11ea_9e3d_5bde62e03ae7level1_row3\" class=\"row_heading level1 row3\" >&ПРЕГРАДЫ_есть_преграды</th>\n",
       "                        <td id=\"T_8dd68636_ad9a_11ea_9e3d_5bde62e03ae7row3_col0\" class=\"data row3 col0\" >4.273190</td>\n",
       "            </tr>\n",
       "            <tr>\n",
       "                                <th id=\"T_8dd68636_ad9a_11ea_9e3d_5bde62e03ae7level1_row4\" class=\"row_heading level1 row4\" >&ПЕРВЫЙ_ШАГ_знаю_с_чего_начать</th>\n",
       "                        <td id=\"T_8dd68636_ad9a_11ea_9e3d_5bde62e03ae7row4_col0\" class=\"data row4 col0\" >4.038890</td>\n",
       "            </tr>\n",
       "            <tr>\n",
       "                                <th id=\"T_8dd68636_ad9a_11ea_9e3d_5bde62e03ae7level1_row5\" class=\"row_heading level1 row5\" >&ТИП_ЦЕЛИ_Развить_имеющиеся_знания_и_навыки</th>\n",
       "                        <td id=\"T_8dd68636_ad9a_11ea_9e3d_5bde62e03ae7row5_col0\" class=\"data row5 col0\" >3.479670</td>\n",
       "            </tr>\n",
       "            <tr>\n",
       "                                <th id=\"T_8dd68636_ad9a_11ea_9e3d_5bde62e03ae7level1_row6\" class=\"row_heading level1 row6\" >&ТИП_ЦЕЛИ_Приобрести_новые_навыки</th>\n",
       "                        <td id=\"T_8dd68636_ad9a_11ea_9e3d_5bde62e03ae7row6_col0\" class=\"data row6 col0\" >3.193980</td>\n",
       "            </tr>\n",
       "            <tr>\n",
       "                                <th id=\"T_8dd68636_ad9a_11ea_9e3d_5bde62e03ae7level1_row7\" class=\"row_heading level1 row7\" >&ТИП_ЦЕЛИ_Получить_знания_в_новой_области</th>\n",
       "                        <td id=\"T_8dd68636_ad9a_11ea_9e3d_5bde62e03ae7row7_col0\" class=\"data row7 col0\" >3.050910</td>\n",
       "            </tr>\n",
       "            <tr>\n",
       "                                <th id=\"T_8dd68636_ad9a_11ea_9e3d_5bde62e03ae7level1_row8\" class=\"row_heading level1 row8\" >&ВРЕМЕННЫЕ_ГРАНИЦЫ_Нет_жестких_сроков</th>\n",
       "                        <td id=\"T_8dd68636_ad9a_11ea_9e3d_5bde62e03ae7row8_col0\" class=\"data row8 col0\" >2.670270</td>\n",
       "            </tr>\n",
       "            <tr>\n",
       "                                <th id=\"T_8dd68636_ad9a_11ea_9e3d_5bde62e03ae7level1_row9\" class=\"row_heading level1 row9\" >&ОСНОВНОЙ_ВИД_ДЕЙТЕЛЬНОСТИ_Работаю_в_организации,_предприятии</th>\n",
       "                        <td id=\"T_8dd68636_ad9a_11ea_9e3d_5bde62e03ae7row9_col0\" class=\"data row9 col0\" >2.659710</td>\n",
       "            </tr>\n",
       "    </tbody></table><style  type=\"text/css\" >\n",
       "</style><table id=\"T_8dd79fee_ad9a_11ea_9e3d_5bde62e03ae7\" style='display:inline'><thead>    <tr>        <th class=\"blank\" ></th>        <th class=\"blank level0\" ></th>        <th class=\"col_heading level0 col0\" >topic_11</th>    </tr>    <tr>        <th class=\"index_name level0\" >modality</th>        <th class=\"index_name level1\" >token</th>        <th class=\"blank\" ></th>    </tr></thead><tbody>\n",
       "                <tr>\n",
       "                        <th id=\"T_8dd79fee_ad9a_11ea_9e3d_5bde62e03ae7level0_row0\" class=\"row_heading level0 row0\" rowspan=10>@ngram</th>\n",
       "                        <th id=\"T_8dd79fee_ad9a_11ea_9e3d_5bde62e03ae7level1_row0\" class=\"row_heading level1 row0\" >проект</th>\n",
       "                        <td id=\"T_8dd79fee_ad9a_11ea_9e3d_5bde62e03ae7row0_col0\" class=\"data row0 col0\" >2.943990</td>\n",
       "            </tr>\n",
       "            <tr>\n",
       "                                <th id=\"T_8dd79fee_ad9a_11ea_9e3d_5bde62e03ae7level1_row1\" class=\"row_heading level1 row1\" >личностный</th>\n",
       "                        <td id=\"T_8dd79fee_ad9a_11ea_9e3d_5bde62e03ae7row1_col0\" class=\"data row1 col0\" >2.893980</td>\n",
       "            </tr>\n",
       "            <tr>\n",
       "                                <th id=\"T_8dd79fee_ad9a_11ea_9e3d_5bde62e03ae7level1_row2\" class=\"row_heading level1 row2\" >рост</th>\n",
       "                        <td id=\"T_8dd79fee_ad9a_11ea_9e3d_5bde62e03ae7row2_col0\" class=\"data row2 col0\" >2.124840</td>\n",
       "            </tr>\n",
       "            <tr>\n",
       "                                <th id=\"T_8dd79fee_ad9a_11ea_9e3d_5bde62e03ae7level1_row3\" class=\"row_heading level1 row3\" >большой</th>\n",
       "                        <td id=\"T_8dd79fee_ad9a_11ea_9e3d_5bde62e03ae7row3_col0\" class=\"data row3 col0\" >1.821870</td>\n",
       "            </tr>\n",
       "            <tr>\n",
       "                                <th id=\"T_8dd79fee_ad9a_11ea_9e3d_5bde62e03ae7level1_row4\" class=\"row_heading level1 row4\" >развитие</th>\n",
       "                        <td id=\"T_8dd79fee_ad9a_11ea_9e3d_5bde62e03ae7row4_col0\" class=\"data row4 col0\" >1.758560</td>\n",
       "            </tr>\n",
       "            <tr>\n",
       "                                <th id=\"T_8dd79fee_ad9a_11ea_9e3d_5bde62e03ae7level1_row5\" class=\"row_heading level1 row5\" >личностный_рост</th>\n",
       "                        <td id=\"T_8dd79fee_ad9a_11ea_9e3d_5bde62e03ae7row5_col0\" class=\"data row5 col0\" >1.754110</td>\n",
       "            </tr>\n",
       "            <tr>\n",
       "                                <th id=\"T_8dd79fee_ad9a_11ea_9e3d_5bde62e03ae7level1_row6\" class=\"row_heading level1 row6\" >знать</th>\n",
       "                        <td id=\"T_8dd79fee_ad9a_11ea_9e3d_5bde62e03ae7row6_col0\" class=\"data row6 col0\" >1.610870</td>\n",
       "            </tr>\n",
       "            <tr>\n",
       "                                <th id=\"T_8dd79fee_ad9a_11ea_9e3d_5bde62e03ae7level1_row7\" class=\"row_heading level1 row7\" >создать</th>\n",
       "                        <td id=\"T_8dd79fee_ad9a_11ea_9e3d_5bde62e03ae7row7_col0\" class=\"data row7 col0\" >1.397600</td>\n",
       "            </tr>\n",
       "            <tr>\n",
       "                                <th id=\"T_8dd79fee_ad9a_11ea_9e3d_5bde62e03ae7level1_row8\" class=\"row_heading level1 row8\" >мир</th>\n",
       "                        <td id=\"T_8dd79fee_ad9a_11ea_9e3d_5bde62e03ae7row8_col0\" class=\"data row8 col0\" >1.369650</td>\n",
       "            </tr>\n",
       "            <tr>\n",
       "                                <th id=\"T_8dd79fee_ad9a_11ea_9e3d_5bde62e03ae7level1_row9\" class=\"row_heading level1 row9\" >читать</th>\n",
       "                        <td id=\"T_8dd79fee_ad9a_11ea_9e3d_5bde62e03ae7row9_col0\" class=\"data row9 col0\" >1.327980</td>\n",
       "            </tr>\n",
       "    </tbody></table>"
      ]
     },
     "metadata": {},
     "output_type": "display_data"
    },
    {
     "data": {
      "text/html": [
       "<style  type=\"text/css\" >\n",
       "</style><table id=\"T_8dde3264_ad9a_11ea_9e3d_5bde62e03ae7\" style='display:inline'><thead>    <tr>        <th class=\"blank\" ></th>        <th class=\"blank level0\" ></th>        <th class=\"col_heading level0 col0\" >topic_12</th>    </tr>    <tr>        <th class=\"index_name level0\" >modality</th>        <th class=\"index_name level1\" >token</th>        <th class=\"blank\" ></th>    </tr></thead><tbody>\n",
       "                <tr>\n",
       "                        <th id=\"T_8dde3264_ad9a_11ea_9e3d_5bde62e03ae7level0_row0\" class=\"row_heading level0 row0\" rowspan=10>@info</th>\n",
       "                        <th id=\"T_8dde3264_ad9a_11ea_9e3d_5bde62e03ae7level1_row0\" class=\"row_heading level1 row0\" >&РЕЗУЛЬТАТ_Да,_четко</th>\n",
       "                        <td id=\"T_8dde3264_ad9a_11ea_9e3d_5bde62e03ae7row0_col0\" class=\"data row0 col0\" >7.853410</td>\n",
       "            </tr>\n",
       "            <tr>\n",
       "                                <th id=\"T_8dde3264_ad9a_11ea_9e3d_5bde62e03ae7level1_row1\" class=\"row_heading level1 row1\" >&ПРЕГРАДЫ_Не_вижу_преград</th>\n",
       "                        <td id=\"T_8dde3264_ad9a_11ea_9e3d_5bde62e03ae7row1_col0\" class=\"data row1 col0\" >5.514580</td>\n",
       "            </tr>\n",
       "            <tr>\n",
       "                                <th id=\"T_8dde3264_ad9a_11ea_9e3d_5bde62e03ae7level1_row2\" class=\"row_heading level1 row2\" >&ТИП_ЦЕЛИ_другое</th>\n",
       "                        <td id=\"T_8dde3264_ad9a_11ea_9e3d_5bde62e03ae7row2_col0\" class=\"data row2 col0\" >4.514780</td>\n",
       "            </tr>\n",
       "            <tr>\n",
       "                                <th id=\"T_8dde3264_ad9a_11ea_9e3d_5bde62e03ae7level1_row3\" class=\"row_heading level1 row3\" >&ТИП_ЦЕЛИ_Получить_знания_в_новой_области</th>\n",
       "                        <td id=\"T_8dde3264_ad9a_11ea_9e3d_5bde62e03ae7row3_col0\" class=\"data row3 col0\" >3.939590</td>\n",
       "            </tr>\n",
       "            <tr>\n",
       "                                <th id=\"T_8dde3264_ad9a_11ea_9e3d_5bde62e03ae7level1_row4\" class=\"row_heading level1 row4\" >&ПРЕГРАДЫ_есть_преграды</th>\n",
       "                        <td id=\"T_8dde3264_ad9a_11ea_9e3d_5bde62e03ae7row4_col0\" class=\"data row4 col0\" >3.444990</td>\n",
       "            </tr>\n",
       "            <tr>\n",
       "                                <th id=\"T_8dde3264_ad9a_11ea_9e3d_5bde62e03ae7level1_row5\" class=\"row_heading level1 row5\" >&ПЕРВЫЙ_ШАГ_знаю_с_чего_начать</th>\n",
       "                        <td id=\"T_8dde3264_ad9a_11ea_9e3d_5bde62e03ae7row5_col0\" class=\"data row5 col0\" >3.392940</td>\n",
       "            </tr>\n",
       "            <tr>\n",
       "                                <th id=\"T_8dde3264_ad9a_11ea_9e3d_5bde62e03ae7level1_row6\" class=\"row_heading level1 row6\" >&ТИП_ЦЕЛИ_Приобрести_новые_навыки</th>\n",
       "                        <td id=\"T_8dde3264_ad9a_11ea_9e3d_5bde62e03ae7row6_col0\" class=\"data row6 col0\" >3.387280</td>\n",
       "            </tr>\n",
       "            <tr>\n",
       "                                <th id=\"T_8dde3264_ad9a_11ea_9e3d_5bde62e03ae7level1_row7\" class=\"row_heading level1 row7\" >&ТИП_ЦЕЛИ_Развить_имеющиеся_знания_и_навыки</th>\n",
       "                        <td id=\"T_8dde3264_ad9a_11ea_9e3d_5bde62e03ae7row7_col0\" class=\"data row7 col0\" >3.099990</td>\n",
       "            </tr>\n",
       "            <tr>\n",
       "                                <th id=\"T_8dde3264_ad9a_11ea_9e3d_5bde62e03ae7level1_row8\" class=\"row_heading level1 row8\" >&ВРЕМЕННЫЕ_ГРАНИЦЫ_Нет_жестких_сроков</th>\n",
       "                        <td id=\"T_8dde3264_ad9a_11ea_9e3d_5bde62e03ae7row8_col0\" class=\"data row8 col0\" >3.006130</td>\n",
       "            </tr>\n",
       "            <tr>\n",
       "                                <th id=\"T_8dde3264_ad9a_11ea_9e3d_5bde62e03ae7level1_row9\" class=\"row_heading level1 row9\" >&ОСНОВНОЙ_ВИД_ДЕЙТЕЛЬНОСТИ_Работаю_в_организации,_предприятии</th>\n",
       "                        <td id=\"T_8dde3264_ad9a_11ea_9e3d_5bde62e03ae7row9_col0\" class=\"data row9 col0\" >2.802900</td>\n",
       "            </tr>\n",
       "    </tbody></table><style  type=\"text/css\" >\n",
       "</style><table id=\"T_8ddfb5c6_ad9a_11ea_9e3d_5bde62e03ae7\" style='display:inline'><thead>    <tr>        <th class=\"blank\" ></th>        <th class=\"blank level0\" ></th>        <th class=\"col_heading level0 col0\" >topic_12</th>    </tr>    <tr>        <th class=\"index_name level0\" >modality</th>        <th class=\"index_name level1\" >token</th>        <th class=\"blank\" ></th>    </tr></thead><tbody>\n",
       "                <tr>\n",
       "                        <th id=\"T_8ddfb5c6_ad9a_11ea_9e3d_5bde62e03ae7level0_row0\" class=\"row_heading level0 row0\" rowspan=10>@ngram</th>\n",
       "                        <th id=\"T_8ddfb5c6_ad9a_11ea_9e3d_5bde62e03ae7level1_row0\" class=\"row_heading level1 row0\" >знание</th>\n",
       "                        <td id=\"T_8ddfb5c6_ad9a_11ea_9e3d_5bde62e03ae7row0_col0\" class=\"data row0 col0\" >9.108010</td>\n",
       "            </tr>\n",
       "            <tr>\n",
       "                                <th id=\"T_8ddfb5c6_ad9a_11ea_9e3d_5bde62e03ae7level1_row1\" class=\"row_heading level1 row1\" >новое</th>\n",
       "                        <td id=\"T_8ddfb5c6_ad9a_11ea_9e3d_5bde62e03ae7row1_col0\" class=\"data row1 col0\" >7.961540</td>\n",
       "            </tr>\n",
       "            <tr>\n",
       "                                <th id=\"T_8ddfb5c6_ad9a_11ea_9e3d_5bde62e03ae7level1_row2\" class=\"row_heading level1 row2\" >новое_знание</th>\n",
       "                        <td id=\"T_8ddfb5c6_ad9a_11ea_9e3d_5bde62e03ae7row2_col0\" class=\"data row2 col0\" >4.507780</td>\n",
       "            </tr>\n",
       "            <tr>\n",
       "                                <th id=\"T_8ddfb5c6_ad9a_11ea_9e3d_5bde62e03ae7level1_row3\" class=\"row_heading level1 row3\" >получить</th>\n",
       "                        <td id=\"T_8ddfb5c6_ad9a_11ea_9e3d_5bde62e03ae7row3_col0\" class=\"data row3 col0\" >3.659320</td>\n",
       "            </tr>\n",
       "            <tr>\n",
       "                                <th id=\"T_8ddfb5c6_ad9a_11ea_9e3d_5bde62e03ae7level1_row4\" class=\"row_heading level1 row4\" >получить_новое</th>\n",
       "                        <td id=\"T_8ddfb5c6_ad9a_11ea_9e3d_5bde62e03ae7row4_col0\" class=\"data row4 col0\" >2.991110</td>\n",
       "            </tr>\n",
       "            <tr>\n",
       "                                <th id=\"T_8ddfb5c6_ad9a_11ea_9e3d_5bde62e03ae7level1_row5\" class=\"row_heading level1 row5\" >свой</th>\n",
       "                        <td id=\"T_8ddfb5c6_ad9a_11ea_9e3d_5bde62e03ae7row5_col0\" class=\"data row5 col0\" >1.498730</td>\n",
       "            </tr>\n",
       "            <tr>\n",
       "                                <th id=\"T_8ddfb5c6_ad9a_11ea_9e3d_5bde62e03ae7level1_row6\" class=\"row_heading level1 row6\" >совершенствование</th>\n",
       "                        <td id=\"T_8ddfb5c6_ad9a_11ea_9e3d_5bde62e03ae7row6_col0\" class=\"data row6 col0\" >1.466590</td>\n",
       "            </tr>\n",
       "            <tr>\n",
       "                                <th id=\"T_8ddfb5c6_ad9a_11ea_9e3d_5bde62e03ae7level1_row7\" class=\"row_heading level1 row7\" >навык</th>\n",
       "                        <td id=\"T_8ddfb5c6_ad9a_11ea_9e3d_5bde62e03ae7row7_col0\" class=\"data row7 col0\" >1.446030</td>\n",
       "            </tr>\n",
       "            <tr>\n",
       "                                <th id=\"T_8ddfb5c6_ad9a_11ea_9e3d_5bde62e03ae7level1_row8\" class=\"row_heading level1 row8\" >углубление</th>\n",
       "                        <td id=\"T_8ddfb5c6_ad9a_11ea_9e3d_5bde62e03ae7row8_col0\" class=\"data row8 col0\" >1.418000</td>\n",
       "            </tr>\n",
       "            <tr>\n",
       "                                <th id=\"T_8ddfb5c6_ad9a_11ea_9e3d_5bde62e03ae7level1_row9\" class=\"row_heading level1 row9\" >область</th>\n",
       "                        <td id=\"T_8ddfb5c6_ad9a_11ea_9e3d_5bde62e03ae7row9_col0\" class=\"data row9 col0\" >1.307850</td>\n",
       "            </tr>\n",
       "    </tbody></table>"
      ]
     },
     "metadata": {},
     "output_type": "display_data"
    },
    {
     "data": {
      "text/html": [
       "<style  type=\"text/css\" >\n",
       "</style><table id=\"T_8de6738e_ad9a_11ea_9e3d_5bde62e03ae7\" style='display:inline'><thead>    <tr>        <th class=\"blank\" ></th>        <th class=\"blank level0\" ></th>        <th class=\"col_heading level0 col0\" >topic_13</th>    </tr>    <tr>        <th class=\"index_name level0\" >modality</th>        <th class=\"index_name level1\" >token</th>        <th class=\"blank\" ></th>    </tr></thead><tbody>\n",
       "                <tr>\n",
       "                        <th id=\"T_8de6738e_ad9a_11ea_9e3d_5bde62e03ae7level0_row0\" class=\"row_heading level0 row0\" rowspan=10>@info</th>\n",
       "                        <th id=\"T_8de6738e_ad9a_11ea_9e3d_5bde62e03ae7level1_row0\" class=\"row_heading level1 row0\" >&РЕЗУЛЬТАТ_Да,_четко</th>\n",
       "                        <td id=\"T_8de6738e_ad9a_11ea_9e3d_5bde62e03ae7row0_col0\" class=\"data row0 col0\" >8.563490</td>\n",
       "            </tr>\n",
       "            <tr>\n",
       "                                <th id=\"T_8de6738e_ad9a_11ea_9e3d_5bde62e03ae7level1_row1\" class=\"row_heading level1 row1\" >&ПРЕГРАДЫ_Не_вижу_преград</th>\n",
       "                        <td id=\"T_8de6738e_ad9a_11ea_9e3d_5bde62e03ae7row1_col0\" class=\"data row1 col0\" >6.786090</td>\n",
       "            </tr>\n",
       "            <tr>\n",
       "                                <th id=\"T_8de6738e_ad9a_11ea_9e3d_5bde62e03ae7level1_row2\" class=\"row_heading level1 row2\" >&ТИП_ЦЕЛИ_другое</th>\n",
       "                        <td id=\"T_8de6738e_ad9a_11ea_9e3d_5bde62e03ae7row2_col0\" class=\"data row2 col0\" >5.878470</td>\n",
       "            </tr>\n",
       "            <tr>\n",
       "                                <th id=\"T_8de6738e_ad9a_11ea_9e3d_5bde62e03ae7level1_row3\" class=\"row_heading level1 row3\" >&ТИП_ЦЕЛИ_Развить_имеющиеся_знания_и_навыки</th>\n",
       "                        <td id=\"T_8de6738e_ad9a_11ea_9e3d_5bde62e03ae7row3_col0\" class=\"data row3 col0\" >3.945950</td>\n",
       "            </tr>\n",
       "            <tr>\n",
       "                                <th id=\"T_8de6738e_ad9a_11ea_9e3d_5bde62e03ae7level1_row4\" class=\"row_heading level1 row4\" >&ПЕРВЫЙ_ШАГ_знаю_с_чего_начать</th>\n",
       "                        <td id=\"T_8de6738e_ad9a_11ea_9e3d_5bde62e03ae7row4_col0\" class=\"data row4 col0\" >3.634110</td>\n",
       "            </tr>\n",
       "            <tr>\n",
       "                                <th id=\"T_8de6738e_ad9a_11ea_9e3d_5bde62e03ae7level1_row5\" class=\"row_heading level1 row5\" >&ОСНОВНОЙ_ВИД_ДЕЙТЕЛЬНОСТИ_Работаю_в_организации,_предприятии</th>\n",
       "                        <td id=\"T_8de6738e_ad9a_11ea_9e3d_5bde62e03ae7row5_col0\" class=\"data row5 col0\" >3.451660</td>\n",
       "            </tr>\n",
       "            <tr>\n",
       "                                <th id=\"T_8de6738e_ad9a_11ea_9e3d_5bde62e03ae7level1_row6\" class=\"row_heading level1 row6\" >&ТИП_ЦЕЛИ_Приобрести_новые_навыки</th>\n",
       "                        <td id=\"T_8de6738e_ad9a_11ea_9e3d_5bde62e03ae7row6_col0\" class=\"data row6 col0\" >3.405000</td>\n",
       "            </tr>\n",
       "            <tr>\n",
       "                                <th id=\"T_8de6738e_ad9a_11ea_9e3d_5bde62e03ae7level1_row7\" class=\"row_heading level1 row7\" >&ВРЕМЕННЫЕ_ГРАНИЦЫ_Нет_жестких_сроков</th>\n",
       "                        <td id=\"T_8de6738e_ad9a_11ea_9e3d_5bde62e03ae7row7_col0\" class=\"data row7 col0\" >2.937090</td>\n",
       "            </tr>\n",
       "            <tr>\n",
       "                                <th id=\"T_8de6738e_ad9a_11ea_9e3d_5bde62e03ae7level1_row8\" class=\"row_heading level1 row8\" >&ТИП_ЦЕЛИ_Получить_знания_в_новой_области</th>\n",
       "                        <td id=\"T_8de6738e_ad9a_11ea_9e3d_5bde62e03ae7row8_col0\" class=\"data row8 col0\" >2.934870</td>\n",
       "            </tr>\n",
       "            <tr>\n",
       "                                <th id=\"T_8de6738e_ad9a_11ea_9e3d_5bde62e03ae7level1_row9\" class=\"row_heading level1 row9\" >&ПРЕГРАДЫ_есть_преграды</th>\n",
       "                        <td id=\"T_8de6738e_ad9a_11ea_9e3d_5bde62e03ae7row9_col0\" class=\"data row9 col0\" >2.646100</td>\n",
       "            </tr>\n",
       "    </tbody></table><style  type=\"text/css\" >\n",
       "</style><table id=\"T_8de7f9e8_ad9a_11ea_9e3d_5bde62e03ae7\" style='display:inline'><thead>    <tr>        <th class=\"blank\" ></th>        <th class=\"blank level0\" ></th>        <th class=\"col_heading level0 col0\" >topic_13</th>    </tr>    <tr>        <th class=\"index_name level0\" >modality</th>        <th class=\"index_name level1\" >token</th>        <th class=\"blank\" ></th>    </tr></thead><tbody>\n",
       "                <tr>\n",
       "                        <th id=\"T_8de7f9e8_ad9a_11ea_9e3d_5bde62e03ae7level0_row0\" class=\"row_heading level0 row0\" rowspan=10>@ngram</th>\n",
       "                        <th id=\"T_8de7f9e8_ad9a_11ea_9e3d_5bde62e03ae7level1_row0\" class=\"row_heading level1 row0\" >свой</th>\n",
       "                        <td id=\"T_8de7f9e8_ad9a_11ea_9e3d_5bde62e03ae7row0_col0\" class=\"data row0 col0\" >7.070870</td>\n",
       "            </tr>\n",
       "            <tr>\n",
       "                                <th id=\"T_8de7f9e8_ad9a_11ea_9e3d_5bde62e03ae7level1_row1\" class=\"row_heading level1 row1\" >уровень</th>\n",
       "                        <td id=\"T_8de7f9e8_ad9a_11ea_9e3d_5bde62e03ae7row1_col0\" class=\"data row1 col0\" >5.714860</td>\n",
       "            </tr>\n",
       "            <tr>\n",
       "                                <th id=\"T_8de7f9e8_ad9a_11ea_9e3d_5bde62e03ae7level1_row2\" class=\"row_heading level1 row2\" >повысить</th>\n",
       "                        <td id=\"T_8de7f9e8_ad9a_11ea_9e3d_5bde62e03ae7row2_col0\" class=\"data row2 col0\" >5.636990</td>\n",
       "            </tr>\n",
       "            <tr>\n",
       "                                <th id=\"T_8de7f9e8_ad9a_11ea_9e3d_5bde62e03ae7level1_row3\" class=\"row_heading level1 row3\" >профессиональный</th>\n",
       "                        <td id=\"T_8de7f9e8_ad9a_11ea_9e3d_5bde62e03ae7row3_col0\" class=\"data row3 col0\" >2.777570</td>\n",
       "            </tr>\n",
       "            <tr>\n",
       "                                <th id=\"T_8de7f9e8_ad9a_11ea_9e3d_5bde62e03ae7level1_row4\" class=\"row_heading level1 row4\" >знание</th>\n",
       "                        <td id=\"T_8de7f9e8_ad9a_11ea_9e3d_5bde62e03ae7row4_col0\" class=\"data row4 col0\" >2.646640</td>\n",
       "            </tr>\n",
       "            <tr>\n",
       "                                <th id=\"T_8de7f9e8_ad9a_11ea_9e3d_5bde62e03ae7level1_row5\" class=\"row_heading level1 row5\" >повысить_уровень</th>\n",
       "                        <td id=\"T_8de7f9e8_ad9a_11ea_9e3d_5bde62e03ae7row5_col0\" class=\"data row5 col0\" >2.573960</td>\n",
       "            </tr>\n",
       "            <tr>\n",
       "                                <th id=\"T_8de7f9e8_ad9a_11ea_9e3d_5bde62e03ae7level1_row6\" class=\"row_heading level1 row6\" >навык</th>\n",
       "                        <td id=\"T_8de7f9e8_ad9a_11ea_9e3d_5bde62e03ae7row6_col0\" class=\"data row6 col0\" >2.185370</td>\n",
       "            </tr>\n",
       "            <tr>\n",
       "                                <th id=\"T_8de7f9e8_ad9a_11ea_9e3d_5bde62e03ae7level1_row7\" class=\"row_heading level1 row7\" >повысить_свой</th>\n",
       "                        <td id=\"T_8de7f9e8_ad9a_11ea_9e3d_5bde62e03ae7row7_col0\" class=\"data row7 col0\" >2.003040</td>\n",
       "            </tr>\n",
       "            <tr>\n",
       "                                <th id=\"T_8de7f9e8_ad9a_11ea_9e3d_5bde62e03ae7level1_row8\" class=\"row_heading level1 row8\" >компетенция</th>\n",
       "                        <td id=\"T_8de7f9e8_ad9a_11ea_9e3d_5bde62e03ae7row8_col0\" class=\"data row8 col0\" >1.562610</td>\n",
       "            </tr>\n",
       "            <tr>\n",
       "                                <th id=\"T_8de7f9e8_ad9a_11ea_9e3d_5bde62e03ae7level1_row9\" class=\"row_heading level1 row9\" >уровень_знание</th>\n",
       "                        <td id=\"T_8de7f9e8_ad9a_11ea_9e3d_5bde62e03ae7row9_col0\" class=\"data row9 col0\" >1.497120</td>\n",
       "            </tr>\n",
       "    </tbody></table>"
      ]
     },
     "metadata": {},
     "output_type": "display_data"
    },
    {
     "data": {
      "text/html": [
       "<style  type=\"text/css\" >\n",
       "</style><table id=\"T_8df08252_ad9a_11ea_9e3d_5bde62e03ae7\" style='display:inline'><thead>    <tr>        <th class=\"blank\" ></th>        <th class=\"blank level0\" ></th>        <th class=\"col_heading level0 col0\" >topic_14</th>    </tr>    <tr>        <th class=\"index_name level0\" >modality</th>        <th class=\"index_name level1\" >token</th>        <th class=\"blank\" ></th>    </tr></thead><tbody>\n",
       "                <tr>\n",
       "                        <th id=\"T_8df08252_ad9a_11ea_9e3d_5bde62e03ae7level0_row0\" class=\"row_heading level0 row0\" rowspan=10>@info</th>\n",
       "                        <th id=\"T_8df08252_ad9a_11ea_9e3d_5bde62e03ae7level1_row0\" class=\"row_heading level1 row0\" >&РЕЗУЛЬТАТ_Да,_четко</th>\n",
       "                        <td id=\"T_8df08252_ad9a_11ea_9e3d_5bde62e03ae7row0_col0\" class=\"data row0 col0\" >8.830450</td>\n",
       "            </tr>\n",
       "            <tr>\n",
       "                                <th id=\"T_8df08252_ad9a_11ea_9e3d_5bde62e03ae7level1_row1\" class=\"row_heading level1 row1\" >&ТИП_ЦЕЛИ_другое</th>\n",
       "                        <td id=\"T_8df08252_ad9a_11ea_9e3d_5bde62e03ae7row1_col0\" class=\"data row1 col0\" >4.896500</td>\n",
       "            </tr>\n",
       "            <tr>\n",
       "                                <th id=\"T_8df08252_ad9a_11ea_9e3d_5bde62e03ae7level1_row2\" class=\"row_heading level1 row2\" >&ПРЕГРАДЫ_Не_вижу_преград</th>\n",
       "                        <td id=\"T_8df08252_ad9a_11ea_9e3d_5bde62e03ae7row2_col0\" class=\"data row2 col0\" >4.578050</td>\n",
       "            </tr>\n",
       "            <tr>\n",
       "                                <th id=\"T_8df08252_ad9a_11ea_9e3d_5bde62e03ae7level1_row3\" class=\"row_heading level1 row3\" >&ПРЕГРАДЫ_есть_преграды</th>\n",
       "                        <td id=\"T_8df08252_ad9a_11ea_9e3d_5bde62e03ae7row3_col0\" class=\"data row3 col0\" >4.110660</td>\n",
       "            </tr>\n",
       "            <tr>\n",
       "                                <th id=\"T_8df08252_ad9a_11ea_9e3d_5bde62e03ae7level1_row4\" class=\"row_heading level1 row4\" >&ТИП_ЦЕЛИ_Развить_имеющиеся_знания_и_навыки</th>\n",
       "                        <td id=\"T_8df08252_ad9a_11ea_9e3d_5bde62e03ae7row4_col0\" class=\"data row4 col0\" >3.987240</td>\n",
       "            </tr>\n",
       "            <tr>\n",
       "                                <th id=\"T_8df08252_ad9a_11ea_9e3d_5bde62e03ae7level1_row5\" class=\"row_heading level1 row5\" >&ПЕРВЫЙ_ШАГ_знаю_с_чего_начать</th>\n",
       "                        <td id=\"T_8df08252_ad9a_11ea_9e3d_5bde62e03ae7row5_col0\" class=\"data row5 col0\" >3.657520</td>\n",
       "            </tr>\n",
       "            <tr>\n",
       "                                <th id=\"T_8df08252_ad9a_11ea_9e3d_5bde62e03ae7level1_row6\" class=\"row_heading level1 row6\" >&ТИП_ЦЕЛИ_Приобрести_новые_навыки</th>\n",
       "                        <td id=\"T_8df08252_ad9a_11ea_9e3d_5bde62e03ae7row6_col0\" class=\"data row6 col0\" >3.650320</td>\n",
       "            </tr>\n",
       "            <tr>\n",
       "                                <th id=\"T_8df08252_ad9a_11ea_9e3d_5bde62e03ae7level1_row7\" class=\"row_heading level1 row7\" >&ТИП_ЦЕЛИ_Получить_знания_в_новой_области</th>\n",
       "                        <td id=\"T_8df08252_ad9a_11ea_9e3d_5bde62e03ae7row7_col0\" class=\"data row7 col0\" >3.231190</td>\n",
       "            </tr>\n",
       "            <tr>\n",
       "                                <th id=\"T_8df08252_ad9a_11ea_9e3d_5bde62e03ae7level1_row8\" class=\"row_heading level1 row8\" >&ВРЕМЕННЫЕ_ГРАНИЦЫ_Нет_жестких_сроков</th>\n",
       "                        <td id=\"T_8df08252_ad9a_11ea_9e3d_5bde62e03ae7row8_col0\" class=\"data row8 col0\" >3.029420</td>\n",
       "            </tr>\n",
       "            <tr>\n",
       "                                <th id=\"T_8df08252_ad9a_11ea_9e3d_5bde62e03ae7level1_row9\" class=\"row_heading level1 row9\" >&ОСНОВНОЙ_ВИД_ДЕЙТЕЛЬНОСТИ_Работаю_в_организации,_предприятии</th>\n",
       "                        <td id=\"T_8df08252_ad9a_11ea_9e3d_5bde62e03ae7row9_col0\" class=\"data row9 col0\" >2.317680</td>\n",
       "            </tr>\n",
       "    </tbody></table><style  type=\"text/css\" >\n",
       "</style><table id=\"T_8df1b46a_ad9a_11ea_9e3d_5bde62e03ae7\" style='display:inline'><thead>    <tr>        <th class=\"blank\" ></th>        <th class=\"blank level0\" ></th>        <th class=\"col_heading level0 col0\" >topic_14</th>    </tr>    <tr>        <th class=\"index_name level0\" >modality</th>        <th class=\"index_name level1\" >token</th>        <th class=\"blank\" ></th>    </tr></thead><tbody>\n",
       "                <tr>\n",
       "                        <th id=\"T_8df1b46a_ad9a_11ea_9e3d_5bde62e03ae7level0_row0\" class=\"row_heading level0 row0\" rowspan=10>@ngram</th>\n",
       "                        <th id=\"T_8df1b46a_ad9a_11ea_9e3d_5bde62e03ae7level1_row0\" class=\"row_heading level1 row0\" >знание</th>\n",
       "                        <td id=\"T_8df1b46a_ad9a_11ea_9e3d_5bde62e03ae7row0_col0\" class=\"data row0 col0\" >7.494580</td>\n",
       "            </tr>\n",
       "            <tr>\n",
       "                                <th id=\"T_8df1b46a_ad9a_11ea_9e3d_5bde62e03ae7level1_row1\" class=\"row_heading level1 row1\" >умение</th>\n",
       "                        <td id=\"T_8df1b46a_ad9a_11ea_9e3d_5bde62e03ae7row1_col0\" class=\"data row1 col0\" >5.905420</td>\n",
       "            </tr>\n",
       "            <tr>\n",
       "                                <th id=\"T_8df1b46a_ad9a_11ea_9e3d_5bde62e03ae7level1_row2\" class=\"row_heading level1 row2\" >навык</th>\n",
       "                        <td id=\"T_8df1b46a_ad9a_11ea_9e3d_5bde62e03ae7row2_col0\" class=\"data row2 col0\" >4.813860</td>\n",
       "            </tr>\n",
       "            <tr>\n",
       "                                <th id=\"T_8df1b46a_ad9a_11ea_9e3d_5bde62e03ae7level1_row3\" class=\"row_heading level1 row3\" >знание_умение</th>\n",
       "                        <td id=\"T_8df1b46a_ad9a_11ea_9e3d_5bde62e03ae7row3_col0\" class=\"data row3 col0\" >4.233080</td>\n",
       "            </tr>\n",
       "            <tr>\n",
       "                                <th id=\"T_8df1b46a_ad9a_11ea_9e3d_5bde62e03ae7level1_row4\" class=\"row_heading level1 row4\" >область</th>\n",
       "                        <td id=\"T_8df1b46a_ad9a_11ea_9e3d_5bde62e03ae7row4_col0\" class=\"data row4 col0\" >3.336610</td>\n",
       "            </tr>\n",
       "            <tr>\n",
       "                                <th id=\"T_8df1b46a_ad9a_11ea_9e3d_5bde62e03ae7level1_row5\" class=\"row_heading level1 row5\" >умение_навык</th>\n",
       "                        <td id=\"T_8df1b46a_ad9a_11ea_9e3d_5bde62e03ae7row5_col0\" class=\"data row5 col0\" >2.856720</td>\n",
       "            </tr>\n",
       "            <tr>\n",
       "                                <th id=\"T_8df1b46a_ad9a_11ea_9e3d_5bde62e03ae7level1_row6\" class=\"row_heading level1 row6\" >компетенция</th>\n",
       "                        <td id=\"T_8df1b46a_ad9a_11ea_9e3d_5bde62e03ae7row6_col0\" class=\"data row6 col0\" >2.518430</td>\n",
       "            </tr>\n",
       "            <tr>\n",
       "                                <th id=\"T_8df1b46a_ad9a_11ea_9e3d_5bde62e03ae7level1_row7\" class=\"row_heading level1 row7\" >приобретение</th>\n",
       "                        <td id=\"T_8df1b46a_ad9a_11ea_9e3d_5bde62e03ae7row7_col0\" class=\"data row7 col0\" >2.165320</td>\n",
       "            </tr>\n",
       "            <tr>\n",
       "                                <th id=\"T_8df1b46a_ad9a_11ea_9e3d_5bde62e03ae7level1_row8\" class=\"row_heading level1 row8\" >приобретение_знание</th>\n",
       "                        <td id=\"T_8df1b46a_ad9a_11ea_9e3d_5bde62e03ae7row8_col0\" class=\"data row8 col0\" >1.631440</td>\n",
       "            </tr>\n",
       "            <tr>\n",
       "                                <th id=\"T_8df1b46a_ad9a_11ea_9e3d_5bde62e03ae7level1_row9\" class=\"row_heading level1 row9\" >необходимый</th>\n",
       "                        <td id=\"T_8df1b46a_ad9a_11ea_9e3d_5bde62e03ae7row9_col0\" class=\"data row9 col0\" >1.520840</td>\n",
       "            </tr>\n",
       "    </tbody></table>"
      ]
     },
     "metadata": {},
     "output_type": "display_data"
    }
   ],
   "source": [
    "TopTokensViewer(model=topic_model).view_from_jupyter()"
   ]
  },
  {
   "cell_type": "code",
   "execution_count": 30,
   "metadata": {
    "scrolled": true
   },
   "outputs": [
    {
     "data": {
      "text/html": [
       "<style>\n",
       "    div.output_html {\n",
       "        white-space: nowrap;\n",
       "    }\n",
       "    div .output_subarea > pre {\n",
       "        white-space: pre;\n",
       "        word-wrap: normal;\n",
       "    }\n",
       "    div .output_stdout > pre {\n",
       "        white-space: pre-wrap !important;\n",
       "        word-wrap:  break-word !important;\n",
       "    }\n",
       "    </style>"
      ],
      "text/plain": [
       "<IPython.core.display.HTML object>"
      ]
     },
     "metadata": {},
     "output_type": "display_data"
    },
    {
     "data": {
      "text/html": [
       "<h1><b>Topic name:</b> topic_0</h1><h3>5435</h3>Не останавливаться на достигнутом и быть в движении.<br /><h3>3734</h3>Освоение новых психологических практик.<br /><h3>2309</h3>Развитие лидерских качеств.<br /><h3>2332</h3>Научиться ставить и достигать целей.<br /><h3>3242</h3>Узнать многое по проектной деятельности.<br /><h3>4568</h3>Обеспечить свою готовность к любым изменениям, связанным с человеческим прогрессом в эпоху цифровой трансформации.<br /><h3>3716</h3>Обладать широким кругозором в разных областях.<br /><h3>1859</h3>Развить компетенции проектного менеджмента.<br /><h3>3224</h3>Проектный менеджмент.<br /><h3>2300</h3>Развитие навыков управления и проектной деятельности.<br /><h1><b>Topic name:</b> topic_1</h1><h3>3440</h3>Расширить кругозор.<br /><h3>3420</h3>грамотный управленец.<br /><h3>3555</h3>Состояться как лидер и грамотный руководитель .<br /><h3>3536</h3>Стать лучше.<br /><h3>3488</h3>Расширить кругозор.<br /><h3>3481</h3>Расширение кругозора.<br /><h3>3460</h3>Расширение кругозора.<br /><h3>3619</h3>Защитить докторскую диссертацию.<br /><h3>3353</h3>Подготовка к защите докторской диссертации.<br /><h3>3341</h3>Освоить знания в системе IT и искусственного интеллекта.<br /><h1><b>Topic name:</b> topic_2</h1><h3>3719</h3>Повышение компетенций и навыков.<br /><h3>3623</h3>Повышение профессиональных навыков .<br /><h3>3842</h3>повышение уровня знаний.<br /><h3>3796</h3>Карьерное развитие (повышение).<br /><h3>3765</h3>Повышение компетенции.<br /><h3>3738</h3>повышение профессионального уровня.<br /><h3>3913</h3>развитие своих профессиональных компетенций.<br /><h3>3715</h3>Самообразование для профессионального роста.<br /><h3>3538</h3>повышение профессиональной компетенции и социальной значимости.<br /><h3>3572</h3>повышение уровня знаний.<br /><h1><b>Topic name:</b> topic_3</h1><h3>3891</h3>Узнать новые программы и как работать в них.Например, Python.<br /><h3>3868</h3>свободно говорить на английском.<br /><h3>3960</h3>Научиться просчитывать на перспективу эффекты и последствия в том числе с учетом неявных факторов.<br /><h3>3935</h3>Узнать новое.<br /><h3>3908</h3>Научиться летать на самолете.<br /><h3>4022</h3>Научиться писать хорошие тексты.<br /><h3>3878</h3>Научиться распределять время и расставлять приоритеты.<br /><h3>3808</h3>Закончить ВУЗ.<br /><h3>3819</h3>учиться, узнавать много нового.<br /><h3>4150</h3>Понять, что будет развиваться в будущем, и начать учиться в данной области.<br /><h1><b>Topic name:</b> topic_4</h1><h3>3813</h3>Прочитать свой список запланированных книг на квартал.<br /><h3>3888</h3>Создать новую экосистему в Вузе пройдя которую, студент будет готов быть руководителем. .<br /><h3>3603</h3>развить творческие способности.<br /><h3>3604</h3>развить творческие способности.<br /><h3>3629</h3>Зашита диссертации.<br /><h3>3637</h3>Понять алгоритмы взаимодействия сущностей составляющих мою реальность).<br /><h3>3681</h3>вывод стартапа на стабильную прибыльность.<br /><h3>3755</h3>Идти в ногу со временем.<br /><h3>3762</h3>Идти в ногу с запросами социума .<br /><h3>3568</h3>Быть в курсе тенденций рынка труда.<br /><h1><b>Topic name:</b> topic_5</h1><h3>4049</h3>Обучение новым технологиям.<br /><h3>4144</h3>Стать высококвалифицированным специалистом .<br /><h3>3788</h3>Digital skills.<br /><h3>3873</h3>Изучение работающих методик обучения предпринимателей.<br /><h3>3905</h3>развитие профессиональных качеств.<br /><h3>3955</h3>Формирование новых форматов мышления.<br /><h3>4008</h3>Расширить знания (шире и глубже) .<br /><h3>4011</h3>Получить комплекс универсальных компетенций, наиболее востребованных сейчас.<br /><h3>4013</h3>Обучение новым сферам в проектировании.<br /><h3>4047</h3>глубже познакомиться с новыми идеями.<br /><h1><b>Topic name:</b> topic_6</h1><h3>3433</h3>получение знания.<br /><h3>3345</h3>Расширение теоретических знаний.<br /><h3>3595</h3>интерес к новым знаниям.<br /><h3>3567</h3>Своевременная актуализация профессиональных знаний и навыков.<br /><h3>3478</h3>получение знаний.<br /><h3>3452</h3>Получение новых знаний.<br /><h3>3651</h3>формирование базы знаний.<br /><h3>3236</h3>Получение новых знаний.<br /><h3>3269</h3>Всегда быть в процессе обучения и реализации полученных знаний.<br /><h3>3657</h3>Получение новейших компетенций .<br /><h1><b>Topic name:</b> topic_7</h1><h3>3958</h3>Быть достойным специалистом в своей должности.<br /><h3>3956</h3>Стать умнее, чем был вчера.<br /><h3>4045</h3>Пройти обучение CDO.<br /><h3>4042</h3>Разработать курс для предпринимателей, который поможет научиться вести управленческий учет с нуля.<br /><h3>4031</h3>пройти курсы.<br /><h3>4140</h3>Быть профессионалом в своей области.<br /><h3>3903</h3>Найти интересный и нужный навык.<br /><h3>3939</h3>быть профессионалом в своей отрасли.<br /><h3>4270</h3>Пересдать единый гос.экзамен.<br /><h3>3942</h3>Освоить методы машинного обучения.<br /><h1><b>Topic name:</b> topic_8</h1><h3>4197</h3>Подготовка всех направлений в деятельности учреждения к сертификации Росздравнадзора.<br /><h3>4252</h3>Изучение иностранных языков.<br /><h3>3807</h3>Выучить несколько новых языков.<br /><h3>3884</h3>разобраться в новых направлениях.<br /><h3>3885</h3>Саморазвитие и самообразование через всю жизнь.<br /><h3>3910</h3>изучить принципы экономического моделирование, решение экономических задач.<br /><h3>3920</h3>Получить степень MBA.<br /><h3>3962</h3>Продвижение по профессиональной лестнице.<br /><h3>3977</h3>Изучение иностранного языка.<br /><h3>4005</h3>успехи в практической деятельности.<br /><h1><b>Topic name:</b> topic_9</h1><h3>4423</h3>усовершенствовать английский язык.<br /><h3>4384</h3>Получить второе высшее образование.<br /><h3>4587</h3>Выучить испанский язык и улучшить  коммуникацию с коллегами из других стран.<br /><h3>4584</h3>Выучить английский язык.<br /><h3>4546</h3>Выучить английский.<br /><h3>4531</h3>Научиться языку программирования.<br /><h3>4498</h3>English - Upper intermediate.<br /><h3>4458</h3>владеть английским языком в совершенстве.<br /><h3>4428</h3>свободно разговаривать на английском.<br /><h3>4620</h3>Выучить китайский язык до совершенства и написать книгу.<br /><h1><b>Topic name:</b> topic_10</h1><h3>4056</h3>Получить хорошее образование.<br /><h3>4091</h3>Карьерный рост.<br /><h3>3740</h3>возможность научиться всему, что может помочь в карьерном росте.<br /><h3>3786</h3>карьерный рост.<br /><h3>3803</h3>Увеличение шансов найти работу.<br /><h3>3881</h3>иметь высокооплачиваемую работу.<br /><h3>3895</h3>Прокачка \"скиллов\".<br /><h3>3896</h3>научиться техники быстрого чтения.<br /><h3>4024</h3>стать спикером №1 в Крыму по бизнес образованию.<br /><h3>4027</h3>Улучшить аудирование английской речи.<br /><h1><b>Topic name:</b> topic_11</h1><h3>4035</h3>Аттестат доцента.<br /><h3>4023</h3>развитие осознанности, умение вовремя выявлять и отказываться от деятельности, не приносящей ценность .<br /><h3>4198</h3>Эффективный менеджмент, построение бизнес-процессов.<br /><h3>4167</h3>создание собственных уникальных проектов.<br /><h3>4036</h3>Аттестат доцента.<br /><h3>4234</h3>Быстрое получение результата обучения.<br /><h3>3936</h3>Читать как можно больше литературы различных жанров.<br /><h3>3945</h3>Профессиональный и личностный рост.<br /><h3>4248</h3>Жить в мире и взаимопонимании с родными и близкими.<br /><h3>3967</h3>учитывать изменения в профессиональной среде  .<br /><h1><b>Topic name:</b> topic_12</h1><h3>3848</h3>Совершенствование своих знаний в области информатики.<br /><h3>3805</h3>Быть в тренде быстроразвивающейся ИТ отрасли .<br /><h3>3972</h3>Углубление знаний.<br /><h3>3875</h3>расширение и углубление знаний.<br /><h3>3860</h3>Получать новые компетенции.<br /><h3>4021</h3>углубление знаний.<br /><h3>3646</h3>познание нового.<br /><h3>3686</h3>Постижение мира и явлений.<br /><h3>4072</h3>познание нового.<br /><h3>3787</h3>Получить новые навыки.<br /><h1><b>Topic name:</b> topic_13</h1><h3>3821</h3>быть интересным своим детям, а значит знать столько, чтобы всегда  ответить на их вопроы,<br /> в любом возрасте.<br /><h3>3933</h3>Продвижение в профессиональной деятельности.<br /><h3>3671</h3>Становиться эффективнее с каждым днем.<br /><h3>3682</h3>Обучаться каждый день хотя бы по 15 минут.<br /><h3>3732</h3>Повысить свой уровень.<br /><h3>3733</h3>Каждый день получать новую информацию.<br /><h3>3768</h3>Повысить уровень коммуникационных навыков.<br /><h3>3790</h3>\"Прокачать\" свои личностные качества (компетенции).<br /><h3>3800</h3>развитие управленческих навыков.<br /><h3>3804</h3>Продвижение в профессиональной деятельности.<br /><h1><b>Topic name:</b> topic_14</h1><h3>3851</h3>приобретение знаний, умений и навыков в оп­ределенной области науки, успехи в практической деятельности.<br /><h3>3943</h3>Формирование профессиональный компетенций в области инноватики .<br /><h3>3579</h3>Развивать новые компетенции и поддерживать актуальность имеющихся.<br /><h3>3634</h3>Получить необходимые знания.<br /><h3>3736</h3>Иметь востребованные в настоящее время профессиональные умения и навыки.<br /><h3>3761</h3>превратить хобби в способ зарабатывания денег.<br /><h3>3831</h3>повысить собственную конкурентноспособность.<br /><h3>3838</h3>Умение обобщать , анализировать, выделять информацию.<br /><h3>3517</h3>Приобретение знаний и навыков .<br /><h3>4054</h3>расширение арсенала умений и навыков.<br />"
      ]
     },
     "metadata": {},
     "output_type": "display_data"
    }
   ],
   "source": [
    "TopDocumentsViewer(model=topic_model, dataset=data, max_top_number=10).view_from_jupyter()"
   ]
  },
  {
   "cell_type": "code",
   "execution_count": 31,
   "metadata": {},
   "outputs": [],
   "source": [
    "theta = best_model.get_theta()"
   ]
  },
  {
   "cell_type": "code",
   "execution_count": 32,
   "metadata": {},
   "outputs": [],
   "source": [
    "phi = best_model.get_phi()"
   ]
  },
  {
   "cell_type": "markdown",
   "metadata": {},
   "source": [
    "# Классификация!"
   ]
  },
  {
   "cell_type": "code",
   "execution_count": 33,
   "metadata": {},
   "outputs": [],
   "source": [
    "from sklearn.model_selection import train_test_split\n",
    "from sklearn.metrics import roc_auc_score, precision_score, recall_score, accuracy_score\n",
    "from sklearn.model_selection import GridSearchCV"
   ]
  },
  {
   "cell_type": "code",
   "execution_count": 34,
   "metadata": {},
   "outputs": [],
   "source": [
    "from sklearn.metrics import roc_curve\n",
    "import math\n",
    "from scipy.spatial.distance import euclidean"
   ]
  },
  {
   "cell_type": "code",
   "execution_count": 35,
   "metadata": {},
   "outputs": [],
   "source": [
    "from sklearn.utils.testing import ignore_warnings\n",
    "from sklearn.exceptions import ConvergenceWarning"
   ]
  },
  {
   "cell_type": "code",
   "execution_count": 36,
   "metadata": {},
   "outputs": [],
   "source": [
    "from sklearn.linear_model import LogisticRegression\n",
    "\n",
    "@ignore_warnings(category=ConvergenceWarning)\n",
    "def expiriment(X, y):\n",
    "    X_train, X_test, y_train, y_test = train_test_split(X, y, test_size=0.3, random_state=42, stratify=y)\n",
    "    \n",
    "    param_grid = {'C': [0.01, 0.05, 0.1, 0.5, 1, 5, 10],\n",
    "                  'penalty': ['l1', 'l2'],\n",
    "                  'solver': ['liblinear', 'saga']}\n",
    "    optimizer = GridSearchCV(LogisticRegression(penalty='l2', C=1, class_weight='balanced'), param_grid, scoring=\"roc_auc\", cv=3)\n",
    "    optimizer.fit(X_train, y_train)\n",
    "    \n",
    "    y_pred_proba = optimizer.predict_proba(X_test)[:, 1]\n",
    "    y_pred_labels = optimizer.predict(X_test)\n",
    "    roc_auc = roc_auc_score(y_test, y_pred_proba)\n",
    "    precision = precision_score(y_test, y_pred_labels)\n",
    "    recall = recall_score(y_test, y_pred_labels)\n",
    "    accuracy = accuracy_score(y_test, y_pred_labels)\n",
    "    \n",
    "    print('roc_auc', roc_auc)\n",
    "    print('precision', precision)\n",
    "    print('recall', recall)\n",
    "    print('accuracy', accuracy)\n",
    "    print(optimizer.best_params_)\n",
    "    return roc_auc, precision, recall, accuracy"
   ]
  },
  {
   "cell_type": "code",
   "execution_count": 37,
   "metadata": {},
   "outputs": [],
   "source": [
    "dataset = pd.read_csv('preprocessed_data_for_specificity_prediction.csv')"
   ]
  },
  {
   "cell_type": "markdown",
   "metadata": {},
   "source": [
    "## Векторизация с помощью тематического моделирования"
   ]
  },
  {
   "cell_type": "code",
   "execution_count": 38,
   "metadata": {},
   "outputs": [],
   "source": [
    "theta = best_model.get_theta()\n",
    "theta_transposed = theta.T"
   ]
  },
  {
   "cell_type": "code",
   "execution_count": 39,
   "metadata": {},
   "outputs": [],
   "source": [
    "X_topic = pd.DataFrame(data=theta_transposed,\n",
    "                       columns = theta_transposed.columns,\n",
    "                       index = theta_transposed.index)"
   ]
  },
  {
   "cell_type": "code",
   "execution_count": 40,
   "metadata": {},
   "outputs": [],
   "source": [
    "y_sp = dataset['specificity']"
   ]
  },
  {
   "cell_type": "code",
   "execution_count": 41,
   "metadata": {},
   "outputs": [],
   "source": [
    "X_train, X_test, y_train, y_test = train_test_split(X_topic, y_sp, test_size=0.3,\n",
    "                                                    random_state=42, stratify=y_sp)"
   ]
  },
  {
   "cell_type": "code",
   "execution_count": 42,
   "metadata": {},
   "outputs": [],
   "source": [
    "clf = LogisticRegression(penalty='l2', random_state=42, solver='liblinear').fit(X_train, y_train)\n",
    "y_pred_labels = clf.predict(X_test)\n",
    "y_pred_proba = clf.predict_proba(X_test)"
   ]
  },
  {
   "cell_type": "code",
   "execution_count": 43,
   "metadata": {},
   "outputs": [],
   "source": [
    "roc_auc = roc_auc_score(y_test, y_pred_proba[:, 1])\n",
    "precision = precision_score(y_test, y_pred_labels)\n",
    "recall = recall_score(y_test, y_pred_labels)\n",
    "accuracy = accuracy_score(y_test, y_pred_labels)"
   ]
  },
  {
   "cell_type": "code",
   "execution_count": 44,
   "metadata": {},
   "outputs": [
    {
     "name": "stdout",
     "output_type": "stream",
     "text": [
      "0.6595805206446773\n",
      "0.5853269537480064\n",
      "0.5518796992481203\n",
      "0.624747814391392\n"
     ]
    }
   ],
   "source": [
    "print(roc_auc)\n",
    "print(precision)\n",
    "print(recall)\n",
    "print(accuracy)"
   ]
  },
  {
   "cell_type": "markdown",
   "metadata": {},
   "source": [
    "## Векторизация с помощью классических эмбеддингов"
   ]
  },
  {
   "cell_type": "code",
   "execution_count": 173,
   "metadata": {},
   "outputs": [],
   "source": [
    "from sklearn.feature_extraction.text import CountVectorizer, TfidfVectorizer\n",
    "from sklearn.naive_bayes import MultinomialNB\n",
    "from sklearn.naive_bayes import GaussianNB"
   ]
  },
  {
   "cell_type": "code",
   "execution_count": 276,
   "metadata": {},
   "outputs": [],
   "source": [
    "X_text = dataset['goal']"
   ]
  },
  {
   "cell_type": "code",
   "execution_count": 282,
   "metadata": {},
   "outputs": [],
   "source": [
    "vectorizer = CountVectorizer()\n",
    "X = vectorizer.fit_transform(X_text)"
   ]
  },
  {
   "cell_type": "code",
   "execution_count": 363,
   "metadata": {},
   "outputs": [],
   "source": [
    "X_train_count_vect, X_test_count_vect, y_train_count_vect, y_test_count_vect = train_test_split(X, y_sp,\n",
    "                                                                                                test_size=0.3,\n",
    "                                                                                                stratify=y_sp)"
   ]
  },
  {
   "cell_type": "markdown",
   "metadata": {},
   "source": [
    "Наивный байесовский классификатор с мультиномиальным распределением"
   ]
  },
  {
   "cell_type": "code",
   "execution_count": 364,
   "metadata": {},
   "outputs": [],
   "source": [
    "mnb = MultinomialNB()\n",
    "mnb.fit(X_train_count_vect.toarray(), y_train_count_vect)\n",
    "y_pred_proba_mnb = mnb.predict_proba(X_test_count_vect.toarray())[:, 1]\n",
    "y_pred_labels_mnb = mnb.predict(X_test_count_vect.toarray())"
   ]
  },
  {
   "cell_type": "code",
   "execution_count": 365,
   "metadata": {},
   "outputs": [],
   "source": [
    "roc_auc = roc_auc_score(y_test_count_vect, y_pred_proba_mnb)\n",
    "precision = precision_score(y_test_count_vect, y_pred_labels_mnb)\n",
    "recall = recall_score(y_test_count_vect, y_pred_labels_mnb)\n",
    "accuracy = accuracy_score(y_test_count_vect, y_pred_labels_mnb)"
   ]
  },
  {
   "cell_type": "code",
   "execution_count": 366,
   "metadata": {},
   "outputs": [
    {
     "name": "stdout",
     "output_type": "stream",
     "text": [
      "0.8535938386111264\n",
      "0.7888513513513513\n",
      "0.7022556390977444\n",
      "0.7827841291190316\n"
     ]
    }
   ],
   "source": [
    "print(roc_auc)\n",
    "print(precision)\n",
    "print(recall)\n",
    "print(accuracy)"
   ]
  },
  {
   "cell_type": "code",
   "execution_count": 367,
   "metadata": {},
   "outputs": [],
   "source": [
    "baseline_results = pd.DataFrame(index=['roc_auc', 'precision', 'recall', 'accuracy'])"
   ]
  },
  {
   "cell_type": "code",
   "execution_count": 368,
   "metadata": {},
   "outputs": [],
   "source": [
    "baseline_results['MultinomialNB'] = [roc_auc, precision, recall, accuracy]"
   ]
  },
  {
   "cell_type": "markdown",
   "metadata": {},
   "source": [
    "Логистическая регрессия с CountVectorizer"
   ]
  },
  {
   "cell_type": "code",
   "execution_count": 369,
   "metadata": {},
   "outputs": [],
   "source": [
    "clf = LogisticRegression(penalty='l1', random_state=42, solver='liblinear').fit(X_train_count_vect,\n",
    "                                                                           y_train_count_vect)\n",
    "y_pred_labels_count_vect = clf.predict(X_test_count_vect)\n",
    "y_pred_proba_count_vect = clf.predict_proba(X_test_count_vect)[:, 1]"
   ]
  },
  {
   "cell_type": "code",
   "execution_count": 370,
   "metadata": {},
   "outputs": [],
   "source": [
    "roc_auc = roc_auc_score(y_test_count_vect, y_pred_proba_count_vect)\n",
    "precision = precision_score(y_test_count_vect, y_pred_labels_count_vect)\n",
    "recall = recall_score(y_test_count_vect, y_pred_labels_count_vect)\n",
    "accuracy = accuracy_score(y_test_count_vect, y_pred_labels_count_vect)"
   ]
  },
  {
   "cell_type": "code",
   "execution_count": 371,
   "metadata": {},
   "outputs": [
    {
     "name": "stdout",
     "output_type": "stream",
     "text": [
      "0.8537786071016958\n",
      "0.7923211169284468\n",
      "0.6827067669172933\n",
      "0.7780766644250168\n"
     ]
    }
   ],
   "source": [
    "print(roc_auc)\n",
    "print(precision)\n",
    "print(recall)\n",
    "print(accuracy)"
   ]
  },
  {
   "cell_type": "code",
   "execution_count": 372,
   "metadata": {},
   "outputs": [],
   "source": [
    "baseline_results['LogRegression_CV'] = [roc_auc, precision, recall, accuracy]"
   ]
  },
  {
   "cell_type": "code",
   "execution_count": 194,
   "metadata": {},
   "outputs": [],
   "source": [
    "vectorizer = TfidfVectorizer()\n",
    "X = vectorizer.fit_transform(X_text)"
   ]
  },
  {
   "cell_type": "code",
   "execution_count": 195,
   "metadata": {},
   "outputs": [],
   "source": [
    "X_train_Tfidf, X_test_Tfidf, y_train_Tfidf, y_test_Tfidf = train_test_split(X, y_sp, test_size=0.3,\n",
    "                                                                        random_state=42, stratify=y_sp)"
   ]
  },
  {
   "cell_type": "markdown",
   "metadata": {},
   "source": [
    "Логистическая регрессия с Tfidf"
   ]
  },
  {
   "cell_type": "code",
   "execution_count": 199,
   "metadata": {},
   "outputs": [],
   "source": [
    "clf = LogisticRegression(penalty='l1', random_state=42, solver='saga').fit(X_train_Tfidf, y_train_Tfidf)\n",
    "y_pred_labels_Tfidf = clf.predict(X_test_Tfidf)\n",
    "y_pred_proba_Tfidf = clf.predict_proba(X_test_Tfidf)[:, 1]"
   ]
  },
  {
   "cell_type": "code",
   "execution_count": 200,
   "metadata": {},
   "outputs": [],
   "source": [
    "roc_auc = roc_auc_score(y_test_Tfidf, y_pred_proba_Tfidf)\n",
    "precision = precision_score(y_test_Tfidf, y_pred_labels_Tfidf)\n",
    "recall = recall_score(y_test_Tfidf, y_pred_labels_Tfidf)\n",
    "accuracy = accuracy_score(y_test_Tfidf, y_pred_labels_Tfidf)"
   ]
  },
  {
   "cell_type": "code",
   "execution_count": 201,
   "metadata": {},
   "outputs": [
    {
     "name": "stdout",
     "output_type": "stream",
     "text": [
      "0.8578197318112801\n",
      "0.7981308411214953\n",
      "0.6421052631578947\n",
      "0.7673167451244116\n"
     ]
    }
   ],
   "source": [
    "print(roc_auc)\n",
    "print(precision)\n",
    "print(recall)\n",
    "print(accuracy)"
   ]
  },
  {
   "cell_type": "code",
   "execution_count": 67,
   "metadata": {},
   "outputs": [],
   "source": [
    "baseline_results['LogRegression_Tfidf'] = [roc_auc, precision, recall, accuracy]"
   ]
  },
  {
   "cell_type": "code",
   "execution_count": 68,
   "metadata": {
    "scrolled": true
   },
   "outputs": [
    {
     "data": {
      "text/html": [
       "<div>\n",
       "<style scoped>\n",
       "    .dataframe tbody tr th:only-of-type {\n",
       "        vertical-align: middle;\n",
       "    }\n",
       "\n",
       "    .dataframe tbody tr th {\n",
       "        vertical-align: top;\n",
       "    }\n",
       "\n",
       "    .dataframe thead th {\n",
       "        text-align: right;\n",
       "    }\n",
       "</style>\n",
       "<table border=\"1\" class=\"dataframe\">\n",
       "  <thead>\n",
       "    <tr style=\"text-align: right;\">\n",
       "      <th></th>\n",
       "      <th>MultinomialNB</th>\n",
       "      <th>LogRegression_CV</th>\n",
       "      <th>LogRegression_Tfidf</th>\n",
       "    </tr>\n",
       "  </thead>\n",
       "  <tbody>\n",
       "    <tr>\n",
       "      <th>roc_auc</th>\n",
       "      <td>0.870377</td>\n",
       "      <td>0.863713</td>\n",
       "      <td>0.857820</td>\n",
       "    </tr>\n",
       "    <tr>\n",
       "      <th>precision</th>\n",
       "      <td>0.814503</td>\n",
       "      <td>0.813433</td>\n",
       "      <td>0.798131</td>\n",
       "    </tr>\n",
       "    <tr>\n",
       "      <th>recall</th>\n",
       "      <td>0.726316</td>\n",
       "      <td>0.655639</td>\n",
       "      <td>0.642105</td>\n",
       "    </tr>\n",
       "    <tr>\n",
       "      <th>accuracy</th>\n",
       "      <td>0.803631</td>\n",
       "      <td>0.778749</td>\n",
       "      <td>0.767317</td>\n",
       "    </tr>\n",
       "  </tbody>\n",
       "</table>\n",
       "</div>"
      ],
      "text/plain": [
       "           MultinomialNB  LogRegression_CV  LogRegression_Tfidf\n",
       "roc_auc         0.870377          0.863713             0.857820\n",
       "precision       0.814503          0.813433             0.798131\n",
       "recall          0.726316          0.655639             0.642105\n",
       "accuracy        0.803631          0.778749             0.767317"
      ]
     },
     "execution_count": 68,
     "metadata": {},
     "output_type": "execute_result"
    }
   ],
   "source": [
    "baseline_results"
   ]
  },
  {
   "cell_type": "code",
   "execution_count": 392,
   "metadata": {},
   "outputs": [],
   "source": [
    "file = open('./tables/baseline_results.txt', 'w')\n",
    "file.write(baseline_results.to_latex())\n",
    "file.close()"
   ]
  },
  {
   "cell_type": "markdown",
   "metadata": {},
   "source": [
    "Хотим избежать ошибок FalsePositive, поэтому будем смотреть на метрики presicion и recall. В качестве бейзлайна выберем модель, которая дала наилучший резулат относительно presicion. Это логистическая регрессия, где векторизация документов проводилась с помощью CountVectorizer."
   ]
  },
  {
   "cell_type": "markdown",
   "metadata": {},
   "source": [
    "Также можно попробовать Fasttext и классификацию с помощью artm, она точно должна работать лучше, чем то, что сделала я."
   ]
  },
  {
   "cell_type": "markdown",
   "metadata": {},
   "source": [
    "## ARTM classification с двумя модальностями и регуляризаторами"
   ]
  },
  {
   "cell_type": "code",
   "execution_count": 202,
   "metadata": {},
   "outputs": [],
   "source": [
    "dataset = pd.read_csv('preprocessed_data_for_specificity_prediction.csv')\n",
    "dataset.index=dataset['id']"
   ]
  },
  {
   "cell_type": "code",
   "execution_count": 203,
   "metadata": {
    "scrolled": true
   },
   "outputs": [
    {
     "data": {
      "text/plain": [
       "False"
      ]
     },
     "execution_count": 203,
     "metadata": {},
     "output_type": "execute_result"
    }
   ],
   "source": [
    "dataset.isnull().values.any()"
   ]
  },
  {
   "cell_type": "code",
   "execution_count": 204,
   "metadata": {},
   "outputs": [],
   "source": [
    "X_train, X_test, y_train, y_test = train_test_split(dataset['vw_ngram_info_labels'], dataset['specificity'],\n",
    "                                                    test_size=0.3, random_state=42,\n",
    "                                                    stratify=dataset['specificity'])\n",
    "\n",
    "X_train = X_train.sort_index()\n",
    "X_test = X_test.sort_index()\n",
    "y_train = y_train.sort_index()\n",
    "y_test = y_test.sort_index()"
   ]
  },
  {
   "cell_type": "code",
   "execution_count": 205,
   "metadata": {},
   "outputs": [],
   "source": [
    "vw_file_train = open('vw_documents_train.txt', 'w')\n",
    "vw_file_test = open('vw_documents_test.txt', 'w')\n",
    "\n",
    "for index, goal in dataset.iterrows():\n",
    "    if index in X_train.index:\n",
    "        vw_file_train.write(goal['vw_ngram_info_labels']+'\\n')\n",
    "    else:\n",
    "        vw_file_test.write(goal['vw_ngram_info']+'\\n')\n",
    "        \n",
    "vw_file_train.close()\n",
    "vw_file_test.close()"
   ]
  },
  {
   "cell_type": "code",
   "execution_count": 206,
   "metadata": {},
   "outputs": [],
   "source": [
    "train_batch_vectorizer=artm.BatchVectorizer(data_path='vw_documents_train.txt',\n",
    "                                            data_format='vowpal_wabbit',\n",
    "                                            batch_size=10000,\n",
    "                                            target_folder='./train_batches')\n",
    "dictionary = train_batch_vectorizer.dictionary"
   ]
  },
  {
   "cell_type": "markdown",
   "metadata": {},
   "source": [
    "### Подбираю параметры"
   ]
  },
  {
   "cell_type": "code",
   "execution_count": 207,
   "metadata": {},
   "outputs": [],
   "source": [
    "def coef_ref_search_specifisity(train_batch_vectorizer):\n",
    "    grid_SparsePhi_ngram = [-10, -100, -1000]\n",
    "    grid_SparsePhi_info = [-1]\n",
    "    grid_SparsePhi_specificity = [-10]\n",
    "    grid_SparseTheta = [-10]\n",
    "    grid_DecorrelatorPhi_ngram = [100, 1000, 10000]\n",
    "    grid_DecorrelatorPhi_info = [1]\n",
    "    grid_weight_ngram = [1, 5, 10]\n",
    "    grid_weight_info = [1, 5, 10]\n",
    "    grid_weight_specificity = [1, 5, 10, 20]\n",
    "    grid_num_topics = [15]\n",
    "    scores = []\n",
    "    reg_coefs = []\n",
    "    i = 0\n",
    "    \n",
    "    for tau_SparsePhi_ngram in grid_SparsePhi_ngram:\n",
    "        for tau_SparsePhi_info in grid_SparsePhi_info:\n",
    "            for tau_SparsePhi_specificity in grid_SparsePhi_specificity:\n",
    "                    for tau_SparseTheta in grid_SparseTheta:\n",
    "                        for tau_DecorrelatorPhi_ngram in grid_DecorrelatorPhi_ngram:\n",
    "                            for tau_DecorrelatorPhi_info in grid_DecorrelatorPhi_info:\n",
    "                                for weight_info in grid_weight_info:\n",
    "                                    for weight_ngram in grid_weight_ngram:\n",
    "                                        for weight_specifisity in grid_weight_specificity:\n",
    "                                            for numer_topics in grid_num_topics:\n",
    "                                                print(i)\n",
    "                                                i += 1\n",
    "\n",
    "                                                new_model = artm.ARTM(num_topics=numer_topics,\n",
    "                                                                      num_processors=7,\n",
    "                                                                      cache_theta=True,\n",
    "                                                                      theta_columns_naming='title',\n",
    "                                                                      show_progress_bars=True,\n",
    "                                                                      dictionary=train_batch_vectorizer.dictionary)\n",
    "\n",
    "                                                new_model.class_ids = {'@ngram': weight_ngram,\n",
    "                                                                       '@info': weight_info,\n",
    "                                                                       '@specificity':weight_specifisity}\n",
    "\n",
    "                                                new_model.scores.add(artm.PerplexityScore(name='PerlexityScore_ngram', class_ids=['@ngram']))\n",
    "                                                new_model.scores.add(artm.PerplexityScore(name='PerlexityScore_info', class_ids=['@info']))\n",
    "                                                new_model.scores.add(artm.SparsityPhiScore(name='SparsityPhiScore_ngram', class_id='@ngram'))\n",
    "                                                new_model.scores.add(artm.SparsityPhiScore(name='SparsityPhiScore_info', class_id='@info'))\n",
    "                                                new_model.scores.add(artm.SparsityPhiScore(name='SparsityPhiScore_specificity', class_id='@specificity'))\n",
    "                                                new_model.scores.add(artm.SparsityThetaScore(name='SparsityThetaScore'))\n",
    "                                                new_model.scores.add(artm.TopTokensScore(name='TopTokensScore', num_tokens=10, class_id='@ngram'))\n",
    "                                                new_model.scores.add(artm.BackgroundTokensRatioScore(name='BackgroundTokensRatioScore',\n",
    "                                                                                                                class_id='@ngram'))\n",
    "                                                # TO CHECK\n",
    "                                                # возможно следующую строчку надо удалить\n",
    "                                                new_model.initialize(dictionary=train_batch_vectorizer.dictionary)\n",
    "                                                new_model.fit_offline(batch_vectorizer=train_batch_vectorizer, num_collection_passes=15)\n",
    "\n",
    "                                                topic_model = TopicModel(new_model)\n",
    "                                                print(topic_model.describe_scores())\n",
    "\n",
    "                                                # добавляю регуляризаторы\n",
    "                                                new_model.regularizers.add(artm.SmoothSparsePhiRegularizer(name='SparsePhiRegularizer_ngram',\n",
    "                                                                                                           tau=tau_SparsePhi_ngram,\n",
    "                                                                                                           class_ids=['@ngram'],\n",
    "                                                                                                           dictionary=dictionary))\n",
    "                                                new_model.regularizers.add(artm.SmoothSparsePhiRegularizer(name='SparsePhiRegularizer_info',\n",
    "                                                                                                           tau=tau_SparsePhi_info,\n",
    "                                                                                                           class_ids=['@info'],\n",
    "                                                                                                           dictionary=dictionary))\n",
    "                                                new_model.regularizers.add(artm.SmoothSparsePhiRegularizer(name='SparsePhiRegularizer_specificity',\n",
    "                                                                                                           tau=tau_SparsePhi_specificity,\n",
    "                                                                                                           class_ids=['@specificity'],\n",
    "                                                                                                           dictionary=dictionary))\n",
    "                                                new_model.regularizers.add(artm.SmoothSparseThetaRegularizer(name='SparseThetaRegularizer',\n",
    "                                                                                                             tau=tau_SparseTheta))\n",
    "                                                new_model.regularizers.add(artm.DecorrelatorPhiRegularizer(name='DecorrelatorPhiRegularizer_ngram',\n",
    "                                                                                                           tau=tau_DecorrelatorPhi_ngram,\n",
    "                                                                                                           class_ids=['@ngram']))\n",
    "                                                new_model.regularizers.add(artm.DecorrelatorPhiRegularizer(name='DecorrelatorPhiRegularizer_info',\n",
    "                                                                                                           tau=tau_DecorrelatorPhi_info,\n",
    "                                                                                                           class_ids=['@info']))\n",
    "\n",
    "                                                new_model.fit_offline(batch_vectorizer=train_batch_vectorizer, num_collection_passes=15)\n",
    "\n",
    "                                                topic_model = TopicModel(new_model)\n",
    "                                                print(topic_model.describe_scores())\n",
    "                                                print(topic_model.describe_regularizers())\n",
    "\n",
    "                                                # метрики классификации на тестовой выборке\n",
    "                                                batch_vectorizer_test=artm.BatchVectorizer(data_path='vw_documents_test.txt',\n",
    "                                                    data_format='vowpal_wabbit',\n",
    "                                                    target_folder='./test_batches')\n",
    "                                                dictionary_test = batch_vectorizer_test.dictionary\n",
    "                                                theta_test = new_model.transform(batch_vectorizer=batch_vectorizer_test)\n",
    "                                                p_cd_test = new_model.transform(batch_vectorizer=batch_vectorizer_test,\n",
    "                                                                                           predict_class_id='@specificity')\n",
    "\n",
    "                                                # Это не правильно! Тут должно быть не 0.5\n",
    "                                                # Подбор этого порога уже есть в этом ноутбуке\n",
    "                                                y_pred_labels = []\n",
    "                                                for document in p_cd_test.columns:\n",
    "                                                    if p_cd_test[document][1] >= 0.5:\n",
    "                                                        y_pred_labels.append(1)\n",
    "                                                    else:\n",
    "                                                        y_pred_labels.append(0)\n",
    "\n",
    "                                                p_cd_test.columns = sorted(list(map(lambda item: int(item), p_cd_test.columns)))\n",
    "\n",
    "                                                y_pred_proba = p_cd_test\n",
    "                                                roc_auc = roc_auc_score(y_test, y_pred_labels)\n",
    "                                                precision = precision_score(y_test, y_pred_labels)\n",
    "                                                recall = recall_score(y_test, y_pred_labels)\n",
    "                                                accuracy = accuracy_score(y_test, y_pred_labels)\n",
    "\n",
    "                                                score = dict()\n",
    "                                                r_coefs = dict()\n",
    "\n",
    "                                                score['PerlexityScore_ngram'] = new_model.score_tracker['PerlexityScore_ngram'].last_value\n",
    "                                                score['PerlexityScore_info'] = new_model.score_tracker['PerlexityScore_info'].last_value\n",
    "                                                score['SparsityPhiScore_ngram'] = new_model.score_tracker['SparsityPhiScore_ngram'].last_value\n",
    "                                                score['SparsityPhiScore_info'] = new_model.score_tracker['SparsityPhiScore_info'].last_value\n",
    "                                                score['SparsityThetaScore'] = new_model.score_tracker['SparsityThetaScore'].last_value\n",
    "                                                score['roc_auc'] = roc_auc\n",
    "                                                score['precision'] = precision\n",
    "                                                score['recall'] = recall\n",
    "                                                score['accuracy'] = accuracy\n",
    "\n",
    "                                                scores.append(score)\n",
    "\n",
    "                                                r_coefs['SparsePhiRegularizer_ngram'] = tau_SparsePhi_ngram\n",
    "                                                r_coefs['SparsePhiRegularizer_info'] = tau_SparsePhi_info\n",
    "                                                r_coefs['SparseThetaRegularizer'] = tau_SparseTheta\n",
    "                                                r_coefs['DecorrelatorPhiRegularizer_ngram'] = tau_DecorrelatorPhi_ngram\n",
    "                                                r_coefs['DecorrelatorPhiRegularizer_info'] = tau_DecorrelatorPhi_info\n",
    "                                                r_coefs['weight_ngram'] = weight_ngram\n",
    "                                                r_coefs['weight_info'] = weight_info\n",
    "                                                r_coefs['weight_specificity'] = weight_specifisity\n",
    "\n",
    "                                                reg_coefs.append(r_coefs)\n",
    "                                                new_model.remove_theta()\n",
    "                                                #perplexity_plot(new_model)\n",
    "                        \n",
    "    return (scores, reg_coefs)"
   ]
  },
  {
   "cell_type": "code",
   "execution_count": 208,
   "metadata": {
    "scrolled": true
   },
   "outputs": [],
   "source": [
    "# (scores, reg_coefs) = coef_ref_search_specifisity(train_batch_vectorizer)"
   ]
  },
  {
   "cell_type": "code",
   "execution_count": 209,
   "metadata": {},
   "outputs": [],
   "source": [
    "# num = 0\n",
    "# min_perplexy = 4000\n",
    "# index_min_perplexy = 0\n",
    "# max_roc_auc = 0\n",
    "# index_max_roc_auc = 0\n",
    "# max_precision = 0\n",
    "# index_max_precision = 0\n",
    "# for i in range(len(scores)):\n",
    "#     if (scores[i]['PerlexityScore'] < 3000.0) & (scores[i]['roc_auc'] > 0.50) & \\\n",
    "#     (scores[i]['SparsityPhiScore_ngram'] > 0.7) & (scores[i]['SparsityPhiScore_ngram'] < 0.99) & \\\n",
    "#     (scores[i]['SparsityThetaScore'] < 0.99):\n",
    "#         print(i, scores[i])\n",
    "#         print('SparsePhiRegularizer_ngram', reg_coefs[i]['SparsePhiRegularizer_ngram'])\n",
    "#         print('SparsePhiRegularizer_info', reg_coefs[i]['SparsePhiRegularizer_info'])\n",
    "#         print('SparseThetaRegularizer', reg_coefs[i]['SparseThetaRegularizer'])\n",
    "#         print('DecorrelatorPhiRegularizer_ngram', reg_coefs[i]['DecorrelatorPhiRegularizer_ngram'])\n",
    "#         print('DecorrelatorPhiRegularizer_info', reg_coefs[i]['DecorrelatorPhiRegularizer_info'])\n",
    "#         print()\n",
    "#         num+=1\n",
    "#         if scores[i]['PerlexityScore'] < min_perplexy:\n",
    "#             min_perplexy = scores[i]['PerlexityScore']\n",
    "#             index_min_perplexy = i\n",
    "#         if scores[i]['roc_auc'] > max_roc_auc:\n",
    "#             max_roc_auc = scores[i]['roc_auc']\n",
    "#             index_max_roc_auc = i\n",
    "#         if scores[i]['PerlexityScore'] < min_perplexy:\n",
    "#             min_perplexy = scores[i]['PerlexityScore']\n",
    "#             index_min_perplexy = i\n",
    "#         if scores[i]['precision'] > max_precision:\n",
    "#             max_precision = scores[i]['precision']\n",
    "#             index_max_max_precision = i\n",
    "# print('Всего {} хороших моделей'.format(num))\n",
    "# print('min_perplexy:', min_perplexy)\n",
    "# print('index_min_perplexy:', index_min_perplexy)\n",
    "# print('max_roc_auc:', max_roc_auc)\n",
    "# print('index_max_roc_auc:', index_max_roc_auc)\n",
    "# print('max_precision:', max_precision)\n",
    "# print('index_max_precision:', index_max_precision)"
   ]
  },
  {
   "cell_type": "code",
   "execution_count": 210,
   "metadata": {
    "scrolled": true
   },
   "outputs": [],
   "source": [
    "# reg_coefs[index_min_perplexy]"
   ]
  },
  {
   "cell_type": "code",
   "execution_count": 211,
   "metadata": {
    "scrolled": true
   },
   "outputs": [],
   "source": [
    "# reg_coefs[index_max_precision]"
   ]
  },
  {
   "cell_type": "code",
   "execution_count": 212,
   "metadata": {},
   "outputs": [],
   "source": [
    "# reg_coefs[index_max_roc_auc]"
   ]
  },
  {
   "cell_type": "code",
   "execution_count": 373,
   "metadata": {},
   "outputs": [],
   "source": [
    "NUM_TOPICS = 15\n",
    "\n",
    "classification_model = artm.ARTM(num_topics=NUM_TOPICS,\n",
    "                                 num_processors=7,\n",
    "                                 theta_columns_naming='title',\n",
    "                                 seed=1,\n",
    "                                 show_progress_bars=True,\n",
    "                                 dictionary=dictionary)"
   ]
  },
  {
   "cell_type": "code",
   "execution_count": 374,
   "metadata": {},
   "outputs": [],
   "source": [
    "classification_model.class_ids = {'@ngram': 10.0, '@info': 1.0, '@specificity':25}"
   ]
  },
  {
   "cell_type": "code",
   "execution_count": 375,
   "metadata": {},
   "outputs": [],
   "source": [
    "classification_model.scores.add(artm.PerplexityScore(name='PerlexityScore_ngram', class_ids=['@ngram']))\n",
    "classification_model.scores.add(artm.PerplexityScore(name='PerlexityScore_info', class_ids=['@info']))\n",
    "classification_model.scores.add(artm.SparsityPhiScore(name='SparsityPhiScore_ngram', class_id='@ngram'))\n",
    "classification_model.scores.add(artm.SparsityPhiScore(name='SparsityPhiScore_info', class_id='@info'))\n",
    "classification_model.scores.add(artm.SparsityThetaScore(name='SparsityThetaScore'))\n",
    "classification_model.scores.add(artm.TopTokensScore(name='TopTokensScore', num_tokens=10, class_id='@ngram'))\n",
    "classification_model.scores.add(artm.BackgroundTokensRatioScore(name='BackgroundTokensRatioScore',\n",
    "                                                                class_id='@ngram'))"
   ]
  },
  {
   "cell_type": "code",
   "execution_count": 376,
   "metadata": {
    "scrolled": true
   },
   "outputs": [
    {
     "data": {
      "application/vnd.jupyter.widget-view+json": {
       "model_id": "8e9688173a0542d2a8364a0b10b6960e",
       "version_major": 2,
       "version_minor": 0
      },
      "text/plain": [
       "HBox(children=(FloatProgress(value=0.0, description='Pass', max=40.0, style=ProgressStyle(description_width='i…"
      ]
     },
     "metadata": {},
     "output_type": "display_data"
    },
    {
     "data": {
      "application/vnd.jupyter.widget-view+json": {
       "model_id": "",
       "version_major": 2,
       "version_minor": 0
      },
      "text/plain": [
       "HBox(children=(FloatProgress(value=0.0, description='Batch', max=1.0, style=ProgressStyle(description_width='i…"
      ]
     },
     "metadata": {},
     "output_type": "display_data"
    },
    {
     "data": {
      "application/vnd.jupyter.widget-view+json": {
       "model_id": "",
       "version_major": 2,
       "version_minor": 0
      },
      "text/plain": [
       "HBox(children=(FloatProgress(value=0.0, description='Batch', max=1.0, style=ProgressStyle(description_width='i…"
      ]
     },
     "metadata": {},
     "output_type": "display_data"
    },
    {
     "data": {
      "application/vnd.jupyter.widget-view+json": {
       "model_id": "",
       "version_major": 2,
       "version_minor": 0
      },
      "text/plain": [
       "HBox(children=(FloatProgress(value=0.0, description='Batch', max=1.0, style=ProgressStyle(description_width='i…"
      ]
     },
     "metadata": {},
     "output_type": "display_data"
    },
    {
     "data": {
      "application/vnd.jupyter.widget-view+json": {
       "model_id": "",
       "version_major": 2,
       "version_minor": 0
      },
      "text/plain": [
       "HBox(children=(FloatProgress(value=0.0, description='Batch', max=1.0, style=ProgressStyle(description_width='i…"
      ]
     },
     "metadata": {},
     "output_type": "display_data"
    },
    {
     "data": {
      "application/vnd.jupyter.widget-view+json": {
       "model_id": "",
       "version_major": 2,
       "version_minor": 0
      },
      "text/plain": [
       "HBox(children=(FloatProgress(value=0.0, description='Batch', max=1.0, style=ProgressStyle(description_width='i…"
      ]
     },
     "metadata": {},
     "output_type": "display_data"
    },
    {
     "data": {
      "application/vnd.jupyter.widget-view+json": {
       "model_id": "",
       "version_major": 2,
       "version_minor": 0
      },
      "text/plain": [
       "HBox(children=(FloatProgress(value=0.0, description='Batch', max=1.0, style=ProgressStyle(description_width='i…"
      ]
     },
     "metadata": {},
     "output_type": "display_data"
    },
    {
     "data": {
      "application/vnd.jupyter.widget-view+json": {
       "model_id": "",
       "version_major": 2,
       "version_minor": 0
      },
      "text/plain": [
       "HBox(children=(FloatProgress(value=0.0, description='Batch', max=1.0, style=ProgressStyle(description_width='i…"
      ]
     },
     "metadata": {},
     "output_type": "display_data"
    },
    {
     "data": {
      "application/vnd.jupyter.widget-view+json": {
       "model_id": "",
       "version_major": 2,
       "version_minor": 0
      },
      "text/plain": [
       "HBox(children=(FloatProgress(value=0.0, description='Batch', max=1.0, style=ProgressStyle(description_width='i…"
      ]
     },
     "metadata": {},
     "output_type": "display_data"
    },
    {
     "data": {
      "application/vnd.jupyter.widget-view+json": {
       "model_id": "",
       "version_major": 2,
       "version_minor": 0
      },
      "text/plain": [
       "HBox(children=(FloatProgress(value=0.0, description='Batch', max=1.0, style=ProgressStyle(description_width='i…"
      ]
     },
     "metadata": {},
     "output_type": "display_data"
    },
    {
     "data": {
      "application/vnd.jupyter.widget-view+json": {
       "model_id": "",
       "version_major": 2,
       "version_minor": 0
      },
      "text/plain": [
       "HBox(children=(FloatProgress(value=0.0, description='Batch', max=1.0, style=ProgressStyle(description_width='i…"
      ]
     },
     "metadata": {},
     "output_type": "display_data"
    },
    {
     "data": {
      "application/vnd.jupyter.widget-view+json": {
       "model_id": "",
       "version_major": 2,
       "version_minor": 0
      },
      "text/plain": [
       "HBox(children=(FloatProgress(value=0.0, description='Batch', max=1.0, style=ProgressStyle(description_width='i…"
      ]
     },
     "metadata": {},
     "output_type": "display_data"
    },
    {
     "data": {
      "application/vnd.jupyter.widget-view+json": {
       "model_id": "",
       "version_major": 2,
       "version_minor": 0
      },
      "text/plain": [
       "HBox(children=(FloatProgress(value=0.0, description='Batch', max=1.0, style=ProgressStyle(description_width='i…"
      ]
     },
     "metadata": {},
     "output_type": "display_data"
    },
    {
     "data": {
      "application/vnd.jupyter.widget-view+json": {
       "model_id": "",
       "version_major": 2,
       "version_minor": 0
      },
      "text/plain": [
       "HBox(children=(FloatProgress(value=0.0, description='Batch', max=1.0, style=ProgressStyle(description_width='i…"
      ]
     },
     "metadata": {},
     "output_type": "display_data"
    },
    {
     "data": {
      "application/vnd.jupyter.widget-view+json": {
       "model_id": "",
       "version_major": 2,
       "version_minor": 0
      },
      "text/plain": [
       "HBox(children=(FloatProgress(value=0.0, description='Batch', max=1.0, style=ProgressStyle(description_width='i…"
      ]
     },
     "metadata": {},
     "output_type": "display_data"
    },
    {
     "data": {
      "application/vnd.jupyter.widget-view+json": {
       "model_id": "",
       "version_major": 2,
       "version_minor": 0
      },
      "text/plain": [
       "HBox(children=(FloatProgress(value=0.0, description='Batch', max=1.0, style=ProgressStyle(description_width='i…"
      ]
     },
     "metadata": {},
     "output_type": "display_data"
    },
    {
     "data": {
      "application/vnd.jupyter.widget-view+json": {
       "model_id": "",
       "version_major": 2,
       "version_minor": 0
      },
      "text/plain": [
       "HBox(children=(FloatProgress(value=0.0, description='Batch', max=1.0, style=ProgressStyle(description_width='i…"
      ]
     },
     "metadata": {},
     "output_type": "display_data"
    },
    {
     "data": {
      "application/vnd.jupyter.widget-view+json": {
       "model_id": "",
       "version_major": 2,
       "version_minor": 0
      },
      "text/plain": [
       "HBox(children=(FloatProgress(value=0.0, description='Batch', max=1.0, style=ProgressStyle(description_width='i…"
      ]
     },
     "metadata": {},
     "output_type": "display_data"
    },
    {
     "data": {
      "application/vnd.jupyter.widget-view+json": {
       "model_id": "",
       "version_major": 2,
       "version_minor": 0
      },
      "text/plain": [
       "HBox(children=(FloatProgress(value=0.0, description='Batch', max=1.0, style=ProgressStyle(description_width='i…"
      ]
     },
     "metadata": {},
     "output_type": "display_data"
    },
    {
     "data": {
      "application/vnd.jupyter.widget-view+json": {
       "model_id": "",
       "version_major": 2,
       "version_minor": 0
      },
      "text/plain": [
       "HBox(children=(FloatProgress(value=0.0, description='Batch', max=1.0, style=ProgressStyle(description_width='i…"
      ]
     },
     "metadata": {},
     "output_type": "display_data"
    },
    {
     "data": {
      "application/vnd.jupyter.widget-view+json": {
       "model_id": "",
       "version_major": 2,
       "version_minor": 0
      },
      "text/plain": [
       "HBox(children=(FloatProgress(value=0.0, description='Batch', max=1.0, style=ProgressStyle(description_width='i…"
      ]
     },
     "metadata": {},
     "output_type": "display_data"
    },
    {
     "data": {
      "application/vnd.jupyter.widget-view+json": {
       "model_id": "",
       "version_major": 2,
       "version_minor": 0
      },
      "text/plain": [
       "HBox(children=(FloatProgress(value=0.0, description='Batch', max=1.0, style=ProgressStyle(description_width='i…"
      ]
     },
     "metadata": {},
     "output_type": "display_data"
    },
    {
     "data": {
      "application/vnd.jupyter.widget-view+json": {
       "model_id": "",
       "version_major": 2,
       "version_minor": 0
      },
      "text/plain": [
       "HBox(children=(FloatProgress(value=0.0, description='Batch', max=1.0, style=ProgressStyle(description_width='i…"
      ]
     },
     "metadata": {},
     "output_type": "display_data"
    },
    {
     "data": {
      "application/vnd.jupyter.widget-view+json": {
       "model_id": "",
       "version_major": 2,
       "version_minor": 0
      },
      "text/plain": [
       "HBox(children=(FloatProgress(value=0.0, description='Batch', max=1.0, style=ProgressStyle(description_width='i…"
      ]
     },
     "metadata": {},
     "output_type": "display_data"
    },
    {
     "data": {
      "application/vnd.jupyter.widget-view+json": {
       "model_id": "",
       "version_major": 2,
       "version_minor": 0
      },
      "text/plain": [
       "HBox(children=(FloatProgress(value=0.0, description='Batch', max=1.0, style=ProgressStyle(description_width='i…"
      ]
     },
     "metadata": {},
     "output_type": "display_data"
    },
    {
     "data": {
      "application/vnd.jupyter.widget-view+json": {
       "model_id": "",
       "version_major": 2,
       "version_minor": 0
      },
      "text/plain": [
       "HBox(children=(FloatProgress(value=0.0, description='Batch', max=1.0, style=ProgressStyle(description_width='i…"
      ]
     },
     "metadata": {},
     "output_type": "display_data"
    },
    {
     "data": {
      "application/vnd.jupyter.widget-view+json": {
       "model_id": "",
       "version_major": 2,
       "version_minor": 0
      },
      "text/plain": [
       "HBox(children=(FloatProgress(value=0.0, description='Batch', max=1.0, style=ProgressStyle(description_width='i…"
      ]
     },
     "metadata": {},
     "output_type": "display_data"
    },
    {
     "data": {
      "application/vnd.jupyter.widget-view+json": {
       "model_id": "",
       "version_major": 2,
       "version_minor": 0
      },
      "text/plain": [
       "HBox(children=(FloatProgress(value=0.0, description='Batch', max=1.0, style=ProgressStyle(description_width='i…"
      ]
     },
     "metadata": {},
     "output_type": "display_data"
    },
    {
     "data": {
      "application/vnd.jupyter.widget-view+json": {
       "model_id": "",
       "version_major": 2,
       "version_minor": 0
      },
      "text/plain": [
       "HBox(children=(FloatProgress(value=0.0, description='Batch', max=1.0, style=ProgressStyle(description_width='i…"
      ]
     },
     "metadata": {},
     "output_type": "display_data"
    },
    {
     "data": {
      "application/vnd.jupyter.widget-view+json": {
       "model_id": "",
       "version_major": 2,
       "version_minor": 0
      },
      "text/plain": [
       "HBox(children=(FloatProgress(value=0.0, description='Batch', max=1.0, style=ProgressStyle(description_width='i…"
      ]
     },
     "metadata": {},
     "output_type": "display_data"
    },
    {
     "data": {
      "application/vnd.jupyter.widget-view+json": {
       "model_id": "",
       "version_major": 2,
       "version_minor": 0
      },
      "text/plain": [
       "HBox(children=(FloatProgress(value=0.0, description='Batch', max=1.0, style=ProgressStyle(description_width='i…"
      ]
     },
     "metadata": {},
     "output_type": "display_data"
    },
    {
     "data": {
      "application/vnd.jupyter.widget-view+json": {
       "model_id": "",
       "version_major": 2,
       "version_minor": 0
      },
      "text/plain": [
       "HBox(children=(FloatProgress(value=0.0, description='Batch', max=1.0, style=ProgressStyle(description_width='i…"
      ]
     },
     "metadata": {},
     "output_type": "display_data"
    },
    {
     "data": {
      "application/vnd.jupyter.widget-view+json": {
       "model_id": "",
       "version_major": 2,
       "version_minor": 0
      },
      "text/plain": [
       "HBox(children=(FloatProgress(value=0.0, description='Batch', max=1.0, style=ProgressStyle(description_width='i…"
      ]
     },
     "metadata": {},
     "output_type": "display_data"
    },
    {
     "data": {
      "application/vnd.jupyter.widget-view+json": {
       "model_id": "",
       "version_major": 2,
       "version_minor": 0
      },
      "text/plain": [
       "HBox(children=(FloatProgress(value=0.0, description='Batch', max=1.0, style=ProgressStyle(description_width='i…"
      ]
     },
     "metadata": {},
     "output_type": "display_data"
    },
    {
     "data": {
      "application/vnd.jupyter.widget-view+json": {
       "model_id": "",
       "version_major": 2,
       "version_minor": 0
      },
      "text/plain": [
       "HBox(children=(FloatProgress(value=0.0, description='Batch', max=1.0, style=ProgressStyle(description_width='i…"
      ]
     },
     "metadata": {},
     "output_type": "display_data"
    },
    {
     "data": {
      "application/vnd.jupyter.widget-view+json": {
       "model_id": "",
       "version_major": 2,
       "version_minor": 0
      },
      "text/plain": [
       "HBox(children=(FloatProgress(value=0.0, description='Batch', max=1.0, style=ProgressStyle(description_width='i…"
      ]
     },
     "metadata": {},
     "output_type": "display_data"
    },
    {
     "data": {
      "application/vnd.jupyter.widget-view+json": {
       "model_id": "",
       "version_major": 2,
       "version_minor": 0
      },
      "text/plain": [
       "HBox(children=(FloatProgress(value=0.0, description='Batch', max=1.0, style=ProgressStyle(description_width='i…"
      ]
     },
     "metadata": {},
     "output_type": "display_data"
    },
    {
     "data": {
      "application/vnd.jupyter.widget-view+json": {
       "model_id": "",
       "version_major": 2,
       "version_minor": 0
      },
      "text/plain": [
       "HBox(children=(FloatProgress(value=0.0, description='Batch', max=1.0, style=ProgressStyle(description_width='i…"
      ]
     },
     "metadata": {},
     "output_type": "display_data"
    },
    {
     "data": {
      "application/vnd.jupyter.widget-view+json": {
       "model_id": "",
       "version_major": 2,
       "version_minor": 0
      },
      "text/plain": [
       "HBox(children=(FloatProgress(value=0.0, description='Batch', max=1.0, style=ProgressStyle(description_width='i…"
      ]
     },
     "metadata": {},
     "output_type": "display_data"
    },
    {
     "data": {
      "application/vnd.jupyter.widget-view+json": {
       "model_id": "",
       "version_major": 2,
       "version_minor": 0
      },
      "text/plain": [
       "HBox(children=(FloatProgress(value=0.0, description='Batch', max=1.0, style=ProgressStyle(description_width='i…"
      ]
     },
     "metadata": {},
     "output_type": "display_data"
    },
    {
     "data": {
      "application/vnd.jupyter.widget-view+json": {
       "model_id": "",
       "version_major": 2,
       "version_minor": 0
      },
      "text/plain": [
       "HBox(children=(FloatProgress(value=0.0, description='Batch', max=1.0, style=ProgressStyle(description_width='i…"
      ]
     },
     "metadata": {},
     "output_type": "display_data"
    },
    {
     "name": "stdout",
     "output_type": "stream",
     "text": [
      "\n"
     ]
    }
   ],
   "source": [
    "classification_model.fit_offline(batch_vectorizer=train_batch_vectorizer, num_collection_passes=40)"
   ]
  },
  {
   "cell_type": "code",
   "execution_count": 377,
   "metadata": {
    "scrolled": false
   },
   "outputs": [
    {
     "data": {
      "image/png": "[encoded data removed]",
      "text/plain": [
       "<Figure size 432x288 with 1 Axes>"
      ]
     },
     "metadata": {
      "needs_background": "light"
     },
     "output_type": "display_data"
    }
   ],
   "source": [
    "perplexity_plot_ngram(classification_model)"
   ]
  },
  {
   "cell_type": "code",
   "execution_count": 378,
   "metadata": {
    "scrolled": false
   },
   "outputs": [
    {
     "data": {
      "text/html": [
       "<div>\n",
       "<style scoped>\n",
       "    .dataframe tbody tr th:only-of-type {\n",
       "        vertical-align: middle;\n",
       "    }\n",
       "\n",
       "    .dataframe tbody tr th {\n",
       "        vertical-align: top;\n",
       "    }\n",
       "\n",
       "    .dataframe thead th {\n",
       "        text-align: right;\n",
       "    }\n",
       "</style>\n",
       "<table border=\"1\" class=\"dataframe\">\n",
       "  <thead>\n",
       "    <tr style=\"text-align: right;\">\n",
       "      <th></th>\n",
       "      <th></th>\n",
       "      <th>last_value</th>\n",
       "    </tr>\n",
       "    <tr>\n",
       "      <th>model_id</th>\n",
       "      <th>score_name</th>\n",
       "      <th></th>\n",
       "    </tr>\n",
       "  </thead>\n",
       "  <tbody>\n",
       "    <tr>\n",
       "      <th rowspan=\"8\" valign=\"top\">--20h36m04s_13d06m2020y---</th>\n",
       "      <th>PerlexityScore_ngram</th>\n",
       "      <td>161.604</td>\n",
       "    </tr>\n",
       "    <tr>\n",
       "      <th>PerlexityScore_info</th>\n",
       "      <td>43.0405</td>\n",
       "    </tr>\n",
       "    <tr>\n",
       "      <th>SparsityPhiScore_ngram</th>\n",
       "      <td>0.882816</td>\n",
       "    </tr>\n",
       "    <tr>\n",
       "      <th>SparsityPhiScore_info</th>\n",
       "      <td>0.161652</td>\n",
       "    </tr>\n",
       "    <tr>\n",
       "      <th>SparsityThetaScore</th>\n",
       "      <td>0.203403</td>\n",
       "    </tr>\n",
       "    <tr>\n",
       "      <th>TopTokensScore.average_coherence</th>\n",
       "      <td>0</td>\n",
       "    </tr>\n",
       "    <tr>\n",
       "      <th>TopTokensScore.num_tokens</th>\n",
       "      <td>150</td>\n",
       "    </tr>\n",
       "    <tr>\n",
       "      <th>BackgroundTokensRatioScore</th>\n",
       "      <td>0.256156</td>\n",
       "    </tr>\n",
       "  </tbody>\n",
       "</table>\n",
       "</div>"
      ],
      "text/plain": [
       "                                                            last_value\n",
       "model_id                   score_name                                 \n",
       "--20h36m04s_13d06m2020y--- PerlexityScore_ngram                161.604\n",
       "                           PerlexityScore_info                 43.0405\n",
       "                           SparsityPhiScore_ngram             0.882816\n",
       "                           SparsityPhiScore_info              0.161652\n",
       "                           SparsityThetaScore                 0.203403\n",
       "                           TopTokensScore.average_coherence          0\n",
       "                           TopTokensScore.num_tokens               150\n",
       "                           BackgroundTokensRatioScore         0.256156"
      ]
     },
     "execution_count": 378,
     "metadata": {},
     "output_type": "execute_result"
    }
   ],
   "source": [
    "classification_model_topic_model = TopicModel(classification_model)\n",
    "classification_model_topic_model.describe_scores()"
   ]
  },
  {
   "cell_type": "code",
   "execution_count": 379,
   "metadata": {
    "scrolled": true
   },
   "outputs": [
    {
     "data": {
      "text/html": [
       "<style>\n",
       "    div.output_html {\n",
       "        white-space: nowrap;\n",
       "    }\n",
       "    div .output_subarea > pre {\n",
       "        white-space: pre;\n",
       "        word-wrap: normal;\n",
       "    }\n",
       "    div .output_stdout > pre {\n",
       "        white-space: pre-wrap !important;\n",
       "        word-wrap:  break-word !important;\n",
       "    }\n",
       "    </style>"
      ],
      "text/plain": [
       "<IPython.core.display.HTML object>"
      ]
     },
     "metadata": {},
     "output_type": "display_data"
    },
    {
     "data": {
      "text/html": [
       "<style  type=\"text/css\" >\n",
       "</style><table id=\"T_5bf940fc_ad9c_11ea_9e3d_5bde62e03ae7\" style='display:inline'><thead>    <tr>        <th class=\"blank\" ></th>        <th class=\"blank level0\" ></th>        <th class=\"col_heading level0 col0\" >topic_0</th>    </tr>    <tr>        <th class=\"index_name level0\" >modality</th>        <th class=\"index_name level1\" >token</th>        <th class=\"blank\" ></th>    </tr></thead><tbody>\n",
       "                <tr>\n",
       "                        <th id=\"T_5bf940fc_ad9c_11ea_9e3d_5bde62e03ae7level0_row0\" class=\"row_heading level0 row0\" rowspan=10>@info</th>\n",
       "                        <th id=\"T_5bf940fc_ad9c_11ea_9e3d_5bde62e03ae7level1_row0\" class=\"row_heading level1 row0\" >&РЕЗУЛЬТАТ_Да,_четко</th>\n",
       "                        <td id=\"T_5bf940fc_ad9c_11ea_9e3d_5bde62e03ae7row0_col0\" class=\"data row0 col0\" >9.846750</td>\n",
       "            </tr>\n",
       "            <tr>\n",
       "                                <th id=\"T_5bf940fc_ad9c_11ea_9e3d_5bde62e03ae7level1_row1\" class=\"row_heading level1 row1\" >&ТИП_ЦЕЛИ_другое</th>\n",
       "                        <td id=\"T_5bf940fc_ad9c_11ea_9e3d_5bde62e03ae7row1_col0\" class=\"data row1 col0\" >6.370850</td>\n",
       "            </tr>\n",
       "            <tr>\n",
       "                                <th id=\"T_5bf940fc_ad9c_11ea_9e3d_5bde62e03ae7level1_row2\" class=\"row_heading level1 row2\" >&ПРЕГРАДЫ_Не_вижу_преград</th>\n",
       "                        <td id=\"T_5bf940fc_ad9c_11ea_9e3d_5bde62e03ae7row2_col0\" class=\"data row2 col0\" >4.597660</td>\n",
       "            </tr>\n",
       "            <tr>\n",
       "                                <th id=\"T_5bf940fc_ad9c_11ea_9e3d_5bde62e03ae7level1_row3\" class=\"row_heading level1 row3\" >&ПРЕГРАДЫ_есть_преграды</th>\n",
       "                        <td id=\"T_5bf940fc_ad9c_11ea_9e3d_5bde62e03ae7row3_col0\" class=\"data row3 col0\" >4.383260</td>\n",
       "            </tr>\n",
       "            <tr>\n",
       "                                <th id=\"T_5bf940fc_ad9c_11ea_9e3d_5bde62e03ae7level1_row4\" class=\"row_heading level1 row4\" >&ПЕРВЫЙ_ШАГ_знаю_с_чего_начать</th>\n",
       "                        <td id=\"T_5bf940fc_ad9c_11ea_9e3d_5bde62e03ae7row4_col0\" class=\"data row4 col0\" >4.003470</td>\n",
       "            </tr>\n",
       "            <tr>\n",
       "                                <th id=\"T_5bf940fc_ad9c_11ea_9e3d_5bde62e03ae7level1_row5\" class=\"row_heading level1 row5\" >&ТИП_ЦЕЛИ_Приобрести_новые_навыки</th>\n",
       "                        <td id=\"T_5bf940fc_ad9c_11ea_9e3d_5bde62e03ae7row5_col0\" class=\"data row5 col0\" >3.424130</td>\n",
       "            </tr>\n",
       "            <tr>\n",
       "                                <th id=\"T_5bf940fc_ad9c_11ea_9e3d_5bde62e03ae7level1_row6\" class=\"row_heading level1 row6\" >&РЕЗУЛЬТАТ_Да,_нечетко</th>\n",
       "                        <td id=\"T_5bf940fc_ad9c_11ea_9e3d_5bde62e03ae7row6_col0\" class=\"data row6 col0\" >3.146570</td>\n",
       "            </tr>\n",
       "            <tr>\n",
       "                                <th id=\"T_5bf940fc_ad9c_11ea_9e3d_5bde62e03ae7level1_row7\" class=\"row_heading level1 row7\" >&ТИП_ЦЕЛИ_Развить_имеющиеся_знания_и_навыки</th>\n",
       "                        <td id=\"T_5bf940fc_ad9c_11ea_9e3d_5bde62e03ae7row7_col0\" class=\"data row7 col0\" >3.115970</td>\n",
       "            </tr>\n",
       "            <tr>\n",
       "                                <th id=\"T_5bf940fc_ad9c_11ea_9e3d_5bde62e03ae7level1_row8\" class=\"row_heading level1 row8\" >&ОСНОВНОЙ_ВИД_ДЕЙТЕЛЬНОСТИ_Работаю_в_организации,_предприятии</th>\n",
       "                        <td id=\"T_5bf940fc_ad9c_11ea_9e3d_5bde62e03ae7row8_col0\" class=\"data row8 col0\" >2.750250</td>\n",
       "            </tr>\n",
       "            <tr>\n",
       "                                <th id=\"T_5bf940fc_ad9c_11ea_9e3d_5bde62e03ae7level1_row9\" class=\"row_heading level1 row9\" >&ТИП_ЦЕЛИ_Получить_знания_в_новой_области</th>\n",
       "                        <td id=\"T_5bf940fc_ad9c_11ea_9e3d_5bde62e03ae7row9_col0\" class=\"data row9 col0\" >2.608130</td>\n",
       "            </tr>\n",
       "    </tbody></table><style  type=\"text/css\" >\n",
       "</style><table id=\"T_5bf9cffe_ad9c_11ea_9e3d_5bde62e03ae7\" style='display:inline'><thead>    <tr>        <th class=\"blank\" ></th>        <th class=\"blank level0\" ></th>        <th class=\"col_heading level0 col0\" >topic_0</th>    </tr>    <tr>        <th class=\"index_name level0\" >modality</th>        <th class=\"index_name level1\" >token</th>        <th class=\"blank\" ></th>    </tr></thead><tbody>\n",
       "                <tr>\n",
       "                        <th id=\"T_5bf9cffe_ad9c_11ea_9e3d_5bde62e03ae7level0_row0\" class=\"row_heading level0 row0\" rowspan=10>@ngram</th>\n",
       "                        <th id=\"T_5bf9cffe_ad9c_11ea_9e3d_5bde62e03ae7level1_row0\" class=\"row_heading level1 row0\" >работа</th>\n",
       "                        <td id=\"T_5bf9cffe_ad9c_11ea_9e3d_5bde62e03ae7row0_col0\" class=\"data row0 col0\" >8.444140</td>\n",
       "            </tr>\n",
       "            <tr>\n",
       "                                <th id=\"T_5bf9cffe_ad9c_11ea_9e3d_5bde62e03ae7level1_row1\" class=\"row_heading level1 row1\" >хороший</th>\n",
       "                        <td id=\"T_5bf9cffe_ad9c_11ea_9e3d_5bde62e03ae7row1_col0\" class=\"data row1 col0\" >5.646570</td>\n",
       "            </tr>\n",
       "            <tr>\n",
       "                                <th id=\"T_5bf9cffe_ad9c_11ea_9e3d_5bde62e03ae7level1_row2\" class=\"row_heading level1 row2\" >стать</th>\n",
       "                        <td id=\"T_5bf9cffe_ad9c_11ea_9e3d_5bde62e03ae7row2_col0\" class=\"data row2 col0\" >4.123120</td>\n",
       "            </tr>\n",
       "            <tr>\n",
       "                                <th id=\"T_5bf9cffe_ad9c_11ea_9e3d_5bde62e03ae7level1_row3\" class=\"row_heading level1 row3\" >специалист</th>\n",
       "                        <td id=\"T_5bf9cffe_ad9c_11ea_9e3d_5bde62e03ae7row3_col0\" class=\"data row3 col0\" >3.576300</td>\n",
       "            </tr>\n",
       "            <tr>\n",
       "                                <th id=\"T_5bf9cffe_ad9c_11ea_9e3d_5bde62e03ae7level1_row4\" class=\"row_heading level1 row4\" >стать_хороший</th>\n",
       "                        <td id=\"T_5bf9cffe_ad9c_11ea_9e3d_5bde62e03ae7row4_col0\" class=\"data row4 col0\" >2.475660</td>\n",
       "            </tr>\n",
       "            <tr>\n",
       "                                <th id=\"T_5bf9cffe_ad9c_11ea_9e3d_5bde62e03ae7level1_row5\" class=\"row_heading level1 row5\" >рынок</th>\n",
       "                        <td id=\"T_5bf9cffe_ad9c_11ea_9e3d_5bde62e03ae7row5_col0\" class=\"data row5 col0\" >2.314030</td>\n",
       "            </tr>\n",
       "            <tr>\n",
       "                                <th id=\"T_5bf9cffe_ad9c_11ea_9e3d_5bde62e03ae7level1_row6\" class=\"row_heading level1 row6\" >найти</th>\n",
       "                        <td id=\"T_5bf9cffe_ad9c_11ea_9e3d_5bde62e03ae7row6_col0\" class=\"data row6 col0\" >2.071840</td>\n",
       "            </tr>\n",
       "            <tr>\n",
       "                                <th id=\"T_5bf9cffe_ad9c_11ea_9e3d_5bde62e03ae7level1_row7\" class=\"row_heading level1 row7\" >вуз</th>\n",
       "                        <td id=\"T_5bf9cffe_ad9c_11ea_9e3d_5bde62e03ae7row7_col0\" class=\"data row7 col0\" >1.910560</td>\n",
       "            </tr>\n",
       "            <tr>\n",
       "                                <th id=\"T_5bf9cffe_ad9c_11ea_9e3d_5bde62e03ae7level1_row8\" class=\"row_heading level1 row8\" >иностранный</th>\n",
       "                        <td id=\"T_5bf9cffe_ad9c_11ea_9e3d_5bde62e03ae7row8_col0\" class=\"data row8 col0\" >1.796610</td>\n",
       "            </tr>\n",
       "            <tr>\n",
       "                                <th id=\"T_5bf9cffe_ad9c_11ea_9e3d_5bde62e03ae7level1_row9\" class=\"row_heading level1 row9\" >труд</th>\n",
       "                        <td id=\"T_5bf9cffe_ad9c_11ea_9e3d_5bde62e03ae7row9_col0\" class=\"data row9 col0\" >1.668970</td>\n",
       "            </tr>\n",
       "    </tbody></table>"
      ]
     },
     "metadata": {},
     "output_type": "display_data"
    },
    {
     "data": {
      "text/html": [
       "<style  type=\"text/css\" >\n",
       "</style><table id=\"T_5bfcaa3a_ad9c_11ea_9e3d_5bde62e03ae7\" style='display:inline'><thead>    <tr>        <th class=\"blank\" ></th>        <th class=\"blank level0\" ></th>        <th class=\"col_heading level0 col0\" >topic_1</th>    </tr>    <tr>        <th class=\"index_name level0\" >modality</th>        <th class=\"index_name level1\" >token</th>        <th class=\"blank\" ></th>    </tr></thead><tbody>\n",
       "                <tr>\n",
       "                        <th id=\"T_5bfcaa3a_ad9c_11ea_9e3d_5bde62e03ae7level0_row0\" class=\"row_heading level0 row0\" rowspan=10>@info</th>\n",
       "                        <th id=\"T_5bfcaa3a_ad9c_11ea_9e3d_5bde62e03ae7level1_row0\" class=\"row_heading level1 row0\" >&РЕЗУЛЬТАТ_Да,_четко</th>\n",
       "                        <td id=\"T_5bfcaa3a_ad9c_11ea_9e3d_5bde62e03ae7row0_col0\" class=\"data row0 col0\" >8.199360</td>\n",
       "            </tr>\n",
       "            <tr>\n",
       "                                <th id=\"T_5bfcaa3a_ad9c_11ea_9e3d_5bde62e03ae7level1_row1\" class=\"row_heading level1 row1\" >&ТИП_ЦЕЛИ_другое</th>\n",
       "                        <td id=\"T_5bfcaa3a_ad9c_11ea_9e3d_5bde62e03ae7row1_col0\" class=\"data row1 col0\" >5.922200</td>\n",
       "            </tr>\n",
       "            <tr>\n",
       "                                <th id=\"T_5bfcaa3a_ad9c_11ea_9e3d_5bde62e03ae7level1_row2\" class=\"row_heading level1 row2\" >&ПРЕГРАДЫ_есть_преграды</th>\n",
       "                        <td id=\"T_5bfcaa3a_ad9c_11ea_9e3d_5bde62e03ae7row2_col0\" class=\"data row2 col0\" >5.089890</td>\n",
       "            </tr>\n",
       "            <tr>\n",
       "                                <th id=\"T_5bfcaa3a_ad9c_11ea_9e3d_5bde62e03ae7level1_row3\" class=\"row_heading level1 row3\" >&ПРЕГРАДЫ_Не_вижу_преград</th>\n",
       "                        <td id=\"T_5bfcaa3a_ad9c_11ea_9e3d_5bde62e03ae7row3_col0\" class=\"data row3 col0\" >3.894760</td>\n",
       "            </tr>\n",
       "            <tr>\n",
       "                                <th id=\"T_5bfcaa3a_ad9c_11ea_9e3d_5bde62e03ae7level1_row4\" class=\"row_heading level1 row4\" >&ТИП_ЦЕЛИ_Развить_имеющиеся_знания_и_навыки</th>\n",
       "                        <td id=\"T_5bfcaa3a_ad9c_11ea_9e3d_5bde62e03ae7row4_col0\" class=\"data row4 col0\" >3.844830</td>\n",
       "            </tr>\n",
       "            <tr>\n",
       "                                <th id=\"T_5bfcaa3a_ad9c_11ea_9e3d_5bde62e03ae7level1_row5\" class=\"row_heading level1 row5\" >&ПЕРВЫЙ_ШАГ_знаю_с_чего_начать</th>\n",
       "                        <td id=\"T_5bfcaa3a_ad9c_11ea_9e3d_5bde62e03ae7row5_col0\" class=\"data row5 col0\" >3.837610</td>\n",
       "            </tr>\n",
       "            <tr>\n",
       "                                <th id=\"T_5bfcaa3a_ad9c_11ea_9e3d_5bde62e03ae7level1_row6\" class=\"row_heading level1 row6\" >&ТИП_ЦЕЛИ_Приобрести_новые_навыки</th>\n",
       "                        <td id=\"T_5bfcaa3a_ad9c_11ea_9e3d_5bde62e03ae7row6_col0\" class=\"data row6 col0\" >3.388580</td>\n",
       "            </tr>\n",
       "            <tr>\n",
       "                                <th id=\"T_5bfcaa3a_ad9c_11ea_9e3d_5bde62e03ae7level1_row7\" class=\"row_heading level1 row7\" >&ТИП_ЦЕЛИ_Получить_знания_в_новой_области</th>\n",
       "                        <td id=\"T_5bfcaa3a_ad9c_11ea_9e3d_5bde62e03ae7row7_col0\" class=\"data row7 col0\" >3.064530</td>\n",
       "            </tr>\n",
       "            <tr>\n",
       "                                <th id=\"T_5bfcaa3a_ad9c_11ea_9e3d_5bde62e03ae7level1_row8\" class=\"row_heading level1 row8\" >&ТИП_ЦЕЛИ_Включиться_в_новый_проект/деятельность</th>\n",
       "                        <td id=\"T_5bfcaa3a_ad9c_11ea_9e3d_5bde62e03ae7row8_col0\" class=\"data row8 col0\" >3.051070</td>\n",
       "            </tr>\n",
       "            <tr>\n",
       "                                <th id=\"T_5bfcaa3a_ad9c_11ea_9e3d_5bde62e03ae7level1_row9\" class=\"row_heading level1 row9\" >&РЕЗУЛЬТАТ_Да,_нечетко</th>\n",
       "                        <td id=\"T_5bfcaa3a_ad9c_11ea_9e3d_5bde62e03ae7row9_col0\" class=\"data row9 col0\" >2.448690</td>\n",
       "            </tr>\n",
       "    </tbody></table><style  type=\"text/css\" >\n",
       "</style><table id=\"T_5bfd51ce_ad9c_11ea_9e3d_5bde62e03ae7\" style='display:inline'><thead>    <tr>        <th class=\"blank\" ></th>        <th class=\"blank level0\" ></th>        <th class=\"col_heading level0 col0\" >topic_1</th>    </tr>    <tr>        <th class=\"index_name level0\" >modality</th>        <th class=\"index_name level1\" >token</th>        <th class=\"blank\" ></th>    </tr></thead><tbody>\n",
       "                <tr>\n",
       "                        <th id=\"T_5bfd51ce_ad9c_11ea_9e3d_5bde62e03ae7level0_row0\" class=\"row_heading level0 row0\" rowspan=10>@ngram</th>\n",
       "                        <th id=\"T_5bfd51ce_ad9c_11ea_9e3d_5bde62e03ae7level1_row0\" class=\"row_heading level1 row0\" >стать</th>\n",
       "                        <td id=\"T_5bfd51ce_ad9c_11ea_9e3d_5bde62e03ae7row0_col0\" class=\"data row0 col0\" >8.095620</td>\n",
       "            </tr>\n",
       "            <tr>\n",
       "                                <th id=\"T_5bfd51ce_ad9c_11ea_9e3d_5bde62e03ae7level1_row1\" class=\"row_heading level1 row1\" >область</th>\n",
       "                        <td id=\"T_5bfd51ce_ad9c_11ea_9e3d_5bde62e03ae7row1_col0\" class=\"data row1 col0\" >5.242880</td>\n",
       "            </tr>\n",
       "            <tr>\n",
       "                                <th id=\"T_5bfd51ce_ad9c_11ea_9e3d_5bde62e03ae7level1_row2\" class=\"row_heading level1 row2\" >свой</th>\n",
       "                        <td id=\"T_5bfd51ce_ad9c_11ea_9e3d_5bde62e03ae7row2_col0\" class=\"data row2 col0\" >3.322550</td>\n",
       "            </tr>\n",
       "            <tr>\n",
       "                                <th id=\"T_5bfd51ce_ad9c_11ea_9e3d_5bde62e03ae7level1_row3\" class=\"row_heading level1 row3\" >управление</th>\n",
       "                        <td id=\"T_5bfd51ce_ad9c_11ea_9e3d_5bde62e03ae7row3_col0\" class=\"data row3 col0\" >2.919610</td>\n",
       "            </tr>\n",
       "            <tr>\n",
       "                                <th id=\"T_5bfd51ce_ad9c_11ea_9e3d_5bde62e03ae7level1_row4\" class=\"row_heading level1 row4\" >проект</th>\n",
       "                        <td id=\"T_5bfd51ce_ad9c_11ea_9e3d_5bde62e03ae7row4_col0\" class=\"data row4 col0\" >2.718960</td>\n",
       "            </tr>\n",
       "            <tr>\n",
       "                                <th id=\"T_5bfd51ce_ad9c_11ea_9e3d_5bde62e03ae7level1_row5\" class=\"row_heading level1 row5\" >профессионал</th>\n",
       "                        <td id=\"T_5bfd51ce_ad9c_11ea_9e3d_5bde62e03ae7row5_col0\" class=\"data row5 col0\" >1.915360</td>\n",
       "            </tr>\n",
       "            <tr>\n",
       "                                <th id=\"T_5bfd51ce_ad9c_11ea_9e3d_5bde62e03ae7level1_row6\" class=\"row_heading level1 row6\" >создать</th>\n",
       "                        <td id=\"T_5bfd51ce_ad9c_11ea_9e3d_5bde62e03ae7row6_col0\" class=\"data row6 col0\" >1.790560</td>\n",
       "            </tr>\n",
       "            <tr>\n",
       "                                <th id=\"T_5bfd51ce_ad9c_11ea_9e3d_5bde62e03ae7level1_row7\" class=\"row_heading level1 row7\" >специалист</th>\n",
       "                        <td id=\"T_5bfd51ce_ad9c_11ea_9e3d_5bde62e03ae7row7_col0\" class=\"data row7 col0\" >1.754200</td>\n",
       "            </tr>\n",
       "            <tr>\n",
       "                                <th id=\"T_5bfd51ce_ad9c_11ea_9e3d_5bde62e03ae7level1_row8\" class=\"row_heading level1 row8\" >наука</th>\n",
       "                        <td id=\"T_5bfd51ce_ad9c_11ea_9e3d_5bde62e03ae7row8_col0\" class=\"data row8 col0\" >1.373610</td>\n",
       "            </tr>\n",
       "            <tr>\n",
       "                                <th id=\"T_5bfd51ce_ad9c_11ea_9e3d_5bde62e03ae7level1_row9\" class=\"row_heading level1 row9\" >проектный</th>\n",
       "                        <td id=\"T_5bfd51ce_ad9c_11ea_9e3d_5bde62e03ae7row9_col0\" class=\"data row9 col0\" >1.291320</td>\n",
       "            </tr>\n",
       "    </tbody></table>"
      ]
     },
     "metadata": {},
     "output_type": "display_data"
    },
    {
     "data": {
      "text/html": [
       "<style  type=\"text/css\" >\n",
       "</style><table id=\"T_5c0062c4_ad9c_11ea_9e3d_5bde62e03ae7\" style='display:inline'><thead>    <tr>        <th class=\"blank\" ></th>        <th class=\"blank level0\" ></th>        <th class=\"col_heading level0 col0\" >topic_2</th>    </tr>    <tr>        <th class=\"index_name level0\" >modality</th>        <th class=\"index_name level1\" >token</th>        <th class=\"blank\" ></th>    </tr></thead><tbody>\n",
       "                <tr>\n",
       "                        <th id=\"T_5c0062c4_ad9c_11ea_9e3d_5bde62e03ae7level0_row0\" class=\"row_heading level0 row0\" rowspan=10>@info</th>\n",
       "                        <th id=\"T_5c0062c4_ad9c_11ea_9e3d_5bde62e03ae7level1_row0\" class=\"row_heading level1 row0\" >&РЕЗУЛЬТАТ_Да,_четко</th>\n",
       "                        <td id=\"T_5c0062c4_ad9c_11ea_9e3d_5bde62e03ae7row0_col0\" class=\"data row0 col0\" >6.849800</td>\n",
       "            </tr>\n",
       "            <tr>\n",
       "                                <th id=\"T_5c0062c4_ad9c_11ea_9e3d_5bde62e03ae7level1_row1\" class=\"row_heading level1 row1\" >&ПРЕГРАДЫ_Не_вижу_преград</th>\n",
       "                        <td id=\"T_5c0062c4_ad9c_11ea_9e3d_5bde62e03ae7row1_col0\" class=\"data row1 col0\" >6.106950</td>\n",
       "            </tr>\n",
       "            <tr>\n",
       "                                <th id=\"T_5c0062c4_ad9c_11ea_9e3d_5bde62e03ae7level1_row2\" class=\"row_heading level1 row2\" >&ТИП_ЦЕЛИ_другое</th>\n",
       "                        <td id=\"T_5c0062c4_ad9c_11ea_9e3d_5bde62e03ae7row2_col0\" class=\"data row2 col0\" >5.456310</td>\n",
       "            </tr>\n",
       "            <tr>\n",
       "                                <th id=\"T_5c0062c4_ad9c_11ea_9e3d_5bde62e03ae7level1_row3\" class=\"row_heading level1 row3\" >&ТИП_ЦЕЛИ_Развить_имеющиеся_знания_и_навыки</th>\n",
       "                        <td id=\"T_5c0062c4_ad9c_11ea_9e3d_5bde62e03ae7row3_col0\" class=\"data row3 col0\" >3.484060</td>\n",
       "            </tr>\n",
       "            <tr>\n",
       "                                <th id=\"T_5c0062c4_ad9c_11ea_9e3d_5bde62e03ae7level1_row4\" class=\"row_heading level1 row4\" >&ПЕРВЫЙ_ШАГ_знаю_с_чего_начать</th>\n",
       "                        <td id=\"T_5c0062c4_ad9c_11ea_9e3d_5bde62e03ae7row4_col0\" class=\"data row4 col0\" >3.468180</td>\n",
       "            </tr>\n",
       "            <tr>\n",
       "                                <th id=\"T_5c0062c4_ad9c_11ea_9e3d_5bde62e03ae7level1_row5\" class=\"row_heading level1 row5\" >&ВРЕМЕННЫЕ_ГРАНИЦЫ_Нет_жестких_сроков</th>\n",
       "                        <td id=\"T_5c0062c4_ad9c_11ea_9e3d_5bde62e03ae7row5_col0\" class=\"data row5 col0\" >3.445110</td>\n",
       "            </tr>\n",
       "            <tr>\n",
       "                                <th id=\"T_5c0062c4_ad9c_11ea_9e3d_5bde62e03ae7level1_row6\" class=\"row_heading level1 row6\" >&ОСНОВНОЙ_ВИД_ДЕЙТЕЛЬНОСТИ_Работаю_в_организации,_предприятии</th>\n",
       "                        <td id=\"T_5c0062c4_ad9c_11ea_9e3d_5bde62e03ae7row6_col0\" class=\"data row6 col0\" >3.251210</td>\n",
       "            </tr>\n",
       "            <tr>\n",
       "                                <th id=\"T_5c0062c4_ad9c_11ea_9e3d_5bde62e03ae7level1_row7\" class=\"row_heading level1 row7\" >&ТИП_ЦЕЛИ_Приобрести_новые_навыки</th>\n",
       "                        <td id=\"T_5c0062c4_ad9c_11ea_9e3d_5bde62e03ae7row7_col0\" class=\"data row7 col0\" >3.246620</td>\n",
       "            </tr>\n",
       "            <tr>\n",
       "                                <th id=\"T_5c0062c4_ad9c_11ea_9e3d_5bde62e03ae7level1_row8\" class=\"row_heading level1 row8\" >&ПРЕГРАДЫ_есть_преграды</th>\n",
       "                        <td id=\"T_5c0062c4_ad9c_11ea_9e3d_5bde62e03ae7row8_col0\" class=\"data row8 col0\" >3.012110</td>\n",
       "            </tr>\n",
       "            <tr>\n",
       "                                <th id=\"T_5c0062c4_ad9c_11ea_9e3d_5bde62e03ae7level1_row9\" class=\"row_heading level1 row9\" >&ТИП_ЦЕЛИ_Получить_знания_в_новой_области</th>\n",
       "                        <td id=\"T_5c0062c4_ad9c_11ea_9e3d_5bde62e03ae7row9_col0\" class=\"data row9 col0\" >2.879990</td>\n",
       "            </tr>\n",
       "    </tbody></table><style  type=\"text/css\" >\n",
       "</style><table id=\"T_5c0131fe_ad9c_11ea_9e3d_5bde62e03ae7\" style='display:inline'><thead>    <tr>        <th class=\"blank\" ></th>        <th class=\"blank level0\" ></th>        <th class=\"col_heading level0 col0\" >topic_2</th>    </tr>    <tr>        <th class=\"index_name level0\" >modality</th>        <th class=\"index_name level1\" >token</th>        <th class=\"blank\" ></th>    </tr></thead><tbody>\n",
       "                <tr>\n",
       "                        <th id=\"T_5c0131fe_ad9c_11ea_9e3d_5bde62e03ae7level0_row0\" class=\"row_heading level0 row0\" rowspan=10>@ngram</th>\n",
       "                        <th id=\"T_5c0131fe_ad9c_11ea_9e3d_5bde62e03ae7level1_row0\" class=\"row_heading level1 row0\" >развитие</th>\n",
       "                        <td id=\"T_5c0131fe_ad9c_11ea_9e3d_5bde62e03ae7row0_col0\" class=\"data row0 col0\" >10.145720</td>\n",
       "            </tr>\n",
       "            <tr>\n",
       "                                <th id=\"T_5c0131fe_ad9c_11ea_9e3d_5bde62e03ae7level1_row1\" class=\"row_heading level1 row1\" >рост</th>\n",
       "                        <td id=\"T_5c0131fe_ad9c_11ea_9e3d_5bde62e03ae7row1_col0\" class=\"data row1 col0\" >6.740770</td>\n",
       "            </tr>\n",
       "            <tr>\n",
       "                                <th id=\"T_5c0131fe_ad9c_11ea_9e3d_5bde62e03ae7level1_row2\" class=\"row_heading level1 row2\" >карьерный</th>\n",
       "                        <td id=\"T_5c0131fe_ad9c_11ea_9e3d_5bde62e03ae7row2_col0\" class=\"data row2 col0\" >3.699420</td>\n",
       "            </tr>\n",
       "            <tr>\n",
       "                                <th id=\"T_5c0131fe_ad9c_11ea_9e3d_5bde62e03ae7level1_row3\" class=\"row_heading level1 row3\" >время</th>\n",
       "                        <td id=\"T_5c0131fe_ad9c_11ea_9e3d_5bde62e03ae7row3_col0\" class=\"data row3 col0\" >3.045700</td>\n",
       "            </tr>\n",
       "            <tr>\n",
       "                                <th id=\"T_5c0131fe_ad9c_11ea_9e3d_5bde62e03ae7level1_row4\" class=\"row_heading level1 row4\" >карьерный_рост</th>\n",
       "                        <td id=\"T_5c0131fe_ad9c_11ea_9e3d_5bde62e03ae7row4_col0\" class=\"data row4 col0\" >2.808690</td>\n",
       "            </tr>\n",
       "            <tr>\n",
       "                                <th id=\"T_5c0131fe_ad9c_11ea_9e3d_5bde62e03ae7level1_row5\" class=\"row_heading level1 row5\" >весь</th>\n",
       "                        <td id=\"T_5c0131fe_ad9c_11ea_9e3d_5bde62e03ae7row5_col0\" class=\"data row5 col0\" >2.020070</td>\n",
       "            </tr>\n",
       "            <tr>\n",
       "                                <th id=\"T_5c0131fe_ad9c_11ea_9e3d_5bde62e03ae7level1_row6\" class=\"row_heading level1 row6\" >личный</th>\n",
       "                        <td id=\"T_5c0131fe_ad9c_11ea_9e3d_5bde62e03ae7row6_col0\" class=\"data row6 col0\" >1.957540</td>\n",
       "            </tr>\n",
       "            <tr>\n",
       "                                <th id=\"T_5c0131fe_ad9c_11ea_9e3d_5bde62e03ae7level1_row7\" class=\"row_heading level1 row7\" >эффективность</th>\n",
       "                        <td id=\"T_5c0131fe_ad9c_11ea_9e3d_5bde62e03ae7row7_col0\" class=\"data row7 col0\" >1.886790</td>\n",
       "            </tr>\n",
       "            <tr>\n",
       "                                <th id=\"T_5c0131fe_ad9c_11ea_9e3d_5bde62e03ae7level1_row8\" class=\"row_heading level1 row8\" >жизнь</th>\n",
       "                        <td id=\"T_5c0131fe_ad9c_11ea_9e3d_5bde62e03ae7row8_col0\" class=\"data row8 col0\" >1.863080</td>\n",
       "            </tr>\n",
       "            <tr>\n",
       "                                <th id=\"T_5c0131fe_ad9c_11ea_9e3d_5bde62e03ae7level1_row9\" class=\"row_heading level1 row9\" >тренд</th>\n",
       "                        <td id=\"T_5c0131fe_ad9c_11ea_9e3d_5bde62e03ae7row9_col0\" class=\"data row9 col0\" >1.745380</td>\n",
       "            </tr>\n",
       "    </tbody></table>"
      ]
     },
     "metadata": {},
     "output_type": "display_data"
    },
    {
     "data": {
      "text/html": [
       "<style  type=\"text/css\" >\n",
       "</style><table id=\"T_5c060ecc_ad9c_11ea_9e3d_5bde62e03ae7\" style='display:inline'><thead>    <tr>        <th class=\"blank\" ></th>        <th class=\"blank level0\" ></th>        <th class=\"col_heading level0 col0\" >topic_3</th>    </tr>    <tr>        <th class=\"index_name level0\" >modality</th>        <th class=\"index_name level1\" >token</th>        <th class=\"blank\" ></th>    </tr></thead><tbody>\n",
       "                <tr>\n",
       "                        <th id=\"T_5c060ecc_ad9c_11ea_9e3d_5bde62e03ae7level0_row0\" class=\"row_heading level0 row0\" rowspan=10>@info</th>\n",
       "                        <th id=\"T_5c060ecc_ad9c_11ea_9e3d_5bde62e03ae7level1_row0\" class=\"row_heading level1 row0\" >&РЕЗУЛЬТАТ_Да,_четко</th>\n",
       "                        <td id=\"T_5c060ecc_ad9c_11ea_9e3d_5bde62e03ae7row0_col0\" class=\"data row0 col0\" >6.754250</td>\n",
       "            </tr>\n",
       "            <tr>\n",
       "                                <th id=\"T_5c060ecc_ad9c_11ea_9e3d_5bde62e03ae7level1_row1\" class=\"row_heading level1 row1\" >&ТИП_ЦЕЛИ_другое</th>\n",
       "                        <td id=\"T_5c060ecc_ad9c_11ea_9e3d_5bde62e03ae7row1_col0\" class=\"data row1 col0\" >6.056520</td>\n",
       "            </tr>\n",
       "            <tr>\n",
       "                                <th id=\"T_5c060ecc_ad9c_11ea_9e3d_5bde62e03ae7level1_row2\" class=\"row_heading level1 row2\" >&ПРЕГРАДЫ_есть_преграды</th>\n",
       "                        <td id=\"T_5c060ecc_ad9c_11ea_9e3d_5bde62e03ae7row2_col0\" class=\"data row2 col0\" >4.584990</td>\n",
       "            </tr>\n",
       "            <tr>\n",
       "                                <th id=\"T_5c060ecc_ad9c_11ea_9e3d_5bde62e03ae7level1_row3\" class=\"row_heading level1 row3\" >&ПЕРВЫЙ_ШАГ_знаю_с_чего_начать</th>\n",
       "                        <td id=\"T_5c060ecc_ad9c_11ea_9e3d_5bde62e03ae7row3_col0\" class=\"data row3 col0\" >4.370980</td>\n",
       "            </tr>\n",
       "            <tr>\n",
       "                                <th id=\"T_5c060ecc_ad9c_11ea_9e3d_5bde62e03ae7level1_row4\" class=\"row_heading level1 row4\" >&ПРЕГРАДЫ_Не_вижу_преград</th>\n",
       "                        <td id=\"T_5c060ecc_ad9c_11ea_9e3d_5bde62e03ae7row4_col0\" class=\"data row4 col0\" >4.326400</td>\n",
       "            </tr>\n",
       "            <tr>\n",
       "                                <th id=\"T_5c060ecc_ad9c_11ea_9e3d_5bde62e03ae7level1_row5\" class=\"row_heading level1 row5\" >&ТИП_ЦЕЛИ_Развить_имеющиеся_знания_и_навыки</th>\n",
       "                        <td id=\"T_5c060ecc_ad9c_11ea_9e3d_5bde62e03ae7row5_col0\" class=\"data row5 col0\" >3.967950</td>\n",
       "            </tr>\n",
       "            <tr>\n",
       "                                <th id=\"T_5c060ecc_ad9c_11ea_9e3d_5bde62e03ae7level1_row6\" class=\"row_heading level1 row6\" >&ТИП_ЦЕЛИ_Приобрести_новые_навыки</th>\n",
       "                        <td id=\"T_5c060ecc_ad9c_11ea_9e3d_5bde62e03ae7row6_col0\" class=\"data row6 col0\" >3.345590</td>\n",
       "            </tr>\n",
       "            <tr>\n",
       "                                <th id=\"T_5c060ecc_ad9c_11ea_9e3d_5bde62e03ae7level1_row7\" class=\"row_heading level1 row7\" >&ТИП_ЦЕЛИ_Получить_знания_в_новой_области</th>\n",
       "                        <td id=\"T_5c060ecc_ad9c_11ea_9e3d_5bde62e03ae7row7_col0\" class=\"data row7 col0\" >3.299840</td>\n",
       "            </tr>\n",
       "            <tr>\n",
       "                                <th id=\"T_5c060ecc_ad9c_11ea_9e3d_5bde62e03ae7level1_row8\" class=\"row_heading level1 row8\" >&РЕЗУЛЬТАТ_Да,_нечетко</th>\n",
       "                        <td id=\"T_5c060ecc_ad9c_11ea_9e3d_5bde62e03ae7row8_col0\" class=\"data row8 col0\" >3.117250</td>\n",
       "            </tr>\n",
       "            <tr>\n",
       "                                <th id=\"T_5c060ecc_ad9c_11ea_9e3d_5bde62e03ae7level1_row9\" class=\"row_heading level1 row9\" >&ВРЕМЕННЫЕ_ГРАНИЦЫ_Нет_жестких_сроков</th>\n",
       "                        <td id=\"T_5c060ecc_ad9c_11ea_9e3d_5bde62e03ae7row9_col0\" class=\"data row9 col0\" >2.962330</td>\n",
       "            </tr>\n",
       "    </tbody></table><style  type=\"text/css\" >\n",
       "</style><table id=\"T_5c06e3ba_ad9c_11ea_9e3d_5bde62e03ae7\" style='display:inline'><thead>    <tr>        <th class=\"blank\" ></th>        <th class=\"blank level0\" ></th>        <th class=\"col_heading level0 col0\" >topic_3</th>    </tr>    <tr>        <th class=\"index_name level0\" >modality</th>        <th class=\"index_name level1\" >token</th>        <th class=\"blank\" ></th>    </tr></thead><tbody>\n",
       "                <tr>\n",
       "                        <th id=\"T_5c06e3ba_ad9c_11ea_9e3d_5bde62e03ae7level0_row0\" class=\"row_heading level0 row0\" rowspan=10>@ngram</th>\n",
       "                        <th id=\"T_5c06e3ba_ad9c_11ea_9e3d_5bde62e03ae7level1_row0\" class=\"row_heading level1 row0\" >курс</th>\n",
       "                        <td id=\"T_5c06e3ba_ad9c_11ea_9e3d_5bde62e03ae7row0_col0\" class=\"data row0 col0\" >4.976580</td>\n",
       "            </tr>\n",
       "            <tr>\n",
       "                                <th id=\"T_5c06e3ba_ad9c_11ea_9e3d_5bde62e03ae7level1_row1\" class=\"row_heading level1 row1\" >изучить</th>\n",
       "                        <td id=\"T_5c06e3ba_ad9c_11ea_9e3d_5bde62e03ae7row1_col0\" class=\"data row1 col0\" >4.858890</td>\n",
       "            </tr>\n",
       "            <tr>\n",
       "                                <th id=\"T_5c06e3ba_ad9c_11ea_9e3d_5bde62e03ae7level1_row2\" class=\"row_heading level1 row2\" >технология</th>\n",
       "                        <td id=\"T_5c06e3ba_ad9c_11ea_9e3d_5bde62e03ae7row2_col0\" class=\"data row2 col0\" >4.771020</td>\n",
       "            </tr>\n",
       "            <tr>\n",
       "                                <th id=\"T_5c06e3ba_ad9c_11ea_9e3d_5bde62e03ae7level1_row3\" class=\"row_heading level1 row3\" >современный</th>\n",
       "                        <td id=\"T_5c06e3ba_ad9c_11ea_9e3d_5bde62e03ae7row3_col0\" class=\"data row3 col0\" >3.565940</td>\n",
       "            </tr>\n",
       "            <tr>\n",
       "                                <th id=\"T_5c06e3ba_ad9c_11ea_9e3d_5bde62e03ae7level1_row4\" class=\"row_heading level1 row4\" >профессия</th>\n",
       "                        <td id=\"T_5c06e3ba_ad9c_11ea_9e3d_5bde62e03ae7row4_col0\" class=\"data row4 col0\" >2.144930</td>\n",
       "            </tr>\n",
       "            <tr>\n",
       "                                <th id=\"T_5c06e3ba_ad9c_11ea_9e3d_5bde62e03ae7level1_row5\" class=\"row_heading level1 row5\" >развить</th>\n",
       "                        <td id=\"T_5c06e3ba_ad9c_11ea_9e3d_5bde62e03ae7row5_col0\" class=\"data row5 col0\" >1.950910</td>\n",
       "            </tr>\n",
       "            <tr>\n",
       "                                <th id=\"T_5c06e3ba_ad9c_11ea_9e3d_5bde62e03ae7level1_row6\" class=\"row_heading level1 row6\" >управлять</th>\n",
       "                        <td id=\"T_5c06e3ba_ad9c_11ea_9e3d_5bde62e03ae7row6_col0\" class=\"data row6 col0\" >1.579420</td>\n",
       "            </tr>\n",
       "            <tr>\n",
       "                                <th id=\"T_5c06e3ba_ad9c_11ea_9e3d_5bde62e03ae7level1_row7\" class=\"row_heading level1 row7\" >научный</th>\n",
       "                        <td id=\"T_5c06e3ba_ad9c_11ea_9e3d_5bde62e03ae7row7_col0\" class=\"data row7 col0\" >1.579060</td>\n",
       "            </tr>\n",
       "            <tr>\n",
       "                                <th id=\"T_5c06e3ba_ad9c_11ea_9e3d_5bde62e03ae7level1_row8\" class=\"row_heading level1 row8\" >программа</th>\n",
       "                        <td id=\"T_5c06e3ba_ad9c_11ea_9e3d_5bde62e03ae7row8_col0\" class=\"data row8 col0\" >1.288400</td>\n",
       "            </tr>\n",
       "            <tr>\n",
       "                                <th id=\"T_5c06e3ba_ad9c_11ea_9e3d_5bde62e03ae7level1_row9\" class=\"row_heading level1 row9\" >психология</th>\n",
       "                        <td id=\"T_5c06e3ba_ad9c_11ea_9e3d_5bde62e03ae7row9_col0\" class=\"data row9 col0\" >1.203750</td>\n",
       "            </tr>\n",
       "    </tbody></table>"
      ]
     },
     "metadata": {},
     "output_type": "display_data"
    },
    {
     "data": {
      "text/html": [
       "<style  type=\"text/css\" >\n",
       "</style><table id=\"T_5c0b0dc8_ad9c_11ea_9e3d_5bde62e03ae7\" style='display:inline'><thead>    <tr>        <th class=\"blank\" ></th>        <th class=\"blank level0\" ></th>        <th class=\"col_heading level0 col0\" >topic_4</th>    </tr>    <tr>        <th class=\"index_name level0\" >modality</th>        <th class=\"index_name level1\" >token</th>        <th class=\"blank\" ></th>    </tr></thead><tbody>\n",
       "                <tr>\n",
       "                        <th id=\"T_5c0b0dc8_ad9c_11ea_9e3d_5bde62e03ae7level0_row0\" class=\"row_heading level0 row0\" rowspan=10>@info</th>\n",
       "                        <th id=\"T_5c0b0dc8_ad9c_11ea_9e3d_5bde62e03ae7level1_row0\" class=\"row_heading level1 row0\" >&РЕЗУЛЬТАТ_Да,_четко</th>\n",
       "                        <td id=\"T_5c0b0dc8_ad9c_11ea_9e3d_5bde62e03ae7row0_col0\" class=\"data row0 col0\" >11.454370</td>\n",
       "            </tr>\n",
       "            <tr>\n",
       "                                <th id=\"T_5c0b0dc8_ad9c_11ea_9e3d_5bde62e03ae7level1_row1\" class=\"row_heading level1 row1\" >&ПРЕГРАДЫ_Не_вижу_преград</th>\n",
       "                        <td id=\"T_5c0b0dc8_ad9c_11ea_9e3d_5bde62e03ae7row1_col0\" class=\"data row1 col0\" >6.909370</td>\n",
       "            </tr>\n",
       "            <tr>\n",
       "                                <th id=\"T_5c0b0dc8_ad9c_11ea_9e3d_5bde62e03ae7level1_row2\" class=\"row_heading level1 row2\" >&ПЕРВЫЙ_ШАГ_знаю_с_чего_начать</th>\n",
       "                        <td id=\"T_5c0b0dc8_ad9c_11ea_9e3d_5bde62e03ae7row2_col0\" class=\"data row2 col0\" >4.210380</td>\n",
       "            </tr>\n",
       "            <tr>\n",
       "                                <th id=\"T_5c0b0dc8_ad9c_11ea_9e3d_5bde62e03ae7level1_row3\" class=\"row_heading level1 row3\" >&ПРЕГРАДЫ_есть_преграды</th>\n",
       "                        <td id=\"T_5c0b0dc8_ad9c_11ea_9e3d_5bde62e03ae7row3_col0\" class=\"data row3 col0\" >3.861910</td>\n",
       "            </tr>\n",
       "            <tr>\n",
       "                                <th id=\"T_5c0b0dc8_ad9c_11ea_9e3d_5bde62e03ae7level1_row4\" class=\"row_heading level1 row4\" >&ТИП_ЦЕЛИ_Развить_имеющиеся_знания_и_навыки</th>\n",
       "                        <td id=\"T_5c0b0dc8_ad9c_11ea_9e3d_5bde62e03ae7row4_col0\" class=\"data row4 col0\" >3.350160</td>\n",
       "            </tr>\n",
       "            <tr>\n",
       "                                <th id=\"T_5c0b0dc8_ad9c_11ea_9e3d_5bde62e03ae7level1_row5\" class=\"row_heading level1 row5\" >&ТИП_ЦЕЛИ_Получить_знания_в_новой_области</th>\n",
       "                        <td id=\"T_5c0b0dc8_ad9c_11ea_9e3d_5bde62e03ae7row5_col0\" class=\"data row5 col0\" >3.196560</td>\n",
       "            </tr>\n",
       "            <tr>\n",
       "                                <th id=\"T_5c0b0dc8_ad9c_11ea_9e3d_5bde62e03ae7level1_row6\" class=\"row_heading level1 row6\" >&ТИП_ЦЕЛИ_Приобрести_новые_навыки</th>\n",
       "                        <td id=\"T_5c0b0dc8_ad9c_11ea_9e3d_5bde62e03ae7row6_col0\" class=\"data row6 col0\" >3.171850</td>\n",
       "            </tr>\n",
       "            <tr>\n",
       "                                <th id=\"T_5c0b0dc8_ad9c_11ea_9e3d_5bde62e03ae7level1_row7\" class=\"row_heading level1 row7\" >&ТИП_ЦЕЛИ_другое</th>\n",
       "                        <td id=\"T_5c0b0dc8_ad9c_11ea_9e3d_5bde62e03ae7row7_col0\" class=\"data row7 col0\" >2.857140</td>\n",
       "            </tr>\n",
       "            <tr>\n",
       "                                <th id=\"T_5c0b0dc8_ad9c_11ea_9e3d_5bde62e03ae7level1_row8\" class=\"row_heading level1 row8\" >&РЕЗУЛЬТАТ_Да,_нечетко</th>\n",
       "                        <td id=\"T_5c0b0dc8_ad9c_11ea_9e3d_5bde62e03ae7row8_col0\" class=\"data row8 col0\" >2.751330</td>\n",
       "            </tr>\n",
       "            <tr>\n",
       "                                <th id=\"T_5c0b0dc8_ad9c_11ea_9e3d_5bde62e03ae7level1_row9\" class=\"row_heading level1 row9\" >&ВРЕМЕННЫЕ_ГРАНИЦЫ_есть_границы</th>\n",
       "                        <td id=\"T_5c0b0dc8_ad9c_11ea_9e3d_5bde62e03ae7row9_col0\" class=\"data row9 col0\" >2.545400</td>\n",
       "            </tr>\n",
       "    </tbody></table><style  type=\"text/css\" >\n",
       "</style><table id=\"T_5c0c22d0_ad9c_11ea_9e3d_5bde62e03ae7\" style='display:inline'><thead>    <tr>        <th class=\"blank\" ></th>        <th class=\"blank level0\" ></th>        <th class=\"col_heading level0 col0\" >topic_4</th>    </tr>    <tr>        <th class=\"index_name level0\" >modality</th>        <th class=\"index_name level1\" >token</th>        <th class=\"blank\" ></th>    </tr></thead><tbody>\n",
       "                <tr>\n",
       "                        <th id=\"T_5c0c22d0_ad9c_11ea_9e3d_5bde62e03ae7level0_row0\" class=\"row_heading level0 row0\" rowspan=10>@ngram</th>\n",
       "                        <th id=\"T_5c0c22d0_ad9c_11ea_9e3d_5bde62e03ae7level1_row0\" class=\"row_heading level1 row0\" >научиться</th>\n",
       "                        <td id=\"T_5c0c22d0_ad9c_11ea_9e3d_5bde62e03ae7row0_col0\" class=\"data row0 col0\" >10.158940</td>\n",
       "            </tr>\n",
       "            <tr>\n",
       "                                <th id=\"T_5c0c22d0_ad9c_11ea_9e3d_5bde62e03ae7level1_row1\" class=\"row_heading level1 row1\" >получить</th>\n",
       "                        <td id=\"T_5c0c22d0_ad9c_11ea_9e3d_5bde62e03ae7row1_col0\" class=\"data row1 col0\" >4.243170</td>\n",
       "            </tr>\n",
       "            <tr>\n",
       "                                <th id=\"T_5c0c22d0_ad9c_11ea_9e3d_5bde62e03ae7level1_row2\" class=\"row_heading level1 row2\" >диплом</th>\n",
       "                        <td id=\"T_5c0c22d0_ad9c_11ea_9e3d_5bde62e03ae7row2_col0\" class=\"data row2 col0\" >3.860650</td>\n",
       "            </tr>\n",
       "            <tr>\n",
       "                                <th id=\"T_5c0c22d0_ad9c_11ea_9e3d_5bde62e03ae7level1_row3\" class=\"row_heading level1 row3\" >освоить</th>\n",
       "                        <td id=\"T_5c0c22d0_ad9c_11ea_9e3d_5bde62e03ae7row3_col0\" class=\"data row3 col0\" >2.504280</td>\n",
       "            </tr>\n",
       "            <tr>\n",
       "                                <th id=\"T_5c0c22d0_ad9c_11ea_9e3d_5bde62e03ae7level1_row4\" class=\"row_heading level1 row4\" >получить_диплом</th>\n",
       "                        <td id=\"T_5c0c22d0_ad9c_11ea_9e3d_5bde62e03ae7row4_col0\" class=\"data row4 col0\" >2.474510</td>\n",
       "            </tr>\n",
       "            <tr>\n",
       "                                <th id=\"T_5c0c22d0_ad9c_11ea_9e3d_5bde62e03ae7level1_row5\" class=\"row_heading level1 row5\" >улучшить</th>\n",
       "                        <td id=\"T_5c0c22d0_ad9c_11ea_9e3d_5bde62e03ae7row5_col0\" class=\"data row5 col0\" >2.289070</td>\n",
       "            </tr>\n",
       "            <tr>\n",
       "                                <th id=\"T_5c0c22d0_ad9c_11ea_9e3d_5bde62e03ae7level1_row6\" class=\"row_heading level1 row6\" >освоение</th>\n",
       "                        <td id=\"T_5c0c22d0_ad9c_11ea_9e3d_5bde62e03ae7row6_col0\" class=\"data row6 col0\" >2.196420</td>\n",
       "            </tr>\n",
       "            <tr>\n",
       "                                <th id=\"T_5c0c22d0_ad9c_11ea_9e3d_5bde62e03ae7level1_row7\" class=\"row_heading level1 row7\" >дать</th>\n",
       "                        <td id=\"T_5c0c22d0_ad9c_11ea_9e3d_5bde62e03ae7row7_col0\" class=\"data row7 col0\" >2.142140</td>\n",
       "            </tr>\n",
       "            <tr>\n",
       "                                <th id=\"T_5c0c22d0_ad9c_11ea_9e3d_5bde62e03ae7level1_row8\" class=\"row_heading level1 row8\" >навык</th>\n",
       "                        <td id=\"T_5c0c22d0_ad9c_11ea_9e3d_5bde62e03ae7row8_col0\" class=\"data row8 col0\" >1.902160</td>\n",
       "            </tr>\n",
       "            <tr>\n",
       "                                <th id=\"T_5c0c22d0_ad9c_11ea_9e3d_5bde62e03ae7level1_row9\" class=\"row_heading level1 row9\" >читать</th>\n",
       "                        <td id=\"T_5c0c22d0_ad9c_11ea_9e3d_5bde62e03ae7row9_col0\" class=\"data row9 col0\" >1.733880</td>\n",
       "            </tr>\n",
       "    </tbody></table>"
      ]
     },
     "metadata": {},
     "output_type": "display_data"
    },
    {
     "data": {
      "text/html": [
       "<style  type=\"text/css\" >\n",
       "</style><table id=\"T_5c10c498_ad9c_11ea_9e3d_5bde62e03ae7\" style='display:inline'><thead>    <tr>        <th class=\"blank\" ></th>        <th class=\"blank level0\" ></th>        <th class=\"col_heading level0 col0\" >topic_5</th>    </tr>    <tr>        <th class=\"index_name level0\" >modality</th>        <th class=\"index_name level1\" >token</th>        <th class=\"blank\" ></th>    </tr></thead><tbody>\n",
       "                <tr>\n",
       "                        <th id=\"T_5c10c498_ad9c_11ea_9e3d_5bde62e03ae7level0_row0\" class=\"row_heading level0 row0\" rowspan=10>@info</th>\n",
       "                        <th id=\"T_5c10c498_ad9c_11ea_9e3d_5bde62e03ae7level1_row0\" class=\"row_heading level1 row0\" >&РЕЗУЛЬТАТ_Да,_четко</th>\n",
       "                        <td id=\"T_5c10c498_ad9c_11ea_9e3d_5bde62e03ae7row0_col0\" class=\"data row0 col0\" >9.747520</td>\n",
       "            </tr>\n",
       "            <tr>\n",
       "                                <th id=\"T_5c10c498_ad9c_11ea_9e3d_5bde62e03ae7level1_row1\" class=\"row_heading level1 row1\" >&ПРЕГРАДЫ_Не_вижу_преград</th>\n",
       "                        <td id=\"T_5c10c498_ad9c_11ea_9e3d_5bde62e03ae7row1_col0\" class=\"data row1 col0\" >6.528840</td>\n",
       "            </tr>\n",
       "            <tr>\n",
       "                                <th id=\"T_5c10c498_ad9c_11ea_9e3d_5bde62e03ae7level1_row2\" class=\"row_heading level1 row2\" >&ТИП_ЦЕЛИ_Получить_знания_в_новой_области</th>\n",
       "                        <td id=\"T_5c10c498_ad9c_11ea_9e3d_5bde62e03ae7row2_col0\" class=\"data row2 col0\" >4.285030</td>\n",
       "            </tr>\n",
       "            <tr>\n",
       "                                <th id=\"T_5c10c498_ad9c_11ea_9e3d_5bde62e03ae7level1_row3\" class=\"row_heading level1 row3\" >&ВРЕМЕННЫЕ_ГРАНИЦЫ_Нет_жестких_сроков</th>\n",
       "                        <td id=\"T_5c10c498_ad9c_11ea_9e3d_5bde62e03ae7row3_col0\" class=\"data row3 col0\" >4.002170</td>\n",
       "            </tr>\n",
       "            <tr>\n",
       "                                <th id=\"T_5c10c498_ad9c_11ea_9e3d_5bde62e03ae7level1_row4\" class=\"row_heading level1 row4\" >&ТИП_ЦЕЛИ_Приобрести_новые_навыки</th>\n",
       "                        <td id=\"T_5c10c498_ad9c_11ea_9e3d_5bde62e03ae7row4_col0\" class=\"data row4 col0\" >3.947680</td>\n",
       "            </tr>\n",
       "            <tr>\n",
       "                                <th id=\"T_5c10c498_ad9c_11ea_9e3d_5bde62e03ae7level1_row5\" class=\"row_heading level1 row5\" >&ТИП_ЦЕЛИ_Развить_имеющиеся_знания_и_навыки</th>\n",
       "                        <td id=\"T_5c10c498_ad9c_11ea_9e3d_5bde62e03ae7row5_col0\" class=\"data row5 col0\" >3.327880</td>\n",
       "            </tr>\n",
       "            <tr>\n",
       "                                <th id=\"T_5c10c498_ad9c_11ea_9e3d_5bde62e03ae7level1_row6\" class=\"row_heading level1 row6\" >&ПЕРВЫЙ_ШАГ_знаю_с_чего_начать</th>\n",
       "                        <td id=\"T_5c10c498_ad9c_11ea_9e3d_5bde62e03ae7row6_col0\" class=\"data row6 col0\" >3.068610</td>\n",
       "            </tr>\n",
       "            <tr>\n",
       "                                <th id=\"T_5c10c498_ad9c_11ea_9e3d_5bde62e03ae7level1_row7\" class=\"row_heading level1 row7\" >&ОСНОВНОЙ_ВИД_ДЕЙТЕЛЬНОСТИ_Работаю_в_организации,_предприятии</th>\n",
       "                        <td id=\"T_5c10c498_ad9c_11ea_9e3d_5bde62e03ae7row7_col0\" class=\"data row7 col0\" >3.058000</td>\n",
       "            </tr>\n",
       "            <tr>\n",
       "                                <th id=\"T_5c10c498_ad9c_11ea_9e3d_5bde62e03ae7level1_row8\" class=\"row_heading level1 row8\" >&ПРЕГРАДЫ_есть_преграды</th>\n",
       "                        <td id=\"T_5c10c498_ad9c_11ea_9e3d_5bde62e03ae7row8_col0\" class=\"data row8 col0\" >2.860860</td>\n",
       "            </tr>\n",
       "            <tr>\n",
       "                                <th id=\"T_5c10c498_ad9c_11ea_9e3d_5bde62e03ae7level1_row9\" class=\"row_heading level1 row9\" >&ТИП_ЦЕЛИ_другое</th>\n",
       "                        <td id=\"T_5c10c498_ad9c_11ea_9e3d_5bde62e03ae7row9_col0\" class=\"data row9 col0\" >2.727990</td>\n",
       "            </tr>\n",
       "    </tbody></table><style  type=\"text/css\" >\n",
       "</style><table id=\"T_5c11a0b6_ad9c_11ea_9e3d_5bde62e03ae7\" style='display:inline'><thead>    <tr>        <th class=\"blank\" ></th>        <th class=\"blank level0\" ></th>        <th class=\"col_heading level0 col0\" >topic_5</th>    </tr>    <tr>        <th class=\"index_name level0\" >modality</th>        <th class=\"index_name level1\" >token</th>        <th class=\"blank\" ></th>    </tr></thead><tbody>\n",
       "                <tr>\n",
       "                        <th id=\"T_5c11a0b6_ad9c_11ea_9e3d_5bde62e03ae7level0_row0\" class=\"row_heading level0 row0\" rowspan=10>@ngram</th>\n",
       "                        <th id=\"T_5c11a0b6_ad9c_11ea_9e3d_5bde62e03ae7level1_row0\" class=\"row_heading level1 row0\" >новый</th>\n",
       "                        <td id=\"T_5c11a0b6_ad9c_11ea_9e3d_5bde62e03ae7row0_col0\" class=\"data row0 col0\" >12.990030</td>\n",
       "            </tr>\n",
       "            <tr>\n",
       "                                <th id=\"T_5c11a0b6_ad9c_11ea_9e3d_5bde62e03ae7level1_row1\" class=\"row_heading level1 row1\" >знание</th>\n",
       "                        <td id=\"T_5c11a0b6_ad9c_11ea_9e3d_5bde62e03ae7row1_col0\" class=\"data row1 col0\" >11.043980</td>\n",
       "            </tr>\n",
       "            <tr>\n",
       "                                <th id=\"T_5c11a0b6_ad9c_11ea_9e3d_5bde62e03ae7level1_row2\" class=\"row_heading level1 row2\" >навык</th>\n",
       "                        <td id=\"T_5c11a0b6_ad9c_11ea_9e3d_5bde62e03ae7row2_col0\" class=\"data row2 col0\" >9.072280</td>\n",
       "            </tr>\n",
       "            <tr>\n",
       "                                <th id=\"T_5c11a0b6_ad9c_11ea_9e3d_5bde62e03ae7level1_row3\" class=\"row_heading level1 row3\" >получение</th>\n",
       "                        <td id=\"T_5c11a0b6_ad9c_11ea_9e3d_5bde62e03ae7row3_col0\" class=\"data row3 col0\" >9.064660</td>\n",
       "            </tr>\n",
       "            <tr>\n",
       "                                <th id=\"T_5c11a0b6_ad9c_11ea_9e3d_5bde62e03ae7level1_row4\" class=\"row_heading level1 row4\" >новый_знание</th>\n",
       "                        <td id=\"T_5c11a0b6_ad9c_11ea_9e3d_5bde62e03ae7row4_col0\" class=\"data row4 col0\" >3.895730</td>\n",
       "            </tr>\n",
       "            <tr>\n",
       "                                <th id=\"T_5c11a0b6_ad9c_11ea_9e3d_5bde62e03ae7level1_row5\" class=\"row_heading level1 row5\" >получение_новый</th>\n",
       "                        <td id=\"T_5c11a0b6_ad9c_11ea_9e3d_5bde62e03ae7row5_col0\" class=\"data row5 col0\" >3.895730</td>\n",
       "            </tr>\n",
       "            <tr>\n",
       "                                <th id=\"T_5c11a0b6_ad9c_11ea_9e3d_5bde62e03ae7level1_row6\" class=\"row_heading level1 row6\" >приобретение</th>\n",
       "                        <td id=\"T_5c11a0b6_ad9c_11ea_9e3d_5bde62e03ae7row6_col0\" class=\"data row6 col0\" >3.496130</td>\n",
       "            </tr>\n",
       "            <tr>\n",
       "                                <th id=\"T_5c11a0b6_ad9c_11ea_9e3d_5bde62e03ae7level1_row7\" class=\"row_heading level1 row7\" >умение</th>\n",
       "                        <td id=\"T_5c11a0b6_ad9c_11ea_9e3d_5bde62e03ae7row7_col0\" class=\"data row7 col0\" >3.496130</td>\n",
       "            </tr>\n",
       "            <tr>\n",
       "                                <th id=\"T_5c11a0b6_ad9c_11ea_9e3d_5bde62e03ae7level1_row8\" class=\"row_heading level1 row8\" >знание_навык</th>\n",
       "                        <td id=\"T_5c11a0b6_ad9c_11ea_9e3d_5bde62e03ae7row8_col0\" class=\"data row8 col0\" >2.471170</td>\n",
       "            </tr>\n",
       "            <tr>\n",
       "                                <th id=\"T_5c11a0b6_ad9c_11ea_9e3d_5bde62e03ae7level1_row9\" class=\"row_heading level1 row9\" >знание_умение</th>\n",
       "                        <td id=\"T_5c11a0b6_ad9c_11ea_9e3d_5bde62e03ae7row9_col0\" class=\"data row9 col0\" >2.244000</td>\n",
       "            </tr>\n",
       "    </tbody></table>"
      ]
     },
     "metadata": {},
     "output_type": "display_data"
    },
    {
     "data": {
      "text/html": [
       "<style  type=\"text/css\" >\n",
       "</style><table id=\"T_5c15934c_ad9c_11ea_9e3d_5bde62e03ae7\" style='display:inline'><thead>    <tr>        <th class=\"blank\" ></th>        <th class=\"blank level0\" ></th>        <th class=\"col_heading level0 col0\" >topic_6</th>    </tr>    <tr>        <th class=\"index_name level0\" >modality</th>        <th class=\"index_name level1\" >token</th>        <th class=\"blank\" ></th>    </tr></thead><tbody>\n",
       "                <tr>\n",
       "                        <th id=\"T_5c15934c_ad9c_11ea_9e3d_5bde62e03ae7level0_row0\" class=\"row_heading level0 row0\" rowspan=10>@info</th>\n",
       "                        <th id=\"T_5c15934c_ad9c_11ea_9e3d_5bde62e03ae7level1_row0\" class=\"row_heading level1 row0\" >&РЕЗУЛЬТАТ_Да,_четко</th>\n",
       "                        <td id=\"T_5c15934c_ad9c_11ea_9e3d_5bde62e03ae7row0_col0\" class=\"data row0 col0\" >6.536280</td>\n",
       "            </tr>\n",
       "            <tr>\n",
       "                                <th id=\"T_5c15934c_ad9c_11ea_9e3d_5bde62e03ae7level1_row1\" class=\"row_heading level1 row1\" >&ПРЕГРАДЫ_Не_вижу_преград</th>\n",
       "                        <td id=\"T_5c15934c_ad9c_11ea_9e3d_5bde62e03ae7row1_col0\" class=\"data row1 col0\" >5.569330</td>\n",
       "            </tr>\n",
       "            <tr>\n",
       "                                <th id=\"T_5c15934c_ad9c_11ea_9e3d_5bde62e03ae7level1_row2\" class=\"row_heading level1 row2\" >&ТИП_ЦЕЛИ_Получить_знания_в_новой_области</th>\n",
       "                        <td id=\"T_5c15934c_ad9c_11ea_9e3d_5bde62e03ae7row2_col0\" class=\"data row2 col0\" >3.736940</td>\n",
       "            </tr>\n",
       "            <tr>\n",
       "                                <th id=\"T_5c15934c_ad9c_11ea_9e3d_5bde62e03ae7level1_row3\" class=\"row_heading level1 row3\" >&ВРЕМЕННЫЕ_ГРАНИЦЫ_Нет_жестких_сроков</th>\n",
       "                        <td id=\"T_5c15934c_ad9c_11ea_9e3d_5bde62e03ae7row3_col0\" class=\"data row3 col0\" >3.610470</td>\n",
       "            </tr>\n",
       "            <tr>\n",
       "                                <th id=\"T_5c15934c_ad9c_11ea_9e3d_5bde62e03ae7level1_row4\" class=\"row_heading level1 row4\" >&ТИП_ЦЕЛИ_другое</th>\n",
       "                        <td id=\"T_5c15934c_ad9c_11ea_9e3d_5bde62e03ae7row4_col0\" class=\"data row4 col0\" >3.523480</td>\n",
       "            </tr>\n",
       "            <tr>\n",
       "                                <th id=\"T_5c15934c_ad9c_11ea_9e3d_5bde62e03ae7level1_row5\" class=\"row_heading level1 row5\" >&ПРЕГРАДЫ_есть_преграды</th>\n",
       "                        <td id=\"T_5c15934c_ad9c_11ea_9e3d_5bde62e03ae7row5_col0\" class=\"data row5 col0\" >3.453860</td>\n",
       "            </tr>\n",
       "            <tr>\n",
       "                                <th id=\"T_5c15934c_ad9c_11ea_9e3d_5bde62e03ae7level1_row6\" class=\"row_heading level1 row6\" >&ТИП_ЦЕЛИ_Приобрести_новые_навыки</th>\n",
       "                        <td id=\"T_5c15934c_ad9c_11ea_9e3d_5bde62e03ae7row6_col0\" class=\"data row6 col0\" >3.365060</td>\n",
       "            </tr>\n",
       "            <tr>\n",
       "                                <th id=\"T_5c15934c_ad9c_11ea_9e3d_5bde62e03ae7level1_row7\" class=\"row_heading level1 row7\" >&ПЕРВЫЙ_ШАГ_знаю_с_чего_начать</th>\n",
       "                        <td id=\"T_5c15934c_ad9c_11ea_9e3d_5bde62e03ae7row7_col0\" class=\"data row7 col0\" >3.136610</td>\n",
       "            </tr>\n",
       "            <tr>\n",
       "                                <th id=\"T_5c15934c_ad9c_11ea_9e3d_5bde62e03ae7level1_row8\" class=\"row_heading level1 row8\" >&ОСНОВНОЙ_ВИД_ДЕЙТЕЛЬНОСТИ_Работаю_в_организации,_предприятии</th>\n",
       "                        <td id=\"T_5c15934c_ad9c_11ea_9e3d_5bde62e03ae7row8_col0\" class=\"data row8 col0\" >2.813200</td>\n",
       "            </tr>\n",
       "            <tr>\n",
       "                                <th id=\"T_5c15934c_ad9c_11ea_9e3d_5bde62e03ae7level1_row9\" class=\"row_heading level1 row9\" >&ТИП_ЦЕЛИ_Развить_имеющиеся_знания_и_навыки</th>\n",
       "                        <td id=\"T_5c15934c_ad9c_11ea_9e3d_5bde62e03ae7row9_col0\" class=\"data row9 col0\" >2.624060</td>\n",
       "            </tr>\n",
       "    </tbody></table><style  type=\"text/css\" >\n",
       "</style><table id=\"T_5c1716fe_ad9c_11ea_9e3d_5bde62e03ae7\" style='display:inline'><thead>    <tr>        <th class=\"blank\" ></th>        <th class=\"blank level0\" ></th>        <th class=\"col_heading level0 col0\" >topic_6</th>    </tr>    <tr>        <th class=\"index_name level0\" >modality</th>        <th class=\"index_name level1\" >token</th>        <th class=\"blank\" ></th>    </tr></thead><tbody>\n",
       "                <tr>\n",
       "                        <th id=\"T_5c1716fe_ad9c_11ea_9e3d_5bde62e03ae7level0_row0\" class=\"row_heading level0 row0\" rowspan=10>@ngram</th>\n",
       "                        <th id=\"T_5c1716fe_ad9c_11ea_9e3d_5bde62e03ae7level1_row0\" class=\"row_heading level1 row0\" >новое</th>\n",
       "                        <td id=\"T_5c1716fe_ad9c_11ea_9e3d_5bde62e03ae7row0_col0\" class=\"data row0 col0\" >13.744940</td>\n",
       "            </tr>\n",
       "            <tr>\n",
       "                                <th id=\"T_5c1716fe_ad9c_11ea_9e3d_5bde62e03ae7level1_row1\" class=\"row_heading level1 row1\" >узнать</th>\n",
       "                        <td id=\"T_5c1716fe_ad9c_11ea_9e3d_5bde62e03ae7row1_col0\" class=\"data row1 col0\" >3.788340</td>\n",
       "            </tr>\n",
       "            <tr>\n",
       "                                <th id=\"T_5c1716fe_ad9c_11ea_9e3d_5bde62e03ae7level1_row2\" class=\"row_heading level1 row2\" >изучение</th>\n",
       "                        <td id=\"T_5c1716fe_ad9c_11ea_9e3d_5bde62e03ae7row2_col0\" class=\"data row2 col0\" >2.315980</td>\n",
       "            </tr>\n",
       "            <tr>\n",
       "                                <th id=\"T_5c1716fe_ad9c_11ea_9e3d_5bde62e03ae7level1_row3\" class=\"row_heading level1 row3\" >узнать_новое</th>\n",
       "                        <td id=\"T_5c1716fe_ad9c_11ea_9e3d_5bde62e03ae7row3_col0\" class=\"data row3 col0\" >2.285720</td>\n",
       "            </tr>\n",
       "            <tr>\n",
       "                                <th id=\"T_5c1716fe_ad9c_11ea_9e3d_5bde62e03ae7level1_row4\" class=\"row_heading level1 row4\" >интересный</th>\n",
       "                        <td id=\"T_5c1716fe_ad9c_11ea_9e3d_5bde62e03ae7row4_col0\" class=\"data row4 col0\" >1.877770</td>\n",
       "            </tr>\n",
       "            <tr>\n",
       "                                <th id=\"T_5c1716fe_ad9c_11ea_9e3d_5bde62e03ae7level1_row5\" class=\"row_heading level1 row5\" >самореализация</th>\n",
       "                        <td id=\"T_5c1716fe_ad9c_11ea_9e3d_5bde62e03ae7row5_col0\" class=\"data row5 col0\" >1.267970</td>\n",
       "            </tr>\n",
       "            <tr>\n",
       "                                <th id=\"T_5c1716fe_ad9c_11ea_9e3d_5bde62e03ae7level1_row6\" class=\"row_heading level1 row6\" >свой</th>\n",
       "                        <td id=\"T_5c1716fe_ad9c_11ea_9e3d_5bde62e03ae7row6_col0\" class=\"data row6 col0\" >1.249950</td>\n",
       "            </tr>\n",
       "            <tr>\n",
       "                                <th id=\"T_5c1716fe_ad9c_11ea_9e3d_5bde62e03ae7level1_row7\" class=\"row_heading level1 row7\" >умный</th>\n",
       "                        <td id=\"T_5c1716fe_ad9c_11ea_9e3d_5bde62e03ae7row7_col0\" class=\"data row7 col0\" >1.065440</td>\n",
       "            </tr>\n",
       "            <tr>\n",
       "                                <th id=\"T_5c1716fe_ad9c_11ea_9e3d_5bde62e03ae7level1_row8\" class=\"row_heading level1 row8\" >постоянный</th>\n",
       "                        <td id=\"T_5c1716fe_ad9c_11ea_9e3d_5bde62e03ae7row8_col0\" class=\"data row8 col0\" >1.054200</td>\n",
       "            </tr>\n",
       "            <tr>\n",
       "                                <th id=\"T_5c1716fe_ad9c_11ea_9e3d_5bde62e03ae7level1_row9\" class=\"row_heading level1 row9\" >понимание</th>\n",
       "                        <td id=\"T_5c1716fe_ad9c_11ea_9e3d_5bde62e03ae7row9_col0\" class=\"data row9 col0\" >1.020970</td>\n",
       "            </tr>\n",
       "    </tbody></table>"
      ]
     },
     "metadata": {},
     "output_type": "display_data"
    },
    {
     "data": {
      "text/html": [
       "<style  type=\"text/css\" >\n",
       "</style><table id=\"T_5c1b8f86_ad9c_11ea_9e3d_5bde62e03ae7\" style='display:inline'><thead>    <tr>        <th class=\"blank\" ></th>        <th class=\"blank level0\" ></th>        <th class=\"col_heading level0 col0\" >topic_7</th>    </tr>    <tr>        <th class=\"index_name level0\" >modality</th>        <th class=\"index_name level1\" >token</th>        <th class=\"blank\" ></th>    </tr></thead><tbody>\n",
       "                <tr>\n",
       "                        <th id=\"T_5c1b8f86_ad9c_11ea_9e3d_5bde62e03ae7level0_row0\" class=\"row_heading level0 row0\" rowspan=10>@info</th>\n",
       "                        <th id=\"T_5c1b8f86_ad9c_11ea_9e3d_5bde62e03ae7level1_row0\" class=\"row_heading level1 row0\" >&РЕЗУЛЬТАТ_Да,_четко</th>\n",
       "                        <td id=\"T_5c1b8f86_ad9c_11ea_9e3d_5bde62e03ae7row0_col0\" class=\"data row0 col0\" >6.798370</td>\n",
       "            </tr>\n",
       "            <tr>\n",
       "                                <th id=\"T_5c1b8f86_ad9c_11ea_9e3d_5bde62e03ae7level1_row1\" class=\"row_heading level1 row1\" >&ПРЕГРАДЫ_Не_вижу_преград</th>\n",
       "                        <td id=\"T_5c1b8f86_ad9c_11ea_9e3d_5bde62e03ae7row1_col0\" class=\"data row1 col0\" >5.315980</td>\n",
       "            </tr>\n",
       "            <tr>\n",
       "                                <th id=\"T_5c1b8f86_ad9c_11ea_9e3d_5bde62e03ae7level1_row2\" class=\"row_heading level1 row2\" >&ТИП_ЦЕЛИ_другое</th>\n",
       "                        <td id=\"T_5c1b8f86_ad9c_11ea_9e3d_5bde62e03ae7row2_col0\" class=\"data row2 col0\" >4.157490</td>\n",
       "            </tr>\n",
       "            <tr>\n",
       "                                <th id=\"T_5c1b8f86_ad9c_11ea_9e3d_5bde62e03ae7level1_row3\" class=\"row_heading level1 row3\" >&ПРЕГРАДЫ_есть_преграды</th>\n",
       "                        <td id=\"T_5c1b8f86_ad9c_11ea_9e3d_5bde62e03ae7row3_col0\" class=\"data row3 col0\" >3.281330</td>\n",
       "            </tr>\n",
       "            <tr>\n",
       "                                <th id=\"T_5c1b8f86_ad9c_11ea_9e3d_5bde62e03ae7level1_row4\" class=\"row_heading level1 row4\" >&ТИП_ЦЕЛИ_Развить_имеющиеся_знания_и_навыки</th>\n",
       "                        <td id=\"T_5c1b8f86_ad9c_11ea_9e3d_5bde62e03ae7row4_col0\" class=\"data row4 col0\" >3.236080</td>\n",
       "            </tr>\n",
       "            <tr>\n",
       "                                <th id=\"T_5c1b8f86_ad9c_11ea_9e3d_5bde62e03ae7level1_row5\" class=\"row_heading level1 row5\" >&ТИП_ЦЕЛИ_Получить_знания_в_новой_области</th>\n",
       "                        <td id=\"T_5c1b8f86_ad9c_11ea_9e3d_5bde62e03ae7row5_col0\" class=\"data row5 col0\" >3.102440</td>\n",
       "            </tr>\n",
       "            <tr>\n",
       "                                <th id=\"T_5c1b8f86_ad9c_11ea_9e3d_5bde62e03ae7level1_row6\" class=\"row_heading level1 row6\" >&ТИП_ЦЕЛИ_Приобрести_новые_навыки</th>\n",
       "                        <td id=\"T_5c1b8f86_ad9c_11ea_9e3d_5bde62e03ae7row6_col0\" class=\"data row6 col0\" >3.049550</td>\n",
       "            </tr>\n",
       "            <tr>\n",
       "                                <th id=\"T_5c1b8f86_ad9c_11ea_9e3d_5bde62e03ae7level1_row7\" class=\"row_heading level1 row7\" >&ВРЕМЕННЫЕ_ГРАНИЦЫ_Нет_жестких_сроков</th>\n",
       "                        <td id=\"T_5c1b8f86_ad9c_11ea_9e3d_5bde62e03ae7row7_col0\" class=\"data row7 col0\" >2.759320</td>\n",
       "            </tr>\n",
       "            <tr>\n",
       "                                <th id=\"T_5c1b8f86_ad9c_11ea_9e3d_5bde62e03ae7level1_row8\" class=\"row_heading level1 row8\" >&ПЕРВЫЙ_ШАГ_знаю_с_чего_начать</th>\n",
       "                        <td id=\"T_5c1b8f86_ad9c_11ea_9e3d_5bde62e03ae7row8_col0\" class=\"data row8 col0\" >2.740590</td>\n",
       "            </tr>\n",
       "            <tr>\n",
       "                                <th id=\"T_5c1b8f86_ad9c_11ea_9e3d_5bde62e03ae7level1_row9\" class=\"row_heading level1 row9\" >&РЕЗУЛЬТАТ_Да,_нечетко</th>\n",
       "                        <td id=\"T_5c1b8f86_ad9c_11ea_9e3d_5bde62e03ae7row9_col0\" class=\"data row9 col0\" >2.651350</td>\n",
       "            </tr>\n",
       "    </tbody></table><style  type=\"text/css\" >\n",
       "</style><table id=\"T_5c1ca240_ad9c_11ea_9e3d_5bde62e03ae7\" style='display:inline'><thead>    <tr>        <th class=\"blank\" ></th>        <th class=\"blank level0\" ></th>        <th class=\"col_heading level0 col0\" >topic_7</th>    </tr>    <tr>        <th class=\"index_name level0\" >modality</th>        <th class=\"index_name level1\" >token</th>        <th class=\"blank\" ></th>    </tr></thead><tbody>\n",
       "                <tr>\n",
       "                        <th id=\"T_5c1ca240_ad9c_11ea_9e3d_5bde62e03ae7level0_row0\" class=\"row_heading level0 row0\" rowspan=10>@ngram</th>\n",
       "                        <th id=\"T_5c1ca240_ad9c_11ea_9e3d_5bde62e03ae7level1_row0\" class=\"row_heading level1 row0\" >который</th>\n",
       "                        <td id=\"T_5c1ca240_ad9c_11ea_9e3d_5bde62e03ae7row0_col0\" class=\"data row0 col0\" >4.493780</td>\n",
       "            </tr>\n",
       "            <tr>\n",
       "                                <th id=\"T_5c1ca240_ad9c_11ea_9e3d_5bde62e03ae7level1_row1\" class=\"row_heading level1 row1\" >саморазвитие</th>\n",
       "                        <td id=\"T_5c1ca240_ad9c_11ea_9e3d_5bde62e03ae7row1_col0\" class=\"data row1 col0\" >3.086620</td>\n",
       "            </tr>\n",
       "            <tr>\n",
       "                                <th id=\"T_5c1ca240_ad9c_11ea_9e3d_5bde62e03ae7level1_row2\" class=\"row_heading level1 row2\" >цель</th>\n",
       "                        <td id=\"T_5c1ca240_ad9c_11ea_9e3d_5bde62e03ae7row2_col0\" class=\"data row2 col0\" >3.086620</td>\n",
       "            </tr>\n",
       "            <tr>\n",
       "                                <th id=\"T_5c1ca240_ad9c_11ea_9e3d_5bde62e03ae7level1_row3\" class=\"row_heading level1 row3\" >хотеть</th>\n",
       "                        <td id=\"T_5c1ca240_ad9c_11ea_9e3d_5bde62e03ae7row3_col0\" class=\"data row3 col0\" >2.831540</td>\n",
       "            </tr>\n",
       "            <tr>\n",
       "                                <th id=\"T_5c1ca240_ad9c_11ea_9e3d_5bde62e03ae7level1_row4\" class=\"row_heading level1 row4\" >расширить</th>\n",
       "                        <td id=\"T_5c1ca240_ad9c_11ea_9e3d_5bde62e03ae7row4_col0\" class=\"data row4 col0\" >2.004700</td>\n",
       "            </tr>\n",
       "            <tr>\n",
       "                                <th id=\"T_5c1ca240_ad9c_11ea_9e3d_5bde62e03ae7level1_row5\" class=\"row_heading level1 row5\" >достижение</th>\n",
       "                        <td id=\"T_5c1ca240_ad9c_11ea_9e3d_5bde62e03ae7row5_col0\" class=\"data row5 col0\" >1.687750</td>\n",
       "            </tr>\n",
       "            <tr>\n",
       "                                <th id=\"T_5c1ca240_ad9c_11ea_9e3d_5bde62e03ae7level1_row6\" class=\"row_heading level1 row6\" >область</th>\n",
       "                        <td id=\"T_5c1ca240_ad9c_11ea_9e3d_5bde62e03ae7row6_col0\" class=\"data row6 col0\" >1.609860</td>\n",
       "            </tr>\n",
       "            <tr>\n",
       "                                <th id=\"T_5c1ca240_ad9c_11ea_9e3d_5bde62e03ae7level1_row7\" class=\"row_heading level1 row7\" >развиваться</th>\n",
       "                        <td id=\"T_5c1ca240_ad9c_11ea_9e3d_5bde62e03ae7row7_col0\" class=\"data row7 col0\" >1.434730</td>\n",
       "            </tr>\n",
       "            <tr>\n",
       "                                <th id=\"T_5c1ca240_ad9c_11ea_9e3d_5bde62e03ae7level1_row8\" class=\"row_heading level1 row8\" >работать</th>\n",
       "                        <td id=\"T_5c1ca240_ad9c_11ea_9e3d_5bde62e03ae7row8_col0\" class=\"data row8 col0\" >1.294920</td>\n",
       "            </tr>\n",
       "            <tr>\n",
       "                                <th id=\"T_5c1ca240_ad9c_11ea_9e3d_5bde62e03ae7level1_row9\" class=\"row_heading level1 row9\" >самосовершенствование</th>\n",
       "                        <td id=\"T_5c1ca240_ad9c_11ea_9e3d_5bde62e03ae7row9_col0\" class=\"data row9 col0\" >1.182270</td>\n",
       "            </tr>\n",
       "    </tbody></table>"
      ]
     },
     "metadata": {},
     "output_type": "display_data"
    },
    {
     "data": {
      "text/html": [
       "<style  type=\"text/css\" >\n",
       "</style><table id=\"T_5c211a46_ad9c_11ea_9e3d_5bde62e03ae7\" style='display:inline'><thead>    <tr>        <th class=\"blank\" ></th>        <th class=\"blank level0\" ></th>        <th class=\"col_heading level0 col0\" >topic_8</th>    </tr>    <tr>        <th class=\"index_name level0\" >modality</th>        <th class=\"index_name level1\" >token</th>        <th class=\"blank\" ></th>    </tr></thead><tbody>\n",
       "                <tr>\n",
       "                        <th id=\"T_5c211a46_ad9c_11ea_9e3d_5bde62e03ae7level0_row0\" class=\"row_heading level0 row0\" rowspan=10>@info</th>\n",
       "                        <th id=\"T_5c211a46_ad9c_11ea_9e3d_5bde62e03ae7level1_row0\" class=\"row_heading level1 row0\" >&РЕЗУЛЬТАТ_Да,_четко</th>\n",
       "                        <td id=\"T_5c211a46_ad9c_11ea_9e3d_5bde62e03ae7row0_col0\" class=\"data row0 col0\" >12.331280</td>\n",
       "            </tr>\n",
       "            <tr>\n",
       "                                <th id=\"T_5c211a46_ad9c_11ea_9e3d_5bde62e03ae7level1_row1\" class=\"row_heading level1 row1\" >&ПРЕГРАДЫ_Не_вижу_преград</th>\n",
       "                        <td id=\"T_5c211a46_ad9c_11ea_9e3d_5bde62e03ae7row1_col0\" class=\"data row1 col0\" >8.598920</td>\n",
       "            </tr>\n",
       "            <tr>\n",
       "                                <th id=\"T_5c211a46_ad9c_11ea_9e3d_5bde62e03ae7level1_row2\" class=\"row_heading level1 row2\" >&ТИП_ЦЕЛИ_другое</th>\n",
       "                        <td id=\"T_5c211a46_ad9c_11ea_9e3d_5bde62e03ae7row2_col0\" class=\"data row2 col0\" >4.144590</td>\n",
       "            </tr>\n",
       "            <tr>\n",
       "                                <th id=\"T_5c211a46_ad9c_11ea_9e3d_5bde62e03ae7level1_row3\" class=\"row_heading level1 row3\" >&ПЕРВЫЙ_ШАГ_знаю_с_чего_начать</th>\n",
       "                        <td id=\"T_5c211a46_ad9c_11ea_9e3d_5bde62e03ae7row3_col0\" class=\"data row3 col0\" >4.086670</td>\n",
       "            </tr>\n",
       "            <tr>\n",
       "                                <th id=\"T_5c211a46_ad9c_11ea_9e3d_5bde62e03ae7level1_row4\" class=\"row_heading level1 row4\" >&ТИП_ЦЕЛИ_Развить_имеющиеся_знания_и_навыки</th>\n",
       "                        <td id=\"T_5c211a46_ad9c_11ea_9e3d_5bde62e03ae7row4_col0\" class=\"data row4 col0\" >3.428430</td>\n",
       "            </tr>\n",
       "            <tr>\n",
       "                                <th id=\"T_5c211a46_ad9c_11ea_9e3d_5bde62e03ae7level1_row5\" class=\"row_heading level1 row5\" >&ТИП_ЦЕЛИ_Получить_знания_в_новой_области</th>\n",
       "                        <td id=\"T_5c211a46_ad9c_11ea_9e3d_5bde62e03ae7row5_col0\" class=\"data row5 col0\" >3.193940</td>\n",
       "            </tr>\n",
       "            <tr>\n",
       "                                <th id=\"T_5c211a46_ad9c_11ea_9e3d_5bde62e03ae7level1_row6\" class=\"row_heading level1 row6\" >&ТИП_ЦЕЛИ_Приобрести_новые_навыки</th>\n",
       "                        <td id=\"T_5c211a46_ad9c_11ea_9e3d_5bde62e03ae7row6_col0\" class=\"data row6 col0\" >3.157310</td>\n",
       "            </tr>\n",
       "            <tr>\n",
       "                                <th id=\"T_5c211a46_ad9c_11ea_9e3d_5bde62e03ae7level1_row7\" class=\"row_heading level1 row7\" >&ТИП_ЦЕЛИ_Получить_официальное_образование_(с_дипломом)</th>\n",
       "                        <td id=\"T_5c211a46_ad9c_11ea_9e3d_5bde62e03ae7row7_col0\" class=\"data row7 col0\" >2.952030</td>\n",
       "            </tr>\n",
       "            <tr>\n",
       "                                <th id=\"T_5c211a46_ad9c_11ea_9e3d_5bde62e03ae7level1_row8\" class=\"row_heading level1 row8\" >&ВРЕМЕННЫЕ_ГРАНИЦЫ_есть_границы</th>\n",
       "                        <td id=\"T_5c211a46_ad9c_11ea_9e3d_5bde62e03ae7row8_col0\" class=\"data row8 col0\" >2.814880</td>\n",
       "            </tr>\n",
       "            <tr>\n",
       "                                <th id=\"T_5c211a46_ad9c_11ea_9e3d_5bde62e03ae7level1_row9\" class=\"row_heading level1 row9\" >&ОСНОВНОЙ_ВИД_ДЕЙТЕЛЬНОСТИ_Учусь_в_вузе_(очная_форма_обучения)</th>\n",
       "                        <td id=\"T_5c211a46_ad9c_11ea_9e3d_5bde62e03ae7row9_col0\" class=\"data row9 col0\" >2.085400</td>\n",
       "            </tr>\n",
       "    </tbody></table><style  type=\"text/css\" >\n",
       "</style><table id=\"T_5c21f010_ad9c_11ea_9e3d_5bde62e03ae7\" style='display:inline'><thead>    <tr>        <th class=\"blank\" ></th>        <th class=\"blank level0\" ></th>        <th class=\"col_heading level0 col0\" >topic_8</th>    </tr>    <tr>        <th class=\"index_name level0\" >modality</th>        <th class=\"index_name level1\" >token</th>        <th class=\"blank\" ></th>    </tr></thead><tbody>\n",
       "                <tr>\n",
       "                        <th id=\"T_5c21f010_ad9c_11ea_9e3d_5bde62e03ae7level0_row0\" class=\"row_heading level0 row0\" rowspan=10>@ngram</th>\n",
       "                        <th id=\"T_5c21f010_ad9c_11ea_9e3d_5bde62e03ae7level1_row0\" class=\"row_heading level1 row0\" >образование</th>\n",
       "                        <td id=\"T_5c21f010_ad9c_11ea_9e3d_5bde62e03ae7row0_col0\" class=\"data row0 col0\" >9.538490</td>\n",
       "            </tr>\n",
       "            <tr>\n",
       "                                <th id=\"T_5c21f010_ad9c_11ea_9e3d_5bde62e03ae7level1_row1\" class=\"row_heading level1 row1\" >получить</th>\n",
       "                        <td id=\"T_5c21f010_ad9c_11ea_9e3d_5bde62e03ae7row1_col0\" class=\"data row1 col0\" >7.529550</td>\n",
       "            </tr>\n",
       "            <tr>\n",
       "                                <th id=\"T_5c21f010_ad9c_11ea_9e3d_5bde62e03ae7level1_row2\" class=\"row_heading level1 row2\" >сфера</th>\n",
       "                        <td id=\"T_5c21f010_ad9c_11ea_9e3d_5bde62e03ae7row2_col0\" class=\"data row2 col0\" >6.592700</td>\n",
       "            </tr>\n",
       "            <tr>\n",
       "                                <th id=\"T_5c21f010_ad9c_11ea_9e3d_5bde62e03ae7level1_row3\" class=\"row_heading level1 row3\" >обучение</th>\n",
       "                        <td id=\"T_5c21f010_ad9c_11ea_9e3d_5bde62e03ae7row3_col0\" class=\"data row3 col0\" >5.989540</td>\n",
       "            </tr>\n",
       "            <tr>\n",
       "                                <th id=\"T_5c21f010_ad9c_11ea_9e3d_5bde62e03ae7level1_row4\" class=\"row_heading level1 row4\" >высокий</th>\n",
       "                        <td id=\"T_5c21f010_ad9c_11ea_9e3d_5bde62e03ae7row4_col0\" class=\"data row4 col0\" >4.525620</td>\n",
       "            </tr>\n",
       "            <tr>\n",
       "                                <th id=\"T_5c21f010_ad9c_11ea_9e3d_5bde62e03ae7level1_row5\" class=\"row_heading level1 row5\" >бизнес</th>\n",
       "                        <td id=\"T_5c21f010_ad9c_11ea_9e3d_5bde62e03ae7row5_col0\" class=\"data row5 col0\" >2.893980</td>\n",
       "            </tr>\n",
       "            <tr>\n",
       "                                <th id=\"T_5c21f010_ad9c_11ea_9e3d_5bde62e03ae7level1_row6\" class=\"row_heading level1 row6\" >высокий_образование</th>\n",
       "                        <td id=\"T_5c21f010_ad9c_11ea_9e3d_5bde62e03ae7row6_col0\" class=\"data row6 col0\" >2.812640</td>\n",
       "            </tr>\n",
       "            <tr>\n",
       "                                <th id=\"T_5c21f010_ad9c_11ea_9e3d_5bde62e03ae7level1_row7\" class=\"row_heading level1 row7\" >получить_высокий</th>\n",
       "                        <td id=\"T_5c21f010_ad9c_11ea_9e3d_5bde62e03ae7row7_col0\" class=\"data row7 col0\" >2.406370</td>\n",
       "            </tr>\n",
       "            <tr>\n",
       "                                <th id=\"T_5c21f010_ad9c_11ea_9e3d_5bde62e03ae7level1_row8\" class=\"row_heading level1 row8\" >профессиональный_сфера</th>\n",
       "                        <td id=\"T_5c21f010_ad9c_11ea_9e3d_5bde62e03ae7row8_col0\" class=\"data row8 col0\" >1.273690</td>\n",
       "            </tr>\n",
       "            <tr>\n",
       "                                <th id=\"T_5c21f010_ad9c_11ea_9e3d_5bde62e03ae7level1_row9\" class=\"row_heading level1 row9\" >получить_образование</th>\n",
       "                        <td id=\"T_5c21f010_ad9c_11ea_9e3d_5bde62e03ae7row9_col0\" class=\"data row9 col0\" >1.193150</td>\n",
       "            </tr>\n",
       "    </tbody></table>"
      ]
     },
     "metadata": {},
     "output_type": "display_data"
    },
    {
     "data": {
      "text/html": [
       "<style  type=\"text/css\" >\n",
       "</style><table id=\"T_5c268832_ad9c_11ea_9e3d_5bde62e03ae7\" style='display:inline'><thead>    <tr>        <th class=\"blank\" ></th>        <th class=\"blank level0\" ></th>        <th class=\"col_heading level0 col0\" >topic_9</th>    </tr>    <tr>        <th class=\"index_name level0\" >modality</th>        <th class=\"index_name level1\" >token</th>        <th class=\"blank\" ></th>    </tr></thead><tbody>\n",
       "                <tr>\n",
       "                        <th id=\"T_5c268832_ad9c_11ea_9e3d_5bde62e03ae7level0_row0\" class=\"row_heading level0 row0\" rowspan=10>@info</th>\n",
       "                        <th id=\"T_5c268832_ad9c_11ea_9e3d_5bde62e03ae7level1_row0\" class=\"row_heading level1 row0\" >&РЕЗУЛЬТАТ_Да,_четко</th>\n",
       "                        <td id=\"T_5c268832_ad9c_11ea_9e3d_5bde62e03ae7row0_col0\" class=\"data row0 col0\" >9.634960</td>\n",
       "            </tr>\n",
       "            <tr>\n",
       "                                <th id=\"T_5c268832_ad9c_11ea_9e3d_5bde62e03ae7level1_row1\" class=\"row_heading level1 row1\" >&ТИП_ЦЕЛИ_другое</th>\n",
       "                        <td id=\"T_5c268832_ad9c_11ea_9e3d_5bde62e03ae7row1_col0\" class=\"data row1 col0\" >4.748580</td>\n",
       "            </tr>\n",
       "            <tr>\n",
       "                                <th id=\"T_5c268832_ad9c_11ea_9e3d_5bde62e03ae7level1_row2\" class=\"row_heading level1 row2\" >&ПРЕГРАДЫ_есть_преграды</th>\n",
       "                        <td id=\"T_5c268832_ad9c_11ea_9e3d_5bde62e03ae7row2_col0\" class=\"data row2 col0\" >4.310280</td>\n",
       "            </tr>\n",
       "            <tr>\n",
       "                                <th id=\"T_5c268832_ad9c_11ea_9e3d_5bde62e03ae7level1_row3\" class=\"row_heading level1 row3\" >&ПРЕГРАДЫ_Не_вижу_преград</th>\n",
       "                        <td id=\"T_5c268832_ad9c_11ea_9e3d_5bde62e03ae7row3_col0\" class=\"data row3 col0\" >4.142150</td>\n",
       "            </tr>\n",
       "            <tr>\n",
       "                                <th id=\"T_5c268832_ad9c_11ea_9e3d_5bde62e03ae7level1_row4\" class=\"row_heading level1 row4\" >&ПЕРВЫЙ_ШАГ_знаю_с_чего_начать</th>\n",
       "                        <td id=\"T_5c268832_ad9c_11ea_9e3d_5bde62e03ae7row4_col0\" class=\"data row4 col0\" >3.689440</td>\n",
       "            </tr>\n",
       "            <tr>\n",
       "                                <th id=\"T_5c268832_ad9c_11ea_9e3d_5bde62e03ae7level1_row5\" class=\"row_heading level1 row5\" >&ТИП_ЦЕЛИ_Развить_имеющиеся_знания_и_навыки</th>\n",
       "                        <td id=\"T_5c268832_ad9c_11ea_9e3d_5bde62e03ae7row5_col0\" class=\"data row5 col0\" >3.454430</td>\n",
       "            </tr>\n",
       "            <tr>\n",
       "                                <th id=\"T_5c268832_ad9c_11ea_9e3d_5bde62e03ae7level1_row6\" class=\"row_heading level1 row6\" >&ОБЛАСТЬ_ЦЕЛИ_Универсальные_компетенции,_гибкие_навыки_(soft_skills)</th>\n",
       "                        <td id=\"T_5c268832_ad9c_11ea_9e3d_5bde62e03ae7row6_col0\" class=\"data row6 col0\" >3.066320</td>\n",
       "            </tr>\n",
       "            <tr>\n",
       "                                <th id=\"T_5c268832_ad9c_11ea_9e3d_5bde62e03ae7level1_row7\" class=\"row_heading level1 row7\" >&ТИП_ЦЕЛИ_Приобрести_новые_навыки</th>\n",
       "                        <td id=\"T_5c268832_ad9c_11ea_9e3d_5bde62e03ae7row7_col0\" class=\"data row7 col0\" >2.770910</td>\n",
       "            </tr>\n",
       "            <tr>\n",
       "                                <th id=\"T_5c268832_ad9c_11ea_9e3d_5bde62e03ae7level1_row8\" class=\"row_heading level1 row8\" >&ОСНОВНОЙ_ВИД_ДЕЙТЕЛЬНОСТИ_Работаю_в_организации,_предприятии</th>\n",
       "                        <td id=\"T_5c268832_ad9c_11ea_9e3d_5bde62e03ae7row8_col0\" class=\"data row8 col0\" >2.708840</td>\n",
       "            </tr>\n",
       "            <tr>\n",
       "                                <th id=\"T_5c268832_ad9c_11ea_9e3d_5bde62e03ae7level1_row9\" class=\"row_heading level1 row9\" >&РЕЗУЛЬТАТ_Да,_нечетко</th>\n",
       "                        <td id=\"T_5c268832_ad9c_11ea_9e3d_5bde62e03ae7row9_col0\" class=\"data row9 col0\" >2.604980</td>\n",
       "            </tr>\n",
       "    </tbody></table><style  type=\"text/css\" >\n",
       "</style><table id=\"T_5c2757c6_ad9c_11ea_9e3d_5bde62e03ae7\" style='display:inline'><thead>    <tr>        <th class=\"blank\" ></th>        <th class=\"blank level0\" ></th>        <th class=\"col_heading level0 col0\" >topic_9</th>    </tr>    <tr>        <th class=\"index_name level0\" >modality</th>        <th class=\"index_name level1\" >token</th>        <th class=\"blank\" ></th>    </tr></thead><tbody>\n",
       "                <tr>\n",
       "                        <th id=\"T_5c2757c6_ad9c_11ea_9e3d_5bde62e03ae7level0_row0\" class=\"row_heading level0 row0\" rowspan=10>@ngram</th>\n",
       "                        <th id=\"T_5c2757c6_ad9c_11ea_9e3d_5bde62e03ae7level1_row0\" class=\"row_heading level1 row0\" >компетенция</th>\n",
       "                        <td id=\"T_5c2757c6_ad9c_11ea_9e3d_5bde62e03ae7row0_col0\" class=\"data row0 col0\" >13.101920</td>\n",
       "            </tr>\n",
       "            <tr>\n",
       "                                <th id=\"T_5c2757c6_ad9c_11ea_9e3d_5bde62e03ae7level1_row1\" class=\"row_heading level1 row1\" >навык</th>\n",
       "                        <td id=\"T_5c2757c6_ad9c_11ea_9e3d_5bde62e03ae7row1_col0\" class=\"data row1 col0\" >4.852350</td>\n",
       "            </tr>\n",
       "            <tr>\n",
       "                                <th id=\"T_5c2757c6_ad9c_11ea_9e3d_5bde62e03ae7level1_row2\" class=\"row_heading level1 row2\" >профессиональный</th>\n",
       "                        <td id=\"T_5c2757c6_ad9c_11ea_9e3d_5bde62e03ae7row2_col0\" class=\"data row2 col0\" >4.634000</td>\n",
       "            </tr>\n",
       "            <tr>\n",
       "                                <th id=\"T_5c2757c6_ad9c_11ea_9e3d_5bde62e03ae7level1_row3\" class=\"row_heading level1 row3\" >развитие</th>\n",
       "                        <td id=\"T_5c2757c6_ad9c_11ea_9e3d_5bde62e03ae7row3_col0\" class=\"data row3 col0\" >3.809770</td>\n",
       "            </tr>\n",
       "            <tr>\n",
       "                                <th id=\"T_5c2757c6_ad9c_11ea_9e3d_5bde62e03ae7level1_row4\" class=\"row_heading level1 row4\" >свой</th>\n",
       "                        <td id=\"T_5c2757c6_ad9c_11ea_9e3d_5bde62e03ae7row4_col0\" class=\"data row4 col0\" >2.462420</td>\n",
       "            </tr>\n",
       "            <tr>\n",
       "                                <th id=\"T_5c2757c6_ad9c_11ea_9e3d_5bde62e03ae7level1_row5\" class=\"row_heading level1 row5\" >цифровой</th>\n",
       "                        <td id=\"T_5c2757c6_ad9c_11ea_9e3d_5bde62e03ae7row5_col0\" class=\"data row5 col0\" >2.255630</td>\n",
       "            </tr>\n",
       "            <tr>\n",
       "                                <th id=\"T_5c2757c6_ad9c_11ea_9e3d_5bde62e03ae7level1_row6\" class=\"row_heading level1 row6\" >профессиональный_компетенция</th>\n",
       "                        <td id=\"T_5c2757c6_ad9c_11ea_9e3d_5bde62e03ae7row6_col0\" class=\"data row6 col0\" >1.970450</td>\n",
       "            </tr>\n",
       "            <tr>\n",
       "                                <th id=\"T_5c2757c6_ad9c_11ea_9e3d_5bde62e03ae7level1_row7\" class=\"row_heading level1 row7\" >профессиональный_навык</th>\n",
       "                        <td id=\"T_5c2757c6_ad9c_11ea_9e3d_5bde62e03ae7row7_col0\" class=\"data row7 col0\" >1.685770</td>\n",
       "            </tr>\n",
       "            <tr>\n",
       "                                <th id=\"T_5c2757c6_ad9c_11ea_9e3d_5bde62e03ae7level1_row8\" class=\"row_heading level1 row8\" >книга</th>\n",
       "                        <td id=\"T_5c2757c6_ad9c_11ea_9e3d_5bde62e03ae7row8_col0\" class=\"data row8 col0\" >1.472630</td>\n",
       "            </tr>\n",
       "            <tr>\n",
       "                                <th id=\"T_5c2757c6_ad9c_11ea_9e3d_5bde62e03ae7level1_row9\" class=\"row_heading level1 row9\" >качество</th>\n",
       "                        <td id=\"T_5c2757c6_ad9c_11ea_9e3d_5bde62e03ae7row9_col0\" class=\"data row9 col0\" >1.461390</td>\n",
       "            </tr>\n",
       "    </tbody></table>"
      ]
     },
     "metadata": {},
     "output_type": "display_data"
    },
    {
     "data": {
      "text/html": [
       "<style  type=\"text/css\" >\n",
       "</style><table id=\"T_5c2b7a54_ad9c_11ea_9e3d_5bde62e03ae7\" style='display:inline'><thead>    <tr>        <th class=\"blank\" ></th>        <th class=\"blank level0\" ></th>        <th class=\"col_heading level0 col0\" >topic_10</th>    </tr>    <tr>        <th class=\"index_name level0\" >modality</th>        <th class=\"index_name level1\" >token</th>        <th class=\"blank\" ></th>    </tr></thead><tbody>\n",
       "                <tr>\n",
       "                        <th id=\"T_5c2b7a54_ad9c_11ea_9e3d_5bde62e03ae7level0_row0\" class=\"row_heading level0 row0\" rowspan=10>@info</th>\n",
       "                        <th id=\"T_5c2b7a54_ad9c_11ea_9e3d_5bde62e03ae7level1_row0\" class=\"row_heading level1 row0\" >&РЕЗУЛЬТАТ_Да,_четко</th>\n",
       "                        <td id=\"T_5c2b7a54_ad9c_11ea_9e3d_5bde62e03ae7row0_col0\" class=\"data row0 col0\" >10.034170</td>\n",
       "            </tr>\n",
       "            <tr>\n",
       "                                <th id=\"T_5c2b7a54_ad9c_11ea_9e3d_5bde62e03ae7level1_row1\" class=\"row_heading level1 row1\" >&ПРЕГРАДЫ_Не_вижу_преград</th>\n",
       "                        <td id=\"T_5c2b7a54_ad9c_11ea_9e3d_5bde62e03ae7row1_col0\" class=\"data row1 col0\" >5.205770</td>\n",
       "            </tr>\n",
       "            <tr>\n",
       "                                <th id=\"T_5c2b7a54_ad9c_11ea_9e3d_5bde62e03ae7level1_row2\" class=\"row_heading level1 row2\" >&ПРЕГРАДЫ_есть_преграды</th>\n",
       "                        <td id=\"T_5c2b7a54_ad9c_11ea_9e3d_5bde62e03ae7row2_col0\" class=\"data row2 col0\" >4.661980</td>\n",
       "            </tr>\n",
       "            <tr>\n",
       "                                <th id=\"T_5c2b7a54_ad9c_11ea_9e3d_5bde62e03ae7level1_row3\" class=\"row_heading level1 row3\" >&ПЕРВЫЙ_ШАГ_знаю_с_чего_начать</th>\n",
       "                        <td id=\"T_5c2b7a54_ad9c_11ea_9e3d_5bde62e03ae7row3_col0\" class=\"data row3 col0\" >4.280590</td>\n",
       "            </tr>\n",
       "            <tr>\n",
       "                                <th id=\"T_5c2b7a54_ad9c_11ea_9e3d_5bde62e03ae7level1_row4\" class=\"row_heading level1 row4\" >&ТИП_ЦЕЛИ_другое</th>\n",
       "                        <td id=\"T_5c2b7a54_ad9c_11ea_9e3d_5bde62e03ae7row4_col0\" class=\"data row4 col0\" >3.905890</td>\n",
       "            </tr>\n",
       "            <tr>\n",
       "                                <th id=\"T_5c2b7a54_ad9c_11ea_9e3d_5bde62e03ae7level1_row5\" class=\"row_heading level1 row5\" >&ВРЕМЕННЫЕ_ГРАНИЦЫ_есть_границы</th>\n",
       "                        <td id=\"T_5c2b7a54_ad9c_11ea_9e3d_5bde62e03ae7row5_col0\" class=\"data row5 col0\" >3.569420</td>\n",
       "            </tr>\n",
       "            <tr>\n",
       "                                <th id=\"T_5c2b7a54_ad9c_11ea_9e3d_5bde62e03ae7level1_row6\" class=\"row_heading level1 row6\" >&ТИП_ЦЕЛИ_Развить_имеющиеся_знания_и_навыки</th>\n",
       "                        <td id=\"T_5c2b7a54_ad9c_11ea_9e3d_5bde62e03ae7row6_col0\" class=\"data row6 col0\" >3.288800</td>\n",
       "            </tr>\n",
       "            <tr>\n",
       "                                <th id=\"T_5c2b7a54_ad9c_11ea_9e3d_5bde62e03ae7level1_row7\" class=\"row_heading level1 row7\" >&ТИП_ЦЕЛИ_Получить_официальное_образование_(с_дипломом)</th>\n",
       "                        <td id=\"T_5c2b7a54_ad9c_11ea_9e3d_5bde62e03ae7row7_col0\" class=\"data row7 col0\" >2.925050</td>\n",
       "            </tr>\n",
       "            <tr>\n",
       "                                <th id=\"T_5c2b7a54_ad9c_11ea_9e3d_5bde62e03ae7level1_row8\" class=\"row_heading level1 row8\" >&ТИП_ЦЕЛИ_Приобрести_новые_навыки</th>\n",
       "                        <td id=\"T_5c2b7a54_ad9c_11ea_9e3d_5bde62e03ae7row8_col0\" class=\"data row8 col0\" >2.826330</td>\n",
       "            </tr>\n",
       "            <tr>\n",
       "                                <th id=\"T_5c2b7a54_ad9c_11ea_9e3d_5bde62e03ae7level1_row9\" class=\"row_heading level1 row9\" >&ТИП_ЦЕЛИ_Получить_знания_в_новой_области</th>\n",
       "                        <td id=\"T_5c2b7a54_ad9c_11ea_9e3d_5bde62e03ae7row9_col0\" class=\"data row9 col0\" >2.354740</td>\n",
       "            </tr>\n",
       "    </tbody></table><style  type=\"text/css\" >\n",
       "</style><table id=\"T_5c2c7b20_ad9c_11ea_9e3d_5bde62e03ae7\" style='display:inline'><thead>    <tr>        <th class=\"blank\" ></th>        <th class=\"blank level0\" ></th>        <th class=\"col_heading level0 col0\" >topic_10</th>    </tr>    <tr>        <th class=\"index_name level0\" >modality</th>        <th class=\"index_name level1\" >token</th>        <th class=\"blank\" ></th>    </tr></thead><tbody>\n",
       "                <tr>\n",
       "                        <th id=\"T_5c2c7b20_ad9c_11ea_9e3d_5bde62e03ae7level0_row0\" class=\"row_heading level0 row0\" rowspan=10>@ngram</th>\n",
       "                        <th id=\"T_5c2c7b20_ad9c_11ea_9e3d_5bde62e03ae7level1_row0\" class=\"row_heading level1 row0\" >закончить</th>\n",
       "                        <td id=\"T_5c2c7b20_ad9c_11ea_9e3d_5bde62e03ae7row0_col0\" class=\"data row0 col0\" >5.668800</td>\n",
       "            </tr>\n",
       "            <tr>\n",
       "                                <th id=\"T_5c2c7b20_ad9c_11ea_9e3d_5bde62e03ae7level1_row1\" class=\"row_heading level1 row1\" >университет</th>\n",
       "                        <td id=\"T_5c2c7b20_ad9c_11ea_9e3d_5bde62e03ae7row1_col0\" class=\"data row1 col0\" >2.954350</td>\n",
       "            </tr>\n",
       "            <tr>\n",
       "                                <th id=\"T_5c2c7b20_ad9c_11ea_9e3d_5bde62e03ae7level1_row2\" class=\"row_heading level1 row2\" >диссертация</th>\n",
       "                        <td id=\"T_5c2c7b20_ad9c_11ea_9e3d_5bde62e03ae7row2_col0\" class=\"data row2 col0\" >2.889170</td>\n",
       "            </tr>\n",
       "            <tr>\n",
       "                                <th id=\"T_5c2c7b20_ad9c_11ea_9e3d_5bde62e03ae7level1_row3\" class=\"row_heading level1 row3\" >учёба</th>\n",
       "                        <td id=\"T_5c2c7b20_ad9c_11ea_9e3d_5bde62e03ae7row3_col0\" class=\"data row3 col0\" >2.415320</td>\n",
       "            </tr>\n",
       "            <tr>\n",
       "                                <th id=\"T_5c2c7b20_ad9c_11ea_9e3d_5bde62e03ae7level1_row4\" class=\"row_heading level1 row4\" >окончить</th>\n",
       "                        <td id=\"T_5c2c7b20_ad9c_11ea_9e3d_5bde62e03ae7row4_col0\" class=\"data row4 col0\" >2.100040</td>\n",
       "            </tr>\n",
       "            <tr>\n",
       "                                <th id=\"T_5c2c7b20_ad9c_11ea_9e3d_5bde62e03ae7level1_row5\" class=\"row_heading level1 row5\" >защитить</th>\n",
       "                        <td id=\"T_5c2c7b20_ad9c_11ea_9e3d_5bde62e03ae7row5_col0\" class=\"data row5 col0\" >1.942600</td>\n",
       "            </tr>\n",
       "            <tr>\n",
       "                                <th id=\"T_5c2c7b20_ad9c_11ea_9e3d_5bde62e03ae7level1_row6\" class=\"row_heading level1 row6\" >закончить_университет</th>\n",
       "                        <td id=\"T_5c2c7b20_ad9c_11ea_9e3d_5bde62e03ae7row6_col0\" class=\"data row6 col0\" >1.785330</td>\n",
       "            </tr>\n",
       "            <tr>\n",
       "                                <th id=\"T_5c2c7b20_ad9c_11ea_9e3d_5bde62e03ae7level1_row7\" class=\"row_heading level1 row7\" >профессиональный_рост</th>\n",
       "                        <td id=\"T_5c2c7b20_ad9c_11ea_9e3d_5bde62e03ae7row7_col0\" class=\"data row7 col0\" >1.778720</td>\n",
       "            </tr>\n",
       "            <tr>\n",
       "                                <th id=\"T_5c2c7b20_ad9c_11ea_9e3d_5bde62e03ae7level1_row8\" class=\"row_heading level1 row8\" >докторский</th>\n",
       "                        <td id=\"T_5c2c7b20_ad9c_11ea_9e3d_5bde62e03ae7row8_col0\" class=\"data row8 col0\" >1.706760</td>\n",
       "            </tr>\n",
       "            <tr>\n",
       "                                <th id=\"T_5c2c7b20_ad9c_11ea_9e3d_5bde62e03ae7level1_row9\" class=\"row_heading level1 row9\" >докторский_диссертация</th>\n",
       "                        <td id=\"T_5c2c7b20_ad9c_11ea_9e3d_5bde62e03ae7row9_col0\" class=\"data row9 col0\" >1.549740</td>\n",
       "            </tr>\n",
       "    </tbody></table>"
      ]
     },
     "metadata": {},
     "output_type": "display_data"
    },
    {
     "data": {
      "text/html": [
       "<style  type=\"text/css\" >\n",
       "</style><table id=\"T_5c30de40_ad9c_11ea_9e3d_5bde62e03ae7\" style='display:inline'><thead>    <tr>        <th class=\"blank\" ></th>        <th class=\"blank level0\" ></th>        <th class=\"col_heading level0 col0\" >topic_11</th>    </tr>    <tr>        <th class=\"index_name level0\" >modality</th>        <th class=\"index_name level1\" >token</th>        <th class=\"blank\" ></th>    </tr></thead><tbody>\n",
       "                <tr>\n",
       "                        <th id=\"T_5c30de40_ad9c_11ea_9e3d_5bde62e03ae7level0_row0\" class=\"row_heading level0 row0\" rowspan=10>@info</th>\n",
       "                        <th id=\"T_5c30de40_ad9c_11ea_9e3d_5bde62e03ae7level1_row0\" class=\"row_heading level1 row0\" >&РЕЗУЛЬТАТ_Да,_четко</th>\n",
       "                        <td id=\"T_5c30de40_ad9c_11ea_9e3d_5bde62e03ae7row0_col0\" class=\"data row0 col0\" >10.431650</td>\n",
       "            </tr>\n",
       "            <tr>\n",
       "                                <th id=\"T_5c30de40_ad9c_11ea_9e3d_5bde62e03ae7level1_row1\" class=\"row_heading level1 row1\" >&ПРЕГРАДЫ_есть_преграды</th>\n",
       "                        <td id=\"T_5c30de40_ad9c_11ea_9e3d_5bde62e03ae7row1_col0\" class=\"data row1 col0\" >6.527960</td>\n",
       "            </tr>\n",
       "            <tr>\n",
       "                                <th id=\"T_5c30de40_ad9c_11ea_9e3d_5bde62e03ae7level1_row2\" class=\"row_heading level1 row2\" >&ПЕРВЫЙ_ШАГ_знаю_с_чего_начать</th>\n",
       "                        <td id=\"T_5c30de40_ad9c_11ea_9e3d_5bde62e03ae7row2_col0\" class=\"data row2 col0\" >4.927350</td>\n",
       "            </tr>\n",
       "            <tr>\n",
       "                                <th id=\"T_5c30de40_ad9c_11ea_9e3d_5bde62e03ae7level1_row3\" class=\"row_heading level1 row3\" >&ПРЕГРАДЫ_Не_вижу_преград</th>\n",
       "                        <td id=\"T_5c30de40_ad9c_11ea_9e3d_5bde62e03ae7row3_col0\" class=\"data row3 col0\" >4.721780</td>\n",
       "            </tr>\n",
       "            <tr>\n",
       "                                <th id=\"T_5c30de40_ad9c_11ea_9e3d_5bde62e03ae7level1_row4\" class=\"row_heading level1 row4\" >&ПОДОБЛАСТЬ_ЦЕЛИ_Иностранные_языки</th>\n",
       "                        <td id=\"T_5c30de40_ad9c_11ea_9e3d_5bde62e03ae7row4_col0\" class=\"data row4 col0\" >4.543180</td>\n",
       "            </tr>\n",
       "            <tr>\n",
       "                                <th id=\"T_5c30de40_ad9c_11ea_9e3d_5bde62e03ae7level1_row5\" class=\"row_heading level1 row5\" >&ОБЛАСТЬ_ЦЕЛИ_Иностранные_языки,_гуманитарные_знания_и_навыки</th>\n",
       "                        <td id=\"T_5c30de40_ad9c_11ea_9e3d_5bde62e03ae7row5_col0\" class=\"data row5 col0\" >4.403250</td>\n",
       "            </tr>\n",
       "            <tr>\n",
       "                                <th id=\"T_5c30de40_ad9c_11ea_9e3d_5bde62e03ae7level1_row6\" class=\"row_heading level1 row6\" >&ТИП_ЦЕЛИ_Развить_имеющиеся_знания_и_навыки</th>\n",
       "                        <td id=\"T_5c30de40_ad9c_11ea_9e3d_5bde62e03ae7row6_col0\" class=\"data row6 col0\" >3.962380</td>\n",
       "            </tr>\n",
       "            <tr>\n",
       "                                <th id=\"T_5c30de40_ad9c_11ea_9e3d_5bde62e03ae7level1_row7\" class=\"row_heading level1 row7\" >&ТИП_ЦЕЛИ_другое</th>\n",
       "                        <td id=\"T_5c30de40_ad9c_11ea_9e3d_5bde62e03ae7row7_col0\" class=\"data row7 col0\" >3.480740</td>\n",
       "            </tr>\n",
       "            <tr>\n",
       "                                <th id=\"T_5c30de40_ad9c_11ea_9e3d_5bde62e03ae7level1_row8\" class=\"row_heading level1 row8\" >&ТИП_ЦЕЛИ_Получить_знания_в_новой_области</th>\n",
       "                        <td id=\"T_5c30de40_ad9c_11ea_9e3d_5bde62e03ae7row8_col0\" class=\"data row8 col0\" >3.445750</td>\n",
       "            </tr>\n",
       "            <tr>\n",
       "                                <th id=\"T_5c30de40_ad9c_11ea_9e3d_5bde62e03ae7level1_row9\" class=\"row_heading level1 row9\" >&ТИП_ЦЕЛИ_Приобрести_новые_навыки</th>\n",
       "                        <td id=\"T_5c30de40_ad9c_11ea_9e3d_5bde62e03ae7row9_col0\" class=\"data row9 col0\" >3.227750</td>\n",
       "            </tr>\n",
       "    </tbody></table><style  type=\"text/css\" >\n",
       "</style><table id=\"T_5c328c0e_ad9c_11ea_9e3d_5bde62e03ae7\" style='display:inline'><thead>    <tr>        <th class=\"blank\" ></th>        <th class=\"blank level0\" ></th>        <th class=\"col_heading level0 col0\" >topic_11</th>    </tr>    <tr>        <th class=\"index_name level0\" >modality</th>        <th class=\"index_name level1\" >token</th>        <th class=\"blank\" ></th>    </tr></thead><tbody>\n",
       "                <tr>\n",
       "                        <th id=\"T_5c328c0e_ad9c_11ea_9e3d_5bde62e03ae7level0_row0\" class=\"row_heading level0 row0\" rowspan=10>@ngram</th>\n",
       "                        <th id=\"T_5c328c0e_ad9c_11ea_9e3d_5bde62e03ae7level1_row0\" class=\"row_heading level1 row0\" >язык</th>\n",
       "                        <td id=\"T_5c328c0e_ad9c_11ea_9e3d_5bde62e03ae7row0_col0\" class=\"data row0 col0\" >12.080620</td>\n",
       "            </tr>\n",
       "            <tr>\n",
       "                                <th id=\"T_5c328c0e_ad9c_11ea_9e3d_5bde62e03ae7level1_row1\" class=\"row_heading level1 row1\" >английский</th>\n",
       "                        <td id=\"T_5c328c0e_ad9c_11ea_9e3d_5bde62e03ae7row1_col0\" class=\"data row1 col0\" >8.186220</td>\n",
       "            </tr>\n",
       "            <tr>\n",
       "                                <th id=\"T_5c328c0e_ad9c_11ea_9e3d_5bde62e03ae7level1_row2\" class=\"row_heading level1 row2\" >английский_язык</th>\n",
       "                        <td id=\"T_5c328c0e_ad9c_11ea_9e3d_5bde62e03ae7row2_col0\" class=\"data row2 col0\" >5.406940</td>\n",
       "            </tr>\n",
       "            <tr>\n",
       "                                <th id=\"T_5c328c0e_ad9c_11ea_9e3d_5bde62e03ae7level1_row3\" class=\"row_heading level1 row3\" >выучить</th>\n",
       "                        <td id=\"T_5c328c0e_ad9c_11ea_9e3d_5bde62e03ae7row3_col0\" class=\"data row3 col0\" >5.261060</td>\n",
       "            </tr>\n",
       "            <tr>\n",
       "                                <th id=\"T_5c328c0e_ad9c_11ea_9e3d_5bde62e03ae7level1_row4\" class=\"row_heading level1 row4\" >программирование</th>\n",
       "                        <td id=\"T_5c328c0e_ad9c_11ea_9e3d_5bde62e03ae7row4_col0\" class=\"data row4 col0\" >3.505970</td>\n",
       "            </tr>\n",
       "            <tr>\n",
       "                                <th id=\"T_5c328c0e_ad9c_11ea_9e3d_5bde62e03ae7level1_row5\" class=\"row_heading level1 row5\" >уровень</th>\n",
       "                        <td id=\"T_5c328c0e_ad9c_11ea_9e3d_5bde62e03ae7row5_col0\" class=\"data row5 col0\" >2.374690</td>\n",
       "            </tr>\n",
       "            <tr>\n",
       "                                <th id=\"T_5c328c0e_ad9c_11ea_9e3d_5bde62e03ae7level1_row6\" class=\"row_heading level1 row6\" >выучить_английский</th>\n",
       "                        <td id=\"T_5c328c0e_ad9c_11ea_9e3d_5bde62e03ae7row6_col0\" class=\"data row6 col0\" >1.994910</td>\n",
       "            </tr>\n",
       "            <tr>\n",
       "                                <th id=\"T_5c328c0e_ad9c_11ea_9e3d_5bde62e03ae7level1_row7\" class=\"row_heading level1 row7\" >язык_программирование</th>\n",
       "                        <td id=\"T_5c328c0e_ad9c_11ea_9e3d_5bde62e03ae7row7_col0\" class=\"data row7 col0\" >1.706740</td>\n",
       "            </tr>\n",
       "            <tr>\n",
       "                                <th id=\"T_5c328c0e_ad9c_11ea_9e3d_5bde62e03ae7level1_row8\" class=\"row_heading level1 row8\" >изучение</th>\n",
       "                        <td id=\"T_5c328c0e_ad9c_11ea_9e3d_5bde62e03ae7row8_col0\" class=\"data row8 col0\" >1.667240</td>\n",
       "            </tr>\n",
       "            <tr>\n",
       "                                <th id=\"T_5c328c0e_ad9c_11ea_9e3d_5bde62e03ae7level1_row9\" class=\"row_heading level1 row9\" >повышение_квалификация</th>\n",
       "                        <td id=\"T_5c328c0e_ad9c_11ea_9e3d_5bde62e03ae7row9_col0\" class=\"data row9 col0\" >1.634780</td>\n",
       "            </tr>\n",
       "    </tbody></table>"
      ]
     },
     "metadata": {},
     "output_type": "display_data"
    },
    {
     "data": {
      "text/html": [
       "<style  type=\"text/css\" >\n",
       "</style><table id=\"T_5c36edd0_ad9c_11ea_9e3d_5bde62e03ae7\" style='display:inline'><thead>    <tr>        <th class=\"blank\" ></th>        <th class=\"blank level0\" ></th>        <th class=\"col_heading level0 col0\" >topic_12</th>    </tr>    <tr>        <th class=\"index_name level0\" >modality</th>        <th class=\"index_name level1\" >token</th>        <th class=\"blank\" ></th>    </tr></thead><tbody>\n",
       "                <tr>\n",
       "                        <th id=\"T_5c36edd0_ad9c_11ea_9e3d_5bde62e03ae7level0_row0\" class=\"row_heading level0 row0\" rowspan=10>@info</th>\n",
       "                        <th id=\"T_5c36edd0_ad9c_11ea_9e3d_5bde62e03ae7level1_row0\" class=\"row_heading level1 row0\" >&РЕЗУЛЬТАТ_Да,_четко</th>\n",
       "                        <td id=\"T_5c36edd0_ad9c_11ea_9e3d_5bde62e03ae7row0_col0\" class=\"data row0 col0\" >11.050660</td>\n",
       "            </tr>\n",
       "            <tr>\n",
       "                                <th id=\"T_5c36edd0_ad9c_11ea_9e3d_5bde62e03ae7level1_row1\" class=\"row_heading level1 row1\" >&ПРЕГРАДЫ_Не_вижу_преград</th>\n",
       "                        <td id=\"T_5c36edd0_ad9c_11ea_9e3d_5bde62e03ae7row1_col0\" class=\"data row1 col0\" >7.169730</td>\n",
       "            </tr>\n",
       "            <tr>\n",
       "                                <th id=\"T_5c36edd0_ad9c_11ea_9e3d_5bde62e03ae7level1_row2\" class=\"row_heading level1 row2\" >&ТИП_ЦЕЛИ_другое</th>\n",
       "                        <td id=\"T_5c36edd0_ad9c_11ea_9e3d_5bde62e03ae7row2_col0\" class=\"data row2 col0\" >4.354080</td>\n",
       "            </tr>\n",
       "            <tr>\n",
       "                                <th id=\"T_5c36edd0_ad9c_11ea_9e3d_5bde62e03ae7level1_row3\" class=\"row_heading level1 row3\" >&ОСНОВНОЙ_ВИД_ДЕЙТЕЛЬНОСТИ_Работаю_в_организации,_предприятии</th>\n",
       "                        <td id=\"T_5c36edd0_ad9c_11ea_9e3d_5bde62e03ae7row3_col0\" class=\"data row3 col0\" >4.196100</td>\n",
       "            </tr>\n",
       "            <tr>\n",
       "                                <th id=\"T_5c36edd0_ad9c_11ea_9e3d_5bde62e03ae7level1_row4\" class=\"row_heading level1 row4\" >&ТИП_ЦЕЛИ_Развить_имеющиеся_знания_и_навыки</th>\n",
       "                        <td id=\"T_5c36edd0_ad9c_11ea_9e3d_5bde62e03ae7row4_col0\" class=\"data row4 col0\" >4.066090</td>\n",
       "            </tr>\n",
       "            <tr>\n",
       "                                <th id=\"T_5c36edd0_ad9c_11ea_9e3d_5bde62e03ae7level1_row5\" class=\"row_heading level1 row5\" >&ПЕРВЫЙ_ШАГ_знаю_с_чего_начать</th>\n",
       "                        <td id=\"T_5c36edd0_ad9c_11ea_9e3d_5bde62e03ae7row5_col0\" class=\"data row5 col0\" >3.842900</td>\n",
       "            </tr>\n",
       "            <tr>\n",
       "                                <th id=\"T_5c36edd0_ad9c_11ea_9e3d_5bde62e03ae7level1_row6\" class=\"row_heading level1 row6\" >&ВРЕМЕННЫЕ_ГРАНИЦЫ_Нет_жестких_сроков</th>\n",
       "                        <td id=\"T_5c36edd0_ad9c_11ea_9e3d_5bde62e03ae7row6_col0\" class=\"data row6 col0\" >3.560410</td>\n",
       "            </tr>\n",
       "            <tr>\n",
       "                                <th id=\"T_5c36edd0_ad9c_11ea_9e3d_5bde62e03ae7level1_row7\" class=\"row_heading level1 row7\" >&ТИП_ЦЕЛИ_Приобрести_новые_навыки</th>\n",
       "                        <td id=\"T_5c36edd0_ad9c_11ea_9e3d_5bde62e03ae7row7_col0\" class=\"data row7 col0\" >3.126590</td>\n",
       "            </tr>\n",
       "            <tr>\n",
       "                                <th id=\"T_5c36edd0_ad9c_11ea_9e3d_5bde62e03ae7level1_row8\" class=\"row_heading level1 row8\" >&ТИП_ЦЕЛИ_Получить_знания_в_новой_области</th>\n",
       "                        <td id=\"T_5c36edd0_ad9c_11ea_9e3d_5bde62e03ae7row8_col0\" class=\"data row8 col0\" >2.981260</td>\n",
       "            </tr>\n",
       "            <tr>\n",
       "                                <th id=\"T_5c36edd0_ad9c_11ea_9e3d_5bde62e03ae7level1_row9\" class=\"row_heading level1 row9\" >&ПРЕГРАДЫ_есть_преграды</th>\n",
       "                        <td id=\"T_5c36edd0_ad9c_11ea_9e3d_5bde62e03ae7row9_col0\" class=\"data row9 col0\" >2.952290</td>\n",
       "            </tr>\n",
       "    </tbody></table><style  type=\"text/css\" >\n",
       "</style><table id=\"T_5c37da74_ad9c_11ea_9e3d_5bde62e03ae7\" style='display:inline'><thead>    <tr>        <th class=\"blank\" ></th>        <th class=\"blank level0\" ></th>        <th class=\"col_heading level0 col0\" >topic_12</th>    </tr>    <tr>        <th class=\"index_name level0\" >modality</th>        <th class=\"index_name level1\" >token</th>        <th class=\"blank\" ></th>    </tr></thead><tbody>\n",
       "                <tr>\n",
       "                        <th id=\"T_5c37da74_ad9c_11ea_9e3d_5bde62e03ae7level0_row0\" class=\"row_heading level0 row0\" rowspan=10>@ngram</th>\n",
       "                        <th id=\"T_5c37da74_ad9c_11ea_9e3d_5bde62e03ae7level1_row0\" class=\"row_heading level1 row0\" >повышение</th>\n",
       "                        <td id=\"T_5c37da74_ad9c_11ea_9e3d_5bde62e03ae7row0_col0\" class=\"data row0 col0\" >12.911000</td>\n",
       "            </tr>\n",
       "            <tr>\n",
       "                                <th id=\"T_5c37da74_ad9c_11ea_9e3d_5bde62e03ae7level1_row1\" class=\"row_heading level1 row1\" >уровень</th>\n",
       "                        <td id=\"T_5c37da74_ad9c_11ea_9e3d_5bde62e03ae7row1_col0\" class=\"data row1 col0\" >10.710400</td>\n",
       "            </tr>\n",
       "            <tr>\n",
       "                                <th id=\"T_5c37da74_ad9c_11ea_9e3d_5bde62e03ae7level1_row2\" class=\"row_heading level1 row2\" >профессиональный</th>\n",
       "                        <td id=\"T_5c37da74_ad9c_11ea_9e3d_5bde62e03ae7row2_col0\" class=\"data row2 col0\" >10.594490</td>\n",
       "            </tr>\n",
       "            <tr>\n",
       "                                <th id=\"T_5c37da74_ad9c_11ea_9e3d_5bde62e03ae7level1_row3\" class=\"row_heading level1 row3\" >повысить</th>\n",
       "                        <td id=\"T_5c37da74_ad9c_11ea_9e3d_5bde62e03ae7row3_col0\" class=\"data row3 col0\" >5.530320</td>\n",
       "            </tr>\n",
       "            <tr>\n",
       "                                <th id=\"T_5c37da74_ad9c_11ea_9e3d_5bde62e03ae7level1_row4\" class=\"row_heading level1 row4\" >повышение_уровень</th>\n",
       "                        <td id=\"T_5c37da74_ad9c_11ea_9e3d_5bde62e03ae7row4_col0\" class=\"data row4 col0\" >2.891880</td>\n",
       "            </tr>\n",
       "            <tr>\n",
       "                                <th id=\"T_5c37da74_ad9c_11ea_9e3d_5bde62e03ae7level1_row5\" class=\"row_heading level1 row5\" >квалификация</th>\n",
       "                        <td id=\"T_5c37da74_ad9c_11ea_9e3d_5bde62e03ae7row5_col0\" class=\"data row5 col0\" >2.295470</td>\n",
       "            </tr>\n",
       "            <tr>\n",
       "                                <th id=\"T_5c37da74_ad9c_11ea_9e3d_5bde62e03ae7level1_row6\" class=\"row_heading level1 row6\" >повышение_профессиональный</th>\n",
       "                        <td id=\"T_5c37da74_ad9c_11ea_9e3d_5bde62e03ae7row6_col0\" class=\"data row6 col0\" >2.116890</td>\n",
       "            </tr>\n",
       "            <tr>\n",
       "                                <th id=\"T_5c37da74_ad9c_11ea_9e3d_5bde62e03ae7level1_row7\" class=\"row_heading level1 row7\" >профессиональный_уровень</th>\n",
       "                        <td id=\"T_5c37da74_ad9c_11ea_9e3d_5bde62e03ae7row7_col0\" class=\"data row7 col0\" >1.997930</td>\n",
       "            </tr>\n",
       "            <tr>\n",
       "                                <th id=\"T_5c37da74_ad9c_11ea_9e3d_5bde62e03ae7level1_row8\" class=\"row_heading level1 row8\" >свой</th>\n",
       "                        <td id=\"T_5c37da74_ad9c_11ea_9e3d_5bde62e03ae7row8_col0\" class=\"data row8 col0\" >1.989320</td>\n",
       "            </tr>\n",
       "            <tr>\n",
       "                                <th id=\"T_5c37da74_ad9c_11ea_9e3d_5bde62e03ae7level1_row9\" class=\"row_heading level1 row9\" >уровень_знание</th>\n",
       "                        <td id=\"T_5c37da74_ad9c_11ea_9e3d_5bde62e03ae7row9_col0\" class=\"data row9 col0\" >1.700890</td>\n",
       "            </tr>\n",
       "    </tbody></table>"
      ]
     },
     "metadata": {},
     "output_type": "display_data"
    },
    {
     "data": {
      "text/html": [
       "<style  type=\"text/css\" >\n",
       "</style><table id=\"T_5c3ccb24_ad9c_11ea_9e3d_5bde62e03ae7\" style='display:inline'><thead>    <tr>        <th class=\"blank\" ></th>        <th class=\"blank level0\" ></th>        <th class=\"col_heading level0 col0\" >topic_13</th>    </tr>    <tr>        <th class=\"index_name level0\" >modality</th>        <th class=\"index_name level1\" >token</th>        <th class=\"blank\" ></th>    </tr></thead><tbody>\n",
       "                <tr>\n",
       "                        <th id=\"T_5c3ccb24_ad9c_11ea_9e3d_5bde62e03ae7level0_row0\" class=\"row_heading level0 row0\" rowspan=10>@info</th>\n",
       "                        <th id=\"T_5c3ccb24_ad9c_11ea_9e3d_5bde62e03ae7level1_row0\" class=\"row_heading level1 row0\" >&РЕЗУЛЬТАТ_Да,_четко</th>\n",
       "                        <td id=\"T_5c3ccb24_ad9c_11ea_9e3d_5bde62e03ae7row0_col0\" class=\"data row0 col0\" >7.177650</td>\n",
       "            </tr>\n",
       "            <tr>\n",
       "                                <th id=\"T_5c3ccb24_ad9c_11ea_9e3d_5bde62e03ae7level1_row1\" class=\"row_heading level1 row1\" >&ПРЕГРАДЫ_Не_вижу_преград</th>\n",
       "                        <td id=\"T_5c3ccb24_ad9c_11ea_9e3d_5bde62e03ae7row1_col0\" class=\"data row1 col0\" >4.513140</td>\n",
       "            </tr>\n",
       "            <tr>\n",
       "                                <th id=\"T_5c3ccb24_ad9c_11ea_9e3d_5bde62e03ae7level1_row2\" class=\"row_heading level1 row2\" >&ТИП_ЦЕЛИ_другое</th>\n",
       "                        <td id=\"T_5c3ccb24_ad9c_11ea_9e3d_5bde62e03ae7row2_col0\" class=\"data row2 col0\" >3.787010</td>\n",
       "            </tr>\n",
       "            <tr>\n",
       "                                <th id=\"T_5c3ccb24_ad9c_11ea_9e3d_5bde62e03ae7level1_row3\" class=\"row_heading level1 row3\" >&ПРЕГРАДЫ_есть_преграды</th>\n",
       "                        <td id=\"T_5c3ccb24_ad9c_11ea_9e3d_5bde62e03ae7row3_col0\" class=\"data row3 col0\" >3.622820</td>\n",
       "            </tr>\n",
       "            <tr>\n",
       "                                <th id=\"T_5c3ccb24_ad9c_11ea_9e3d_5bde62e03ae7level1_row4\" class=\"row_heading level1 row4\" >&ПЕРВЫЙ_ШАГ_знаю_с_чего_начать</th>\n",
       "                        <td id=\"T_5c3ccb24_ad9c_11ea_9e3d_5bde62e03ae7row4_col0\" class=\"data row4 col0\" >3.247500</td>\n",
       "            </tr>\n",
       "            <tr>\n",
       "                                <th id=\"T_5c3ccb24_ad9c_11ea_9e3d_5bde62e03ae7level1_row5\" class=\"row_heading level1 row5\" >&ВРЕМЕННЫЕ_ГРАНИЦЫ_Нет_жестких_сроков</th>\n",
       "                        <td id=\"T_5c3ccb24_ad9c_11ea_9e3d_5bde62e03ae7row5_col0\" class=\"data row5 col0\" >3.177210</td>\n",
       "            </tr>\n",
       "            <tr>\n",
       "                                <th id=\"T_5c3ccb24_ad9c_11ea_9e3d_5bde62e03ae7level1_row6\" class=\"row_heading level1 row6\" >&ТИП_ЦЕЛИ_Приобрести_новые_навыки</th>\n",
       "                        <td id=\"T_5c3ccb24_ad9c_11ea_9e3d_5bde62e03ae7row6_col0\" class=\"data row6 col0\" >3.150710</td>\n",
       "            </tr>\n",
       "            <tr>\n",
       "                                <th id=\"T_5c3ccb24_ad9c_11ea_9e3d_5bde62e03ae7level1_row7\" class=\"row_heading level1 row7\" >&ТИП_ЦЕЛИ_Развить_имеющиеся_знания_и_навыки</th>\n",
       "                        <td id=\"T_5c3ccb24_ad9c_11ea_9e3d_5bde62e03ae7row7_col0\" class=\"data row7 col0\" >3.043360</td>\n",
       "            </tr>\n",
       "            <tr>\n",
       "                                <th id=\"T_5c3ccb24_ad9c_11ea_9e3d_5bde62e03ae7level1_row8\" class=\"row_heading level1 row8\" >&ТИП_ЦЕЛИ_Получить_знания_в_новой_области</th>\n",
       "                        <td id=\"T_5c3ccb24_ad9c_11ea_9e3d_5bde62e03ae7row8_col0\" class=\"data row8 col0\" >2.708790</td>\n",
       "            </tr>\n",
       "            <tr>\n",
       "                                <th id=\"T_5c3ccb24_ad9c_11ea_9e3d_5bde62e03ae7level1_row9\" class=\"row_heading level1 row9\" >&ОСНОВНОЙ_ВИД_ДЕЙТЕЛЬНОСТИ_Работаю_в_организации,_предприятии</th>\n",
       "                        <td id=\"T_5c3ccb24_ad9c_11ea_9e3d_5bde62e03ae7row9_col0\" class=\"data row9 col0\" >2.386860</td>\n",
       "            </tr>\n",
       "    </tbody></table><style  type=\"text/css\" >\n",
       "</style><table id=\"T_5c3db250_ad9c_11ea_9e3d_5bde62e03ae7\" style='display:inline'><thead>    <tr>        <th class=\"blank\" ></th>        <th class=\"blank level0\" ></th>        <th class=\"col_heading level0 col0\" >topic_13</th>    </tr>    <tr>        <th class=\"index_name level0\" >modality</th>        <th class=\"index_name level1\" >token</th>        <th class=\"blank\" ></th>    </tr></thead><tbody>\n",
       "                <tr>\n",
       "                        <th id=\"T_5c3db250_ad9c_11ea_9e3d_5bde62e03ae7level0_row0\" class=\"row_heading level0 row0\" rowspan=10>@ngram</th>\n",
       "                        <th id=\"T_5c3db250_ad9c_11ea_9e3d_5bde62e03ae7level1_row0\" class=\"row_heading level1 row0\" >большой</th>\n",
       "                        <td id=\"T_5c3db250_ad9c_11ea_9e3d_5bde62e03ae7row0_col0\" class=\"data row0 col0\" >3.301040</td>\n",
       "            </tr>\n",
       "            <tr>\n",
       "                                <th id=\"T_5c3db250_ad9c_11ea_9e3d_5bde62e03ae7level1_row1\" class=\"row_heading level1 row1\" >деятельность</th>\n",
       "                        <td id=\"T_5c3db250_ad9c_11ea_9e3d_5bde62e03ae7row1_col0\" class=\"data row1 col0\" >3.143570</td>\n",
       "            </tr>\n",
       "            <tr>\n",
       "                                <th id=\"T_5c3db250_ad9c_11ea_9e3d_5bde62e03ae7level1_row2\" class=\"row_heading level1 row2\" >мир</th>\n",
       "                        <td id=\"T_5c3db250_ad9c_11ea_9e3d_5bde62e03ae7row2_col0\" class=\"data row2 col0\" >2.009810</td>\n",
       "            </tr>\n",
       "            <tr>\n",
       "                                <th id=\"T_5c3db250_ad9c_11ea_9e3d_5bde62e03ae7level1_row3\" class=\"row_heading level1 row3\" >познание</th>\n",
       "                        <td id=\"T_5c3db250_ad9c_11ea_9e3d_5bde62e03ae7row3_col0\" class=\"data row3 col0\" >1.963880</td>\n",
       "            </tr>\n",
       "            <tr>\n",
       "                                <th id=\"T_5c3db250_ad9c_11ea_9e3d_5bde62e03ae7level1_row4\" class=\"row_heading level1 row4\" >знать</th>\n",
       "                        <td id=\"T_5c3db250_ad9c_11ea_9e3d_5bde62e03ae7row4_col0\" class=\"data row4 col0\" >1.963830</td>\n",
       "            </tr>\n",
       "            <tr>\n",
       "                                <th id=\"T_5c3db250_ad9c_11ea_9e3d_5bde62e03ae7level1_row5\" class=\"row_heading level1 row5\" >личностный</th>\n",
       "                        <td id=\"T_5c3db250_ad9c_11ea_9e3d_5bde62e03ae7row5_col0\" class=\"data row5 col0\" >1.788440</td>\n",
       "            </tr>\n",
       "            <tr>\n",
       "                                <th id=\"T_5c3db250_ad9c_11ea_9e3d_5bde62e03ae7level1_row6\" class=\"row_heading level1 row6\" >задача</th>\n",
       "                        <td id=\"T_5c3db250_ad9c_11ea_9e3d_5bde62e03ae7row6_col0\" class=\"data row6 col0\" >1.670710</td>\n",
       "            </tr>\n",
       "            <tr>\n",
       "                                <th id=\"T_5c3db250_ad9c_11ea_9e3d_5bde62e03ae7level1_row7\" class=\"row_heading level1 row7\" >собственный</th>\n",
       "                        <td id=\"T_5c3db250_ad9c_11ea_9e3d_5bde62e03ae7row7_col0\" class=\"data row7 col0\" >1.644150</td>\n",
       "            </tr>\n",
       "            <tr>\n",
       "                                <th id=\"T_5c3db250_ad9c_11ea_9e3d_5bde62e03ae7level1_row8\" class=\"row_heading level1 row8\" >решение</th>\n",
       "                        <td id=\"T_5c3db250_ad9c_11ea_9e3d_5bde62e03ae7row8_col0\" class=\"data row8 col0\" >1.379930</td>\n",
       "            </tr>\n",
       "            <tr>\n",
       "                                <th id=\"T_5c3db250_ad9c_11ea_9e3d_5bde62e03ae7level1_row9\" class=\"row_heading level1 row9\" >свой</th>\n",
       "                        <td id=\"T_5c3db250_ad9c_11ea_9e3d_5bde62e03ae7row9_col0\" class=\"data row9 col0\" >1.206300</td>\n",
       "            </tr>\n",
       "    </tbody></table>"
      ]
     },
     "metadata": {},
     "output_type": "display_data"
    },
    {
     "data": {
      "text/html": [
       "<style  type=\"text/css\" >\n",
       "</style><table id=\"T_5c4241d0_ad9c_11ea_9e3d_5bde62e03ae7\" style='display:inline'><thead>    <tr>        <th class=\"blank\" ></th>        <th class=\"blank level0\" ></th>        <th class=\"col_heading level0 col0\" >topic_14</th>    </tr>    <tr>        <th class=\"index_name level0\" >modality</th>        <th class=\"index_name level1\" >token</th>        <th class=\"blank\" ></th>    </tr></thead><tbody>\n",
       "                <tr>\n",
       "                        <th id=\"T_5c4241d0_ad9c_11ea_9e3d_5bde62e03ae7level0_row0\" class=\"row_heading level0 row0\" rowspan=10>@info</th>\n",
       "                        <th id=\"T_5c4241d0_ad9c_11ea_9e3d_5bde62e03ae7level1_row0\" class=\"row_heading level1 row0\" >&РЕЗУЛЬТАТ_Да,_четко</th>\n",
       "                        <td id=\"T_5c4241d0_ad9c_11ea_9e3d_5bde62e03ae7row0_col0\" class=\"data row0 col0\" >8.520890</td>\n",
       "            </tr>\n",
       "            <tr>\n",
       "                                <th id=\"T_5c4241d0_ad9c_11ea_9e3d_5bde62e03ae7level1_row1\" class=\"row_heading level1 row1\" >&ПРЕГРАДЫ_Не_вижу_преград</th>\n",
       "                        <td id=\"T_5c4241d0_ad9c_11ea_9e3d_5bde62e03ae7row1_col0\" class=\"data row1 col0\" >5.104340</td>\n",
       "            </tr>\n",
       "            <tr>\n",
       "                                <th id=\"T_5c4241d0_ad9c_11ea_9e3d_5bde62e03ae7level1_row2\" class=\"row_heading level1 row2\" >&ТИП_ЦЕЛИ_другое</th>\n",
       "                        <td id=\"T_5c4241d0_ad9c_11ea_9e3d_5bde62e03ae7row2_col0\" class=\"data row2 col0\" >3.799510</td>\n",
       "            </tr>\n",
       "            <tr>\n",
       "                                <th id=\"T_5c4241d0_ad9c_11ea_9e3d_5bde62e03ae7level1_row3\" class=\"row_heading level1 row3\" >&ТИП_ЦЕЛИ_Получить_знания_в_новой_области</th>\n",
       "                        <td id=\"T_5c4241d0_ad9c_11ea_9e3d_5bde62e03ae7row3_col0\" class=\"data row3 col0\" >3.644080</td>\n",
       "            </tr>\n",
       "            <tr>\n",
       "                                <th id=\"T_5c4241d0_ad9c_11ea_9e3d_5bde62e03ae7level1_row4\" class=\"row_heading level1 row4\" >&ПРЕГРАДЫ_есть_преграды</th>\n",
       "                        <td id=\"T_5c4241d0_ad9c_11ea_9e3d_5bde62e03ae7row4_col0\" class=\"data row4 col0\" >3.495530</td>\n",
       "            </tr>\n",
       "            <tr>\n",
       "                                <th id=\"T_5c4241d0_ad9c_11ea_9e3d_5bde62e03ae7level1_row5\" class=\"row_heading level1 row5\" >&ТИП_ЦЕЛИ_Приобрести_новые_навыки</th>\n",
       "                        <td id=\"T_5c4241d0_ad9c_11ea_9e3d_5bde62e03ae7row5_col0\" class=\"data row5 col0\" >3.151750</td>\n",
       "            </tr>\n",
       "            <tr>\n",
       "                                <th id=\"T_5c4241d0_ad9c_11ea_9e3d_5bde62e03ae7level1_row6\" class=\"row_heading level1 row6\" >&ВРЕМЕННЫЕ_ГРАНИЦЫ_Нет_жестких_сроков</th>\n",
       "                        <td id=\"T_5c4241d0_ad9c_11ea_9e3d_5bde62e03ae7row6_col0\" class=\"data row6 col0\" >2.994990</td>\n",
       "            </tr>\n",
       "            <tr>\n",
       "                                <th id=\"T_5c4241d0_ad9c_11ea_9e3d_5bde62e03ae7level1_row7\" class=\"row_heading level1 row7\" >&ТИП_ЦЕЛИ_Развить_имеющиеся_знания_и_навыки</th>\n",
       "                        <td id=\"T_5c4241d0_ad9c_11ea_9e3d_5bde62e03ae7row7_col0\" class=\"data row7 col0\" >2.974740</td>\n",
       "            </tr>\n",
       "            <tr>\n",
       "                                <th id=\"T_5c4241d0_ad9c_11ea_9e3d_5bde62e03ae7level1_row8\" class=\"row_heading level1 row8\" >&ОСНОВНОЙ_ВИД_ДЕЙТЕЛЬНОСТИ_Работаю_в_организации,_предприятии</th>\n",
       "                        <td id=\"T_5c4241d0_ad9c_11ea_9e3d_5bde62e03ae7row8_col0\" class=\"data row8 col0\" >2.653190</td>\n",
       "            </tr>\n",
       "            <tr>\n",
       "                                <th id=\"T_5c4241d0_ad9c_11ea_9e3d_5bde62e03ae7level1_row9\" class=\"row_heading level1 row9\" >&ПЕРВЫЙ_ШАГ_знаю_с_чего_начать</th>\n",
       "                        <td id=\"T_5c4241d0_ad9c_11ea_9e3d_5bde62e03ae7row9_col0\" class=\"data row9 col0\" >2.554800</td>\n",
       "            </tr>\n",
       "    </tbody></table><style  type=\"text/css\" >\n",
       "</style><table id=\"T_5c439076_ad9c_11ea_9e3d_5bde62e03ae7\" style='display:inline'><thead>    <tr>        <th class=\"blank\" ></th>        <th class=\"blank level0\" ></th>        <th class=\"col_heading level0 col0\" >topic_14</th>    </tr>    <tr>        <th class=\"index_name level0\" >modality</th>        <th class=\"index_name level1\" >token</th>        <th class=\"blank\" ></th>    </tr></thead><tbody>\n",
       "                <tr>\n",
       "                        <th id=\"T_5c439076_ad9c_11ea_9e3d_5bde62e03ae7level0_row0\" class=\"row_heading level0 row0\" rowspan=10>@ngram</th>\n",
       "                        <th id=\"T_5c439076_ad9c_11ea_9e3d_5bde62e03ae7level1_row0\" class=\"row_heading level1 row0\" >знание</th>\n",
       "                        <td id=\"T_5c439076_ad9c_11ea_9e3d_5bde62e03ae7row0_col0\" class=\"data row0 col0\" >16.883910</td>\n",
       "            </tr>\n",
       "            <tr>\n",
       "                                <th id=\"T_5c439076_ad9c_11ea_9e3d_5bde62e03ae7level1_row1\" class=\"row_heading level1 row1\" >получить</th>\n",
       "                        <td id=\"T_5c439076_ad9c_11ea_9e3d_5bde62e03ae7row1_col0\" class=\"data row1 col0\" >5.667080</td>\n",
       "            </tr>\n",
       "            <tr>\n",
       "                                <th id=\"T_5c439076_ad9c_11ea_9e3d_5bde62e03ae7level1_row2\" class=\"row_heading level1 row2\" >расширение</th>\n",
       "                        <td id=\"T_5c439076_ad9c_11ea_9e3d_5bde62e03ae7row2_col0\" class=\"data row2 col0\" >3.979410</td>\n",
       "            </tr>\n",
       "            <tr>\n",
       "                                <th id=\"T_5c439076_ad9c_11ea_9e3d_5bde62e03ae7level1_row3\" class=\"row_heading level1 row3\" >новое_знание</th>\n",
       "                        <td id=\"T_5c439076_ad9c_11ea_9e3d_5bde62e03ae7row3_col0\" class=\"data row3 col0\" >3.337890</td>\n",
       "            </tr>\n",
       "            <tr>\n",
       "                                <th id=\"T_5c439076_ad9c_11ea_9e3d_5bde62e03ae7level1_row4\" class=\"row_heading level1 row4\" >кругозор</th>\n",
       "                        <td id=\"T_5c439076_ad9c_11ea_9e3d_5bde62e03ae7row4_col0\" class=\"data row4 col0\" >2.814100</td>\n",
       "            </tr>\n",
       "            <tr>\n",
       "                                <th id=\"T_5c439076_ad9c_11ea_9e3d_5bde62e03ae7level1_row5\" class=\"row_heading level1 row5\" >свой</th>\n",
       "                        <td id=\"T_5c439076_ad9c_11ea_9e3d_5bde62e03ae7row5_col0\" class=\"data row5 col0\" >2.555000</td>\n",
       "            </tr>\n",
       "            <tr>\n",
       "                                <th id=\"T_5c439076_ad9c_11ea_9e3d_5bde62e03ae7level1_row6\" class=\"row_heading level1 row6\" >получить_новое</th>\n",
       "                        <td id=\"T_5c439076_ad9c_11ea_9e3d_5bde62e03ae7row6_col0\" class=\"data row6 col0\" >2.117580</td>\n",
       "            </tr>\n",
       "            <tr>\n",
       "                                <th id=\"T_5c439076_ad9c_11ea_9e3d_5bde62e03ae7level1_row7\" class=\"row_heading level1 row7\" >человек</th>\n",
       "                        <td id=\"T_5c439076_ad9c_11ea_9e3d_5bde62e03ae7row7_col0\" class=\"data row7 col0\" >1.988280</td>\n",
       "            </tr>\n",
       "            <tr>\n",
       "                                <th id=\"T_5c439076_ad9c_11ea_9e3d_5bde62e03ae7level1_row8\" class=\"row_heading level1 row8\" >получить_знание</th>\n",
       "                        <td id=\"T_5c439076_ad9c_11ea_9e3d_5bde62e03ae7row8_col0\" class=\"data row8 col0\" >1.654730</td>\n",
       "            </tr>\n",
       "            <tr>\n",
       "                                <th id=\"T_5c439076_ad9c_11ea_9e3d_5bde62e03ae7level1_row9\" class=\"row_heading level1 row9\" >самообразование</th>\n",
       "                        <td id=\"T_5c439076_ad9c_11ea_9e3d_5bde62e03ae7row9_col0\" class=\"data row9 col0\" >1.618550</td>\n",
       "            </tr>\n",
       "    </tbody></table>"
      ]
     },
     "metadata": {},
     "output_type": "display_data"
    }
   ],
   "source": [
    "TopTokensViewer(model=classification_model_topic_model,\n",
    "               class_ids=['@ngram', '@info']).view_from_jupyter()"
   ]
  },
  {
   "cell_type": "code",
   "execution_count": 380,
   "metadata": {},
   "outputs": [
    {
     "data": {
      "text/html": [
       "<style>\n",
       "    div.output_html {\n",
       "        white-space: nowrap;\n",
       "    }\n",
       "    div .output_subarea > pre {\n",
       "        white-space: pre;\n",
       "        word-wrap: normal;\n",
       "    }\n",
       "    div .output_stdout > pre {\n",
       "        white-space: pre-wrap !important;\n",
       "        word-wrap:  break-word !important;\n",
       "    }\n",
       "    </style>"
      ],
      "text/plain": [
       "<IPython.core.display.HTML object>"
      ]
     },
     "metadata": {},
     "output_type": "display_data"
    },
    {
     "data": {
      "application/vnd.jupyter.widget-view+json": {
       "model_id": "",
       "version_major": 2,
       "version_minor": 0
      },
      "text/plain": [
       "HBox(children=(FloatProgress(value=0.0, description='Batch', max=5.0, style=ProgressStyle(description_width='i…"
      ]
     },
     "metadata": {},
     "output_type": "display_data"
    },
    {
     "data": {
      "text/html": [
       "<h1><b>Topic name:</b> topic_0</h1><h3>70</h3>быть конкурентноспособным на рынке труда.<br /><h3>538</h3>Быть конкурентноспособной на рынке труда.<br /><h3>172</h3>найти хорошую высокооплачиваемую работу.<br /><h3>1741</h3>найти достойную работу.<br /><h3>717</h3>Оставаться востребованным специалистом.<br /><h1><b>Topic name:</b> topic_1</h1><h3>4944</h3>Стать профессионалом в своей области.<br /><h3>998</h3>Стать сильным и грамотным руководителем.<br /><h3>2975</h3>Стать министром регионально/краевого правительства.<br /><h3>2976</h3>Стать министром регионально/краевого правительства.<br /><h3>3256</h3>доктор технических наук.<br /><h1><b>Topic name:</b> topic_2</h1><h3>108</h3>Идти в ногу с развитием общества.<br /><h3>2142</h3>Идти в ногу со временем.<br /><h3>3299</h3>Идти в ногу со временем.<br /><h3>1991</h3>идти в ногу со временем.<br /><h3>1151</h3>шагать в ногу со временем.<br /><h1><b>Topic name:</b> topic_3</h1><h3>349</h3>Уметь управлять отделом.<br /><h3>4739</h3>Изучить курс психологии поведения людей.<br /><h3>5300</h3>Прохождение курсов .<br /><h3>1841</h3>Уметь управлять масштабной сетью в компании.<br /><h3>3763</h3>Развить управлченческие навыкы.<br /><h1><b>Topic name:</b> topic_4</h1><h3>2069</h3>Научиться работать с большими данными.<br /><h3>2870</h3>Научиться играть на гитаре как проффессионал.<br /><h3>2014</h3>Научиться писать красивый код.<br /><h3>4151</h3>Освоить методы математического анализа.<br /><h3>1683</h3>Научиться работать с инструментами (Tableau, D3.js) для визуализации данных.<br /><h1><b>Topic name:</b> topic_5</h1><h3>2547</h3>Приобретение новых знаний, умений и навыков .<br /><h3>594</h3>получение новых навыков.<br /><h3>2676</h3>Получение новых навыков.<br /><h3>898</h3>Приобретение новых навыков.<br /><h3>816</h3>приобретение новых навыков .<br /><h1><b>Topic name:</b> topic_6</h1><h3>232</h3>Понимание процессов изменений во внешней среде..<br /><h3>556</h3>Познавать новое и интересное.<br /><h3>1614</h3>Сохранение гибкости и свежести разума путем его снабжения разнообразными инструментами.<br /><h3>1076</h3>Извлечь максимальную информацию для себя с каждой темы.<br /><h3>206</h3>Понимание процессов изменений во внешней среде..<br /><h1><b>Topic name:</b> topic_7</h1><h3>1313</h3>Совершенствоваться в том, что мне нравится и у меня это хорошо получается. Ведь если это<br /> мне нравится и само хорошо получается, то если в этом еще и развиваться, то это<br /> просто бомба!.<br /><h3>1992</h3>Мне нравится развиваться в разных областях.<br /><h3>32</h3>Достижение желаемых целей.<br /><h3>5861</h3>Достижение моих целей, без саморазвития это невозможно.<br /><h3>2002</h3>Мне нравится развиваться в разных областях.<br /><h1><b>Topic name:</b> topic_8</h1><h3>2435</h3>получить высшее экономическое образование.<br /><h3>626</h3>Получить высшее экономическое образование .<br /><h3>3282</h3>Пройти обучение на трекера в первом полугодии 2020 года.<br /><h3>3284</h3>Пройти обучение на трекера в первом полугодии 2020 года.<br /><h3>4185</h3>Получить высшее образование .<br /><h1><b>Topic name:</b> topic_9</h1><h3>4281</h3>Развитие управленческих компетенций.<br /><h3>3243</h3>Развитие профессиональных навыков и компетенций (Business development).<br /><h3>2477</h3>совершенствовать навык публичных выступлений и преодолеть страх перед аудиторией.<br /><h3>958</h3>развитие управленческих навыков.<br /><h3>3800</h3>развитие управленческих навыков.<br /><h1><b>Topic name:</b> topic_10</h1><h3>2513</h3>Закончить диссертационное исследование и успешно защитить докторскую диссертацию.<br /><h3>3353</h3>Подготовка к защите докторской диссертации.<br /><h3>3730</h3>Подготовка и защита докторской диссертации.<br /><h3>4816</h3>Окончить Аспирантуру и защитить КТН.<br /><h3>2407</h3>написать и защитить докторскую диссертацию.<br /><h1><b>Topic name:</b> topic_11</h1><h3>4082</h3>Свободное владение английским языком.<br /><h3>1317</h3>Свободно владеть английским языком.<br /><h3>3197</h3>свободно владеть английским языком.<br /><h3>1838</h3>Преодалеть языковой барьер для общения на английском языке.<br /><h3>2411</h3>свободно разговаривать на английском языке.<br /><h1><b>Topic name:</b> topic_12</h1><h3>4103</h3>систематическое повышения профессионального уровня.<br /><h3>834</h3>Повышение уровня профессионального мастерства .<br /><h3>308</h3>повышение уровня квалификации.<br /><h3>1810</h3>Повшение уровня компетентности и профессионализма.<br /><h3>441</h3>повышение уровня квалификации.<br /><h1><b>Topic name:</b> topic_13</h1><h3>4545</h3>Чем больше знаю я, тем больше знают мои ученики.<br /><h3>1105</h3>Побороть остаток лени, усилить мотивацию .<br /><h3>821</h3>Сохранять темп познания. Остановиться - значит отстать от прогресса.<br /><h3>4599</h3>Ввести следующий 4 источник, на планете..<br /><h3>116</h3>Больше знать и уметь.<br /><h1><b>Topic name:</b> topic_14</h1><h3>4086</h3>расширение кругозора, эрудиции.<br /><h3>2713</h3>Расширение и углубление теоретических знаний.<br /><h3>4242</h3>Углубление и расширение  теоретических знаний.<br /><h3>1322</h3>Совершенствование, расширение своих знаний.<br /><h3>3345</h3>Расширение теоретических знаний.<br />"
      ]
     },
     "metadata": {},
     "output_type": "display_data"
    }
   ],
   "source": [
    "TopDocumentsViewer(model=classification_model_topic_model, dataset=data, max_top_number=5).view_from_jupyter()"
   ]
  },
  {
   "cell_type": "markdown",
   "metadata": {},
   "source": [
    "Добавим регуляризаторы. Теперь это ARTM, а не PLSA."
   ]
  },
  {
   "cell_type": "code",
   "execution_count": 381,
   "metadata": {},
   "outputs": [],
   "source": [
    "classification_model.regularizers.add(artm.SmoothSparsePhiRegularizer(name='SparsePhiRegularizer_ngram',\n",
    "                                                       class_ids=['@ngram'],\n",
    "                                                       dictionary=dictionary))\n",
    "classification_model.regularizers.add(artm.SmoothSparsePhiRegularizer(name='SparsePhiRegularizer_info',\n",
    "                                                       class_ids=['@info'],\n",
    "                                                       dictionary=dictionary))\n",
    "classification_model.regularizers.add(artm.SmoothSparsePhiRegularizer(name='SparsePhiRegularizer_specificity',\n",
    "                                                       class_ids=['@specificity'],\n",
    "                                                       dictionary=dictionary))\n",
    "classification_model.regularizers.add(artm.SmoothSparseThetaRegularizer(name='SparseThetaRegularizer'))\n",
    "classification_model.regularizers.add(artm.DecorrelatorPhiRegularizer(name='DecorrelatorPhiRegularizer_ngram',\n",
    "                                                       class_ids=['@ngram']))\n",
    "classification_model.regularizers.add(artm.DecorrelatorPhiRegularizer(name='DecorrelatorPhiRegularizer_info',\n",
    "                                                       class_ids=['@info']))"
   ]
  },
  {
   "cell_type": "code",
   "execution_count": 382,
   "metadata": {
    "scrolled": true
   },
   "outputs": [
    {
     "data": {
      "application/vnd.jupyter.widget-view+json": {
       "model_id": "f66adf1d605f4ebfa5888528c4e181fd",
       "version_major": 2,
       "version_minor": 0
      },
      "text/plain": [
       "HBox(children=(FloatProgress(value=0.0, description='Pass', max=15.0, style=ProgressStyle(description_width='i…"
      ]
     },
     "metadata": {},
     "output_type": "display_data"
    },
    {
     "data": {
      "application/vnd.jupyter.widget-view+json": {
       "model_id": "",
       "version_major": 2,
       "version_minor": 0
      },
      "text/plain": [
       "HBox(children=(FloatProgress(value=0.0, description='Batch', max=1.0, style=ProgressStyle(description_width='i…"
      ]
     },
     "metadata": {},
     "output_type": "display_data"
    },
    {
     "data": {
      "application/vnd.jupyter.widget-view+json": {
       "model_id": "",
       "version_major": 2,
       "version_minor": 0
      },
      "text/plain": [
       "HBox(children=(FloatProgress(value=0.0, description='Batch', max=1.0, style=ProgressStyle(description_width='i…"
      ]
     },
     "metadata": {},
     "output_type": "display_data"
    },
    {
     "data": {
      "application/vnd.jupyter.widget-view+json": {
       "model_id": "",
       "version_major": 2,
       "version_minor": 0
      },
      "text/plain": [
       "HBox(children=(FloatProgress(value=0.0, description='Batch', max=1.0, style=ProgressStyle(description_width='i…"
      ]
     },
     "metadata": {},
     "output_type": "display_data"
    },
    {
     "data": {
      "application/vnd.jupyter.widget-view+json": {
       "model_id": "",
       "version_major": 2,
       "version_minor": 0
      },
      "text/plain": [
       "HBox(children=(FloatProgress(value=0.0, description='Batch', max=1.0, style=ProgressStyle(description_width='i…"
      ]
     },
     "metadata": {},
     "output_type": "display_data"
    },
    {
     "data": {
      "application/vnd.jupyter.widget-view+json": {
       "model_id": "",
       "version_major": 2,
       "version_minor": 0
      },
      "text/plain": [
       "HBox(children=(FloatProgress(value=0.0, description='Batch', max=1.0, style=ProgressStyle(description_width='i…"
      ]
     },
     "metadata": {},
     "output_type": "display_data"
    },
    {
     "data": {
      "application/vnd.jupyter.widget-view+json": {
       "model_id": "",
       "version_major": 2,
       "version_minor": 0
      },
      "text/plain": [
       "HBox(children=(FloatProgress(value=0.0, description='Batch', max=1.0, style=ProgressStyle(description_width='i…"
      ]
     },
     "metadata": {},
     "output_type": "display_data"
    },
    {
     "data": {
      "application/vnd.jupyter.widget-view+json": {
       "model_id": "",
       "version_major": 2,
       "version_minor": 0
      },
      "text/plain": [
       "HBox(children=(FloatProgress(value=0.0, description='Batch', max=1.0, style=ProgressStyle(description_width='i…"
      ]
     },
     "metadata": {},
     "output_type": "display_data"
    },
    {
     "data": {
      "application/vnd.jupyter.widget-view+json": {
       "model_id": "",
       "version_major": 2,
       "version_minor": 0
      },
      "text/plain": [
       "HBox(children=(FloatProgress(value=0.0, description='Batch', max=1.0, style=ProgressStyle(description_width='i…"
      ]
     },
     "metadata": {},
     "output_type": "display_data"
    },
    {
     "data": {
      "application/vnd.jupyter.widget-view+json": {
       "model_id": "",
       "version_major": 2,
       "version_minor": 0
      },
      "text/plain": [
       "HBox(children=(FloatProgress(value=0.0, description='Batch', max=1.0, style=ProgressStyle(description_width='i…"
      ]
     },
     "metadata": {},
     "output_type": "display_data"
    },
    {
     "data": {
      "application/vnd.jupyter.widget-view+json": {
       "model_id": "",
       "version_major": 2,
       "version_minor": 0
      },
      "text/plain": [
       "HBox(children=(FloatProgress(value=0.0, description='Batch', max=1.0, style=ProgressStyle(description_width='i…"
      ]
     },
     "metadata": {},
     "output_type": "display_data"
    },
    {
     "data": {
      "application/vnd.jupyter.widget-view+json": {
       "model_id": "",
       "version_major": 2,
       "version_minor": 0
      },
      "text/plain": [
       "HBox(children=(FloatProgress(value=0.0, description='Batch', max=1.0, style=ProgressStyle(description_width='i…"
      ]
     },
     "metadata": {},
     "output_type": "display_data"
    },
    {
     "data": {
      "application/vnd.jupyter.widget-view+json": {
       "model_id": "",
       "version_major": 2,
       "version_minor": 0
      },
      "text/plain": [
       "HBox(children=(FloatProgress(value=0.0, description='Batch', max=1.0, style=ProgressStyle(description_width='i…"
      ]
     },
     "metadata": {},
     "output_type": "display_data"
    },
    {
     "data": {
      "application/vnd.jupyter.widget-view+json": {
       "model_id": "",
       "version_major": 2,
       "version_minor": 0
      },
      "text/plain": [
       "HBox(children=(FloatProgress(value=0.0, description='Batch', max=1.0, style=ProgressStyle(description_width='i…"
      ]
     },
     "metadata": {},
     "output_type": "display_data"
    },
    {
     "data": {
      "application/vnd.jupyter.widget-view+json": {
       "model_id": "",
       "version_major": 2,
       "version_minor": 0
      },
      "text/plain": [
       "HBox(children=(FloatProgress(value=0.0, description='Batch', max=1.0, style=ProgressStyle(description_width='i…"
      ]
     },
     "metadata": {},
     "output_type": "display_data"
    },
    {
     "data": {
      "application/vnd.jupyter.widget-view+json": {
       "model_id": "",
       "version_major": 2,
       "version_minor": 0
      },
      "text/plain": [
       "HBox(children=(FloatProgress(value=0.0, description='Batch', max=1.0, style=ProgressStyle(description_width='i…"
      ]
     },
     "metadata": {},
     "output_type": "display_data"
    },
    {
     "name": "stdout",
     "output_type": "stream",
     "text": [
      "\n"
     ]
    }
   ],
   "source": [
    "classification_model.regularizers['SparsePhiRegularizer_ngram'].tau = -100\n",
    "classification_model.regularizers['SparsePhiRegularizer_info'].tau = -1\n",
    "classification_model.regularizers['SparsePhiRegularizer_specificity'].tau = -10\n",
    "classification_model.regularizers['SparseThetaRegularizer'].tau = -10\n",
    "classification_model.regularizers['DecorrelatorPhiRegularizer_ngram'].tau = 10000\n",
    "classification_model.regularizers['DecorrelatorPhiRegularizer_info'].tau = 1\n",
    "\n",
    "classification_model.fit_offline(batch_vectorizer=train_batch_vectorizer, num_collection_passes=15)"
   ]
  },
  {
   "cell_type": "code",
   "execution_count": 383,
   "metadata": {
    "scrolled": false
   },
   "outputs": [
    {
     "data": {
      "image/png": "[encoded data removed]",
      "text/plain": [
       "<Figure size 432x288 with 1 Axes>"
      ]
     },
     "metadata": {
      "needs_background": "light"
     },
     "output_type": "display_data"
    }
   ],
   "source": [
    "perplexity_plot_ngram(classification_model)"
   ]
  },
  {
   "cell_type": "code",
   "execution_count": 384,
   "metadata": {},
   "outputs": [
    {
     "data": {
      "text/html": [
       "<div>\n",
       "<style scoped>\n",
       "    .dataframe tbody tr th:only-of-type {\n",
       "        vertical-align: middle;\n",
       "    }\n",
       "\n",
       "    .dataframe tbody tr th {\n",
       "        vertical-align: top;\n",
       "    }\n",
       "\n",
       "    .dataframe thead th {\n",
       "        text-align: right;\n",
       "    }\n",
       "</style>\n",
       "<table border=\"1\" class=\"dataframe\">\n",
       "  <thead>\n",
       "    <tr style=\"text-align: right;\">\n",
       "      <th></th>\n",
       "      <th></th>\n",
       "      <th>last_value</th>\n",
       "    </tr>\n",
       "    <tr>\n",
       "      <th>model_id</th>\n",
       "      <th>score_name</th>\n",
       "      <th></th>\n",
       "    </tr>\n",
       "  </thead>\n",
       "  <tbody>\n",
       "    <tr>\n",
       "      <th rowspan=\"8\" valign=\"top\">--20h36m09s_13d06m2020y---</th>\n",
       "      <th>PerlexityScore_ngram</th>\n",
       "      <td>173.817</td>\n",
       "    </tr>\n",
       "    <tr>\n",
       "      <th>PerlexityScore_info</th>\n",
       "      <td>41.5337</td>\n",
       "    </tr>\n",
       "    <tr>\n",
       "      <th>SparsityPhiScore_ngram</th>\n",
       "      <td>0.910006</td>\n",
       "    </tr>\n",
       "    <tr>\n",
       "      <th>SparsityPhiScore_info</th>\n",
       "      <td>0.227139</td>\n",
       "    </tr>\n",
       "    <tr>\n",
       "      <th>SparsityThetaScore</th>\n",
       "      <td>0.902441</td>\n",
       "    </tr>\n",
       "    <tr>\n",
       "      <th>TopTokensScore.average_coherence</th>\n",
       "      <td>0</td>\n",
       "    </tr>\n",
       "    <tr>\n",
       "      <th>TopTokensScore.num_tokens</th>\n",
       "      <td>150</td>\n",
       "    </tr>\n",
       "    <tr>\n",
       "      <th>BackgroundTokensRatioScore</th>\n",
       "      <td>0</td>\n",
       "    </tr>\n",
       "  </tbody>\n",
       "</table>\n",
       "</div>"
      ],
      "text/plain": [
       "                                                            last_value\n",
       "model_id                   score_name                                 \n",
       "--20h36m09s_13d06m2020y--- PerlexityScore_ngram                173.817\n",
       "                           PerlexityScore_info                 41.5337\n",
       "                           SparsityPhiScore_ngram             0.910006\n",
       "                           SparsityPhiScore_info              0.227139\n",
       "                           SparsityThetaScore                 0.902441\n",
       "                           TopTokensScore.average_coherence          0\n",
       "                           TopTokensScore.num_tokens               150\n",
       "                           BackgroundTokensRatioScore                0"
      ]
     },
     "execution_count": 384,
     "metadata": {},
     "output_type": "execute_result"
    }
   ],
   "source": [
    "classification_model_topic_model = TopicModel(classification_model)\n",
    "classification_model_topic_model.describe_scores()"
   ]
  },
  {
   "cell_type": "code",
   "execution_count": 385,
   "metadata": {},
   "outputs": [
    {
     "data": {
      "application/vnd.jupyter.widget-view+json": {
       "model_id": "",
       "version_major": 2,
       "version_minor": 0
      },
      "text/plain": [
       "HBox(children=(FloatProgress(value=0.0, description='Batch', max=1.0, style=ProgressStyle(description_width='i…"
      ]
     },
     "metadata": {},
     "output_type": "display_data"
    },
    {
     "data": {
      "application/vnd.jupyter.widget-view+json": {
       "model_id": "",
       "version_major": 2,
       "version_minor": 0
      },
      "text/plain": [
       "HBox(children=(FloatProgress(value=0.0, description='Batch', max=1.0, style=ProgressStyle(description_width='i…"
      ]
     },
     "metadata": {},
     "output_type": "display_data"
    }
   ],
   "source": [
    "batch_vectorizer_test=artm.BatchVectorizer(data_path='vw_documents_test.txt',\n",
    "                                           data_format='vowpal_wabbit',\n",
    "                                           batch_size=10000,\n",
    "                                           target_folder='./test_batches')\n",
    "\n",
    "dictionary_test = batch_vectorizer_test.dictionary\n",
    "\n",
    "theta_test = classification_model.transform(batch_vectorizer=batch_vectorizer_test)\n",
    "\n",
    "p_cd_test = classification_model.transform(batch_vectorizer=batch_vectorizer_test,\n",
    "                            predict_class_id='@specificity')\n",
    "\n",
    "y_pred_proba_artm = p_cd_test.loc['1']\n",
    "fpr, tpr, thresholds = roc_curve(y_test, y_pred_proba_artm)\n",
    "\n",
    "dist_min = math.inf\n",
    "for x, y, treshold in zip(fpr, tpr, thresholds):\n",
    "    if euclidean([0, 1], [x, y]) < dist_min:\n",
    "        T_artm = treshold\n",
    "        dist_min = euclidean([0, 1], [x, y])\n",
    "        x_artm = x\n",
    "        y_artm = y\n",
    "\n",
    "y_pred_labels_artm = []\n",
    "for document in p_cd_test.columns:\n",
    "    if p_cd_test[document].loc['1'] >= T_artm:\n",
    "        y_pred_labels_artm.append(1)\n",
    "    else:\n",
    "        y_pred_labels_artm.append(0)\n",
    "        \n",
    "p_cd_test.columns = sorted(list(map(lambda item: int(item), p_cd_test.columns)))\n",
    "\n",
    "roc_auc = roc_auc_score(y_test, y_pred_proba_artm)\n",
    "precision = precision_score(y_test, y_pred_labels_artm)\n",
    "recall = recall_score(y_test, y_pred_labels_artm)\n",
    "accuracy = accuracy_score(y_test, y_pred_labels_artm)\n",
    "\n",
    "baseline_results['ARTM_classification'] = [roc_auc, precision, recall, accuracy]"
   ]
  },
  {
   "cell_type": "code",
   "execution_count": 386,
   "metadata": {
    "scrolled": true
   },
   "outputs": [
    {
     "data": {
      "text/html": [
       "<div>\n",
       "<style scoped>\n",
       "    .dataframe tbody tr th:only-of-type {\n",
       "        vertical-align: middle;\n",
       "    }\n",
       "\n",
       "    .dataframe tbody tr th {\n",
       "        vertical-align: top;\n",
       "    }\n",
       "\n",
       "    .dataframe thead th {\n",
       "        text-align: right;\n",
       "    }\n",
       "</style>\n",
       "<table border=\"1\" class=\"dataframe\">\n",
       "  <thead>\n",
       "    <tr style=\"text-align: right;\">\n",
       "      <th></th>\n",
       "      <th>MultinomialNB</th>\n",
       "      <th>LogRegression_CV</th>\n",
       "      <th>ARTM_classification</th>\n",
       "    </tr>\n",
       "  </thead>\n",
       "  <tbody>\n",
       "    <tr>\n",
       "      <th>roc_auc</th>\n",
       "      <td>0.853594</td>\n",
       "      <td>0.853779</td>\n",
       "      <td>0.787452</td>\n",
       "    </tr>\n",
       "    <tr>\n",
       "      <th>precision</th>\n",
       "      <td>0.788851</td>\n",
       "      <td>0.792321</td>\n",
       "      <td>0.705634</td>\n",
       "    </tr>\n",
       "    <tr>\n",
       "      <th>recall</th>\n",
       "      <td>0.702256</td>\n",
       "      <td>0.682707</td>\n",
       "      <td>0.753383</td>\n",
       "    </tr>\n",
       "    <tr>\n",
       "      <th>accuracy</th>\n",
       "      <td>0.782784</td>\n",
       "      <td>0.778077</td>\n",
       "      <td>0.749159</td>\n",
       "    </tr>\n",
       "  </tbody>\n",
       "</table>\n",
       "</div>"
      ],
      "text/plain": [
       "           MultinomialNB  LogRegression_CV  ARTM_classification\n",
       "roc_auc         0.853594          0.853779             0.787452\n",
       "precision       0.788851          0.792321             0.705634\n",
       "recall          0.702256          0.682707             0.753383\n",
       "accuracy        0.782784          0.778077             0.749159"
      ]
     },
     "execution_count": 386,
     "metadata": {},
     "output_type": "execute_result"
    }
   ],
   "source": [
    "baseline_results"
   ]
  },
  {
   "cell_type": "code",
   "execution_count": 387,
   "metadata": {},
   "outputs": [],
   "source": [
    "fpr, tpr, thresholds = roc_curve(y_test_count_vect, y_pred_proba_count_vect)\n",
    "dist_min = math.inf\n",
    "for x, y, treshold in zip(fpr, tpr, thresholds):\n",
    "    if euclidean([0, 1], [x, y]) < dist_min:\n",
    "        T_count_vect = treshold\n",
    "        dist_min = euclidean([0, 1], [x, y])\n",
    "        x_count_vect = x\n",
    "        y_count_vect = y\n",
    "        \n",
    "fpr, tpr, thresholds = roc_curve(y_test_count_vect, y_pred_proba_mnb)\n",
    "dist_min = math.inf\n",
    "for x, y, treshold in zip(fpr, tpr, thresholds):\n",
    "    if euclidean([0, 1], [x, y]) < dist_min:\n",
    "        T_count_vect = treshold\n",
    "        dist_min = euclidean([0, 1], [x, y])\n",
    "        x_mnb = x\n",
    "        y_mnb = y\n",
    "\n",
    "fpr, tpr, thresholds = roc_curve(y_test_Tfidf, y_pred_proba_Tfidf)\n",
    "dist_min = math.inf\n",
    "for x, y, treshold in zip(fpr, tpr, thresholds):\n",
    "    if euclidean([0, 1], [x, y]) < dist_min:\n",
    "        T_Tfidf = treshold\n",
    "        dist_min = euclidean([0, 1], [x, y])\n",
    "        x_Tfidf = x\n",
    "        y_Tfidf = y"
   ]
  },
  {
   "cell_type": "code",
   "execution_count": 96,
   "metadata": {
    "scrolled": false
   },
   "outputs": [
    {
     "data": {
      "text/plain": [
       "[-0.1, 1.1, -0.1, 1.1]"
      ]
     },
     "execution_count": 96,
     "metadata": {},
     "output_type": "execute_result"
    },
    {
     "data": {
      "image/png": "[encoded data removed]",
      "text/plain": [
       "<Figure size 1080x360 with 1 Axes>"
      ]
     },
     "metadata": {
      "needs_background": "light"
     },
     "output_type": "display_data"
    }
   ],
   "source": [
    "plt.figure(figsize=(15, 5))\n",
    "plt.subplot(1, 3, 1)\n",
    "aucs = \"\"\n",
    "for x, y, actual, predicted, descr in zip([x_artm, x_count_vect, x_Tfidf],\n",
    "                                    [y_artm, y_count_vect, y_Tfidf],\n",
    "                                    [y_test, y_test_count_vect, y_test_Tfidf],\n",
    "                                    [y_pred_proba_artm, y_pred_proba_count_vect, y_pred_proba_Tfidf],\n",
    "                                    ['ARTM classification', 'CountVectorizer', 'Tfidf']):\n",
    "    fpr, tpr, thr = roc_curve(actual, predicted)\n",
    "    plt.plot(fpr, tpr, label=descr)\n",
    "    plt.scatter(x, y)\n",
    "    aucs += descr + \":%3f\"%roc_auc_score(actual, predicted) + \" \"\n",
    "plt.xlabel(\"false positive rate\")\n",
    "plt.ylabel(\"true positive rate\")\n",
    "plt.legend(loc=4)\n",
    "plt.axis([-0.1, 1.1, -0.1, 1.1])"
   ]
  },
  {
   "cell_type": "code",
   "execution_count": 391,
   "metadata": {},
   "outputs": [
    {
     "data": {
      "image/png": "[encoded data removed]",
      "text/plain": [
       "<Figure size 345.6x345.6 with 1 Axes>"
      ]
     },
     "metadata": {
      "needs_background": "light"
     },
     "output_type": "display_data"
    }
   ],
   "source": [
    "fig, ax = plt.subplots(figsize=[4.8, 4.8])\n",
    "for x, y, actual, predicted, descr in zip([x_mnb, x_artm, x_count_vect],\n",
    "                                    [y_mnb, y_artm, y_count_vect],\n",
    "                                    [y_test_count_vect, y_test, y_test_count_vect],\n",
    "                                    [y_pred_proba_mnb, y_pred_proba_artm, y_pred_proba_count_vect],\n",
    "                                    ['MultinomialNB', 'ARTM classification', 'CountVectorizer']):\n",
    "    fpr, tpr, thr = roc_curve(actual, predicted)\n",
    "    ax.plot(fpr, tpr, label=descr)\n",
    "    ax.scatter(x, y)\n",
    "ax.set_xlabel(\"false positive rate\")\n",
    "ax.set_ylabel(\"true positive rate\")\n",
    "ax.legend(loc=4)\n",
    "ax.grid(axis = 'both')\n",
    "ax.axis([-0.1, 1.1, -0.1, 1.1])\n",
    "fig.savefig('./images/baseline ROC кривая.pdf')\n",
    "fig.savefig('./images/baseline ROC кривая.png')"
   ]
  },
  {
   "cell_type": "code",
   "execution_count": null,
   "metadata": {},
   "outputs": [],
   "source": []
  }
 ],
 "metadata": {
  "kernelspec": {
   "display_name": "Python 3",
   "language": "python",
   "name": "python3"
  },
  "language_info": {
   "codemirror_mode": {
    "name": "ipython",
    "version": 3
   },
   "file_extension": ".py",
   "mimetype": "text/x-python",
   "name": "python",
   "nbconvert_exporter": "python",
   "pygments_lexer": "ipython3",
   "version": "3.7.4"
  }
 },
 "nbformat": 4,
 "nbformat_minor": 2
}
